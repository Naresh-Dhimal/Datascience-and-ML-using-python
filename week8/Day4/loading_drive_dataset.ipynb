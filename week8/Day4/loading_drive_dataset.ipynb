{
 "cells": [
  {
   "cell_type": "markdown",
   "id": "3f11083b-fb6a-45d8-8198-02da62330f60",
   "metadata": {},
   "source": [
    "# How to load Data using Google Drive Link in Jupyter Notebook\n",
    "Here is a basic overview of how to load data from a Google Drive link in Jupyter Notebook or Google Colab:"
   ]
  },
  {
   "cell_type": "markdown",
   "id": "e221dc9f-0e81-4c82-a75e-d90c933b161c",
   "metadata": {},
   "source": [
    "## Step 1 : Copy the Sharable URL of your Data"
   ]
  },
  {
   "cell_type": "code",
   "execution_count": 1,
   "id": "a9240f94-b3a9-4423-9393-f7f153535ac3",
   "metadata": {},
   "outputs": [],
   "source": [
    "dataset_url =\"https://drive.google.com/file/d/13h_KKOWhwdxeK4gAmKap1CGsDQHDkZ2u/view?usp=drive_link\""
   ]
  },
  {
   "cell_type": "markdown",
   "id": "533d5fcf-8780-4301-ba95-fb03b149c3ba",
   "metadata": {},
   "source": [
    "## Step 2 : Save the ID of your Data"
   ]
  },
  {
   "cell_type": "code",
   "execution_count": 2,
   "id": "d02211d3-a96b-49fa-9ab3-3614d06a4494",
   "metadata": {},
   "outputs": [],
   "source": [
    "dataset_url =\"https://drive.google.com/file/d/13h_KKOWhwdxeK4gAmKap1CGsDQHDkZ2u/view?usp=drive_link\"\n",
    "data_id = \"13h_KKOWhwdxeK4gAmKap1CGsDQHDkZ2u\""
   ]
  },
  {
   "cell_type": "markdown",
   "id": "f7b79cce-cb7b-46a8-8c0f-996222cc4b2d",
   "metadata": {},
   "source": [
    "## Step 3 : Paste the ID\n",
    "* https://drive.google.com/uc?export=download&id=ID_Of_Your_Data"
   ]
  },
  {
   "cell_type": "code",
   "execution_count": 3,
   "id": "9b72cd3c-3178-4328-9779-6faf2c5d1493",
   "metadata": {},
   "outputs": [],
   "source": [
    "dataset_url = \"https://drive.google.com/uc?export=download&id=13h_KKOWhwdxeK4gAmKap1CGsDQHDkZ2u\""
   ]
  },
  {
   "cell_type": "markdown",
   "id": "439bf851-345e-4dde-a49d-fc68868ab271",
   "metadata": {},
   "source": [
    "## Reference:\n",
    "Here is reference:  [Link](https://anandacdr.medium.com/how-to-load-data-using-google-drive-link-in-jupyter-notebook-google-colab-etc-8346b688dcda)"
   ]
  },
  {
   "cell_type": "code",
   "execution_count": null,
   "id": "7fa7c2f0-7a29-41f2-875c-1318a36f125f",
   "metadata": {},
   "outputs": [],
   "source": []
  }
 ],
 "metadata": {
  "kernelspec": {
   "display_name": "Python 3 (ipykernel)",
   "language": "python",
   "name": "python3"
  },
  "language_info": {
   "codemirror_mode": {
    "name": "ipython",
    "version": 3
   },
   "file_extension": ".py",
   "mimetype": "text/x-python",
   "name": "python",
   "nbconvert_exporter": "python",
   "pygments_lexer": "ipython3",
   "version": "3.11.1"
  }
 },
 "nbformat": 4,
 "nbformat_minor": 5
}

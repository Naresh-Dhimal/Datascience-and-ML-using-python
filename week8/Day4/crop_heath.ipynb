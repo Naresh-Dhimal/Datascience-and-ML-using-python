{
 "cells": [
  {
   "cell_type": "markdown",
   "id": "6604001b-3ffe-4851-86e4-58621e24a17d",
   "metadata": {},
   "source": [
    "# Data Ingestion"
   ]
  },
  {
   "cell_type": "code",
   "execution_count": 222,
   "id": "e66d2036-43e9-4fa1-92b1-b7902dad541b",
   "metadata": {},
   "outputs": [],
   "source": [
    "import gdown"
   ]
  },
  {
   "cell_type": "markdown",
   "id": "eb6def90-bffe-4d44-80aa-6b0c94b96de3",
   "metadata": {},
   "source": [
    "# Downloading dataset from drive"
   ]
  },
  {
   "cell_type": "code",
   "execution_count": 223,
   "id": "c3b52dea-7e6d-4afe-a00f-8aa1f5468121",
   "metadata": {},
   "outputs": [],
   "source": [
    "dataset_url = \"https://drive.google.com/uc?export=download&id=1igwnF7UazJnk4b-Vebh1uH25nWGjWowa\"\n",
    "filename_train = \"crop_health_train_data.csv\""
   ]
  },
  {
   "cell_type": "code",
   "execution_count": 224,
   "id": "cfa06d5b-67c2-4e18-816d-9701aff41a93",
   "metadata": {},
   "outputs": [
    {
     "name": "stderr",
     "output_type": "stream",
     "text": [
      "Downloading...\n",
      "From: https://drive.google.com/uc?export=download&id=1igwnF7UazJnk4b-Vebh1uH25nWGjWowa\n",
      "To: G:\\DataScience and Ml using Python\\week8\\Day4\\crop_health_train_data.csv\n",
      "100%|█████████████████████████████████████████████████████████████████████████████| 2.91M/2.91M [00:00<00:00, 3.46MB/s]\n"
     ]
    },
    {
     "data": {
      "text/plain": [
       "'crop_health_train_data.csv'"
      ]
     },
     "execution_count": 224,
     "metadata": {},
     "output_type": "execute_result"
    }
   ],
   "source": [
    "gdown.download(dataset_url, filename_train)"
   ]
  },
  {
   "cell_type": "markdown",
   "id": "ccd454d8-8193-49a5-ba41-7389ee7e4a81",
   "metadata": {},
   "source": [
    "# Importing dataset"
   ]
  },
  {
   "cell_type": "code",
   "execution_count": 225,
   "id": "29cabe95-a9d0-490c-adba-67ae1a1f1677",
   "metadata": {},
   "outputs": [
    {
     "data": {
      "text/html": [
       "<div>\n",
       "<style scoped>\n",
       "    .dataframe tbody tr th:only-of-type {\n",
       "        vertical-align: middle;\n",
       "    }\n",
       "\n",
       "    .dataframe tbody tr th {\n",
       "        vertical-align: top;\n",
       "    }\n",
       "\n",
       "    .dataframe thead th {\n",
       "        text-align: right;\n",
       "    }\n",
       "</style>\n",
       "<table border=\"1\" class=\"dataframe\">\n",
       "  <thead>\n",
       "    <tr style=\"text-align: right;\">\n",
       "      <th></th>\n",
       "      <th>ID</th>\n",
       "      <th>Estimated_Insects_Count</th>\n",
       "      <th>Crop_Type</th>\n",
       "      <th>Soil_Type</th>\n",
       "      <th>Pesticide_Use_Category</th>\n",
       "      <th>Number_Doses_Week</th>\n",
       "      <th>Number_Weeks_Used</th>\n",
       "      <th>Number_Weeks_Quit</th>\n",
       "      <th>Season</th>\n",
       "      <th>Crop_Damage</th>\n",
       "    </tr>\n",
       "  </thead>\n",
       "  <tbody>\n",
       "    <tr>\n",
       "      <th>0</th>\n",
       "      <td>F00000001</td>\n",
       "      <td>188</td>\n",
       "      <td>1</td>\n",
       "      <td>0</td>\n",
       "      <td>1</td>\n",
       "      <td>0</td>\n",
       "      <td>0.0</td>\n",
       "      <td>0</td>\n",
       "      <td>1</td>\n",
       "      <td>0</td>\n",
       "    </tr>\n",
       "    <tr>\n",
       "      <th>1</th>\n",
       "      <td>F00000003</td>\n",
       "      <td>209</td>\n",
       "      <td>1</td>\n",
       "      <td>0</td>\n",
       "      <td>1</td>\n",
       "      <td>0</td>\n",
       "      <td>0.0</td>\n",
       "      <td>0</td>\n",
       "      <td>2</td>\n",
       "      <td>1</td>\n",
       "    </tr>\n",
       "    <tr>\n",
       "      <th>2</th>\n",
       "      <td>F00000004</td>\n",
       "      <td>257</td>\n",
       "      <td>1</td>\n",
       "      <td>0</td>\n",
       "      <td>1</td>\n",
       "      <td>0</td>\n",
       "      <td>0.0</td>\n",
       "      <td>0</td>\n",
       "      <td>2</td>\n",
       "      <td>1</td>\n",
       "    </tr>\n",
       "    <tr>\n",
       "      <th>3</th>\n",
       "      <td>F00000005</td>\n",
       "      <td>257</td>\n",
       "      <td>1</td>\n",
       "      <td>1</td>\n",
       "      <td>1</td>\n",
       "      <td>0</td>\n",
       "      <td>0.0</td>\n",
       "      <td>0</td>\n",
       "      <td>2</td>\n",
       "      <td>1</td>\n",
       "    </tr>\n",
       "    <tr>\n",
       "      <th>4</th>\n",
       "      <td>F00000006</td>\n",
       "      <td>342</td>\n",
       "      <td>1</td>\n",
       "      <td>0</td>\n",
       "      <td>1</td>\n",
       "      <td>0</td>\n",
       "      <td>0.0</td>\n",
       "      <td>0</td>\n",
       "      <td>2</td>\n",
       "      <td>1</td>\n",
       "    </tr>\n",
       "  </tbody>\n",
       "</table>\n",
       "</div>"
      ],
      "text/plain": [
       "          ID  Estimated_Insects_Count  Crop_Type  Soil_Type  \\\n",
       "0  F00000001                      188          1          0   \n",
       "1  F00000003                      209          1          0   \n",
       "2  F00000004                      257          1          0   \n",
       "3  F00000005                      257          1          1   \n",
       "4  F00000006                      342          1          0   \n",
       "\n",
       "   Pesticide_Use_Category  Number_Doses_Week  Number_Weeks_Used  \\\n",
       "0                       1                  0                0.0   \n",
       "1                       1                  0                0.0   \n",
       "2                       1                  0                0.0   \n",
       "3                       1                  0                0.0   \n",
       "4                       1                  0                0.0   \n",
       "\n",
       "   Number_Weeks_Quit  Season  Crop_Damage  \n",
       "0                  0       1            0  \n",
       "1                  0       2            1  \n",
       "2                  0       2            1  \n",
       "3                  0       2            1  \n",
       "4                  0       2            1  "
      ]
     },
     "execution_count": 225,
     "metadata": {},
     "output_type": "execute_result"
    }
   ],
   "source": [
    "train_df = pd.read_csv(filename_train)\n",
    "train_df.head()"
   ]
  },
  {
   "cell_type": "markdown",
   "id": "2f6d19e1-7120-43bd-ae73-00670b6e8d90",
   "metadata": {},
   "source": [
    "## About dataset"
   ]
  },
  {
   "cell_type": "code",
   "execution_count": null,
   "id": "f4b6e2a2-88e9-4b37-ac58-7c311ac690f3",
   "metadata": {},
   "outputs": [],
   "source": []
  },
  {
   "cell_type": "markdown",
   "id": "f9da2541-b3f2-4643-b298-8d0b9f549fa6",
   "metadata": {},
   "source": [
    "## Importingimportant libraries for this project"
   ]
  },
  {
   "cell_type": "code",
   "execution_count": 226,
   "id": "66eefb8f-2f37-4c63-92e8-bb8d4f069d34",
   "metadata": {},
   "outputs": [],
   "source": [
    "import numpy as np   # for numerical operation\n",
    "import pandas as pd    # for data analysis\n",
    "import matplotlib.pyplot as plt    # data visualization\n",
    "import seaborn as sns    # data visualization"
   ]
  },
  {
   "cell_type": "markdown",
   "id": "50bb0505-adcb-4090-a4c4-ce1d568878e5",
   "metadata": {},
   "source": [
    "# Data Profiling and Inspection"
   ]
  },
  {
   "cell_type": "markdown",
   "id": "d331d52b-b4a9-4f8d-9bff-7600a07ac37e",
   "metadata": {},
   "source": [
    "#### Dtypes"
   ]
  },
  {
   "cell_type": "code",
   "execution_count": 227,
   "id": "8edad583-7428-4802-acc7-42d994bd0387",
   "metadata": {},
   "outputs": [
    {
     "data": {
      "text/plain": [
       "ID                          object\n",
       "Estimated_Insects_Count      int64\n",
       "Crop_Type                    int64\n",
       "Soil_Type                    int64\n",
       "Pesticide_Use_Category       int64\n",
       "Number_Doses_Week            int64\n",
       "Number_Weeks_Used          float64\n",
       "Number_Weeks_Quit            int64\n",
       "Season                       int64\n",
       "Crop_Damage                  int64\n",
       "dtype: object"
      ]
     },
     "execution_count": 227,
     "metadata": {},
     "output_type": "execute_result"
    }
   ],
   "source": [
    "# checking the type of data in dataset\n",
    "train_df.dtypes"
   ]
  },
  {
   "cell_type": "markdown",
   "id": "9e45cd73-e1e0-41a1-8213-0e2d7ecd35b8",
   "metadata": {},
   "source": [
    "* Here data type in this dataset are object, integer and floalt"
   ]
  },
  {
   "cell_type": "markdown",
   "id": "294b4ddc-a235-44df-a9bd-15fa7c5f2ecb",
   "metadata": {},
   "source": [
    "#### Descritive statistics "
   ]
  },
  {
   "cell_type": "code",
   "execution_count": 228,
   "id": "22f0c365-40a2-433b-a502-9bdf416ec964",
   "metadata": {},
   "outputs": [
    {
     "data": {
      "text/html": [
       "<div>\n",
       "<style scoped>\n",
       "    .dataframe tbody tr th:only-of-type {\n",
       "        vertical-align: middle;\n",
       "    }\n",
       "\n",
       "    .dataframe tbody tr th {\n",
       "        vertical-align: top;\n",
       "    }\n",
       "\n",
       "    .dataframe thead th {\n",
       "        text-align: right;\n",
       "    }\n",
       "</style>\n",
       "<table border=\"1\" class=\"dataframe\">\n",
       "  <thead>\n",
       "    <tr style=\"text-align: right;\">\n",
       "      <th></th>\n",
       "      <th>Estimated_Insects_Count</th>\n",
       "      <th>Crop_Type</th>\n",
       "      <th>Soil_Type</th>\n",
       "      <th>Pesticide_Use_Category</th>\n",
       "      <th>Number_Doses_Week</th>\n",
       "      <th>Number_Weeks_Used</th>\n",
       "      <th>Number_Weeks_Quit</th>\n",
       "      <th>Season</th>\n",
       "      <th>Crop_Damage</th>\n",
       "    </tr>\n",
       "  </thead>\n",
       "  <tbody>\n",
       "    <tr>\n",
       "      <th>count</th>\n",
       "      <td>88858.000000</td>\n",
       "      <td>88858.000000</td>\n",
       "      <td>88858.000000</td>\n",
       "      <td>88858.000000</td>\n",
       "      <td>88858.000000</td>\n",
       "      <td>79858.000000</td>\n",
       "      <td>88858.000000</td>\n",
       "      <td>88858.000000</td>\n",
       "      <td>88858.000000</td>\n",
       "    </tr>\n",
       "    <tr>\n",
       "      <th>mean</th>\n",
       "      <td>1399.012210</td>\n",
       "      <td>0.284375</td>\n",
       "      <td>0.458417</td>\n",
       "      <td>2.264186</td>\n",
       "      <td>25.849952</td>\n",
       "      <td>28.623970</td>\n",
       "      <td>9.589986</td>\n",
       "      <td>1.896959</td>\n",
       "      <td>0.190562</td>\n",
       "    </tr>\n",
       "    <tr>\n",
       "      <th>std</th>\n",
       "      <td>849.048781</td>\n",
       "      <td>0.451119</td>\n",
       "      <td>0.498271</td>\n",
       "      <td>0.461772</td>\n",
       "      <td>15.554428</td>\n",
       "      <td>12.391881</td>\n",
       "      <td>9.900631</td>\n",
       "      <td>0.701322</td>\n",
       "      <td>0.454215</td>\n",
       "    </tr>\n",
       "    <tr>\n",
       "      <th>min</th>\n",
       "      <td>150.000000</td>\n",
       "      <td>0.000000</td>\n",
       "      <td>0.000000</td>\n",
       "      <td>1.000000</td>\n",
       "      <td>0.000000</td>\n",
       "      <td>0.000000</td>\n",
       "      <td>0.000000</td>\n",
       "      <td>1.000000</td>\n",
       "      <td>0.000000</td>\n",
       "    </tr>\n",
       "    <tr>\n",
       "      <th>25%</th>\n",
       "      <td>731.000000</td>\n",
       "      <td>0.000000</td>\n",
       "      <td>0.000000</td>\n",
       "      <td>2.000000</td>\n",
       "      <td>15.000000</td>\n",
       "      <td>20.000000</td>\n",
       "      <td>0.000000</td>\n",
       "      <td>1.000000</td>\n",
       "      <td>0.000000</td>\n",
       "    </tr>\n",
       "    <tr>\n",
       "      <th>50%</th>\n",
       "      <td>1212.000000</td>\n",
       "      <td>0.000000</td>\n",
       "      <td>0.000000</td>\n",
       "      <td>2.000000</td>\n",
       "      <td>20.000000</td>\n",
       "      <td>28.000000</td>\n",
       "      <td>7.000000</td>\n",
       "      <td>2.000000</td>\n",
       "      <td>0.000000</td>\n",
       "    </tr>\n",
       "    <tr>\n",
       "      <th>75%</th>\n",
       "      <td>1898.000000</td>\n",
       "      <td>1.000000</td>\n",
       "      <td>1.000000</td>\n",
       "      <td>3.000000</td>\n",
       "      <td>40.000000</td>\n",
       "      <td>37.000000</td>\n",
       "      <td>16.000000</td>\n",
       "      <td>2.000000</td>\n",
       "      <td>0.000000</td>\n",
       "    </tr>\n",
       "    <tr>\n",
       "      <th>max</th>\n",
       "      <td>4097.000000</td>\n",
       "      <td>1.000000</td>\n",
       "      <td>1.000000</td>\n",
       "      <td>3.000000</td>\n",
       "      <td>95.000000</td>\n",
       "      <td>67.000000</td>\n",
       "      <td>50.000000</td>\n",
       "      <td>3.000000</td>\n",
       "      <td>2.000000</td>\n",
       "    </tr>\n",
       "  </tbody>\n",
       "</table>\n",
       "</div>"
      ],
      "text/plain": [
       "       Estimated_Insects_Count     Crop_Type     Soil_Type  \\\n",
       "count             88858.000000  88858.000000  88858.000000   \n",
       "mean               1399.012210      0.284375      0.458417   \n",
       "std                 849.048781      0.451119      0.498271   \n",
       "min                 150.000000      0.000000      0.000000   \n",
       "25%                 731.000000      0.000000      0.000000   \n",
       "50%                1212.000000      0.000000      0.000000   \n",
       "75%                1898.000000      1.000000      1.000000   \n",
       "max                4097.000000      1.000000      1.000000   \n",
       "\n",
       "       Pesticide_Use_Category  Number_Doses_Week  Number_Weeks_Used  \\\n",
       "count            88858.000000       88858.000000       79858.000000   \n",
       "mean                 2.264186          25.849952          28.623970   \n",
       "std                  0.461772          15.554428          12.391881   \n",
       "min                  1.000000           0.000000           0.000000   \n",
       "25%                  2.000000          15.000000          20.000000   \n",
       "50%                  2.000000          20.000000          28.000000   \n",
       "75%                  3.000000          40.000000          37.000000   \n",
       "max                  3.000000          95.000000          67.000000   \n",
       "\n",
       "       Number_Weeks_Quit        Season   Crop_Damage  \n",
       "count       88858.000000  88858.000000  88858.000000  \n",
       "mean            9.589986      1.896959      0.190562  \n",
       "std             9.900631      0.701322      0.454215  \n",
       "min             0.000000      1.000000      0.000000  \n",
       "25%             0.000000      1.000000      0.000000  \n",
       "50%             7.000000      2.000000      0.000000  \n",
       "75%            16.000000      2.000000      0.000000  \n",
       "max            50.000000      3.000000      2.000000  "
      ]
     },
     "execution_count": 228,
     "metadata": {},
     "output_type": "execute_result"
    }
   ],
   "source": [
    "train_df.describe()   # for numerical data"
   ]
  },
  {
   "cell_type": "markdown",
   "id": "1afdaf29-93a5-4075-9a0b-b6c422151041",
   "metadata": {},
   "source": [
    "##### From above descritive statistics \n",
    "1. Estimated_Insects_Count :\n",
    "    * Mean of Estimated_Insects_Count is 1399.01\n",
    "    * Standard Deviation is 849.048781\n",
    "    * Minimum value in Estimated_Insects_Count is 150\n",
    "    * Maximum value in Estimated_Insects_Count is 4097\n",
    "    * 731.000000 data falls under the 25% \n",
    "    * 1898.000000 data falls under the 75%\n",
    "2. Number_Doses_Week :\n",
    "    * Mean of Number_Doses_Week is 25.849952\n",
    "    * Standard Deviation is 15.554428\n",
    "    * Minimum value in Number_Doses_Week is 0\n",
    "    * Maximum value in Number_Doses_Week is 95\n",
    "    * 15 data falls under the 25% \n",
    "    * 40 data falls under the 75%\n",
    "3. As you can see, almost all the values of Crop_Type, Soil_Type seems to be either a \"0\" or a \"1\". So it is better to treat it as a categorical value rather than a numerical value. \n",
    "4. As you can see, almost all the values of Pesticide_Use_Category, Season seems to be either a \"1\" or a \"2\" or a \"3\". So it is better to treat it as a categorical value rather than a numerical value. "
   ]
  },
  {
   "cell_type": "markdown",
   "id": "c33bcc8a-1d53-4f3c-a12f-b78565ac5fa9",
   "metadata": {},
   "source": [
    "#### Shape of dataset"
   ]
  },
  {
   "cell_type": "code",
   "execution_count": 229,
   "id": "20cefffa-eb21-4374-80e8-8bba19793a36",
   "metadata": {},
   "outputs": [
    {
     "data": {
      "text/plain": [
       "(88858, 10)"
      ]
     },
     "execution_count": 229,
     "metadata": {},
     "output_type": "execute_result"
    }
   ],
   "source": [
    "train_df.shape"
   ]
  },
  {
   "cell_type": "markdown",
   "id": "52ddbea6-3e79-4c36-bce3-f0216e4addcf",
   "metadata": {},
   "source": [
    "* Shape of data is (88858, 10) which mean total number of rows is 88858 and columns is 10"
   ]
  },
  {
   "cell_type": "markdown",
   "id": "e1dfd083-8b1c-414c-bc7c-7d1419ddfc0b",
   "metadata": {},
   "source": [
    "#### Overall information about dataset"
   ]
  },
  {
   "cell_type": "code",
   "execution_count": 230,
   "id": "6d8d7f59-db30-4021-835a-5400023f7f7a",
   "metadata": {},
   "outputs": [
    {
     "name": "stdout",
     "output_type": "stream",
     "text": [
      "<class 'pandas.core.frame.DataFrame'>\n",
      "RangeIndex: 88858 entries, 0 to 88857\n",
      "Data columns (total 10 columns):\n",
      " #   Column                   Non-Null Count  Dtype  \n",
      "---  ------                   --------------  -----  \n",
      " 0   ID                       88858 non-null  object \n",
      " 1   Estimated_Insects_Count  88858 non-null  int64  \n",
      " 2   Crop_Type                88858 non-null  int64  \n",
      " 3   Soil_Type                88858 non-null  int64  \n",
      " 4   Pesticide_Use_Category   88858 non-null  int64  \n",
      " 5   Number_Doses_Week        88858 non-null  int64  \n",
      " 6   Number_Weeks_Used        79858 non-null  float64\n",
      " 7   Number_Weeks_Quit        88858 non-null  int64  \n",
      " 8   Season                   88858 non-null  int64  \n",
      " 9   Crop_Damage              88858 non-null  int64  \n",
      "dtypes: float64(1), int64(8), object(1)\n",
      "memory usage: 6.8+ MB\n"
     ]
    }
   ],
   "source": [
    "train_df.info()"
   ]
  },
  {
   "cell_type": "markdown",
   "id": "4f1ab833-14a8-43ae-a09c-900a966279db",
   "metadata": {},
   "source": [
    "##### <b>From above overall information </b>\n",
    "* total number of columns in this dataset is 10\n",
    "* total number of entries(rows) in this dataset is 88858\n",
    "* Number_Weeks_Used has 79858 non null data remianing are null"
   ]
  },
  {
   "cell_type": "markdown",
   "id": "df3d1bcc-3aa1-45ff-badb-219fa0959ca3",
   "metadata": {},
   "source": [
    "#### Checking missing data\n",
    "* using .isna() methods"
   ]
  },
  {
   "cell_type": "code",
   "execution_count": 231,
   "id": "4618afdd-02e8-4db0-99a1-e3083e8dc772",
   "metadata": {},
   "outputs": [
    {
     "data": {
      "text/html": [
       "<div>\n",
       "<style scoped>\n",
       "    .dataframe tbody tr th:only-of-type {\n",
       "        vertical-align: middle;\n",
       "    }\n",
       "\n",
       "    .dataframe tbody tr th {\n",
       "        vertical-align: top;\n",
       "    }\n",
       "\n",
       "    .dataframe thead th {\n",
       "        text-align: right;\n",
       "    }\n",
       "</style>\n",
       "<table border=\"1\" class=\"dataframe\">\n",
       "  <thead>\n",
       "    <tr style=\"text-align: right;\">\n",
       "      <th></th>\n",
       "      <th>ID</th>\n",
       "      <th>Estimated_Insects_Count</th>\n",
       "      <th>Crop_Type</th>\n",
       "      <th>Soil_Type</th>\n",
       "      <th>Pesticide_Use_Category</th>\n",
       "      <th>Number_Doses_Week</th>\n",
       "      <th>Number_Weeks_Used</th>\n",
       "      <th>Number_Weeks_Quit</th>\n",
       "      <th>Season</th>\n",
       "      <th>Crop_Damage</th>\n",
       "    </tr>\n",
       "  </thead>\n",
       "  <tbody>\n",
       "    <tr>\n",
       "      <th>0</th>\n",
       "      <td>False</td>\n",
       "      <td>False</td>\n",
       "      <td>False</td>\n",
       "      <td>False</td>\n",
       "      <td>False</td>\n",
       "      <td>False</td>\n",
       "      <td>False</td>\n",
       "      <td>False</td>\n",
       "      <td>False</td>\n",
       "      <td>False</td>\n",
       "    </tr>\n",
       "    <tr>\n",
       "      <th>1</th>\n",
       "      <td>False</td>\n",
       "      <td>False</td>\n",
       "      <td>False</td>\n",
       "      <td>False</td>\n",
       "      <td>False</td>\n",
       "      <td>False</td>\n",
       "      <td>False</td>\n",
       "      <td>False</td>\n",
       "      <td>False</td>\n",
       "      <td>False</td>\n",
       "    </tr>\n",
       "    <tr>\n",
       "      <th>2</th>\n",
       "      <td>False</td>\n",
       "      <td>False</td>\n",
       "      <td>False</td>\n",
       "      <td>False</td>\n",
       "      <td>False</td>\n",
       "      <td>False</td>\n",
       "      <td>False</td>\n",
       "      <td>False</td>\n",
       "      <td>False</td>\n",
       "      <td>False</td>\n",
       "    </tr>\n",
       "    <tr>\n",
       "      <th>3</th>\n",
       "      <td>False</td>\n",
       "      <td>False</td>\n",
       "      <td>False</td>\n",
       "      <td>False</td>\n",
       "      <td>False</td>\n",
       "      <td>False</td>\n",
       "      <td>False</td>\n",
       "      <td>False</td>\n",
       "      <td>False</td>\n",
       "      <td>False</td>\n",
       "    </tr>\n",
       "    <tr>\n",
       "      <th>4</th>\n",
       "      <td>False</td>\n",
       "      <td>False</td>\n",
       "      <td>False</td>\n",
       "      <td>False</td>\n",
       "      <td>False</td>\n",
       "      <td>False</td>\n",
       "      <td>False</td>\n",
       "      <td>False</td>\n",
       "      <td>False</td>\n",
       "      <td>False</td>\n",
       "    </tr>\n",
       "    <tr>\n",
       "      <th>...</th>\n",
       "      <td>...</td>\n",
       "      <td>...</td>\n",
       "      <td>...</td>\n",
       "      <td>...</td>\n",
       "      <td>...</td>\n",
       "      <td>...</td>\n",
       "      <td>...</td>\n",
       "      <td>...</td>\n",
       "      <td>...</td>\n",
       "      <td>...</td>\n",
       "    </tr>\n",
       "    <tr>\n",
       "      <th>88853</th>\n",
       "      <td>False</td>\n",
       "      <td>False</td>\n",
       "      <td>False</td>\n",
       "      <td>False</td>\n",
       "      <td>False</td>\n",
       "      <td>False</td>\n",
       "      <td>False</td>\n",
       "      <td>False</td>\n",
       "      <td>False</td>\n",
       "      <td>False</td>\n",
       "    </tr>\n",
       "    <tr>\n",
       "      <th>88854</th>\n",
       "      <td>False</td>\n",
       "      <td>False</td>\n",
       "      <td>False</td>\n",
       "      <td>False</td>\n",
       "      <td>False</td>\n",
       "      <td>False</td>\n",
       "      <td>False</td>\n",
       "      <td>False</td>\n",
       "      <td>False</td>\n",
       "      <td>False</td>\n",
       "    </tr>\n",
       "    <tr>\n",
       "      <th>88855</th>\n",
       "      <td>False</td>\n",
       "      <td>False</td>\n",
       "      <td>False</td>\n",
       "      <td>False</td>\n",
       "      <td>False</td>\n",
       "      <td>False</td>\n",
       "      <td>False</td>\n",
       "      <td>False</td>\n",
       "      <td>False</td>\n",
       "      <td>False</td>\n",
       "    </tr>\n",
       "    <tr>\n",
       "      <th>88856</th>\n",
       "      <td>False</td>\n",
       "      <td>False</td>\n",
       "      <td>False</td>\n",
       "      <td>False</td>\n",
       "      <td>False</td>\n",
       "      <td>False</td>\n",
       "      <td>False</td>\n",
       "      <td>False</td>\n",
       "      <td>False</td>\n",
       "      <td>False</td>\n",
       "    </tr>\n",
       "    <tr>\n",
       "      <th>88857</th>\n",
       "      <td>False</td>\n",
       "      <td>False</td>\n",
       "      <td>False</td>\n",
       "      <td>False</td>\n",
       "      <td>False</td>\n",
       "      <td>False</td>\n",
       "      <td>False</td>\n",
       "      <td>False</td>\n",
       "      <td>False</td>\n",
       "      <td>False</td>\n",
       "    </tr>\n",
       "  </tbody>\n",
       "</table>\n",
       "<p>88858 rows × 10 columns</p>\n",
       "</div>"
      ],
      "text/plain": [
       "          ID  Estimated_Insects_Count  Crop_Type  Soil_Type  \\\n",
       "0      False                    False      False      False   \n",
       "1      False                    False      False      False   \n",
       "2      False                    False      False      False   \n",
       "3      False                    False      False      False   \n",
       "4      False                    False      False      False   \n",
       "...      ...                      ...        ...        ...   \n",
       "88853  False                    False      False      False   \n",
       "88854  False                    False      False      False   \n",
       "88855  False                    False      False      False   \n",
       "88856  False                    False      False      False   \n",
       "88857  False                    False      False      False   \n",
       "\n",
       "       Pesticide_Use_Category  Number_Doses_Week  Number_Weeks_Used  \\\n",
       "0                       False              False              False   \n",
       "1                       False              False              False   \n",
       "2                       False              False              False   \n",
       "3                       False              False              False   \n",
       "4                       False              False              False   \n",
       "...                       ...                ...                ...   \n",
       "88853                   False              False              False   \n",
       "88854                   False              False              False   \n",
       "88855                   False              False              False   \n",
       "88856                   False              False              False   \n",
       "88857                   False              False              False   \n",
       "\n",
       "       Number_Weeks_Quit  Season  Crop_Damage  \n",
       "0                  False   False        False  \n",
       "1                  False   False        False  \n",
       "2                  False   False        False  \n",
       "3                  False   False        False  \n",
       "4                  False   False        False  \n",
       "...                  ...     ...          ...  \n",
       "88853              False   False        False  \n",
       "88854              False   False        False  \n",
       "88855              False   False        False  \n",
       "88856              False   False        False  \n",
       "88857              False   False        False  \n",
       "\n",
       "[88858 rows x 10 columns]"
      ]
     },
     "execution_count": 231,
     "metadata": {},
     "output_type": "execute_result"
    }
   ],
   "source": [
    "train_df.isna()"
   ]
  },
  {
   "cell_type": "markdown",
   "id": "c3271b8e-515d-4ef7-958d-3277f52db815",
   "metadata": {},
   "source": [
    "#### Get total missing values in each column "
   ]
  },
  {
   "cell_type": "code",
   "execution_count": 232,
   "id": "d959bc04-bb75-4067-aef6-389ecc029ea2",
   "metadata": {},
   "outputs": [
    {
     "data": {
      "text/plain": [
       "ID                            0\n",
       "Estimated_Insects_Count       0\n",
       "Crop_Type                     0\n",
       "Soil_Type                     0\n",
       "Pesticide_Use_Category        0\n",
       "Number_Doses_Week             0\n",
       "Number_Weeks_Used          9000\n",
       "Number_Weeks_Quit             0\n",
       "Season                        0\n",
       "Crop_Damage                   0\n",
       "dtype: int64"
      ]
     },
     "execution_count": 232,
     "metadata": {},
     "output_type": "execute_result"
    }
   ],
   "source": [
    "train_df.isna().sum()"
   ]
  },
  {
   "cell_type": "markdown",
   "id": "30135444-546d-4bc1-8a1b-d3e21699b2fe",
   "metadata": {},
   "source": [
    "* From above  observation Number_Weeks_Used  has 9000 missing data"
   ]
  },
  {
   "cell_type": "markdown",
   "id": "69b6ee60-2025-4831-880d-00afef10a9c2",
   "metadata": {},
   "source": [
    "#### Missing data of Number_Weeks_Used in percentage"
   ]
  },
  {
   "cell_type": "code",
   "execution_count": 233,
   "id": "102b5413-044c-4509-b5b2-d6aeb0a862ca",
   "metadata": {},
   "outputs": [
    {
     "data": {
      "text/plain": [
       "10.128519660582052"
      ]
     },
     "execution_count": 233,
     "metadata": {},
     "output_type": "execute_result"
    }
   ],
   "source": [
    "train_df.Number_Weeks_Used.isna().sum() / len(train_df.Number_Weeks_Used) * 100"
   ]
  },
  {
   "cell_type": "markdown",
   "id": "db353e96-b27c-4ff0-b700-72925fd4f07d",
   "metadata": {},
   "source": [
    "* In this dataset 10% of data is missing in Number_Weeks_Used columns        "
   ]
  },
  {
   "cell_type": "markdown",
   "id": "5353001c-e08b-473d-a3d7-c76a19655ede",
   "metadata": {},
   "source": [
    "#### Visualizing missing data"
   ]
  },
  {
   "cell_type": "code",
   "execution_count": null,
   "id": "2c8accd4-3738-4456-9d28-5c85b40a74ab",
   "metadata": {},
   "outputs": [],
   "source": [
    "plt.figure(figsize=(10,10))\n",
    "plt.title(\"Visualizing Missing Values\")\n",
    "sns.heatmap(train_df.isna().transpose(),cmap=\"YlGnBu\",  # Set a yellow -> green -> blue color gradient\n",
    "    cbar_kws={\"label\": \"Missing Data\"})\n",
    "plt.show()"
   ]
  },
  {
   "cell_type": "markdown",
   "id": "31c8cb2f-cf01-4389-bc9a-5ab4b2c10e73",
   "metadata": {},
   "source": [
    "* From above observation the missing data has no any pattern so data are randomly missing."
   ]
  },
  {
   "cell_type": "markdown",
   "id": "7eea2ace-0031-4bd9-a536-a32ab041bb6d",
   "metadata": {},
   "source": [
    "#### Exploratory Data Analysis\n",
    "* EDA is an approach of analyzing data sets to summarize their main characteristics"
   ]
  },
  {
   "cell_type": "markdown",
   "id": "51f5563c-2471-4464-939b-d9063209324a",
   "metadata": {},
   "source": [
    "### Features Analysis"
   ]
  },
  {
   "cell_type": "markdown",
   "id": "50fd6d9b-9543-495f-8290-5fa3d1eaa983",
   "metadata": {},
   "source": [
    "##### <b>Univariate Analysis</b>"
   ]
  },
  {
   "cell_type": "code",
   "execution_count": null,
   "id": "9b46e066-3d2f-43b3-948f-a9bab9d912bb",
   "metadata": {},
   "outputs": [],
   "source": [
    "train_df.head(3)"
   ]
  },
  {
   "cell_type": "markdown",
   "id": "b50e9c33-ee88-44d5-a738-55b1e0e0acef",
   "metadata": {},
   "source": [
    "#### Categorical Data Analysis"
   ]
  },
  {
   "cell_type": "markdown",
   "id": "0faac97c-60d3-497f-a647-d3425622fda4",
   "metadata": {},
   "source": [
    "<b>1.</b> As you can see, almost all the values of Crop_Type, Soil_Type seems to be either a \"0\" or a \"1\". So it is better to treat it as a categorical value rather than a numerical value. Let's perform categorical analysis."
   ]
  },
  {
   "cell_type": "markdown",
   "id": "633c82b4-9ff4-42a5-a35f-2acb7ece119e",
   "metadata": {},
   "source": [
    "#### Crop_Type"
   ]
  },
  {
   "cell_type": "code",
   "execution_count": null,
   "id": "5ba16da8-ac3b-4cc1-94f0-5708db322d58",
   "metadata": {},
   "outputs": [],
   "source": [
    "plt.figure(figsize=(8,8))\n",
    "plt.title(\"Distribution of Soil_Type\")\n",
    "sns.countplot(x=\"Crop_Type\",data=train_df, hue=\"Crop_Type\", palette = \"Set1\")\n",
    "plt.show()"
   ]
  },
  {
   "cell_type": "markdown",
   "id": "283008d5-5a11-4c0a-896e-13418d781038",
   "metadata": {},
   "source": [
    "##### <b>From above observation \n",
    "* Crop_Type \"0\" has around 65000 data entries in this dataset\n",
    "* Crop_Type \"1\" has around 25000 data entries in this dataset\n",
    "* Crop_Type data are imbalanced data."
   ]
  },
  {
   "cell_type": "markdown",
   "id": "6c126bd1-1965-42d5-8015-232d487d38e3",
   "metadata": {},
   "source": [
    "#### Soil_Type"
   ]
  },
  {
   "cell_type": "code",
   "execution_count": null,
   "id": "2ba45f68-c6f1-432d-818b-d0f2a377f005",
   "metadata": {},
   "outputs": [],
   "source": [
    "soil_count = train_df.Soil_Type.value_counts()\n",
    "plt.figure(figsize=(8,8))\n",
    "plt.title(\"Distribution of Soil_Type\")\n",
    "sns.barplot(x=soil_count.index, y=soil_count.values, hue=soil_count.index, palette = \"Set1\")\n",
    "plt.show()"
   ]
  },
  {
   "cell_type": "markdown",
   "id": "3e6c964e-f21e-414b-b2f0-5e58af0a1d1e",
   "metadata": {},
   "source": [
    "##### <b>From above observation \n",
    "* Soil_Type \"0\" has around 49000 data entries in this dataset\n",
    "* Soil_Type \"1\" has around 40000 data entries in this dataset\n",
    "* Soil_Type data seems to be balanced data"
   ]
  },
  {
   "cell_type": "markdown",
   "id": "cc000ae6-a5b5-44d5-ab7f-bdf6c4d19644",
   "metadata": {},
   "source": [
    "<b>2.</b> As you can see, almost all the values of Pesticide_Use_Category, Season seems to be either a \"1\" or a \"2\" or a \"3\". So it is better to treat it as a categorical value rather than a numerical value. Let's perform categorical analysis."
   ]
  },
  {
   "cell_type": "markdown",
   "id": "7851ab82-6a0f-4160-bfd3-b3ee0ea261f8",
   "metadata": {},
   "source": [
    "#### Pesticide_Use_Category"
   ]
  },
  {
   "cell_type": "code",
   "execution_count": null,
   "id": "b9987ec9-0aa6-4e0d-ba00-d7fefc328553",
   "metadata": {},
   "outputs": [],
   "source": [
    "Pesticide_Use_Category = train_df.Pesticide_Use_Category.value_counts()\n",
    "plt.figure(figsize=(8,8))\n",
    "plt.title(\"Pesticide_Use_Category\")\n",
    "plt.pie(x=Pesticide_Use_Category.values, labels=Pesticide_Use_Category.index, autopct=\"%.3f%%\", explode=[0.05,0,0.0], colors=[\"violet\",\"pink\",\"Cyan\" ])\n",
    "plt.legend()\n",
    "plt.show()"
   ]
  },
  {
   "cell_type": "markdown",
   "id": "99a1d3f9-fe02-4a3a-b926-0551bbf61624",
   "metadata": {},
   "source": [
    "#### From above observation \n",
    "* Pesticide_Use_Category \"2\" has highest percentage with 71.698% data in this dataset\n",
    "* Pesticide_Use_Category \"1\" has lowest percentage with 0.942% data in this dataset\n",
    "* Pesticide_Use_Category \"2\" has 27.361% data in this dataset"
   ]
  },
  {
   "cell_type": "markdown",
   "id": "fe3bbd61-d208-4fa2-9868-e6f8c6f3d2dd",
   "metadata": {},
   "source": [
    "#### Season"
   ]
  },
  {
   "cell_type": "code",
   "execution_count": null,
   "id": "864d2cf5-0d45-442e-8c36-12c1a1923a43",
   "metadata": {},
   "outputs": [],
   "source": [
    "season_counts = train_df.Season.value_counts()\n",
    "plt.title(\"Distribution of Season\")\n",
    "ax = season_counts.plot.pie(figsize=(8,8), explode=[0,0,0.05], autopct=\"%.3f%%\",colors=[\"violet\",\"pink\",\"Cyan\"])\n",
    "plt.legend()"
   ]
  },
  {
   "cell_type": "markdown",
   "id": "126961b0-d223-4d70-9447-d647fb339c3d",
   "metadata": {},
   "source": [
    "#### From above observation \n",
    "* Season \"2\" has highest percentage with 49.754% data in this dataset\n",
    "* Season \"3\" has lowest percentage with 19.971% data in this dataset\n",
    "* Season \"1\" has 30.275% data in this dataset"
   ]
  },
  {
   "cell_type": "markdown",
   "id": "5bcc6db5-9d25-47f1-b7fe-fcbc657d4c21",
   "metadata": {},
   "source": [
    "#### Numerical data analysis"
   ]
  },
  {
   "cell_type": "markdown",
   "id": "56ca16b2-4baa-4ce7-957d-9ed8a2788c87",
   "metadata": {},
   "source": [
    "##### Estimated_Insects_Count"
   ]
  },
  {
   "cell_type": "code",
   "execution_count": null,
   "id": "8b6baf4f-81fc-4986-9ade-13f89c50f900",
   "metadata": {},
   "outputs": [],
   "source": [
    "sns.displot(data=train_df.Estimated_Insects_Count, kde=True, height=10, color=\"purple\")\n",
    "plt.grid()\n",
    "plt.show()"
   ]
  },
  {
   "cell_type": "markdown",
   "id": "b533b0e4-41dd-4eb7-9458-e12d33985a63",
   "metadata": {},
   "source": [
    "#### From above observation \n",
    "* Distribution of Estimated_Insects_Count seems to be right tail, which means mean > median"
   ]
  },
  {
   "cell_type": "markdown",
   "id": "994b55c4-c884-4eeb-900d-faa04fcc686d",
   "metadata": {},
   "source": [
    "#### Number_Doses_Week"
   ]
  },
  {
   "cell_type": "code",
   "execution_count": null,
   "id": "ef0ba9ab-0284-4d66-ab05-e5669754c2a0",
   "metadata": {},
   "outputs": [],
   "source": [
    "sns.displot(data=train_df.Number_Doses_Week, kde=True, height=10, color=\"purple\")\n",
    "plt.show()"
   ]
  },
  {
   "cell_type": "markdown",
   "id": "a8c9ab53-a4b7-42d0-aa3d-bc3ee303f98b",
   "metadata": {},
   "source": [
    "#### From above observation \n",
    "* Distribution of Number_Doses_Week also seems to be right tail, which means mean > median\n",
    "* Data are distribute between 5 to 60"
   ]
  },
  {
   "cell_type": "markdown",
   "id": "d5d22b48-40bf-4b7f-ae39-bf310698ad1d",
   "metadata": {},
   "source": [
    "#### Number_Weeks_Used"
   ]
  },
  {
   "cell_type": "code",
   "execution_count": null,
   "id": "e4548dfc-335c-41f4-abb3-8c0bf124dbb4",
   "metadata": {},
   "outputs": [],
   "source": [
    "sns.displot(data=train_df.Number_Weeks_Used, kde=True, height=10,  color=\"purple\")\n",
    "plt.show()"
   ]
  },
  {
   "cell_type": "markdown",
   "id": "24bcb81f-ecb8-4a5f-8f38-dc9a27d93487",
   "metadata": {},
   "source": [
    "#### From above observation \n",
    "* Distribution of Number_Weeks_Used seems to be normally distribution but slightly right skewed"
   ]
  },
  {
   "cell_type": "markdown",
   "id": "4592d1e5-c989-4ac7-9e63-a8fac9af4e40",
   "metadata": {},
   "source": [
    "#### Number_Weeks_Quit"
   ]
  },
  {
   "cell_type": "code",
   "execution_count": null,
   "id": "bbe5b95b-fbb7-408e-a02b-a9c2543940d1",
   "metadata": {},
   "outputs": [],
   "source": [
    "sns.displot(data=train_df.Number_Weeks_Quit, kde=True, height=10,  color=\"purple\")\n",
    "plt.show()"
   ]
  },
  {
   "cell_type": "markdown",
   "id": "e7fd5f09-cc10-458d-be75-b117f5579299",
   "metadata": {},
   "source": [
    "#### From above observation \n",
    "* Distribution of Number_Weeks_Quit seems to be right skewed which means mean > median\n",
    "* Data are distributed between 0 to 40"
   ]
  },
  {
   "cell_type": "markdown",
   "id": "ce8647cd-d3c8-4321-8a15-92386fb093f3",
   "metadata": {},
   "source": [
    "#### Data Skewness"
   ]
  },
  {
   "cell_type": "code",
   "execution_count": null,
   "id": "24688c62-7220-4f2e-9992-49d3dfa6a47a",
   "metadata": {},
   "outputs": [],
   "source": [
    "categorical_features = [\"Crop_Type\",\"Soil_Type\",\"Pesticide_Use_Category\",\"Season\"]\n",
    "nemurical_features =[\"Estimated_Insects_Count\",\"Number_Doses_Week\",\"Number_Weeks_Used\",\"Number_Weeks_Quit\"]"
   ]
  },
  {
   "cell_type": "code",
   "execution_count": null,
   "id": "c07de122-471c-4a6c-8701-3f005a19bf57",
   "metadata": {},
   "outputs": [],
   "source": [
    "train_df[nemurical_features].skew()"
   ]
  },
  {
   "cell_type": "markdown",
   "id": "1a411385-418f-4acc-b015-fc7cbe5c4fe5",
   "metadata": {},
   "source": [
    "# Target Variable Analysis: Crop_Damage"
   ]
  },
  {
   "cell_type": "code",
   "execution_count": null,
   "id": "bfcae56f-f148-4ec7-8fd2-cbc50ea10628",
   "metadata": {},
   "outputs": [],
   "source": [
    "c_d = train_df.Crop_Damage.value_counts()\n",
    "sns.barplot(x=c_d.index, y=c_d.values, hue=c_d.index)\n",
    "plt.legend()"
   ]
  },
  {
   "cell_type": "code",
   "execution_count": null,
   "id": "5ff7a078-8b48-48da-a125-10bb95a38a2a",
   "metadata": {},
   "outputs": [],
   "source": [
    "\n",
    "sns.barplot(x=soil_count.index, y=soil_count.values, hue=soil_count.index, palette = \"Set1\")\n"
   ]
  }
 ],
 "metadata": {
  "kernelspec": {
   "display_name": "Python 3 (ipykernel)",
   "language": "python",
   "name": "python3"
  },
  "language_info": {
   "codemirror_mode": {
    "name": "ipython",
    "version": 3
   },
   "file_extension": ".py",
   "mimetype": "text/x-python",
   "name": "python",
   "nbconvert_exporter": "python",
   "pygments_lexer": "ipython3",
   "version": "3.11.1"
  }
 },
 "nbformat": 4,
 "nbformat_minor": 5
}

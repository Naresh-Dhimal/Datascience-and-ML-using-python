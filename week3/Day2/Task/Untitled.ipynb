{
 "cells": [
  {
   "cell_type": "markdown",
   "id": "3ccebd38-d1e4-4951-abcb-0a55789bc7fd",
   "metadata": {},
   "source": [
    "# Enhanced User Authentication and Management System"
   ]
  },
  {
   "cell_type": "markdown",
   "id": "7279e0c5-5e71-4738-b8d3-382ef078c542",
   "metadata": {},
   "source": [
    "Scenario:\n",
    "In the context of a User Authentication and Management System, we have completed Exception handling, database operations, and learned how to connect to a database, create tables, and perform CRUD operations. Now, you are tasked with implementing a system for user registration, login, password update, and account deletion.\n",
    "\n",
    "Requirements:\n",
    "1. User Registration:\n",
    "- Implement a function register_user(username, password) that registers a new user.\n",
    "- Check if the username already exists in the database. If it does, raise a custom exception indicating that the username is already taken.\n",
    "- Store the user's information (username and securely hashed password) in the database.\n",
    "- Validate that the provided email follows a proper format during registration.\n",
    "\n",
    "2. User Login:\n",
    "- Implement a function login_user(username, password) that authenticates a user.\n",
    "- Check if the user is already logged in. If yes, raise a custom exception indicating that the user is already logged in.\n",
    "- Verify the entered username and password against the stored information in the database.\n",
    "- If the login is successful, mark the user as logged in and provide a success message. If unsuccessful, raise an exception indicating invalid credentials.\n",
    "- Password must be more than 7 characters with at least one symbol and one uppercase letter during login.\n",
    "\n",
    "3. Password Update:\n",
    "- Implement a function update_password(username, old_password, new_password) that allows a user to update their password.\n",
    "- Check if the user is logged in. If not, raise an exception indicating that the user must be logged in to update the password.\n",
    "- Verify the entered username and old password against the stored information in the database.\n",
    "- Update the password with the new password, which must meet the specified criteria.\n",
    "\n",
    "4. Account Deletion:\n",
    "- Implement a function delete_account(username, password) that allows a user to delete their account.\n",
    "- Check if the user is logged in. If not, raise an exception indicating that the user must be logged in to delete the account.\n",
    "- Verify the entered username and password against the stored information in the database.\n",
    "- Delete the user's information from the database.\n",
    "\n",
    "5. Testing:\n",
    "- Demonstrate the functionality of the system by performing user registration, log in, password update, and account deletion operations.\n",
    "- Create scenarios where exceptions are expected (e.g., attempting to register with an existing username, logging in while already logged in).\n",
    "- Validate and enforce security measures such as storing hashed passwords securely, proper email format during registration, and password complexity during login and registration.\n",
    "\n",
    "Instructions for Everyone:\n",
    "- Implement the functions based on the provided requirements.\n",
    "- Test the functionality using example scenarios and handle exceptions as specified.\n",
    "- Create scenarios to simulate various cases such as duplicate usernames, incorrect login credentials, updating passwords without being logged in, and attempting to delete an account without being logged in.\n",
    "- Ensure that the system provides appropriate feedback and raises exceptions with meaningful messages.\n",
    "- Pay attention to security aspects, such as storing hashed passwords securely, validating email formats, and enforcing password complexity during login and registration.\n",
    "- Encourage students to think about potential security vulnerabilities and ways to mitigate them."
   ]
  },
  {
   "cell_type": "code",
   "execution_count": 57,
   "id": "d23a2385-c71f-40bb-b1ec-b62840e7da97",
   "metadata": {},
   "outputs": [
    {
     "name": "stdout",
     "output_type": "stream",
     "text": [
      "Requirement already satisfied: bcrypt in g:\\datascience and ml using python\\myenv\\lib\\site-packages (4.1.2)\n"
     ]
    },
    {
     "name": "stderr",
     "output_type": "stream",
     "text": [
      "\n",
      "[notice] A new release of pip available: 22.3.1 -> 24.0\n",
      "[notice] To update, run: python.exe -m pip install --upgrade pip\n"
     ]
    }
   ],
   "source": [
    "!pip install bcrypt"
   ]
  },
  {
   "cell_type": "code",
   "execution_count": 1,
   "id": "ac0c7e13-21fc-4edb-bd09-25e2a20591fb",
   "metadata": {},
   "outputs": [],
   "source": [
    "# to create database\n",
    "import sqlite3\n",
    "conn = sqlite3.Connection(\"Management_System.db\")\n",
    "cursor = conn.cursor()"
   ]
  },
  {
   "cell_type": "code",
   "execution_count": 2,
   "id": "2d8aac0d-cd5b-404a-bb68-bb20ca16467b",
   "metadata": {},
   "outputs": [
    {
     "data": {
      "text/plain": [
       "<sqlite3.Cursor at 0x27804f6a540>"
      ]
     },
     "execution_count": 2,
     "metadata": {},
     "output_type": "execute_result"
    }
   ],
   "source": [
    "# creating table\n",
    "query = \"\"\"\n",
    "CREATE table userdetails\n",
    "(\n",
    "username varchar(50),\n",
    "firstname varchar(50),\n",
    "lastname varchar(50),\n",
    "password varchar(500)\n",
    ")\n",
    "\"\"\"\n",
    "cursor.execute(query)"
   ]
  },
  {
   "cell_type": "code",
   "execution_count": 69,
   "id": "da04420b-e437-461a-8968-bb8793ce4c2c",
   "metadata": {},
   "outputs": [
    {
     "data": {
      "text/plain": [
       "<sqlite3.Cursor at 0x27804f6a540>"
      ]
     },
     "execution_count": 69,
     "metadata": {},
     "output_type": "execute_result"
    }
   ],
   "source": [
    "cursor.execute(\"ALTER TABLE userdetails ADD email varchar\")"
   ]
  },
  {
   "cell_type": "code",
   "execution_count": 74,
   "id": "a87d590b-28a4-47bf-beae-2ec214478074",
   "metadata": {},
   "outputs": [
    {
     "ename": "ModuleNotFoundError",
     "evalue": "No module named 'bcrypt'",
     "output_type": "error",
     "traceback": [
      "\u001b[1;31m---------------------------------------------------------------------------\u001b[0m",
      "\u001b[1;31mModuleNotFoundError\u001b[0m                       Traceback (most recent call last)",
      "Cell \u001b[1;32mIn[74], line 2\u001b[0m\n\u001b[0;32m      1\u001b[0m \u001b[38;5;66;03m# solution\u001b[39;00m\n\u001b[1;32m----> 2\u001b[0m \u001b[38;5;28;01mimport\u001b[39;00m \u001b[38;5;21;01mbcrypt\u001b[39;00m\n\u001b[0;32m      3\u001b[0m \u001b[38;5;28;01mclass\u001b[39;00m \u001b[38;5;21;01mUserExist\u001b[39;00m(\u001b[38;5;167;01mException\u001b[39;00m):\n\u001b[0;32m      4\u001b[0m     \u001b[38;5;28;01mpass\u001b[39;00m\n",
      "\u001b[1;31mModuleNotFoundError\u001b[0m: No module named 'bcrypt'"
     ]
    }
   ],
   "source": [
    "# solution\n",
    "\n",
    "class UserExist(Exception):\n",
    "    pass\n",
    "class ErrorEmail(Exception):\n",
    "    pass\n",
    "def register_user(username, password):\n",
    "    exist_username = cursor.execute(\"SELECT username from userdetails\").fetchall()\n",
    "    try:\n",
    "        for item in exist_username:\n",
    "            new_item = list(item)\n",
    "            if \"\".join(new_item) == username:\n",
    "                raise UserExist(\"Username already exist.\")\n",
    "        password \n",
    "        first_name = input(\"Enter a first name:\")\n",
    "        last_name = input(\"Enter a last name:\")\n",
    "        # email = input(\"Enter a email:\")\n",
    "        # if email:\n",
    "        #     raise ErrorEmail(\"Invalid email\")\n",
    "        data_to_be_inserted = (username, first_name, last_name, password)\n",
    "        print(data_to_be_inserted)\n",
    "        print(\"----------------\")\n",
    "        insert_query = \"\"\"\n",
    "        Insert into userdetails\n",
    "        (username, firstname, lastname, password)\n",
    "        values\n",
    "        (?,?,?,?)\n",
    "        \"\"\"\n",
    "        # cursor.execute(insert_query, data_to_be_inserted)\n",
    "        print(\"User registered successfully!\")\n",
    "    except (UserExist, ErrorEmail) as e:\n",
    "        print(e)"
   ]
  },
  {
   "cell_type": "code",
   "execution_count": 52,
   "id": "9638f7a2-7ba5-4b0b-a17d-3d3d04db4be3",
   "metadata": {},
   "outputs": [
    {
     "name": "stdout",
     "output_type": "stream",
     "text": [
      "Username already exist.\n"
     ]
    }
   ],
   "source": [
    "register_user(username=\"ram12\",password=\"123e\")"
   ]
  },
  {
   "cell_type": "code",
   "execution_count": null,
   "id": "59c935ea-fe06-4c4c-8c52-00c49222633c",
   "metadata": {},
   "outputs": [],
   "source": []
  }
 ],
 "metadata": {
  "kernelspec": {
   "display_name": "Python 3 (ipykernel)",
   "language": "python",
   "name": "python3"
  },
  "language_info": {
   "codemirror_mode": {
    "name": "ipython",
    "version": 3
   },
   "file_extension": ".py",
   "mimetype": "text/x-python",
   "name": "python",
   "nbconvert_exporter": "python",
   "pygments_lexer": "ipython3",
   "version": "3.11.1"
  }
 },
 "nbformat": 4,
 "nbformat_minor": 5
}

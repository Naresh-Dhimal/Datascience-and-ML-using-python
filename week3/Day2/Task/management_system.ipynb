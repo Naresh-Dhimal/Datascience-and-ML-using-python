{
  "cells": [
    {
      "cell_type": "markdown",
      "id": "3ccebd38-d1e4-4951-abcb-0a55789bc7fd",
      "metadata": {
        "id": "3ccebd38-d1e4-4951-abcb-0a55789bc7fd"
      },
      "source": [
        "# Enhanced User Authentication and Management System"
      ]
    },
    {
      "cell_type": "markdown",
      "id": "7279e0c5-5e71-4738-b8d3-382ef078c542",
      "metadata": {
        "id": "7279e0c5-5e71-4738-b8d3-382ef078c542"
      },
      "source": [
        "Scenario:\n",
        "In the context of a User Authentication and Management System, we have completed Exception handling, database operations, and learned how to connect to a database, create tables, and perform CRUD operations. Now, you are tasked with implementing a system for user registration, login, password update, and account deletion.\n",
        "\n",
        "Requirements:\n",
        "1. User Registration:\n",
        "- Implement a function register_user(username, password) that registers a new user.\n",
        "- Check if the username already exists in the database. If it does, raise a custom exception indicating that the username is already taken.\n",
        "- Store the user's information (username and securely hashed password) in the database.\n",
        "- Validate that the provided email follows a proper format during registration.\n",
        "\n",
        "2. User Login:\n",
        "- Implement a function login_user(username, password) that authenticates a user.\n",
        "- Check if the user is already logged in. If yes, raise a custom exception indicating that the user is already logged in.\n",
        "- Verify the entered username and password against the stored information in the database.\n",
        "- If the login is successful, mark the user as logged in and provide a success message. If unsuccessful, raise an exception indicating invalid credentials.\n",
        "- Password must be more than 7 characters with at least one symbol and one uppercase letter during login.\n",
        "\n",
        "3. Password Update:\n",
        "- Implement a function update_password(username, old_password, new_password) that allows a user to update their password.\n",
        "- Check if the user is logged in. If not, raise an exception indicating that the user must be logged in to update the password.\n",
        "- Verify the entered username and old password against the stored information in the database.\n",
        "- Update the password with the new password, which must meet the specified criteria.\n",
        "\n",
        "4. Account Deletion:\n",
        "- Implement a function delete_account(username, password) that allows a user to delete their account.\n",
        "- Check if the user is logged in. If not, raise an exception indicating that the user must be logged in to delete the account.\n",
        "- Verify the entered username and password against the stored information in the database.\n",
        "- Delete the user's information from the database.\n",
        "\n",
        "5. Testing:\n",
        "- Demonstrate the functionality of the system by performing user registration, log in, password update, and account deletion operations.\n",
        "- Create scenarios where exceptions are expected (e.g., attempting to register with an existing username, logging in while already logged in).\n",
        "- Validate and enforce security measures such as storing hashed passwords securely, proper email format during registration, and password complexity during login and registration.\n",
        "\n",
        "Instructions for Everyone:\n",
        "- Implement the functions based on the provided requirements.\n",
        "- Test the functionality using example scenarios and handle exceptions as specified.\n",
        "- Create scenarios to simulate various cases such as duplicate usernames, incorrect login credentials, updating passwords without being logged in, and attempting to delete an account without being logged in.\n",
        "- Ensure that the system provides appropriate feedback and raises exceptions with meaningful messages.\n",
        "- Pay attention to security aspects, such as storing hashed passwords securely, validating email formats, and enforcing password complexity during login and registration.\n",
        "- Encourage students to think about potential security vulnerabilities and ways to mitigate them."
      ]
    },
    {
      "cell_type": "code",
      "execution_count": 1,
      "id": "d23a2385-c71f-40bb-b1ec-b62840e7da97",
      "metadata": {
        "colab": {
          "base_uri": "https://localhost:8080/"
        },
        "id": "d23a2385-c71f-40bb-b1ec-b62840e7da97",
        "outputId": "563c194f-d90b-40d6-e8a5-b2c739277f0c"
      },
      "outputs": [
        {
          "output_type": "stream",
          "name": "stdout",
          "text": [
            "Collecting bcrypt\n",
            "  Downloading bcrypt-4.1.2-cp39-abi3-manylinux_2_28_x86_64.whl (698 kB)\n",
            "\u001b[2K     \u001b[90m━━━━━━━━━━━━━━━━━━━━━━━━━━━━━━━━━━━━━━━━\u001b[0m \u001b[32m698.9/698.9 kB\u001b[0m \u001b[31m6.2 MB/s\u001b[0m eta \u001b[36m0:00:00\u001b[0m\n",
            "\u001b[?25hInstalling collected packages: bcrypt\n",
            "Successfully installed bcrypt-4.1.2\n"
          ]
        }
      ],
      "source": [
        "!pip install bcrypt"
      ]
    },
    {
      "cell_type": "code",
      "execution_count": 2,
      "id": "ac0c7e13-21fc-4edb-bd09-25e2a20591fb",
      "metadata": {
        "id": "ac0c7e13-21fc-4edb-bd09-25e2a20591fb"
      },
      "outputs": [],
      "source": [
        "# to create database\n",
        "import sqlite3\n",
        "conn = sqlite3.Connection(\"Management_System.db\")\n",
        "cursor = conn.cursor()"
      ]
    },
    {
      "cell_type": "code",
      "execution_count": 3,
      "id": "2d8aac0d-cd5b-404a-bb68-bb20ca16467b",
      "metadata": {
        "colab": {
          "base_uri": "https://localhost:8080/"
        },
        "id": "2d8aac0d-cd5b-404a-bb68-bb20ca16467b",
        "outputId": "023282fa-0cd2-43ef-e5f9-fa9a9137e119"
      },
      "outputs": [
        {
          "output_type": "execute_result",
          "data": {
            "text/plain": [
              "<sqlite3.Cursor at 0x7bdd02c6bcc0>"
            ]
          },
          "metadata": {},
          "execution_count": 3
        }
      ],
      "source": [
        "# creating table\n",
        "query = \"\"\"\n",
        "CREATE table userdetails\n",
        "(\n",
        "username varchar(50),\n",
        "firstname varchar(50),\n",
        "lastname varchar(50),\n",
        "password varchar(500)\n",
        ")\n",
        "\"\"\"\n",
        "cursor.execute(query)"
      ]
    },
    {
      "cell_type": "code",
      "execution_count": 4,
      "id": "da04420b-e437-461a-8968-bb8793ce4c2c",
      "metadata": {
        "colab": {
          "base_uri": "https://localhost:8080/"
        },
        "id": "da04420b-e437-461a-8968-bb8793ce4c2c",
        "outputId": "59e8db12-035c-4e45-b7ca-098f37a877aa"
      },
      "outputs": [
        {
          "output_type": "execute_result",
          "data": {
            "text/plain": [
              "<sqlite3.Cursor at 0x7bdd02c6bcc0>"
            ]
          },
          "metadata": {},
          "execution_count": 4
        }
      ],
      "source": [
        "cursor.execute(\"ALTER TABLE userdetails ADD email varchar\")"
      ]
    },
    {
      "cell_type": "code",
      "source": [
        "def generate_username_password():\n",
        "  try:\n",
        "    # getting username input\n",
        "    generate_username = input(\"Enter a usernam:\")\n",
        "    # getting password input\n",
        "    valid_password = True\n",
        "    while valid_password:\n",
        "        generate_password = input(\"Enter a password: \")\n",
        "        if len(generate_password) < 8:\n",
        "            print(\"Password length should be at least seven characters.\")\n",
        "        else:\n",
        "            symbol_flag = False\n",
        "            upper_flag = False\n",
        "            lower_flag = False\n",
        "            digit_flag = False\n",
        "\n",
        "            for char in generate_password:\n",
        "                if char in \"~!@#$%^&*()_+=-`\":\n",
        "                    symbol_flag = True\n",
        "                elif char.isupper():\n",
        "                    upper_flag = True\n",
        "                elif char.islower():\n",
        "                    lower_flag = True\n",
        "                elif char.isdigit():\n",
        "                    digit_flag = True\n",
        "\n",
        "            reasons = []\n",
        "            if not upper_flag:\n",
        "                reasons.append(\"Password should contain at least one uppercase letter.\")\n",
        "            if not lower_flag:\n",
        "                reasons.append(\"Password should contain at least one lowercase letter.\")\n",
        "            if not symbol_flag:\n",
        "                reasons.append(\"Password should contain at least one symbol (~!@#$%^&*()_+=-`).\")\n",
        "            if not digit_flag:\n",
        "                reasons.append(\"Password should contain at least one digit.\")\n",
        "\n",
        "            if reasons:\n",
        "                print(\"Invalid password.\")\n",
        "                for reason in reasons:\n",
        "                    print(\" -\", reason)\n",
        "            else:\n",
        "                valid_password = False\n",
        "\n",
        "  except Exception as e:\n",
        "    print(e)\n",
        "  return generate_username.strip(), generate_password.strip()"
      ],
      "metadata": {
        "id": "DDoKZejQodew"
      },
      "id": "DDoKZejQodew",
      "execution_count": 186,
      "outputs": []
    },
    {
      "cell_type": "code",
      "execution_count": 194,
      "id": "a87d590b-28a4-47bf-beae-2ec214478074",
      "metadata": {
        "id": "a87d590b-28a4-47bf-beae-2ec214478074"
      },
      "outputs": [],
      "source": [
        "# solution\n",
        "import bcrypt\n",
        "import re\n",
        "\n",
        "class UserAlreadyExist(Exception):\n",
        "    pass\n",
        "class EmailInvalidError(Exception):\n",
        "    pass\n",
        "def register_user(username, password):\n",
        "\n",
        "    try:\n",
        "      # fetchig all username from database\n",
        "        exist_username = cursor.execute(\"SELECT username from userdetails\").fetchall()\n",
        "        for item in exist_username:\n",
        "            new_item = list(item)\n",
        "            # checking user is exist or not\n",
        "            if \"\".join(new_item) == username:\n",
        "                raise UserAlreadyExist(\"Username already exist.\")\n",
        "\n",
        "        # password encrytion\n",
        "        password_byte = password.encode(\"utf-8\")\n",
        "        salt = bcrypt.gensalt()\n",
        "        hash_password = bcrypt.hashpw(password_byte, salt)\n",
        "\n",
        "        # taking user input first name\n",
        "        first_name = input(\"Enter a first name:\")\n",
        "\n",
        "        # taking user input last name\n",
        "        last_name = input(\"Enter a last name:\")\n",
        "\n",
        "\n",
        "        # validating user email id\n",
        "        regex = r'\\b[A-Za-z0-9._%+-]+@[A-Za-z0-9.-]+\\.[A-Z|a-z]{2,7}\\b'\n",
        "        valid_email = True\n",
        "        while valid_email:\n",
        "          email = input(\"Enter a email:\")\n",
        "          if (re.fullmatch(regex, email)):\n",
        "            data_to_be_inserted = (username, first_name, last_name, hash_password, email)\n",
        "            valid_email = False\n",
        "          else:\n",
        "            raise EmailInvalidError(\"Invalid email\")\n",
        "\n",
        "        print(data_to_be_inserted)\n",
        "        print(\"----------------\")\n",
        "        insert_query = \"\"\"\n",
        "        Insert into userdetails\n",
        "        (username, firstname, lastname, password, email)\n",
        "        values\n",
        "        (?,?,?,?,?)\n",
        "        \"\"\"\n",
        "        cursor.execute(insert_query, data_to_be_inserted)\n",
        "        print(\"User registered successfully!\")\n",
        "    except (UserAlreadyExist, EmailInvalidError) as e:\n",
        "        print(e)"
      ]
    },
    {
      "cell_type": "code",
      "execution_count": 196,
      "id": "9638f7a2-7ba5-4b0b-a17d-3d3d04db4be3",
      "metadata": {
        "colab": {
          "base_uri": "https://localhost:8080/"
        },
        "id": "9638f7a2-7ba5-4b0b-a17d-3d3d04db4be3",
        "outputId": "183c9432-26ed-43eb-dfdb-84d05e22ad56"
      },
      "outputs": [
        {
          "output_type": "stream",
          "name": "stdout",
          "text": [
            "Enhanced User Authentication and Management System\n",
            "Enter a action 'register' to  be performed: register\n",
            "Enter a usernam:nares12\n",
            "Enter a password: sdfsadnf,1$R\n",
            "Enter a first name:naresh\n",
            "Enter a last name:Dhimal\n",
            "Enter a email:skfbs@gmail.com\n",
            "('nares12', 'naresh', 'Dhimal', b'$2b$12$xmQaUS8zI2Q3gMFQx.xNhe9i23VLlm3rTWptpKEHDoBy/PTcr4mtu', 'skfbs@gmail.com')\n",
            "----------------\n",
            "User registered successfully!\n"
          ]
        }
      ],
      "source": [
        "d# ragister\n",
        "if __name__ == \"__main__\":\n",
        "\n",
        "  print(\"Enhanced User Authentication and Management System\")\n",
        "  action = input(\"Enter a action 'register' to  be performed: \")\n",
        "  if action.lower().strip() == \"register\":\n",
        "    username, password = generate_username_password()\n",
        "    register_user(username=username, password=password)"
      ]
    },
    {
      "cell_type": "code",
      "source": [
        "if __name__ == \"__main__\":\n",
        "\n",
        "  print(\"Enhanced User Authentication and Management System\")\n",
        "  action = input(\"Enter a action 'register' to  be performed: \")\n",
        "  if action.lower().strip() == \"register\":\n",
        "    username, password = generate_username_password()\n",
        "    register_user(username=username, password=password)"
      ],
      "metadata": {
        "colab": {
          "base_uri": "https://localhost:8080/"
        },
        "id": "K-v9tr-b1Rv6",
        "outputId": "3b23488e-5758-4762-8eec-337450d7bb28"
      },
      "id": "K-v9tr-b1Rv6",
      "execution_count": 197,
      "outputs": [
        {
          "output_type": "stream",
          "name": "stdout",
          "text": [
            "Enhanced User Authentication and Management System\n",
            "Enter a action 'register' to  be performed: register\n",
            "Enter a usernam:nares12\n",
            "Enter a password: dklnflasnf12%H\n",
            "Username already exist.\n"
          ]
        }
      ]
    },
    {
      "cell_type": "code",
      "source": [
        "\n",
        "class UserAlreadyLoginError(Exception):\n",
        "  pass\n",
        "class UserNotRegisteredError(Exception):\n",
        "  pass\n",
        "class IncorrectPasswordError(Exception):\n",
        "  pass\n",
        "\n",
        "logged_in_user = dict()\n",
        "exist_username =dict(cursor.execute(\"SELECT username, password  from userdetails\").fetchall())\n",
        "\n",
        "def login_user(username, password):\n",
        "\n",
        "  password_byte = password.encode(\"utf-8\")\n",
        "  for user_key, pass_value in exist_username.items():\n",
        "   user_password = bcrypt.checkpw(password_byte, pass_value)\n",
        "   print(\"**********\")\n",
        "\n",
        "  try:\n",
        "    if username not in exist_username:\n",
        "      raise UserNotRegisteredError(f\"Username {username} is not register.\")\n",
        "    elif user_password is False:\n",
        "      raise IncorrectPasswordError(f\"Password is incorrect.\")\n",
        "    elif username in logged_in_user:\n",
        "      raise UserAlreadyLoginError(f\"User is already logged in. You need to logged out first.\")\n",
        "\n",
        "    else:\n",
        "      logged_in_user.update({username:password})\n",
        "      print(f\"User {username} logged in Successful.\")\n",
        "\n",
        "  except (UserNotRegisteredError, UserAlreadyLoginError, IncorrectPasswordError) as e:\n",
        "      print(e)\n",
        "\n",
        "def logout_user(username):\n",
        "  if username in logged_in_user:\n",
        "    logged_in_user.pop(username)\n",
        "    print(f\"User {username} is logged out successfully.\")\n",
        "  else:\n",
        "    print(f\"User {username} is not logged in.\")\n",
        ""
      ],
      "metadata": {
        "id": "UpwKrhBszhJP"
      },
      "id": "UpwKrhBszhJP",
      "execution_count": 219,
      "outputs": []
    },
    {
      "cell_type": "code",
      "source": [
        "# login_userr\n",
        "if __name__ == \"__main__\":\n",
        "  pass\n",
        "  print(\"Enhanced User Authentication and Management System\")\n",
        "  action = input(\"Enter a action 'login' to be performed:\")\n",
        "  if action.lower().strip() == \"login\":\n",
        "    username, password = generate_username_password()\n",
        "    login_user(username=username, password=password)"
      ],
      "metadata": {
        "colab": {
          "base_uri": "https://localhost:8080/"
        },
        "id": "Ii702I9pjBVD",
        "outputId": "2dba96a2-9064-4332-c4f7-9632f399ce7e"
      },
      "id": "Ii702I9pjBVD",
      "execution_count": 212,
      "outputs": [
        {
          "output_type": "stream",
          "name": "stdout",
          "text": [
            "Enhanced User Authentication and Management System\n",
            "Enter a action 'login' to be performed:login\n",
            "Enter a usernam:nares12\n",
            "Enter a password: sdfsadnf,1$R\n",
            "0\n",
            "**********\n",
            "**********\n",
            "User nares12 logged in Successful.\n"
          ]
        }
      ]
    },
    {
      "cell_type": "code",
      "source": [
        "if __name__ == \"__main__\":\n",
        "  pass\n",
        "  print(\"Enhanced User Authentication and Management System\")\n",
        "  action = input(\"Enter a action 'login' to be performed:\")\n",
        "  if action.lower().strip() == \"login\":\n",
        "    username, password = generate_username_password()\n",
        "    login_user(username=username, password=password)"
      ],
      "metadata": {
        "colab": {
          "base_uri": "https://localhost:8080/"
        },
        "id": "luAouz4AlMC_",
        "outputId": "ba3da7c5-84d1-45f7-d0e7-f33000fa0fd6"
      },
      "id": "luAouz4AlMC_",
      "execution_count": 217,
      "outputs": [
        {
          "output_type": "stream",
          "name": "stdout",
          "text": [
            "Enhanced User Authentication and Management System\n",
            "Enter a action 'login' to be performed:login\n",
            "Enter a usernam:nares12\n",
            "Enter a password: sdfsadnf,1$R\n",
            "0\n",
            "**********\n",
            "**********\n",
            "User nares12 logged in Successful.\n"
          ]
        }
      ]
    },
    {
      "cell_type": "code",
      "source": [
        "if __name__ == \"__main__\":\n",
        "  pass\n",
        "  print(\"Enhanced User Authentication and Management System\")\n",
        "  action = input(\"Enter a action 'login' to be performed:\")\n",
        "  if action.lower().strip() == \"login\":\n",
        "    username, password = generate_username_password()\n",
        "    login_user(username=username, password=password)\n"
      ],
      "metadata": {
        "colab": {
          "base_uri": "https://localhost:8080/"
        },
        "id": "MFf0Gt1BEjmE",
        "outputId": "1d998d8b-8d46-4171-c51c-a0f4ad2672b2"
      },
      "id": "MFf0Gt1BEjmE",
      "execution_count": 220,
      "outputs": [
        {
          "output_type": "stream",
          "name": "stdout",
          "text": [
            "Enhanced User Authentication and Management System\n",
            "Enter a action 'login' to be performed:login\n",
            "Enter a usernam:nares12\n",
            "Enter a password: sdfsadnf,1$R\n",
            "0\n",
            "**********\n",
            "**********\n",
            "User nares12 logged in Successful.\n"
          ]
        }
      ]
    },
    {
      "cell_type": "code",
      "source": [
        "logout_user(username=\"nares12\")"
      ],
      "metadata": {
        "colab": {
          "base_uri": "https://localhost:8080/"
        },
        "id": "J-dFz0Xe5ceI",
        "outputId": "a9bd48ae-29c1-4a55-9fb8-1d44bf97bafc"
      },
      "id": "J-dFz0Xe5ceI",
      "execution_count": 221,
      "outputs": [
        {
          "output_type": "stream",
          "name": "stdout",
          "text": [
            "User nares12 is logged out successfully.\n"
          ]
        }
      ]
    },
    {
      "cell_type": "code",
      "source": [
        "\n",
        "exist_username =dict(cursor.execute(\"SELECT username, password  from userdetails\").fetchall())\n",
        "def update_password(username, old_password, new_password):\n",
        "  old_password_byte = old_password.encode(\"utf-8\")\n",
        "  new_password_byte = new_password.encode(\"utf-8\")\n",
        "  salt = bcrypt.gensalt()\n",
        "  hash_new_password = bcrypt.hashpw(new_password_byte, salt)\n",
        "  for user_key, pass_value in exist_username.items():\n",
        "   user_password = bcrypt.checkpw(old_password_byte, pass_value)\n",
        "   print(\"**********\")\n",
        "\n",
        "  try:\n",
        "    if username not in exist_username:\n",
        "      raise UserNotRegisteredError(f\"Username {username} is not register.\")\n",
        "    elif user_password is False:\n",
        "      raise IncorrectPasswordError(f\"Password is incorrect.\")\n",
        "    elif username in logged_in_user:\n",
        "      print(\"----------------\")\n",
        "      print(f\"User is already logged in.\")\n",
        "      update_query = \"\"\"\n",
        "        update userdetails\n",
        "        set password = ?\n",
        "        where username = ?\n",
        "        \"\"\"\n",
        "      cursor.execute(update_query, (hash_new_password,username))\n",
        "\n",
        "\n",
        "    else:\n",
        "      logged_in_user.update({username:password})\n",
        "      print(f\"User {username} logged in Successful.\")\n",
        "\n",
        "  except (UserNotRegisteredError, UserAlreadyLoginError, IncorrectPasswordError) as e:\n",
        "      print(e)\n",
        "\n"
      ],
      "metadata": {
        "id": "L1ya9d69hE2U"
      },
      "id": "L1ya9d69hE2U",
      "execution_count": 240,
      "outputs": []
    },
    {
      "cell_type": "code",
      "source": [
        "update_password(\"nares12\",\"sdfsadnf,1$R\",\"11Fsdfkj*\")"
      ],
      "metadata": {
        "colab": {
          "base_uri": "https://localhost:8080/"
        },
        "id": "uGPKH3xY8qPA",
        "outputId": "4ba1ea1f-0217-4423-facc-ab0539401c1f"
      },
      "id": "uGPKH3xY8qPA",
      "execution_count": 224,
      "outputs": [
        {
          "output_type": "stream",
          "name": "stdout",
          "text": [
            "**********\n",
            "**********\n",
            "User nares12 logged in Successful.\n"
          ]
        }
      ]
    },
    {
      "cell_type": "code",
      "source": [
        "update_password(\"nares12\",\"sdfsadnf,1$R\",\"11Fsdfkj*\")"
      ],
      "metadata": {
        "colab": {
          "base_uri": "https://localhost:8080/"
        },
        "id": "F9H73J7F9KDI",
        "outputId": "4bfa2071-5c9b-467b-8642-1c5a5e39eded"
      },
      "id": "F9H73J7F9KDI",
      "execution_count": 225,
      "outputs": [
        {
          "output_type": "stream",
          "name": "stdout",
          "text": [
            "**********\n",
            "**********\n",
            "----------------\n",
            "User is already logged in.\n",
            "Password is successfully updated.\n"
          ]
        }
      ]
    },
    {
      "cell_type": "code",
      "source": [
        "exist_username =dict(cursor.execute(\"SELECT username, password  from userdetails\").fetchall())\n",
        "def delete(username, password):\n",
        "  password_byte = password.encode(\"utf-8\")\n",
        "\n",
        "  for user_key, pass_value in exist_username.items():\n",
        "   user_password = bcrypt.checkpw(password_byte, pass_value)\n",
        "   print(\"**********\")\n",
        "\n",
        "  try:\n",
        "    if username not in exist_username:\n",
        "      raise UserNotRegisteredError(f\"Username {username} is not register.\")\n",
        "    elif user_password is False:\n",
        "      raise IncorrectPasswordError(f\"Password is incorrect.\")\n",
        "    elif username in logged_in_user:\n",
        "      print(\"----------------\")\n",
        "      delete_query = \"\"\"\n",
        "        delete  from userdetails\n",
        "        where username = ?\n",
        "        \"\"\"\n",
        "      cursor.execute(delete_query, (username,))\n",
        "      print(f\"Deletion is successfulled.\")\n",
        "\n",
        "\n",
        "    else:\n",
        "      logged_in_user.update({username:password})\n",
        "      print(f\"User {username} logged in Successful.\")\n",
        "\n",
        "  except (UserNotRegisteredError, UserAlreadyLoginError, IncorrectPasswordError) as e:\n",
        "      print(e)\n"
      ],
      "metadata": {
        "id": "RIXU0UURw18m"
      },
      "id": "RIXU0UURw18m",
      "execution_count": 238,
      "outputs": []
    },
    {
      "cell_type": "code",
      "source": [
        "delete(\"nares12\",\"sdfsadnf,1$R\")"
      ],
      "metadata": {
        "colab": {
          "base_uri": "https://localhost:8080/"
        },
        "id": "ahYbaXZH-gQg",
        "outputId": "140fe56e-f6e3-4e2d-8417-9e0bbefce698"
      },
      "id": "ahYbaXZH-gQg",
      "execution_count": 236,
      "outputs": [
        {
          "output_type": "stream",
          "name": "stdout",
          "text": [
            "**********\n",
            "**********\n",
            "Password is incorrect.\n"
          ]
        }
      ]
    },
    {
      "cell_type": "code",
      "source": [
        "delete(\"nares12\",\"11Fsdfkj*\")"
      ],
      "metadata": {
        "colab": {
          "base_uri": "https://localhost:8080/"
        },
        "id": "nYysc25t-zzW",
        "outputId": "f5fcc5a4-c30a-4304-d526-feb08524c48c"
      },
      "id": "nYysc25t-zzW",
      "execution_count": 239,
      "outputs": [
        {
          "output_type": "stream",
          "name": "stdout",
          "text": [
            "**********\n",
            "**********\n",
            "----------------\n",
            "Deletion is successfulled.\n"
          ]
        }
      ]
    },
    {
      "cell_type": "code",
      "source": [],
      "metadata": {
        "id": "3GBRLehj_akn"
      },
      "id": "3GBRLehj_akn",
      "execution_count": null,
      "outputs": []
    }
  ],
  "metadata": {
    "kernelspec": {
      "display_name": "Python 3 (ipykernel)",
      "language": "python",
      "name": "python3"
    },
    "language_info": {
      "codemirror_mode": {
        "name": "ipython",
        "version": 3
      },
      "file_extension": ".py",
      "mimetype": "text/x-python",
      "name": "python",
      "nbconvert_exporter": "python",
      "pygments_lexer": "ipython3",
      "version": "3.11.1"
    },
    "colab": {
      "provenance": []
    }
  },
  "nbformat": 4,
  "nbformat_minor": 5
}
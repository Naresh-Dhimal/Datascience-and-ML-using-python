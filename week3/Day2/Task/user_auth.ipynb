{
  "nbformat": 4,
  "nbformat_minor": 0,
  "metadata": {
    "colab": {
      "provenance": []
    },
    "kernelspec": {
      "name": "python3",
      "display_name": "Python 3"
    },
    "language_info": {
      "name": "python"
    }
  },
  "cells": [
    {
      "cell_type": "markdown",
      "source": [
        "# Enhanced User Authentication and Management System"
      ],
      "metadata": {
        "id": "HJ3QggjQCv3F"
      }
    },
    {
      "cell_type": "markdown",
      "source": [
        "Scenario:\n",
        "In the context of a User Authentication and Management System, we have completed Exception handling, database operations, and learned how to connect to a database, create tables, and perform CRUD operations. Now, you are tasked with implementing a system for user registration, login, password update, and account deletion.\n",
        "\n",
        "Requirements:\n",
        "1. User Registration:\n",
        "- Implement a function register_user(username, password) that registers a new user.\n",
        "- Check if the username already exists in the database. If it does, raise a custom exception indicating that the username is already taken.\n",
        "- Store the user's information (username and securely hashed password) in the database.\n",
        "- Validate that the provided email follows a proper format during registration.\n",
        "\n",
        "2. User Login:\n",
        "- Implement a function login_user(username, password) that authenticates a user.\n",
        "- Check if the user is already logged in. If yes, raise a custom exception indicating that the user is already logged in.\n",
        "- Verify the entered username and password against the stored information in the database.\n",
        "- If the login is successful, mark the user as logged in and provide a success message. If unsuccessful, raise an exception indicating invalid credentials.\n",
        "- Password must be more than 7 characters with at least one symbol and one uppercase letter during login.\n",
        "\n",
        "3. Password Update:\n",
        "- Implement a function update_password(username, old_password, new_password) that allows a user to update their password.\n",
        "- Check if the user is logged in. If not, raise an exception indicating that the user must be logged in to update the password.\n",
        "- Verify the entered username and old password against the stored information in the database.\n",
        "- Update the password with the new password, which must meet the specified criteria.\n",
        "\n",
        "4. Account Deletion:\n",
        "- Implement a function delete_account(username, password) that allows a user to delete their account.\n",
        "- Check if the user is logged in. If not, raise an exception indicating that the user must be logged in to delete the account.\n",
        "- Verify the entered username and password against the stored information in the database.\n",
        "- Delete the user's information from the database.\n",
        "\n",
        "5. Testing:\n",
        "- Demonstrate the functionality of the system by performing user registration, log in, password update, and account deletion operations.\n",
        "- Create scenarios where exceptions are expected (e.g., attempting to register with an existing username, logging in while already logged in).\n",
        "- Validate and enforce security measures such as storing hashed passwords securely, proper email format during registration, and password complexity during login and registration.\n",
        "\n",
        "Instructions for Everyone:\n",
        "- Implement the functions based on the provided requirements.\n",
        "- Test the functionality using example scenarios and handle exceptions as specified.\n",
        "- Create scenarios to simulate various cases such as duplicate usernames, incorrect login credentials, updating passwords without being logged in, and attempting to delete an account without being logged in.\n",
        "- Ensure that the system provides appropriate feedback and raises exceptions with meaningful messages.\n",
        "- Pay attention to security aspects, such as storing hashed passwords securely, validating email formats, and enforcing password complexity during login and registration.\n",
        "- Encourage students to think about potential security vulnerabilities and ways to mitigate them."
      ],
      "metadata": {
        "id": "_ZQc071GC1mm"
      }
    },
    {
      "cell_type": "code",
      "source": [
        "# to create database\n",
        "import sqlite3\n",
        "conn = sqlite3.Connection(\"User_auth_and_Management_system.db\")\n",
        "cursor = conn.cursor()"
      ],
      "metadata": {
        "id": "JCYsu2lAC6Th"
      },
      "execution_count": 1,
      "outputs": []
    },
    {
      "cell_type": "code",
      "source": [
        "# creating table\n",
        "query = \"\"\"\n",
        "CREATE table userdetails\n",
        "(\n",
        "username varchar(50),\n",
        "firstname varchar(50),\n",
        "lastname varchar(50),\n",
        "password varchar(500)\n",
        ")\n",
        "\"\"\"\n",
        "cursor.execute(query)"
      ],
      "metadata": {
        "colab": {
          "base_uri": "https://localhost:8080/"
        },
        "id": "B4Lu49n_DE1V",
        "outputId": "a5ee9ffd-62de-46c2-dfa0-af0096ab34ad"
      },
      "execution_count": 2,
      "outputs": [
        {
          "output_type": "execute_result",
          "data": {
            "text/plain": [
              "<sqlite3.Cursor at 0x7b6391896a40>"
            ]
          },
          "metadata": {},
          "execution_count": 2
        }
      ]
    },
    {
      "cell_type": "code",
      "source": [
        "cursor.execute(\"ALTER TABLE userdetails ADD email varchar\")"
      ],
      "metadata": {
        "colab": {
          "base_uri": "https://localhost:8080/"
        },
        "id": "rLh-fWKYDLm3",
        "outputId": "219e66dd-0647-41b3-f563-914db48981f0"
      },
      "execution_count": 3,
      "outputs": [
        {
          "output_type": "execute_result",
          "data": {
            "text/plain": [
              "<sqlite3.Cursor at 0x7b6391896a40>"
            ]
          },
          "metadata": {},
          "execution_count": 3
        }
      ]
    },
    {
      "cell_type": "code",
      "source": [
        "!pip install bcrypt"
      ],
      "metadata": {
        "colab": {
          "base_uri": "https://localhost:8080/"
        },
        "id": "we2lAEGuDaOJ",
        "outputId": "5bb42c13-c47d-4592-8887-18e7c5e08506"
      },
      "execution_count": 5,
      "outputs": [
        {
          "output_type": "stream",
          "name": "stdout",
          "text": [
            "Collecting bcrypt\n",
            "  Downloading bcrypt-4.1.2-cp39-abi3-manylinux_2_28_x86_64.whl (698 kB)\n",
            "\u001b[?25l     \u001b[90m━━━━━━━━━━━━━━━━━━━━━━━━━━━━━━━━━━━━━━━━\u001b[0m \u001b[32m0.0/698.9 kB\u001b[0m \u001b[31m?\u001b[0m eta \u001b[36m-:--:--\u001b[0m\r\u001b[2K     \u001b[91m━━━━━━━\u001b[0m\u001b[90m╺\u001b[0m\u001b[90m━━━━━━━━━━━━━━━━━━━━━━━━━━━━━━━━\u001b[0m \u001b[32m122.9/698.9 kB\u001b[0m \u001b[31m3.7 MB/s\u001b[0m eta \u001b[36m0:00:01\u001b[0m\r\u001b[2K     \u001b[91m━━━━━━━━━━━━━━━━━━━━━━━━━━━━\u001b[0m\u001b[91m╸\u001b[0m\u001b[90m━━━━━━━━━━━\u001b[0m \u001b[32m501.8/698.9 kB\u001b[0m \u001b[31m7.3 MB/s\u001b[0m eta \u001b[36m0:00:01\u001b[0m\r\u001b[2K     \u001b[90m━━━━━━━━━━━━━━━━━━━━━━━━━━━━━━━━━━━━━━━━\u001b[0m \u001b[32m698.9/698.9 kB\u001b[0m \u001b[31m7.0 MB/s\u001b[0m eta \u001b[36m0:00:00\u001b[0m\n",
            "\u001b[?25hInstalling collected packages: bcrypt\n",
            "Successfully installed bcrypt-4.1.2\n"
          ]
        }
      ]
    },
    {
      "cell_type": "code",
      "source": [
        "# solution register_user\n",
        "import bcrypt\n",
        "import re\n",
        "\n",
        "class UserAlreadyExist(Exception):\n",
        "    pass\n",
        "class EmailInvalidError(Exception):\n",
        "    pass\n",
        "def register_user(username, password):\n",
        "\n",
        "    try:\n",
        "      # fetchig all username from database\n",
        "        exist_username = cursor.execute(\"SELECT username from userdetails\").fetchall()\n",
        "        for item in exist_username:\n",
        "            new_item = list(item)\n",
        "            # checking user is exist or not\n",
        "            if \"\".join(new_item) == username:\n",
        "                raise UserAlreadyExist(\"Username already exist.\")\n",
        "\n",
        "        # password encrytion\n",
        "        password_byte = password.encode(\"utf-8\")\n",
        "        salt = bcrypt.gensalt()\n",
        "        hash_password = bcrypt.hashpw(password_byte, salt)\n",
        "\n",
        "        # taking user input first name\n",
        "        first_name = input(\"Enter a first name:\")\n",
        "\n",
        "        # taking user input last name\n",
        "        last_name = input(\"Enter a last name:\")\n",
        "\n",
        "\n",
        "        # validating user email id\n",
        "        regex = r'\\b[A-Za-z0-9._%+-]+@[A-Za-z0-9.-]+\\.[A-Z|a-z]{2,7}\\b'\n",
        "        valid_email = True\n",
        "        while valid_email:\n",
        "          email = input(\"Enter a email:\")\n",
        "          if (re.fullmatch(regex, email)):\n",
        "            data_to_be_inserted = (username, first_name, last_name, hash_password, email)\n",
        "            valid_email = False\n",
        "          else:\n",
        "            raise EmailInvalidError(\"Invalid email\")\n",
        "\n",
        "        print(data_to_be_inserted)\n",
        "        print(\"----------------\")\n",
        "        insert_query = \"\"\"\n",
        "        Insert into userdetails\n",
        "        (username, firstname, lastname, password, email)\n",
        "        values\n",
        "        (?,?,?,?,?)\n",
        "        \"\"\"\n",
        "        cursor.execute(insert_query, data_to_be_inserted)\n",
        "        print(\"User registered successfully!\")\n",
        "    except (UserAlreadyExist, EmailInvalidError) as e:\n",
        "        print(e)"
      ],
      "metadata": {
        "id": "fSGU8fNCDMBq"
      },
      "execution_count": 7,
      "outputs": []
    },
    {
      "cell_type": "code",
      "source": [
        "# login user\n",
        "class UserAlreadyLoginError(Exception):\n",
        "  pass\n",
        "class UserNotRegisteredError(Exception):\n",
        "  pass\n",
        "class IncorrectPasswordError(Exception):\n",
        "  pass\n",
        "\n",
        "logged_in_user = dict()\n",
        "\n",
        "\n",
        "def login_user(username, password):\n",
        "\n",
        "  exist_username =dict(cursor.execute(\"SELECT username, password  from userdetails\").fetchall())\n",
        "  password_byte = password.encode(\"utf-8\")\n",
        "  for user_key, pass_value in exist_username.items():\n",
        "   user_password = bcrypt.checkpw(password_byte, pass_value)\n",
        "\n",
        "\n",
        "  try:\n",
        "    if username not in exist_username:\n",
        "      raise UserNotRegisteredError(f\"Username {username} is not register.\")\n",
        "    elif user_password is False:\n",
        "      raise IncorrectPasswordError(f\"Password is incorrect.\")\n",
        "    elif username in logged_in_user:\n",
        "      raise UserAlreadyLoginError(f\"User is already logged in. You need to logged out first.\")\n",
        "\n",
        "    else:\n",
        "      logged_in_user.update({username:password})\n",
        "      print(f\"User {username} logged in Successful.\")\n",
        "\n",
        "  except (UserNotRegisteredError, UserAlreadyLoginError, IncorrectPasswordError) as e:\n",
        "      print(e)\n",
        "\n",
        "\n",
        "def logout_user(username):\n",
        "  if username in logged_in_user:\n",
        "    logged_in_user.pop(username)\n",
        "    print(f\"User {username} is logged out successfully.\")\n",
        "  else:\n",
        "    print(f\"User {username} is not logged in.\")"
      ],
      "metadata": {
        "id": "HuECiiaSDS18"
      },
      "execution_count": 26,
      "outputs": []
    },
    {
      "cell_type": "code",
      "source": [
        "# update password\n",
        "\n",
        "def update_password(username, old_password, new_password):\n",
        "  exist_username =dict(cursor.execute(\"SELECT username, password  from userdetails\").fetchall())\n",
        "  old_password_byte = old_password.encode(\"utf-8\")\n",
        "  new_password_byte = new_password.encode(\"utf-8\")\n",
        "  salt = bcrypt.gensalt()\n",
        "  hash_new_password = bcrypt.hashpw(new_password_byte, salt)\n",
        "  for user_key, pass_value in exist_username.items():\n",
        "    if user_key == username:\n",
        "      user_password = bcrypt.checkpw(old_password_byte, pass_value)\n",
        "\n",
        "\n",
        "  try:\n",
        "    if username not in exist_username:\n",
        "      raise UserNotRegisteredError(f\"Username {username} is not register.\")\n",
        "    elif user_password is False:\n",
        "      raise IncorrectPasswordError(f\"Password is incorrect.\")\n",
        "    elif username in logged_in_user:\n",
        "\n",
        "      print(f\"User is already logged in.\")\n",
        "      update_query = \"\"\"\n",
        "        update userdetails\n",
        "        set password = ?\n",
        "        where username = ?\n",
        "        \"\"\"\n",
        "      cursor.execute(update_query, (hash_new_password,username))\n",
        "      print(\"Updating password successful.\")\n",
        "\n",
        "    else:\n",
        "      logged_in_user.update({username:hash_new_password})\n",
        "      print(f\"User {username} logged in Successful.\")\n",
        "\n",
        "  except (UserNotRegisteredError, UserAlreadyLoginError, IncorrectPasswordError) as e:\n",
        "      print(e)"
      ],
      "metadata": {
        "id": "hn3_8RQ0Dqho"
      },
      "execution_count": 25,
      "outputs": []
    },
    {
      "cell_type": "code",
      "source": [
        "# delete\n",
        "\n",
        "def delete(username, password):\n",
        "  exist_username = dict(cursor.execute(\"SELECT username, password  from userdetails\").fetchall())\n",
        "  password_byte = password.encode(\"utf-8\")\n",
        "\n",
        "  for user_key, pass_value in exist_username.items():\n",
        "   user_password = bcrypt.checkpw(password_byte, pass_value)\n",
        "\n",
        "\n",
        "  try:\n",
        "    if username not in exist_username:\n",
        "      raise UserNotRegisteredError(f\"Username {username} is not register.\")\n",
        "    elif user_password is False:\n",
        "      raise IncorrectPasswordError(f\"Password is incorrect.\")\n",
        "    elif username in logged_in_user:\n",
        "\n",
        "      delete_query = \"\"\"\n",
        "        delete  from userdetails\n",
        "        where username = ?\n",
        "        \"\"\"\n",
        "      cursor.execute(delete_query, (username,))\n",
        "      print(f\"Deletion is successfulled.\")\n",
        "\n",
        "\n",
        "    else:\n",
        "      logged_in_user.update({username:password})\n",
        "      print(f\"User {username} logged in Successful.\")\n",
        "\n",
        "  except (UserNotRegisteredError, UserAlreadyLoginError, IncorrectPasswordError) as e:\n",
        "      print(e)"
      ],
      "metadata": {
        "id": "kJb_eyf5GXNT"
      },
      "execution_count": 31,
      "outputs": []
    },
    {
      "cell_type": "code",
      "source": [
        "# generating_username\n",
        "\n",
        "def get_username():\n",
        "  # getting username input\n",
        "  generate_username = input(\"Enter a username:\")\n",
        "  return generate_username.strip()\n",
        "# generating_password\n",
        "def get_password():\n",
        "  try:\n",
        "\n",
        "    # getting password input\n",
        "    valid_password = True\n",
        "    while valid_password:\n",
        "        generate_password = input(\"Enter a password: \")\n",
        "        if len(generate_password) < 8:\n",
        "            print(\"Password length should be at least seven characters.\")\n",
        "        else:\n",
        "            symbol_flag = False\n",
        "            upper_flag = False\n",
        "            lower_flag = False\n",
        "            digit_flag = False\n",
        "\n",
        "            for char in generate_password:\n",
        "                if char in \"~!@#$%^&*()_+=-`?\":\n",
        "                    symbol_flag = True\n",
        "                elif char.isupper():\n",
        "                    upper_flag = True\n",
        "                elif char.islower():\n",
        "                    lower_flag = True\n",
        "                elif char.isdigit():\n",
        "                    digit_flag = True\n",
        "\n",
        "            reasons = []\n",
        "            if not upper_flag:\n",
        "                reasons.append(\"Password should contain at least one uppercase letter.\")\n",
        "            if not lower_flag:\n",
        "                reasons.append(\"Password should contain at least one lowercase letter.\")\n",
        "            if not symbol_flag:\n",
        "                reasons.append(\"Password should contain at least one symbol (~!@#$%^&*()_+=-`).\")\n",
        "            if not digit_flag:\n",
        "                reasons.append(\"Password should contain at least one digit.\")\n",
        "\n",
        "            if reasons:\n",
        "                print(\"Invalid password.\")\n",
        "                for reason in reasons:\n",
        "                    print(\" -\", reason)\n",
        "            else:\n",
        "                valid_password = False\n",
        "\n",
        "  except Exception as e:\n",
        "    print(e)\n",
        "  return generate_password.strip()"
      ],
      "metadata": {
        "id": "o2kng1z-D17I"
      },
      "execution_count": 35,
      "outputs": []
    },
    {
      "cell_type": "code",
      "source": [
        "# main function\n",
        "if __name__ == \"__main__\":\n",
        "\n",
        "  print(\"Welcome to User Authentication and Management System\")\n",
        "  action = input(\"Enter a action to  be performed(register/login/delete/update): \")\n",
        "  if action.lower().strip() == \"register\":\n",
        "    username, password = get_username(), get_password()\n",
        "    register_user(username=username, password=password)\n",
        "  elif action.lower().strip() == \"login\":\n",
        "    username, password = get_username(), get_password()\n",
        "    login_user(username=username, password=password)\n",
        "  elif action.lower().strip() == \"delete\":\n",
        "    username, password = get_username(), get_password()\n",
        "    delete(username=username, password=password)\n",
        "  elif action.lower().strip() == \"update\":\n",
        "    username, old_password = get_username(), get_password()\n",
        "    new_password = get_password()\n",
        "    update_password(username=username, old_password=old_password, new_password=new_password)\n",
        "  else:\n",
        "    print(\"Invalid action.\")\n"
      ],
      "metadata": {
        "colab": {
          "base_uri": "https://localhost:8080/"
        },
        "id": "L1Na-uuHEp5N",
        "outputId": "70920d8b-dc89-40f2-9c84-a7c6494eb292"
      },
      "execution_count": 38,
      "outputs": [
        {
          "output_type": "stream",
          "name": "stdout",
          "text": [
            "Welcome to User Authentication and Management System\n",
            "Enter a action to  be performed(register/login/delete/update): delete\n",
            "Enter a username:NaresDhimal\n",
            "Enter a password: DhimalNaresh1?\n",
            "Deletion is successfulled.\n"
          ]
        }
      ]
    },
    {
      "cell_type": "code",
      "source": [],
      "metadata": {
        "id": "sqYr2crGLzLL"
      },
      "execution_count": null,
      "outputs": []
    }
  ]
}
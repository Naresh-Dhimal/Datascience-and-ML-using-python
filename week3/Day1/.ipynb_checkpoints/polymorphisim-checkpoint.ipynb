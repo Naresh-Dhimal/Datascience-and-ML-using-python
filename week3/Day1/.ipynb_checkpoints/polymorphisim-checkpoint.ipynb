{
 "cells": [
  {
   "cell_type": "code",
   "execution_count": 69,
   "id": "b0eb6ddf-008b-4e4a-9660-f6302ad1318c",
   "metadata": {},
   "outputs": [],
   "source": [
    "# Polymorphism\n",
    "class Parent:\n",
    "    def show(self):\n",
    "        print(\"I am Parent.\")\n",
    "    def add(self, a, b):\n",
    "        print(a + b)\n",
    "        "
   ]
  },
  {
   "cell_type": "code",
   "execution_count": 70,
   "id": "9b1b9c5e-a037-4ac1-bc7a-bc2caeb5056e",
   "metadata": {},
   "outputs": [],
   "source": [
    "class Child:\n",
    "    def show(self):\n",
    "        print(\"I am child\")\n",
    "    def add(self, a, b):\n",
    "        print(a + b)"
   ]
  },
  {
   "cell_type": "code",
   "execution_count": 71,
   "id": "d7e30b40-cfbb-4cae-9cbc-59fcacf32bae",
   "metadata": {},
   "outputs": [],
   "source": [
    "c1 = Child()\n",
    "p1 = Parent()\n"
   ]
  },
  {
   "cell_type": "code",
   "execution_count": 72,
   "id": "6d705ac4-6416-4eb8-88b8-7bb41d64fb9b",
   "metadata": {},
   "outputs": [
    {
     "name": "stdout",
     "output_type": "stream",
     "text": [
      "I am child\n"
     ]
    }
   ],
   "source": [
    "c1.show()"
   ]
  },
  {
   "cell_type": "code",
   "execution_count": 73,
   "id": "019a962a-ddd1-4ae9-97bb-791a3033fff6",
   "metadata": {},
   "outputs": [
    {
     "name": "stdout",
     "output_type": "stream",
     "text": [
      "I am Parent.\n"
     ]
    }
   ],
   "source": [
    "p1.show()"
   ]
  },
  {
   "cell_type": "code",
   "execution_count": 74,
   "id": "1cd5b5c5-0390-44d2-8f9c-0619051165fd",
   "metadata": {},
   "outputs": [
    {
     "name": "stdout",
     "output_type": "stream",
     "text": [
      "7\n"
     ]
    }
   ],
   "source": [
    "p1.add(4,3)"
   ]
  },
  {
   "cell_type": "code",
   "execution_count": 75,
   "id": "871db936-01fd-48c7-85d8-98256135a654",
   "metadata": {},
   "outputs": [
    {
     "name": "stdout",
     "output_type": "stream",
     "text": [
      "9\n"
     ]
    }
   ],
   "source": [
    "c1.add(4,5)"
   ]
  },
  {
   "cell_type": "code",
   "execution_count": null,
   "id": "154b190d-d593-4e7a-82c3-93f938f7083f",
   "metadata": {},
   "outputs": [],
   "source": []
  }
 ],
 "metadata": {
  "kernelspec": {
   "display_name": "Python 3 (ipykernel)",
   "language": "python",
   "name": "python3"
  },
  "language_info": {
   "codemirror_mode": {
    "name": "ipython",
    "version": 3
   },
   "file_extension": ".py",
   "mimetype": "text/x-python",
   "name": "python",
   "nbconvert_exporter": "python",
   "pygments_lexer": "ipython3",
   "version": "3.11.1"
  }
 },
 "nbformat": 4,
 "nbformat_minor": 5
}

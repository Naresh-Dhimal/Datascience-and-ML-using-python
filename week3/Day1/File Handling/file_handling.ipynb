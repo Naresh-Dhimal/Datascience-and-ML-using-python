{
 "cells": [
  {
   "cell_type": "markdown",
   "id": "aa245c16-efb1-46ea-842a-5cd0c32ae811",
   "metadata": {},
   "source": [
    "# FILE HANDLING"
   ]
  },
  {
   "cell_type": "code",
   "execution_count": 4,
   "id": "1f3f4ff1-7ab7-4ddf-abff-bf5249176db3",
   "metadata": {},
   "outputs": [
    {
     "name": "stderr",
     "output_type": "stream",
     "text": [
      "'cat' is not recognized as an internal or external command,\n",
      "operable program or batch file.\n"
     ]
    }
   ],
   "source": [
    "!cat demo.txt"
   ]
  },
  {
   "cell_type": "markdown",
   "id": "ef7f1816-ab07-4c32-b7d7-5530bd1baf83",
   "metadata": {},
   "source": [
    "# READ MODE(\"r\")\n",
    "`read() method`\n",
    "* .read()\n",
    "* .readline()\n",
    "* .readlines()\n",
    "  "
   ]
  },
  {
   "cell_type": "code",
   "execution_count": 6,
   "id": "0ca1fbbf-6e5f-4f31-819d-d70d4938d8fb",
   "metadata": {},
   "outputs": [],
   "source": [
    "# to read file\n",
    "file = open(\"demo.txt\",\"r\")"
   ]
  },
  {
   "cell_type": "code",
   "execution_count": 7,
   "id": "053247df-c885-4f1f-a7fa-58439473e0df",
   "metadata": {},
   "outputs": [
    {
     "data": {
      "text/plain": [
       "<_io.TextIOWrapper name='demo.txt' mode='r' encoding='cp65001'>"
      ]
     },
     "execution_count": 7,
     "metadata": {},
     "output_type": "execute_result"
    }
   ],
   "source": [
    "file"
   ]
  },
  {
   "cell_type": "code",
   "execution_count": 8,
   "id": "f04edfd1-351d-4e04-bdcf-88f31d869a2e",
   "metadata": {},
   "outputs": [
    {
     "data": {
      "text/plain": [
       "'Hi am learning python.\\nPython is awesome languages'"
      ]
     },
     "execution_count": 8,
     "metadata": {},
     "output_type": "execute_result"
    }
   ],
   "source": [
    "file.read()"
   ]
  },
  {
   "cell_type": "code",
   "execution_count": 21,
   "id": "86c6d05c-b1ac-4403-a2ba-c305f19a6dfc",
   "metadata": {},
   "outputs": [
    {
     "name": "stdout",
     "output_type": "stream",
     "text": [
      "<class '_io.TextIOWrapper'>\n"
     ]
    }
   ],
   "source": [
    "print(type(file))"
   ]
  },
  {
   "cell_type": "markdown",
   "id": "aa1f92b4-11a7-45b7-8b46-1a16d209924c",
   "metadata": {},
   "source": [
    "# Alternative way"
   ]
  },
  {
   "cell_type": "code",
   "execution_count": 50,
   "id": "e0cef947-5b35-457b-b9f9-7fba3b839687",
   "metadata": {},
   "outputs": [
    {
     "name": "stdout",
     "output_type": "stream",
     "text": [
      "<class 'str'>\n"
     ]
    }
   ],
   "source": [
    "# .read()\n",
    "with open(\"demo.txt\",\"r\") as file:\n",
    "    print(type(file.read()))"
   ]
  },
  {
   "cell_type": "code",
   "execution_count": 58,
   "id": "2a294c76-5cd9-48c0-8187-a8a4373aff88",
   "metadata": {},
   "outputs": [
    {
     "name": "stdout",
     "output_type": "stream",
     "text": [
      "In kathman\n"
     ]
    }
   ],
   "source": [
    "with open(\"demo.txt\",\"r\") as file:\n",
    "    print(file.read(10))"
   ]
  },
  {
   "cell_type": "code",
   "execution_count": 54,
   "id": "f35f5d01-6498-41be-b649-a93b19dd7a0c",
   "metadata": {},
   "outputs": [
    {
     "name": "stdout",
     "output_type": "stream",
     "text": [
      "In kathmandu metropolitian citybut i live in bhaktapurbut i live in bhaktapur\n",
      "<class 'str'>\n"
     ]
    }
   ],
   "source": [
    "# .readline()\n",
    "with open(\"demo.txt\",\"r\") as file:\n",
    "    print(file.readline())\n",
    "    print(type(file.readline()))"
   ]
  },
  {
   "cell_type": "code",
   "execution_count": 57,
   "id": "a06c1cce-1b82-415e-8d61-ea4f53133f17",
   "metadata": {},
   "outputs": [
    {
     "name": "stdout",
     "output_type": "stream",
     "text": [
      "['In kathmandu metropolitian citybut i live in bhaktapurbut i live in bhaktapur']\n",
      "<class 'list'>\n"
     ]
    }
   ],
   "source": [
    "# .readlines()\n",
    "with open(\"demo.txt\",\"r\") as file:\n",
    "    print(file.readlines())\n",
    "    print(type(file.readlines()))\n",
    "    file.close()"
   ]
  },
  {
   "cell_type": "code",
   "execution_count": 62,
   "id": "115cca05-a1d7-47e2-a732-8d8bf09ed663",
   "metadata": {},
   "outputs": [
    {
     "name": "stdout",
     "output_type": "stream",
     "text": [
      "In kathman\n",
      "du metropolitian citybut i live in bhaktapurbut i live in bhaktapur\n"
     ]
    }
   ],
   "source": [
    "file = open(\"demo.txt\",\"r\")\n",
    "print(file.read(10))\n",
    "print(file.readline())\n",
    "\n",
    "file.close()\n"
   ]
  },
  {
   "cell_type": "code",
   "execution_count": 65,
   "id": "8036a5ed-105b-4b56-834f-020e97193a3b",
   "metadata": {},
   "outputs": [
    {
     "name": "stdout",
     "output_type": "stream",
     "text": [
      "In kathman\n",
      "du metropolitian citybut i live in bhaktapurbut i live in bhaktapur\n"
     ]
    }
   ],
   "source": [
    "file = open(\"demo.txt\",\"r\")\n",
    "print(file.read(10))\n",
    "print(file.readline())\n",
    "file.seek(1)\n",
    "file.close()\n"
   ]
  },
  {
   "cell_type": "code",
   "execution_count": 77,
   "id": "f9f6150e-931e-4db9-91c8-0c4253142514",
   "metadata": {},
   "outputs": [],
   "source": [
    "file = open(\"demo.txt\",\"r\")\n",
    "file_ = file\n",
    "test = file.read()\n",
    "test_ = file_.readline()\n",
    "file.seek(1)\n",
    "file.close()\n"
   ]
  },
  {
   "cell_type": "code",
   "execution_count": 82,
   "id": "c7375829-62f6-42c4-95d3-5749b748aa94",
   "metadata": {},
   "outputs": [
    {
     "data": {
      "text/plain": [
       "2264640060976"
      ]
     },
     "execution_count": 82,
     "metadata": {},
     "output_type": "execute_result"
    }
   ],
   "source": [
    "id(test)"
   ]
  },
  {
   "cell_type": "code",
   "execution_count": 79,
   "id": "8e33fac0-b9c4-4a65-bf3b-c602970eb96b",
   "metadata": {},
   "outputs": [
    {
     "name": "stdout",
     "output_type": "stream",
     "text": [
      "thmandu metropolitian citybut i live in bhaktapurbut i live in bhaktapur\n"
     ]
    }
   ],
   "source": [
    "with open(\"demo.txt\",\"r\") as file:\n",
    "    line = file.read(5)\n",
    "    print(file.readline())"
   ]
  },
  {
   "cell_type": "code",
   "execution_count": 78,
   "id": "6fbdf9e8-18de-4214-84c3-0ecda9f8e9eb",
   "metadata": {},
   "outputs": [
    {
     "data": {
      "text/plain": [
       "''"
      ]
     },
     "execution_count": 78,
     "metadata": {},
     "output_type": "execute_result"
    }
   ],
   "source": [
    "test_"
   ]
  },
  {
   "cell_type": "code",
   "execution_count": 67,
   "id": "3bbad48f-3dbe-4cb7-aa18-cdee7ff9c055",
   "metadata": {},
   "outputs": [
    {
     "name": "stdout",
     "output_type": "stream",
     "text": [
      "['In kathmandu metropolitian citybut i live in bhaktapurbut i live in bhaktapur']\n"
     ]
    }
   ],
   "source": [
    "with open(\"demo.txt\",\"r\") as file:\n",
    "    line = file.readlines()\n",
    "    print(line)\n",
    "    "
   ]
  },
  {
   "cell_type": "markdown",
   "id": "bdd7172d-9840-4081-8307-a4bdf3244f4b",
   "metadata": {},
   "source": [
    "# WRITE MODE(\"w\")"
   ]
  },
  {
   "cell_type": "code",
   "execution_count": 40,
   "id": "fdf931e1-ee5e-475c-b35a-ea53d90dbeb7",
   "metadata": {},
   "outputs": [
    {
     "name": "stdout",
     "output_type": "stream",
     "text": [
      "<class '_io.TextIOWrapper'>\n"
     ]
    }
   ],
   "source": [
    "file = open(\"demo.text\",\"w\")\n",
    "print(type(file))"
   ]
  },
  {
   "cell_type": "markdown",
   "id": "870ff2a9-a0b3-4d03-b66b-4692f713ba2b",
   "metadata": {},
   "source": [
    "# Alternative way"
   ]
  },
  {
   "cell_type": "code",
   "execution_count": 26,
   "id": "0ead357a-6346-4864-aaa6-13d64d5ba4b8",
   "metadata": {},
   "outputs": [],
   "source": [
    "with open(\"demo.txt\",\"w\") as file:\n",
    "    file.write(\"\"\"In kathmandu metropolitian city\n",
    "    nteo\"\"\")"
   ]
  },
  {
   "cell_type": "code",
   "execution_count": 27,
   "id": "e537377f-dc1b-405b-8c62-7a1a93941747",
   "metadata": {},
   "outputs": [
    {
     "name": "stdout",
     "output_type": "stream",
     "text": [
      "<class '_io.TextIOWrapper'>\n"
     ]
    }
   ],
   "source": [
    "print(type(file))"
   ]
  },
  {
   "cell_type": "code",
   "execution_count": 24,
   "id": "0a800997-b0dd-4680-8683-ba47e5919d62",
   "metadata": {},
   "outputs": [
    {
     "name": "stdout",
     "output_type": "stream",
     "text": [
      "In kathmandu metropolitian city\n"
     ]
    }
   ],
   "source": [
    "with open(\"demo.txt\",\"r\") as file:\n",
    "    print(file.read())"
   ]
  },
  {
   "cell_type": "markdown",
   "id": "0208796e-012f-4ea2-b200-4a19a4b0eaa1",
   "metadata": {},
   "source": [
    "# APPEND MODE(\"a\")"
   ]
  },
  {
   "cell_type": "code",
   "execution_count": 43,
   "id": "a28637d7-8259-445e-89c5-552f4f84d92c",
   "metadata": {},
   "outputs": [
    {
     "name": "stdout",
     "output_type": "stream",
     "text": [
      "<class '_io.TextIOWrapper'>\n"
     ]
    }
   ],
   "source": [
    "file = open(\"demo.txt\",\"a\")\n",
    "print(type(file))"
   ]
  },
  {
   "cell_type": "markdown",
   "id": "a050c642-1e87-4e7b-a396-e6de6a8e1526",
   "metadata": {},
   "source": [
    "# Alternative Way"
   ]
  },
  {
   "cell_type": "code",
   "execution_count": 35,
   "id": "10e8b653-7d4d-4781-9b8b-c820199f6e54",
   "metadata": {},
   "outputs": [],
   "source": [
    "with open(\"demo.txt\", \"a\") as file:\n",
    "    file.write(\"but i live in bhaktapur\")"
   ]
  },
  {
   "cell_type": "code",
   "execution_count": 29,
   "id": "3f935c66-41e0-4581-b8de-0aecc67f2098",
   "metadata": {},
   "outputs": [
    {
     "name": "stdout",
     "output_type": "stream",
     "text": [
      "<class '_io.TextIOWrapper'>\n"
     ]
    }
   ],
   "source": [
    "print(type(file))"
   ]
  },
  {
   "cell_type": "code",
   "execution_count": 37,
   "id": "58bf20fd-8368-4a0e-af8b-849f411046b3",
   "metadata": {},
   "outputs": [
    {
     "name": "stdout",
     "output_type": "stream",
     "text": [
      "In kathmandu metropolitian citybut i live in bhaktapurbut i live in bhaktapur\n"
     ]
    }
   ],
   "source": [
    "with open(\"demo.txt\", \"r\") as file:\n",
    "    print(file.read())"
   ]
  },
  {
   "cell_type": "markdown",
   "id": "fab3f074-8e51-43c6-9301-f0f453bad9ff",
   "metadata": {},
   "source": [
    "# CREATE MODE(\"x\")"
   ]
  },
  {
   "cell_type": "code",
   "execution_count": 44,
   "id": "b3e8a174-40fd-45e2-9d1e-a23f27436564",
   "metadata": {},
   "outputs": [
    {
     "name": "stdout",
     "output_type": "stream",
     "text": [
      "<class '_io.TextIOWrapper'>\n"
     ]
    }
   ],
   "source": [
    "file = open(\"demo2.txt\",\"x\")\n",
    "print(type(file))"
   ]
  },
  {
   "cell_type": "markdown",
   "id": "88f7af70-b72d-49dc-b756-297cf75616e9",
   "metadata": {},
   "source": [
    "# Alternative way"
   ]
  },
  {
   "cell_type": "code",
   "execution_count": 32,
   "id": "2d0cd58e-833e-4a59-b473-64ca53ca7208",
   "metadata": {},
   "outputs": [],
   "source": [
    "with open(\"demo1.txt\", \"x\") as file:\n",
    "    pass"
   ]
  },
  {
   "cell_type": "code",
   "execution_count": 33,
   "id": "ad13a5b5-5851-40af-97be-78a09ecea763",
   "metadata": {},
   "outputs": [
    {
     "name": "stdout",
     "output_type": "stream",
     "text": [
      "<class '_io.TextIOWrapper'>\n"
     ]
    }
   ],
   "source": [
    "print(type(file))"
   ]
  },
  {
   "cell_type": "code",
   "execution_count": null,
   "id": "9eb27699-757c-4dde-9fba-10668e7d6b7a",
   "metadata": {},
   "outputs": [],
   "source": []
  }
 ],
 "metadata": {
  "kernelspec": {
   "display_name": "Python 3 (ipykernel)",
   "language": "python",
   "name": "python3"
  },
  "language_info": {
   "codemirror_mode": {
    "name": "ipython",
    "version": 3
   },
   "file_extension": ".py",
   "mimetype": "text/x-python",
   "name": "python",
   "nbconvert_exporter": "python",
   "pygments_lexer": "ipython3",
   "version": "3.11.1"
  }
 },
 "nbformat": 4,
 "nbformat_minor": 5
}

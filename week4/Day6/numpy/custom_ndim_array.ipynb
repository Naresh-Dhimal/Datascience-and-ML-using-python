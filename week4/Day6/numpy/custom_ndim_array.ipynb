{
  "nbformat": 4,
  "nbformat_minor": 0,
  "metadata": {
    "colab": {
      "provenance": []
    },
    "kernelspec": {
      "name": "python3",
      "display_name": "Python 3"
    },
    "language_info": {
      "name": "python"
    }
  },
  "cells": [
    {
      "cell_type": "code",
      "execution_count": 39,
      "metadata": {
        "id": "BvhEeggrbP81"
      },
      "outputs": [],
      "source": [
        "class Array:\n",
        "  def __init__(self, shape):\n",
        "    self.shape = shape\n",
        "    self.size = self.get_size(shape)\n",
        "    self.data = [0] * self.size\n",
        "\n",
        "  def get_size(self,shape):\n",
        "    size = 1\n",
        "    for dim in shape:\n",
        "        size *= dim\n",
        "    return size\n",
        "\n",
        "  def __len__(self):\n",
        "    return len(self.data)\n",
        "\n",
        "  # getitem\n",
        "  def __getitem__(self, index):\n",
        "    return self.data[index]\n",
        "\n",
        "  # display data\n",
        "  def __repr__(self):\n",
        "    return repr(self.data)\n",
        "\n",
        "  # setitem\n",
        "  def __setitem__(self, index, value):\n",
        "    if type(value) != self.typecode:\n",
        "      raise ValueError(\"Invalid Type!\")\n",
        "    self.data[index] = value\n",
        "\n",
        "  # append\n",
        "  def append(self, value):\n",
        "    try:\n",
        "      if type(value) != self.typecode:\n",
        "        raise ValueError(\"Invalid Type\")\n",
        "    except ValueError as e:\n",
        "      print(e)\n",
        "    self.data.append(value)\n",
        "\n",
        "  # insertion\n",
        "  def insert(self, index, value):\n",
        "    try:\n",
        "        if type(value) != self.typecode:\n",
        "          raise ValueError(\"Invalid Error\")\n",
        "    except ValueError as e:\n",
        "      print(e)\n",
        "    if index < len(self.data):\n",
        "      self.data.insert(index, value)\n",
        "    else:\n",
        "      self.append(value)\n",
        "\n",
        "  # Deletion\n",
        "  def delete(self, index):\n",
        "    del self.data[index]\n",
        "\n",
        "  # sorting\n",
        "  def sort(self):\n",
        "    self.data.sort()\n",
        "\n",
        "  # search value\n",
        "  def search(self, value):\n",
        "    try:\n",
        "      if type(value) != self.typecode:\n",
        "        raise ValueError(\"Invalid Type\")\n",
        "      index = self.data.index(value)\n",
        "      return index\n",
        "    except ValueError:\n",
        "      return None\n",
        "\n",
        "  # updating\n",
        "  def update(self, index , value):\n",
        "    try:\n",
        "      if type(value) != self.typecode:\n",
        "        raise ValueError(\"Invalid Type\")\n",
        "    except ValueError as e:\n",
        "      print(e)\n",
        "    self.data[index] = value"
      ]
    },
    {
      "cell_type": "code",
      "source": [
        "a = Array(shape=(2,))\n",
        "a.typecode=int\n",
        "a.insert(1,3)\n",
        "print(a)\n"
      ],
      "metadata": {
        "colab": {
          "base_uri": "https://localhost:8080/"
        },
        "id": "twBVDaO3cD2A",
        "outputId": "4c71b997-f4b0-4334-93bb-1a812464adfa"
      },
      "execution_count": 40,
      "outputs": [
        {
          "output_type": "stream",
          "name": "stdout",
          "text": [
            "[0, 3, 0]\n"
          ]
        }
      ]
    },
    {
      "cell_type": "code",
      "source": [
        "a.delete(1)\n",
        "print(a)"
      ],
      "metadata": {
        "colab": {
          "base_uri": "https://localhost:8080/"
        },
        "id": "37j7V_Tgeqla",
        "outputId": "de27eed4-638c-43e6-9592-adc88a2a4911"
      },
      "execution_count": 24,
      "outputs": [
        {
          "output_type": "stream",
          "name": "stdout",
          "text": [
            "[0, 0]\n"
          ]
        }
      ]
    },
    {
      "cell_type": "code",
      "source": [
        "a.sort()"
      ],
      "metadata": {
        "id": "3UedRp6dfsm_"
      },
      "execution_count": 43,
      "outputs": []
    },
    {
      "cell_type": "code",
      "source": [
        "print(a)"
      ],
      "metadata": {
        "colab": {
          "base_uri": "https://localhost:8080/"
        },
        "id": "ohPUSZ0wfspy",
        "outputId": "1330ae08-71ec-4a95-ae9a-e08eade2cff5"
      },
      "execution_count": 28,
      "outputs": [
        {
          "output_type": "stream",
          "name": "stdout",
          "text": [
            "[0, 0, 3]\n"
          ]
        }
      ]
    },
    {
      "cell_type": "code",
      "source": [
        "a.search(3)"
      ],
      "metadata": {
        "colab": {
          "base_uri": "https://localhost:8080/"
        },
        "id": "HInMTWR6fvYx",
        "outputId": "88c55557-4f4e-4acb-c65d-59192930f3a3"
      },
      "execution_count": 34,
      "outputs": [
        {
          "output_type": "execute_result",
          "data": {
            "text/plain": [
              "1"
            ]
          },
          "metadata": {},
          "execution_count": 34
        }
      ]
    },
    {
      "cell_type": "code",
      "source": [
        "a.update(1, 4)"
      ],
      "metadata": {
        "id": "7pn7sa5Zgh2o"
      },
      "execution_count": 41,
      "outputs": []
    },
    {
      "cell_type": "code",
      "source": [
        "print(a)"
      ],
      "metadata": {
        "colab": {
          "base_uri": "https://localhost:8080/"
        },
        "id": "gG2RHYO_hyd3",
        "outputId": "a2385442-c0c9-413a-c439-506cbb937df2"
      },
      "execution_count": 42,
      "outputs": [
        {
          "output_type": "stream",
          "name": "stdout",
          "text": [
            "[0, 4, 0]\n"
          ]
        }
      ]
    },
    {
      "cell_type": "code",
      "source": [
        " # Time and Space Complexity Analysis:\n",
        "\n",
        "# Accessing Elements:\n",
        "# Best Case: O(1) - accessing the first element\n",
        "# Worst Case: O(1) - accessing the last element\n",
        "# Average Case: O(1)\n",
        "\n",
        "# Insertion:\n",
        "# Best Case: O(1) - inserting at the beginning\n",
        "# Worst Case: O(n) - inserting at the end, requires shifting all elements\n",
        "# Average Case: O(n)\n",
        "\n",
        "# Deletion:\n",
        "# Best Case: O(1) - deleting the first element\n",
        "# Worst Case: O(n) - deleting the last element, requires shifting all elements\n",
        "# Average Case: O(n)\n",
        "\n",
        "# Updating:\n",
        "# Best Case: O(1) - updating any element\n",
        "# Worst Case: O(1) - updating any element\n",
        "# Average Case: O(1)\n",
        "\n",
        "# Sorting:\n",
        "# Best Case: O(n log n) - sorting already sorted array\n",
        "# Worst Case: O(n log n) - sorting in general case\n",
        "# Average Case: O(n log n)\n",
        "\n",
        "# Searching:\n",
        "# Best Case: O(1) - found at the first element\n",
        "# Worst Case: O(n) - not found or found at the last element\n",
        "# Average Case: O(n)"
      ],
      "metadata": {
        "id": "XVJiCvMih72b"
      },
      "execution_count": null,
      "outputs": []
    }
  ]
}
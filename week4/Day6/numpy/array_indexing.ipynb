{
  "nbformat": 4,
  "nbformat_minor": 0,
  "metadata": {
    "colab": {
      "provenance": []
    },
    "kernelspec": {
      "name": "python3",
      "display_name": "Python 3"
    },
    "language_info": {
      "name": "python"
    }
  },
  "cells": [
    {
      "cell_type": "markdown",
      "source": [
        "# Indexing and Slicing"
      ],
      "metadata": {
        "id": "4K0tnDVtKy14"
      }
    },
    {
      "cell_type": "code",
      "source": [
        "# importing numpy\n",
        "import numpy as np\n"
      ],
      "metadata": {
        "id": "CvGGfpOdLAp9"
      },
      "execution_count": 13,
      "outputs": []
    },
    {
      "cell_type": "code",
      "source": [
        "np.random.seed(0)"
      ],
      "metadata": {
        "id": "G-n5RNItLTq4"
      },
      "execution_count": 14,
      "outputs": []
    },
    {
      "cell_type": "code",
      "source": [
        "a = np.array(np.random.randint(low=10, high=20, size=10))\n",
        "b = np.array(np.random.randint(low=30, high=50, size=10))\n",
        "print(a)"
      ],
      "metadata": {
        "colab": {
          "base_uri": "https://localhost:8080/"
        },
        "id": "O6PJLgG8LgFR",
        "outputId": "afd077c9-03b4-4525-a693-10f42c170caf"
      },
      "execution_count": 17,
      "outputs": [
        {
          "output_type": "stream",
          "name": "stdout",
          "text": [
            "[17 16 18 18 11 16 17 17 18 11]\n"
          ]
        }
      ]
    },
    {
      "cell_type": "code",
      "source": [
        "for i in range(len(a)-1):\n",
        "  print(f'{i+1}item : {a[i]}')"
      ],
      "metadata": {
        "colab": {
          "base_uri": "https://localhost:8080/"
        },
        "id": "z37NPUeWLriF",
        "outputId": "fa6b3089-7337-415c-8bb3-6799646716f7"
      },
      "execution_count": 16,
      "outputs": [
        {
          "output_type": "stream",
          "name": "stdout",
          "text": [
            "1item : 15\n",
            "2item : 10\n",
            "3item : 13\n",
            "4item : 13\n",
            "5item : 17\n",
            "6item : 19\n",
            "7item : 13\n",
            "8item : 15\n",
            "9item : 12\n"
          ]
        }
      ]
    },
    {
      "cell_type": "markdown",
      "source": [
        "# 2D Array"
      ],
      "metadata": {
        "id": "yUbH01d9OIv-"
      }
    },
    {
      "cell_type": "code",
      "source": [
        "arr_2d = np.array([a,b])\n",
        "arr_2d"
      ],
      "metadata": {
        "id": "iEZooGIJMjw0",
        "colab": {
          "base_uri": "https://localhost:8080/"
        },
        "outputId": "7e1eaec3-cd1e-4c84-95c1-ae8787d1e3e7"
      },
      "execution_count": 21,
      "outputs": [
        {
          "output_type": "execute_result",
          "data": {
            "text/plain": [
              "array([[17, 16, 18, 18, 11, 16, 17, 17, 18, 11],\n",
              "       [35, 43, 38, 39, 49, 46, 49, 35, 45, 45]])"
            ]
          },
          "metadata": {},
          "execution_count": 21
        }
      ]
    },
    {
      "cell_type": "code",
      "source": [
        "row, col = arr_2d.shape\n",
        "for i in range(row):\n",
        "  for j in range(col):\n",
        "    print(arr_2d[i,j])"
      ],
      "metadata": {
        "colab": {
          "base_uri": "https://localhost:8080/"
        },
        "id": "2SkdxMnZNZAC",
        "outputId": "ecb0564b-c767-4692-9eee-17a1bd386ae8"
      },
      "execution_count": 46,
      "outputs": [
        {
          "output_type": "stream",
          "name": "stdout",
          "text": [
            "17\n",
            "16\n",
            "18\n",
            "18\n",
            "11\n",
            "16\n",
            "17\n",
            "17\n",
            "18\n",
            "11\n",
            "35\n",
            "43\n",
            "38\n",
            "39\n",
            "49\n",
            "46\n",
            "49\n",
            "35\n",
            "45\n",
            "45\n"
          ]
        }
      ]
    },
    {
      "cell_type": "code",
      "source": [
        "arr_2d[0 : 2, :5:2]"
      ],
      "metadata": {
        "colab": {
          "base_uri": "https://localhost:8080/"
        },
        "id": "71aMACaZNqF4",
        "outputId": "866aa242-2abe-437e-840a-2b301c254388"
      },
      "execution_count": 35,
      "outputs": [
        {
          "output_type": "execute_result",
          "data": {
            "text/plain": [
              "array([[17, 18, 11],\n",
              "       [35, 38, 49]])"
            ]
          },
          "metadata": {},
          "execution_count": 35
        }
      ]
    },
    {
      "cell_type": "markdown",
      "source": [
        "# Slicing 1D array"
      ],
      "metadata": {
        "id": "_Qrzh3bcRGd-"
      }
    },
    {
      "cell_type": "code",
      "source": [
        "a = np.array(np.random.randint(low=10, high=20, size=10))\n",
        "a"
      ],
      "metadata": {
        "colab": {
          "base_uri": "https://localhost:8080/"
        },
        "id": "R-ilAfZuNvEP",
        "outputId": "0f7f3b33-c013-4644-9754-f76dc99fe518"
      },
      "execution_count": 31,
      "outputs": [
        {
          "output_type": "execute_result",
          "data": {
            "text/plain": [
              "array([10, 12, 13, 18, 11, 13, 13, 13, 17, 10])"
            ]
          },
          "metadata": {},
          "execution_count": 31
        }
      ]
    },
    {
      "cell_type": "code",
      "source": [
        "a[1:5]"
      ],
      "metadata": {
        "colab": {
          "base_uri": "https://localhost:8080/"
        },
        "id": "jLQMz-myPN5B",
        "outputId": "bafcf483-a84e-4e80-e532-d2cac7022348"
      },
      "execution_count": 33,
      "outputs": [
        {
          "output_type": "execute_result",
          "data": {
            "text/plain": [
              "array([12, 18])"
            ]
          },
          "metadata": {},
          "execution_count": 33
        }
      ]
    },
    {
      "cell_type": "code",
      "source": [
        "a[-3:-1] # left to right"
      ],
      "metadata": {
        "colab": {
          "base_uri": "https://localhost:8080/"
        },
        "id": "cQdezLkgPRDk",
        "outputId": "8d386ba4-cdc3-41d0-bf03-83cc7537fdb3"
      },
      "execution_count": 36,
      "outputs": [
        {
          "output_type": "execute_result",
          "data": {
            "text/plain": [
              "array([13, 17])"
            ]
          },
          "metadata": {},
          "execution_count": 36
        }
      ]
    },
    {
      "cell_type": "code",
      "source": [
        "a[-3:] # left to right"
      ],
      "metadata": {
        "colab": {
          "base_uri": "https://localhost:8080/"
        },
        "id": "88ERCmjEQE-J",
        "outputId": "ccc6c1bb-62ad-4ed4-ea82-92fb9ba633cd"
      },
      "execution_count": 37,
      "outputs": [
        {
          "output_type": "execute_result",
          "data": {
            "text/plain": [
              "array([13, 17, 10])"
            ]
          },
          "metadata": {},
          "execution_count": 37
        }
      ]
    },
    {
      "cell_type": "code",
      "source": [
        "a[:-3] # left to right"
      ],
      "metadata": {
        "colab": {
          "base_uri": "https://localhost:8080/"
        },
        "id": "bMCecUG1QNLj",
        "outputId": "b70b7d4f-9e17-4e91-dd22-8d4549371f3a"
      },
      "execution_count": 38,
      "outputs": [
        {
          "output_type": "execute_result",
          "data": {
            "text/plain": [
              "array([10, 12, 13, 18, 11, 13, 13])"
            ]
          },
          "metadata": {},
          "execution_count": 38
        }
      ]
    },
    {
      "cell_type": "markdown",
      "source": [
        "# Reverse"
      ],
      "metadata": {
        "id": "PsI3UDoQQ6f-"
      }
    },
    {
      "cell_type": "code",
      "source": [
        "a[::-1] # right to left"
      ],
      "metadata": {
        "colab": {
          "base_uri": "https://localhost:8080/"
        },
        "id": "tkpn9DP4QPk4",
        "outputId": "90c67b08-31b1-4bd6-b0cd-61d6068f27f7"
      },
      "execution_count": 39,
      "outputs": [
        {
          "output_type": "execute_result",
          "data": {
            "text/plain": [
              "array([10, 17, 13, 13, 13, 11, 18, 13, 12, 10])"
            ]
          },
          "metadata": {},
          "execution_count": 39
        }
      ]
    },
    {
      "cell_type": "markdown",
      "source": [
        "# 2D slicing"
      ],
      "metadata": {
        "id": "rYs8UGQKUEZ0"
      }
    },
    {
      "cell_type": "code",
      "source": [
        "arr_2d"
      ],
      "metadata": {
        "colab": {
          "base_uri": "https://localhost:8080/"
        },
        "id": "nLnvCLz8QXr8",
        "outputId": "98c34209-5a22-4348-e9a9-e06c974563b2"
      },
      "execution_count": 56,
      "outputs": [
        {
          "output_type": "execute_result",
          "data": {
            "text/plain": [
              "array([[17, 16, 18, 18, 11, 16, 17, 17, 18, 11],\n",
              "       [35, 43, 38, 39, 49, 46, 49, 35, 45, 45]])"
            ]
          },
          "metadata": {},
          "execution_count": 56
        }
      ]
    },
    {
      "cell_type": "code",
      "source": [
        "arr_2d[::,3:6]"
      ],
      "metadata": {
        "colab": {
          "base_uri": "https://localhost:8080/"
        },
        "id": "zMkDgoSLVRkA",
        "outputId": "73ec0326-e715-496f-b8fe-c5e52cd7daf8"
      },
      "execution_count": 59,
      "outputs": [
        {
          "output_type": "execute_result",
          "data": {
            "text/plain": [
              "array([[18, 11, 16],\n",
              "       [39, 49, 46]])"
            ]
          },
          "metadata": {},
          "execution_count": 59
        }
      ]
    },
    {
      "cell_type": "markdown",
      "source": [
        "# Copy and View"
      ],
      "metadata": {
        "id": "tkRJMzS_VOLA"
      }
    },
    {
      "cell_type": "markdown",
      "source": [
        "# .copy()"
      ],
      "metadata": {
        "id": "6m1mPCL9WZcw"
      }
    },
    {
      "cell_type": "code",
      "source": [
        "# .copy() method to copy the value of base array\n",
        "copy_arr = arr_2d.copy()\n",
        "# hint: np.shares.memory(arr1, arr2)"
      ],
      "metadata": {
        "id": "NP5PQb6lQleL"
      },
      "execution_count": 51,
      "outputs": []
    },
    {
      "cell_type": "code",
      "source": [
        "print(f\"\"\"Do original array and copy array shares an memory?\n",
        "Ans: {np.shares_memory(arr_2d, copy_arr)}\"\"\")"
      ],
      "metadata": {
        "colab": {
          "base_uri": "https://localhost:8080/"
        },
        "id": "Pq4q2j4hRtxD",
        "outputId": "de6965a6-cb15-43a0-cee7-e4b872f15c55"
      },
      "execution_count": 53,
      "outputs": [
        {
          "output_type": "stream",
          "name": "stdout",
          "text": [
            "Do original array and copy array shares an memory?\n",
            "Ans: False\n"
          ]
        }
      ]
    },
    {
      "cell_type": "code",
      "source": [
        "# here just assigning the base array to new variable\n",
        "copy_arr = arr_2d\n",
        "print(f\"\"\"Do original array and copy array shares an memory?\n",
        "Ans: {np.shares_memory(arr_2d, copy_arr)}\"\"\")"
      ],
      "metadata": {
        "colab": {
          "base_uri": "https://localhost:8080/"
        },
        "id": "jW5lhzz0UYZ7",
        "outputId": "27fd6dc0-dfac-4410-bc1b-a2bc1ca97779"
      },
      "execution_count": 60,
      "outputs": [
        {
          "output_type": "stream",
          "name": "stdout",
          "text": [
            "Do original array and copy array shares an memory?\n",
            "Ans: True\n"
          ]
        }
      ]
    },
    {
      "cell_type": "markdown",
      "source": [
        "# .view()"
      ],
      "metadata": {
        "id": "dXQQfEiOWdQe"
      }
    },
    {
      "cell_type": "code",
      "source": [
        "# .view() method to view the value of base array\n",
        "view_arr = arr_2d.view()"
      ],
      "metadata": {
        "id": "yjMvK8qIVKyI"
      },
      "execution_count": 63,
      "outputs": []
    },
    {
      "cell_type": "code",
      "source": [
        "print(f\"\"\"Do original array and view array shares an memory?\n",
        "Ans: {np.shares_memory(arr_2d, copy_arr)}\"\"\")"
      ],
      "metadata": {
        "colab": {
          "base_uri": "https://localhost:8080/"
        },
        "id": "RoyhA06FWoMo",
        "outputId": "3cc5b7ce-a4a7-4d09-ebf3-e4c1d9dfce54"
      },
      "execution_count": 62,
      "outputs": [
        {
          "output_type": "stream",
          "name": "stdout",
          "text": [
            "Do original array and view array shares an memory?\n",
            "Ans: True\n"
          ]
        }
      ]
    },
    {
      "cell_type": "code",
      "source": [],
      "metadata": {
        "id": "UknlKvLtWsdr"
      },
      "execution_count": null,
      "outputs": []
    }
  ]
}
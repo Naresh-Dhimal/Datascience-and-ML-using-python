{
 "cells": [
  {
   "cell_type": "code",
   "execution_count": 1,
   "id": "7d3ede34-3576-43f9-b2ed-e8b165614f27",
   "metadata": {},
   "outputs": [],
   "source": [
    "import pandas as pd"
   ]
  },
  {
   "cell_type": "code",
   "execution_count": 9,
   "id": "9c83d3be-1dee-42ef-a8c8-e1c8b8fe9b26",
   "metadata": {},
   "outputs": [],
   "source": [
    "list_column = ['Gender', \"Age\",'Weight',\"Height\"]"
   ]
  },
  {
   "cell_type": "code",
   "execution_count": 13,
   "id": "77396240-d466-4771-8481-f7ccd63ecda9",
   "metadata": {},
   "outputs": [],
   "source": [
    "list_data = [(\"Male\", \"E\", 70, 7.8 ),(\"Female\",\"A\",80,7.9),(\"Male\",\"A\",55,6.1),(\"Male\",\"C\",60,5.3),(\"Female\",\"A\",33,5.2)]"
   ]
  },
  {
   "cell_type": "code",
   "execution_count": 14,
   "id": "2fff3623-b7d0-4944-a57f-e405c47f3f2a",
   "metadata": {},
   "outputs": [],
   "source": [
    "df = pd.DataFrame(list_data, columns =list_column )"
   ]
  },
  {
   "cell_type": "code",
   "execution_count": 15,
   "id": "d4cc4788-46e9-452b-94fb-db86d2844130",
   "metadata": {},
   "outputs": [
    {
     "data": {
      "text/html": [
       "<div>\n",
       "<style scoped>\n",
       "    .dataframe tbody tr th:only-of-type {\n",
       "        vertical-align: middle;\n",
       "    }\n",
       "\n",
       "    .dataframe tbody tr th {\n",
       "        vertical-align: top;\n",
       "    }\n",
       "\n",
       "    .dataframe thead th {\n",
       "        text-align: right;\n",
       "    }\n",
       "</style>\n",
       "<table border=\"1\" class=\"dataframe\">\n",
       "  <thead>\n",
       "    <tr style=\"text-align: right;\">\n",
       "      <th></th>\n",
       "      <th>Gender</th>\n",
       "      <th>Age</th>\n",
       "      <th>Weight</th>\n",
       "      <th>Height</th>\n",
       "    </tr>\n",
       "  </thead>\n",
       "  <tbody>\n",
       "    <tr>\n",
       "      <th>0</th>\n",
       "      <td>Male</td>\n",
       "      <td>E</td>\n",
       "      <td>70</td>\n",
       "      <td>7.8</td>\n",
       "    </tr>\n",
       "    <tr>\n",
       "      <th>1</th>\n",
       "      <td>Female</td>\n",
       "      <td>A</td>\n",
       "      <td>80</td>\n",
       "      <td>7.9</td>\n",
       "    </tr>\n",
       "    <tr>\n",
       "      <th>2</th>\n",
       "      <td>Male</td>\n",
       "      <td>A</td>\n",
       "      <td>55</td>\n",
       "      <td>6.1</td>\n",
       "    </tr>\n",
       "    <tr>\n",
       "      <th>3</th>\n",
       "      <td>Male</td>\n",
       "      <td>C</td>\n",
       "      <td>60</td>\n",
       "      <td>5.3</td>\n",
       "    </tr>\n",
       "    <tr>\n",
       "      <th>4</th>\n",
       "      <td>Female</td>\n",
       "      <td>A</td>\n",
       "      <td>33</td>\n",
       "      <td>5.2</td>\n",
       "    </tr>\n",
       "  </tbody>\n",
       "</table>\n",
       "</div>"
      ],
      "text/plain": [
       "   Gender Age  Weight  Height\n",
       "0    Male   E      70     7.8\n",
       "1  Female   A      80     7.9\n",
       "2    Male   A      55     6.1\n",
       "3    Male   C      60     5.3\n",
       "4  Female   A      33     5.2"
      ]
     },
     "execution_count": 15,
     "metadata": {},
     "output_type": "execute_result"
    }
   ],
   "source": [
    "df"
   ]
  },
  {
   "cell_type": "markdown",
   "id": "035f03b7-0fed-440d-b097-d185fa7ad851",
   "metadata": {},
   "source": [
    "# here, gender and age are categorical data where weigth and height are numerical data"
   ]
  },
  {
   "cell_type": "code",
   "execution_count": null,
   "id": "19ebf7d0-2ca5-4caf-a998-00e23bb06cf3",
   "metadata": {},
   "outputs": [],
   "source": [
    "data = \n",
    "H0 = \n",
    "H1 =\n",
    "test ="
   ]
  }
 ],
 "metadata": {
  "kernelspec": {
   "display_name": "Python 3 (ipykernel)",
   "language": "python",
   "name": "python3"
  },
  "language_info": {
   "codemirror_mode": {
    "name": "ipython",
    "version": 3
   },
   "file_extension": ".py",
   "mimetype": "text/x-python",
   "name": "python",
   "nbconvert_exporter": "python",
   "pygments_lexer": "ipython3",
   "version": "3.11.1"
  }
 },
 "nbformat": 4,
 "nbformat_minor": 5
}

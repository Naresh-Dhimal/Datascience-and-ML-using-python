{
 "cells": [
  {
   "cell_type": "markdown",
   "metadata": {
    "id": "9nYHnUDC9xda"
   },
   "source": [
    "# Numpy\n",
    "* stands for numerical python\n",
    "* numpy is a python library used for working with arrays\n",
    "* has function for working in domain of linear algebra, fourier tansfrom and matrices\n",
    "* numpy array is a collection of homogeneous data types stored in contiguous memory location\n",
    "* written parially in python, but parts that require fast computation are written in C or C++"
   ]
  },
  {
   "cell_type": "markdown",
   "metadata": {
    "id": "nkZEnRXD93Ao"
   },
   "source": [
    "# Why is Numpy is fast?\n",
    "* An array is a collection of homogeneous data types that are stored in contiguous memory location\n",
    "* Vectorized operations are possible in NumPy\n",
    "* NUmpy package integrates C,C++ and Fortran codes in python"
   ]
  },
  {
   "cell_type": "code",
   "execution_count": 1,
   "metadata": {
    "id": "8ALQxij5AvO6"
   },
   "outputs": [],
   "source": [
    "import numpy as np"
   ]
  },
  {
   "cell_type": "code",
   "execution_count": 2,
   "metadata": {
    "id": "qAexbExOAyRA"
   },
   "outputs": [
    {
     "name": "stdout",
     "output_type": "stream",
     "text": [
      "[13 16  1  4  4  8 10 19  5  7]\n"
     ]
    }
   ],
   "source": [
    "# create numpy array vai 1D list\n",
    "np.random.seed(0)\n",
    "list1 = np.random.randint(low=1 , high=20, size= 10)\n",
    "arr = np.array(list1)\n",
    "print(arr)"
   ]
  },
  {
   "cell_type": "code",
   "execution_count": 3,
   "metadata": {},
   "outputs": [
    {
     "data": {
      "text/plain": [
       "numpy.ndarray"
      ]
     },
     "execution_count": 3,
     "metadata": {},
     "output_type": "execute_result"
    }
   ],
   "source": [
    "# checking the type af arr\n",
    "type(arr)"
   ]
  },
  {
   "cell_type": "code",
   "execution_count": 8,
   "metadata": {},
   "outputs": [
    {
     "data": {
      "text/plain": [
       "array([[13., 16.,  1.,  4.,  4.,  8., 10., 19.,  5.,  7.],\n",
       "       [27., 25., 14., 19., 20., 11., 11., 17., 19., 13.]], dtype=float32)"
      ]
     },
     "execution_count": 8,
     "metadata": {},
     "output_type": "execute_result"
    }
   ],
   "source": [
    "# create numpy array vai 1D list\n",
    "list2 = np.random.randint(low=10, high=30,size=10)\n",
    "arr2 = np.array([list1,list2], dtype='float32')\n",
    "arr2"
   ]
  },
  {
   "cell_type": "code",
   "execution_count": 11,
   "metadata": {},
   "outputs": [
    {
     "data": {
      "text/plain": [
       "(2, 10)"
      ]
     },
     "execution_count": 11,
     "metadata": {},
     "output_type": "execute_result"
    }
   ],
   "source": [
    "# shape\n",
    "arr2.shape"
   ]
  },
  {
   "cell_type": "code",
   "execution_count": 12,
   "metadata": {},
   "outputs": [
    {
     "data": {
      "text/plain": [
       "2"
      ]
     },
     "execution_count": 12,
     "metadata": {},
     "output_type": "execute_result"
    }
   ],
   "source": [
    "# dimension\n",
    "arr2.ndim"
   ]
  },
  {
   "cell_type": "code",
   "execution_count": null,
   "metadata": {},
   "outputs": [],
   "source": []
  }
 ],
 "metadata": {
  "colab": {
   "provenance": []
  },
  "kernelspec": {
   "display_name": "Python 3 (ipykernel)",
   "language": "python",
   "name": "python3"
  },
  "language_info": {
   "codemirror_mode": {
    "name": "ipython",
    "version": 3
   },
   "file_extension": ".py",
   "mimetype": "text/x-python",
   "name": "python",
   "nbconvert_exporter": "python",
   "pygments_lexer": "ipython3",
   "version": "3.11.1"
  }
 },
 "nbformat": 4,
 "nbformat_minor": 4
}

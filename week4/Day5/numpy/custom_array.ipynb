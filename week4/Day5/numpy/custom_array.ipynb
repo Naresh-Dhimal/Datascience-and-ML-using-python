{
  "nbformat": 4,
  "nbformat_minor": 0,
  "metadata": {
    "colab": {
      "provenance": []
    },
    "kernelspec": {
      "name": "python3",
      "display_name": "Python 3"
    },
    "language_info": {
      "name": "python"
    }
  },
  "cells": [
    {
      "cell_type": "markdown",
      "source": [
        "# Custom Array"
      ],
      "metadata": {
        "id": "sNRqZIyFNd5u"
      }
    },
    {
      "cell_type": "code",
      "source": [
        "# Creating custom 1D Array\n",
        "class Array:\n",
        "  def __init__(self):\n",
        "    self.data = [] # initializing empty\n",
        "\n",
        "  def __len__(self):\n",
        "    return len(self.data) # return the len function value\n",
        "\n",
        "  def __getitem__(self,index):\n",
        "    return self.data[index] # geting the item index\n",
        "\n",
        "  def __setitem__(self,index, value):\n",
        "    if type(value) != self.typecode:\n",
        "      raise ValueError(\"Invalid Type\")\n",
        "    self.data[index] = value # setting the value in index\n",
        "\n",
        "  def __repr__(self):\n",
        "    return repr(self.data) # return the contain of data\n",
        "\n",
        "  def append(self, value):\n",
        "    try:\n",
        "      if type(value) != self.typecode:\n",
        "        raise ValueError(\"Invalid Type\")\n",
        "    except ValueError as e:\n",
        "      print(e)\n",
        "    self.data.append(value)  # appending the new value to a data\n",
        "\n",
        "  def insert(self, index , value):\n",
        "    try:\n",
        "      if type(value) != self.typecode:\n",
        "        raise ValueError(\"Invalid Type\")\n",
        "    except ValueError as e:\n",
        "      print(e)\n",
        "    if index < len(self.data):\n",
        "      self.data.insert(value) # here, inserting the value in specified index\n",
        "    else:\n",
        "      self.append(value) # else just appending value in last index"
      ],
      "metadata": {
        "id": "0bOwuahSP4mB"
      },
      "execution_count": 31,
      "outputs": []
    },
    {
      "cell_type": "code",
      "source": [
        "a = Array()\n",
        "a.typecode = int\n",
        "a.append(21)\n",
        "a.insert(1,23)"
      ],
      "metadata": {
        "id": "gghKNf3GSoJz"
      },
      "execution_count": 26,
      "outputs": []
    },
    {
      "cell_type": "code",
      "source": [
        "a"
      ],
      "metadata": {
        "colab": {
          "base_uri": "https://localhost:8080/",
          "height": 0
        },
        "id": "UvfjqbgJS12O",
        "outputId": "b799e630-594b-4896-cf9d-a5a1dcf14937"
      },
      "execution_count": 27,
      "outputs": [
        {
          "output_type": "execute_result",
          "data": {
            "text/plain": [
              "[21, 23]"
            ]
          },
          "metadata": {},
          "execution_count": 27
        }
      ]
    },
    {
      "cell_type": "code",
      "source": [
        "a.insert(5,1)"
      ],
      "metadata": {
        "id": "lJyn3KDzVUUF"
      },
      "execution_count": 28,
      "outputs": []
    },
    {
      "cell_type": "code",
      "source": [
        "a"
      ],
      "metadata": {
        "colab": {
          "base_uri": "https://localhost:8080/",
          "height": 0
        },
        "id": "JlxyQpqpXn-q",
        "outputId": "46adc8cc-540a-41aa-8526-4c20bcaa6445"
      },
      "execution_count": 29,
      "outputs": [
        {
          "output_type": "execute_result",
          "data": {
            "text/plain": [
              "[21, 23, 1]"
            ]
          },
          "metadata": {},
          "execution_count": 29
        }
      ]
    },
    {
      "cell_type": "code",
      "source": [
        "type(a)"
      ],
      "metadata": {
        "colab": {
          "base_uri": "https://localhost:8080/",
          "height": 104
        },
        "id": "sj2DEaBlXo_h",
        "outputId": "460317fd-72a6-4d40-a115-9bf6398b1dd0"
      },
      "execution_count": 30,
      "outputs": [
        {
          "output_type": "execute_result",
          "data": {
            "text/plain": [
              "__main__.Array"
            ],
            "text/html": [
              "<div style=\"max-width:800px; border: 1px solid var(--colab-border-color);\"><style>\n",
              "      pre.function-repr-contents {\n",
              "        overflow-x: auto;\n",
              "        padding: 8px 12px;\n",
              "        max-height: 500px;\n",
              "      }\n",
              "\n",
              "      pre.function-repr-contents.function-repr-contents-collapsed {\n",
              "        cursor: pointer;\n",
              "        max-height: 100px;\n",
              "      }\n",
              "    </style>\n",
              "    <pre style=\"white-space: initial; background:\n",
              "         var(--colab-secondary-surface-color); padding: 8px 12px;\n",
              "         border-bottom: 1px solid var(--colab-border-color);\"><b>Array</b><br/>def __init__()</pre><pre class=\"function-repr-contents function-repr-contents-collapsed\" style=\"\"><a class=\"filepath\" style=\"display:none\" href=\"#\"></a>&lt;no docstring&gt;</pre></div>"
            ]
          },
          "metadata": {},
          "execution_count": 30
        }
      ]
    },
    {
      "cell_type": "code",
      "source": [],
      "metadata": {
        "id": "wIOhZwVMZCiU"
      },
      "execution_count": null,
      "outputs": []
    }
  ]
}
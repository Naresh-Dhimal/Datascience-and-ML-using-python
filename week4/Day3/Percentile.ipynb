{
 "cells": [
  {
   "cell_type": "markdown",
   "id": "26bcd043-b9a7-434b-8565-3a71c52c301f",
   "metadata": {},
   "source": [
    "# Percentile"
   ]
  },
  {
   "cell_type": "code",
   "execution_count": 14,
   "id": "e5ef15a4-c6d0-44b9-8d13-92cff761ed90",
   "metadata": {
    "scrolled": true
   },
   "outputs": [],
   "source": [
    "import numpy as np\n",
    "import matplotlib.pyplot as plt\n",
    "import seaborn as sns"
   ]
  },
  {
   "cell_type": "code",
   "execution_count": 6,
   "id": "1bc7576b-2201-4d0e-aa16-a897cd617830",
   "metadata": {},
   "outputs": [],
   "source": [
    "data = [2,2,3,4,5,5,5,6,7,8,8,8,8,8,9,9,10,11,11,12]"
   ]
  },
  {
   "cell_type": "code",
   "execution_count": 7,
   "id": "b3fe54a8-52f1-43ce-810a-18386b438b5c",
   "metadata": {},
   "outputs": [],
   "source": [
    "data.sort()"
   ]
  },
  {
   "cell_type": "code",
   "execution_count": 9,
   "id": "48923f10-f75b-4fed-adf2-aa9da218ab0c",
   "metadata": {},
   "outputs": [],
   "source": [
    "def comput_percentile(data, value):\n",
    "    data_len_below_value = len(data[:data.index(value)])\n",
    "    n = len(data)\n",
    "    percentile_rank = data_len_below_value / n\n",
    "    return percentile_rank"
   ]
  },
  {
   "cell_type": "code",
   "execution_count": 11,
   "id": "b625c4b1-32ea-44fe-abd0-04253a250529",
   "metadata": {},
   "outputs": [],
   "source": [
    "p_10 = comput_percentile(data, 10)"
   ]
  },
  {
   "cell_type": "code",
   "execution_count": 12,
   "id": "410b7ab6-d0ee-4899-94fb-ae4837541f3c",
   "metadata": {},
   "outputs": [
    {
     "data": {
      "text/plain": [
       "0.8"
      ]
     },
     "execution_count": 12,
     "metadata": {},
     "output_type": "execute_result"
    }
   ],
   "source": [
    "p_10"
   ]
  },
  {
   "cell_type": "code",
   "execution_count": 16,
   "id": "b7fcc31a-64eb-42af-b0b7-3c60f91407e2",
   "metadata": {},
   "outputs": [],
   "source": [
    "p_11 = comput_percentile(data,11)"
   ]
  },
  {
   "cell_type": "code",
   "execution_count": 17,
   "id": "d92577a1-0d3d-4b67-b682-0d2858b2a9dc",
   "metadata": {},
   "outputs": [
    {
     "data": {
      "text/plain": [
       "0.85"
      ]
     },
     "execution_count": 17,
     "metadata": {},
     "output_type": "execute_result"
    }
   ],
   "source": [
    "p_11"
   ]
  },
  {
   "cell_type": "code",
   "execution_count": 18,
   "id": "48275221-9ece-4ff4-a813-b895107887b2",
   "metadata": {},
   "outputs": [
    {
     "name": "stdout",
     "output_type": "stream",
     "text": [
      "5.25\n"
     ]
    }
   ],
   "source": [
    "percentile = 25\n",
    "n = len(data)\n",
    "\n",
    "value = (percentile / 100) * (n + 1)\n",
    "print(value)"
   ]
  },
  {
   "cell_type": "code",
   "execution_count": 45,
   "id": "48b649ea-94a3-4629-b7df-e80de5a2540e",
   "metadata": {},
   "outputs": [
    {
     "data": {
      "text/plain": [
       "4.5"
      ]
     },
     "execution_count": 45,
     "metadata": {},
     "output_type": "execute_result"
    }
   ],
   "source": [
    "# using numpy\n",
    "data = [-25,-10,-15,2,2,3,4,5,5,5,6,7,8,8,8,8,8,9,9,10,11,11,12,20,21,19,25]\n",
    "value = np.percentile(data, 25)\n",
    "value"
   ]
  },
  {
   "cell_type": "code",
   "execution_count": 35,
   "id": "0467fcee-b9a4-4d65-b644-a56203f9351e",
   "metadata": {},
   "outputs": [
    {
     "data": {
      "text/plain": [
       "<Axes: title={'center': 'Box plot of data'}, xlabel='Data', ylabel='Values'>"
      ]
     },
     "execution_count": 35,
     "metadata": {},
     "output_type": "execute_result"
    },
    {
     "data": {
      "image/png": "[encoded data removed]",
      "text/plain": [
       "<Figure size 800x600 with 1 Axes>"
      ]
     },
     "metadata": {},
     "output_type": "display_data"
    }
   ],
   "source": [
    "plt.figure(figsize=(8,6))\n",
    "sns.boxplot(data=data, color='Purple')\n",
    "plt.xlabel(\"Data\")\n",
    "plt.ylabel(\"Values\")\n",
    "plt.title(\"Box plot of data\")\n",
    "sns.stripplot(data=data)"
   ]
  },
  {
   "cell_type": "code",
   "execution_count": 38,
   "id": "13814971-cb8d-4e9a-bba6-bc06c11f7d38",
   "metadata": {},
   "outputs": [],
   "source": [
    "import plotly.express as px"
   ]
  },
  {
   "cell_type": "code",
   "execution_count": 54,
   "id": "4d751724-e716-44a4-bde8-9b08346d5112",
   "metadata": {},
   "outputs": [],
   "source": [
    "data = [-25,-10,-15,2,2,3,4,5,5,5,6,7,8,8,8,8,8,9,9,10,11,11,12,20,21,19,25]\n",
    "px.box(data)\n",
    "plt.show()"
   ]
  },
  {
   "cell_type": "code",
   "execution_count": null,
   "id": "e6bebfb5-5c36-4bba-ab98-36efde718625",
   "metadata": {},
   "outputs": [],
   "source": []
  }
 ],
 "metadata": {
  "kernelspec": {
   "display_name": "Python 3 (ipykernel)",
   "language": "python",
   "name": "python3"
  },
  "language_info": {
   "codemirror_mode": {
    "name": "ipython",
    "version": 3
   },
   "file_extension": ".py",
   "mimetype": "text/x-python",
   "name": "python",
   "nbconvert_exporter": "python",
   "pygments_lexer": "ipython3",
   "version": "3.11.1"
  }
 },
 "nbformat": 4,
 "nbformat_minor": 5
}

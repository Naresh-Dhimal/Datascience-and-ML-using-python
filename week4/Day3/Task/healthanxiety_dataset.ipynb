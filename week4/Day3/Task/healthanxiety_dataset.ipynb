{
 "cells": [
  {
   "cell_type": "markdown",
   "id": "2ec22bef-6e84-4805-9881-97a508a62648",
   "metadata": {},
   "source": [
    "# Data inspection and profiling"
   ]
  },
  {
   "cell_type": "code",
   "execution_count": 49,
   "id": "605656dc-cc53-4266-9b39-7dd6522c167a",
   "metadata": {},
   "outputs": [
    {
     "name": "stdout",
     "output_type": "stream",
     "text": [
      "Requirement already satisfied: scipy in g:\\datascience and ml using python\\myenv\\lib\\site-packages (1.12.0)\n",
      "Requirement already satisfied: numpy<1.29.0,>=1.22.4 in g:\\datascience and ml using python\\myenv\\lib\\site-packages (from scipy) (1.26.4)\n"
     ]
    },
    {
     "name": "stderr",
     "output_type": "stream",
     "text": [
      "\n",
      "[notice] A new release of pip available: 22.3.1 -> 24.0\n",
      "[notice] To update, run: python.exe -m pip install --upgrade pip\n"
     ]
    }
   ],
   "source": [
    "# initializing labaries\n",
    "!pip install scipy"
   ]
  },
  {
   "cell_type": "code",
   "execution_count": 50,
   "id": "d3b250ed-ce6e-480c-956b-c0f8d36bda10",
   "metadata": {},
   "outputs": [],
   "source": [
    "import pandas as pd\n",
    "import numpy as np\n",
    "import matplotlib.pyplot as plt\n",
    "import seaborn as sns\n",
    "import statistics"
   ]
  },
  {
   "cell_type": "code",
   "execution_count": 51,
   "id": "1f299b9b-29b8-47f1-b22c-55aa0fa9c456",
   "metadata": {},
   "outputs": [
    {
     "data": {
      "text/html": [
       "<div>\n",
       "<style scoped>\n",
       "    .dataframe tbody tr th:only-of-type {\n",
       "        vertical-align: middle;\n",
       "    }\n",
       "\n",
       "    .dataframe tbody tr th {\n",
       "        vertical-align: top;\n",
       "    }\n",
       "\n",
       "    .dataframe thead th {\n",
       "        text-align: right;\n",
       "    }\n",
       "</style>\n",
       "<table border=\"1\" class=\"dataframe\">\n",
       "  <thead>\n",
       "    <tr style=\"text-align: right;\">\n",
       "      <th></th>\n",
       "      <th>subreddit</th>\n",
       "      <th>author</th>\n",
       "      <th>date</th>\n",
       "      <th>post</th>\n",
       "      <th>automated_readability_index</th>\n",
       "      <th>coleman_liau_index</th>\n",
       "      <th>flesch_kincaid_grade_level</th>\n",
       "      <th>flesch_reading_ease</th>\n",
       "      <th>gulpease_index</th>\n",
       "      <th>gunning_fog_index</th>\n",
       "      <th>...</th>\n",
       "      <th>tfidf_wish</th>\n",
       "      <th>tfidf_without</th>\n",
       "      <th>tfidf_wonder</th>\n",
       "      <th>tfidf_work</th>\n",
       "      <th>tfidf_worri</th>\n",
       "      <th>tfidf_wors</th>\n",
       "      <th>tfidf_would</th>\n",
       "      <th>tfidf_wrong</th>\n",
       "      <th>tfidf_x200b</th>\n",
       "      <th>tfidf_year</th>\n",
       "    </tr>\n",
       "  </thead>\n",
       "  <tbody>\n",
       "    <tr>\n",
       "      <th>0</th>\n",
       "      <td>healthanxiety</td>\n",
       "      <td>Nomis176</td>\n",
       "      <td>1/1/2018</td>\n",
       "      <td>Final doctor appointment tomorrow, tired of co...</td>\n",
       "      <td>9.137909</td>\n",
       "      <td>7.282428</td>\n",
       "      <td>8.616061</td>\n",
       "      <td>72.474091</td>\n",
       "      <td>61.090909</td>\n",
       "      <td>11.345455</td>\n",
       "      <td>...</td>\n",
       "      <td>0.0</td>\n",
       "      <td>0.0</td>\n",
       "      <td>0.0</td>\n",
       "      <td>0.000000</td>\n",
       "      <td>0.000000</td>\n",
       "      <td>0.0</td>\n",
       "      <td>0.0</td>\n",
       "      <td>0.000000</td>\n",
       "      <td>0.0</td>\n",
       "      <td>0.055919</td>\n",
       "    </tr>\n",
       "    <tr>\n",
       "      <th>1</th>\n",
       "      <td>healthanxiety</td>\n",
       "      <td>psychstudent317</td>\n",
       "      <td>1/1/2018</td>\n",
       "      <td>Anyone have bone or muscle pain that was stres...</td>\n",
       "      <td>4.399892</td>\n",
       "      <td>7.131386</td>\n",
       "      <td>3.665806</td>\n",
       "      <td>87.185376</td>\n",
       "      <td>74.161290</td>\n",
       "      <td>5.423656</td>\n",
       "      <td>...</td>\n",
       "      <td>0.0</td>\n",
       "      <td>0.0</td>\n",
       "      <td>0.0</td>\n",
       "      <td>0.000000</td>\n",
       "      <td>0.290466</td>\n",
       "      <td>0.0</td>\n",
       "      <td>0.0</td>\n",
       "      <td>0.000000</td>\n",
       "      <td>0.0</td>\n",
       "      <td>0.000000</td>\n",
       "    </tr>\n",
       "    <tr>\n",
       "      <th>2</th>\n",
       "      <td>healthanxiety</td>\n",
       "      <td>bulk_barn</td>\n",
       "      <td>1/1/2018</td>\n",
       "      <td>Listening to your body? I'm curious how those ...</td>\n",
       "      <td>3.590660</td>\n",
       "      <td>4.930895</td>\n",
       "      <td>4.605802</td>\n",
       "      <td>85.640967</td>\n",
       "      <td>72.584906</td>\n",
       "      <td>7.564151</td>\n",
       "      <td>...</td>\n",
       "      <td>0.0</td>\n",
       "      <td>0.0</td>\n",
       "      <td>0.0</td>\n",
       "      <td>0.110757</td>\n",
       "      <td>0.000000</td>\n",
       "      <td>0.0</td>\n",
       "      <td>0.0</td>\n",
       "      <td>0.332673</td>\n",
       "      <td>0.0</td>\n",
       "      <td>0.000000</td>\n",
       "    </tr>\n",
       "    <tr>\n",
       "      <th>3</th>\n",
       "      <td>healthanxiety</td>\n",
       "      <td>AutoModerator</td>\n",
       "      <td>1/1/2018</td>\n",
       "      <td>Weekly /r/HealthAnxiety Challenge - Exercise A...</td>\n",
       "      <td>4.515682</td>\n",
       "      <td>7.033342</td>\n",
       "      <td>5.059091</td>\n",
       "      <td>78.383636</td>\n",
       "      <td>72.863636</td>\n",
       "      <td>8.945455</td>\n",
       "      <td>...</td>\n",
       "      <td>0.0</td>\n",
       "      <td>0.0</td>\n",
       "      <td>0.0</td>\n",
       "      <td>0.000000</td>\n",
       "      <td>0.000000</td>\n",
       "      <td>0.0</td>\n",
       "      <td>0.0</td>\n",
       "      <td>0.000000</td>\n",
       "      <td>0.0</td>\n",
       "      <td>0.000000</td>\n",
       "    </tr>\n",
       "    <tr>\n",
       "      <th>4</th>\n",
       "      <td>healthanxiety</td>\n",
       "      <td>parthkhurana7</td>\n",
       "      <td>1/1/2018</td>\n",
       "      <td>This is killing me So i had a bacterial stomac...</td>\n",
       "      <td>3.034388</td>\n",
       "      <td>5.356252</td>\n",
       "      <td>3.977494</td>\n",
       "      <td>85.306958</td>\n",
       "      <td>76.721519</td>\n",
       "      <td>7.757637</td>\n",
       "      <td>...</td>\n",
       "      <td>0.0</td>\n",
       "      <td>0.0</td>\n",
       "      <td>0.0</td>\n",
       "      <td>0.000000</td>\n",
       "      <td>0.000000</td>\n",
       "      <td>0.0</td>\n",
       "      <td>0.0</td>\n",
       "      <td>0.000000</td>\n",
       "      <td>0.0</td>\n",
       "      <td>0.000000</td>\n",
       "    </tr>\n",
       "  </tbody>\n",
       "</table>\n",
       "<p>5 rows × 350 columns</p>\n",
       "</div>"
      ],
      "text/plain": [
       "       subreddit           author      date  \\\n",
       "0  healthanxiety         Nomis176  1/1/2018   \n",
       "1  healthanxiety  psychstudent317  1/1/2018   \n",
       "2  healthanxiety        bulk_barn  1/1/2018   \n",
       "3  healthanxiety    AutoModerator  1/1/2018   \n",
       "4  healthanxiety    parthkhurana7  1/1/2018   \n",
       "\n",
       "                                                post  \\\n",
       "0  Final doctor appointment tomorrow, tired of co...   \n",
       "1  Anyone have bone or muscle pain that was stres...   \n",
       "2  Listening to your body? I'm curious how those ...   \n",
       "3  Weekly /r/HealthAnxiety Challenge - Exercise A...   \n",
       "4  This is killing me So i had a bacterial stomac...   \n",
       "\n",
       "   automated_readability_index  coleman_liau_index  \\\n",
       "0                     9.137909            7.282428   \n",
       "1                     4.399892            7.131386   \n",
       "2                     3.590660            4.930895   \n",
       "3                     4.515682            7.033342   \n",
       "4                     3.034388            5.356252   \n",
       "\n",
       "   flesch_kincaid_grade_level  flesch_reading_ease  gulpease_index  \\\n",
       "0                    8.616061            72.474091       61.090909   \n",
       "1                    3.665806            87.185376       74.161290   \n",
       "2                    4.605802            85.640967       72.584906   \n",
       "3                    5.059091            78.383636       72.863636   \n",
       "4                    3.977494            85.306958       76.721519   \n",
       "\n",
       "   gunning_fog_index  ...  tfidf_wish  tfidf_without  tfidf_wonder  \\\n",
       "0          11.345455  ...         0.0            0.0           0.0   \n",
       "1           5.423656  ...         0.0            0.0           0.0   \n",
       "2           7.564151  ...         0.0            0.0           0.0   \n",
       "3           8.945455  ...         0.0            0.0           0.0   \n",
       "4           7.757637  ...         0.0            0.0           0.0   \n",
       "\n",
       "   tfidf_work  tfidf_worri  tfidf_wors  tfidf_would  tfidf_wrong  tfidf_x200b  \\\n",
       "0    0.000000     0.000000         0.0          0.0     0.000000          0.0   \n",
       "1    0.000000     0.290466         0.0          0.0     0.000000          0.0   \n",
       "2    0.110757     0.000000         0.0          0.0     0.332673          0.0   \n",
       "3    0.000000     0.000000         0.0          0.0     0.000000          0.0   \n",
       "4    0.000000     0.000000         0.0          0.0     0.000000          0.0   \n",
       "\n",
       "   tfidf_year  \n",
       "0    0.055919  \n",
       "1    0.000000  \n",
       "2    0.000000  \n",
       "3    0.000000  \n",
       "4    0.000000  \n",
       "\n",
       "[5 rows x 350 columns]"
      ]
     },
     "execution_count": 51,
     "metadata": {},
     "output_type": "execute_result"
    }
   ],
   "source": [
    "# to read csv file\n",
    "df = pd.read_csv(\"healthanxiety_dataset.csv\")\n",
    "df.head()"
   ]
  },
  {
   "cell_type": "code",
   "execution_count": 52,
   "id": "88558e15-a0ac-403f-95cc-a036126d4d88",
   "metadata": {},
   "outputs": [
    {
     "data": {
      "text/plain": [
       "Index(['subreddit', 'author', 'date', 'post', 'automated_readability_index',\n",
       "       'coleman_liau_index', 'flesch_kincaid_grade_level',\n",
       "       'flesch_reading_ease', 'gulpease_index', 'gunning_fog_index',\n",
       "       ...\n",
       "       'tfidf_wish', 'tfidf_without', 'tfidf_wonder', 'tfidf_work',\n",
       "       'tfidf_worri', 'tfidf_wors', 'tfidf_would', 'tfidf_wrong',\n",
       "       'tfidf_x200b', 'tfidf_year'],\n",
       "      dtype='object', length=350)"
      ]
     },
     "execution_count": 52,
     "metadata": {},
     "output_type": "execute_result"
    }
   ],
   "source": [
    "df.columns # to see columns in df"
   ]
  },
  {
   "cell_type": "code",
   "execution_count": 53,
   "id": "02b6af0f-ce83-430b-9dd2-dc51a1b42234",
   "metadata": {},
   "outputs": [
    {
     "data": {
      "text/plain": [
       "(1967, 350)"
      ]
     },
     "execution_count": 53,
     "metadata": {},
     "output_type": "execute_result"
    }
   ],
   "source": [
    "df.shape # to see shpae of data set"
   ]
  },
  {
   "cell_type": "markdown",
   "id": "df8bb453-b8f7-42c5-9bdf-213d3338cb0e",
   "metadata": {},
   "source": [
    "# Here, in above dataset there is in total 1967 rows and 350 columns"
   ]
  },
  {
   "cell_type": "code",
   "execution_count": 54,
   "id": "bd05bab8-5566-4b17-a147-d92a09b433f6",
   "metadata": {},
   "outputs": [
    {
     "data": {
      "text/html": [
       "<div>\n",
       "<style scoped>\n",
       "    .dataframe tbody tr th:only-of-type {\n",
       "        vertical-align: middle;\n",
       "    }\n",
       "\n",
       "    .dataframe tbody tr th {\n",
       "        vertical-align: top;\n",
       "    }\n",
       "\n",
       "    .dataframe thead th {\n",
       "        text-align: right;\n",
       "    }\n",
       "</style>\n",
       "<table border=\"1\" class=\"dataframe\">\n",
       "  <thead>\n",
       "    <tr style=\"text-align: right;\">\n",
       "      <th></th>\n",
       "      <th>subreddit</th>\n",
       "      <th>author</th>\n",
       "      <th>date</th>\n",
       "      <th>post</th>\n",
       "      <th>automated_readability_index</th>\n",
       "      <th>coleman_liau_index</th>\n",
       "      <th>flesch_kincaid_grade_level</th>\n",
       "      <th>flesch_reading_ease</th>\n",
       "      <th>gulpease_index</th>\n",
       "      <th>gunning_fog_index</th>\n",
       "      <th>...</th>\n",
       "      <th>tfidf_wish</th>\n",
       "      <th>tfidf_without</th>\n",
       "      <th>tfidf_wonder</th>\n",
       "      <th>tfidf_work</th>\n",
       "      <th>tfidf_worri</th>\n",
       "      <th>tfidf_wors</th>\n",
       "      <th>tfidf_would</th>\n",
       "      <th>tfidf_wrong</th>\n",
       "      <th>tfidf_x200b</th>\n",
       "      <th>tfidf_year</th>\n",
       "    </tr>\n",
       "  </thead>\n",
       "  <tbody>\n",
       "    <tr>\n",
       "      <th>0</th>\n",
       "      <td>False</td>\n",
       "      <td>False</td>\n",
       "      <td>False</td>\n",
       "      <td>False</td>\n",
       "      <td>False</td>\n",
       "      <td>False</td>\n",
       "      <td>False</td>\n",
       "      <td>False</td>\n",
       "      <td>False</td>\n",
       "      <td>False</td>\n",
       "      <td>...</td>\n",
       "      <td>False</td>\n",
       "      <td>False</td>\n",
       "      <td>False</td>\n",
       "      <td>False</td>\n",
       "      <td>False</td>\n",
       "      <td>False</td>\n",
       "      <td>False</td>\n",
       "      <td>False</td>\n",
       "      <td>False</td>\n",
       "      <td>False</td>\n",
       "    </tr>\n",
       "    <tr>\n",
       "      <th>1</th>\n",
       "      <td>False</td>\n",
       "      <td>False</td>\n",
       "      <td>False</td>\n",
       "      <td>False</td>\n",
       "      <td>False</td>\n",
       "      <td>False</td>\n",
       "      <td>False</td>\n",
       "      <td>False</td>\n",
       "      <td>False</td>\n",
       "      <td>False</td>\n",
       "      <td>...</td>\n",
       "      <td>False</td>\n",
       "      <td>False</td>\n",
       "      <td>False</td>\n",
       "      <td>False</td>\n",
       "      <td>False</td>\n",
       "      <td>False</td>\n",
       "      <td>False</td>\n",
       "      <td>False</td>\n",
       "      <td>False</td>\n",
       "      <td>False</td>\n",
       "    </tr>\n",
       "    <tr>\n",
       "      <th>2</th>\n",
       "      <td>False</td>\n",
       "      <td>False</td>\n",
       "      <td>False</td>\n",
       "      <td>False</td>\n",
       "      <td>False</td>\n",
       "      <td>False</td>\n",
       "      <td>False</td>\n",
       "      <td>False</td>\n",
       "      <td>False</td>\n",
       "      <td>False</td>\n",
       "      <td>...</td>\n",
       "      <td>False</td>\n",
       "      <td>False</td>\n",
       "      <td>False</td>\n",
       "      <td>False</td>\n",
       "      <td>False</td>\n",
       "      <td>False</td>\n",
       "      <td>False</td>\n",
       "      <td>False</td>\n",
       "      <td>False</td>\n",
       "      <td>False</td>\n",
       "    </tr>\n",
       "    <tr>\n",
       "      <th>3</th>\n",
       "      <td>False</td>\n",
       "      <td>False</td>\n",
       "      <td>False</td>\n",
       "      <td>False</td>\n",
       "      <td>False</td>\n",
       "      <td>False</td>\n",
       "      <td>False</td>\n",
       "      <td>False</td>\n",
       "      <td>False</td>\n",
       "      <td>False</td>\n",
       "      <td>...</td>\n",
       "      <td>False</td>\n",
       "      <td>False</td>\n",
       "      <td>False</td>\n",
       "      <td>False</td>\n",
       "      <td>False</td>\n",
       "      <td>False</td>\n",
       "      <td>False</td>\n",
       "      <td>False</td>\n",
       "      <td>False</td>\n",
       "      <td>False</td>\n",
       "    </tr>\n",
       "    <tr>\n",
       "      <th>4</th>\n",
       "      <td>False</td>\n",
       "      <td>False</td>\n",
       "      <td>False</td>\n",
       "      <td>False</td>\n",
       "      <td>False</td>\n",
       "      <td>False</td>\n",
       "      <td>False</td>\n",
       "      <td>False</td>\n",
       "      <td>False</td>\n",
       "      <td>False</td>\n",
       "      <td>...</td>\n",
       "      <td>False</td>\n",
       "      <td>False</td>\n",
       "      <td>False</td>\n",
       "      <td>False</td>\n",
       "      <td>False</td>\n",
       "      <td>False</td>\n",
       "      <td>False</td>\n",
       "      <td>False</td>\n",
       "      <td>False</td>\n",
       "      <td>False</td>\n",
       "    </tr>\n",
       "    <tr>\n",
       "      <th>...</th>\n",
       "      <td>...</td>\n",
       "      <td>...</td>\n",
       "      <td>...</td>\n",
       "      <td>...</td>\n",
       "      <td>...</td>\n",
       "      <td>...</td>\n",
       "      <td>...</td>\n",
       "      <td>...</td>\n",
       "      <td>...</td>\n",
       "      <td>...</td>\n",
       "      <td>...</td>\n",
       "      <td>...</td>\n",
       "      <td>...</td>\n",
       "      <td>...</td>\n",
       "      <td>...</td>\n",
       "      <td>...</td>\n",
       "      <td>...</td>\n",
       "      <td>...</td>\n",
       "      <td>...</td>\n",
       "      <td>...</td>\n",
       "      <td>...</td>\n",
       "    </tr>\n",
       "    <tr>\n",
       "      <th>1962</th>\n",
       "      <td>False</td>\n",
       "      <td>False</td>\n",
       "      <td>False</td>\n",
       "      <td>False</td>\n",
       "      <td>False</td>\n",
       "      <td>False</td>\n",
       "      <td>False</td>\n",
       "      <td>False</td>\n",
       "      <td>False</td>\n",
       "      <td>False</td>\n",
       "      <td>...</td>\n",
       "      <td>False</td>\n",
       "      <td>False</td>\n",
       "      <td>False</td>\n",
       "      <td>False</td>\n",
       "      <td>False</td>\n",
       "      <td>False</td>\n",
       "      <td>False</td>\n",
       "      <td>False</td>\n",
       "      <td>False</td>\n",
       "      <td>False</td>\n",
       "    </tr>\n",
       "    <tr>\n",
       "      <th>1963</th>\n",
       "      <td>False</td>\n",
       "      <td>False</td>\n",
       "      <td>False</td>\n",
       "      <td>False</td>\n",
       "      <td>False</td>\n",
       "      <td>False</td>\n",
       "      <td>False</td>\n",
       "      <td>False</td>\n",
       "      <td>False</td>\n",
       "      <td>False</td>\n",
       "      <td>...</td>\n",
       "      <td>False</td>\n",
       "      <td>False</td>\n",
       "      <td>False</td>\n",
       "      <td>False</td>\n",
       "      <td>False</td>\n",
       "      <td>False</td>\n",
       "      <td>False</td>\n",
       "      <td>False</td>\n",
       "      <td>False</td>\n",
       "      <td>False</td>\n",
       "    </tr>\n",
       "    <tr>\n",
       "      <th>1964</th>\n",
       "      <td>False</td>\n",
       "      <td>False</td>\n",
       "      <td>False</td>\n",
       "      <td>False</td>\n",
       "      <td>False</td>\n",
       "      <td>False</td>\n",
       "      <td>False</td>\n",
       "      <td>False</td>\n",
       "      <td>False</td>\n",
       "      <td>False</td>\n",
       "      <td>...</td>\n",
       "      <td>False</td>\n",
       "      <td>False</td>\n",
       "      <td>False</td>\n",
       "      <td>False</td>\n",
       "      <td>False</td>\n",
       "      <td>False</td>\n",
       "      <td>False</td>\n",
       "      <td>False</td>\n",
       "      <td>False</td>\n",
       "      <td>False</td>\n",
       "    </tr>\n",
       "    <tr>\n",
       "      <th>1965</th>\n",
       "      <td>False</td>\n",
       "      <td>False</td>\n",
       "      <td>False</td>\n",
       "      <td>False</td>\n",
       "      <td>False</td>\n",
       "      <td>False</td>\n",
       "      <td>False</td>\n",
       "      <td>False</td>\n",
       "      <td>False</td>\n",
       "      <td>False</td>\n",
       "      <td>...</td>\n",
       "      <td>False</td>\n",
       "      <td>False</td>\n",
       "      <td>False</td>\n",
       "      <td>False</td>\n",
       "      <td>False</td>\n",
       "      <td>False</td>\n",
       "      <td>False</td>\n",
       "      <td>False</td>\n",
       "      <td>False</td>\n",
       "      <td>False</td>\n",
       "    </tr>\n",
       "    <tr>\n",
       "      <th>1966</th>\n",
       "      <td>False</td>\n",
       "      <td>False</td>\n",
       "      <td>False</td>\n",
       "      <td>False</td>\n",
       "      <td>False</td>\n",
       "      <td>False</td>\n",
       "      <td>False</td>\n",
       "      <td>False</td>\n",
       "      <td>False</td>\n",
       "      <td>False</td>\n",
       "      <td>...</td>\n",
       "      <td>False</td>\n",
       "      <td>False</td>\n",
       "      <td>False</td>\n",
       "      <td>False</td>\n",
       "      <td>False</td>\n",
       "      <td>False</td>\n",
       "      <td>False</td>\n",
       "      <td>False</td>\n",
       "      <td>False</td>\n",
       "      <td>False</td>\n",
       "    </tr>\n",
       "  </tbody>\n",
       "</table>\n",
       "<p>1967 rows × 350 columns</p>\n",
       "</div>"
      ],
      "text/plain": [
       "      subreddit  author   date   post  automated_readability_index  \\\n",
       "0         False   False  False  False                        False   \n",
       "1         False   False  False  False                        False   \n",
       "2         False   False  False  False                        False   \n",
       "3         False   False  False  False                        False   \n",
       "4         False   False  False  False                        False   \n",
       "...         ...     ...    ...    ...                          ...   \n",
       "1962      False   False  False  False                        False   \n",
       "1963      False   False  False  False                        False   \n",
       "1964      False   False  False  False                        False   \n",
       "1965      False   False  False  False                        False   \n",
       "1966      False   False  False  False                        False   \n",
       "\n",
       "      coleman_liau_index  flesch_kincaid_grade_level  flesch_reading_ease  \\\n",
       "0                  False                       False                False   \n",
       "1                  False                       False                False   \n",
       "2                  False                       False                False   \n",
       "3                  False                       False                False   \n",
       "4                  False                       False                False   \n",
       "...                  ...                         ...                  ...   \n",
       "1962               False                       False                False   \n",
       "1963               False                       False                False   \n",
       "1964               False                       False                False   \n",
       "1965               False                       False                False   \n",
       "1966               False                       False                False   \n",
       "\n",
       "      gulpease_index  gunning_fog_index  ...  tfidf_wish  tfidf_without  \\\n",
       "0              False              False  ...       False          False   \n",
       "1              False              False  ...       False          False   \n",
       "2              False              False  ...       False          False   \n",
       "3              False              False  ...       False          False   \n",
       "4              False              False  ...       False          False   \n",
       "...              ...                ...  ...         ...            ...   \n",
       "1962           False              False  ...       False          False   \n",
       "1963           False              False  ...       False          False   \n",
       "1964           False              False  ...       False          False   \n",
       "1965           False              False  ...       False          False   \n",
       "1966           False              False  ...       False          False   \n",
       "\n",
       "      tfidf_wonder  tfidf_work  tfidf_worri  tfidf_wors  tfidf_would  \\\n",
       "0            False       False        False       False        False   \n",
       "1            False       False        False       False        False   \n",
       "2            False       False        False       False        False   \n",
       "3            False       False        False       False        False   \n",
       "4            False       False        False       False        False   \n",
       "...            ...         ...          ...         ...          ...   \n",
       "1962         False       False        False       False        False   \n",
       "1963         False       False        False       False        False   \n",
       "1964         False       False        False       False        False   \n",
       "1965         False       False        False       False        False   \n",
       "1966         False       False        False       False        False   \n",
       "\n",
       "      tfidf_wrong  tfidf_x200b  tfidf_year  \n",
       "0           False        False       False  \n",
       "1           False        False       False  \n",
       "2           False        False       False  \n",
       "3           False        False       False  \n",
       "4           False        False       False  \n",
       "...           ...          ...         ...  \n",
       "1962        False        False       False  \n",
       "1963        False        False       False  \n",
       "1964        False        False       False  \n",
       "1965        False        False       False  \n",
       "1966        False        False       False  \n",
       "\n",
       "[1967 rows x 350 columns]"
      ]
     },
     "execution_count": 54,
     "metadata": {},
     "output_type": "execute_result"
    }
   ],
   "source": [
    "df.isna() # to check nullvalue"
   ]
  },
  {
   "cell_type": "code",
   "execution_count": 55,
   "id": "3d45b870-f98f-4477-ade2-f87913b24e88",
   "metadata": {},
   "outputs": [
    {
     "data": {
      "text/plain": [
       "subreddit                      0\n",
       "author                         0\n",
       "date                           0\n",
       "post                           0\n",
       "automated_readability_index    0\n",
       "                              ..\n",
       "tfidf_wors                     0\n",
       "tfidf_would                    0\n",
       "tfidf_wrong                    0\n",
       "tfidf_x200b                    0\n",
       "tfidf_year                     0\n",
       "Length: 350, dtype: int64"
      ]
     },
     "execution_count": 55,
     "metadata": {},
     "output_type": "execute_result"
    }
   ],
   "source": [
    "df.isna().sum() # to calculate how many data is null"
   ]
  },
  {
   "cell_type": "markdown",
   "id": "b3da172a-d76c-4528-9c46-cbedc9553383",
   "metadata": {},
   "source": [
    "# This means there is not null value in data set"
   ]
  },
  {
   "cell_type": "code",
   "execution_count": 56,
   "id": "1379c8b6-da9a-4f46-86e5-b1d9361b1144",
   "metadata": {},
   "outputs": [],
   "source": [
    "sample_data = df.sample(500, random_state=0) # taking randomly 500 sample data"
   ]
  },
  {
   "cell_type": "code",
   "execution_count": 57,
   "id": "83df1578-32a0-4f86-90ca-536101d23df0",
   "metadata": {
    "scrolled": true
   },
   "outputs": [
    {
     "data": {
      "text/html": [
       "<div>\n",
       "<style scoped>\n",
       "    .dataframe tbody tr th:only-of-type {\n",
       "        vertical-align: middle;\n",
       "    }\n",
       "\n",
       "    .dataframe tbody tr th {\n",
       "        vertical-align: top;\n",
       "    }\n",
       "\n",
       "    .dataframe thead th {\n",
       "        text-align: right;\n",
       "    }\n",
       "</style>\n",
       "<table border=\"1\" class=\"dataframe\">\n",
       "  <thead>\n",
       "    <tr style=\"text-align: right;\">\n",
       "      <th></th>\n",
       "      <th>subreddit</th>\n",
       "      <th>author</th>\n",
       "      <th>date</th>\n",
       "      <th>post</th>\n",
       "      <th>automated_readability_index</th>\n",
       "      <th>coleman_liau_index</th>\n",
       "      <th>flesch_kincaid_grade_level</th>\n",
       "      <th>flesch_reading_ease</th>\n",
       "      <th>gulpease_index</th>\n",
       "      <th>gunning_fog_index</th>\n",
       "      <th>...</th>\n",
       "      <th>tfidf_wish</th>\n",
       "      <th>tfidf_without</th>\n",
       "      <th>tfidf_wonder</th>\n",
       "      <th>tfidf_work</th>\n",
       "      <th>tfidf_worri</th>\n",
       "      <th>tfidf_wors</th>\n",
       "      <th>tfidf_would</th>\n",
       "      <th>tfidf_wrong</th>\n",
       "      <th>tfidf_x200b</th>\n",
       "      <th>tfidf_year</th>\n",
       "    </tr>\n",
       "  </thead>\n",
       "  <tbody>\n",
       "    <tr>\n",
       "      <th>18</th>\n",
       "      <td>healthanxiety</td>\n",
       "      <td>thornykins</td>\n",
       "      <td>1/2/2018</td>\n",
       "      <td>Heart health anxiety Hi all, stumbled across t...</td>\n",
       "      <td>8.469686</td>\n",
       "      <td>6.769049</td>\n",
       "      <td>8.657810</td>\n",
       "      <td>71.157000</td>\n",
       "      <td>62.266667</td>\n",
       "      <td>12.038095</td>\n",
       "      <td>...</td>\n",
       "      <td>0.0</td>\n",
       "      <td>0.000000</td>\n",
       "      <td>0.0</td>\n",
       "      <td>0.0</td>\n",
       "      <td>0.000000</td>\n",
       "      <td>0.000000</td>\n",
       "      <td>0.0</td>\n",
       "      <td>0.000000</td>\n",
       "      <td>0.0</td>\n",
       "      <td>0.081105</td>\n",
       "    </tr>\n",
       "    <tr>\n",
       "      <th>781</th>\n",
       "      <td>healthanxiety</td>\n",
       "      <td>gloriagoodwin</td>\n",
       "      <td>4/19/2018</td>\n",
       "      <td>Terrified I have myocarditis and will suddenly...</td>\n",
       "      <td>8.825550</td>\n",
       "      <td>8.552702</td>\n",
       "      <td>8.475502</td>\n",
       "      <td>68.138517</td>\n",
       "      <td>60.722488</td>\n",
       "      <td>12.001914</td>\n",
       "      <td>...</td>\n",
       "      <td>0.0</td>\n",
       "      <td>0.135751</td>\n",
       "      <td>0.0</td>\n",
       "      <td>0.0</td>\n",
       "      <td>0.000000</td>\n",
       "      <td>0.000000</td>\n",
       "      <td>0.0</td>\n",
       "      <td>0.000000</td>\n",
       "      <td>0.0</td>\n",
       "      <td>0.000000</td>\n",
       "    </tr>\n",
       "    <tr>\n",
       "      <th>342</th>\n",
       "      <td>healthanxiety</td>\n",
       "      <td>blueoreosandmilk</td>\n",
       "      <td>2/7/2018</td>\n",
       "      <td>Fear of exercise and moving/exerting myself Hi...</td>\n",
       "      <td>4.460468</td>\n",
       "      <td>6.097699</td>\n",
       "      <td>4.918786</td>\n",
       "      <td>83.078975</td>\n",
       "      <td>70.857923</td>\n",
       "      <td>8.507260</td>\n",
       "      <td>...</td>\n",
       "      <td>0.0</td>\n",
       "      <td>0.000000</td>\n",
       "      <td>0.0</td>\n",
       "      <td>0.0</td>\n",
       "      <td>0.000000</td>\n",
       "      <td>0.000000</td>\n",
       "      <td>0.0</td>\n",
       "      <td>0.155227</td>\n",
       "      <td>0.0</td>\n",
       "      <td>0.000000</td>\n",
       "    </tr>\n",
       "    <tr>\n",
       "      <th>1275</th>\n",
       "      <td>healthanxiety</td>\n",
       "      <td>Wilderjohnkarsten</td>\n",
       "      <td>2/10/2019</td>\n",
       "      <td>Unorotected sex with gf I never did it without...</td>\n",
       "      <td>0.672632</td>\n",
       "      <td>2.747354</td>\n",
       "      <td>2.709737</td>\n",
       "      <td>92.555658</td>\n",
       "      <td>83.736842</td>\n",
       "      <td>4.852632</td>\n",
       "      <td>...</td>\n",
       "      <td>0.0</td>\n",
       "      <td>0.571467</td>\n",
       "      <td>0.0</td>\n",
       "      <td>0.0</td>\n",
       "      <td>0.000000</td>\n",
       "      <td>0.000000</td>\n",
       "      <td>0.0</td>\n",
       "      <td>0.000000</td>\n",
       "      <td>0.0</td>\n",
       "      <td>0.000000</td>\n",
       "    </tr>\n",
       "    <tr>\n",
       "      <th>579</th>\n",
       "      <td>healthanxiety</td>\n",
       "      <td>giraffe_shit</td>\n",
       "      <td>3/22/2018</td>\n",
       "      <td>Health Anxiety gets worse during the winter mo...</td>\n",
       "      <td>5.875683</td>\n",
       "      <td>7.799720</td>\n",
       "      <td>5.573301</td>\n",
       "      <td>78.640878</td>\n",
       "      <td>67.756757</td>\n",
       "      <td>8.528958</td>\n",
       "      <td>...</td>\n",
       "      <td>0.0</td>\n",
       "      <td>0.000000</td>\n",
       "      <td>0.0</td>\n",
       "      <td>0.0</td>\n",
       "      <td>0.000000</td>\n",
       "      <td>0.360266</td>\n",
       "      <td>0.0</td>\n",
       "      <td>0.000000</td>\n",
       "      <td>0.0</td>\n",
       "      <td>0.151770</td>\n",
       "    </tr>\n",
       "    <tr>\n",
       "      <th>...</th>\n",
       "      <td>...</td>\n",
       "      <td>...</td>\n",
       "      <td>...</td>\n",
       "      <td>...</td>\n",
       "      <td>...</td>\n",
       "      <td>...</td>\n",
       "      <td>...</td>\n",
       "      <td>...</td>\n",
       "      <td>...</td>\n",
       "      <td>...</td>\n",
       "      <td>...</td>\n",
       "      <td>...</td>\n",
       "      <td>...</td>\n",
       "      <td>...</td>\n",
       "      <td>...</td>\n",
       "      <td>...</td>\n",
       "      <td>...</td>\n",
       "      <td>...</td>\n",
       "      <td>...</td>\n",
       "      <td>...</td>\n",
       "      <td>...</td>\n",
       "    </tr>\n",
       "    <tr>\n",
       "      <th>61</th>\n",
       "      <td>healthanxiety</td>\n",
       "      <td>The_Overlord_Laharl</td>\n",
       "      <td>1/6/2018</td>\n",
       "      <td>Dull pain in left leg My lower left leg below ...</td>\n",
       "      <td>0.507432</td>\n",
       "      <td>2.612996</td>\n",
       "      <td>1.731014</td>\n",
       "      <td>99.127331</td>\n",
       "      <td>84.675676</td>\n",
       "      <td>3.700000</td>\n",
       "      <td>...</td>\n",
       "      <td>0.0</td>\n",
       "      <td>0.000000</td>\n",
       "      <td>0.0</td>\n",
       "      <td>0.0</td>\n",
       "      <td>0.000000</td>\n",
       "      <td>0.000000</td>\n",
       "      <td>0.0</td>\n",
       "      <td>0.000000</td>\n",
       "      <td>0.0</td>\n",
       "      <td>0.000000</td>\n",
       "    </tr>\n",
       "    <tr>\n",
       "      <th>270</th>\n",
       "      <td>healthanxiety</td>\n",
       "      <td>aethersoll</td>\n",
       "      <td>1/29/2018</td>\n",
       "      <td>I don't know where to post this, so 16 y/o mal...</td>\n",
       "      <td>4.587422</td>\n",
       "      <td>4.027017</td>\n",
       "      <td>5.269361</td>\n",
       "      <td>88.580488</td>\n",
       "      <td>69.487805</td>\n",
       "      <td>8.654588</td>\n",
       "      <td>...</td>\n",
       "      <td>0.0</td>\n",
       "      <td>0.000000</td>\n",
       "      <td>0.0</td>\n",
       "      <td>0.0</td>\n",
       "      <td>0.192256</td>\n",
       "      <td>0.000000</td>\n",
       "      <td>0.0</td>\n",
       "      <td>0.413966</td>\n",
       "      <td>0.0</td>\n",
       "      <td>0.000000</td>\n",
       "    </tr>\n",
       "    <tr>\n",
       "      <th>924</th>\n",
       "      <td>healthanxiety</td>\n",
       "      <td>BubbleMass</td>\n",
       "      <td>1/10/2019</td>\n",
       "      <td>Got some kind of norovirus/food poisoning. Sti...</td>\n",
       "      <td>1.113476</td>\n",
       "      <td>3.066398</td>\n",
       "      <td>2.414260</td>\n",
       "      <td>86.011444</td>\n",
       "      <td>110.764706</td>\n",
       "      <td>6.560428</td>\n",
       "      <td>...</td>\n",
       "      <td>0.0</td>\n",
       "      <td>0.000000</td>\n",
       "      <td>0.0</td>\n",
       "      <td>0.0</td>\n",
       "      <td>0.000000</td>\n",
       "      <td>0.000000</td>\n",
       "      <td>0.0</td>\n",
       "      <td>0.000000</td>\n",
       "      <td>0.0</td>\n",
       "      <td>0.000000</td>\n",
       "    </tr>\n",
       "    <tr>\n",
       "      <th>227</th>\n",
       "      <td>healthanxiety</td>\n",
       "      <td>Throwmeinthetrash17</td>\n",
       "      <td>1/24/2018</td>\n",
       "      <td>Anyone else suicidal but still have health anx...</td>\n",
       "      <td>5.486190</td>\n",
       "      <td>7.982476</td>\n",
       "      <td>5.704762</td>\n",
       "      <td>74.941905</td>\n",
       "      <td>69.952381</td>\n",
       "      <td>9.619048</td>\n",
       "      <td>...</td>\n",
       "      <td>0.0</td>\n",
       "      <td>0.000000</td>\n",
       "      <td>0.0</td>\n",
       "      <td>0.0</td>\n",
       "      <td>0.163578</td>\n",
       "      <td>0.000000</td>\n",
       "      <td>0.0</td>\n",
       "      <td>0.000000</td>\n",
       "      <td>0.0</td>\n",
       "      <td>0.000000</td>\n",
       "    </tr>\n",
       "    <tr>\n",
       "      <th>1579</th>\n",
       "      <td>healthanxiety</td>\n",
       "      <td>-une-ame-solitaire-</td>\n",
       "      <td>3/13/2019</td>\n",
       "      <td>Final exams coming up. Host of issues... Hey e...</td>\n",
       "      <td>5.773947</td>\n",
       "      <td>6.746637</td>\n",
       "      <td>6.341718</td>\n",
       "      <td>76.593487</td>\n",
       "      <td>67.125000</td>\n",
       "      <td>9.257602</td>\n",
       "      <td>...</td>\n",
       "      <td>0.0</td>\n",
       "      <td>0.000000</td>\n",
       "      <td>0.0</td>\n",
       "      <td>0.0</td>\n",
       "      <td>0.000000</td>\n",
       "      <td>0.000000</td>\n",
       "      <td>0.0</td>\n",
       "      <td>0.117428</td>\n",
       "      <td>0.0</td>\n",
       "      <td>0.000000</td>\n",
       "    </tr>\n",
       "  </tbody>\n",
       "</table>\n",
       "<p>500 rows × 350 columns</p>\n",
       "</div>"
      ],
      "text/plain": [
       "          subreddit               author       date  \\\n",
       "18    healthanxiety           thornykins   1/2/2018   \n",
       "781   healthanxiety        gloriagoodwin  4/19/2018   \n",
       "342   healthanxiety     blueoreosandmilk   2/7/2018   \n",
       "1275  healthanxiety    Wilderjohnkarsten  2/10/2019   \n",
       "579   healthanxiety         giraffe_shit  3/22/2018   \n",
       "...             ...                  ...        ...   \n",
       "61    healthanxiety  The_Overlord_Laharl   1/6/2018   \n",
       "270   healthanxiety           aethersoll  1/29/2018   \n",
       "924   healthanxiety           BubbleMass  1/10/2019   \n",
       "227   healthanxiety  Throwmeinthetrash17  1/24/2018   \n",
       "1579  healthanxiety  -une-ame-solitaire-  3/13/2019   \n",
       "\n",
       "                                                   post  \\\n",
       "18    Heart health anxiety Hi all, stumbled across t...   \n",
       "781   Terrified I have myocarditis and will suddenly...   \n",
       "342   Fear of exercise and moving/exerting myself Hi...   \n",
       "1275  Unorotected sex with gf I never did it without...   \n",
       "579   Health Anxiety gets worse during the winter mo...   \n",
       "...                                                 ...   \n",
       "61    Dull pain in left leg My lower left leg below ...   \n",
       "270   I don't know where to post this, so 16 y/o mal...   \n",
       "924   Got some kind of norovirus/food poisoning. Sti...   \n",
       "227   Anyone else suicidal but still have health anx...   \n",
       "1579  Final exams coming up. Host of issues... Hey e...   \n",
       "\n",
       "      automated_readability_index  coleman_liau_index  \\\n",
       "18                       8.469686            6.769049   \n",
       "781                      8.825550            8.552702   \n",
       "342                      4.460468            6.097699   \n",
       "1275                     0.672632            2.747354   \n",
       "579                      5.875683            7.799720   \n",
       "...                           ...                 ...   \n",
       "61                       0.507432            2.612996   \n",
       "270                      4.587422            4.027017   \n",
       "924                      1.113476            3.066398   \n",
       "227                      5.486190            7.982476   \n",
       "1579                     5.773947            6.746637   \n",
       "\n",
       "      flesch_kincaid_grade_level  flesch_reading_ease  gulpease_index  \\\n",
       "18                      8.657810            71.157000       62.266667   \n",
       "781                     8.475502            68.138517       60.722488   \n",
       "342                     4.918786            83.078975       70.857923   \n",
       "1275                    2.709737            92.555658       83.736842   \n",
       "579                     5.573301            78.640878       67.756757   \n",
       "...                          ...                  ...             ...   \n",
       "61                      1.731014            99.127331       84.675676   \n",
       "270                     5.269361            88.580488       69.487805   \n",
       "924                     2.414260            86.011444      110.764706   \n",
       "227                     5.704762            74.941905       69.952381   \n",
       "1579                    6.341718            76.593487       67.125000   \n",
       "\n",
       "      gunning_fog_index  ...  tfidf_wish  tfidf_without  tfidf_wonder  \\\n",
       "18            12.038095  ...         0.0       0.000000           0.0   \n",
       "781           12.001914  ...         0.0       0.135751           0.0   \n",
       "342            8.507260  ...         0.0       0.000000           0.0   \n",
       "1275           4.852632  ...         0.0       0.571467           0.0   \n",
       "579            8.528958  ...         0.0       0.000000           0.0   \n",
       "...                 ...  ...         ...            ...           ...   \n",
       "61             3.700000  ...         0.0       0.000000           0.0   \n",
       "270            8.654588  ...         0.0       0.000000           0.0   \n",
       "924            6.560428  ...         0.0       0.000000           0.0   \n",
       "227            9.619048  ...         0.0       0.000000           0.0   \n",
       "1579           9.257602  ...         0.0       0.000000           0.0   \n",
       "\n",
       "      tfidf_work  tfidf_worri  tfidf_wors  tfidf_would  tfidf_wrong  \\\n",
       "18           0.0     0.000000    0.000000          0.0     0.000000   \n",
       "781          0.0     0.000000    0.000000          0.0     0.000000   \n",
       "342          0.0     0.000000    0.000000          0.0     0.155227   \n",
       "1275         0.0     0.000000    0.000000          0.0     0.000000   \n",
       "579          0.0     0.000000    0.360266          0.0     0.000000   \n",
       "...          ...          ...         ...          ...          ...   \n",
       "61           0.0     0.000000    0.000000          0.0     0.000000   \n",
       "270          0.0     0.192256    0.000000          0.0     0.413966   \n",
       "924          0.0     0.000000    0.000000          0.0     0.000000   \n",
       "227          0.0     0.163578    0.000000          0.0     0.000000   \n",
       "1579         0.0     0.000000    0.000000          0.0     0.117428   \n",
       "\n",
       "      tfidf_x200b  tfidf_year  \n",
       "18            0.0    0.081105  \n",
       "781           0.0    0.000000  \n",
       "342           0.0    0.000000  \n",
       "1275          0.0    0.000000  \n",
       "579           0.0    0.151770  \n",
       "...           ...         ...  \n",
       "61            0.0    0.000000  \n",
       "270           0.0    0.000000  \n",
       "924           0.0    0.000000  \n",
       "227           0.0    0.000000  \n",
       "1579          0.0    0.000000  \n",
       "\n",
       "[500 rows x 350 columns]"
      ]
     },
     "execution_count": 57,
     "metadata": {},
     "output_type": "execute_result"
    }
   ],
   "source": [
    "sample_data"
   ]
  },
  {
   "cell_type": "code",
   "execution_count": 58,
   "id": "bc1b017e-8853-4d9b-b1fb-8e161254b56d",
   "metadata": {},
   "outputs": [
    {
     "data": {
      "text/plain": [
       "pandas.core.frame.DataFrame"
      ]
     },
     "execution_count": 58,
     "metadata": {},
     "output_type": "execute_result"
    }
   ],
   "source": [
    "type(sample_data) # checking type of sampledata"
   ]
  },
  {
   "cell_type": "code",
   "execution_count": 59,
   "id": "d5e541a8-4c73-4a22-8d1c-4d5c39dfa28d",
   "metadata": {
    "scrolled": true
   },
   "outputs": [
    {
     "data": {
      "text/html": [
       "<div>\n",
       "<style scoped>\n",
       "    .dataframe tbody tr th:only-of-type {\n",
       "        vertical-align: middle;\n",
       "    }\n",
       "\n",
       "    .dataframe tbody tr th {\n",
       "        vertical-align: top;\n",
       "    }\n",
       "\n",
       "    .dataframe thead th {\n",
       "        text-align: right;\n",
       "    }\n",
       "</style>\n",
       "<table border=\"1\" class=\"dataframe\">\n",
       "  <thead>\n",
       "    <tr style=\"text-align: right;\">\n",
       "      <th></th>\n",
       "      <th>automated_readability_index</th>\n",
       "      <th>coleman_liau_index</th>\n",
       "      <th>flesch_kincaid_grade_level</th>\n",
       "      <th>flesch_reading_ease</th>\n",
       "      <th>gulpease_index</th>\n",
       "      <th>gunning_fog_index</th>\n",
       "      <th>lix</th>\n",
       "      <th>smog_index</th>\n",
       "      <th>wiener_sachtextformel</th>\n",
       "      <th>n_chars</th>\n",
       "      <th>...</th>\n",
       "      <th>tfidf_wish</th>\n",
       "      <th>tfidf_without</th>\n",
       "      <th>tfidf_wonder</th>\n",
       "      <th>tfidf_work</th>\n",
       "      <th>tfidf_worri</th>\n",
       "      <th>tfidf_wors</th>\n",
       "      <th>tfidf_would</th>\n",
       "      <th>tfidf_wrong</th>\n",
       "      <th>tfidf_x200b</th>\n",
       "      <th>tfidf_year</th>\n",
       "    </tr>\n",
       "  </thead>\n",
       "  <tbody>\n",
       "    <tr>\n",
       "      <th>count</th>\n",
       "      <td>500.000000</td>\n",
       "      <td>500.000000</td>\n",
       "      <td>500.000000</td>\n",
       "      <td>500.000000</td>\n",
       "      <td>500.000000</td>\n",
       "      <td>500.000000</td>\n",
       "      <td>500.000000</td>\n",
       "      <td>500.000000</td>\n",
       "      <td>500.000000</td>\n",
       "      <td>500.000000</td>\n",
       "      <td>...</td>\n",
       "      <td>500.000000</td>\n",
       "      <td>500.000000</td>\n",
       "      <td>500.000000</td>\n",
       "      <td>500.000000</td>\n",
       "      <td>500.000000</td>\n",
       "      <td>500.000000</td>\n",
       "      <td>500.000000</td>\n",
       "      <td>500.000000</td>\n",
       "      <td>500.000000</td>\n",
       "      <td>500.000000</td>\n",
       "    </tr>\n",
       "    <tr>\n",
       "      <th>mean</th>\n",
       "      <td>3.996564</td>\n",
       "      <td>5.562714</td>\n",
       "      <td>4.743922</td>\n",
       "      <td>83.239122</td>\n",
       "      <td>74.629263</td>\n",
       "      <td>7.677692</td>\n",
       "      <td>27.518779</td>\n",
       "      <td>8.134310</td>\n",
       "      <td>1.921825</td>\n",
       "      <td>729.026000</td>\n",
       "      <td>...</td>\n",
       "      <td>0.003139</td>\n",
       "      <td>0.009701</td>\n",
       "      <td>0.009479</td>\n",
       "      <td>0.023778</td>\n",
       "      <td>0.066205</td>\n",
       "      <td>0.018148</td>\n",
       "      <td>0.024445</td>\n",
       "      <td>0.024234</td>\n",
       "      <td>0.012486</td>\n",
       "      <td>0.039987</td>\n",
       "    </tr>\n",
       "    <tr>\n",
       "      <th>std</th>\n",
       "      <td>2.853109</td>\n",
       "      <td>2.606237</td>\n",
       "      <td>2.023153</td>\n",
       "      <td>9.895234</td>\n",
       "      <td>9.094522</td>\n",
       "      <td>2.196278</td>\n",
       "      <td>6.396938</td>\n",
       "      <td>1.672679</td>\n",
       "      <td>1.537355</td>\n",
       "      <td>589.826959</td>\n",
       "      <td>...</td>\n",
       "      <td>0.024128</td>\n",
       "      <td>0.051533</td>\n",
       "      <td>0.044970</td>\n",
       "      <td>0.069284</td>\n",
       "      <td>0.121647</td>\n",
       "      <td>0.053189</td>\n",
       "      <td>0.060885</td>\n",
       "      <td>0.065766</td>\n",
       "      <td>0.065497</td>\n",
       "      <td>0.071119</td>\n",
       "    </tr>\n",
       "    <tr>\n",
       "      <th>min</th>\n",
       "      <td>-2.708919</td>\n",
       "      <td>-1.047128</td>\n",
       "      <td>-0.285139</td>\n",
       "      <td>22.624545</td>\n",
       "      <td>45.363636</td>\n",
       "      <td>2.250000</td>\n",
       "      <td>10.102703</td>\n",
       "      <td>3.129100</td>\n",
       "      <td>-2.026909</td>\n",
       "      <td>45.000000</td>\n",
       "      <td>...</td>\n",
       "      <td>0.000000</td>\n",
       "      <td>0.000000</td>\n",
       "      <td>0.000000</td>\n",
       "      <td>0.000000</td>\n",
       "      <td>0.000000</td>\n",
       "      <td>0.000000</td>\n",
       "      <td>0.000000</td>\n",
       "      <td>0.000000</td>\n",
       "      <td>0.000000</td>\n",
       "      <td>0.000000</td>\n",
       "    </tr>\n",
       "    <tr>\n",
       "      <th>25%</th>\n",
       "      <td>2.191101</td>\n",
       "      <td>4.136863</td>\n",
       "      <td>3.501561</td>\n",
       "      <td>78.619576</td>\n",
       "      <td>69.046411</td>\n",
       "      <td>6.272451</td>\n",
       "      <td>23.236559</td>\n",
       "      <td>7.168622</td>\n",
       "      <td>0.905299</td>\n",
       "      <td>338.000000</td>\n",
       "      <td>...</td>\n",
       "      <td>0.000000</td>\n",
       "      <td>0.000000</td>\n",
       "      <td>0.000000</td>\n",
       "      <td>0.000000</td>\n",
       "      <td>0.000000</td>\n",
       "      <td>0.000000</td>\n",
       "      <td>0.000000</td>\n",
       "      <td>0.000000</td>\n",
       "      <td>0.000000</td>\n",
       "      <td>0.000000</td>\n",
       "    </tr>\n",
       "    <tr>\n",
       "      <th>50%</th>\n",
       "      <td>3.568283</td>\n",
       "      <td>5.393202</td>\n",
       "      <td>4.531122</td>\n",
       "      <td>84.089154</td>\n",
       "      <td>73.769727</td>\n",
       "      <td>7.430976</td>\n",
       "      <td>27.243080</td>\n",
       "      <td>8.076483</td>\n",
       "      <td>1.789729</td>\n",
       "      <td>569.000000</td>\n",
       "      <td>...</td>\n",
       "      <td>0.000000</td>\n",
       "      <td>0.000000</td>\n",
       "      <td>0.000000</td>\n",
       "      <td>0.000000</td>\n",
       "      <td>0.000000</td>\n",
       "      <td>0.000000</td>\n",
       "      <td>0.000000</td>\n",
       "      <td>0.000000</td>\n",
       "      <td>0.000000</td>\n",
       "      <td>0.000000</td>\n",
       "    </tr>\n",
       "    <tr>\n",
       "      <th>75%</th>\n",
       "      <td>5.178305</td>\n",
       "      <td>6.520495</td>\n",
       "      <td>5.738361</td>\n",
       "      <td>89.560927</td>\n",
       "      <td>79.812766</td>\n",
       "      <td>8.921479</td>\n",
       "      <td>30.696732</td>\n",
       "      <td>9.023837</td>\n",
       "      <td>2.707735</td>\n",
       "      <td>962.750000</td>\n",
       "      <td>...</td>\n",
       "      <td>0.000000</td>\n",
       "      <td>0.000000</td>\n",
       "      <td>0.000000</td>\n",
       "      <td>0.000000</td>\n",
       "      <td>0.110298</td>\n",
       "      <td>0.000000</td>\n",
       "      <td>0.000000</td>\n",
       "      <td>0.000000</td>\n",
       "      <td>0.000000</td>\n",
       "      <td>0.069674</td>\n",
       "    </tr>\n",
       "    <tr>\n",
       "      <th>max</th>\n",
       "      <td>17.468182</td>\n",
       "      <td>23.202932</td>\n",
       "      <td>14.437241</td>\n",
       "      <td>107.125625</td>\n",
       "      <td>110.764706</td>\n",
       "      <td>17.117241</td>\n",
       "      <td>59.095238</td>\n",
       "      <td>14.554593</td>\n",
       "      <td>8.472867</td>\n",
       "      <td>4603.000000</td>\n",
       "      <td>...</td>\n",
       "      <td>0.377094</td>\n",
       "      <td>0.584408</td>\n",
       "      <td>0.400496</td>\n",
       "      <td>0.618679</td>\n",
       "      <td>0.708361</td>\n",
       "      <td>0.360266</td>\n",
       "      <td>0.544855</td>\n",
       "      <td>0.413966</td>\n",
       "      <td>0.558939</td>\n",
       "      <td>0.367919</td>\n",
       "    </tr>\n",
       "  </tbody>\n",
       "</table>\n",
       "<p>8 rows × 346 columns</p>\n",
       "</div>"
      ],
      "text/plain": [
       "       automated_readability_index  coleman_liau_index  \\\n",
       "count                   500.000000          500.000000   \n",
       "mean                      3.996564            5.562714   \n",
       "std                       2.853109            2.606237   \n",
       "min                      -2.708919           -1.047128   \n",
       "25%                       2.191101            4.136863   \n",
       "50%                       3.568283            5.393202   \n",
       "75%                       5.178305            6.520495   \n",
       "max                      17.468182           23.202932   \n",
       "\n",
       "       flesch_kincaid_grade_level  flesch_reading_ease  gulpease_index  \\\n",
       "count                  500.000000           500.000000      500.000000   \n",
       "mean                     4.743922            83.239122       74.629263   \n",
       "std                      2.023153             9.895234        9.094522   \n",
       "min                     -0.285139            22.624545       45.363636   \n",
       "25%                      3.501561            78.619576       69.046411   \n",
       "50%                      4.531122            84.089154       73.769727   \n",
       "75%                      5.738361            89.560927       79.812766   \n",
       "max                     14.437241           107.125625      110.764706   \n",
       "\n",
       "       gunning_fog_index         lix  smog_index  wiener_sachtextformel  \\\n",
       "count         500.000000  500.000000  500.000000             500.000000   \n",
       "mean            7.677692   27.518779    8.134310               1.921825   \n",
       "std             2.196278    6.396938    1.672679               1.537355   \n",
       "min             2.250000   10.102703    3.129100              -2.026909   \n",
       "25%             6.272451   23.236559    7.168622               0.905299   \n",
       "50%             7.430976   27.243080    8.076483               1.789729   \n",
       "75%             8.921479   30.696732    9.023837               2.707735   \n",
       "max            17.117241   59.095238   14.554593               8.472867   \n",
       "\n",
       "           n_chars  ...  tfidf_wish  tfidf_without  tfidf_wonder  tfidf_work  \\\n",
       "count   500.000000  ...  500.000000     500.000000    500.000000  500.000000   \n",
       "mean    729.026000  ...    0.003139       0.009701      0.009479    0.023778   \n",
       "std     589.826959  ...    0.024128       0.051533      0.044970    0.069284   \n",
       "min      45.000000  ...    0.000000       0.000000      0.000000    0.000000   \n",
       "25%     338.000000  ...    0.000000       0.000000      0.000000    0.000000   \n",
       "50%     569.000000  ...    0.000000       0.000000      0.000000    0.000000   \n",
       "75%     962.750000  ...    0.000000       0.000000      0.000000    0.000000   \n",
       "max    4603.000000  ...    0.377094       0.584408      0.400496    0.618679   \n",
       "\n",
       "       tfidf_worri  tfidf_wors  tfidf_would  tfidf_wrong  tfidf_x200b  \\\n",
       "count   500.000000  500.000000   500.000000   500.000000   500.000000   \n",
       "mean      0.066205    0.018148     0.024445     0.024234     0.012486   \n",
       "std       0.121647    0.053189     0.060885     0.065766     0.065497   \n",
       "min       0.000000    0.000000     0.000000     0.000000     0.000000   \n",
       "25%       0.000000    0.000000     0.000000     0.000000     0.000000   \n",
       "50%       0.000000    0.000000     0.000000     0.000000     0.000000   \n",
       "75%       0.110298    0.000000     0.000000     0.000000     0.000000   \n",
       "max       0.708361    0.360266     0.544855     0.413966     0.558939   \n",
       "\n",
       "       tfidf_year  \n",
       "count  500.000000  \n",
       "mean     0.039987  \n",
       "std      0.071119  \n",
       "min      0.000000  \n",
       "25%      0.000000  \n",
       "50%      0.000000  \n",
       "75%      0.069674  \n",
       "max      0.367919  \n",
       "\n",
       "[8 rows x 346 columns]"
      ]
     },
     "execution_count": 59,
     "metadata": {},
     "output_type": "execute_result"
    }
   ],
   "source": [
    "# to describes numerical data of sampledata \n",
    "sample_data.describe()"
   ]
  },
  {
   "cell_type": "code",
   "execution_count": 60,
   "id": "f928744b-3e13-4087-9074-928075b66058",
   "metadata": {},
   "outputs": [
    {
     "data": {
      "text/html": [
       "<div>\n",
       "<style scoped>\n",
       "    .dataframe tbody tr th:only-of-type {\n",
       "        vertical-align: middle;\n",
       "    }\n",
       "\n",
       "    .dataframe tbody tr th {\n",
       "        vertical-align: top;\n",
       "    }\n",
       "\n",
       "    .dataframe thead th {\n",
       "        text-align: right;\n",
       "    }\n",
       "</style>\n",
       "<table border=\"1\" class=\"dataframe\">\n",
       "  <thead>\n",
       "    <tr style=\"text-align: right;\">\n",
       "      <th></th>\n",
       "      <th>subreddit</th>\n",
       "      <th>author</th>\n",
       "      <th>date</th>\n",
       "      <th>post</th>\n",
       "    </tr>\n",
       "  </thead>\n",
       "  <tbody>\n",
       "    <tr>\n",
       "      <th>count</th>\n",
       "      <td>500</td>\n",
       "      <td>500</td>\n",
       "      <td>500</td>\n",
       "      <td>500</td>\n",
       "    </tr>\n",
       "    <tr>\n",
       "      <th>unique</th>\n",
       "      <td>1</td>\n",
       "      <td>494</td>\n",
       "      <td>194</td>\n",
       "      <td>500</td>\n",
       "    </tr>\n",
       "    <tr>\n",
       "      <th>top</th>\n",
       "      <td>healthanxiety</td>\n",
       "      <td>DarkMountain666</td>\n",
       "      <td>1/5/2018</td>\n",
       "      <td>Heart health anxiety Hi all, stumbled across t...</td>\n",
       "    </tr>\n",
       "    <tr>\n",
       "      <th>freq</th>\n",
       "      <td>500</td>\n",
       "      <td>2</td>\n",
       "      <td>6</td>\n",
       "      <td>1</td>\n",
       "    </tr>\n",
       "  </tbody>\n",
       "</table>\n",
       "</div>"
      ],
      "text/plain": [
       "            subreddit           author      date  \\\n",
       "count             500              500       500   \n",
       "unique              1              494       194   \n",
       "top     healthanxiety  DarkMountain666  1/5/2018   \n",
       "freq              500                2         6   \n",
       "\n",
       "                                                     post  \n",
       "count                                                 500  \n",
       "unique                                                500  \n",
       "top     Heart health anxiety Hi all, stumbled across t...  \n",
       "freq                                                    1  "
      ]
     },
     "execution_count": 60,
     "metadata": {},
     "output_type": "execute_result"
    }
   ],
   "source": [
    "# to describes the categorical data of sampledata\n",
    "sample_data.describe(include='object')"
   ]
  },
  {
   "cell_type": "code",
   "execution_count": 61,
   "id": "c4f3d7c6-356d-402d-a76c-39e93570caca",
   "metadata": {},
   "outputs": [
    {
     "data": {
      "text/plain": [
       "18               thornykins\n",
       "781           gloriagoodwin\n",
       "342        blueoreosandmilk\n",
       "1275      Wilderjohnkarsten\n",
       "579            giraffe_shit\n",
       "               ...         \n",
       "61      The_Overlord_Laharl\n",
       "270              aethersoll\n",
       "924              BubbleMass\n",
       "227     Throwmeinthetrash17\n",
       "1579    -une-ame-solitaire-\n",
       "Name: author, Length: 500, dtype: object"
      ]
     },
     "execution_count": 61,
     "metadata": {},
     "output_type": "execute_result"
    }
   ],
   "source": [
    "# indexing and slicing sample data\n",
    "sample_data[\"author\"]"
   ]
  },
  {
   "cell_type": "markdown",
   "id": "0167c91d-04e8-4393-bc40-bf0b889651d9",
   "metadata": {},
   "source": [
    "# Here are the name of auther in sample data"
   ]
  },
  {
   "cell_type": "code",
   "execution_count": 62,
   "id": "0684cb71-e9cd-486d-b161-2f6a1b4ed8a1",
   "metadata": {},
   "outputs": [
    {
     "data": {
      "text/plain": [
       "18      10.914261\n",
       "781     11.389717\n",
       "342      9.042354\n",
       "1275     5.985473\n",
       "579      9.042354\n",
       "          ...    \n",
       "61       3.129100\n",
       "270      7.957252\n",
       "924      7.348243\n",
       "227      9.994967\n",
       "1579     9.414487\n",
       "Name: smog_index, Length: 500, dtype: float64"
      ]
     },
     "execution_count": 62,
     "metadata": {},
     "output_type": "execute_result"
    }
   ],
   "source": [
    "# here extracting smog_data from sample data\n",
    "smog_data = sample_data[\"smog_index\"]\n",
    "smog_data"
   ]
  },
  {
   "cell_type": "code",
   "execution_count": 63,
   "id": "61017ef1-feac-4afd-8ba8-c382c1dcc700",
   "metadata": {},
   "outputs": [
    {
     "data": {
      "text/plain": [
       "8.134309914273999"
      ]
     },
     "execution_count": 63,
     "metadata": {},
     "output_type": "execute_result"
    }
   ],
   "source": [
    "# to calculate the mean of smog_data from sample data\n",
    "np.mean(smog_data)"
   ]
  },
  {
   "cell_type": "markdown",
   "id": "6fbffb00-d617-464e-af48-0c155e567a4b",
   "metadata": {},
   "source": [
    "# Here the mean is 8.134309914273999 of smog_data from sample_data"
   ]
  },
  {
   "cell_type": "code",
   "execution_count": 64,
   "id": "afeff8a4-be24-4b72-9a8b-f14350ac9c3f",
   "metadata": {},
   "outputs": [
    {
     "data": {
      "text/plain": [
       "8.076483399"
      ]
     },
     "execution_count": 64,
     "metadata": {},
     "output_type": "execute_result"
    }
   ],
   "source": [
    "# to calculated the median of smog_data from sample data\n",
    "np.median(smog_data)"
   ]
  },
  {
   "cell_type": "markdown",
   "id": "784cf06c-a633-4166-98b1-d944f41926bf",
   "metadata": {},
   "source": [
    "# Here the median is 8.076483399 of smog_data from sample_data"
   ]
  },
  {
   "cell_type": "code",
   "execution_count": 65,
   "id": "6ce71db7-6545-4ded-83f7-4eaa3d044a09",
   "metadata": {},
   "outputs": [
    {
     "data": {
      "image/png": "[encoded data removed]",
      "text/plain": [
       "<Figure size 500x500 with 1 Axes>"
      ]
     },
     "metadata": {},
     "output_type": "display_data"
    }
   ],
   "source": [
    "# boxplot of smog_data\n",
    "plt.figure(figsize=(5,5))\n",
    "plt.title(\"Smog_data\")\n",
    "sns.boxplot(data=smog_data)\n",
    "sns.stripplot(smog_data)\n",
    "plt.show()"
   ]
  },
  {
   "cell_type": "markdown",
   "id": "b2791dc4-6bf8-4db9-afe2-e42fe45189dc",
   "metadata": {},
   "source": [
    "# here, in this box plot some data of smog_data from sample data seem to be outlier"
   ]
  },
  {
   "cell_type": "code",
   "execution_count": 66,
   "id": "5bd508a1-e890-48c5-8bdb-96f0b34af2bc",
   "metadata": {},
   "outputs": [
    {
     "data": {
      "image/png": "[encoded data removed]",
      "text/plain": [
       "<Figure size 640x480 with 1 Axes>"
      ]
     },
     "metadata": {},
     "output_type": "display_data"
    }
   ],
   "source": [
    "# histogram of smog_data\n",
    "sns.histplot(data=smog_data, kde=True)\n",
    "plt.show()"
   ]
  },
  {
   "cell_type": "code",
   "execution_count": 67,
   "id": "c54fb00a-2a9b-4a2a-8042-ac5383b91543",
   "metadata": {},
   "outputs": [],
   "source": [
    "# to find outlier\n",
    "outlier = []\n",
    "THRESHOLD = 1\n",
    "def compute_outlier(dataset):\n",
    "    # mean\n",
    "    mean = np.mean(dataset)\n",
    "    # std\n",
    "    std = np.std(dataset)\n",
    "    for x in dataset:\n",
    "        z_score = (x - mean) / std\n",
    "        if np.abs(z_score) > THRESHOLD:\n",
    "            outlier.append(x)\n",
    "    return outlier\n",
    "    \n",
    "    "
   ]
  },
  {
   "cell_type": "code",
   "execution_count": 68,
   "id": "4a35b72d-602f-4f3e-ad1b-bb27415ef80d",
   "metadata": {},
   "outputs": [
    {
     "name": "stdout",
     "output_type": "stream",
     "text": [
      "[10.91426088, 11.38971747, 5.985473137, 10.35521597, 11.38971747, 6.4273556, 5.985473137, 10.1257567, 5.916634753, 6.182691328, 11.20814326, 5.148860815, 9.928628109, 5.288315135, 13.5591, 11.53803483, 4.655895664, 10.68635297, 10.50422373, 9.888512548, 11.62993849, 5.985473137, 11.45678718, 11.0223933, 10.56073891, 5.985473137, 3.1291, 5.148860815, 5.683917802, 10.74609503, 3.1291, 11.76596054, 6.4273556, 13.0238668, 11.20814326, 6.4273556, 6.29796148, 5.683917802, 3.1291, 5.683917802, 5.461318901, 10.45135478, 10.29040645, 10.21488968, 5.985473137, 5.985473137, 10.91426088, 10.45135478, 5.369823441, 5.461318901, 11.20814326, 13.0238668, 10.1257567, 5.565023196, 6.4273556, 6.4273556, 6.4273556, 10.65788864, 10.21488968, 6.2581, 6.351523495, 10.1257567, 9.957137785, 4.935628992, 11.80738457, 11.20814326, 10.50422373, 9.82788879, 11.374739, 10.41145118, 12.03177207, 5.683917802, 5.985473137, 5.288315135, 5.985473137, 9.994966539, 12.6883529, 6.4273556, 5.565023196, 10.46071229, 11.45678718, 10.1257567, 11.64515934, 5.369823441, 4.7782278, 12.28987398, 9.867487886, 6.4273556, 10.68635297, 6.2581, 10.21488968, 5.82211442, 5.565023196, 6.182691328, 10.37482555, 5.985473137, 5.288315135, 10.98051877, 11.93303328, 6.4273556, 3.1291, 5.369823441, 9.957137785, 10.1257567, 6.4273556, 10.63711953, 6.227271662, 6.4273556, 5.985473137, 10.68635297, 6.182691328, 5.82211442, 6.4273556, 10.86419502, 3.1291, 10.83216551, 6.4273556, 14.55459255, 10.05682244, 5.683917802, 4.851557811, 11.20814326, 5.985473137, 13.0238668, 6.4273556, 5.773587663, 9.86163605, 5.985473137, 10.25414643, 11.74138905, 6.4273556, 10.68635297, 3.1291, 5.683917802, 3.1291, 10.60884064, 5.7366, 6.4273556, 9.928628109, 3.1291, 9.994966539]\n"
     ]
    }
   ],
   "source": [
    "print(compute_outlier(dataset=smog_data)) "
   ]
  },
  {
   "cell_type": "code",
   "execution_count": 69,
   "id": "180831d0-61d9-4ca1-ac9a-a17328972aca",
   "metadata": {},
   "outputs": [],
   "source": [
    "# outlier data"
   ]
  },
  {
   "cell_type": "code",
   "execution_count": 70,
   "id": "46c58733-3d19-45b3-ae7e-6339e81035f2",
   "metadata": {},
   "outputs": [],
   "source": [
    "# cleaning outlier from smog_data\n",
    "clean_data = [x for x in smog_data if x not in outlier]"
   ]
  },
  {
   "cell_type": "code",
   "execution_count": 71,
   "id": "6c29d731-e1d4-48fd-bbd5-78476b66dbb0",
   "metadata": {},
   "outputs": [
    {
     "data": {
      "text/plain": [
       "<Axes: >"
      ]
     },
     "execution_count": 71,
     "metadata": {},
     "output_type": "execute_result"
    },
    {
     "data": {
      "image/png": "[encoded data removed]",
      "text/plain": [
       "<Figure size 640x480 with 1 Axes>"
      ]
     },
     "metadata": {},
     "output_type": "display_data"
    }
   ],
   "source": [
    "# now again box ploting the clean data\n",
    "sns.boxplot(data=clean_data)\n",
    "sns.stripplot(clean_data)"
   ]
  },
  {
   "cell_type": "code",
   "execution_count": 72,
   "id": "5a451353-7e0e-497d-add5-a391c07223c5",
   "metadata": {},
   "outputs": [
    {
     "data": {
      "text/plain": [
       "<Axes: ylabel='Count'>"
      ]
     },
     "execution_count": 72,
     "metadata": {},
     "output_type": "execute_result"
    },
    {
     "data": {
      "image/png": "[encoded data removed]",
      "text/plain": [
       "<Figure size 640x480 with 1 Axes>"
      ]
     },
     "metadata": {},
     "output_type": "display_data"
    }
   ],
   "source": [
    "# histogram of clean data\n",
    "sns.histplot(data=clean_data, kde=True)\n"
   ]
  },
  {
   "cell_type": "code",
   "execution_count": 82,
   "id": "a3bda30c-db08-4db3-81b4-bf4db20f6fa1",
   "metadata": {},
   "outputs": [
    {
     "data": {
      "application/vnd.plotly.v1+json": {
       "config": {
        "plotlyServerURL": "https://plot.ly"
       },
       "data": [
        {
         "alignmentgroup": "True",
         "hovertemplate": "variable=%{x}<br>value=%{y}<extra></extra>",
         "legendgroup": "",
         "marker": {
          "color": "#636efa"
         },
         "name": "",
         "notched": false,
         "offsetgroup": "",
         "orientation": "v",
         "showlegend": false,
         "type": "box",
         "x": [
          "0",
          "0",
          "0",
          "0",
          "0",
          "0",
          "0",
          "0",
          "0",
          "0",
          "0",
          "0",
          "0",
          "0",
          "0",
          "0",
          "0",
          "0",
          "0",
          "0",
          "0",
          "0",
          "0",
          "0",
          "0",
          "0",
          "0",
          "0",
          "0",
          "0",
          "0",
          "0",
          "0",
          "0",
          "0",
          "0",
          "0",
          "0",
          "0",
          "0",
          "0",
          "0",
          "0",
          "0",
          "0",
          "0",
          "0",
          "0",
          "0",
          "0",
          "0",
          "0",
          "0",
          "0",
          "0",
          "0",
          "0",
          "0",
          "0",
          "0",
          "0",
          "0",
          "0",
          "0",
          "0",
          "0",
          "0",
          "0",
          "0",
          "0",
          "0",
          "0",
          "0",
          "0",
          "0",
          "0",
          "0",
          "0",
          "0",
          "0",
          "0",
          "0",
          "0",
          "0",
          "0",
          "0",
          "0",
          "0",
          "0",
          "0",
          "0",
          "0",
          "0",
          "0",
          "0",
          "0",
          "0",
          "0",
          "0",
          "0",
          "0",
          "0",
          "0",
          "0",
          "0",
          "0",
          "0",
          "0",
          "0",
          "0",
          "0",
          "0",
          "0",
          "0",
          "0",
          "0",
          "0",
          "0",
          "0",
          "0",
          "0",
          "0",
          "0",
          "0",
          "0",
          "0",
          "0",
          "0",
          "0",
          "0",
          "0",
          "0",
          "0",
          "0",
          "0",
          "0",
          "0",
          "0",
          "0",
          "0",
          "0",
          "0",
          "0",
          "0",
          "0",
          "0",
          "0",
          "0",
          "0",
          "0",
          "0",
          "0",
          "0",
          "0",
          "0",
          "0",
          "0",
          "0",
          "0",
          "0",
          "0",
          "0",
          "0",
          "0",
          "0",
          "0",
          "0",
          "0",
          "0",
          "0",
          "0",
          "0",
          "0",
          "0",
          "0",
          "0",
          "0",
          "0",
          "0",
          "0",
          "0",
          "0",
          "0",
          "0",
          "0",
          "0",
          "0",
          "0",
          "0",
          "0",
          "0",
          "0",
          "0",
          "0",
          "0",
          "0",
          "0",
          "0",
          "0",
          "0",
          "0",
          "0",
          "0",
          "0",
          "0",
          "0",
          "0",
          "0",
          "0",
          "0",
          "0",
          "0",
          "0",
          "0",
          "0",
          "0",
          "0",
          "0",
          "0",
          "0",
          "0",
          "0",
          "0",
          "0",
          "0",
          "0",
          "0",
          "0",
          "0",
          "0",
          "0",
          "0",
          "0",
          "0",
          "0",
          "0",
          "0",
          "0",
          "0",
          "0",
          "0",
          "0",
          "0",
          "0",
          "0",
          "0",
          "0",
          "0",
          "0",
          "0",
          "0",
          "0",
          "0",
          "0",
          "0",
          "0",
          "0",
          "0",
          "0",
          "0",
          "0",
          "0",
          "0",
          "0",
          "0",
          "0",
          "0",
          "0",
          "0",
          "0",
          "0",
          "0",
          "0",
          "0",
          "0",
          "0",
          "0",
          "0",
          "0",
          "0",
          "0",
          "0",
          "0",
          "0",
          "0",
          "0",
          "0",
          "0",
          "0",
          "0",
          "0",
          "0",
          "0",
          "0",
          "0",
          "0",
          "0",
          "0",
          "0",
          "0",
          "0",
          "0",
          "0",
          "0",
          "0",
          "0",
          "0",
          "0",
          "0",
          "0",
          "0",
          "0",
          "0",
          "0",
          "0",
          "0",
          "0",
          "0",
          "0",
          "0",
          "0",
          "0",
          "0",
          "0",
          "0",
          "0",
          "0",
          "0",
          "0",
          "0",
          "0",
          "0",
          "0",
          "0",
          "0",
          "0",
          "0",
          "0",
          "0",
          "0",
          "0",
          "0",
          "0",
          "0",
          "0",
          "0",
          "0",
          "0",
          "0",
          "0",
          "0",
          "0",
          "0",
          "0",
          "0",
          "0",
          "0",
          "0",
          "0"
         ],
         "x0": " ",
         "xaxis": "x",
         "y": [
          9.04235418,
          9.04235418,
          8.076483399,
          8.841846275,
          7.021680442,
          7.724431198,
          7.873277557,
          8.212053251,
          7.413659706,
          7.793537801,
          9.270117722,
          7.23325808,
          6.742157985,
          7.38712967,
          9.095868883,
          7.321109707,
          9.466822959,
          7.110495986,
          7.793537801,
          7.44753027,
          9.210782826,
          8.269060117,
          7.16862163,
          9.150863308,
          7.16862163,
          8.256446699,
          9.725611199,
          7.724431198,
          8.747414212,
          7.16862163,
          8.548686977,
          9.516144504,
          7.645422481,
          9.725611199,
          9.444778639,
          9.04235418,
          7.645422481,
          7.69929702,
          7.468242285,
          8.238735603,
          8.3441,
          8.680891453,
          9.701314574,
          8.447377353,
          6.836019277,
          7.68629501,
          8.841846275,
          9.49676041,
          7.321109707,
          6.816661864,
          9.095868883,
          7.882392219,
          8.472884824,
          6.742157985,
          8.51512884,
          6.980632753,
          7.16862163,
          7.9287669,
          6.742157985,
          8.3441,
          8.841846275,
          6.937597517,
          8.841846275,
          8.296473432,
          8.167268649,
          8.306716005,
          8.076483399,
          8.167268649,
          7.44753027,
          8.841846275,
          7.645422481,
          6.895973343,
          7.09836372,
          8.38406227,
          8.076483399,
          8.548686977,
          6.655083551,
          8.841846275,
          8.472884824,
          8.076483399,
          7.576466943,
          8.076483399,
          6.627428351,
          6.868970319,
          8.32137658,
          9.299571214,
          7.841875235,
          7.610546882,
          8.841846275,
          8.587818077,
          9.236282657,
          8.021203637,
          8.841846275,
          6.816661864,
          8.021203637,
          9.473421319,
          7.793537801,
          8.238735603,
          8.841846275,
          8.598638143,
          7.413659706,
          8.447377353,
          8.841846275,
          7.882392219,
          8.472884824,
          7.413659706,
          6.850034145,
          7.68629501,
          7.793537801,
          6.627428351,
          6.937597517,
          9.236282657,
          9.444778639,
          8.238735603,
          8.31333277,
          8.472884824,
          7.16862163,
          7.793537801,
          6.67199484,
          7.16862163,
          8.532816996,
          8.000946393,
          8.418075326,
          7.793537801,
          8.447377353,
          7.44753027,
          8.238735603,
          8.049812675,
          8.438071523,
          8.182890915,
          8.548686977,
          7.365786028,
          7.645422481,
          8.076483399,
          9.725611199,
          7.724431198,
          8.841846275,
          9.516144504,
          8.167268649,
          8.076483399,
          9.168548407,
          7.031648654,
          7.882392219,
          6.742157985,
          8.841846275,
          8.841846275,
          8.076483399,
          8.395991825,
          7.9287669,
          9.150863308,
          8.3441,
          9.424239792,
          7.16862163,
          8.634040054,
          7.709486992,
          9.017664076,
          7.048011614,
          7.38712967,
          9.516144504,
          7.16862163,
          7.44753027,
          9.3871,
          7.645422481,
          8.296473432,
          8.076483399,
          7.724431198,
          8.3441,
          8.841846275,
          6.937597517,
          8.296473432,
          7.38712967,
          8.418075326,
          7.645422481,
          9.188382445,
          8.841846275,
          6.742157985,
          8.10935674,
          7.16862163,
          8.841846275,
          7.724431198,
          7.38712967,
          8.418075326,
          7.69929702,
          8.548686977,
          7.937092434,
          6.584502451,
          9.057496981,
          8.841846275,
          7.16862163,
          7.38712967,
          9.478462497,
          7.68629501,
          8.841846275,
          8.841846275,
          9.778596076,
          9.627879704,
          8.841846275,
          8.238735603,
          6.742157985,
          8.418075326,
          8.238735603,
          9.725611199,
          8.472884824,
          7.68629501,
          9.236282657,
          8.990254009,
          8.3441,
          7.793537801,
          7.616502296,
          7.9287669,
          7.645422481,
          6.895973343,
          7.16862163,
          7.321109707,
          6.627428351,
          7.695328112,
          7.793537801,
          7.16862163,
          8.395991825,
          8.841846275,
          9.606745406,
          8.238735603,
          6.980632753,
          9.414487439,
          8.31333277,
          7.492282038,
          7.730073105,
          6.742157985,
          8.38406227,
          7.709486992,
          8.021203637,
          7.010146845,
          6.742157985,
          7.95725182,
          6.980632753,
          8.418075326,
          6.937597517,
          7.793537801,
          8.167268649,
          7.90872645,
          7.793537801,
          9.606745406,
          8.548686977,
          6.543118893,
          9.408791573,
          7.510576383,
          8.021203637,
          8.238735603,
          8.000946393,
          8.150884317,
          8.575989855,
          8.841846275,
          7.972316293,
          6.522977013,
          8.759644201,
          7.95725182,
          7.031648654,
          8.495290729,
          8.841846275,
          8.998388855,
          7.95725182,
          9.134995656,
          9.203000759,
          6.868970319,
          7.95725182,
          9.299571214,
          7.492282038,
          9.543854155,
          8.841846275,
          8.076483399,
          8.841846275,
          8.841846275,
          6.742157985,
          7.16862163,
          7.68629501,
          8.076483399,
          8.167268649,
          8.841846275,
          9.516144504,
          6.627428351,
          9.162432508,
          8.841846275,
          6.782984794,
          7.793537801,
          7.937092434,
          8.139509933,
          6.937597517,
          8.076483399,
          6.627428351,
          8.238735603,
          7.16862163,
          7.348242739,
          8.841846275,
          7.765008862,
          8.841846275,
          9.653516016,
          8.841846275,
          8.841846275,
          9.130062681,
          8.634040054,
          8.841846275,
          6.816661864,
          7.348242739,
          8.841846275,
          9.725611199,
          8.648137235,
          8.46475739,
          7.44753027,
          7.793537801,
          8.456263369,
          7.669130373,
          8.418075326,
          8.710501217,
          8.238735603,
          6.742157985,
          9.3871,
          9.354420925,
          7.594959193,
          9.168548407,
          9.236282657,
          8.167268649,
          8.472884824,
          7.16862163,
          7.492282038,
          6.742157985,
          8.192908349,
          8.738905478,
          8.38406227,
          8.841846275,
          7.16862163,
          9.281916038,
          9.075114842,
          7.90872645,
          6.742157985,
          7.734863292,
          7.882392219,
          8.405096226,
          7.554174237,
          8.076483399,
          7.793537801,
          9.57394699,
          8.3441,
          6.868970319,
          9.257850173,
          7.010146845,
          8.575989855,
          6.67199484,
          7.793537801,
          8.3441,
          6.742157985,
          7.44753027,
          6.683405159,
          8.472884824,
          7.16862163,
          8.841846275,
          8.238735603,
          7.95725182,
          7.348242739,
          9.414487439
         ],
         "y0": " ",
         "yaxis": "y"
        }
       ],
       "layout": {
        "autosize": true,
        "boxmode": "group",
        "legend": {
         "tracegroupgap": 0
        },
        "margin": {
         "t": 60
        },
        "template": {
         "data": {
          "bar": [
           {
            "error_x": {
             "color": "#2a3f5f"
            },
            "error_y": {
             "color": "#2a3f5f"
            },
            "marker": {
             "line": {
              "color": "#E5ECF6",
              "width": 0.5
             },
             "pattern": {
              "fillmode": "overlay",
              "size": 10,
              "solidity": 0.2
             }
            },
            "type": "bar"
           }
          ],
          "barpolar": [
           {
            "marker": {
             "line": {
              "color": "#E5ECF6",
              "width": 0.5
             },
             "pattern": {
              "fillmode": "overlay",
              "size": 10,
              "solidity": 0.2
             }
            },
            "type": "barpolar"
           }
          ],
          "carpet": [
           {
            "aaxis": {
             "endlinecolor": "#2a3f5f",
             "gridcolor": "white",
             "linecolor": "white",
             "minorgridcolor": "white",
             "startlinecolor": "#2a3f5f"
            },
            "baxis": {
             "endlinecolor": "#2a3f5f",
             "gridcolor": "white",
             "linecolor": "white",
             "minorgridcolor": "white",
             "startlinecolor": "#2a3f5f"
            },
            "type": "carpet"
           }
          ],
          "choropleth": [
           {
            "colorbar": {
             "outlinewidth": 0,
             "ticks": ""
            },
            "type": "choropleth"
           }
          ],
          "contour": [
           {
            "colorbar": {
             "outlinewidth": 0,
             "ticks": ""
            },
            "colorscale": [
             [
              0,
              "#0d0887"
             ],
             [
              0.1111111111111111,
              "#46039f"
             ],
             [
              0.2222222222222222,
              "#7201a8"
             ],
             [
              0.3333333333333333,
              "#9c179e"
             ],
             [
              0.4444444444444444,
              "#bd3786"
             ],
             [
              0.5555555555555556,
              "#d8576b"
             ],
             [
              0.6666666666666666,
              "#ed7953"
             ],
             [
              0.7777777777777778,
              "#fb9f3a"
             ],
             [
              0.8888888888888888,
              "#fdca26"
             ],
             [
              1,
              "#f0f921"
             ]
            ],
            "type": "contour"
           }
          ],
          "contourcarpet": [
           {
            "colorbar": {
             "outlinewidth": 0,
             "ticks": ""
            },
            "type": "contourcarpet"
           }
          ],
          "heatmap": [
           {
            "colorbar": {
             "outlinewidth": 0,
             "ticks": ""
            },
            "colorscale": [
             [
              0,
              "#0d0887"
             ],
             [
              0.1111111111111111,
              "#46039f"
             ],
             [
              0.2222222222222222,
              "#7201a8"
             ],
             [
              0.3333333333333333,
              "#9c179e"
             ],
             [
              0.4444444444444444,
              "#bd3786"
             ],
             [
              0.5555555555555556,
              "#d8576b"
             ],
             [
              0.6666666666666666,
              "#ed7953"
             ],
             [
              0.7777777777777778,
              "#fb9f3a"
             ],
             [
              0.8888888888888888,
              "#fdca26"
             ],
             [
              1,
              "#f0f921"
             ]
            ],
            "type": "heatmap"
           }
          ],
          "heatmapgl": [
           {
            "colorbar": {
             "outlinewidth": 0,
             "ticks": ""
            },
            "colorscale": [
             [
              0,
              "#0d0887"
             ],
             [
              0.1111111111111111,
              "#46039f"
             ],
             [
              0.2222222222222222,
              "#7201a8"
             ],
             [
              0.3333333333333333,
              "#9c179e"
             ],
             [
              0.4444444444444444,
              "#bd3786"
             ],
             [
              0.5555555555555556,
              "#d8576b"
             ],
             [
              0.6666666666666666,
              "#ed7953"
             ],
             [
              0.7777777777777778,
              "#fb9f3a"
             ],
             [
              0.8888888888888888,
              "#fdca26"
             ],
             [
              1,
              "#f0f921"
             ]
            ],
            "type": "heatmapgl"
           }
          ],
          "histogram": [
           {
            "marker": {
             "pattern": {
              "fillmode": "overlay",
              "size": 10,
              "solidity": 0.2
             }
            },
            "type": "histogram"
           }
          ],
          "histogram2d": [
           {
            "colorbar": {
             "outlinewidth": 0,
             "ticks": ""
            },
            "colorscale": [
             [
              0,
              "#0d0887"
             ],
             [
              0.1111111111111111,
              "#46039f"
             ],
             [
              0.2222222222222222,
              "#7201a8"
             ],
             [
              0.3333333333333333,
              "#9c179e"
             ],
             [
              0.4444444444444444,
              "#bd3786"
             ],
             [
              0.5555555555555556,
              "#d8576b"
             ],
             [
              0.6666666666666666,
              "#ed7953"
             ],
             [
              0.7777777777777778,
              "#fb9f3a"
             ],
             [
              0.8888888888888888,
              "#fdca26"
             ],
             [
              1,
              "#f0f921"
             ]
            ],
            "type": "histogram2d"
           }
          ],
          "histogram2dcontour": [
           {
            "colorbar": {
             "outlinewidth": 0,
             "ticks": ""
            },
            "colorscale": [
             [
              0,
              "#0d0887"
             ],
             [
              0.1111111111111111,
              "#46039f"
             ],
             [
              0.2222222222222222,
              "#7201a8"
             ],
             [
              0.3333333333333333,
              "#9c179e"
             ],
             [
              0.4444444444444444,
              "#bd3786"
             ],
             [
              0.5555555555555556,
              "#d8576b"
             ],
             [
              0.6666666666666666,
              "#ed7953"
             ],
             [
              0.7777777777777778,
              "#fb9f3a"
             ],
             [
              0.8888888888888888,
              "#fdca26"
             ],
             [
              1,
              "#f0f921"
             ]
            ],
            "type": "histogram2dcontour"
           }
          ],
          "mesh3d": [
           {
            "colorbar": {
             "outlinewidth": 0,
             "ticks": ""
            },
            "type": "mesh3d"
           }
          ],
          "parcoords": [
           {
            "line": {
             "colorbar": {
              "outlinewidth": 0,
              "ticks": ""
             }
            },
            "type": "parcoords"
           }
          ],
          "pie": [
           {
            "automargin": true,
            "type": "pie"
           }
          ],
          "scatter": [
           {
            "fillpattern": {
             "fillmode": "overlay",
             "size": 10,
             "solidity": 0.2
            },
            "type": "scatter"
           }
          ],
          "scatter3d": [
           {
            "line": {
             "colorbar": {
              "outlinewidth": 0,
              "ticks": ""
             }
            },
            "marker": {
             "colorbar": {
              "outlinewidth": 0,
              "ticks": ""
             }
            },
            "type": "scatter3d"
           }
          ],
          "scattercarpet": [
           {
            "marker": {
             "colorbar": {
              "outlinewidth": 0,
              "ticks": ""
             }
            },
            "type": "scattercarpet"
           }
          ],
          "scattergeo": [
           {
            "marker": {
             "colorbar": {
              "outlinewidth": 0,
              "ticks": ""
             }
            },
            "type": "scattergeo"
           }
          ],
          "scattergl": [
           {
            "marker": {
             "colorbar": {
              "outlinewidth": 0,
              "ticks": ""
             }
            },
            "type": "scattergl"
           }
          ],
          "scattermapbox": [
           {
            "marker": {
             "colorbar": {
              "outlinewidth": 0,
              "ticks": ""
             }
            },
            "type": "scattermapbox"
           }
          ],
          "scatterpolar": [
           {
            "marker": {
             "colorbar": {
              "outlinewidth": 0,
              "ticks": ""
             }
            },
            "type": "scatterpolar"
           }
          ],
          "scatterpolargl": [
           {
            "marker": {
             "colorbar": {
              "outlinewidth": 0,
              "ticks": ""
             }
            },
            "type": "scatterpolargl"
           }
          ],
          "scatterternary": [
           {
            "marker": {
             "colorbar": {
              "outlinewidth": 0,
              "ticks": ""
             }
            },
            "type": "scatterternary"
           }
          ],
          "surface": [
           {
            "colorbar": {
             "outlinewidth": 0,
             "ticks": ""
            },
            "colorscale": [
             [
              0,
              "#0d0887"
             ],
             [
              0.1111111111111111,
              "#46039f"
             ],
             [
              0.2222222222222222,
              "#7201a8"
             ],
             [
              0.3333333333333333,
              "#9c179e"
             ],
             [
              0.4444444444444444,
              "#bd3786"
             ],
             [
              0.5555555555555556,
              "#d8576b"
             ],
             [
              0.6666666666666666,
              "#ed7953"
             ],
             [
              0.7777777777777778,
              "#fb9f3a"
             ],
             [
              0.8888888888888888,
              "#fdca26"
             ],
             [
              1,
              "#f0f921"
             ]
            ],
            "type": "surface"
           }
          ],
          "table": [
           {
            "cells": {
             "fill": {
              "color": "#EBF0F8"
             },
             "line": {
              "color": "white"
             }
            },
            "header": {
             "fill": {
              "color": "#C8D4E3"
             },
             "line": {
              "color": "white"
             }
            },
            "type": "table"
           }
          ]
         },
         "layout": {
          "annotationdefaults": {
           "arrowcolor": "#2a3f5f",
           "arrowhead": 0,
           "arrowwidth": 1
          },
          "autotypenumbers": "strict",
          "coloraxis": {
           "colorbar": {
            "outlinewidth": 0,
            "ticks": ""
           }
          },
          "colorscale": {
           "diverging": [
            [
             0,
             "#8e0152"
            ],
            [
             0.1,
             "#c51b7d"
            ],
            [
             0.2,
             "#de77ae"
            ],
            [
             0.3,
             "#f1b6da"
            ],
            [
             0.4,
             "#fde0ef"
            ],
            [
             0.5,
             "#f7f7f7"
            ],
            [
             0.6,
             "#e6f5d0"
            ],
            [
             0.7,
             "#b8e186"
            ],
            [
             0.8,
             "#7fbc41"
            ],
            [
             0.9,
             "#4d9221"
            ],
            [
             1,
             "#276419"
            ]
           ],
           "sequential": [
            [
             0,
             "#0d0887"
            ],
            [
             0.1111111111111111,
             "#46039f"
            ],
            [
             0.2222222222222222,
             "#7201a8"
            ],
            [
             0.3333333333333333,
             "#9c179e"
            ],
            [
             0.4444444444444444,
             "#bd3786"
            ],
            [
             0.5555555555555556,
             "#d8576b"
            ],
            [
             0.6666666666666666,
             "#ed7953"
            ],
            [
             0.7777777777777778,
             "#fb9f3a"
            ],
            [
             0.8888888888888888,
             "#fdca26"
            ],
            [
             1,
             "#f0f921"
            ]
           ],
           "sequentialminus": [
            [
             0,
             "#0d0887"
            ],
            [
             0.1111111111111111,
             "#46039f"
            ],
            [
             0.2222222222222222,
             "#7201a8"
            ],
            [
             0.3333333333333333,
             "#9c179e"
            ],
            [
             0.4444444444444444,
             "#bd3786"
            ],
            [
             0.5555555555555556,
             "#d8576b"
            ],
            [
             0.6666666666666666,
             "#ed7953"
            ],
            [
             0.7777777777777778,
             "#fb9f3a"
            ],
            [
             0.8888888888888888,
             "#fdca26"
            ],
            [
             1,
             "#f0f921"
            ]
           ]
          },
          "colorway": [
           "#636efa",
           "#EF553B",
           "#00cc96",
           "#ab63fa",
           "#FFA15A",
           "#19d3f3",
           "#FF6692",
           "#B6E880",
           "#FF97FF",
           "#FECB52"
          ],
          "font": {
           "color": "#2a3f5f"
          },
          "geo": {
           "bgcolor": "white",
           "lakecolor": "white",
           "landcolor": "#E5ECF6",
           "showlakes": true,
           "showland": true,
           "subunitcolor": "white"
          },
          "hoverlabel": {
           "align": "left"
          },
          "hovermode": "closest",
          "mapbox": {
           "style": "light"
          },
          "paper_bgcolor": "white",
          "plot_bgcolor": "#E5ECF6",
          "polar": {
           "angularaxis": {
            "gridcolor": "white",
            "linecolor": "white",
            "ticks": ""
           },
           "bgcolor": "#E5ECF6",
           "radialaxis": {
            "gridcolor": "white",
            "linecolor": "white",
            "ticks": ""
           }
          },
          "scene": {
           "xaxis": {
            "backgroundcolor": "#E5ECF6",
            "gridcolor": "white",
            "gridwidth": 2,
            "linecolor": "white",
            "showbackground": true,
            "ticks": "",
            "zerolinecolor": "white"
           },
           "yaxis": {
            "backgroundcolor": "#E5ECF6",
            "gridcolor": "white",
            "gridwidth": 2,
            "linecolor": "white",
            "showbackground": true,
            "ticks": "",
            "zerolinecolor": "white"
           },
           "zaxis": {
            "backgroundcolor": "#E5ECF6",
            "gridcolor": "white",
            "gridwidth": 2,
            "linecolor": "white",
            "showbackground": true,
            "ticks": "",
            "zerolinecolor": "white"
           }
          },
          "shapedefaults": {
           "line": {
            "color": "#2a3f5f"
           }
          },
          "ternary": {
           "aaxis": {
            "gridcolor": "white",
            "linecolor": "white",
            "ticks": ""
           },
           "baxis": {
            "gridcolor": "white",
            "linecolor": "white",
            "ticks": ""
           },
           "bgcolor": "#E5ECF6",
           "caxis": {
            "gridcolor": "white",
            "linecolor": "white",
            "ticks": ""
           }
          },
          "title": {
           "x": 0.05
          },
          "xaxis": {
           "automargin": true,
           "gridcolor": "white",
           "linecolor": "white",
           "ticks": "",
           "title": {
            "standoff": 15
           },
           "zerolinecolor": "white",
           "zerolinewidth": 2
          },
          "yaxis": {
           "automargin": true,
           "gridcolor": "white",
           "linecolor": "white",
           "ticks": "",
           "title": {
            "standoff": 15
           },
           "zerolinecolor": "white",
           "zerolinewidth": 2
          }
         }
        },
        "xaxis": {
         "anchor": "y",
         "autorange": true,
         "domain": [
          0,
          1
         ],
         "range": [
          -0.5,
          0.5
         ],
         "title": {
          "text": "variable"
         },
         "type": "category"
        },
        "yaxis": {
         "anchor": "x",
         "autorange": true,
         "domain": [
          0,
          1
         ],
         "range": [
          6.342109287277778,
          9.959463801722222
         ],
         "title": {
          "text": "value"
         },
         "type": "linear"
        }
       }
      },
      "image/png": "[encoded data removed]",
      "text/html": [
       "<div>                            <div id=\"d33599d6-2d62-463a-97fa-4970657c5017\" class=\"plotly-graph-div\" style=\"height:525px; width:100%;\"></div>            <script type=\"text/javascript\">                require([\"plotly\"], function(Plotly) {                    window.PLOTLYENV=window.PLOTLYENV || {};                                    if (document.getElementById(\"d33599d6-2d62-463a-97fa-4970657c5017\")) {                    Plotly.newPlot(                        \"d33599d6-2d62-463a-97fa-4970657c5017\",                        [{\"alignmentgroup\":\"True\",\"hovertemplate\":\"variable=%{x}\\u003cbr\\u003evalue=%{y}\\u003cextra\\u003e\\u003c\\u002fextra\\u003e\",\"legendgroup\":\"\",\"marker\":{\"color\":\"#636efa\"},\"name\":\"\",\"notched\":false,\"offsetgroup\":\"\",\"orientation\":\"v\",\"showlegend\":false,\"x\":[\"0\",\"0\",\"0\",\"0\",\"0\",\"0\",\"0\",\"0\",\"0\",\"0\",\"0\",\"0\",\"0\",\"0\",\"0\",\"0\",\"0\",\"0\",\"0\",\"0\",\"0\",\"0\",\"0\",\"0\",\"0\",\"0\",\"0\",\"0\",\"0\",\"0\",\"0\",\"0\",\"0\",\"0\",\"0\",\"0\",\"0\",\"0\",\"0\",\"0\",\"0\",\"0\",\"0\",\"0\",\"0\",\"0\",\"0\",\"0\",\"0\",\"0\",\"0\",\"0\",\"0\",\"0\",\"0\",\"0\",\"0\",\"0\",\"0\",\"0\",\"0\",\"0\",\"0\",\"0\",\"0\",\"0\",\"0\",\"0\",\"0\",\"0\",\"0\",\"0\",\"0\",\"0\",\"0\",\"0\",\"0\",\"0\",\"0\",\"0\",\"0\",\"0\",\"0\",\"0\",\"0\",\"0\",\"0\",\"0\",\"0\",\"0\",\"0\",\"0\",\"0\",\"0\",\"0\",\"0\",\"0\",\"0\",\"0\",\"0\",\"0\",\"0\",\"0\",\"0\",\"0\",\"0\",\"0\",\"0\",\"0\",\"0\",\"0\",\"0\",\"0\",\"0\",\"0\",\"0\",\"0\",\"0\",\"0\",\"0\",\"0\",\"0\",\"0\",\"0\",\"0\",\"0\",\"0\",\"0\",\"0\",\"0\",\"0\",\"0\",\"0\",\"0\",\"0\",\"0\",\"0\",\"0\",\"0\",\"0\",\"0\",\"0\",\"0\",\"0\",\"0\",\"0\",\"0\",\"0\",\"0\",\"0\",\"0\",\"0\",\"0\",\"0\",\"0\",\"0\",\"0\",\"0\",\"0\",\"0\",\"0\",\"0\",\"0\",\"0\",\"0\",\"0\",\"0\",\"0\",\"0\",\"0\",\"0\",\"0\",\"0\",\"0\",\"0\",\"0\",\"0\",\"0\",\"0\",\"0\",\"0\",\"0\",\"0\",\"0\",\"0\",\"0\",\"0\",\"0\",\"0\",\"0\",\"0\",\"0\",\"0\",\"0\",\"0\",\"0\",\"0\",\"0\",\"0\",\"0\",\"0\",\"0\",\"0\",\"0\",\"0\",\"0\",\"0\",\"0\",\"0\",\"0\",\"0\",\"0\",\"0\",\"0\",\"0\",\"0\",\"0\",\"0\",\"0\",\"0\",\"0\",\"0\",\"0\",\"0\",\"0\",\"0\",\"0\",\"0\",\"0\",\"0\",\"0\",\"0\",\"0\",\"0\",\"0\",\"0\",\"0\",\"0\",\"0\",\"0\",\"0\",\"0\",\"0\",\"0\",\"0\",\"0\",\"0\",\"0\",\"0\",\"0\",\"0\",\"0\",\"0\",\"0\",\"0\",\"0\",\"0\",\"0\",\"0\",\"0\",\"0\",\"0\",\"0\",\"0\",\"0\",\"0\",\"0\",\"0\",\"0\",\"0\",\"0\",\"0\",\"0\",\"0\",\"0\",\"0\",\"0\",\"0\",\"0\",\"0\",\"0\",\"0\",\"0\",\"0\",\"0\",\"0\",\"0\",\"0\",\"0\",\"0\",\"0\",\"0\",\"0\",\"0\",\"0\",\"0\",\"0\",\"0\",\"0\",\"0\",\"0\",\"0\",\"0\",\"0\",\"0\",\"0\",\"0\",\"0\",\"0\",\"0\",\"0\",\"0\",\"0\",\"0\",\"0\",\"0\",\"0\",\"0\",\"0\",\"0\",\"0\",\"0\",\"0\",\"0\",\"0\",\"0\",\"0\",\"0\",\"0\",\"0\",\"0\",\"0\",\"0\",\"0\",\"0\",\"0\",\"0\",\"0\",\"0\",\"0\",\"0\",\"0\",\"0\",\"0\",\"0\",\"0\",\"0\",\"0\",\"0\",\"0\",\"0\",\"0\",\"0\",\"0\",\"0\",\"0\",\"0\",\"0\",\"0\"],\"x0\":\" \",\"xaxis\":\"x\",\"y\":[9.04235418,9.04235418,8.076483399,8.841846275,7.021680442,7.724431198,7.873277557,8.212053251,7.413659706,7.793537801,9.270117722,7.23325808,6.742157985,7.38712967,9.095868883,7.321109707,9.466822959,7.110495986,7.793537801,7.44753027,9.210782826,8.269060117,7.16862163,9.150863308,7.16862163,8.256446699,9.725611199,7.724431198,8.747414212,7.16862163,8.548686977,9.516144504,7.645422481,9.725611199,9.444778639,9.04235418,7.645422481,7.69929702,7.468242285,8.238735603,8.3441,8.680891453,9.701314574,8.447377353,6.836019277,7.68629501,8.841846275,9.49676041,7.321109707,6.816661864,9.095868883,7.882392219,8.472884824,6.742157985,8.51512884,6.980632753,7.16862163,7.9287669,6.742157985,8.3441,8.841846275,6.937597517,8.841846275,8.296473432,8.167268649,8.306716005,8.076483399,8.167268649,7.44753027,8.841846275,7.645422481,6.895973343,7.09836372,8.38406227,8.076483399,8.548686977,6.655083551,8.841846275,8.472884824,8.076483399,7.576466943,8.076483399,6.627428351,6.868970319,8.32137658,9.299571214,7.841875235,7.610546882,8.841846275,8.587818077,9.236282657,8.021203637,8.841846275,6.816661864,8.021203637,9.473421319,7.793537801,8.238735603,8.841846275,8.598638143,7.413659706,8.447377353,8.841846275,7.882392219,8.472884824,7.413659706,6.850034145,7.68629501,7.793537801,6.627428351,6.937597517,9.236282657,9.444778639,8.238735603,8.31333277,8.472884824,7.16862163,7.793537801,6.67199484,7.16862163,8.532816996,8.000946393,8.418075326,7.793537801,8.447377353,7.44753027,8.238735603,8.049812675,8.438071523,8.182890915,8.548686977,7.365786028,7.645422481,8.076483399,9.725611199,7.724431198,8.841846275,9.516144504,8.167268649,8.076483399,9.168548407,7.031648654,7.882392219,6.742157985,8.841846275,8.841846275,8.076483399,8.395991825,7.9287669,9.150863308,8.3441,9.424239792,7.16862163,8.634040054,7.709486992,9.017664076,7.048011614,7.38712967,9.516144504,7.16862163,7.44753027,9.3871,7.645422481,8.296473432,8.076483399,7.724431198,8.3441,8.841846275,6.937597517,8.296473432,7.38712967,8.418075326,7.645422481,9.188382445,8.841846275,6.742157985,8.10935674,7.16862163,8.841846275,7.724431198,7.38712967,8.418075326,7.69929702,8.548686977,7.937092434,6.584502451,9.057496981,8.841846275,7.16862163,7.38712967,9.478462497,7.68629501,8.841846275,8.841846275,9.778596076,9.627879704,8.841846275,8.238735603,6.742157985,8.418075326,8.238735603,9.725611199,8.472884824,7.68629501,9.236282657,8.990254009,8.3441,7.793537801,7.616502296,7.9287669,7.645422481,6.895973343,7.16862163,7.321109707,6.627428351,7.695328112,7.793537801,7.16862163,8.395991825,8.841846275,9.606745406,8.238735603,6.980632753,9.414487439,8.31333277,7.492282038,7.730073105,6.742157985,8.38406227,7.709486992,8.021203637,7.010146845,6.742157985,7.95725182,6.980632753,8.418075326,6.937597517,7.793537801,8.167268649,7.90872645,7.793537801,9.606745406,8.548686977,6.543118893,9.408791573,7.510576383,8.021203637,8.238735603,8.000946393,8.150884317,8.575989855,8.841846275,7.972316293,6.522977013,8.759644201,7.95725182,7.031648654,8.495290729,8.841846275,8.998388855,7.95725182,9.134995656,9.203000759,6.868970319,7.95725182,9.299571214,7.492282038,9.543854155,8.841846275,8.076483399,8.841846275,8.841846275,6.742157985,7.16862163,7.68629501,8.076483399,8.167268649,8.841846275,9.516144504,6.627428351,9.162432508,8.841846275,6.782984794,7.793537801,7.937092434,8.139509933,6.937597517,8.076483399,6.627428351,8.238735603,7.16862163,7.348242739,8.841846275,7.765008862,8.841846275,9.653516016,8.841846275,8.841846275,9.130062681,8.634040054,8.841846275,6.816661864,7.348242739,8.841846275,9.725611199,8.648137235,8.46475739,7.44753027,7.793537801,8.456263369,7.669130373,8.418075326,8.710501217,8.238735603,6.742157985,9.3871,9.354420925,7.594959193,9.168548407,9.236282657,8.167268649,8.472884824,7.16862163,7.492282038,6.742157985,8.192908349,8.738905478,8.38406227,8.841846275,7.16862163,9.281916038,9.075114842,7.90872645,6.742157985,7.734863292,7.882392219,8.405096226,7.554174237,8.076483399,7.793537801,9.57394699,8.3441,6.868970319,9.257850173,7.010146845,8.575989855,6.67199484,7.793537801,8.3441,6.742157985,7.44753027,6.683405159,8.472884824,7.16862163,8.841846275,8.238735603,7.95725182,7.348242739,9.414487439],\"y0\":\" \",\"yaxis\":\"y\",\"type\":\"box\"}],                        {\"template\":{\"data\":{\"histogram2dcontour\":[{\"type\":\"histogram2dcontour\",\"colorbar\":{\"outlinewidth\":0,\"ticks\":\"\"},\"colorscale\":[[0.0,\"#0d0887\"],[0.1111111111111111,\"#46039f\"],[0.2222222222222222,\"#7201a8\"],[0.3333333333333333,\"#9c179e\"],[0.4444444444444444,\"#bd3786\"],[0.5555555555555556,\"#d8576b\"],[0.6666666666666666,\"#ed7953\"],[0.7777777777777778,\"#fb9f3a\"],[0.8888888888888888,\"#fdca26\"],[1.0,\"#f0f921\"]]}],\"choropleth\":[{\"type\":\"choropleth\",\"colorbar\":{\"outlinewidth\":0,\"ticks\":\"\"}}],\"histogram2d\":[{\"type\":\"histogram2d\",\"colorbar\":{\"outlinewidth\":0,\"ticks\":\"\"},\"colorscale\":[[0.0,\"#0d0887\"],[0.1111111111111111,\"#46039f\"],[0.2222222222222222,\"#7201a8\"],[0.3333333333333333,\"#9c179e\"],[0.4444444444444444,\"#bd3786\"],[0.5555555555555556,\"#d8576b\"],[0.6666666666666666,\"#ed7953\"],[0.7777777777777778,\"#fb9f3a\"],[0.8888888888888888,\"#fdca26\"],[1.0,\"#f0f921\"]]}],\"heatmap\":[{\"type\":\"heatmap\",\"colorbar\":{\"outlinewidth\":0,\"ticks\":\"\"},\"colorscale\":[[0.0,\"#0d0887\"],[0.1111111111111111,\"#46039f\"],[0.2222222222222222,\"#7201a8\"],[0.3333333333333333,\"#9c179e\"],[0.4444444444444444,\"#bd3786\"],[0.5555555555555556,\"#d8576b\"],[0.6666666666666666,\"#ed7953\"],[0.7777777777777778,\"#fb9f3a\"],[0.8888888888888888,\"#fdca26\"],[1.0,\"#f0f921\"]]}],\"heatmapgl\":[{\"type\":\"heatmapgl\",\"colorbar\":{\"outlinewidth\":0,\"ticks\":\"\"},\"colorscale\":[[0.0,\"#0d0887\"],[0.1111111111111111,\"#46039f\"],[0.2222222222222222,\"#7201a8\"],[0.3333333333333333,\"#9c179e\"],[0.4444444444444444,\"#bd3786\"],[0.5555555555555556,\"#d8576b\"],[0.6666666666666666,\"#ed7953\"],[0.7777777777777778,\"#fb9f3a\"],[0.8888888888888888,\"#fdca26\"],[1.0,\"#f0f921\"]]}],\"contourcarpet\":[{\"type\":\"contourcarpet\",\"colorbar\":{\"outlinewidth\":0,\"ticks\":\"\"}}],\"contour\":[{\"type\":\"contour\",\"colorbar\":{\"outlinewidth\":0,\"ticks\":\"\"},\"colorscale\":[[0.0,\"#0d0887\"],[0.1111111111111111,\"#46039f\"],[0.2222222222222222,\"#7201a8\"],[0.3333333333333333,\"#9c179e\"],[0.4444444444444444,\"#bd3786\"],[0.5555555555555556,\"#d8576b\"],[0.6666666666666666,\"#ed7953\"],[0.7777777777777778,\"#fb9f3a\"],[0.8888888888888888,\"#fdca26\"],[1.0,\"#f0f921\"]]}],\"surface\":[{\"type\":\"surface\",\"colorbar\":{\"outlinewidth\":0,\"ticks\":\"\"},\"colorscale\":[[0.0,\"#0d0887\"],[0.1111111111111111,\"#46039f\"],[0.2222222222222222,\"#7201a8\"],[0.3333333333333333,\"#9c179e\"],[0.4444444444444444,\"#bd3786\"],[0.5555555555555556,\"#d8576b\"],[0.6666666666666666,\"#ed7953\"],[0.7777777777777778,\"#fb9f3a\"],[0.8888888888888888,\"#fdca26\"],[1.0,\"#f0f921\"]]}],\"mesh3d\":[{\"type\":\"mesh3d\",\"colorbar\":{\"outlinewidth\":0,\"ticks\":\"\"}}],\"scatter\":[{\"fillpattern\":{\"fillmode\":\"overlay\",\"size\":10,\"solidity\":0.2},\"type\":\"scatter\"}],\"parcoords\":[{\"type\":\"parcoords\",\"line\":{\"colorbar\":{\"outlinewidth\":0,\"ticks\":\"\"}}}],\"scatterpolargl\":[{\"type\":\"scatterpolargl\",\"marker\":{\"colorbar\":{\"outlinewidth\":0,\"ticks\":\"\"}}}],\"bar\":[{\"error_x\":{\"color\":\"#2a3f5f\"},\"error_y\":{\"color\":\"#2a3f5f\"},\"marker\":{\"line\":{\"color\":\"#E5ECF6\",\"width\":0.5},\"pattern\":{\"fillmode\":\"overlay\",\"size\":10,\"solidity\":0.2}},\"type\":\"bar\"}],\"scattergeo\":[{\"type\":\"scattergeo\",\"marker\":{\"colorbar\":{\"outlinewidth\":0,\"ticks\":\"\"}}}],\"scatterpolar\":[{\"type\":\"scatterpolar\",\"marker\":{\"colorbar\":{\"outlinewidth\":0,\"ticks\":\"\"}}}],\"histogram\":[{\"marker\":{\"pattern\":{\"fillmode\":\"overlay\",\"size\":10,\"solidity\":0.2}},\"type\":\"histogram\"}],\"scattergl\":[{\"type\":\"scattergl\",\"marker\":{\"colorbar\":{\"outlinewidth\":0,\"ticks\":\"\"}}}],\"scatter3d\":[{\"type\":\"scatter3d\",\"line\":{\"colorbar\":{\"outlinewidth\":0,\"ticks\":\"\"}},\"marker\":{\"colorbar\":{\"outlinewidth\":0,\"ticks\":\"\"}}}],\"scattermapbox\":[{\"type\":\"scattermapbox\",\"marker\":{\"colorbar\":{\"outlinewidth\":0,\"ticks\":\"\"}}}],\"scatterternary\":[{\"type\":\"scatterternary\",\"marker\":{\"colorbar\":{\"outlinewidth\":0,\"ticks\":\"\"}}}],\"scattercarpet\":[{\"type\":\"scattercarpet\",\"marker\":{\"colorbar\":{\"outlinewidth\":0,\"ticks\":\"\"}}}],\"carpet\":[{\"aaxis\":{\"endlinecolor\":\"#2a3f5f\",\"gridcolor\":\"white\",\"linecolor\":\"white\",\"minorgridcolor\":\"white\",\"startlinecolor\":\"#2a3f5f\"},\"baxis\":{\"endlinecolor\":\"#2a3f5f\",\"gridcolor\":\"white\",\"linecolor\":\"white\",\"minorgridcolor\":\"white\",\"startlinecolor\":\"#2a3f5f\"},\"type\":\"carpet\"}],\"table\":[{\"cells\":{\"fill\":{\"color\":\"#EBF0F8\"},\"line\":{\"color\":\"white\"}},\"header\":{\"fill\":{\"color\":\"#C8D4E3\"},\"line\":{\"color\":\"white\"}},\"type\":\"table\"}],\"barpolar\":[{\"marker\":{\"line\":{\"color\":\"#E5ECF6\",\"width\":0.5},\"pattern\":{\"fillmode\":\"overlay\",\"size\":10,\"solidity\":0.2}},\"type\":\"barpolar\"}],\"pie\":[{\"automargin\":true,\"type\":\"pie\"}]},\"layout\":{\"autotypenumbers\":\"strict\",\"colorway\":[\"#636efa\",\"#EF553B\",\"#00cc96\",\"#ab63fa\",\"#FFA15A\",\"#19d3f3\",\"#FF6692\",\"#B6E880\",\"#FF97FF\",\"#FECB52\"],\"font\":{\"color\":\"#2a3f5f\"},\"hovermode\":\"closest\",\"hoverlabel\":{\"align\":\"left\"},\"paper_bgcolor\":\"white\",\"plot_bgcolor\":\"#E5ECF6\",\"polar\":{\"bgcolor\":\"#E5ECF6\",\"angularaxis\":{\"gridcolor\":\"white\",\"linecolor\":\"white\",\"ticks\":\"\"},\"radialaxis\":{\"gridcolor\":\"white\",\"linecolor\":\"white\",\"ticks\":\"\"}},\"ternary\":{\"bgcolor\":\"#E5ECF6\",\"aaxis\":{\"gridcolor\":\"white\",\"linecolor\":\"white\",\"ticks\":\"\"},\"baxis\":{\"gridcolor\":\"white\",\"linecolor\":\"white\",\"ticks\":\"\"},\"caxis\":{\"gridcolor\":\"white\",\"linecolor\":\"white\",\"ticks\":\"\"}},\"coloraxis\":{\"colorbar\":{\"outlinewidth\":0,\"ticks\":\"\"}},\"colorscale\":{\"sequential\":[[0.0,\"#0d0887\"],[0.1111111111111111,\"#46039f\"],[0.2222222222222222,\"#7201a8\"],[0.3333333333333333,\"#9c179e\"],[0.4444444444444444,\"#bd3786\"],[0.5555555555555556,\"#d8576b\"],[0.6666666666666666,\"#ed7953\"],[0.7777777777777778,\"#fb9f3a\"],[0.8888888888888888,\"#fdca26\"],[1.0,\"#f0f921\"]],\"sequentialminus\":[[0.0,\"#0d0887\"],[0.1111111111111111,\"#46039f\"],[0.2222222222222222,\"#7201a8\"],[0.3333333333333333,\"#9c179e\"],[0.4444444444444444,\"#bd3786\"],[0.5555555555555556,\"#d8576b\"],[0.6666666666666666,\"#ed7953\"],[0.7777777777777778,\"#fb9f3a\"],[0.8888888888888888,\"#fdca26\"],[1.0,\"#f0f921\"]],\"diverging\":[[0,\"#8e0152\"],[0.1,\"#c51b7d\"],[0.2,\"#de77ae\"],[0.3,\"#f1b6da\"],[0.4,\"#fde0ef\"],[0.5,\"#f7f7f7\"],[0.6,\"#e6f5d0\"],[0.7,\"#b8e186\"],[0.8,\"#7fbc41\"],[0.9,\"#4d9221\"],[1,\"#276419\"]]},\"xaxis\":{\"gridcolor\":\"white\",\"linecolor\":\"white\",\"ticks\":\"\",\"title\":{\"standoff\":15},\"zerolinecolor\":\"white\",\"automargin\":true,\"zerolinewidth\":2},\"yaxis\":{\"gridcolor\":\"white\",\"linecolor\":\"white\",\"ticks\":\"\",\"title\":{\"standoff\":15},\"zerolinecolor\":\"white\",\"automargin\":true,\"zerolinewidth\":2},\"scene\":{\"xaxis\":{\"backgroundcolor\":\"#E5ECF6\",\"gridcolor\":\"white\",\"linecolor\":\"white\",\"showbackground\":true,\"ticks\":\"\",\"zerolinecolor\":\"white\",\"gridwidth\":2},\"yaxis\":{\"backgroundcolor\":\"#E5ECF6\",\"gridcolor\":\"white\",\"linecolor\":\"white\",\"showbackground\":true,\"ticks\":\"\",\"zerolinecolor\":\"white\",\"gridwidth\":2},\"zaxis\":{\"backgroundcolor\":\"#E5ECF6\",\"gridcolor\":\"white\",\"linecolor\":\"white\",\"showbackground\":true,\"ticks\":\"\",\"zerolinecolor\":\"white\",\"gridwidth\":2}},\"shapedefaults\":{\"line\":{\"color\":\"#2a3f5f\"}},\"annotationdefaults\":{\"arrowcolor\":\"#2a3f5f\",\"arrowhead\":0,\"arrowwidth\":1},\"geo\":{\"bgcolor\":\"white\",\"landcolor\":\"#E5ECF6\",\"subunitcolor\":\"white\",\"showland\":true,\"showlakes\":true,\"lakecolor\":\"white\"},\"title\":{\"x\":0.05},\"mapbox\":{\"style\":\"light\"}}},\"xaxis\":{\"anchor\":\"y\",\"domain\":[0.0,1.0],\"title\":{\"text\":\"variable\"}},\"yaxis\":{\"anchor\":\"x\",\"domain\":[0.0,1.0],\"title\":{\"text\":\"value\"}},\"legend\":{\"tracegroupgap\":0},\"margin\":{\"t\":60},\"boxmode\":\"group\"},                        {\"responsive\": true}                    ).then(function(){\n",
       "                            \n",
       "var gd = document.getElementById('d33599d6-2d62-463a-97fa-4970657c5017');\n",
       "var x = new MutationObserver(function (mutations, observer) {{\n",
       "        var display = window.getComputedStyle(gd).display;\n",
       "        if (!display || display === 'none') {{\n",
       "            console.log([gd, 'removed!']);\n",
       "            Plotly.purge(gd);\n",
       "            observer.disconnect();\n",
       "        }}\n",
       "}});\n",
       "\n",
       "// Listen for the removal of the full notebook cells\n",
       "var notebookContainer = gd.closest('#notebook-container');\n",
       "if (notebookContainer) {{\n",
       "    x.observe(notebookContainer, {childList: true});\n",
       "}}\n",
       "\n",
       "// Listen for the clearing of the current output cell\n",
       "var outputEl = gd.closest('.output');\n",
       "if (outputEl) {{\n",
       "    x.observe(outputEl, {childList: true});\n",
       "}}\n",
       "\n",
       "                        })                };                });            </script>        </div>"
      ]
     },
     "metadata": {},
     "output_type": "display_data"
    }
   ],
   "source": [
    "# boxplot using plotly\n",
    "px.box(clean_data)"
   ]
  },
  {
   "cell_type": "markdown",
   "id": "0b9ae861-8663-4188-beaa-1c9ab82408e6",
   "metadata": {},
   "source": [
    "# Here is a data after removing outlier after 1 standard deviation"
   ]
  },
  {
   "cell_type": "code",
   "execution_count": 73,
   "id": "a3467d5d-c140-4c7b-8588-403acd968f17",
   "metadata": {},
   "outputs": [],
   "source": [
    "# data cleaning using percentiles\n",
    "def compute_quartile(dataset, quartile):\n",
    "    sort_data = sorted(dataset)\n",
    "    if quartile == 1:\n",
    "        quartile_value = np.percentile(sort_data, 25)\n",
    "    if quartile == 2:\n",
    "        quartile_value = np.percentile(sort_data, 50)\n",
    "    if quartile == 3:\n",
    "        quartile_value = np.percentile(sort_data, 75)\n",
    "    return quartile_value\n",
    "    \n",
    "def compute_fence(q1, q3):\n",
    "    iqr = q3 - q1\n",
    "    lower_fence = q1 - 1.5 * iqr  \n",
    "    upper_fence = q3 + 1.5 * iqr  \n",
    "    return lower_fence, upper_fence\n",
    "\n",
    "def descard_outlier(dataset, lower_fence, upper_fence):\n",
    "    outlier = []\n",
    "    for x in dataset:\n",
    "        if lower_fence > x or x > upper_fence:\n",
    "            outlier.append(x)\n",
    "   \n",
    "    clean_data_quar = [x for x in dataset if x not in outlier]\n",
    "    for item in outlier:\n",
    "        if item in clean_data:\n",
    "            print(f\"outlier ={item}\")\n",
    "        else: \n",
    "            print(\"No outlier in clean data\")\n",
    "    return clean_data_quar"
   ]
  },
  {
   "cell_type": "code",
   "execution_count": 74,
   "id": "c2917f12-6a0b-4ea4-b7c8-33c6d0c05e02",
   "metadata": {},
   "outputs": [
    {
     "name": "stdout",
     "output_type": "stream",
     "text": [
      "First quartile of somg_data is 7.16862163\n",
      "Third quartile of somg_data is 9.023836602000001\n"
     ]
    }
   ],
   "source": [
    "# to compute quartile\n",
    "# first quartile\n",
    "q1 = compute_quartile(dataset=smog_data, quartile=1)\n",
    "# third quartile\n",
    "q3 = compute_quartile(dataset=smog_data, quartile=3)\n",
    "print(f\"First quartile of somg_data is {q1}\")\n",
    "print(f\"Third quartile of somg_data is {q3}\")"
   ]
  },
  {
   "cell_type": "code",
   "execution_count": 75,
   "id": "8bfa646f-523a-4a37-8acb-926b99b982c6",
   "metadata": {
    "scrolled": true
   },
   "outputs": [
    {
     "name": "stdout",
     "output_type": "stream",
     "text": [
      "Lower fence of smog data is 4.385799171999997\n",
      "Upper fence of smog data is 11.806659060000003\n"
     ]
    },
    {
     "data": {
      "application/vnd.plotly.v1+json": {
       "config": {
        "plotlyServerURL": "https://plot.ly"
       },
       "data": [
        {
         "alignmentgroup": "True",
         "hovertemplate": "variable=%{x}<br>value=%{y}<extra></extra>",
         "legendgroup": "",
         "marker": {
          "color": "#636efa"
         },
         "name": "",
         "notched": false,
         "offsetgroup": "",
         "orientation": "v",
         "showlegend": false,
         "type": "box",
         "x": [
          "smog_index",
          "smog_index",
          "smog_index",
          "smog_index",
          "smog_index",
          "smog_index",
          "smog_index",
          "smog_index",
          "smog_index",
          "smog_index",
          "smog_index",
          "smog_index",
          "smog_index",
          "smog_index",
          "smog_index",
          "smog_index",
          "smog_index",
          "smog_index",
          "smog_index",
          "smog_index",
          "smog_index",
          "smog_index",
          "smog_index",
          "smog_index",
          "smog_index",
          "smog_index",
          "smog_index",
          "smog_index",
          "smog_index",
          "smog_index",
          "smog_index",
          "smog_index",
          "smog_index",
          "smog_index",
          "smog_index",
          "smog_index",
          "smog_index",
          "smog_index",
          "smog_index",
          "smog_index",
          "smog_index",
          "smog_index",
          "smog_index",
          "smog_index",
          "smog_index",
          "smog_index",
          "smog_index",
          "smog_index",
          "smog_index",
          "smog_index",
          "smog_index",
          "smog_index",
          "smog_index",
          "smog_index",
          "smog_index",
          "smog_index",
          "smog_index",
          "smog_index",
          "smog_index",
          "smog_index",
          "smog_index",
          "smog_index",
          "smog_index",
          "smog_index",
          "smog_index",
          "smog_index",
          "smog_index",
          "smog_index",
          "smog_index",
          "smog_index",
          "smog_index",
          "smog_index",
          "smog_index",
          "smog_index",
          "smog_index",
          "smog_index",
          "smog_index",
          "smog_index",
          "smog_index",
          "smog_index",
          "smog_index",
          "smog_index",
          "smog_index",
          "smog_index",
          "smog_index",
          "smog_index",
          "smog_index",
          "smog_index",
          "smog_index",
          "smog_index",
          "smog_index",
          "smog_index",
          "smog_index",
          "smog_index",
          "smog_index",
          "smog_index",
          "smog_index",
          "smog_index",
          "smog_index",
          "smog_index",
          "smog_index",
          "smog_index",
          "smog_index",
          "smog_index",
          "smog_index",
          "smog_index",
          "smog_index",
          "smog_index",
          "smog_index",
          "smog_index",
          "smog_index",
          "smog_index",
          "smog_index",
          "smog_index",
          "smog_index",
          "smog_index",
          "smog_index",
          "smog_index",
          "smog_index",
          "smog_index",
          "smog_index",
          "smog_index",
          "smog_index",
          "smog_index",
          "smog_index",
          "smog_index",
          "smog_index",
          "smog_index",
          "smog_index",
          "smog_index",
          "smog_index",
          "smog_index",
          "smog_index",
          "smog_index",
          "smog_index",
          "smog_index",
          "smog_index",
          "smog_index",
          "smog_index",
          "smog_index",
          "smog_index",
          "smog_index",
          "smog_index",
          "smog_index",
          "smog_index",
          "smog_index",
          "smog_index",
          "smog_index",
          "smog_index",
          "smog_index",
          "smog_index",
          "smog_index",
          "smog_index",
          "smog_index",
          "smog_index",
          "smog_index",
          "smog_index",
          "smog_index",
          "smog_index",
          "smog_index",
          "smog_index",
          "smog_index",
          "smog_index",
          "smog_index",
          "smog_index",
          "smog_index",
          "smog_index",
          "smog_index",
          "smog_index",
          "smog_index",
          "smog_index",
          "smog_index",
          "smog_index",
          "smog_index",
          "smog_index",
          "smog_index",
          "smog_index",
          "smog_index",
          "smog_index",
          "smog_index",
          "smog_index",
          "smog_index",
          "smog_index",
          "smog_index",
          "smog_index",
          "smog_index",
          "smog_index",
          "smog_index",
          "smog_index",
          "smog_index",
          "smog_index",
          "smog_index",
          "smog_index",
          "smog_index",
          "smog_index",
          "smog_index",
          "smog_index",
          "smog_index",
          "smog_index",
          "smog_index",
          "smog_index",
          "smog_index",
          "smog_index",
          "smog_index",
          "smog_index",
          "smog_index",
          "smog_index",
          "smog_index",
          "smog_index",
          "smog_index",
          "smog_index",
          "smog_index",
          "smog_index",
          "smog_index",
          "smog_index",
          "smog_index",
          "smog_index",
          "smog_index",
          "smog_index",
          "smog_index",
          "smog_index",
          "smog_index",
          "smog_index",
          "smog_index",
          "smog_index",
          "smog_index",
          "smog_index",
          "smog_index",
          "smog_index",
          "smog_index",
          "smog_index",
          "smog_index",
          "smog_index",
          "smog_index",
          "smog_index",
          "smog_index",
          "smog_index",
          "smog_index",
          "smog_index",
          "smog_index",
          "smog_index",
          "smog_index",
          "smog_index",
          "smog_index",
          "smog_index",
          "smog_index",
          "smog_index",
          "smog_index",
          "smog_index",
          "smog_index",
          "smog_index",
          "smog_index",
          "smog_index",
          "smog_index",
          "smog_index",
          "smog_index",
          "smog_index",
          "smog_index",
          "smog_index",
          "smog_index",
          "smog_index",
          "smog_index",
          "smog_index",
          "smog_index",
          "smog_index",
          "smog_index",
          "smog_index",
          "smog_index",
          "smog_index",
          "smog_index",
          "smog_index",
          "smog_index",
          "smog_index",
          "smog_index",
          "smog_index",
          "smog_index",
          "smog_index",
          "smog_index",
          "smog_index",
          "smog_index",
          "smog_index",
          "smog_index",
          "smog_index",
          "smog_index",
          "smog_index",
          "smog_index",
          "smog_index",
          "smog_index",
          "smog_index",
          "smog_index",
          "smog_index",
          "smog_index",
          "smog_index",
          "smog_index",
          "smog_index",
          "smog_index",
          "smog_index",
          "smog_index",
          "smog_index",
          "smog_index",
          "smog_index",
          "smog_index",
          "smog_index",
          "smog_index",
          "smog_index",
          "smog_index",
          "smog_index",
          "smog_index",
          "smog_index",
          "smog_index",
          "smog_index",
          "smog_index",
          "smog_index",
          "smog_index",
          "smog_index",
          "smog_index",
          "smog_index",
          "smog_index",
          "smog_index",
          "smog_index",
          "smog_index",
          "smog_index",
          "smog_index",
          "smog_index",
          "smog_index",
          "smog_index",
          "smog_index",
          "smog_index",
          "smog_index",
          "smog_index",
          "smog_index",
          "smog_index",
          "smog_index",
          "smog_index",
          "smog_index",
          "smog_index",
          "smog_index",
          "smog_index",
          "smog_index",
          "smog_index",
          "smog_index",
          "smog_index",
          "smog_index",
          "smog_index",
          "smog_index",
          "smog_index",
          "smog_index",
          "smog_index",
          "smog_index",
          "smog_index",
          "smog_index",
          "smog_index",
          "smog_index",
          "smog_index",
          "smog_index",
          "smog_index",
          "smog_index",
          "smog_index",
          "smog_index",
          "smog_index",
          "smog_index",
          "smog_index",
          "smog_index",
          "smog_index",
          "smog_index",
          "smog_index",
          "smog_index",
          "smog_index",
          "smog_index",
          "smog_index",
          "smog_index",
          "smog_index",
          "smog_index",
          "smog_index",
          "smog_index",
          "smog_index",
          "smog_index",
          "smog_index",
          "smog_index",
          "smog_index",
          "smog_index",
          "smog_index",
          "smog_index",
          "smog_index",
          "smog_index",
          "smog_index",
          "smog_index",
          "smog_index",
          "smog_index",
          "smog_index",
          "smog_index",
          "smog_index",
          "smog_index",
          "smog_index",
          "smog_index",
          "smog_index",
          "smog_index",
          "smog_index",
          "smog_index",
          "smog_index",
          "smog_index",
          "smog_index",
          "smog_index",
          "smog_index",
          "smog_index",
          "smog_index",
          "smog_index",
          "smog_index",
          "smog_index",
          "smog_index",
          "smog_index",
          "smog_index",
          "smog_index",
          "smog_index",
          "smog_index",
          "smog_index",
          "smog_index",
          "smog_index",
          "smog_index",
          "smog_index",
          "smog_index",
          "smog_index",
          "smog_index",
          "smog_index",
          "smog_index",
          "smog_index",
          "smog_index",
          "smog_index",
          "smog_index",
          "smog_index",
          "smog_index",
          "smog_index",
          "smog_index",
          "smog_index",
          "smog_index",
          "smog_index",
          "smog_index",
          "smog_index",
          "smog_index",
          "smog_index",
          "smog_index",
          "smog_index",
          "smog_index",
          "smog_index",
          "smog_index",
          "smog_index",
          "smog_index",
          "smog_index",
          "smog_index",
          "smog_index",
          "smog_index",
          "smog_index",
          "smog_index",
          "smog_index",
          "smog_index",
          "smog_index",
          "smog_index",
          "smog_index",
          "smog_index",
          "smog_index",
          "smog_index",
          "smog_index",
          "smog_index",
          "smog_index",
          "smog_index",
          "smog_index",
          "smog_index",
          "smog_index",
          "smog_index",
          "smog_index",
          "smog_index",
          "smog_index",
          "smog_index",
          "smog_index",
          "smog_index",
          "smog_index",
          "smog_index",
          "smog_index",
          "smog_index",
          "smog_index",
          "smog_index",
          "smog_index",
          "smog_index",
          "smog_index",
          "smog_index",
          "smog_index",
          "smog_index",
          "smog_index",
          "smog_index",
          "smog_index",
          "smog_index",
          "smog_index",
          "smog_index",
          "smog_index",
          "smog_index",
          "smog_index",
          "smog_index",
          "smog_index",
          "smog_index",
          "smog_index"
         ],
         "x0": " ",
         "xaxis": "x",
         "y": [
          10.91426088,
          11.38971747,
          9.04235418,
          5.985473137,
          9.04235418,
          8.076483399,
          10.35521597,
          8.841846275,
          11.38971747,
          6.4273556,
          7.021680442,
          7.724431198,
          5.985473137,
          10.1257567,
          7.873277557,
          8.212053251,
          5.916634753,
          7.413659706,
          7.793537801,
          9.270117722,
          7.23325808,
          6.742157985,
          6.182691328,
          7.38712967,
          9.095868883,
          7.321109707,
          9.466822959,
          7.110495986,
          11.20814326,
          7.793537801,
          7.44753027,
          9.210782826,
          5.148860815,
          9.928628109,
          5.288315135,
          8.269060117,
          7.16862163,
          13.5591,
          11.53803483,
          4.655895664,
          9.150863308,
          10.68635297,
          7.16862163,
          8.256446699,
          10.50422373,
          9.725611199,
          7.724431198,
          8.747414212,
          7.16862163,
          8.548686977,
          9.516144504,
          7.645422481,
          9.725611199,
          9.444778639,
          9.04235418,
          9.888512548,
          7.645422481,
          7.69929702,
          7.468242285,
          8.238735603,
          8.3441,
          8.680891453,
          11.62993849,
          9.701314574,
          8.447377353,
          6.836019277,
          7.68629501,
          8.841846275,
          5.985473137,
          11.45678718,
          9.49676041,
          7.321109707,
          6.816661864,
          9.095868883,
          7.882392219,
          8.472884824,
          6.742157985,
          8.51512884,
          11.0223933,
          6.980632753,
          10.56073891,
          7.16862163,
          7.9287669,
          6.742157985,
          5.985473137,
          8.3441,
          8.841846275,
          6.937597517,
          3.1291,
          8.841846275,
          8.296473432,
          8.167268649,
          5.148860815,
          8.306716005,
          5.683917802,
          10.74609503,
          8.076483399,
          8.167268649,
          7.44753027,
          8.841846275,
          7.645422481,
          3.1291,
          6.895973343,
          11.76596054,
          7.09836372,
          6.4273556,
          8.38406227,
          8.076483399,
          13.0238668,
          8.548686977,
          6.655083551,
          11.20814326,
          6.4273556,
          8.841846275,
          6.29796148,
          5.683917802,
          3.1291,
          8.472884824,
          5.683917802,
          5.461318901,
          10.45135478,
          8.076483399,
          7.576466943,
          8.076483399,
          6.627428351,
          6.868970319,
          10.29040645,
          8.32137658,
          10.21488968,
          9.299571214,
          7.841875235,
          7.610546882,
          5.985473137,
          8.841846275,
          5.985473137,
          8.587818077,
          9.236282657,
          8.021203637,
          10.91426088,
          10.45135478,
          8.841846275,
          6.816661864,
          8.021203637,
          9.473421319,
          7.793537801,
          8.238735603,
          8.841846275,
          5.369823441,
          8.598638143,
          7.413659706,
          8.447377353,
          8.841846275,
          7.882392219,
          8.472884824,
          7.413659706,
          5.461318901,
          11.20814326,
          13.0238668,
          6.850034145,
          7.68629501,
          7.793537801,
          10.1257567,
          6.627428351,
          5.565023196,
          6.4273556,
          6.937597517,
          6.4273556,
          9.236282657,
          9.444778639,
          6.4273556,
          8.238735603,
          8.31333277,
          10.65788864,
          10.21488968,
          8.472884824,
          7.16862163,
          6.2581,
          7.793537801,
          6.67199484,
          7.16862163,
          8.532816996,
          6.351523495,
          8.000946393,
          8.418075326,
          10.1257567,
          7.793537801,
          8.447377353,
          9.957137785,
          4.935628992,
          11.80738457,
          11.20814326,
          7.44753027,
          10.50422373,
          8.238735603,
          9.82788879,
          8.049812675,
          11.374739,
          8.438071523,
          8.182890915,
          8.548686977,
          10.41145118,
          12.03177207,
          5.683917802,
          7.365786028,
          7.645422481,
          8.076483399,
          9.725611199,
          7.724431198,
          8.841846275,
          9.516144504,
          8.167268649,
          8.076483399,
          5.985473137,
          9.168548407,
          7.031648654,
          7.882392219,
          6.742157985,
          8.841846275,
          8.841846275,
          8.076483399,
          8.395991825,
          7.9287669,
          9.150863308,
          8.3441,
          9.424239792,
          7.16862163,
          8.634040054,
          7.709486992,
          5.288315135,
          5.985473137,
          9.994966539,
          9.017664076,
          7.048011614,
          7.38712967,
          9.516144504,
          7.16862163,
          7.44753027,
          9.3871,
          7.645422481,
          8.296473432,
          8.076483399,
          7.724431198,
          8.3441,
          8.841846275,
          12.6883529,
          6.937597517,
          6.4273556,
          8.296473432,
          7.38712967,
          8.418075326,
          7.645422481,
          9.188382445,
          8.841846275,
          6.742157985,
          8.10935674,
          7.16862163,
          5.565023196,
          8.841846275,
          10.46071229,
          7.724431198,
          7.38712967,
          11.45678718,
          8.418075326,
          7.69929702,
          8.548686977,
          7.937092434,
          6.584502451,
          9.057496981,
          8.841846275,
          7.16862163,
          7.38712967,
          10.1257567,
          9.478462497,
          7.68629501,
          11.64515934,
          8.841846275,
          8.841846275,
          9.778596076,
          9.627879704,
          8.841846275,
          8.238735603,
          6.742157985,
          8.418075326,
          8.238735603,
          9.725611199,
          8.472884824,
          7.68629501,
          5.369823441,
          4.7782278,
          9.236282657,
          8.990254009,
          8.3441,
          12.28987398,
          9.867487886,
          6.4273556,
          7.793537801,
          10.68635297,
          6.2581,
          7.616502296,
          10.21488968,
          7.9287669,
          7.645422481,
          5.82211442,
          6.895973343,
          7.16862163,
          7.321109707,
          6.627428351,
          5.565023196,
          7.695328112,
          7.793537801,
          7.16862163,
          8.395991825,
          6.182691328,
          8.841846275,
          9.606745406,
          10.37482555,
          5.985473137,
          8.238735603,
          6.980632753,
          9.414487439,
          8.31333277,
          7.492282038,
          7.730073105,
          5.288315135,
          6.742157985,
          8.38406227,
          7.709486992,
          8.021203637,
          7.010146845,
          6.742157985,
          7.95725182,
          6.980632753,
          10.98051877,
          8.418075326,
          11.93303328,
          6.937597517,
          7.793537801,
          8.167268649,
          7.90872645,
          7.793537801,
          6.4273556,
          9.606745406,
          3.1291,
          5.369823441,
          8.548686977,
          6.543118893,
          9.408791573,
          7.510576383,
          9.957137785,
          10.1257567,
          8.021203637,
          8.238735603,
          6.4273556,
          8.000946393,
          8.150884317,
          8.575989855,
          10.63711953,
          8.841846275,
          6.227271662,
          7.972316293,
          6.522977013,
          6.4273556,
          5.985473137,
          8.759644201,
          7.95725182,
          7.031648654,
          8.495290729,
          8.841846275,
          8.998388855,
          7.95725182,
          9.134995656,
          9.203000759,
          6.868970319,
          7.95725182,
          9.299571214,
          7.492282038,
          9.543854155,
          8.841846275,
          8.076483399,
          8.841846275,
          8.841846275,
          6.742157985,
          7.16862163,
          7.68629501,
          8.076483399,
          8.167268649,
          8.841846275,
          9.516144504,
          6.627428351,
          9.162432508,
          10.68635297,
          8.841846275,
          6.182691328,
          6.782984794,
          7.793537801,
          7.937092434,
          8.139509933,
          6.937597517,
          8.076483399,
          5.82211442,
          6.627428351,
          8.238735603,
          6.4273556,
          10.86419502,
          7.16862163,
          3.1291,
          10.83216551,
          7.348242739,
          8.841846275,
          7.765008862,
          8.841846275,
          9.653516016,
          8.841846275,
          8.841846275,
          6.4273556,
          14.55459255,
          9.130062681,
          10.05682244,
          5.683917802,
          8.634040054,
          8.841846275,
          6.816661864,
          7.348242739,
          8.841846275,
          9.725611199,
          8.648137235,
          4.851557811,
          8.46475739,
          7.44753027,
          7.793537801,
          11.20814326,
          8.456263369,
          7.669130373,
          8.418075326,
          8.710501217,
          8.238735603,
          6.742157985,
          9.3871,
          5.985473137,
          9.354420925,
          13.0238668,
          7.594959193,
          9.168548407,
          9.236282657,
          8.167268649,
          8.472884824,
          7.16862163,
          6.4273556,
          7.492282038,
          6.742157985,
          5.773587663,
          9.86163605,
          8.192908349,
          8.738905478,
          8.38406227,
          5.985473137,
          10.25414643,
          8.841846275,
          11.74138905,
          6.4273556,
          10.68635297,
          7.16862163,
          9.281916038,
          9.075114842,
          7.90872645,
          6.742157985,
          3.1291,
          7.734863292,
          7.882392219,
          8.405096226,
          7.554174237,
          5.683917802,
          8.076483399,
          7.793537801,
          3.1291,
          9.57394699,
          8.3441,
          6.868970319,
          9.257850173,
          7.010146845,
          10.60884064,
          8.575989855,
          5.7366,
          6.67199484,
          6.4273556,
          7.793537801,
          8.3441,
          6.742157985,
          7.44753027,
          6.683405159,
          8.472884824,
          9.928628109,
          7.16862163,
          8.841846275,
          8.238735603,
          3.1291,
          7.95725182,
          7.348242739,
          9.994966539,
          9.414487439
         ],
         "y0": " ",
         "yaxis": "y"
        }
       ],
       "layout": {
        "autosize": true,
        "boxmode": "group",
        "legend": {
         "tracegroupgap": 0
        },
        "margin": {
         "t": 60
        },
        "template": {
         "data": {
          "bar": [
           {
            "error_x": {
             "color": "#2a3f5f"
            },
            "error_y": {
             "color": "#2a3f5f"
            },
            "marker": {
             "line": {
              "color": "#E5ECF6",
              "width": 0.5
             },
             "pattern": {
              "fillmode": "overlay",
              "size": 10,
              "solidity": 0.2
             }
            },
            "type": "bar"
           }
          ],
          "barpolar": [
           {
            "marker": {
             "line": {
              "color": "#E5ECF6",
              "width": 0.5
             },
             "pattern": {
              "fillmode": "overlay",
              "size": 10,
              "solidity": 0.2
             }
            },
            "type": "barpolar"
           }
          ],
          "carpet": [
           {
            "aaxis": {
             "endlinecolor": "#2a3f5f",
             "gridcolor": "white",
             "linecolor": "white",
             "minorgridcolor": "white",
             "startlinecolor": "#2a3f5f"
            },
            "baxis": {
             "endlinecolor": "#2a3f5f",
             "gridcolor": "white",
             "linecolor": "white",
             "minorgridcolor": "white",
             "startlinecolor": "#2a3f5f"
            },
            "type": "carpet"
           }
          ],
          "choropleth": [
           {
            "colorbar": {
             "outlinewidth": 0,
             "ticks": ""
            },
            "type": "choropleth"
           }
          ],
          "contour": [
           {
            "colorbar": {
             "outlinewidth": 0,
             "ticks": ""
            },
            "colorscale": [
             [
              0,
              "#0d0887"
             ],
             [
              0.1111111111111111,
              "#46039f"
             ],
             [
              0.2222222222222222,
              "#7201a8"
             ],
             [
              0.3333333333333333,
              "#9c179e"
             ],
             [
              0.4444444444444444,
              "#bd3786"
             ],
             [
              0.5555555555555556,
              "#d8576b"
             ],
             [
              0.6666666666666666,
              "#ed7953"
             ],
             [
              0.7777777777777778,
              "#fb9f3a"
             ],
             [
              0.8888888888888888,
              "#fdca26"
             ],
             [
              1,
              "#f0f921"
             ]
            ],
            "type": "contour"
           }
          ],
          "contourcarpet": [
           {
            "colorbar": {
             "outlinewidth": 0,
             "ticks": ""
            },
            "type": "contourcarpet"
           }
          ],
          "heatmap": [
           {
            "colorbar": {
             "outlinewidth": 0,
             "ticks": ""
            },
            "colorscale": [
             [
              0,
              "#0d0887"
             ],
             [
              0.1111111111111111,
              "#46039f"
             ],
             [
              0.2222222222222222,
              "#7201a8"
             ],
             [
              0.3333333333333333,
              "#9c179e"
             ],
             [
              0.4444444444444444,
              "#bd3786"
             ],
             [
              0.5555555555555556,
              "#d8576b"
             ],
             [
              0.6666666666666666,
              "#ed7953"
             ],
             [
              0.7777777777777778,
              "#fb9f3a"
             ],
             [
              0.8888888888888888,
              "#fdca26"
             ],
             [
              1,
              "#f0f921"
             ]
            ],
            "type": "heatmap"
           }
          ],
          "heatmapgl": [
           {
            "colorbar": {
             "outlinewidth": 0,
             "ticks": ""
            },
            "colorscale": [
             [
              0,
              "#0d0887"
             ],
             [
              0.1111111111111111,
              "#46039f"
             ],
             [
              0.2222222222222222,
              "#7201a8"
             ],
             [
              0.3333333333333333,
              "#9c179e"
             ],
             [
              0.4444444444444444,
              "#bd3786"
             ],
             [
              0.5555555555555556,
              "#d8576b"
             ],
             [
              0.6666666666666666,
              "#ed7953"
             ],
             [
              0.7777777777777778,
              "#fb9f3a"
             ],
             [
              0.8888888888888888,
              "#fdca26"
             ],
             [
              1,
              "#f0f921"
             ]
            ],
            "type": "heatmapgl"
           }
          ],
          "histogram": [
           {
            "marker": {
             "pattern": {
              "fillmode": "overlay",
              "size": 10,
              "solidity": 0.2
             }
            },
            "type": "histogram"
           }
          ],
          "histogram2d": [
           {
            "colorbar": {
             "outlinewidth": 0,
             "ticks": ""
            },
            "colorscale": [
             [
              0,
              "#0d0887"
             ],
             [
              0.1111111111111111,
              "#46039f"
             ],
             [
              0.2222222222222222,
              "#7201a8"
             ],
             [
              0.3333333333333333,
              "#9c179e"
             ],
             [
              0.4444444444444444,
              "#bd3786"
             ],
             [
              0.5555555555555556,
              "#d8576b"
             ],
             [
              0.6666666666666666,
              "#ed7953"
             ],
             [
              0.7777777777777778,
              "#fb9f3a"
             ],
             [
              0.8888888888888888,
              "#fdca26"
             ],
             [
              1,
              "#f0f921"
             ]
            ],
            "type": "histogram2d"
           }
          ],
          "histogram2dcontour": [
           {
            "colorbar": {
             "outlinewidth": 0,
             "ticks": ""
            },
            "colorscale": [
             [
              0,
              "#0d0887"
             ],
             [
              0.1111111111111111,
              "#46039f"
             ],
             [
              0.2222222222222222,
              "#7201a8"
             ],
             [
              0.3333333333333333,
              "#9c179e"
             ],
             [
              0.4444444444444444,
              "#bd3786"
             ],
             [
              0.5555555555555556,
              "#d8576b"
             ],
             [
              0.6666666666666666,
              "#ed7953"
             ],
             [
              0.7777777777777778,
              "#fb9f3a"
             ],
             [
              0.8888888888888888,
              "#fdca26"
             ],
             [
              1,
              "#f0f921"
             ]
            ],
            "type": "histogram2dcontour"
           }
          ],
          "mesh3d": [
           {
            "colorbar": {
             "outlinewidth": 0,
             "ticks": ""
            },
            "type": "mesh3d"
           }
          ],
          "parcoords": [
           {
            "line": {
             "colorbar": {
              "outlinewidth": 0,
              "ticks": ""
             }
            },
            "type": "parcoords"
           }
          ],
          "pie": [
           {
            "automargin": true,
            "type": "pie"
           }
          ],
          "scatter": [
           {
            "fillpattern": {
             "fillmode": "overlay",
             "size": 10,
             "solidity": 0.2
            },
            "type": "scatter"
           }
          ],
          "scatter3d": [
           {
            "line": {
             "colorbar": {
              "outlinewidth": 0,
              "ticks": ""
             }
            },
            "marker": {
             "colorbar": {
              "outlinewidth": 0,
              "ticks": ""
             }
            },
            "type": "scatter3d"
           }
          ],
          "scattercarpet": [
           {
            "marker": {
             "colorbar": {
              "outlinewidth": 0,
              "ticks": ""
             }
            },
            "type": "scattercarpet"
           }
          ],
          "scattergeo": [
           {
            "marker": {
             "colorbar": {
              "outlinewidth": 0,
              "ticks": ""
             }
            },
            "type": "scattergeo"
           }
          ],
          "scattergl": [
           {
            "marker": {
             "colorbar": {
              "outlinewidth": 0,
              "ticks": ""
             }
            },
            "type": "scattergl"
           }
          ],
          "scattermapbox": [
           {
            "marker": {
             "colorbar": {
              "outlinewidth": 0,
              "ticks": ""
             }
            },
            "type": "scattermapbox"
           }
          ],
          "scatterpolar": [
           {
            "marker": {
             "colorbar": {
              "outlinewidth": 0,
              "ticks": ""
             }
            },
            "type": "scatterpolar"
           }
          ],
          "scatterpolargl": [
           {
            "marker": {
             "colorbar": {
              "outlinewidth": 0,
              "ticks": ""
             }
            },
            "type": "scatterpolargl"
           }
          ],
          "scatterternary": [
           {
            "marker": {
             "colorbar": {
              "outlinewidth": 0,
              "ticks": ""
             }
            },
            "type": "scatterternary"
           }
          ],
          "surface": [
           {
            "colorbar": {
             "outlinewidth": 0,
             "ticks": ""
            },
            "colorscale": [
             [
              0,
              "#0d0887"
             ],
             [
              0.1111111111111111,
              "#46039f"
             ],
             [
              0.2222222222222222,
              "#7201a8"
             ],
             [
              0.3333333333333333,
              "#9c179e"
             ],
             [
              0.4444444444444444,
              "#bd3786"
             ],
             [
              0.5555555555555556,
              "#d8576b"
             ],
             [
              0.6666666666666666,
              "#ed7953"
             ],
             [
              0.7777777777777778,
              "#fb9f3a"
             ],
             [
              0.8888888888888888,
              "#fdca26"
             ],
             [
              1,
              "#f0f921"
             ]
            ],
            "type": "surface"
           }
          ],
          "table": [
           {
            "cells": {
             "fill": {
              "color": "#EBF0F8"
             },
             "line": {
              "color": "white"
             }
            },
            "header": {
             "fill": {
              "color": "#C8D4E3"
             },
             "line": {
              "color": "white"
             }
            },
            "type": "table"
           }
          ]
         },
         "layout": {
          "annotationdefaults": {
           "arrowcolor": "#2a3f5f",
           "arrowhead": 0,
           "arrowwidth": 1
          },
          "autotypenumbers": "strict",
          "coloraxis": {
           "colorbar": {
            "outlinewidth": 0,
            "ticks": ""
           }
          },
          "colorscale": {
           "diverging": [
            [
             0,
             "#8e0152"
            ],
            [
             0.1,
             "#c51b7d"
            ],
            [
             0.2,
             "#de77ae"
            ],
            [
             0.3,
             "#f1b6da"
            ],
            [
             0.4,
             "#fde0ef"
            ],
            [
             0.5,
             "#f7f7f7"
            ],
            [
             0.6,
             "#e6f5d0"
            ],
            [
             0.7,
             "#b8e186"
            ],
            [
             0.8,
             "#7fbc41"
            ],
            [
             0.9,
             "#4d9221"
            ],
            [
             1,
             "#276419"
            ]
           ],
           "sequential": [
            [
             0,
             "#0d0887"
            ],
            [
             0.1111111111111111,
             "#46039f"
            ],
            [
             0.2222222222222222,
             "#7201a8"
            ],
            [
             0.3333333333333333,
             "#9c179e"
            ],
            [
             0.4444444444444444,
             "#bd3786"
            ],
            [
             0.5555555555555556,
             "#d8576b"
            ],
            [
             0.6666666666666666,
             "#ed7953"
            ],
            [
             0.7777777777777778,
             "#fb9f3a"
            ],
            [
             0.8888888888888888,
             "#fdca26"
            ],
            [
             1,
             "#f0f921"
            ]
           ],
           "sequentialminus": [
            [
             0,
             "#0d0887"
            ],
            [
             0.1111111111111111,
             "#46039f"
            ],
            [
             0.2222222222222222,
             "#7201a8"
            ],
            [
             0.3333333333333333,
             "#9c179e"
            ],
            [
             0.4444444444444444,
             "#bd3786"
            ],
            [
             0.5555555555555556,
             "#d8576b"
            ],
            [
             0.6666666666666666,
             "#ed7953"
            ],
            [
             0.7777777777777778,
             "#fb9f3a"
            ],
            [
             0.8888888888888888,
             "#fdca26"
            ],
            [
             1,
             "#f0f921"
            ]
           ]
          },
          "colorway": [
           "#636efa",
           "#EF553B",
           "#00cc96",
           "#ab63fa",
           "#FFA15A",
           "#19d3f3",
           "#FF6692",
           "#B6E880",
           "#FF97FF",
           "#FECB52"
          ],
          "font": {
           "color": "#2a3f5f"
          },
          "geo": {
           "bgcolor": "white",
           "lakecolor": "white",
           "landcolor": "#E5ECF6",
           "showlakes": true,
           "showland": true,
           "subunitcolor": "white"
          },
          "hoverlabel": {
           "align": "left"
          },
          "hovermode": "closest",
          "mapbox": {
           "style": "light"
          },
          "paper_bgcolor": "white",
          "plot_bgcolor": "#E5ECF6",
          "polar": {
           "angularaxis": {
            "gridcolor": "white",
            "linecolor": "white",
            "ticks": ""
           },
           "bgcolor": "#E5ECF6",
           "radialaxis": {
            "gridcolor": "white",
            "linecolor": "white",
            "ticks": ""
           }
          },
          "scene": {
           "xaxis": {
            "backgroundcolor": "#E5ECF6",
            "gridcolor": "white",
            "gridwidth": 2,
            "linecolor": "white",
            "showbackground": true,
            "ticks": "",
            "zerolinecolor": "white"
           },
           "yaxis": {
            "backgroundcolor": "#E5ECF6",
            "gridcolor": "white",
            "gridwidth": 2,
            "linecolor": "white",
            "showbackground": true,
            "ticks": "",
            "zerolinecolor": "white"
           },
           "zaxis": {
            "backgroundcolor": "#E5ECF6",
            "gridcolor": "white",
            "gridwidth": 2,
            "linecolor": "white",
            "showbackground": true,
            "ticks": "",
            "zerolinecolor": "white"
           }
          },
          "shapedefaults": {
           "line": {
            "color": "#2a3f5f"
           }
          },
          "ternary": {
           "aaxis": {
            "gridcolor": "white",
            "linecolor": "white",
            "ticks": ""
           },
           "baxis": {
            "gridcolor": "white",
            "linecolor": "white",
            "ticks": ""
           },
           "bgcolor": "#E5ECF6",
           "caxis": {
            "gridcolor": "white",
            "linecolor": "white",
            "ticks": ""
           }
          },
          "title": {
           "x": 0.05
          },
          "xaxis": {
           "automargin": true,
           "gridcolor": "white",
           "linecolor": "white",
           "ticks": "",
           "title": {
            "standoff": 15
           },
           "zerolinecolor": "white",
           "zerolinewidth": 2
          },
          "yaxis": {
           "automargin": true,
           "gridcolor": "white",
           "linecolor": "white",
           "ticks": "",
           "title": {
            "standoff": 15
           },
           "zerolinecolor": "white",
           "zerolinewidth": 2
          }
         }
        },
        "xaxis": {
         "anchor": "y",
         "autorange": true,
         "domain": [
          0,
          1
         ],
         "range": [
          -0.5,
          0.5
         ],
         "title": {
          "text": "variable"
         },
         "type": "category"
        },
        "yaxis": {
         "anchor": "x",
         "autorange": true,
         "domain": [
          0,
          1
         ],
         "range": [
          2.4943504138888892,
          15.189342136111112
         ],
         "title": {
          "text": "value"
         },
         "type": "linear"
        }
       }
      },
      "image/png": "[encoded data removed]",
      "text/html": [
       "<div>                            <div id=\"86e0ca56-fbaf-4f9e-81aa-af4f791be157\" class=\"plotly-graph-div\" style=\"height:525px; width:100%;\"></div>            <script type=\"text/javascript\">                require([\"plotly\"], function(Plotly) {                    window.PLOTLYENV=window.PLOTLYENV || {};                                    if (document.getElementById(\"86e0ca56-fbaf-4f9e-81aa-af4f791be157\")) {                    Plotly.newPlot(                        \"86e0ca56-fbaf-4f9e-81aa-af4f791be157\",                        [{\"alignmentgroup\":\"True\",\"hovertemplate\":\"variable=%{x}\\u003cbr\\u003evalue=%{y}\\u003cextra\\u003e\\u003c\\u002fextra\\u003e\",\"legendgroup\":\"\",\"marker\":{\"color\":\"#636efa\"},\"name\":\"\",\"notched\":false,\"offsetgroup\":\"\",\"orientation\":\"v\",\"showlegend\":false,\"x\":[\"smog_index\",\"smog_index\",\"smog_index\",\"smog_index\",\"smog_index\",\"smog_index\",\"smog_index\",\"smog_index\",\"smog_index\",\"smog_index\",\"smog_index\",\"smog_index\",\"smog_index\",\"smog_index\",\"smog_index\",\"smog_index\",\"smog_index\",\"smog_index\",\"smog_index\",\"smog_index\",\"smog_index\",\"smog_index\",\"smog_index\",\"smog_index\",\"smog_index\",\"smog_index\",\"smog_index\",\"smog_index\",\"smog_index\",\"smog_index\",\"smog_index\",\"smog_index\",\"smog_index\",\"smog_index\",\"smog_index\",\"smog_index\",\"smog_index\",\"smog_index\",\"smog_index\",\"smog_index\",\"smog_index\",\"smog_index\",\"smog_index\",\"smog_index\",\"smog_index\",\"smog_index\",\"smog_index\",\"smog_index\",\"smog_index\",\"smog_index\",\"smog_index\",\"smog_index\",\"smog_index\",\"smog_index\",\"smog_index\",\"smog_index\",\"smog_index\",\"smog_index\",\"smog_index\",\"smog_index\",\"smog_index\",\"smog_index\",\"smog_index\",\"smog_index\",\"smog_index\",\"smog_index\",\"smog_index\",\"smog_index\",\"smog_index\",\"smog_index\",\"smog_index\",\"smog_index\",\"smog_index\",\"smog_index\",\"smog_index\",\"smog_index\",\"smog_index\",\"smog_index\",\"smog_index\",\"smog_index\",\"smog_index\",\"smog_index\",\"smog_index\",\"smog_index\",\"smog_index\",\"smog_index\",\"smog_index\",\"smog_index\",\"smog_index\",\"smog_index\",\"smog_index\",\"smog_index\",\"smog_index\",\"smog_index\",\"smog_index\",\"smog_index\",\"smog_index\",\"smog_index\",\"smog_index\",\"smog_index\",\"smog_index\",\"smog_index\",\"smog_index\",\"smog_index\",\"smog_index\",\"smog_index\",\"smog_index\",\"smog_index\",\"smog_index\",\"smog_index\",\"smog_index\",\"smog_index\",\"smog_index\",\"smog_index\",\"smog_index\",\"smog_index\",\"smog_index\",\"smog_index\",\"smog_index\",\"smog_index\",\"smog_index\",\"smog_index\",\"smog_index\",\"smog_index\",\"smog_index\",\"smog_index\",\"smog_index\",\"smog_index\",\"smog_index\",\"smog_index\",\"smog_index\",\"smog_index\",\"smog_index\",\"smog_index\",\"smog_index\",\"smog_index\",\"smog_index\",\"smog_index\",\"smog_index\",\"smog_index\",\"smog_index\",\"smog_index\",\"smog_index\",\"smog_index\",\"smog_index\",\"smog_index\",\"smog_index\",\"smog_index\",\"smog_index\",\"smog_index\",\"smog_index\",\"smog_index\",\"smog_index\",\"smog_index\",\"smog_index\",\"smog_index\",\"smog_index\",\"smog_index\",\"smog_index\",\"smog_index\",\"smog_index\",\"smog_index\",\"smog_index\",\"smog_index\",\"smog_index\",\"smog_index\",\"smog_index\",\"smog_index\",\"smog_index\",\"smog_index\",\"smog_index\",\"smog_index\",\"smog_index\",\"smog_index\",\"smog_index\",\"smog_index\",\"smog_index\",\"smog_index\",\"smog_index\",\"smog_index\",\"smog_index\",\"smog_index\",\"smog_index\",\"smog_index\",\"smog_index\",\"smog_index\",\"smog_index\",\"smog_index\",\"smog_index\",\"smog_index\",\"smog_index\",\"smog_index\",\"smog_index\",\"smog_index\",\"smog_index\",\"smog_index\",\"smog_index\",\"smog_index\",\"smog_index\",\"smog_index\",\"smog_index\",\"smog_index\",\"smog_index\",\"smog_index\",\"smog_index\",\"smog_index\",\"smog_index\",\"smog_index\",\"smog_index\",\"smog_index\",\"smog_index\",\"smog_index\",\"smog_index\",\"smog_index\",\"smog_index\",\"smog_index\",\"smog_index\",\"smog_index\",\"smog_index\",\"smog_index\",\"smog_index\",\"smog_index\",\"smog_index\",\"smog_index\",\"smog_index\",\"smog_index\",\"smog_index\",\"smog_index\",\"smog_index\",\"smog_index\",\"smog_index\",\"smog_index\",\"smog_index\",\"smog_index\",\"smog_index\",\"smog_index\",\"smog_index\",\"smog_index\",\"smog_index\",\"smog_index\",\"smog_index\",\"smog_index\",\"smog_index\",\"smog_index\",\"smog_index\",\"smog_index\",\"smog_index\",\"smog_index\",\"smog_index\",\"smog_index\",\"smog_index\",\"smog_index\",\"smog_index\",\"smog_index\",\"smog_index\",\"smog_index\",\"smog_index\",\"smog_index\",\"smog_index\",\"smog_index\",\"smog_index\",\"smog_index\",\"smog_index\",\"smog_index\",\"smog_index\",\"smog_index\",\"smog_index\",\"smog_index\",\"smog_index\",\"smog_index\",\"smog_index\",\"smog_index\",\"smog_index\",\"smog_index\",\"smog_index\",\"smog_index\",\"smog_index\",\"smog_index\",\"smog_index\",\"smog_index\",\"smog_index\",\"smog_index\",\"smog_index\",\"smog_index\",\"smog_index\",\"smog_index\",\"smog_index\",\"smog_index\",\"smog_index\",\"smog_index\",\"smog_index\",\"smog_index\",\"smog_index\",\"smog_index\",\"smog_index\",\"smog_index\",\"smog_index\",\"smog_index\",\"smog_index\",\"smog_index\",\"smog_index\",\"smog_index\",\"smog_index\",\"smog_index\",\"smog_index\",\"smog_index\",\"smog_index\",\"smog_index\",\"smog_index\",\"smog_index\",\"smog_index\",\"smog_index\",\"smog_index\",\"smog_index\",\"smog_index\",\"smog_index\",\"smog_index\",\"smog_index\",\"smog_index\",\"smog_index\",\"smog_index\",\"smog_index\",\"smog_index\",\"smog_index\",\"smog_index\",\"smog_index\",\"smog_index\",\"smog_index\",\"smog_index\",\"smog_index\",\"smog_index\",\"smog_index\",\"smog_index\",\"smog_index\",\"smog_index\",\"smog_index\",\"smog_index\",\"smog_index\",\"smog_index\",\"smog_index\",\"smog_index\",\"smog_index\",\"smog_index\",\"smog_index\",\"smog_index\",\"smog_index\",\"smog_index\",\"smog_index\",\"smog_index\",\"smog_index\",\"smog_index\",\"smog_index\",\"smog_index\",\"smog_index\",\"smog_index\",\"smog_index\",\"smog_index\",\"smog_index\",\"smog_index\",\"smog_index\",\"smog_index\",\"smog_index\",\"smog_index\",\"smog_index\",\"smog_index\",\"smog_index\",\"smog_index\",\"smog_index\",\"smog_index\",\"smog_index\",\"smog_index\",\"smog_index\",\"smog_index\",\"smog_index\",\"smog_index\",\"smog_index\",\"smog_index\",\"smog_index\",\"smog_index\",\"smog_index\",\"smog_index\",\"smog_index\",\"smog_index\",\"smog_index\",\"smog_index\",\"smog_index\",\"smog_index\",\"smog_index\",\"smog_index\",\"smog_index\",\"smog_index\",\"smog_index\",\"smog_index\",\"smog_index\",\"smog_index\",\"smog_index\",\"smog_index\",\"smog_index\",\"smog_index\",\"smog_index\",\"smog_index\",\"smog_index\",\"smog_index\",\"smog_index\",\"smog_index\",\"smog_index\",\"smog_index\",\"smog_index\",\"smog_index\",\"smog_index\",\"smog_index\",\"smog_index\",\"smog_index\",\"smog_index\",\"smog_index\",\"smog_index\",\"smog_index\",\"smog_index\",\"smog_index\",\"smog_index\",\"smog_index\",\"smog_index\",\"smog_index\",\"smog_index\",\"smog_index\",\"smog_index\",\"smog_index\",\"smog_index\",\"smog_index\",\"smog_index\",\"smog_index\",\"smog_index\",\"smog_index\",\"smog_index\",\"smog_index\",\"smog_index\",\"smog_index\",\"smog_index\",\"smog_index\",\"smog_index\",\"smog_index\",\"smog_index\",\"smog_index\",\"smog_index\",\"smog_index\",\"smog_index\",\"smog_index\",\"smog_index\",\"smog_index\",\"smog_index\",\"smog_index\",\"smog_index\",\"smog_index\",\"smog_index\",\"smog_index\",\"smog_index\",\"smog_index\",\"smog_index\",\"smog_index\",\"smog_index\",\"smog_index\",\"smog_index\",\"smog_index\",\"smog_index\",\"smog_index\",\"smog_index\",\"smog_index\",\"smog_index\",\"smog_index\",\"smog_index\",\"smog_index\",\"smog_index\",\"smog_index\",\"smog_index\",\"smog_index\",\"smog_index\",\"smog_index\",\"smog_index\",\"smog_index\",\"smog_index\",\"smog_index\",\"smog_index\",\"smog_index\",\"smog_index\",\"smog_index\",\"smog_index\",\"smog_index\",\"smog_index\",\"smog_index\",\"smog_index\",\"smog_index\",\"smog_index\",\"smog_index\",\"smog_index\",\"smog_index\",\"smog_index\",\"smog_index\",\"smog_index\",\"smog_index\",\"smog_index\"],\"x0\":\" \",\"xaxis\":\"x\",\"y\":[10.91426088,11.38971747,9.04235418,5.985473137,9.04235418,8.076483399,10.35521597,8.841846275,11.38971747,6.4273556,7.021680442,7.724431198,5.985473137,10.1257567,7.873277557,8.212053251,5.916634753,7.413659706,7.793537801,9.270117722,7.23325808,6.742157985,6.182691328,7.38712967,9.095868883,7.321109707,9.466822959,7.110495986,11.20814326,7.793537801,7.44753027,9.210782826,5.148860815,9.928628109,5.288315135,8.269060117,7.16862163,13.5591,11.53803483,4.655895664,9.150863308,10.68635297,7.16862163,8.256446699,10.50422373,9.725611199,7.724431198,8.747414212,7.16862163,8.548686977,9.516144504,7.645422481,9.725611199,9.444778639,9.04235418,9.888512548,7.645422481,7.69929702,7.468242285,8.238735603,8.3441,8.680891453,11.62993849,9.701314574,8.447377353,6.836019277,7.68629501,8.841846275,5.985473137,11.45678718,9.49676041,7.321109707,6.816661864,9.095868883,7.882392219,8.472884824,6.742157985,8.51512884,11.0223933,6.980632753,10.56073891,7.16862163,7.9287669,6.742157985,5.985473137,8.3441,8.841846275,6.937597517,3.1291,8.841846275,8.296473432,8.167268649,5.148860815,8.306716005,5.683917802,10.74609503,8.076483399,8.167268649,7.44753027,8.841846275,7.645422481,3.1291,6.895973343,11.76596054,7.09836372,6.4273556,8.38406227,8.076483399,13.0238668,8.548686977,6.655083551,11.20814326,6.4273556,8.841846275,6.29796148,5.683917802,3.1291,8.472884824,5.683917802,5.461318901,10.45135478,8.076483399,7.576466943,8.076483399,6.627428351,6.868970319,10.29040645,8.32137658,10.21488968,9.299571214,7.841875235,7.610546882,5.985473137,8.841846275,5.985473137,8.587818077,9.236282657,8.021203637,10.91426088,10.45135478,8.841846275,6.816661864,8.021203637,9.473421319,7.793537801,8.238735603,8.841846275,5.369823441,8.598638143,7.413659706,8.447377353,8.841846275,7.882392219,8.472884824,7.413659706,5.461318901,11.20814326,13.0238668,6.850034145,7.68629501,7.793537801,10.1257567,6.627428351,5.565023196,6.4273556,6.937597517,6.4273556,9.236282657,9.444778639,6.4273556,8.238735603,8.31333277,10.65788864,10.21488968,8.472884824,7.16862163,6.2581,7.793537801,6.67199484,7.16862163,8.532816996,6.351523495,8.000946393,8.418075326,10.1257567,7.793537801,8.447377353,9.957137785,4.935628992,11.80738457,11.20814326,7.44753027,10.50422373,8.238735603,9.82788879,8.049812675,11.374739,8.438071523,8.182890915,8.548686977,10.41145118,12.03177207,5.683917802,7.365786028,7.645422481,8.076483399,9.725611199,7.724431198,8.841846275,9.516144504,8.167268649,8.076483399,5.985473137,9.168548407,7.031648654,7.882392219,6.742157985,8.841846275,8.841846275,8.076483399,8.395991825,7.9287669,9.150863308,8.3441,9.424239792,7.16862163,8.634040054,7.709486992,5.288315135,5.985473137,9.994966539,9.017664076,7.048011614,7.38712967,9.516144504,7.16862163,7.44753027,9.3871,7.645422481,8.296473432,8.076483399,7.724431198,8.3441,8.841846275,12.6883529,6.937597517,6.4273556,8.296473432,7.38712967,8.418075326,7.645422481,9.188382445,8.841846275,6.742157985,8.10935674,7.16862163,5.565023196,8.841846275,10.46071229,7.724431198,7.38712967,11.45678718,8.418075326,7.69929702,8.548686977,7.937092434,6.584502451,9.057496981,8.841846275,7.16862163,7.38712967,10.1257567,9.478462497,7.68629501,11.64515934,8.841846275,8.841846275,9.778596076,9.627879704,8.841846275,8.238735603,6.742157985,8.418075326,8.238735603,9.725611199,8.472884824,7.68629501,5.369823441,4.7782278,9.236282657,8.990254009,8.3441,12.28987398,9.867487886,6.4273556,7.793537801,10.68635297,6.2581,7.616502296,10.21488968,7.9287669,7.645422481,5.82211442,6.895973343,7.16862163,7.321109707,6.627428351,5.565023196,7.695328112,7.793537801,7.16862163,8.395991825,6.182691328,8.841846275,9.606745406,10.37482555,5.985473137,8.238735603,6.980632753,9.414487439,8.31333277,7.492282038,7.730073105,5.288315135,6.742157985,8.38406227,7.709486992,8.021203637,7.010146845,6.742157985,7.95725182,6.980632753,10.98051877,8.418075326,11.93303328,6.937597517,7.793537801,8.167268649,7.90872645,7.793537801,6.4273556,9.606745406,3.1291,5.369823441,8.548686977,6.543118893,9.408791573,7.510576383,9.957137785,10.1257567,8.021203637,8.238735603,6.4273556,8.000946393,8.150884317,8.575989855,10.63711953,8.841846275,6.227271662,7.972316293,6.522977013,6.4273556,5.985473137,8.759644201,7.95725182,7.031648654,8.495290729,8.841846275,8.998388855,7.95725182,9.134995656,9.203000759,6.868970319,7.95725182,9.299571214,7.492282038,9.543854155,8.841846275,8.076483399,8.841846275,8.841846275,6.742157985,7.16862163,7.68629501,8.076483399,8.167268649,8.841846275,9.516144504,6.627428351,9.162432508,10.68635297,8.841846275,6.182691328,6.782984794,7.793537801,7.937092434,8.139509933,6.937597517,8.076483399,5.82211442,6.627428351,8.238735603,6.4273556,10.86419502,7.16862163,3.1291,10.83216551,7.348242739,8.841846275,7.765008862,8.841846275,9.653516016,8.841846275,8.841846275,6.4273556,14.55459255,9.130062681,10.05682244,5.683917802,8.634040054,8.841846275,6.816661864,7.348242739,8.841846275,9.725611199,8.648137235,4.851557811,8.46475739,7.44753027,7.793537801,11.20814326,8.456263369,7.669130373,8.418075326,8.710501217,8.238735603,6.742157985,9.3871,5.985473137,9.354420925,13.0238668,7.594959193,9.168548407,9.236282657,8.167268649,8.472884824,7.16862163,6.4273556,7.492282038,6.742157985,5.773587663,9.86163605,8.192908349,8.738905478,8.38406227,5.985473137,10.25414643,8.841846275,11.74138905,6.4273556,10.68635297,7.16862163,9.281916038,9.075114842,7.90872645,6.742157985,3.1291,7.734863292,7.882392219,8.405096226,7.554174237,5.683917802,8.076483399,7.793537801,3.1291,9.57394699,8.3441,6.868970319,9.257850173,7.010146845,10.60884064,8.575989855,5.7366,6.67199484,6.4273556,7.793537801,8.3441,6.742157985,7.44753027,6.683405159,8.472884824,9.928628109,7.16862163,8.841846275,8.238735603,3.1291,7.95725182,7.348242739,9.994966539,9.414487439],\"y0\":\" \",\"yaxis\":\"y\",\"type\":\"box\"}],                        {\"template\":{\"data\":{\"histogram2dcontour\":[{\"type\":\"histogram2dcontour\",\"colorbar\":{\"outlinewidth\":0,\"ticks\":\"\"},\"colorscale\":[[0.0,\"#0d0887\"],[0.1111111111111111,\"#46039f\"],[0.2222222222222222,\"#7201a8\"],[0.3333333333333333,\"#9c179e\"],[0.4444444444444444,\"#bd3786\"],[0.5555555555555556,\"#d8576b\"],[0.6666666666666666,\"#ed7953\"],[0.7777777777777778,\"#fb9f3a\"],[0.8888888888888888,\"#fdca26\"],[1.0,\"#f0f921\"]]}],\"choropleth\":[{\"type\":\"choropleth\",\"colorbar\":{\"outlinewidth\":0,\"ticks\":\"\"}}],\"histogram2d\":[{\"type\":\"histogram2d\",\"colorbar\":{\"outlinewidth\":0,\"ticks\":\"\"},\"colorscale\":[[0.0,\"#0d0887\"],[0.1111111111111111,\"#46039f\"],[0.2222222222222222,\"#7201a8\"],[0.3333333333333333,\"#9c179e\"],[0.4444444444444444,\"#bd3786\"],[0.5555555555555556,\"#d8576b\"],[0.6666666666666666,\"#ed7953\"],[0.7777777777777778,\"#fb9f3a\"],[0.8888888888888888,\"#fdca26\"],[1.0,\"#f0f921\"]]}],\"heatmap\":[{\"type\":\"heatmap\",\"colorbar\":{\"outlinewidth\":0,\"ticks\":\"\"},\"colorscale\":[[0.0,\"#0d0887\"],[0.1111111111111111,\"#46039f\"],[0.2222222222222222,\"#7201a8\"],[0.3333333333333333,\"#9c179e\"],[0.4444444444444444,\"#bd3786\"],[0.5555555555555556,\"#d8576b\"],[0.6666666666666666,\"#ed7953\"],[0.7777777777777778,\"#fb9f3a\"],[0.8888888888888888,\"#fdca26\"],[1.0,\"#f0f921\"]]}],\"heatmapgl\":[{\"type\":\"heatmapgl\",\"colorbar\":{\"outlinewidth\":0,\"ticks\":\"\"},\"colorscale\":[[0.0,\"#0d0887\"],[0.1111111111111111,\"#46039f\"],[0.2222222222222222,\"#7201a8\"],[0.3333333333333333,\"#9c179e\"],[0.4444444444444444,\"#bd3786\"],[0.5555555555555556,\"#d8576b\"],[0.6666666666666666,\"#ed7953\"],[0.7777777777777778,\"#fb9f3a\"],[0.8888888888888888,\"#fdca26\"],[1.0,\"#f0f921\"]]}],\"contourcarpet\":[{\"type\":\"contourcarpet\",\"colorbar\":{\"outlinewidth\":0,\"ticks\":\"\"}}],\"contour\":[{\"type\":\"contour\",\"colorbar\":{\"outlinewidth\":0,\"ticks\":\"\"},\"colorscale\":[[0.0,\"#0d0887\"],[0.1111111111111111,\"#46039f\"],[0.2222222222222222,\"#7201a8\"],[0.3333333333333333,\"#9c179e\"],[0.4444444444444444,\"#bd3786\"],[0.5555555555555556,\"#d8576b\"],[0.6666666666666666,\"#ed7953\"],[0.7777777777777778,\"#fb9f3a\"],[0.8888888888888888,\"#fdca26\"],[1.0,\"#f0f921\"]]}],\"surface\":[{\"type\":\"surface\",\"colorbar\":{\"outlinewidth\":0,\"ticks\":\"\"},\"colorscale\":[[0.0,\"#0d0887\"],[0.1111111111111111,\"#46039f\"],[0.2222222222222222,\"#7201a8\"],[0.3333333333333333,\"#9c179e\"],[0.4444444444444444,\"#bd3786\"],[0.5555555555555556,\"#d8576b\"],[0.6666666666666666,\"#ed7953\"],[0.7777777777777778,\"#fb9f3a\"],[0.8888888888888888,\"#fdca26\"],[1.0,\"#f0f921\"]]}],\"mesh3d\":[{\"type\":\"mesh3d\",\"colorbar\":{\"outlinewidth\":0,\"ticks\":\"\"}}],\"scatter\":[{\"fillpattern\":{\"fillmode\":\"overlay\",\"size\":10,\"solidity\":0.2},\"type\":\"scatter\"}],\"parcoords\":[{\"type\":\"parcoords\",\"line\":{\"colorbar\":{\"outlinewidth\":0,\"ticks\":\"\"}}}],\"scatterpolargl\":[{\"type\":\"scatterpolargl\",\"marker\":{\"colorbar\":{\"outlinewidth\":0,\"ticks\":\"\"}}}],\"bar\":[{\"error_x\":{\"color\":\"#2a3f5f\"},\"error_y\":{\"color\":\"#2a3f5f\"},\"marker\":{\"line\":{\"color\":\"#E5ECF6\",\"width\":0.5},\"pattern\":{\"fillmode\":\"overlay\",\"size\":10,\"solidity\":0.2}},\"type\":\"bar\"}],\"scattergeo\":[{\"type\":\"scattergeo\",\"marker\":{\"colorbar\":{\"outlinewidth\":0,\"ticks\":\"\"}}}],\"scatterpolar\":[{\"type\":\"scatterpolar\",\"marker\":{\"colorbar\":{\"outlinewidth\":0,\"ticks\":\"\"}}}],\"histogram\":[{\"marker\":{\"pattern\":{\"fillmode\":\"overlay\",\"size\":10,\"solidity\":0.2}},\"type\":\"histogram\"}],\"scattergl\":[{\"type\":\"scattergl\",\"marker\":{\"colorbar\":{\"outlinewidth\":0,\"ticks\":\"\"}}}],\"scatter3d\":[{\"type\":\"scatter3d\",\"line\":{\"colorbar\":{\"outlinewidth\":0,\"ticks\":\"\"}},\"marker\":{\"colorbar\":{\"outlinewidth\":0,\"ticks\":\"\"}}}],\"scattermapbox\":[{\"type\":\"scattermapbox\",\"marker\":{\"colorbar\":{\"outlinewidth\":0,\"ticks\":\"\"}}}],\"scatterternary\":[{\"type\":\"scatterternary\",\"marker\":{\"colorbar\":{\"outlinewidth\":0,\"ticks\":\"\"}}}],\"scattercarpet\":[{\"type\":\"scattercarpet\",\"marker\":{\"colorbar\":{\"outlinewidth\":0,\"ticks\":\"\"}}}],\"carpet\":[{\"aaxis\":{\"endlinecolor\":\"#2a3f5f\",\"gridcolor\":\"white\",\"linecolor\":\"white\",\"minorgridcolor\":\"white\",\"startlinecolor\":\"#2a3f5f\"},\"baxis\":{\"endlinecolor\":\"#2a3f5f\",\"gridcolor\":\"white\",\"linecolor\":\"white\",\"minorgridcolor\":\"white\",\"startlinecolor\":\"#2a3f5f\"},\"type\":\"carpet\"}],\"table\":[{\"cells\":{\"fill\":{\"color\":\"#EBF0F8\"},\"line\":{\"color\":\"white\"}},\"header\":{\"fill\":{\"color\":\"#C8D4E3\"},\"line\":{\"color\":\"white\"}},\"type\":\"table\"}],\"barpolar\":[{\"marker\":{\"line\":{\"color\":\"#E5ECF6\",\"width\":0.5},\"pattern\":{\"fillmode\":\"overlay\",\"size\":10,\"solidity\":0.2}},\"type\":\"barpolar\"}],\"pie\":[{\"automargin\":true,\"type\":\"pie\"}]},\"layout\":{\"autotypenumbers\":\"strict\",\"colorway\":[\"#636efa\",\"#EF553B\",\"#00cc96\",\"#ab63fa\",\"#FFA15A\",\"#19d3f3\",\"#FF6692\",\"#B6E880\",\"#FF97FF\",\"#FECB52\"],\"font\":{\"color\":\"#2a3f5f\"},\"hovermode\":\"closest\",\"hoverlabel\":{\"align\":\"left\"},\"paper_bgcolor\":\"white\",\"plot_bgcolor\":\"#E5ECF6\",\"polar\":{\"bgcolor\":\"#E5ECF6\",\"angularaxis\":{\"gridcolor\":\"white\",\"linecolor\":\"white\",\"ticks\":\"\"},\"radialaxis\":{\"gridcolor\":\"white\",\"linecolor\":\"white\",\"ticks\":\"\"}},\"ternary\":{\"bgcolor\":\"#E5ECF6\",\"aaxis\":{\"gridcolor\":\"white\",\"linecolor\":\"white\",\"ticks\":\"\"},\"baxis\":{\"gridcolor\":\"white\",\"linecolor\":\"white\",\"ticks\":\"\"},\"caxis\":{\"gridcolor\":\"white\",\"linecolor\":\"white\",\"ticks\":\"\"}},\"coloraxis\":{\"colorbar\":{\"outlinewidth\":0,\"ticks\":\"\"}},\"colorscale\":{\"sequential\":[[0.0,\"#0d0887\"],[0.1111111111111111,\"#46039f\"],[0.2222222222222222,\"#7201a8\"],[0.3333333333333333,\"#9c179e\"],[0.4444444444444444,\"#bd3786\"],[0.5555555555555556,\"#d8576b\"],[0.6666666666666666,\"#ed7953\"],[0.7777777777777778,\"#fb9f3a\"],[0.8888888888888888,\"#fdca26\"],[1.0,\"#f0f921\"]],\"sequentialminus\":[[0.0,\"#0d0887\"],[0.1111111111111111,\"#46039f\"],[0.2222222222222222,\"#7201a8\"],[0.3333333333333333,\"#9c179e\"],[0.4444444444444444,\"#bd3786\"],[0.5555555555555556,\"#d8576b\"],[0.6666666666666666,\"#ed7953\"],[0.7777777777777778,\"#fb9f3a\"],[0.8888888888888888,\"#fdca26\"],[1.0,\"#f0f921\"]],\"diverging\":[[0,\"#8e0152\"],[0.1,\"#c51b7d\"],[0.2,\"#de77ae\"],[0.3,\"#f1b6da\"],[0.4,\"#fde0ef\"],[0.5,\"#f7f7f7\"],[0.6,\"#e6f5d0\"],[0.7,\"#b8e186\"],[0.8,\"#7fbc41\"],[0.9,\"#4d9221\"],[1,\"#276419\"]]},\"xaxis\":{\"gridcolor\":\"white\",\"linecolor\":\"white\",\"ticks\":\"\",\"title\":{\"standoff\":15},\"zerolinecolor\":\"white\",\"automargin\":true,\"zerolinewidth\":2},\"yaxis\":{\"gridcolor\":\"white\",\"linecolor\":\"white\",\"ticks\":\"\",\"title\":{\"standoff\":15},\"zerolinecolor\":\"white\",\"automargin\":true,\"zerolinewidth\":2},\"scene\":{\"xaxis\":{\"backgroundcolor\":\"#E5ECF6\",\"gridcolor\":\"white\",\"linecolor\":\"white\",\"showbackground\":true,\"ticks\":\"\",\"zerolinecolor\":\"white\",\"gridwidth\":2},\"yaxis\":{\"backgroundcolor\":\"#E5ECF6\",\"gridcolor\":\"white\",\"linecolor\":\"white\",\"showbackground\":true,\"ticks\":\"\",\"zerolinecolor\":\"white\",\"gridwidth\":2},\"zaxis\":{\"backgroundcolor\":\"#E5ECF6\",\"gridcolor\":\"white\",\"linecolor\":\"white\",\"showbackground\":true,\"ticks\":\"\",\"zerolinecolor\":\"white\",\"gridwidth\":2}},\"shapedefaults\":{\"line\":{\"color\":\"#2a3f5f\"}},\"annotationdefaults\":{\"arrowcolor\":\"#2a3f5f\",\"arrowhead\":0,\"arrowwidth\":1},\"geo\":{\"bgcolor\":\"white\",\"landcolor\":\"#E5ECF6\",\"subunitcolor\":\"white\",\"showland\":true,\"showlakes\":true,\"lakecolor\":\"white\"},\"title\":{\"x\":0.05},\"mapbox\":{\"style\":\"light\"}}},\"xaxis\":{\"anchor\":\"y\",\"domain\":[0.0,1.0],\"title\":{\"text\":\"variable\"}},\"yaxis\":{\"anchor\":\"x\",\"domain\":[0.0,1.0],\"title\":{\"text\":\"value\"}},\"legend\":{\"tracegroupgap\":0},\"margin\":{\"t\":60},\"boxmode\":\"group\"},                        {\"responsive\": true}                    ).then(function(){\n",
       "                            \n",
       "var gd = document.getElementById('86e0ca56-fbaf-4f9e-81aa-af4f791be157');\n",
       "var x = new MutationObserver(function (mutations, observer) {{\n",
       "        var display = window.getComputedStyle(gd).display;\n",
       "        if (!display || display === 'none') {{\n",
       "            console.log([gd, 'removed!']);\n",
       "            Plotly.purge(gd);\n",
       "            observer.disconnect();\n",
       "        }}\n",
       "}});\n",
       "\n",
       "// Listen for the removal of the full notebook cells\n",
       "var notebookContainer = gd.closest('#notebook-container');\n",
       "if (notebookContainer) {{\n",
       "    x.observe(notebookContainer, {childList: true});\n",
       "}}\n",
       "\n",
       "// Listen for the clearing of the current output cell\n",
       "var outputEl = gd.closest('.output');\n",
       "if (outputEl) {{\n",
       "    x.observe(outputEl, {childList: true});\n",
       "}}\n",
       "\n",
       "                        })                };                });            </script>        </div>"
      ]
     },
     "metadata": {},
     "output_type": "display_data"
    }
   ],
   "source": [
    "# to compute fence\n",
    "lower_fence, upper_fence = compute_fence(q1=q1, q3=q3)\n",
    "print(f\"Lower fence of smog data is {lower_fence}\")\n",
    "print(f\"Upper fence of smog data is {upper_fence}\")\n",
    "import  plotly.express as px\n",
    "px.box(smog_data)"
   ]
  },
  {
   "cell_type": "code",
   "execution_count": 76,
   "id": "640d6b0a-4b95-4ac4-a76a-7b1169d60145",
   "metadata": {},
   "outputs": [
    {
     "name": "stdout",
     "output_type": "stream",
     "text": [
      "No outlier in clean data\n",
      "No outlier in clean data\n",
      "No outlier in clean data\n",
      "No outlier in clean data\n",
      "No outlier in clean data\n",
      "No outlier in clean data\n",
      "No outlier in clean data\n",
      "No outlier in clean data\n",
      "No outlier in clean data\n",
      "No outlier in clean data\n",
      "No outlier in clean data\n",
      "No outlier in clean data\n",
      "No outlier in clean data\n",
      "No outlier in clean data\n",
      "No outlier in clean data\n",
      "No outlier in clean data\n",
      "No outlier in clean data\n",
      "No outlier in clean data\n"
     ]
    }
   ],
   "source": [
    "# to descard outliers\n",
    "clean_data_quar = descard_outlier(dataset=smog_data, lower_fence=lower_fence,upper_fence=upper_fence)\n",
    "# print(f\"After cleaning outlier {clean_data}\")"
   ]
  },
  {
   "cell_type": "code",
   "execution_count": 77,
   "id": "35892d32-165f-4c62-ba2b-bc3b3dcce132",
   "metadata": {},
   "outputs": [
    {
     "data": {
      "text/plain": [
       "<Axes: >"
      ]
     },
     "execution_count": 77,
     "metadata": {},
     "output_type": "execute_result"
    },
    {
     "data": {
      "image/png": "[encoded data removed]",
      "text/plain": [
       "<Figure size 640x480 with 1 Axes>"
      ]
     },
     "metadata": {},
     "output_type": "display_data"
    }
   ],
   "source": [
    "# box ploting aftering clean data \n",
    "sns.boxplot(data=clean_data_quar)\n",
    "sns.stripplot(clean_data_quar)"
   ]
  },
  {
   "cell_type": "code",
   "execution_count": 88,
   "id": "af9385c9-69bb-4851-a5d1-036566545cbb",
   "metadata": {},
   "outputs": [
    {
     "data": {
      "application/vnd.plotly.v1+json": {
       "config": {
        "plotlyServerURL": "https://plot.ly"
       },
       "data": [
        {
         "alignmentgroup": "True",
         "hovertemplate": "variable=%{x}<br>value=%{y}<extra></extra>",
         "legendgroup": "",
         "marker": {
          "color": "#636efa"
         },
         "name": "",
         "notched": false,
         "offsetgroup": "",
         "orientation": "v",
         "showlegend": false,
         "type": "box",
         "x": [
          "0",
          "0",
          "0",
          "0",
          "0",
          "0",
          "0",
          "0",
          "0",
          "0",
          "0",
          "0",
          "0",
          "0",
          "0",
          "0",
          "0",
          "0",
          "0",
          "0",
          "0",
          "0",
          "0",
          "0",
          "0",
          "0",
          "0",
          "0",
          "0",
          "0",
          "0",
          "0",
          "0",
          "0",
          "0",
          "0",
          "0",
          "0",
          "0",
          "0",
          "0",
          "0",
          "0",
          "0",
          "0",
          "0",
          "0",
          "0",
          "0",
          "0",
          "0",
          "0",
          "0",
          "0",
          "0",
          "0",
          "0",
          "0",
          "0",
          "0",
          "0",
          "0",
          "0",
          "0",
          "0",
          "0",
          "0",
          "0",
          "0",
          "0",
          "0",
          "0",
          "0",
          "0",
          "0",
          "0",
          "0",
          "0",
          "0",
          "0",
          "0",
          "0",
          "0",
          "0",
          "0",
          "0",
          "0",
          "0",
          "0",
          "0",
          "0",
          "0",
          "0",
          "0",
          "0",
          "0",
          "0",
          "0",
          "0",
          "0",
          "0",
          "0",
          "0",
          "0",
          "0",
          "0",
          "0",
          "0",
          "0",
          "0",
          "0",
          "0",
          "0",
          "0",
          "0",
          "0",
          "0",
          "0",
          "0",
          "0",
          "0",
          "0",
          "0",
          "0",
          "0",
          "0",
          "0",
          "0",
          "0",
          "0",
          "0",
          "0",
          "0",
          "0",
          "0",
          "0",
          "0",
          "0",
          "0",
          "0",
          "0",
          "0",
          "0",
          "0",
          "0",
          "0",
          "0",
          "0",
          "0",
          "0",
          "0",
          "0",
          "0",
          "0",
          "0",
          "0",
          "0",
          "0",
          "0",
          "0",
          "0",
          "0",
          "0",
          "0",
          "0",
          "0",
          "0",
          "0",
          "0",
          "0",
          "0",
          "0",
          "0",
          "0",
          "0",
          "0",
          "0",
          "0",
          "0",
          "0",
          "0",
          "0",
          "0",
          "0",
          "0",
          "0",
          "0",
          "0",
          "0",
          "0",
          "0",
          "0",
          "0",
          "0",
          "0",
          "0",
          "0",
          "0",
          "0",
          "0",
          "0",
          "0",
          "0",
          "0",
          "0",
          "0",
          "0",
          "0",
          "0",
          "0",
          "0",
          "0",
          "0",
          "0",
          "0",
          "0",
          "0",
          "0",
          "0",
          "0",
          "0",
          "0",
          "0",
          "0",
          "0",
          "0",
          "0",
          "0",
          "0",
          "0",
          "0",
          "0",
          "0",
          "0",
          "0",
          "0",
          "0",
          "0",
          "0",
          "0",
          "0",
          "0",
          "0",
          "0",
          "0",
          "0",
          "0",
          "0",
          "0",
          "0",
          "0",
          "0",
          "0",
          "0",
          "0",
          "0",
          "0",
          "0",
          "0",
          "0",
          "0",
          "0",
          "0",
          "0",
          "0",
          "0",
          "0",
          "0",
          "0",
          "0",
          "0",
          "0",
          "0",
          "0",
          "0",
          "0",
          "0",
          "0",
          "0",
          "0",
          "0",
          "0",
          "0",
          "0",
          "0",
          "0",
          "0",
          "0",
          "0",
          "0",
          "0",
          "0",
          "0",
          "0",
          "0",
          "0",
          "0",
          "0",
          "0",
          "0",
          "0",
          "0",
          "0",
          "0",
          "0",
          "0",
          "0",
          "0",
          "0",
          "0",
          "0",
          "0",
          "0",
          "0",
          "0",
          "0",
          "0",
          "0",
          "0",
          "0",
          "0",
          "0",
          "0",
          "0",
          "0",
          "0",
          "0",
          "0",
          "0",
          "0",
          "0",
          "0",
          "0",
          "0",
          "0",
          "0",
          "0",
          "0",
          "0",
          "0",
          "0",
          "0",
          "0",
          "0",
          "0",
          "0",
          "0",
          "0",
          "0",
          "0",
          "0",
          "0",
          "0",
          "0",
          "0",
          "0",
          "0",
          "0",
          "0",
          "0",
          "0",
          "0",
          "0",
          "0",
          "0",
          "0",
          "0",
          "0",
          "0",
          "0",
          "0",
          "0",
          "0",
          "0",
          "0",
          "0",
          "0",
          "0",
          "0",
          "0",
          "0",
          "0",
          "0",
          "0",
          "0",
          "0",
          "0",
          "0",
          "0",
          "0",
          "0",
          "0",
          "0",
          "0",
          "0",
          "0",
          "0",
          "0",
          "0",
          "0",
          "0",
          "0",
          "0",
          "0",
          "0",
          "0",
          "0",
          "0",
          "0",
          "0",
          "0",
          "0",
          "0",
          "0",
          "0",
          "0",
          "0",
          "0",
          "0",
          "0",
          "0",
          "0",
          "0",
          "0",
          "0",
          "0",
          "0",
          "0",
          "0",
          "0",
          "0",
          "0",
          "0",
          "0",
          "0",
          "0",
          "0",
          "0",
          "0",
          "0",
          "0",
          "0",
          "0",
          "0",
          "0",
          "0",
          "0",
          "0",
          "0",
          "0",
          "0",
          "0",
          "0",
          "0",
          "0",
          "0",
          "0",
          "0",
          "0",
          "0",
          "0",
          "0",
          "0",
          "0",
          "0",
          "0",
          "0",
          "0",
          "0",
          "0",
          "0",
          "0",
          "0",
          "0",
          "0",
          "0",
          "0",
          "0",
          "0",
          "0",
          "0",
          "0"
         ],
         "x0": " ",
         "xaxis": "x",
         "y": [
          10.91426088,
          11.38971747,
          9.04235418,
          5.985473137,
          9.04235418,
          8.076483399,
          10.35521597,
          8.841846275,
          11.38971747,
          6.4273556,
          7.021680442,
          7.724431198,
          5.985473137,
          10.1257567,
          7.873277557,
          8.212053251,
          5.916634753,
          7.413659706,
          7.793537801,
          9.270117722,
          7.23325808,
          6.742157985,
          6.182691328,
          7.38712967,
          9.095868883,
          7.321109707,
          9.466822959,
          7.110495986,
          11.20814326,
          7.793537801,
          7.44753027,
          9.210782826,
          5.148860815,
          9.928628109,
          5.288315135,
          8.269060117,
          7.16862163,
          11.53803483,
          4.655895664,
          9.150863308,
          10.68635297,
          7.16862163,
          8.256446699,
          10.50422373,
          9.725611199,
          7.724431198,
          8.747414212,
          7.16862163,
          8.548686977,
          9.516144504,
          7.645422481,
          9.725611199,
          9.444778639,
          9.04235418,
          9.888512548,
          7.645422481,
          7.69929702,
          7.468242285,
          8.238735603,
          8.3441,
          8.680891453,
          11.62993849,
          9.701314574,
          8.447377353,
          6.836019277,
          7.68629501,
          8.841846275,
          5.985473137,
          11.45678718,
          9.49676041,
          7.321109707,
          6.816661864,
          9.095868883,
          7.882392219,
          8.472884824,
          6.742157985,
          8.51512884,
          11.0223933,
          6.980632753,
          10.56073891,
          7.16862163,
          7.9287669,
          6.742157985,
          5.985473137,
          8.3441,
          8.841846275,
          6.937597517,
          8.841846275,
          8.296473432,
          8.167268649,
          5.148860815,
          8.306716005,
          5.683917802,
          10.74609503,
          8.076483399,
          8.167268649,
          7.44753027,
          8.841846275,
          7.645422481,
          6.895973343,
          11.76596054,
          7.09836372,
          6.4273556,
          8.38406227,
          8.076483399,
          8.548686977,
          6.655083551,
          11.20814326,
          6.4273556,
          8.841846275,
          6.29796148,
          5.683917802,
          8.472884824,
          5.683917802,
          5.461318901,
          10.45135478,
          8.076483399,
          7.576466943,
          8.076483399,
          6.627428351,
          6.868970319,
          10.29040645,
          8.32137658,
          10.21488968,
          9.299571214,
          7.841875235,
          7.610546882,
          5.985473137,
          8.841846275,
          5.985473137,
          8.587818077,
          9.236282657,
          8.021203637,
          10.91426088,
          10.45135478,
          8.841846275,
          6.816661864,
          8.021203637,
          9.473421319,
          7.793537801,
          8.238735603,
          8.841846275,
          5.369823441,
          8.598638143,
          7.413659706,
          8.447377353,
          8.841846275,
          7.882392219,
          8.472884824,
          7.413659706,
          5.461318901,
          11.20814326,
          6.850034145,
          7.68629501,
          7.793537801,
          10.1257567,
          6.627428351,
          5.565023196,
          6.4273556,
          6.937597517,
          6.4273556,
          9.236282657,
          9.444778639,
          6.4273556,
          8.238735603,
          8.31333277,
          10.65788864,
          10.21488968,
          8.472884824,
          7.16862163,
          6.2581,
          7.793537801,
          6.67199484,
          7.16862163,
          8.532816996,
          6.351523495,
          8.000946393,
          8.418075326,
          10.1257567,
          7.793537801,
          8.447377353,
          9.957137785,
          4.935628992,
          11.20814326,
          7.44753027,
          10.50422373,
          8.238735603,
          9.82788879,
          8.049812675,
          11.374739,
          8.438071523,
          8.182890915,
          8.548686977,
          10.41145118,
          5.683917802,
          7.365786028,
          7.645422481,
          8.076483399,
          9.725611199,
          7.724431198,
          8.841846275,
          9.516144504,
          8.167268649,
          8.076483399,
          5.985473137,
          9.168548407,
          7.031648654,
          7.882392219,
          6.742157985,
          8.841846275,
          8.841846275,
          8.076483399,
          8.395991825,
          7.9287669,
          9.150863308,
          8.3441,
          9.424239792,
          7.16862163,
          8.634040054,
          7.709486992,
          5.288315135,
          5.985473137,
          9.994966539,
          9.017664076,
          7.048011614,
          7.38712967,
          9.516144504,
          7.16862163,
          7.44753027,
          9.3871,
          7.645422481,
          8.296473432,
          8.076483399,
          7.724431198,
          8.3441,
          8.841846275,
          6.937597517,
          6.4273556,
          8.296473432,
          7.38712967,
          8.418075326,
          7.645422481,
          9.188382445,
          8.841846275,
          6.742157985,
          8.10935674,
          7.16862163,
          5.565023196,
          8.841846275,
          10.46071229,
          7.724431198,
          7.38712967,
          11.45678718,
          8.418075326,
          7.69929702,
          8.548686977,
          7.937092434,
          6.584502451,
          9.057496981,
          8.841846275,
          7.16862163,
          7.38712967,
          10.1257567,
          9.478462497,
          7.68629501,
          11.64515934,
          8.841846275,
          8.841846275,
          9.778596076,
          9.627879704,
          8.841846275,
          8.238735603,
          6.742157985,
          8.418075326,
          8.238735603,
          9.725611199,
          8.472884824,
          7.68629501,
          5.369823441,
          4.7782278,
          9.236282657,
          8.990254009,
          8.3441,
          9.867487886,
          6.4273556,
          7.793537801,
          10.68635297,
          6.2581,
          7.616502296,
          10.21488968,
          7.9287669,
          7.645422481,
          5.82211442,
          6.895973343,
          7.16862163,
          7.321109707,
          6.627428351,
          5.565023196,
          7.695328112,
          7.793537801,
          7.16862163,
          8.395991825,
          6.182691328,
          8.841846275,
          9.606745406,
          10.37482555,
          5.985473137,
          8.238735603,
          6.980632753,
          9.414487439,
          8.31333277,
          7.492282038,
          7.730073105,
          5.288315135,
          6.742157985,
          8.38406227,
          7.709486992,
          8.021203637,
          7.010146845,
          6.742157985,
          7.95725182,
          6.980632753,
          10.98051877,
          8.418075326,
          6.937597517,
          7.793537801,
          8.167268649,
          7.90872645,
          7.793537801,
          6.4273556,
          9.606745406,
          5.369823441,
          8.548686977,
          6.543118893,
          9.408791573,
          7.510576383,
          9.957137785,
          10.1257567,
          8.021203637,
          8.238735603,
          6.4273556,
          8.000946393,
          8.150884317,
          8.575989855,
          10.63711953,
          8.841846275,
          6.227271662,
          7.972316293,
          6.522977013,
          6.4273556,
          5.985473137,
          8.759644201,
          7.95725182,
          7.031648654,
          8.495290729,
          8.841846275,
          8.998388855,
          7.95725182,
          9.134995656,
          9.203000759,
          6.868970319,
          7.95725182,
          9.299571214,
          7.492282038,
          9.543854155,
          8.841846275,
          8.076483399,
          8.841846275,
          8.841846275,
          6.742157985,
          7.16862163,
          7.68629501,
          8.076483399,
          8.167268649,
          8.841846275,
          9.516144504,
          6.627428351,
          9.162432508,
          10.68635297,
          8.841846275,
          6.182691328,
          6.782984794,
          7.793537801,
          7.937092434,
          8.139509933,
          6.937597517,
          8.076483399,
          5.82211442,
          6.627428351,
          8.238735603,
          6.4273556,
          10.86419502,
          7.16862163,
          10.83216551,
          7.348242739,
          8.841846275,
          7.765008862,
          8.841846275,
          9.653516016,
          8.841846275,
          8.841846275,
          6.4273556,
          9.130062681,
          10.05682244,
          5.683917802,
          8.634040054,
          8.841846275,
          6.816661864,
          7.348242739,
          8.841846275,
          9.725611199,
          8.648137235,
          4.851557811,
          8.46475739,
          7.44753027,
          7.793537801,
          11.20814326,
          8.456263369,
          7.669130373,
          8.418075326,
          8.710501217,
          8.238735603,
          6.742157985,
          9.3871,
          5.985473137,
          9.354420925,
          7.594959193,
          9.168548407,
          9.236282657,
          8.167268649,
          8.472884824,
          7.16862163,
          6.4273556,
          7.492282038,
          6.742157985,
          5.773587663,
          9.86163605,
          8.192908349,
          8.738905478,
          8.38406227,
          5.985473137,
          10.25414643,
          8.841846275,
          11.74138905,
          6.4273556,
          10.68635297,
          7.16862163,
          9.281916038,
          9.075114842,
          7.90872645,
          6.742157985,
          7.734863292,
          7.882392219,
          8.405096226,
          7.554174237,
          5.683917802,
          8.076483399,
          7.793537801,
          9.57394699,
          8.3441,
          6.868970319,
          9.257850173,
          7.010146845,
          10.60884064,
          8.575989855,
          5.7366,
          6.67199484,
          6.4273556,
          7.793537801,
          8.3441,
          6.742157985,
          7.44753027,
          6.683405159,
          8.472884824,
          9.928628109,
          7.16862163,
          8.841846275,
          8.238735603,
          7.95725182,
          7.348242739,
          9.994966539,
          9.414487439
         ],
         "y0": " ",
         "yaxis": "y"
        }
       ],
       "layout": {
        "autosize": true,
        "boxmode": "group",
        "legend": {
         "tracegroupgap": 0
        },
        "margin": {
         "t": 60
        },
        "template": {
         "data": {
          "bar": [
           {
            "error_x": {
             "color": "#2a3f5f"
            },
            "error_y": {
             "color": "#2a3f5f"
            },
            "marker": {
             "line": {
              "color": "#E5ECF6",
              "width": 0.5
             },
             "pattern": {
              "fillmode": "overlay",
              "size": 10,
              "solidity": 0.2
             }
            },
            "type": "bar"
           }
          ],
          "barpolar": [
           {
            "marker": {
             "line": {
              "color": "#E5ECF6",
              "width": 0.5
             },
             "pattern": {
              "fillmode": "overlay",
              "size": 10,
              "solidity": 0.2
             }
            },
            "type": "barpolar"
           }
          ],
          "carpet": [
           {
            "aaxis": {
             "endlinecolor": "#2a3f5f",
             "gridcolor": "white",
             "linecolor": "white",
             "minorgridcolor": "white",
             "startlinecolor": "#2a3f5f"
            },
            "baxis": {
             "endlinecolor": "#2a3f5f",
             "gridcolor": "white",
             "linecolor": "white",
             "minorgridcolor": "white",
             "startlinecolor": "#2a3f5f"
            },
            "type": "carpet"
           }
          ],
          "choropleth": [
           {
            "colorbar": {
             "outlinewidth": 0,
             "ticks": ""
            },
            "type": "choropleth"
           }
          ],
          "contour": [
           {
            "colorbar": {
             "outlinewidth": 0,
             "ticks": ""
            },
            "colorscale": [
             [
              0,
              "#0d0887"
             ],
             [
              0.1111111111111111,
              "#46039f"
             ],
             [
              0.2222222222222222,
              "#7201a8"
             ],
             [
              0.3333333333333333,
              "#9c179e"
             ],
             [
              0.4444444444444444,
              "#bd3786"
             ],
             [
              0.5555555555555556,
              "#d8576b"
             ],
             [
              0.6666666666666666,
              "#ed7953"
             ],
             [
              0.7777777777777778,
              "#fb9f3a"
             ],
             [
              0.8888888888888888,
              "#fdca26"
             ],
             [
              1,
              "#f0f921"
             ]
            ],
            "type": "contour"
           }
          ],
          "contourcarpet": [
           {
            "colorbar": {
             "outlinewidth": 0,
             "ticks": ""
            },
            "type": "contourcarpet"
           }
          ],
          "heatmap": [
           {
            "colorbar": {
             "outlinewidth": 0,
             "ticks": ""
            },
            "colorscale": [
             [
              0,
              "#0d0887"
             ],
             [
              0.1111111111111111,
              "#46039f"
             ],
             [
              0.2222222222222222,
              "#7201a8"
             ],
             [
              0.3333333333333333,
              "#9c179e"
             ],
             [
              0.4444444444444444,
              "#bd3786"
             ],
             [
              0.5555555555555556,
              "#d8576b"
             ],
             [
              0.6666666666666666,
              "#ed7953"
             ],
             [
              0.7777777777777778,
              "#fb9f3a"
             ],
             [
              0.8888888888888888,
              "#fdca26"
             ],
             [
              1,
              "#f0f921"
             ]
            ],
            "type": "heatmap"
           }
          ],
          "heatmapgl": [
           {
            "colorbar": {
             "outlinewidth": 0,
             "ticks": ""
            },
            "colorscale": [
             [
              0,
              "#0d0887"
             ],
             [
              0.1111111111111111,
              "#46039f"
             ],
             [
              0.2222222222222222,
              "#7201a8"
             ],
             [
              0.3333333333333333,
              "#9c179e"
             ],
             [
              0.4444444444444444,
              "#bd3786"
             ],
             [
              0.5555555555555556,
              "#d8576b"
             ],
             [
              0.6666666666666666,
              "#ed7953"
             ],
             [
              0.7777777777777778,
              "#fb9f3a"
             ],
             [
              0.8888888888888888,
              "#fdca26"
             ],
             [
              1,
              "#f0f921"
             ]
            ],
            "type": "heatmapgl"
           }
          ],
          "histogram": [
           {
            "marker": {
             "pattern": {
              "fillmode": "overlay",
              "size": 10,
              "solidity": 0.2
             }
            },
            "type": "histogram"
           }
          ],
          "histogram2d": [
           {
            "colorbar": {
             "outlinewidth": 0,
             "ticks": ""
            },
            "colorscale": [
             [
              0,
              "#0d0887"
             ],
             [
              0.1111111111111111,
              "#46039f"
             ],
             [
              0.2222222222222222,
              "#7201a8"
             ],
             [
              0.3333333333333333,
              "#9c179e"
             ],
             [
              0.4444444444444444,
              "#bd3786"
             ],
             [
              0.5555555555555556,
              "#d8576b"
             ],
             [
              0.6666666666666666,
              "#ed7953"
             ],
             [
              0.7777777777777778,
              "#fb9f3a"
             ],
             [
              0.8888888888888888,
              "#fdca26"
             ],
             [
              1,
              "#f0f921"
             ]
            ],
            "type": "histogram2d"
           }
          ],
          "histogram2dcontour": [
           {
            "colorbar": {
             "outlinewidth": 0,
             "ticks": ""
            },
            "colorscale": [
             [
              0,
              "#0d0887"
             ],
             [
              0.1111111111111111,
              "#46039f"
             ],
             [
              0.2222222222222222,
              "#7201a8"
             ],
             [
              0.3333333333333333,
              "#9c179e"
             ],
             [
              0.4444444444444444,
              "#bd3786"
             ],
             [
              0.5555555555555556,
              "#d8576b"
             ],
             [
              0.6666666666666666,
              "#ed7953"
             ],
             [
              0.7777777777777778,
              "#fb9f3a"
             ],
             [
              0.8888888888888888,
              "#fdca26"
             ],
             [
              1,
              "#f0f921"
             ]
            ],
            "type": "histogram2dcontour"
           }
          ],
          "mesh3d": [
           {
            "colorbar": {
             "outlinewidth": 0,
             "ticks": ""
            },
            "type": "mesh3d"
           }
          ],
          "parcoords": [
           {
            "line": {
             "colorbar": {
              "outlinewidth": 0,
              "ticks": ""
             }
            },
            "type": "parcoords"
           }
          ],
          "pie": [
           {
            "automargin": true,
            "type": "pie"
           }
          ],
          "scatter": [
           {
            "fillpattern": {
             "fillmode": "overlay",
             "size": 10,
             "solidity": 0.2
            },
            "type": "scatter"
           }
          ],
          "scatter3d": [
           {
            "line": {
             "colorbar": {
              "outlinewidth": 0,
              "ticks": ""
             }
            },
            "marker": {
             "colorbar": {
              "outlinewidth": 0,
              "ticks": ""
             }
            },
            "type": "scatter3d"
           }
          ],
          "scattercarpet": [
           {
            "marker": {
             "colorbar": {
              "outlinewidth": 0,
              "ticks": ""
             }
            },
            "type": "scattercarpet"
           }
          ],
          "scattergeo": [
           {
            "marker": {
             "colorbar": {
              "outlinewidth": 0,
              "ticks": ""
             }
            },
            "type": "scattergeo"
           }
          ],
          "scattergl": [
           {
            "marker": {
             "colorbar": {
              "outlinewidth": 0,
              "ticks": ""
             }
            },
            "type": "scattergl"
           }
          ],
          "scattermapbox": [
           {
            "marker": {
             "colorbar": {
              "outlinewidth": 0,
              "ticks": ""
             }
            },
            "type": "scattermapbox"
           }
          ],
          "scatterpolar": [
           {
            "marker": {
             "colorbar": {
              "outlinewidth": 0,
              "ticks": ""
             }
            },
            "type": "scatterpolar"
           }
          ],
          "scatterpolargl": [
           {
            "marker": {
             "colorbar": {
              "outlinewidth": 0,
              "ticks": ""
             }
            },
            "type": "scatterpolargl"
           }
          ],
          "scatterternary": [
           {
            "marker": {
             "colorbar": {
              "outlinewidth": 0,
              "ticks": ""
             }
            },
            "type": "scatterternary"
           }
          ],
          "surface": [
           {
            "colorbar": {
             "outlinewidth": 0,
             "ticks": ""
            },
            "colorscale": [
             [
              0,
              "#0d0887"
             ],
             [
              0.1111111111111111,
              "#46039f"
             ],
             [
              0.2222222222222222,
              "#7201a8"
             ],
             [
              0.3333333333333333,
              "#9c179e"
             ],
             [
              0.4444444444444444,
              "#bd3786"
             ],
             [
              0.5555555555555556,
              "#d8576b"
             ],
             [
              0.6666666666666666,
              "#ed7953"
             ],
             [
              0.7777777777777778,
              "#fb9f3a"
             ],
             [
              0.8888888888888888,
              "#fdca26"
             ],
             [
              1,
              "#f0f921"
             ]
            ],
            "type": "surface"
           }
          ],
          "table": [
           {
            "cells": {
             "fill": {
              "color": "#EBF0F8"
             },
             "line": {
              "color": "white"
             }
            },
            "header": {
             "fill": {
              "color": "#C8D4E3"
             },
             "line": {
              "color": "white"
             }
            },
            "type": "table"
           }
          ]
         },
         "layout": {
          "annotationdefaults": {
           "arrowcolor": "#2a3f5f",
           "arrowhead": 0,
           "arrowwidth": 1
          },
          "autotypenumbers": "strict",
          "coloraxis": {
           "colorbar": {
            "outlinewidth": 0,
            "ticks": ""
           }
          },
          "colorscale": {
           "diverging": [
            [
             0,
             "#8e0152"
            ],
            [
             0.1,
             "#c51b7d"
            ],
            [
             0.2,
             "#de77ae"
            ],
            [
             0.3,
             "#f1b6da"
            ],
            [
             0.4,
             "#fde0ef"
            ],
            [
             0.5,
             "#f7f7f7"
            ],
            [
             0.6,
             "#e6f5d0"
            ],
            [
             0.7,
             "#b8e186"
            ],
            [
             0.8,
             "#7fbc41"
            ],
            [
             0.9,
             "#4d9221"
            ],
            [
             1,
             "#276419"
            ]
           ],
           "sequential": [
            [
             0,
             "#0d0887"
            ],
            [
             0.1111111111111111,
             "#46039f"
            ],
            [
             0.2222222222222222,
             "#7201a8"
            ],
            [
             0.3333333333333333,
             "#9c179e"
            ],
            [
             0.4444444444444444,
             "#bd3786"
            ],
            [
             0.5555555555555556,
             "#d8576b"
            ],
            [
             0.6666666666666666,
             "#ed7953"
            ],
            [
             0.7777777777777778,
             "#fb9f3a"
            ],
            [
             0.8888888888888888,
             "#fdca26"
            ],
            [
             1,
             "#f0f921"
            ]
           ],
           "sequentialminus": [
            [
             0,
             "#0d0887"
            ],
            [
             0.1111111111111111,
             "#46039f"
            ],
            [
             0.2222222222222222,
             "#7201a8"
            ],
            [
             0.3333333333333333,
             "#9c179e"
            ],
            [
             0.4444444444444444,
             "#bd3786"
            ],
            [
             0.5555555555555556,
             "#d8576b"
            ],
            [
             0.6666666666666666,
             "#ed7953"
            ],
            [
             0.7777777777777778,
             "#fb9f3a"
            ],
            [
             0.8888888888888888,
             "#fdca26"
            ],
            [
             1,
             "#f0f921"
            ]
           ]
          },
          "colorway": [
           "#636efa",
           "#EF553B",
           "#00cc96",
           "#ab63fa",
           "#FFA15A",
           "#19d3f3",
           "#FF6692",
           "#B6E880",
           "#FF97FF",
           "#FECB52"
          ],
          "font": {
           "color": "#2a3f5f"
          },
          "geo": {
           "bgcolor": "white",
           "lakecolor": "white",
           "landcolor": "#E5ECF6",
           "showlakes": true,
           "showland": true,
           "subunitcolor": "white"
          },
          "hoverlabel": {
           "align": "left"
          },
          "hovermode": "closest",
          "mapbox": {
           "style": "light"
          },
          "paper_bgcolor": "white",
          "plot_bgcolor": "#E5ECF6",
          "polar": {
           "angularaxis": {
            "gridcolor": "white",
            "linecolor": "white",
            "ticks": ""
           },
           "bgcolor": "#E5ECF6",
           "radialaxis": {
            "gridcolor": "white",
            "linecolor": "white",
            "ticks": ""
           }
          },
          "scene": {
           "xaxis": {
            "backgroundcolor": "#E5ECF6",
            "gridcolor": "white",
            "gridwidth": 2,
            "linecolor": "white",
            "showbackground": true,
            "ticks": "",
            "zerolinecolor": "white"
           },
           "yaxis": {
            "backgroundcolor": "#E5ECF6",
            "gridcolor": "white",
            "gridwidth": 2,
            "linecolor": "white",
            "showbackground": true,
            "ticks": "",
            "zerolinecolor": "white"
           },
           "zaxis": {
            "backgroundcolor": "#E5ECF6",
            "gridcolor": "white",
            "gridwidth": 2,
            "linecolor": "white",
            "showbackground": true,
            "ticks": "",
            "zerolinecolor": "white"
           }
          },
          "shapedefaults": {
           "line": {
            "color": "#2a3f5f"
           }
          },
          "ternary": {
           "aaxis": {
            "gridcolor": "white",
            "linecolor": "white",
            "ticks": ""
           },
           "baxis": {
            "gridcolor": "white",
            "linecolor": "white",
            "ticks": ""
           },
           "bgcolor": "#E5ECF6",
           "caxis": {
            "gridcolor": "white",
            "linecolor": "white",
            "ticks": ""
           }
          },
          "title": {
           "x": 0.05
          },
          "xaxis": {
           "automargin": true,
           "gridcolor": "white",
           "linecolor": "white",
           "ticks": "",
           "title": {
            "standoff": 15
           },
           "zerolinecolor": "white",
           "zerolinewidth": 2
          },
          "yaxis": {
           "automargin": true,
           "gridcolor": "white",
           "linecolor": "white",
           "ticks": "",
           "title": {
            "standoff": 15
           },
           "zerolinecolor": "white",
           "zerolinewidth": 2
          }
         }
        },
        "xaxis": {
         "anchor": "y",
         "autorange": true,
         "domain": [
          0,
          1
         ],
         "range": [
          -0.5,
          0.5
         ],
         "title": {
          "text": "variable"
         },
         "type": "category"
        },
        "yaxis": {
         "anchor": "x",
         "autorange": true,
         "domain": [
          0,
          1
         ],
         "range": [
          4.2608920597777775,
          12.160964144222222
         ],
         "title": {
          "text": "value"
         },
         "type": "linear"
        }
       }
      },
      "image/png": "[encoded data removed]",
      "text/html": [
       "<div>                            <div id=\"710b8366-76f8-40d6-9ba9-671573c9526e\" class=\"plotly-graph-div\" style=\"height:525px; width:100%;\"></div>            <script type=\"text/javascript\">                require([\"plotly\"], function(Plotly) {                    window.PLOTLYENV=window.PLOTLYENV || {};                                    if (document.getElementById(\"710b8366-76f8-40d6-9ba9-671573c9526e\")) {                    Plotly.newPlot(                        \"710b8366-76f8-40d6-9ba9-671573c9526e\",                        [{\"alignmentgroup\":\"True\",\"hovertemplate\":\"variable=%{x}\\u003cbr\\u003evalue=%{y}\\u003cextra\\u003e\\u003c\\u002fextra\\u003e\",\"legendgroup\":\"\",\"marker\":{\"color\":\"#636efa\"},\"name\":\"\",\"notched\":false,\"offsetgroup\":\"\",\"orientation\":\"v\",\"showlegend\":false,\"x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x0\":\" \",\"xaxis\":\"x\",\"y\":[10.91426088,11.38971747,9.04235418,5.985473137,9.04235418,8.076483399,10.35521597,8.841846275,11.38971747,6.4273556,7.021680442,7.724431198,5.985473137,10.1257567,7.873277557,8.212053251,5.916634753,7.413659706,7.793537801,9.270117722,7.23325808,6.742157985,6.182691328,7.38712967,9.095868883,7.321109707,9.466822959,7.110495986,11.20814326,7.793537801,7.44753027,9.210782826,5.148860815,9.928628109,5.288315135,8.269060117,7.16862163,11.53803483,4.655895664,9.150863308,10.68635297,7.16862163,8.256446699,10.50422373,9.725611199,7.724431198,8.747414212,7.16862163,8.548686977,9.516144504,7.645422481,9.725611199,9.444778639,9.04235418,9.888512548,7.645422481,7.69929702,7.468242285,8.238735603,8.3441,8.680891453,11.62993849,9.701314574,8.447377353,6.836019277,7.68629501,8.841846275,5.985473137,11.45678718,9.49676041,7.321109707,6.816661864,9.095868883,7.882392219,8.472884824,6.742157985,8.51512884,11.0223933,6.980632753,10.56073891,7.16862163,7.9287669,6.742157985,5.985473137,8.3441,8.841846275,6.937597517,8.841846275,8.296473432,8.167268649,5.148860815,8.306716005,5.683917802,10.74609503,8.076483399,8.167268649,7.44753027,8.841846275,7.645422481,6.895973343,11.76596054,7.09836372,6.4273556,8.38406227,8.076483399,8.548686977,6.655083551,11.20814326,6.4273556,8.841846275,6.29796148,5.683917802,8.472884824,5.683917802,5.461318901,10.45135478,8.076483399,7.576466943,8.076483399,6.627428351,6.868970319,10.29040645,8.32137658,10.21488968,9.299571214,7.841875235,7.610546882,5.985473137,8.841846275,5.985473137,8.587818077,9.236282657,8.021203637,10.91426088,10.45135478,8.841846275,6.816661864,8.021203637,9.473421319,7.793537801,8.238735603,8.841846275,5.369823441,8.598638143,7.413659706,8.447377353,8.841846275,7.882392219,8.472884824,7.413659706,5.461318901,11.20814326,6.850034145,7.68629501,7.793537801,10.1257567,6.627428351,5.565023196,6.4273556,6.937597517,6.4273556,9.236282657,9.444778639,6.4273556,8.238735603,8.31333277,10.65788864,10.21488968,8.472884824,7.16862163,6.2581,7.793537801,6.67199484,7.16862163,8.532816996,6.351523495,8.000946393,8.418075326,10.1257567,7.793537801,8.447377353,9.957137785,4.935628992,11.20814326,7.44753027,10.50422373,8.238735603,9.82788879,8.049812675,11.374739,8.438071523,8.182890915,8.548686977,10.41145118,5.683917802,7.365786028,7.645422481,8.076483399,9.725611199,7.724431198,8.841846275,9.516144504,8.167268649,8.076483399,5.985473137,9.168548407,7.031648654,7.882392219,6.742157985,8.841846275,8.841846275,8.076483399,8.395991825,7.9287669,9.150863308,8.3441,9.424239792,7.16862163,8.634040054,7.709486992,5.288315135,5.985473137,9.994966539,9.017664076,7.048011614,7.38712967,9.516144504,7.16862163,7.44753027,9.3871,7.645422481,8.296473432,8.076483399,7.724431198,8.3441,8.841846275,6.937597517,6.4273556,8.296473432,7.38712967,8.418075326,7.645422481,9.188382445,8.841846275,6.742157985,8.10935674,7.16862163,5.565023196,8.841846275,10.46071229,7.724431198,7.38712967,11.45678718,8.418075326,7.69929702,8.548686977,7.937092434,6.584502451,9.057496981,8.841846275,7.16862163,7.38712967,10.1257567,9.478462497,7.68629501,11.64515934,8.841846275,8.841846275,9.778596076,9.627879704,8.841846275,8.238735603,6.742157985,8.418075326,8.238735603,9.725611199,8.472884824,7.68629501,5.369823441,4.7782278,9.236282657,8.990254009,8.3441,9.867487886,6.4273556,7.793537801,10.68635297,6.2581,7.616502296,10.21488968,7.9287669,7.645422481,5.82211442,6.895973343,7.16862163,7.321109707,6.627428351,5.565023196,7.695328112,7.793537801,7.16862163,8.395991825,6.182691328,8.841846275,9.606745406,10.37482555,5.985473137,8.238735603,6.980632753,9.414487439,8.31333277,7.492282038,7.730073105,5.288315135,6.742157985,8.38406227,7.709486992,8.021203637,7.010146845,6.742157985,7.95725182,6.980632753,10.98051877,8.418075326,6.937597517,7.793537801,8.167268649,7.90872645,7.793537801,6.4273556,9.606745406,5.369823441,8.548686977,6.543118893,9.408791573,7.510576383,9.957137785,10.1257567,8.021203637,8.238735603,6.4273556,8.000946393,8.150884317,8.575989855,10.63711953,8.841846275,6.227271662,7.972316293,6.522977013,6.4273556,5.985473137,8.759644201,7.95725182,7.031648654,8.495290729,8.841846275,8.998388855,7.95725182,9.134995656,9.203000759,6.868970319,7.95725182,9.299571214,7.492282038,9.543854155,8.841846275,8.076483399,8.841846275,8.841846275,6.742157985,7.16862163,7.68629501,8.076483399,8.167268649,8.841846275,9.516144504,6.627428351,9.162432508,10.68635297,8.841846275,6.182691328,6.782984794,7.793537801,7.937092434,8.139509933,6.937597517,8.076483399,5.82211442,6.627428351,8.238735603,6.4273556,10.86419502,7.16862163,10.83216551,7.348242739,8.841846275,7.765008862,8.841846275,9.653516016,8.841846275,8.841846275,6.4273556,9.130062681,10.05682244,5.683917802,8.634040054,8.841846275,6.816661864,7.348242739,8.841846275,9.725611199,8.648137235,4.851557811,8.46475739,7.44753027,7.793537801,11.20814326,8.456263369,7.669130373,8.418075326,8.710501217,8.238735603,6.742157985,9.3871,5.985473137,9.354420925,7.594959193,9.168548407,9.236282657,8.167268649,8.472884824,7.16862163,6.4273556,7.492282038,6.742157985,5.773587663,9.86163605,8.192908349,8.738905478,8.38406227,5.985473137,10.25414643,8.841846275,11.74138905,6.4273556,10.68635297,7.16862163,9.281916038,9.075114842,7.90872645,6.742157985,7.734863292,7.882392219,8.405096226,7.554174237,5.683917802,8.076483399,7.793537801,9.57394699,8.3441,6.868970319,9.257850173,7.010146845,10.60884064,8.575989855,5.7366,6.67199484,6.4273556,7.793537801,8.3441,6.742157985,7.44753027,6.683405159,8.472884824,9.928628109,7.16862163,8.841846275,8.238735603,7.95725182,7.348242739,9.994966539,9.414487439],\"y0\":\" \",\"yaxis\":\"y\",\"type\":\"box\"}],                        {\"template\":{\"data\":{\"histogram2dcontour\":[{\"type\":\"histogram2dcontour\",\"colorbar\":{\"outlinewidth\":0,\"ticks\":\"\"},\"colorscale\":[[0.0,\"#0d0887\"],[0.1111111111111111,\"#46039f\"],[0.2222222222222222,\"#7201a8\"],[0.3333333333333333,\"#9c179e\"],[0.4444444444444444,\"#bd3786\"],[0.5555555555555556,\"#d8576b\"],[0.6666666666666666,\"#ed7953\"],[0.7777777777777778,\"#fb9f3a\"],[0.8888888888888888,\"#fdca26\"],[1.0,\"#f0f921\"]]}],\"choropleth\":[{\"type\":\"choropleth\",\"colorbar\":{\"outlinewidth\":0,\"ticks\":\"\"}}],\"histogram2d\":[{\"type\":\"histogram2d\",\"colorbar\":{\"outlinewidth\":0,\"ticks\":\"\"},\"colorscale\":[[0.0,\"#0d0887\"],[0.1111111111111111,\"#46039f\"],[0.2222222222222222,\"#7201a8\"],[0.3333333333333333,\"#9c179e\"],[0.4444444444444444,\"#bd3786\"],[0.5555555555555556,\"#d8576b\"],[0.6666666666666666,\"#ed7953\"],[0.7777777777777778,\"#fb9f3a\"],[0.8888888888888888,\"#fdca26\"],[1.0,\"#f0f921\"]]}],\"heatmap\":[{\"type\":\"heatmap\",\"colorbar\":{\"outlinewidth\":0,\"ticks\":\"\"},\"colorscale\":[[0.0,\"#0d0887\"],[0.1111111111111111,\"#46039f\"],[0.2222222222222222,\"#7201a8\"],[0.3333333333333333,\"#9c179e\"],[0.4444444444444444,\"#bd3786\"],[0.5555555555555556,\"#d8576b\"],[0.6666666666666666,\"#ed7953\"],[0.7777777777777778,\"#fb9f3a\"],[0.8888888888888888,\"#fdca26\"],[1.0,\"#f0f921\"]]}],\"heatmapgl\":[{\"type\":\"heatmapgl\",\"colorbar\":{\"outlinewidth\":0,\"ticks\":\"\"},\"colorscale\":[[0.0,\"#0d0887\"],[0.1111111111111111,\"#46039f\"],[0.2222222222222222,\"#7201a8\"],[0.3333333333333333,\"#9c179e\"],[0.4444444444444444,\"#bd3786\"],[0.5555555555555556,\"#d8576b\"],[0.6666666666666666,\"#ed7953\"],[0.7777777777777778,\"#fb9f3a\"],[0.8888888888888888,\"#fdca26\"],[1.0,\"#f0f921\"]]}],\"contourcarpet\":[{\"type\":\"contourcarpet\",\"colorbar\":{\"outlinewidth\":0,\"ticks\":\"\"}}],\"contour\":[{\"type\":\"contour\",\"colorbar\":{\"outlinewidth\":0,\"ticks\":\"\"},\"colorscale\":[[0.0,\"#0d0887\"],[0.1111111111111111,\"#46039f\"],[0.2222222222222222,\"#7201a8\"],[0.3333333333333333,\"#9c179e\"],[0.4444444444444444,\"#bd3786\"],[0.5555555555555556,\"#d8576b\"],[0.6666666666666666,\"#ed7953\"],[0.7777777777777778,\"#fb9f3a\"],[0.8888888888888888,\"#fdca26\"],[1.0,\"#f0f921\"]]}],\"surface\":[{\"type\":\"surface\",\"colorbar\":{\"outlinewidth\":0,\"ticks\":\"\"},\"colorscale\":[[0.0,\"#0d0887\"],[0.1111111111111111,\"#46039f\"],[0.2222222222222222,\"#7201a8\"],[0.3333333333333333,\"#9c179e\"],[0.4444444444444444,\"#bd3786\"],[0.5555555555555556,\"#d8576b\"],[0.6666666666666666,\"#ed7953\"],[0.7777777777777778,\"#fb9f3a\"],[0.8888888888888888,\"#fdca26\"],[1.0,\"#f0f921\"]]}],\"mesh3d\":[{\"type\":\"mesh3d\",\"colorbar\":{\"outlinewidth\":0,\"ticks\":\"\"}}],\"scatter\":[{\"fillpattern\":{\"fillmode\":\"overlay\",\"size\":10,\"solidity\":0.2},\"type\":\"scatter\"}],\"parcoords\":[{\"type\":\"parcoords\",\"line\":{\"colorbar\":{\"outlinewidth\":0,\"ticks\":\"\"}}}],\"scatterpolargl\":[{\"type\":\"scatterpolargl\",\"marker\":{\"colorbar\":{\"outlinewidth\":0,\"ticks\":\"\"}}}],\"bar\":[{\"error_x\":{\"color\":\"#2a3f5f\"},\"error_y\":{\"color\":\"#2a3f5f\"},\"marker\":{\"line\":{\"color\":\"#E5ECF6\",\"width\":0.5},\"pattern\":{\"fillmode\":\"overlay\",\"size\":10,\"solidity\":0.2}},\"type\":\"bar\"}],\"scattergeo\":[{\"type\":\"scattergeo\",\"marker\":{\"colorbar\":{\"outlinewidth\":0,\"ticks\":\"\"}}}],\"scatterpolar\":[{\"type\":\"scatterpolar\",\"marker\":{\"colorbar\":{\"outlinewidth\":0,\"ticks\":\"\"}}}],\"histogram\":[{\"marker\":{\"pattern\":{\"fillmode\":\"overlay\",\"size\":10,\"solidity\":0.2}},\"type\":\"histogram\"}],\"scattergl\":[{\"type\":\"scattergl\",\"marker\":{\"colorbar\":{\"outlinewidth\":0,\"ticks\":\"\"}}}],\"scatter3d\":[{\"type\":\"scatter3d\",\"line\":{\"colorbar\":{\"outlinewidth\":0,\"ticks\":\"\"}},\"marker\":{\"colorbar\":{\"outlinewidth\":0,\"ticks\":\"\"}}}],\"scattermapbox\":[{\"type\":\"scattermapbox\",\"marker\":{\"colorbar\":{\"outlinewidth\":0,\"ticks\":\"\"}}}],\"scatterternary\":[{\"type\":\"scatterternary\",\"marker\":{\"colorbar\":{\"outlinewidth\":0,\"ticks\":\"\"}}}],\"scattercarpet\":[{\"type\":\"scattercarpet\",\"marker\":{\"colorbar\":{\"outlinewidth\":0,\"ticks\":\"\"}}}],\"carpet\":[{\"aaxis\":{\"endlinecolor\":\"#2a3f5f\",\"gridcolor\":\"white\",\"linecolor\":\"white\",\"minorgridcolor\":\"white\",\"startlinecolor\":\"#2a3f5f\"},\"baxis\":{\"endlinecolor\":\"#2a3f5f\",\"gridcolor\":\"white\",\"linecolor\":\"white\",\"minorgridcolor\":\"white\",\"startlinecolor\":\"#2a3f5f\"},\"type\":\"carpet\"}],\"table\":[{\"cells\":{\"fill\":{\"color\":\"#EBF0F8\"},\"line\":{\"color\":\"white\"}},\"header\":{\"fill\":{\"color\":\"#C8D4E3\"},\"line\":{\"color\":\"white\"}},\"type\":\"table\"}],\"barpolar\":[{\"marker\":{\"line\":{\"color\":\"#E5ECF6\",\"width\":0.5},\"pattern\":{\"fillmode\":\"overlay\",\"size\":10,\"solidity\":0.2}},\"type\":\"barpolar\"}],\"pie\":[{\"automargin\":true,\"type\":\"pie\"}]},\"layout\":{\"autotypenumbers\":\"strict\",\"colorway\":[\"#636efa\",\"#EF553B\",\"#00cc96\",\"#ab63fa\",\"#FFA15A\",\"#19d3f3\",\"#FF6692\",\"#B6E880\",\"#FF97FF\",\"#FECB52\"],\"font\":{\"color\":\"#2a3f5f\"},\"hovermode\":\"closest\",\"hoverlabel\":{\"align\":\"left\"},\"paper_bgcolor\":\"white\",\"plot_bgcolor\":\"#E5ECF6\",\"polar\":{\"bgcolor\":\"#E5ECF6\",\"angularaxis\":{\"gridcolor\":\"white\",\"linecolor\":\"white\",\"ticks\":\"\"},\"radialaxis\":{\"gridcolor\":\"white\",\"linecolor\":\"white\",\"ticks\":\"\"}},\"ternary\":{\"bgcolor\":\"#E5ECF6\",\"aaxis\":{\"gridcolor\":\"white\",\"linecolor\":\"white\",\"ticks\":\"\"},\"baxis\":{\"gridcolor\":\"white\",\"linecolor\":\"white\",\"ticks\":\"\"},\"caxis\":{\"gridcolor\":\"white\",\"linecolor\":\"white\",\"ticks\":\"\"}},\"coloraxis\":{\"colorbar\":{\"outlinewidth\":0,\"ticks\":\"\"}},\"colorscale\":{\"sequential\":[[0.0,\"#0d0887\"],[0.1111111111111111,\"#46039f\"],[0.2222222222222222,\"#7201a8\"],[0.3333333333333333,\"#9c179e\"],[0.4444444444444444,\"#bd3786\"],[0.5555555555555556,\"#d8576b\"],[0.6666666666666666,\"#ed7953\"],[0.7777777777777778,\"#fb9f3a\"],[0.8888888888888888,\"#fdca26\"],[1.0,\"#f0f921\"]],\"sequentialminus\":[[0.0,\"#0d0887\"],[0.1111111111111111,\"#46039f\"],[0.2222222222222222,\"#7201a8\"],[0.3333333333333333,\"#9c179e\"],[0.4444444444444444,\"#bd3786\"],[0.5555555555555556,\"#d8576b\"],[0.6666666666666666,\"#ed7953\"],[0.7777777777777778,\"#fb9f3a\"],[0.8888888888888888,\"#fdca26\"],[1.0,\"#f0f921\"]],\"diverging\":[[0,\"#8e0152\"],[0.1,\"#c51b7d\"],[0.2,\"#de77ae\"],[0.3,\"#f1b6da\"],[0.4,\"#fde0ef\"],[0.5,\"#f7f7f7\"],[0.6,\"#e6f5d0\"],[0.7,\"#b8e186\"],[0.8,\"#7fbc41\"],[0.9,\"#4d9221\"],[1,\"#276419\"]]},\"xaxis\":{\"gridcolor\":\"white\",\"linecolor\":\"white\",\"ticks\":\"\",\"title\":{\"standoff\":15},\"zerolinecolor\":\"white\",\"automargin\":true,\"zerolinewidth\":2},\"yaxis\":{\"gridcolor\":\"white\",\"linecolor\":\"white\",\"ticks\":\"\",\"title\":{\"standoff\":15},\"zerolinecolor\":\"white\",\"automargin\":true,\"zerolinewidth\":2},\"scene\":{\"xaxis\":{\"backgroundcolor\":\"#E5ECF6\",\"gridcolor\":\"white\",\"linecolor\":\"white\",\"showbackground\":true,\"ticks\":\"\",\"zerolinecolor\":\"white\",\"gridwidth\":2},\"yaxis\":{\"backgroundcolor\":\"#E5ECF6\",\"gridcolor\":\"white\",\"linecolor\":\"white\",\"showbackground\":true,\"ticks\":\"\",\"zerolinecolor\":\"white\",\"gridwidth\":2},\"zaxis\":{\"backgroundcolor\":\"#E5ECF6\",\"gridcolor\":\"white\",\"linecolor\":\"white\",\"showbackground\":true,\"ticks\":\"\",\"zerolinecolor\":\"white\",\"gridwidth\":2}},\"shapedefaults\":{\"line\":{\"color\":\"#2a3f5f\"}},\"annotationdefaults\":{\"arrowcolor\":\"#2a3f5f\",\"arrowhead\":0,\"arrowwidth\":1},\"geo\":{\"bgcolor\":\"white\",\"landcolor\":\"#E5ECF6\",\"subunitcolor\":\"white\",\"showland\":true,\"showlakes\":true,\"lakecolor\":\"white\"},\"title\":{\"x\":0.05},\"mapbox\":{\"style\":\"light\"}}},\"xaxis\":{\"anchor\":\"y\",\"domain\":[0.0,1.0],\"title\":{\"text\":\"variable\"}},\"yaxis\":{\"anchor\":\"x\",\"domain\":[0.0,1.0],\"title\":{\"text\":\"value\"}},\"legend\":{\"tracegroupgap\":0},\"margin\":{\"t\":60},\"boxmode\":\"group\"},                        {\"responsive\": true}                    ).then(function(){\n",
       "                            \n",
       "var gd = document.getElementById('710b8366-76f8-40d6-9ba9-671573c9526e');\n",
       "var x = new MutationObserver(function (mutations, observer) {{\n",
       "        var display = window.getComputedStyle(gd).display;\n",
       "        if (!display || display === 'none') {{\n",
       "            console.log([gd, 'removed!']);\n",
       "            Plotly.purge(gd);\n",
       "            observer.disconnect();\n",
       "        }}\n",
       "}});\n",
       "\n",
       "// Listen for the removal of the full notebook cells\n",
       "var notebookContainer = gd.closest('#notebook-container');\n",
       "if (notebookContainer) {{\n",
       "    x.observe(notebookContainer, {childList: true});\n",
       "}}\n",
       "\n",
       "// Listen for the clearing of the current output cell\n",
       "var outputEl = gd.closest('.output');\n",
       "if (outputEl) {{\n",
       "    x.observe(outputEl, {childList: true});\n",
       "}}\n",
       "\n",
       "                        })                };                });            </script>        </div>"
      ]
     },
     "metadata": {},
     "output_type": "display_data"
    }
   ],
   "source": [
    "px.box(clean_data_quar)\n",
    "# px.strip(clean_data)"
   ]
  },
  {
   "cell_type": "code",
   "execution_count": 79,
   "id": "26bf990a-c590-48dd-a56c-d73b59b385b9",
   "metadata": {},
   "outputs": [
    {
     "data": {
      "text/plain": [
       "<Axes: ylabel='Count'>"
      ]
     },
     "execution_count": 79,
     "metadata": {},
     "output_type": "execute_result"
    },
    {
     "data": {
      "image/png": "[encoded data removed]",
      "text/plain": [
       "<Figure size 640x480 with 1 Axes>"
      ]
     },
     "metadata": {},
     "output_type": "display_data"
    }
   ],
   "source": [
    "sns.histplot(data=clean_data, kde=True)"
   ]
  },
  {
   "cell_type": "markdown",
   "id": "b9a937e8-9779-40a3-adde-acdfb05839d5",
   "metadata": {},
   "source": [
    "# Here, it seem like approximately normal distribution"
   ]
  },
  {
   "cell_type": "code",
   "execution_count": 80,
   "id": "954dfd82-8eda-4699-983d-371b7ca94e92",
   "metadata": {},
   "outputs": [
    {
     "data": {
      "text/plain": [
       "8.134309914273999"
      ]
     },
     "execution_count": 80,
     "metadata": {},
     "output_type": "execute_result"
    }
   ],
   "source": [
    "sample_data['smog_index'].mean()"
   ]
  },
  {
   "cell_type": "code",
   "execution_count": null,
   "id": "998ad0c9-f584-467e-9fc0-6b3319455584",
   "metadata": {},
   "outputs": [],
   "source": []
  },
  {
   "cell_type": "code",
   "execution_count": null,
   "id": "18e35e17-ad8d-4122-af96-a45b88f6c2ce",
   "metadata": {},
   "outputs": [],
   "source": []
  }
 ],
 "metadata": {
  "kernelspec": {
   "display_name": "Python 3 (ipykernel)",
   "language": "python",
   "name": "python3"
  },
  "language_info": {
   "codemirror_mode": {
    "name": "ipython",
    "version": 3
   },
   "file_extension": ".py",
   "mimetype": "text/x-python",
   "name": "python",
   "nbconvert_exporter": "python",
   "pygments_lexer": "ipython3",
   "version": "3.11.1"
  }
 },
 "nbformat": 4,
 "nbformat_minor": 5
}

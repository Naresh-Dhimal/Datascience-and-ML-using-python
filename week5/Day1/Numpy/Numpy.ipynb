{
 "cells": [
  {
   "cell_type": "markdown",
   "metadata": {
    "id": "9nYHnUDC9xda"
   },
   "source": [
    "# Numpy\n",
    "* stands for numerical python\n",
    "* numpy is a python library used for working with arrays\n",
    "* has function for working in domain of linear algebra, fourier tansfrom and matrices\n",
    "* numpy array is a collection of homogeneous data types stored in contiguous memory location\n",
    "* written parially in python, but parts that require fast computation are written in C or C++"
   ]
  },
  {
   "cell_type": "markdown",
   "metadata": {
    "id": "nkZEnRXD93Ao"
   },
   "source": [
    "# Why is Numpy is fast?\n",
    "* An array is a collection of homogeneous data types that are stored in contiguous memory location\n",
    "* Vectorized operations are possible in NumPy\n",
    "* NUmpy package integrates C,C++ and Fortran codes in python"
   ]
  },
  {
   "cell_type": "code",
   "execution_count": 1,
   "metadata": {
    "id": "8ALQxij5AvO6"
   },
   "outputs": [],
   "source": [
    "import numpy as np"
   ]
  },
  {
   "cell_type": "markdown",
   "metadata": {},
   "source": [
    "# create numpy array vai 1D list"
   ]
  },
  {
   "cell_type": "code",
   "execution_count": 2,
   "metadata": {
    "id": "qAexbExOAyRA"
   },
   "outputs": [
    {
     "name": "stdout",
     "output_type": "stream",
     "text": [
      "[13 16  1  4  4  8 10 19  5  7]\n"
     ]
    }
   ],
   "source": [
    "\n",
    "np.random.seed(0)\n",
    "list1 = np.random.randint(low=1 , high=20, size= 10)\n",
    "arr = np.array(list1)\n",
    "print(arr)"
   ]
  },
  {
   "cell_type": "markdown",
   "metadata": {},
   "source": [
    "# checking the type af arr"
   ]
  },
  {
   "cell_type": "code",
   "execution_count": 3,
   "metadata": {},
   "outputs": [
    {
     "data": {
      "text/plain": [
       "numpy.ndarray"
      ]
     },
     "execution_count": 3,
     "metadata": {},
     "output_type": "execute_result"
    }
   ],
   "source": [
    "\n",
    "type(arr)"
   ]
  },
  {
   "cell_type": "markdown",
   "metadata": {},
   "source": [
    "# create numpy array vai 1D list"
   ]
  },
  {
   "cell_type": "code",
   "execution_count": 4,
   "metadata": {},
   "outputs": [
    {
     "data": {
      "text/plain": [
       "array([[13., 16.,  1.,  4.,  4.,  8., 10., 19.,  5.,  7.],\n",
       "       [22., 11., 16., 17., 24., 27., 15., 23., 18., 19.]], dtype=float32)"
      ]
     },
     "execution_count": 4,
     "metadata": {},
     "output_type": "execute_result"
    }
   ],
   "source": [
    "\n",
    "list2 = np.random.randint(low=10, high=30,size=10)\n",
    "arr2 = np.array([list1,list2], dtype='float32')\n",
    "arr2"
   ]
  },
  {
   "cell_type": "markdown",
   "metadata": {},
   "source": [
    "# .shape\n",
    "NumPy arrays have an attribute called shape that returns a tuple with each index having the number of corresponding elements.arr.<br>\n",
    "Syntax:\n",
    "```python\n",
    "array.shape\n",
    "```"
   ]
  },
  {
   "cell_type": "code",
   "execution_count": 5,
   "metadata": {},
   "outputs": [
    {
     "data": {
      "text/plain": [
       "(2, 10)"
      ]
     },
     "execution_count": 5,
     "metadata": {},
     "output_type": "execute_result"
    }
   ],
   "source": [
    "# shape\n",
    "arr2.shape"
   ]
  },
  {
   "cell_type": "markdown",
   "metadata": {},
   "source": [
    "# .ndim\n",
    "Attribute that return Number of array dimensions.<br>\n",
    "Syntax:\n",
    "```python\n",
    "array.ndim\n",
    "```"
   ]
  },
  {
   "cell_type": "code",
   "execution_count": 6,
   "metadata": {},
   "outputs": [
    {
     "data": {
      "text/plain": [
       "2"
      ]
     },
     "execution_count": 6,
     "metadata": {},
     "output_type": "execute_result"
    }
   ],
   "source": [
    "# dimension\n",
    "arr2.ndim"
   ]
  },
  {
   "cell_type": "markdown",
   "metadata": {},
   "source": [
    "# .zeros()\n",
    "Python numpy.zeros() function returns a new array of given shape and type, where the element's value as 0.<br>\n",
    "Syntax:\n",
    "```python\n",
    "numpy.zeros(shape, dtype=float, order='C', *, like=None)\n",
    "```\n"
   ]
  },
  {
   "cell_type": "code",
   "execution_count": 7,
   "metadata": {},
   "outputs": [
    {
     "data": {
      "text/plain": [
       "array([0, 0, 0, 0, 0, 0, 0, 0, 0, 0])"
      ]
     },
     "execution_count": 7,
     "metadata": {},
     "output_type": "execute_result"
    }
   ],
   "source": [
    "# zeros()\n",
    "np.zeros(10, dtype='int')"
   ]
  },
  {
   "cell_type": "code",
   "execution_count": 8,
   "metadata": {},
   "outputs": [
    {
     "data": {
      "text/plain": [
       "array([[0, 0, 0, 0, 0],\n",
       "       [0, 0, 0, 0, 0],\n",
       "       [0, 0, 0, 0, 0]])"
      ]
     },
     "execution_count": 8,
     "metadata": {},
     "output_type": "execute_result"
    }
   ],
   "source": [
    "# zeros()\n",
    "np.zeros((3,5), dtype='int')"
   ]
  },
  {
   "cell_type": "markdown",
   "metadata": {},
   "source": [
    "# .ones()\n",
    "Returns Array of ones with the given shape, dtype, and order.<br>\n",
    "Syntax:\n",
    "```python\n",
    "numpy.ones(shape, dtype=None, order='C', *, like=None)\n",
    "```"
   ]
  },
  {
   "cell_type": "code",
   "execution_count": 9,
   "metadata": {},
   "outputs": [
    {
     "data": {
      "text/plain": [
       "array([1, 1, 1, 1, 1, 1, 1, 1, 1, 1])"
      ]
     },
     "execution_count": 9,
     "metadata": {},
     "output_type": "execute_result"
    }
   ],
   "source": [
    "# ones()\n",
    "np.ones(10, dtype='int')"
   ]
  },
  {
   "cell_type": "code",
   "execution_count": 10,
   "metadata": {},
   "outputs": [
    {
     "data": {
      "text/plain": [
       "array([[1., 1., 1., 1., 1.],\n",
       "       [1., 1., 1., 1., 1.],\n",
       "       [1., 1., 1., 1., 1.]])"
      ]
     },
     "execution_count": 10,
     "metadata": {},
     "output_type": "execute_result"
    }
   ],
   "source": [
    "# ones()\n",
    "np.ones((3,5), dtype='float')"
   ]
  },
  {
   "cell_type": "markdown",
   "metadata": {},
   "source": [
    "# .full()\n",
    "Array of fill_value with the given shape, dtype, and order.<br>\n",
    "Syntax:\n",
    "```python\n",
    "    numpy.full(shape, fill_value, dtype=None, order='C', *, like=None)\n",
    "```"
   ]
  },
  {
   "cell_type": "code",
   "execution_count": 11,
   "metadata": {},
   "outputs": [
    {
     "data": {
      "text/plain": [
       "array([[3.14, 3.14, 3.14, 3.14, 3.14],\n",
       "       [3.14, 3.14, 3.14, 3.14, 3.14],\n",
       "       [3.14, 3.14, 3.14, 3.14, 3.14]])"
      ]
     },
     "execution_count": 11,
     "metadata": {},
     "output_type": "execute_result"
    }
   ],
   "source": [
    "# full()\n",
    "np.full((3,5), 3.14)"
   ]
  },
  {
   "cell_type": "code",
   "execution_count": 12,
   "metadata": {},
   "outputs": [
    {
     "data": {
      "text/plain": [
       "array([['read', 'write'],\n",
       "       ['read', 'write']], dtype='<U5')"
      ]
     },
     "execution_count": 12,
     "metadata": {},
     "output_type": "execute_result"
    }
   ],
   "source": [
    "# full()\n",
    "np.full((2,2), ['read','write'])"
   ]
  },
  {
   "cell_type": "code",
   "execution_count": 13,
   "metadata": {},
   "outputs": [
    {
     "data": {
      "text/plain": [
       "array([[13, 16,  1,  4,  4,  8, 10, 19,  5,  7],\n",
       "       [22, 11, 16, 17, 24, 27, 15, 23, 18, 19]])"
      ]
     },
     "execution_count": 13,
     "metadata": {},
     "output_type": "execute_result"
    }
   ],
   "source": [
    "# full()\n",
    "np.full((2,10), [list1,list2])"
   ]
  },
  {
   "cell_type": "markdown",
   "metadata": {},
   "source": [
    "# .arrange()\n",
    "Return evenly spaced values within a given interval.<br>\n",
    "Syntax:\n",
    "```python\n",
    "numpy.arange([start, ]stop, [step, ]dtype=None, *, like=None)\n",
    "```"
   ]
  },
  {
   "cell_type": "code",
   "execution_count": 14,
   "metadata": {},
   "outputs": [
    {
     "data": {
      "text/plain": [
       "array([ 0,  2,  4,  6,  8, 10, 12, 14, 16, 18])"
      ]
     },
     "execution_count": 14,
     "metadata": {},
     "output_type": "execute_result"
    }
   ],
   "source": [
    "np.arange(0,20,2)"
   ]
  },
  {
   "cell_type": "markdown",
   "metadata": {},
   "source": [
    "# .random()\n",
    "Return random value of given shape.<br>\n",
    "Syntax:\n",
    "```python\n",
    "numpy.random.random(shape, dtype=None)\n",
    "```"
   ]
  },
  {
   "cell_type": "code",
   "execution_count": 15,
   "metadata": {},
   "outputs": [
    {
     "data": {
      "text/plain": [
       "array([[0.64817187, 0.36824154, 0.95715516, 0.14035078, 0.87008726],\n",
       "       [0.47360805, 0.80091075, 0.52047748, 0.67887953, 0.72063265],\n",
       "       [0.58201979, 0.53737323, 0.75861562, 0.10590761, 0.47360042]])"
      ]
     },
     "execution_count": 15,
     "metadata": {},
     "output_type": "execute_result"
    }
   ],
   "source": [
    "np.random.random((3,5))"
   ]
  },
  {
   "cell_type": "markdown",
   "metadata": {},
   "source": [
    "# .normal()\n",
    "Draw random samples from a normal (Gaussian) distribution.<br>\n",
    "Syntax:\n",
    "```python\n",
    "random.normal(loc=0.0, scale=1.0, size=None)\n",
    "```"
   ]
  },
  {
   "cell_type": "code",
   "execution_count": 16,
   "metadata": {},
   "outputs": [
    {
     "data": {
      "text/plain": [
       "array([[ 0.59124281, -0.7827755 , -0.44423283],\n",
       "       [-0.34518616, -0.88180055, -0.44265324],\n",
       "       [-0.5409163 , -1.32322737, -0.11279892]])"
      ]
     },
     "execution_count": 16,
     "metadata": {},
     "output_type": "execute_result"
    }
   ],
   "source": [
    "np.random.normal(loc=0, scale=1,size=(3,3))"
   ]
  },
  {
   "cell_type": "markdown",
   "metadata": {},
   "source": [
    "# .randint()\n",
    "Return random integers from low (inclusive) to high (exclusive).<br>\n",
    "Syntax:\n",
    "```python\n",
    "random.randint(low, high=None, size=None, dtype=int)\n",
    "```"
   ]
  },
  {
   "cell_type": "code",
   "execution_count": 17,
   "metadata": {},
   "outputs": [
    {
     "data": {
      "text/plain": [
       "array([[8, 1, 1],\n",
       "       [7, 9, 9],\n",
       "       [3, 6, 7]])"
      ]
     },
     "execution_count": 17,
     "metadata": {},
     "output_type": "execute_result"
    }
   ],
   "source": [
    "np.random.randint(low=0, high=10, size=(3,3))"
   ]
  },
  {
   "cell_type": "markdown",
   "metadata": {},
   "source": [
    "# Creating sample_array"
   ]
  },
  {
   "cell_type": "code",
   "execution_count": 18,
   "metadata": {},
   "outputs": [],
   "source": [
    "sample_array= np.array([\n",
    "    [1,2,3],\n",
    "    [4,5,6],\n",
    "    [7,8,9]\n",
    "])"
   ]
  },
  {
   "cell_type": "code",
   "execution_count": 19,
   "metadata": {},
   "outputs": [
    {
     "name": "stdout",
     "output_type": "stream",
     "text": [
      "The dimension of [[1 2 3]\n",
      " [4 5 6]\n",
      " [7 8 9]] is 2\n"
     ]
    }
   ],
   "source": [
    "# Printing the dimension of numpy\n",
    "print(f\"The dimension of {sample_array} is {sample_array.ndim}\")"
   ]
  },
  {
   "cell_type": "code",
   "execution_count": 20,
   "metadata": {},
   "outputs": [
    {
     "data": {
      "text/plain": [
       "array([[[1, 2, 3],\n",
       "        [4, 5, 6],\n",
       "        [7, 8, 9]]])"
      ]
     },
     "execution_count": 20,
     "metadata": {},
     "output_type": "execute_result"
    }
   ],
   "source": [
    "sample_array.reshape(1,3,3)"
   ]
  },
  {
   "cell_type": "code",
   "execution_count": 21,
   "metadata": {},
   "outputs": [],
   "source": [
    "sample_array= np.array([\n",
    "    [[1,2,3],\n",
    "    [4,5,6],\n",
    "    [7,8,9]]\n",
    "])"
   ]
  },
  {
   "cell_type": "code",
   "execution_count": 22,
   "metadata": {},
   "outputs": [
    {
     "name": "stdout",
     "output_type": "stream",
     "text": [
      "The dimension of [[[1 2 3]\n",
      "  [4 5 6]\n",
      "  [7 8 9]]] is 3\n"
     ]
    }
   ],
   "source": [
    "print(f\"The dimension of {sample_array} is {sample_array.ndim}\")"
   ]
  },
  {
   "cell_type": "code",
   "execution_count": 23,
   "metadata": {},
   "outputs": [
    {
     "data": {
      "text/plain": [
       "(1, 3, 3)"
      ]
     },
     "execution_count": 23,
     "metadata": {},
     "output_type": "execute_result"
    }
   ],
   "source": [
    "sample_array.shape"
   ]
  },
  {
   "cell_type": "code",
   "execution_count": 24,
   "metadata": {},
   "outputs": [
    {
     "name": "stdout",
     "output_type": "stream",
     "text": [
      "The size of [[[1 2 3]\n",
      "  [4 5 6]\n",
      "  [7 8 9]]] is 9\n"
     ]
    }
   ],
   "source": [
    "print(f\"The size of {sample_array} is {sample_array.size}\")"
   ]
  },
  {
   "cell_type": "code",
   "execution_count": 25,
   "metadata": {},
   "outputs": [
    {
     "name": "stdout",
     "output_type": "stream",
     "text": [
      "The data type of [[[1 2 3]\n",
      "  [4 5 6]\n",
      "  [7 8 9]]] is int32\n"
     ]
    }
   ],
   "source": [
    "print(f\"The data type of {sample_array} is {sample_array.dtype}\")"
   ]
  },
  {
   "cell_type": "code",
   "execution_count": 26,
   "metadata": {},
   "outputs": [
    {
     "name": "stdout",
     "output_type": "stream",
     "text": [
      "The item size of [[[1 2 3]\n",
      "  [4 5 6]\n",
      "  [7 8 9]]] is 4\n"
     ]
    }
   ],
   "source": [
    "print(f\"The item size of {sample_array} is {sample_array.itemsize}\")"
   ]
  },
  {
   "cell_type": "code",
   "execution_count": 27,
   "metadata": {},
   "outputs": [],
   "source": [
    "name = [\"nares\",1,2]\n",
    "arr = np.array(name)"
   ]
  },
  {
   "cell_type": "code",
   "execution_count": 28,
   "metadata": {},
   "outputs": [
    {
     "data": {
      "text/plain": [
       "array(['nares', '1', '2'], dtype='<U11')"
      ]
     },
     "execution_count": 28,
     "metadata": {},
     "output_type": "execute_result"
    }
   ],
   "source": [
    "arr"
   ]
  },
  {
   "cell_type": "markdown",
   "metadata": {},
   "source": [
    "# Why arr is printed all string?\n",
    "NumPy array arr are printed as strings is because NumPy arrays require all elements to be of the same data type. When you create an array from a list that contains elements of different types (like strings and integers in your case), NumPy will automatically convert all elements to a common data type that can accommodate all the elements.<br>\n",
    "since one of the elements in the name list is a string (\"nares\"), NumPy converts all elements to strings to maintain a uniform data type within the array. As a result, both the integer 1 and 2 are converted to strings as well.\n",
    "# To maintain their original data types:\n",
    "By specifying dtype=object, you're telling NumPy to treat each element of the array as a generic Python object.  However, note that operating on arrays with dtype=object can sometimes be less efficient compared to arrays with homogeneous data types."
   ]
  },
  {
   "cell_type": "code",
   "execution_count": 29,
   "metadata": {},
   "outputs": [
    {
     "name": "stdout",
     "output_type": "stream",
     "text": [
      "['nares' 1 2]\n"
     ]
    }
   ],
   "source": [
    "name = [\"nares\",1,2]\n",
    "arr = np.array(name, dtype='object')\n",
    "print(arr)"
   ]
  },
  {
   "cell_type": "code",
   "execution_count": 30,
   "metadata": {},
   "outputs": [
    {
     "data": {
      "text/plain": [
       "numpy.ndarray"
      ]
     },
     "execution_count": 30,
     "metadata": {},
     "output_type": "execute_result"
    }
   ],
   "source": [
    "type(arr)"
   ]
  },
  {
   "cell_type": "code",
   "execution_count": 31,
   "metadata": {},
   "outputs": [
    {
     "name": "stdout",
     "output_type": "stream",
     "text": [
      "<class 'str'>\n",
      "<class 'int'>\n",
      "<class 'int'>\n"
     ]
    }
   ],
   "source": [
    "for item in arr:\n",
    "    print(type(item))"
   ]
  },
  {
   "cell_type": "markdown",
   "metadata": {},
   "source": [
    "# making list as array homogeneous data type properties"
   ]
  },
  {
   "cell_type": "code",
   "execution_count": 32,
   "metadata": {},
   "outputs": [
    {
     "name": "stdout",
     "output_type": "stream",
     "text": [
      "['True', 'False', '1', '3.4', 'ram']\n",
      "<class '__main__.Array'>\n"
     ]
    }
   ],
   "source": [
    "class Array:\n",
    "    def array_list(self, data_list):\n",
    "      d_type = []\n",
    "      array_list = []\n",
    "      for item in data_list:\n",
    "        d_type.append(type(item))\n",
    "      if str in d_type:\n",
    "        for item in data_list:\n",
    "          array_list.append(str(item))\n",
    "      elif float in d_type:\n",
    "        for item in data_list:\n",
    "          array_list.append(float(item))\n",
    "      elif bool in d_type:\n",
    "        for item in data_list:\n",
    "          array_list.append(int(item))\n",
    "      else:\n",
    "        for item in data_list:\n",
    "          array_list.append(int(item))\n",
    "        \n",
    "      return array_list\n",
    "\n",
    "\n",
    "if __name__ == \"__main__\":\n",
    "    l = [True , False, 1,3.4,\"ram\"]\n",
    "    arr= Array()\n",
    "    print(arr.array_list(data_list=l))\n",
    "    print(type(arr))"
   ]
  },
  {
   "cell_type": "code",
   "execution_count": 33,
   "metadata": {},
   "outputs": [],
   "source": [
    "import numpy as np\n",
    "arra_01 = np.array([], dtype='int32')"
   ]
  },
  {
   "cell_type": "code",
   "execution_count": 34,
   "metadata": {},
   "outputs": [
    {
     "data": {
      "text/plain": [
       "numpy.ndarray"
      ]
     },
     "execution_count": 34,
     "metadata": {},
     "output_type": "execute_result"
    }
   ],
   "source": [
    "type(arra_01)"
   ]
  },
  {
   "cell_type": "code",
   "execution_count": 35,
   "metadata": {},
   "outputs": [
    {
     "ename": "ValueError",
     "evalue": "invalid literal for int() with base 10: 'ste'",
     "output_type": "error",
     "traceback": [
      "\u001b[1;31m---------------------------------------------------------------------------\u001b[0m",
      "\u001b[1;31mValueError\u001b[0m                                Traceback (most recent call last)",
      "Cell \u001b[1;32mIn[35], line 1\u001b[0m\n\u001b[1;32m----> 1\u001b[0m arr\u001b[38;5;241m=\u001b[39m \u001b[43mnp\u001b[49m\u001b[38;5;241;43m.\u001b[39;49m\u001b[43marray\u001b[49m\u001b[43m(\u001b[49m\u001b[43m[\u001b[49m\u001b[38;5;241;43m1\u001b[39;49m\u001b[43m,\u001b[49m\u001b[38;5;241;43m2\u001b[39;49m\u001b[43m,\u001b[49m\u001b[38;5;241;43m3\u001b[39;49m\u001b[43m,\u001b[49m\u001b[38;5;241;43m4\u001b[39;49m\u001b[43m,\u001b[49m\u001b[43m \u001b[49m\u001b[38;5;124;43m\"\u001b[39;49m\u001b[38;5;124;43mste\u001b[39;49m\u001b[38;5;124;43m\"\u001b[39;49m\u001b[43m]\u001b[49m\u001b[43m,\u001b[49m\u001b[43m \u001b[49m\u001b[43mdtype\u001b[49m\u001b[38;5;241;43m=\u001b[39;49m\u001b[38;5;28;43mint\u001b[39;49m\u001b[43m)\u001b[49m\n",
      "\u001b[1;31mValueError\u001b[0m: invalid literal for int() with base 10: 'ste'"
     ]
    }
   ],
   "source": [
    "arr= np.array([1,2,3,4, \"ste\"], dtype=int)"
   ]
  },
  {
   "cell_type": "code",
   "execution_count": null,
   "metadata": {},
   "outputs": [],
   "source": []
  },
  {
   "cell_type": "code",
   "execution_count": null,
   "metadata": {},
   "outputs": [],
   "source": []
  }
 ],
 "metadata": {
  "colab": {
   "provenance": []
  },
  "kernelspec": {
   "display_name": "Python 3 (ipykernel)",
   "language": "python",
   "name": "python3"
  },
  "language_info": {
   "codemirror_mode": {
    "name": "ipython",
    "version": 3
   },
   "file_extension": ".py",
   "mimetype": "text/x-python",
   "name": "python",
   "nbconvert_exporter": "python",
   "pygments_lexer": "ipython3",
   "version": "3.11.1"
  }
 },
 "nbformat": 4,
 "nbformat_minor": 4
}

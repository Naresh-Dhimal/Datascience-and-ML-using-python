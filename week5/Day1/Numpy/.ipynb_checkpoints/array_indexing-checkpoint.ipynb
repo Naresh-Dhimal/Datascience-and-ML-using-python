{
 "cells": [
  {
   "cell_type": "markdown",
   "metadata": {
    "id": "4K0tnDVtKy14"
   },
   "source": [
    "# Indexing and Slicing"
   ]
  },
  {
   "cell_type": "code",
   "execution_count": 1,
   "metadata": {
    "id": "CvGGfpOdLAp9"
   },
   "outputs": [],
   "source": [
    "# importing numpy\n",
    "import numpy as np\n"
   ]
  },
  {
   "cell_type": "code",
   "execution_count": 2,
   "metadata": {
    "id": "G-n5RNItLTq4"
   },
   "outputs": [],
   "source": [
    "np.random.seed(0)"
   ]
  },
  {
   "cell_type": "code",
   "execution_count": 3,
   "metadata": {
    "colab": {
     "base_uri": "https://localhost:8080/"
    },
    "id": "O6PJLgG8LgFR",
    "outputId": "afd077c9-03b4-4525-a693-10f42c170caf"
   },
   "outputs": [
    {
     "name": "stdout",
     "output_type": "stream",
     "text": [
      "[15 10 13 13 17 19 13 15 12 14]\n"
     ]
    }
   ],
   "source": [
    "a = np.array(np.random.randint(low=10, high=20, size=10))\n",
    "b = np.array(np.random.randint(low=30, high=50, size=10))\n",
    "print(a)"
   ]
  },
  {
   "cell_type": "code",
   "execution_count": 4,
   "metadata": {
    "colab": {
     "base_uri": "https://localhost:8080/"
    },
    "id": "z37NPUeWLriF",
    "outputId": "fa6b3089-7337-415c-8bb3-6799646716f7"
   },
   "outputs": [
    {
     "name": "stdout",
     "output_type": "stream",
     "text": [
      "1item : 15\n",
      "2item : 10\n",
      "3item : 13\n",
      "4item : 13\n",
      "5item : 17\n",
      "6item : 19\n",
      "7item : 13\n",
      "8item : 15\n",
      "9item : 12\n"
     ]
    }
   ],
   "source": [
    "for i in range(len(a)-1):\n",
    "  print(f'{i+1}item : {a[i]}')"
   ]
  },
  {
   "cell_type": "markdown",
   "metadata": {
    "id": "yUbH01d9OIv-"
   },
   "source": [
    "# 2D Array"
   ]
  },
  {
   "cell_type": "code",
   "execution_count": 5,
   "metadata": {
    "colab": {
     "base_uri": "https://localhost:8080/"
    },
    "id": "iEZooGIJMjw0",
    "outputId": "7e1eaec3-cd1e-4c84-95c1-ae8787d1e3e7"
   },
   "outputs": [
    {
     "data": {
      "text/plain": [
       "array([[15, 10, 13, 13, 17, 19, 13, 15, 12, 14],\n",
       "       [36, 42, 31, 36, 37, 44, 47, 35, 43, 38]])"
      ]
     },
     "execution_count": 5,
     "metadata": {},
     "output_type": "execute_result"
    }
   ],
   "source": [
    "arr_2d = np.array([a,b])\n",
    "arr_2d"
   ]
  },
  {
   "cell_type": "code",
   "execution_count": 6,
   "metadata": {
    "colab": {
     "base_uri": "https://localhost:8080/"
    },
    "id": "2SkdxMnZNZAC",
    "outputId": "ecb0564b-c767-4692-9eee-17a1bd386ae8"
   },
   "outputs": [
    {
     "name": "stdout",
     "output_type": "stream",
     "text": [
      "15\n",
      "10\n",
      "13\n",
      "13\n",
      "17\n",
      "19\n",
      "13\n",
      "15\n",
      "12\n",
      "14\n",
      "36\n",
      "42\n",
      "31\n",
      "36\n",
      "37\n",
      "44\n",
      "47\n",
      "35\n",
      "43\n",
      "38\n"
     ]
    }
   ],
   "source": [
    "row, col = arr_2d.shape\n",
    "for i in range(row):\n",
    "  for j in range(col):\n",
    "    print(arr_2d[i,j])"
   ]
  },
  {
   "cell_type": "code",
   "execution_count": 7,
   "metadata": {
    "colab": {
     "base_uri": "https://localhost:8080/"
    },
    "id": "71aMACaZNqF4",
    "outputId": "866aa242-2abe-437e-840a-2b301c254388"
   },
   "outputs": [
    {
     "data": {
      "text/plain": [
       "array([[15, 13, 17],\n",
       "       [36, 31, 37]])"
      ]
     },
     "execution_count": 7,
     "metadata": {},
     "output_type": "execute_result"
    }
   ],
   "source": [
    "arr_2d[0 : 2, :5:2]"
   ]
  },
  {
   "cell_type": "markdown",
   "metadata": {
    "id": "_Qrzh3bcRGd-"
   },
   "source": [
    "# Slicing 1D array"
   ]
  },
  {
   "cell_type": "code",
   "execution_count": 8,
   "metadata": {
    "colab": {
     "base_uri": "https://localhost:8080/"
    },
    "id": "R-ilAfZuNvEP",
    "outputId": "0f7f3b33-c013-4644-9754-f76dc99fe518"
   },
   "outputs": [
    {
     "data": {
      "text/plain": [
       "array([19, 14, 13, 10, 13, 15, 10, 12, 13, 18])"
      ]
     },
     "execution_count": 8,
     "metadata": {},
     "output_type": "execute_result"
    }
   ],
   "source": [
    "a = np.array(np.random.randint(low=10, high=20, size=10))\n",
    "a"
   ]
  },
  {
   "cell_type": "code",
   "execution_count": 9,
   "metadata": {
    "colab": {
     "base_uri": "https://localhost:8080/"
    },
    "id": "jLQMz-myPN5B",
    "outputId": "bafcf483-a84e-4e80-e532-d2cac7022348"
   },
   "outputs": [
    {
     "data": {
      "text/plain": [
       "array([14, 13, 10, 13])"
      ]
     },
     "execution_count": 9,
     "metadata": {},
     "output_type": "execute_result"
    }
   ],
   "source": [
    "a[1:5]"
   ]
  },
  {
   "cell_type": "code",
   "execution_count": 10,
   "metadata": {
    "colab": {
     "base_uri": "https://localhost:8080/"
    },
    "id": "cQdezLkgPRDk",
    "outputId": "8d386ba4-cdc3-41d0-bf03-83cc7537fdb3"
   },
   "outputs": [
    {
     "data": {
      "text/plain": [
       "array([12, 13])"
      ]
     },
     "execution_count": 10,
     "metadata": {},
     "output_type": "execute_result"
    }
   ],
   "source": [
    "a[-3:-1] # left to right"
   ]
  },
  {
   "cell_type": "code",
   "execution_count": 11,
   "metadata": {
    "colab": {
     "base_uri": "https://localhost:8080/"
    },
    "id": "88ERCmjEQE-J",
    "outputId": "ccc6c1bb-62ad-4ed4-ea82-92fb9ba633cd"
   },
   "outputs": [
    {
     "data": {
      "text/plain": [
       "array([12, 13, 18])"
      ]
     },
     "execution_count": 11,
     "metadata": {},
     "output_type": "execute_result"
    }
   ],
   "source": [
    "a[-3:] # left to right"
   ]
  },
  {
   "cell_type": "code",
   "execution_count": 12,
   "metadata": {
    "colab": {
     "base_uri": "https://localhost:8080/"
    },
    "id": "bMCecUG1QNLj",
    "outputId": "b70b7d4f-9e17-4e91-dd22-8d4549371f3a"
   },
   "outputs": [
    {
     "data": {
      "text/plain": [
       "array([19, 14, 13, 10, 13, 15, 10])"
      ]
     },
     "execution_count": 12,
     "metadata": {},
     "output_type": "execute_result"
    }
   ],
   "source": [
    "a[:-3] # left to right"
   ]
  },
  {
   "cell_type": "markdown",
   "metadata": {
    "id": "PsI3UDoQQ6f-"
   },
   "source": [
    "# Reverse"
   ]
  },
  {
   "cell_type": "code",
   "execution_count": 13,
   "metadata": {
    "colab": {
     "base_uri": "https://localhost:8080/"
    },
    "id": "tkpn9DP4QPk4",
    "outputId": "90c67b08-31b1-4bd6-b0cd-61d6068f27f7"
   },
   "outputs": [
    {
     "data": {
      "text/plain": [
       "array([18, 13, 12, 10, 15, 13, 10, 13, 14, 19])"
      ]
     },
     "execution_count": 13,
     "metadata": {},
     "output_type": "execute_result"
    }
   ],
   "source": [
    "a[::-1] # right to left"
   ]
  },
  {
   "cell_type": "markdown",
   "metadata": {
    "id": "rYs8UGQKUEZ0"
   },
   "source": [
    "# 2D slicing"
   ]
  },
  {
   "cell_type": "code",
   "execution_count": 14,
   "metadata": {
    "colab": {
     "base_uri": "https://localhost:8080/"
    },
    "id": "nLnvCLz8QXr8",
    "outputId": "98c34209-5a22-4348-e9a9-e06c974563b2"
   },
   "outputs": [
    {
     "data": {
      "text/plain": [
       "array([[15, 10, 13, 13, 17, 19, 13, 15, 12, 14],\n",
       "       [36, 42, 31, 36, 37, 44, 47, 35, 43, 38]])"
      ]
     },
     "execution_count": 14,
     "metadata": {},
     "output_type": "execute_result"
    }
   ],
   "source": [
    "arr_2d"
   ]
  },
  {
   "cell_type": "code",
   "execution_count": 15,
   "metadata": {
    "colab": {
     "base_uri": "https://localhost:8080/"
    },
    "id": "zMkDgoSLVRkA",
    "outputId": "73ec0326-e715-496f-b8fe-c5e52cd7daf8"
   },
   "outputs": [
    {
     "data": {
      "text/plain": [
       "array([[13, 17, 19],\n",
       "       [36, 37, 44]])"
      ]
     },
     "execution_count": 15,
     "metadata": {},
     "output_type": "execute_result"
    }
   ],
   "source": [
    "arr_2d[::,3:6]"
   ]
  },
  {
   "cell_type": "markdown",
   "metadata": {
    "id": "tkRJMzS_VOLA"
   },
   "source": [
    "# Copy and View"
   ]
  },
  {
   "cell_type": "markdown",
   "metadata": {
    "id": "6m1mPCL9WZcw"
   },
   "source": [
    "# .copy()"
   ]
  },
  {
   "cell_type": "code",
   "execution_count": 16,
   "metadata": {
    "id": "NP5PQb6lQleL"
   },
   "outputs": [],
   "source": [
    "# .copy() method to copy the value of base array\n",
    "copy_arr = arr_2d.copy()\n",
    "# hint: np.shares.memory(arr1, arr2)"
   ]
  },
  {
   "cell_type": "code",
   "execution_count": 17,
   "metadata": {
    "colab": {
     "base_uri": "https://localhost:8080/"
    },
    "id": "Pq4q2j4hRtxD",
    "outputId": "de6965a6-cb15-43a0-cee7-e4b872f15c55"
   },
   "outputs": [
    {
     "name": "stdout",
     "output_type": "stream",
     "text": [
      "Do original array and copy array shares an memory?\n",
      "Ans: False\n"
     ]
    }
   ],
   "source": [
    "print(f\"\"\"Do original array and copy array shares an memory?\n",
    "Ans: {np.shares_memory(arr_2d, copy_arr)}\"\"\")"
   ]
  },
  {
   "cell_type": "code",
   "execution_count": 18,
   "metadata": {
    "colab": {
     "base_uri": "https://localhost:8080/"
    },
    "id": "jW5lhzz0UYZ7",
    "outputId": "27fd6dc0-dfac-4410-bc1b-a2bc1ca97779"
   },
   "outputs": [
    {
     "name": "stdout",
     "output_type": "stream",
     "text": [
      "Do original array and copy array shares an memory?\n",
      "Ans: True\n"
     ]
    }
   ],
   "source": [
    "# here just assigning the base array to new variable\n",
    "copy_arr = arr_2d\n",
    "print(f\"\"\"Do original array and copy array shares an memory?\n",
    "Ans: {np.shares_memory(arr_2d, copy_arr)}\"\"\")"
   ]
  },
  {
   "cell_type": "markdown",
   "metadata": {
    "id": "dXQQfEiOWdQe"
   },
   "source": [
    "# .view()"
   ]
  },
  {
   "cell_type": "code",
   "execution_count": 19,
   "metadata": {
    "id": "yjMvK8qIVKyI"
   },
   "outputs": [],
   "source": [
    "# .view() method to view the value of base array\n",
    "view_arr = arr_2d.view()"
   ]
  },
  {
   "cell_type": "code",
   "execution_count": 20,
   "metadata": {
    "colab": {
     "base_uri": "https://localhost:8080/"
    },
    "id": "RoyhA06FWoMo",
    "outputId": "3cc5b7ce-a4a7-4d09-ebf3-e4c1d9dfce54"
   },
   "outputs": [
    {
     "name": "stdout",
     "output_type": "stream",
     "text": [
      "Do original array and view array shares an memory?\n",
      "Ans: True\n"
     ]
    }
   ],
   "source": [
    "print(f\"\"\"Do original array and view array shares an memory?\n",
    "Ans: {np.shares_memory(arr_2d, copy_arr)}\"\"\")"
   ]
  },
  {
   "cell_type": "code",
   "execution_count": null,
   "metadata": {
    "id": "UknlKvLtWsdr"
   },
   "outputs": [],
   "source": []
  },
  {
   "cell_type": "code",
   "execution_count": null,
   "metadata": {},
   "outputs": [],
   "source": []
  },
  {
   "cell_type": "code",
   "execution_count": null,
   "metadata": {},
   "outputs": [],
   "source": []
  }
 ],
 "metadata": {
  "colab": {
   "provenance": []
  },
  "kernelspec": {
   "display_name": "Python 3 (ipykernel)",
   "language": "python",
   "name": "python3"
  },
  "language_info": {
   "codemirror_mode": {
    "name": "ipython",
    "version": 3
   },
   "file_extension": ".py",
   "mimetype": "text/x-python",
   "name": "python",
   "nbconvert_exporter": "python",
   "pygments_lexer": "ipython3",
   "version": "3.11.1"
  }
 },
 "nbformat": 4,
 "nbformat_minor": 4
}

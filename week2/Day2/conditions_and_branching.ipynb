{
 "cells": [
  {
   "cell_type": "markdown",
   "metadata": {
    "id": "MvglpuaaLqhj"
   },
   "source": [
    "## Conditions and Branching.\n",
    "- `if`, `elif`, `else` keywords are used to accomplish conditions and branching in python.\n",
    "\n",
    "  ```\n",
    "  if case1:\n",
    "      perform action1\n",
    "    \n",
    "  elif case2:\n",
    "      perform action2\n",
    "\n",
    "  else:\n",
    "      perform action3\n",
    "  ```\n",
    "\n",
    "- Different comparison operators shown below, can be used with if statements.\n",
    "  - `Equals: a == b`\n",
    "  - `Not Equals: a != b`\n",
    "  - `Less than: a < b`\n",
    "  - `Less than or equal to: a <= b`\n",
    "  - `Greater than: a > b`\n",
    "  - `Greater than or equal to: a >= b`\n",
    "\n",
    "  ```\n",
    "  if a > b:\n",
    "      print(\"a is greater than b\")\n",
    "\n",
    "  elif a == b:\n",
    "      print(\"a is equal to b\")\n",
    "\n",
    "  else:\n",
    "      print(\"a is less than b\")\n",
    "  ```\n",
    "\n",
    "- In this lecture we'll cover:\n",
    "  - if statement: How program enters if block.\n",
    "  - Simple if else statements.\n",
    "  - Nested if else statements.\n",
    "  - Short Hand if....else statements / Ternary Operators\n",
    "  - pass keyword"
   ]
  },
  {
   "cell_type": "markdown",
   "metadata": {
    "id": "I6S9Qqz8QS4v"
   },
   "source": [
    "##1. if statement: How python program enters if blocks?\n",
    "\n",
    "`Hint: when if conditions is True`\n",
    "\n",
    "```\n",
    "if True:\n",
    "  print(\"if block goes here\")\n",
    "\n",
    "if False:\n",
    ";\n",
    "  print(\"if block goes here\")\n",
    "```"
   ]
  },
  {
   "cell_type": "code",
   "execution_count": 1,
   "metadata": {
    "id": "ezC-IIvtKzzI"
   },
   "outputs": [
    {
     "name": "stdout",
     "output_type": "stream",
     "text": [
      "if block goes here\n"
     ]
    }
   ],
   "source": [
    "# explain here\n",
    "\n",
    "if True:\n",
    "  print(\"if block goes here\")\n",
    " \n",
    "\n",
    "if False:\n",
    "  print(\"If block goes here\")"
   ]
  },
  {
   "cell_type": "markdown",
   "metadata": {
    "id": "9WXagrx5QyYk"
   },
   "source": [
    "- Python relies on Indentation (whitespace at the beginning of a line)\n",
    "  - Other programming languages often use curly-brackets for this purpose."
   ]
  },
  {
   "cell_type": "markdown",
   "metadata": {
    "id": "2idqIUn0RC5t"
   },
   "source": [
    "`Q.Try if statement without Indentation.`"
   ]
  },
  {
   "cell_type": "code",
   "execution_count": 2,
   "metadata": {
    "id": "TmMELBr8RCXv"
   },
   "outputs": [
    {
     "ename": "IndentationError",
     "evalue": "expected an indented block after 'if' statement on line 2 (833065042.py, line 3)",
     "output_type": "error",
     "traceback": [
      "\u001b[1;36m  Cell \u001b[1;32mIn[2], line 3\u001b[1;36m\u001b[0m\n\u001b[1;33m    print(\"if block statement\")\u001b[0m\n\u001b[1;37m    ^\u001b[0m\n\u001b[1;31mIndentationError\u001b[0m\u001b[1;31m:\u001b[0m expected an indented block after 'if' statement on line 2\n"
     ]
    }
   ],
   "source": [
    "# write your program here.\n",
    "if True:\n",
    "print(\"if block statement\")"
   ]
  },
  {
   "cell_type": "markdown",
   "metadata": {
    "id": "FRm1t1k7Ru6D"
   },
   "source": [
    "_`if statement, without indentation (will raise an error)`_\n",
    "\n",
    "\n",
    "\n"
   ]
  },
  {
   "cell_type": "markdown",
   "metadata": {
    "id": "4XRlodbLU1bU"
   },
   "source": [
    "##2. Simple if else statements\n",
    "- Generally, if statement has an optional elif, else clause.\n",
    "- **syntax 1**\n",
    "\n",
    "  ```\n",
    "  if condition:\n",
    "      # block of code if condition is True\n",
    "  \n",
    "  else:\n",
    "      # block of code if condition is False\n",
    "  ```\n",
    "\n",
    "- **syntax 2**\n",
    "\n",
    "  ```\n",
    "  if condition1:\n",
    "      # code block 1\n",
    "  \n",
    "  elif condition2:\n",
    "      # code block 2\n",
    "\n",
    "  else:\n",
    "      # code block 3\n",
    "  ```\n",
    "\n",
    "\n",
    " **Q1. Input number from user. print \"postive number\" if number is positive else print \"negative number. Consider 0 as positive as well.\"**\n",
    "\n"
   ]
  },
  {
   "cell_type": "code",
   "execution_count": 6,
   "metadata": {
    "id": "_M417gwzRKmf"
   },
   "outputs": [
    {
     "name": "stdin",
     "output_type": "stream",
     "text": [
      "Enter a number:  45\n"
     ]
    },
    {
     "name": "stdout",
     "output_type": "stream",
     "text": [
      "45 is positive number.\n"
     ]
    }
   ],
   "source": [
    " ## write your program here\n",
    "def check_positive(num):\n",
    "    if num >= 0:\n",
    "        print(f\"{num} is positive number.\")\n",
    "    else:\n",
    "        print(f'{num} is negative number.')\n",
    "        \n",
    "number = int(input(\"Enter a number: \"))\n",
    "check_positive(num=number)"
   ]
  },
  {
   "cell_type": "markdown",
   "metadata": {
    "id": "vX4GOQeDXtDv"
   },
   "source": [
    "**Q2. Input two numbers num1, and num2 from user,**\n",
    "  - _**if num1 > num2: print \"num1 > num2\"**_\n",
    "  - _**if num1 == num2: print \"num1 = num2\"**_\n",
    "  - _**if num1 < num2: print \"num1 < num2\"**_"
   ]
  },
  {
   "cell_type": "code",
   "execution_count": 10,
   "metadata": {
    "id": "3N7MZiOpXsG2"
   },
   "outputs": [
    {
     "name": "stdin",
     "output_type": "stream",
     "text": [
      "Enter a first number:  13\n",
      "Enter a second number:  1\n"
     ]
    },
    {
     "name": "stdout",
     "output_type": "stream",
     "text": [
      "13 is greater than 1.\n"
     ]
    }
   ],
   "source": [
    "## write your program here\n",
    "def check_greater(num1, num2):\n",
    "    if num1 > num2:\n",
    "        print(f\"{num1} is greater than {num2}.\")\n",
    "    if num1 == num2:\n",
    "        print(f\"{num1} is equal to {num2}.\")\n",
    "    if num1 < num2:\n",
    "        print(f\"{num1} is less than {num2}.\")\n",
    "\n",
    "number1 = int(input(\"Enter a first number: \"))\n",
    "number2 = int(input(\"Enter a second number: \"))\n",
    "check_greater(num1=number1, num2=number2)"
   ]
  },
  {
   "cell_type": "markdown",
   "metadata": {
    "id": "CZLxsunEYuDY"
   },
   "source": [
    "##3. Nested if else statements.\n",
    "- if or else statements inside if or else statements.\n",
    "\n",
    "- **Syntax:**\n",
    "  ```\n",
    "  if condition1:\n",
    "    if condition:\n",
    "      # code block\n",
    "    else:\n",
    "      # code block\n",
    "\n",
    "  elif condition2:\n",
    "    if condition:\n",
    "      # code block\n",
    "    else:\n",
    "      # code block\n",
    "  \n",
    "  :::::::::::::::::\n",
    "  :::::::::::::::::\n",
    "\n",
    "  else:\n",
    "    if condition:\n",
    "      # code block\n",
    "\n",
    "    elif condition:\n",
    "      # code block\n",
    "    else:\n",
    "      # code block\n",
    "  ```"
   ]
  },
  {
   "cell_type": "markdown",
   "metadata": {
    "id": "k1-Yny8Yeezg"
   },
   "source": [
    "**Q. Write a python program to find max of three numbers.**\n",
    "\n",
    "```\n",
    "Given three numbers num1, num2, num3\n",
    "\n",
    "if num1 > num2:\n",
    "  if num1 > num3:\n",
    "    print(f\"max number: {num1}\")\n",
    "  else:\n",
    "    print(f\"max number: {num3}\")\n",
    "\n",
    "\n",
    "else:\n",
    "  if num2 > num3:\n",
    "    print(f\"max number: {num2}\")\n",
    "  else:\n",
    "    print(f\"max number: {num3}\")\n",
    "```\n",
    "\n",
    "\n",
    "\n"
   ]
  },
  {
   "cell_type": "code",
   "execution_count": 11,
   "metadata": {
    "id": "2Kr8jw0GYizG"
   },
   "outputs": [
    {
     "name": "stdin",
     "output_type": "stream",
     "text": [
      "Enter a first number:  13\n",
      "Enter a second number:  12\n",
      "Enter a third number:  5\n"
     ]
    },
    {
     "name": "stdout",
     "output_type": "stream",
     "text": [
      "13 is greater than 12 and 5.\n"
     ]
    }
   ],
   "source": [
    "## write your program here\n",
    "def check_max(num1,num2,num3):\n",
    "    if num1 > num2:\n",
    "        if num1 > num3:\n",
    "            print(f\"{num1} is greater than {num2} and {num3}.\")\n",
    "        else: \n",
    "            print(f\"{num3} is greater than {num1} and {num2}.\")\n",
    "    else:\n",
    "        if num2 > num3:\n",
    "            print(f\"{num2} is greater than {num1} and {num2}.\")\n",
    "        else:\n",
    "            print(f\"{num3} is greater than {num1} and {num2}.\")\n",
    "\n",
    "first_number = int(input(\"Enter a first number: \"))\n",
    "second_number = int(input(\"Enter a second number: \"))\n",
    "third_number = int(input(\"Enter a third number: \"))\n",
    "\n",
    "check_max(num1=first_number,num2=second_number,num3=third_number)"
   ]
  },
  {
   "cell_type": "markdown",
   "metadata": {
    "id": "xAEwKbyj2pTz"
   },
   "source": [
    "##4. Short Hand if...else statements / Ternary Operators\n",
    "- It is way of writing if else statement in a single line of code.\n",
    "- Also, called Ternary operators.\n",
    "- **Syntax (simple if else)**\n",
    "\n",
    "  `<if_block> if <condition>  else  <else_block> `\n",
    "\n",
    "\n",
    "- **Syntax (nested simple if else)**\n",
    "\n",
    "  `(<code_block> if <condition> else <code_block>)` **if**  < if_condition >\n",
    "   **else** `(<code_block> if <condition> else <code_block>)`\n",
    "\n",
    "\n",
    "\n",
    "   **Q1. Write a python program to print max of 2 numbers using ternary operator.**\n",
    "\n",
    "      ```\n",
    "      Input: a = 20, b = 30\n",
    "      Output: Max number is 30\n",
    "      ```\n"
   ]
  },
  {
   "cell_type": "code",
   "execution_count": 13,
   "metadata": {
    "id": "En4idN1K2mbm"
   },
   "outputs": [
    {
     "data": {
      "text/plain": [
       "'Max number is 30.'"
      ]
     },
     "execution_count": 13,
     "metadata": {},
     "output_type": "execute_result"
    }
   ],
   "source": [
    "## write your Ternary program here\n",
    "num1 = 20\n",
    "num2 = 30\n",
    "f'Max number is {num1}.' if num1 > num2 else f\"Max number is {num2}.\""
   ]
  },
  {
   "cell_type": "markdown",
   "metadata": {
    "id": "HlaAYU6T6V1x"
   },
   "source": [
    "**Q2. Write a python program to print max of 3 numbers using ternary operator.**"
   ]
  },
  {
   "cell_type": "code",
   "execution_count": 31,
   "metadata": {
    "id": "ky0kf5MB6eet"
   },
   "outputs": [
    {
     "data": {
      "text/plain": [
       "'Max number is 400.'"
      ]
     },
     "execution_count": 31,
     "metadata": {},
     "output_type": "execute_result"
    }
   ],
   "source": [
    "## write your program here\n",
    "# max between three numbers\n",
    "num1 = 60\n",
    "num2 = 400\n",
    "num3 = 50\n",
    "(f'Max number is {num1}.' if num1 > num3 else f'Max number is {num3}') if num1 > num2  else (f'Max number is {num2}.' if num2 > num3 else f'Max number is {num3}.')"
   ]
  },
  {
   "cell_type": "code",
   "execution_count": 35,
   "metadata": {},
   "outputs": [
    {
     "name": "stdout",
     "output_type": "stream",
     "text": [
      "400\n"
     ]
    }
   ],
   "source": [
    "(print(f'{num1}')if num1> num3 else print(f\"{num3}\") ) if num1 > num2 else (print(f'{num2}')  if num2 > num3 else print(f\"{num3}\"))"
   ]
  },
  {
   "cell_type": "code",
   "execution_count": 36,
   "metadata": {},
   "outputs": [],
   "source": [
    "# () if else () nested if-else statement  ternary operators"
   ]
  },
  {
   "cell_type": "markdown",
   "metadata": {
    "id": "RQrLzpAA6sh8"
   },
   "source": [
    "## 5. Pass Keyword\n",
    "- `pass` keyword acts as a placeholder for code to be added in if..else block.\n",
    "\n",
    "- **Use case**\n",
    "  - consider case, when you want to determine your python code structure in advance before adding actual code.\n",
    "\n",
    "- **Syntax:**\n",
    "\n",
    "  ```\n",
    "  if <condition>:\n",
    "    pass\n",
    "  else <condition>:\n",
    "    pass\n",
    "  ```"
   ]
  },
  {
   "cell_type": "code",
   "execution_count": 41,
   "metadata": {
    "id": "m_zFUnMs65_C"
   },
   "outputs": [],
   "source": [
    "## write your program using \"pass\" keyword\n",
    "if True:\n",
    "  pass\n",
    "    \n",
    "else:\n",
    "  pass"
   ]
  },
  {
   "cell_type": "markdown",
   "metadata": {
    "id": "j5rQsUXT8hn7"
   },
   "source": [
    "\n",
    "<hr>\n",
    "<h2>Congratulations, you have completed your hands-on lab in Python Conditions and Branching.\n",
    "<hr>\n"
   ]
  }
 ],
 "metadata": {
  "colab": {
   "provenance": []
  },
  "kernelspec": {
   "display_name": "Python 3 (ipykernel)",
   "language": "python",
   "name": "python3"
  },
  "language_info": {
   "codemirror_mode": {
    "name": "ipython",
    "version": 3
   },
   "file_extension": ".py",
   "mimetype": "text/x-python",
   "name": "python",
   "nbconvert_exporter": "python",
   "pygments_lexer": "ipython3",
   "version": "3.11.1"
  }
 },
 "nbformat": 4,
 "nbformat_minor": 4
}

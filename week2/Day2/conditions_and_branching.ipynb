{
 "cells": [
  {
   "cell_type": "markdown",
   "metadata": {
    "id": "MvglpuaaLqhj"
   },
   "source": [
    "## Conditions and Branching.\n",
    "- `if`, `elif`, `else` keywords are used to accomplish conditions and branching in python.\n",
    "\n",
    "  ```\n",
    "  if case1:\n",
    "      perform action1\n",
    "    \n",
    "  elif case2:\n",
    "      perform action2\n",
    "\n",
    "  else:\n",
    "      perform action3\n",
    "  ```\n",
    "\n",
    "- Different comparison operators shown below, can be used with if statements.\n",
    "  - `Equals: a == b`\n",
    "  - `Not Equals: a != b`\n",
    "  - `Less than: a < b`\n",
    "  - `Less than or equal to: a <= b`\n",
    "  - `Greater than: a > b`\n",
    "  - `Greater than or equal to: a >= b`\n",
    "\n",
    "  ```\n",
    "  if a > b:\n",
    "      print(\"a is greater than b\")\n",
    "\n",
    "  elif a == b:\n",
    "      print(\"a is equal to b\")\n",
    "\n",
    "  else:\n",
    "      print(\"a is less than b\")\n",
    "  ```\n",
    "\n",
    "- In this lecture we'll cover:\n",
    "  - if statement: How program enters if block.\n",
    "  - Simple if else statements.\n",
    "  - Nested if else statements.\n",
    "  - Short Hand if....else statements / Ternary Operators\n",
    "  - pass keyword"
   ]
  },
  {
   "cell_type": "markdown",
   "metadata": {
    "id": "I6S9Qqz8QS4v"
   },
   "source": [
    "##1. if statement: How python program enters if blocks?\n",
    "\n",
    "`Hint: when if conditions is True`\n",
    "\n",
    "```\n",
    "if True:\n",
    "  print(\"if block goes here\")\n",
    "\n",
    "if False:\n",
    ";\n",
    "  print(\"if block goes here\")\n",
    "```"
   ]
  },
  {
   "cell_type": "code",
   "execution_count": 1,
   "metadata": {
    "id": "ezC-IIvtKzzI"
   },
   "outputs": [
    {
     "name": "stdout",
     "output_type": "stream",
     "text": [
      "if block goes here\n"
     ]
    }
   ],
   "source": [
    "# explain here\n",
    "\n",
    "if True:\n",
    "  print(\"if block goes here\")\n",
    " \n",
    "\n",
    "if False:\n",
    "  print(\"If block goes here\")"
   ]
  },
  {
   "cell_type": "markdown",
   "metadata": {
    "id": "9WXagrx5QyYk"
   },
   "source": [
    "- Python relies on Indentation (whitespace at the beginning of a line)\n",
    "  - Other programming languages often use curly-brackets for this purpose."
   ]
  },
  {
   "cell_type": "markdown",
   "metadata": {
    "id": "2idqIUn0RC5t"
   },
   "source": [
    "`Q.Try if statement without Indentation.`"
   ]
  },
  {
   "cell_type": "code",
   "execution_count": 2,
   "metadata": {
    "id": "TmMELBr8RCXv"
   },
   "outputs": [
    {
     "ename": "IndentationError",
     "evalue": "expected an indented block after 'if' statement on line 2 (833065042.py, line 3)",
     "output_type": "error",
     "traceback": [
      "\u001b[1;36m  Cell \u001b[1;32mIn[2], line 3\u001b[1;36m\u001b[0m\n\u001b[1;33m    print(\"if block statement\")\u001b[0m\n\u001b[1;37m    ^\u001b[0m\n\u001b[1;31mIndentationError\u001b[0m\u001b[1;31m:\u001b[0m expected an indented block after 'if' statement on line 2\n"
     ]
    }
   ],
   "source": [
    "# write your program here.\n",
    "if True:\n",
    "print(\"if block statement\")"
   ]
  },
  {
   "cell_type": "markdown",
   "metadata": {
    "id": "FRm1t1k7Ru6D"
   },
   "source": [
    "_`if statement, without indentation (will raise an error)`_\n",
    "\n",
    "\n",
    "\n"
   ]
  },
  {
   "cell_type": "markdown",
   "metadata": {
    "id": "4XRlodbLU1bU"
   },
   "source": [
    "##2. Simple if else statements\n",
    "- Generally, if statement has an optional elif, else clause.\n",
    "- **syntax 1**\n",
    "\n",
    "  ```\n",
    "  if condition:\n",
    "      # block of code if condition is True\n",
    "  \n",
    "  else:\n",
    "      # block of code if condition is False\n",
    "  ```\n",
    "\n",
    "- **syntax 2**\n",
    "\n",
    "  ```\n",
    "  if condition1:\n",
    "      # code block 1\n",
    "  \n",
    "  elif condition2:\n",
    "      # code block 2\n",
    "\n",
    "  else:\n",
    "      # code block 3\n",
    "  ```\n",
    "\n",
    "\n",
    " **Q1. Input number from user. print \"postive number\" if number is positive else print \"negative number. Consider 0 as positive as well.\"**\n",
    "\n"
   ]
  },
  {
   "cell_type": "code",
   "execution_count": 6,
   "metadata": {
    "id": "_M417gwzRKmf"
   },
   "outputs": [
    {
     "name": "stdin",
     "output_type": "stream",
     "text": [
      "Enter a number:  45\n"
     ]
    },
    {
     "name": "stdout",
     "output_type": "stream",
     "text": [
      "45 is positive number.\n"
     ]
    }
   ],
   "source": [
    " ## write your program here\n",
    "def check_positive(num):\n",
    "    if num >= 0:\n",
    "        print(f\"{num} is positive number.\")\n",
    "    else:\n",
    "        print(f'{num} is negative number.')\n",
    "        \n",
    "number = int(input(\"Enter a number: \"))\n",
    "check_positive(num=number)"
   ]
  },
  {
   "cell_type": "markdown",
   "metadata": {
    "id": "vX4GOQeDXtDv"
   },
   "source": [
    "**Q2. Input two numbers num1, and num2 from user,**\n",
    "  - _**if num1 > num2: print \"num1 > num2\"**_\n",
    "  - _**if num1 == num2: print \"num1 = num2\"**_\n",
    "  - _**if num1 < num2: print \"num1 < num2\"**_"
   ]
  },
  {
   "cell_type": "code",
   "execution_count": 10,
   "metadata": {
    "id": "3N7MZiOpXsG2"
   },
   "outputs": [
    {
     "name": "stdin",
     "output_type": "stream",
     "text": [
      "Enter a first number:  13\n",
      "Enter a second number:  1\n"
     ]
    },
    {
     "name": "stdout",
     "output_type": "stream",
     "text": [
      "13 is greater than 1.\n"
     ]
    }
   ],
   "source": [
    "## write your program here\n",
    "def check_greater(num1, num2):\n",
    "    if num1 > num2:\n",
    "        print(f\"{num1} is greater than {num2}.\")\n",
    "    if num1 == num2:\n",
    "        print(f\"{num1} is equal to {num2}.\")\n",
    "    if num1 < num2:\n",
    "        print(f\"{num1} is less than {num2}.\")\n",
    "\n",
    "number1 = int(input(\"Enter a first number: \"))\n",
    "number2 = int(input(\"Enter a second number: \"))\n",
    "check_greater(num1=number1, num2=number2)"
   ]
  },
  {
   "cell_type": "markdown",
   "metadata": {
    "id": "CZLxsunEYuDY"
   },
   "source": [
    "##3. Nested if else statements.\n",
    "- if or else statements inside if or else statements.\n",
    "\n",
    "- **Syntax:**\n",
    "  ```\n",
    "  if condition1:\n",
    "    if condition:\n",
    "      # code block\n",
    "    else:\n",
    "      # code block\n",
    "\n",
    "  elif condition2:\n",
    "    if condition:\n",
    "      # code block\n",
    "    else:\n",
    "      # code block\n",
    "  \n",
    "  :::::::::::::::::\n",
    "  :::::::::::::::::\n",
    "\n",
    "  else:\n",
    "    if condition:\n",
    "      # code block\n",
    "\n",
    "    elif condition:\n",
    "      # code block\n",
    "    else:\n",
    "      # code block\n",
    "  ```"
   ]
  },
  {
   "cell_type": "markdown",
   "metadata": {
    "id": "k1-Yny8Yeezg"
   },
   "source": [
    "**Q. Write a python program to find max of three numbers.**\n",
    "\n",
    "```\n",
    "Given three numbers num1, num2, num3\n",
    "\n",
    "if num1 > num2:\n",
    "  if num1 > num3:\n",
    "    print(f\"max number: {num1}\")\n",
    "  else:\n",
    "    print(f\"max number: {num3}\")\n",
    "\n",
    "\n",
    "else:\n",
    "  if num2 > num3:\n",
    "    print(f\"max number: {num2}\")\n",
    "  else:\n",
    "    print(f\"max number: {num3}\")\n",
    "```\n",
    "\n",
    "\n",
    "\n"
   ]
  },
  {
   "cell_type": "code",
   "execution_count": 11,
   "metadata": {
    "id": "2Kr8jw0GYizG"
   },
   "outputs": [
    {
     "name": "stdin",
     "output_type": "stream",
     "text": [
      "Enter a first number:  13\n",
      "Enter a second number:  12\n",
      "Enter a third number:  5\n"
     ]
    },
    {
     "name": "stdout",
     "output_type": "stream",
     "text": [
      "13 is greater than 12 and 5.\n"
     ]
    }
   ],
   "source": [
    "## write your program here\n",
    "def check_max(num1,num2,num3):\n",
    "    if num1 > num2:\n",
    "        if num1 > num3:\n",
    "            print(f\"{num1} is greater than {num2} and {num3}.\")\n",
    "        else: \n",
    "            print(f\"{num3} is greater than {num1} and {num2}.\")\n",
    "    else:\n",
    "        if num2 > num3:\n",
    "            print(f\"{num2} is greater than {num1} and {num2}.\")\n",
    "        else:\n",
    "            print(f\"{num3} is greater than {num1} and {num2}.\")\n",
    "\n",
    "first_number = int(input(\"Enter a first number: \"))\n",
    "second_number = int(input(\"Enter a second number: \"))\n",
    "third_number = int(input(\"Enter a third number: \"))\n",
    "\n",
    "check_max(num1=first_number,num2=second_number,num3=third_number)"
   ]
  },
  {
   "cell_type": "markdown",
   "metadata": {
    "id": "xAEwKbyj2pTz"
   },
   "source": [
    "##4. Short Hand if...else statements / Ternary Operators\n",
    "- It is way of writing if else statement in a single line of code.\n",
    "- Also, called Ternary operators.\n",
    "- **Syntax (simple if else)**\n",
    "\n",
    "  `<if_block> if <condition>  else  <else_block> `\n",
    "\n",
    "\n",
    "- **Syntax (nested simple if else)**\n",
    "\n",
    "  `(<code_block> if <condition> else <code_block>)` **if**  < if_condition >\n",
    "   **else** `(<code_block> if <condition> else <code_block>)`\n",
    "\n",
    "\n",
    "\n",
    "   **Q1. Write a python program to print max of 2 numbers using ternary operator.**\n",
    "\n",
    "      ```\n",
    "      Input: a = 20, b = 30\n",
    "      Output: Max number is 30\n",
    "      ```\n"
   ]
  },
  {
   "cell_type": "code",
   "execution_count": 13,
   "metadata": {
    "id": "En4idN1K2mbm"
   },
   "outputs": [
    {
     "data": {
      "text/plain": [
       "'Max number is 30.'"
      ]
     },
     "execution_count": 13,
     "metadata": {},
     "output_type": "execute_result"
    }
   ],
   "source": [
    "## write your Ternary program here\n",
    "num1 = 20\n",
    "num2 = 30\n",
    "f'Max number is {num1}.' if num1 > num2 else f\"Max number is {num2}.\""
   ]
  },
  {
   "cell_type": "markdown",
   "metadata": {
    "id": "HlaAYU6T6V1x"
   },
   "source": [
    "**Q2. Write a python program to print max of 3 numbers using ternary operator.**"
   ]
  },
  {
   "cell_type": "code",
   "execution_count": 31,
   "metadata": {
    "id": "ky0kf5MB6eet"
   },
   "outputs": [
    {
     "data": {
      "text/plain": [
       "'Max number is 400.'"
      ]
     },
     "execution_count": 31,
     "metadata": {},
     "output_type": "execute_result"
    }
   ],
   "source": [
    "## write your program here\n",
    "# max between three numbers\n",
    "num1 = 60\n",
    "num2 = 400\n",
    "num3 = 50\n",
    "(f'Max number is {num1}.' if num1 > num3 else f'Max number is {num3}') if num1 > num2  else (f'Max number is {num2}.' if num2 > num3 else f'Max number is {num3}.')"
   ]
  },
  {
   "cell_type": "code",
   "execution_count": 35,
   "metadata": {},
   "outputs": [
    {
     "name": "stdout",
     "output_type": "stream",
     "text": [
      "400\n"
     ]
    }
   ],
   "source": [
    "(print(f'{num1}')if num1> num3 else print(f\"{num3}\") ) if num1 > num2 else (print(f'{num2}')  if num2 > num3 else print(f\"{num3}\"))"
   ]
  },
  {
   "cell_type": "code",
   "execution_count": 36,
   "metadata": {},
   "outputs": [],
   "source": [
    "# () if else () nested if-else statement  ternary operators"
   ]
  },
  {
   "cell_type": "raw",
   "metadata": {
    "id": "RQrLzpAA6sh8"
   },
   "source": [
    "## 5. Pass Keyword\n",
    "- `pass` keyword acts as a placeholder for code to be added in if..else block.\n",
    "\n",
    "- **Use case**\n",
    "  - consider case, when you want to determine your python code structure in advance before adding actual code.\n",
    "\n",
    "- **Syntax:**\n",
    "\n",
    "  ```\n",
    "  if <condition>:\n",
    "    pass\n",
    "  else <condition>:\n",
    "    pass\n",
    "  ```"
   ]
  },
  {
   "cell_type": "code",
   "execution_count": 41,
   "metadata": {
    "id": "m_zFUnMs65_C"
   },
   "outputs": [],
   "source": [
    "## write your program using \"pass\" keyword\n",
    "if True:\n",
    "  pass\n",
    "    \n",
    "else:\n",
    "  pass"
   ]
  },
  {
   "cell_type": "markdown",
   "metadata": {},
   "source": [
    "# Task 01: Grading System Exercise\n",
    "\n",
    "## Objective\n",
    "Create a simple grading system where a student's score is entered, and the program determines the corresponding grade.\n",
    "\n",
    "## Requirements\n",
    "\n",
    "1. Get the student's score as input.\n",
    "2. Use the following grading scale:\n",
    "   - 90-100: A\n",
    "   - 80-89: B\n",
    "   - 70-79: C\n",
    "   - 60-69: D\n",
    "   - Below 60: F\n",
    "3. Print the grade based on the input score.\n",
    "4. Handle cases where the entered score is not within the valid range (0-100)."
   ]
  },
  {
   "cell_type": "code",
   "execution_count": 1,
   "metadata": {},
   "outputs": [
    {
     "name": "stdin",
     "output_type": "stream",
     "text": [
      "Enter a Score:  12\n"
     ]
    },
    {
     "name": "stdout",
     "output_type": "stream",
     "text": [
      "Grade F\n"
     ]
    }
   ],
   "source": [
    "# Task 01 : solution\n",
    "def check_grade(score):\n",
    "    if score >= 90 and score <= 100:\n",
    "        print(\"Grade A\")\n",
    "    elif 80 <= score < 90:\n",
    "        print(\"Grade B\")\n",
    "    elif 70 <= score < 80:\n",
    "        print(\"Grade C\")\n",
    "    elif 60 <= score < 70:\n",
    "        print(\"Grade D\")\n",
    "    else:\n",
    "        print(\"Grade F\")\n",
    "def main():\n",
    "    try:\n",
    "        input_score = int(input(\"Enter a Score: \"))\n",
    "        if input_score >= 0 and input_score <= 100:\n",
    "            check_grade(score=input_score)\n",
    "        else:\n",
    "            raise ValueError(\"Invalid score provide score between 0-100.\")\n",
    "    except ValueError as e:\n",
    "        print(e)\n",
    "main()"
   ]
  },
  {
   "cell_type": "markdown",
   "metadata": {},
   "source": [
    "# Task 02: Ticket Price Calculator Exercise\n",
    "\n",
    "## Objective\n",
    "Create a program that calculates the ticket price for a movie based on the age and whether the customer is a student.\n",
    "\n",
    "## Requirements\n",
    "\n",
    "1. Get the user's age and whether they are a student (True or False) as input.\n",
    "2. Define the ticket prices:\n",
    "   - Children (age 0-12): \\$10\n",
    "   - Teenagers (age 13-17): \\$15\n",
    "   - Adults (age 18 and above): $20\n",
    "   - Students (regardless of age): \\$18 (discounted price)\n",
    "3. Calculate and print the ticket price based on the user's age and student status.\n",
    "4. Handle cases where the entered age is not a valid numeric value.\n",
    "5. Provide a message for cases where the age is negative or non-integer."
   ]
  },
  {
   "cell_type": "code",
   "execution_count": 56,
   "metadata": {},
   "outputs": [
    {
     "name": "stdin",
     "output_type": "stream",
     "text": [
      "Enter a age: 12\n",
      "Are you student(True/False)?  false\n"
     ]
    },
    {
     "name": "stdout",
     "output_type": "stream",
     "text": [
      "The ticket price is $10.\n"
     ]
    }
   ],
   "source": [
    "# Task 02 : solution\n",
    "# function for calculating  ticket price\n",
    "def calculate_ticket_price(age, student):\n",
    "    # ticket_price_for_children\n",
    "    children = \"$10\"\n",
    "    # ticket_price_for_teenagers\n",
    "    teenagers = \"$15\"\n",
    "    # ticket_price_for_teenagers\n",
    "    adults = \"$20\"\n",
    "    # ticket_price_for_students\n",
    "    students = \"$18\"\n",
    "\n",
    "    # check if student or not\n",
    "    if student == \"True\":\n",
    "        print(f'The ticket price is {students}.')\n",
    "    else:\n",
    "        # age group of 0 - 12(children)\n",
    "        if age <= 12:\n",
    "            print(f\"The ticket price is {children}.\")\n",
    "        # age group of 13 - 17(teenagers)\n",
    "        elif age <= 17:\n",
    "            print(f\"The ticket price is {teenagers}.\")\n",
    "        # age group of 18 and above(adults)\n",
    "        else:\n",
    "            print(f'The ticket price is {adults}.')\n",
    "    \n",
    "# function_for_exception_handling        \n",
    "def main():\n",
    "    try:\n",
    "        # taking input of age from user\n",
    "        input_age = int(input(\"Enter a age:\"))\n",
    "        # validating age\n",
    "        if (input_age < 0 or input_age > 80):\n",
    "            # handling input_age exception\n",
    "            raise ValueError(\"Invalid age(either less than Zero or more than 80).\")\n",
    "        # taking input of student from user\n",
    "        student = input(\"Are you student(True/False)? \").title()\n",
    "        # validating student or not\n",
    "        if student not in \"TrueFalse\":\n",
    "            # handling student exception\n",
    "            raise ValueError(\"You have not enter(True/False).\")\n",
    "        else:\n",
    "            # calling calculate_ticket_price function\n",
    "            calculate_ticket_price(age=input_age,student=student)\n",
    "    except ValueError as e:\n",
    "        # displaying exception message\n",
    "        print(e)\n",
    "# calling main() function\n",
    "main()"
   ]
  },
  {
   "cell_type": "markdown",
   "metadata": {},
   "source": [
    "# Task 03: Word Frequency Counter\n",
    "\n",
    "## Objective\n",
    "Create a program that analyzes a given text and counts the frequency of each unique word.\n",
    "\n",
    "## Requirements\n",
    "\n",
    "1. Ask the user to input a paragraph or sentence.\n",
    "2. Tokenize the input into words (ignoring punctuation and case sensitivity).\n",
    "3. Count the frequency of each unique word.\n",
    "4. Display the word frequencies in alphabetical order.\n",
    "5. Handle cases where the input is empty."
   ]
  },
  {
   "cell_type": "code",
   "execution_count": 4,
   "metadata": {},
   "outputs": [
    {
     "name": "stdin",
     "output_type": "stream",
     "text": [
      "Enter a Sentence:  test\n"
     ]
    },
    {
     "name": "stdout",
     "output_type": "stream",
     "text": [
      "Sentence cannot be empty.\n"
     ]
    }
   ],
   "source": [
    "# Task 03: solution\n",
    "# function for finding frequency\n",
    "def find_frequency(sentence):\n",
    "    # spliting the sentence in words\n",
    "    new_sentence = sentence.lower().split()\n",
    "    # sort() the list in alphabetical order\n",
    "    new_sentence.sort()\n",
    "    # initializing new dict\n",
    "    output_freq = {}\n",
    "    # initial count is 1\n",
    "    count = 1\n",
    "    # iterable sort() list\n",
    "    for item in new_sentence:\n",
    "        # check item  is in new dict or not\n",
    "        if item in output_freq:\n",
    "            # if present than count increment by 1 and assign in same key\n",
    "            output_freq[item] += count\n",
    "        else:\n",
    "            # if not present than assign count = 1 \n",
    "            output_freq[item] = count\n",
    "    # return output_freq\n",
    "    return output_freq\n",
    "\n",
    "# function for exception handling\n",
    "def main():\n",
    "    try:\n",
    "        # taking input from user\n",
    "        sentence = input(\"Enter a Sentence: \")\n",
    "        # exception handling\n",
    "        if sentence.strip() == \"\":\n",
    "            raise ValueError(\"Sentence cannot be empty.\")\n",
    "        else:\n",
    "            final_output = find_frequency(sentence=sentence)\n",
    "            for key, value in final_output.items():\n",
    "                print(key, value)\n",
    "    except ValueError as e:\n",
    "        print(e)\n",
    "\n",
    "main()"
   ]
  },
  {
   "cell_type": "markdown",
   "metadata": {},
   "source": [
    "# Task 04: Magic Square Validator\n",
    "\n",
    "## Objective\n",
    "Create a program that checks if a given 3x3 matrix forms a magic square.\n",
    "\n",
    "## Requirements\n",
    "\n",
    "1. A magic square is a square matrix where the sums of the numbers in each row, column, and both main diagonals are the same.\n",
    "2. Ask the user to input a 3x3 matrix (nine integer values).\n",
    "3. Check and print whether the given matrix forms a magic square.\n",
    "4. Handle cases where the input matrix is not of size 3x3 or contains non-integer values."
   ]
  },
  {
   "cell_type": "code",
   "execution_count": null,
   "metadata": {},
   "outputs": [],
   "source": []
  },
  {
   "cell_type": "markdown",
   "metadata": {},
   "source": [
    "# Task 05: Palindromic Anagram Checker\n",
    "\n",
    "## Objective\n",
    "Create a program that checks if a given string can be rearranged to form a palindromic string.\n",
    "\n",
    "## Requirements\n",
    "\n",
    "1. A palindrome is a word, phrase, number, or other sequences of characters that reads the same forward and backward.\n",
    "2. Ask the user to input a string.\n",
    "3. Check and print whether the given string can be rearranged to form a palindrome.\n",
    "4. Ignore spaces and consider the characters in a case-insensitive manner.\n",
    "5. Handle cases where the input is empty or contains non-alphabetic characters."
   ]
  },
  {
   "cell_type": "code",
   "execution_count": 134,
   "metadata": {},
   "outputs": [
    {
     "name": "stdin",
     "output_type": "stream",
     "text": [
      " Enter a String:  rappra\n"
     ]
    },
    {
     "name": "stdout",
     "output_type": "stream",
     "text": [
      "a a p r p r\n",
      "not palindrome\n",
      "p r a a p r\n",
      "not palindrome\n",
      "p a r p r a\n",
      "not palindrome\n",
      "r p a p r a\n",
      "not palindrome\n",
      "p r a r a p\n",
      "not palindrome\n",
      "r a p p a r\n",
      "palindraom\n",
      "p a r r p a\n",
      "not palindrome\n",
      "p p a r a r\n",
      "not palindrome\n",
      "r r p a p a\n",
      "not palindrome\n",
      "r a a r p p\n",
      "not palindrome\n",
      "p r p a r a\n",
      "not palindrome\n",
      "p p r a r a\n",
      "not palindrome\n",
      "r p r a a p\n",
      "not palindrome\n",
      "a p r r a p\n",
      "not palindrome\n",
      "r a r a p p\n",
      "not palindrome\n",
      "p a r a r p\n",
      "not palindrome\n",
      "a r p a r p\n",
      "not palindrome\n",
      "r p p a a r\n",
      "not palindrome\n",
      "r p a p a r\n",
      "not palindrome\n",
      "p r a a r p\n",
      "palindraom\n",
      "a r a p p r\n",
      "not palindrome\n",
      "a a p r r p\n",
      "not palindrome\n",
      "a p r r p a\n",
      "palindraom\n",
      "r r a p p a\n",
      "not palindrome\n",
      "a p a r p r\n",
      "not palindrome\n",
      "p a a r p r\n",
      "not palindrome\n",
      "r p a r a p\n",
      "not palindrome\n",
      "r a r p a p\n",
      "not palindrome\n",
      "r p a r p a\n",
      "not palindrome\n",
      "a r r a p p\n",
      "not palindrome\n",
      "r a p r p a\n",
      "not palindrome\n",
      "p r r p a a\n",
      "not palindrome\n",
      "r p a a p r\n",
      "palindraom\n",
      "p r a p r a\n",
      "not palindrome\n",
      "a p r p a r\n",
      "not palindrome\n",
      "a a p p r r\n",
      "not palindrome\n",
      "p p r r a a\n",
      "not palindrome\n",
      "a p r p r a\n",
      "not palindrome\n",
      "r p p r a a\n",
      "not palindrome\n",
      "p r a r p a\n",
      "not palindrome\n",
      "a p r a r p\n",
      "not palindrome\n",
      "a a r r p p\n",
      "not palindrome\n",
      "a r p p r a\n",
      "palindraom\n",
      "r r a p a p\n",
      "not palindrome\n",
      "a r p a p r\n",
      "not palindrome\n",
      "r a r p p a\n",
      "not palindrome\n",
      "r a p r a p\n",
      "not palindrome\n",
      "a a r p r p\n",
      "not palindrome\n",
      "r a p p r a\n",
      "not palindrome\n",
      "r p r p a a\n",
      "not palindrome\n",
      "p p r a a r\n",
      "not palindrome\n",
      "p a a p r r\n",
      "not palindrome\n",
      "a p p r a r\n",
      "not palindrome\n",
      "p a r r a p\n",
      "palindraom\n",
      "a r r p a p\n",
      "not palindrome\n",
      "p r p r a a\n",
      "not palindrome\n",
      "a r r p p a\n",
      "not palindrome\n",
      "r a a p r p\n",
      "not palindrome\n",
      "p r a p a r\n",
      "not palindrome\n"
     ]
    }
   ],
   "source": [
    "# Task 05: Solution\n",
    "import random\n",
    "word = input(\" Enter a String: \")\n",
    "\n",
    "list_word = list(word) #converting to list\n",
    "lis = [] # initiaze empty list\n",
    "for index in range(100):\n",
    "    random.shuffle(list_word) # get random shuffle value\n",
    "    # to form string\n",
    "    word = \" \".join(list_word)\n",
    "    lis.append(word) # adding shuffle value to list\n",
    "lis = set(lis) # to remove duplicate value\n",
    "lis = list(lis)\n",
    "    \n",
    "for i in lis:\n",
    "    # to check palindrome\n",
    "    print(i)\n",
    "    if i[:] == i[::-1]:\n",
    "        print(\"palindraom\")\n",
    "    else:\n",
    "        print(\"not palindrome\")\n"
   ]
  },
  {
   "cell_type": "markdown",
   "metadata": {
    "id": "j5rQsUXT8hn7"
   },
   "source": [
    "\n",
    "<hr>\n",
    "<h2>Congratulations, you have completed your hands-on lab in Python Conditions and Branching.\n",
    "<hr>\n"
   ]
  },
  {
   "cell_type": "code",
   "execution_count": null,
   "metadata": {},
   "outputs": [],
   "source": []
  }
 ],
 "metadata": {
  "colab": {
   "provenance": []
  },
  "kernelspec": {
   "display_name": "Python 3 (ipykernel)",
   "language": "python",
   "name": "python3"
  },
  "language_info": {
   "codemirror_mode": {
    "name": "ipython",
    "version": 3
   },
   "file_extension": ".py",
   "mimetype": "text/x-python",
   "name": "python",
   "nbconvert_exporter": "python",
   "pygments_lexer": "ipython3",
   "version": "3.11.1"
  }
 },
 "nbformat": 4,
 "nbformat_minor": 4
}

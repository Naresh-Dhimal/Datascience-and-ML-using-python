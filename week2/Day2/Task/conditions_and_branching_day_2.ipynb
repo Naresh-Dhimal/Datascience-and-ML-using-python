{
 "cells": [
  {
   "cell_type": "markdown",
   "id": "82f8c61d-ef5d-40fa-b7f9-e239c514bfd3",
   "metadata": {},
   "source": [
    "# Task 01: Grading System Exercise\n",
    "\n",
    "## Objective\n",
    "Create a simple grading system where a student's score is entered, and the program determines the corresponding grade.\n",
    "\n",
    "## Requirements\n",
    "\n",
    "1. Get the student's score as input.\n",
    "2. Use the following grading scale:\n",
    "   - 90-100: A\n",
    "   - 80-89: B\n",
    "   - 70-79: C\n",
    "   - 60-69: D\n",
    "   - Below 60: F\n",
    "3. Print the grade based on the input score.\n",
    "4. Handle cases where the entered score is not within the valid range (0-100)."
   ]
  },
  {
   "cell_type": "code",
   "execution_count": 2,
   "id": "450bdbed-6fa9-46e9-97fa-8f56ac523221",
   "metadata": {},
   "outputs": [
    {
     "name": "stdin",
     "output_type": "stream",
     "text": [
      "Enter a Score:  45\n"
     ]
    },
    {
     "name": "stdout",
     "output_type": "stream",
     "text": [
      "Grade F\n"
     ]
    }
   ],
   "source": [
    "# Task 01 : solution\n",
    "def check_grade(score):\n",
    "    if score >= 90 and score <= 100:\n",
    "        print(\"Grade A\")\n",
    "    elif 80 <= score < 90:\n",
    "        print(\"Grade B\")\n",
    "    elif 70 <= score < 80:\n",
    "        print(\"Grade C\")\n",
    "    elif 60 <= score < 70:\n",
    "        print(\"Grade D\")\n",
    "    else:\n",
    "        print(\"Grade F\")\n",
    "def main():\n",
    "    try:\n",
    "        input_score = int(input(\"Enter a Score: \"))\n",
    "        if input_score >= 0 and input_score <= 100:\n",
    "            check_grade(score=input_score)\n",
    "        else:\n",
    "            raise ValueError(\"Invalid score provide score between 0-100.\")\n",
    "    except ValueError as e:\n",
    "        print(e)\n",
    "main()"
   ]
  },
  {
   "cell_type": "markdown",
   "id": "3c31b60b-5916-41f6-a9d2-33e964dfff3e",
   "metadata": {},
   "source": [
    "# Task 02: Ticket Price Calculator Exercise\n",
    "\n",
    "## Objective\n",
    "Create a program that calculates the ticket price for a movie based on the age and whether the customer is a student.\n",
    "\n",
    "## Requirements\n",
    "\n",
    "1. Get the user's age and whether they are a student (True or False) as input.\n",
    "2. Define the ticket prices:\n",
    "   - Children (age 0-12): \\$10\n",
    "   - Teenagers (age 13-17): \\$15\n",
    "   - Adults (age 18 and above): $20\n",
    "   - Students (regardless of age): \\$18 (discounted price)\n",
    "3. Calculate and print the ticket price based on the user's age and student status.\n",
    "4. Handle cases where the entered age is not a valid numeric value.\n",
    "5. Provide a message for cases where the age is negative or non-integer."
   ]
  },
  {
   "cell_type": "code",
   "execution_count": 3,
   "id": "74dd4f3e-a38f-488e-b501-b5bff716ad65",
   "metadata": {},
   "outputs": [
    {
     "name": "stdin",
     "output_type": "stream",
     "text": [
      "Enter a age: 23\n",
      "Are you student(True/False)?  True\n"
     ]
    },
    {
     "name": "stdout",
     "output_type": "stream",
     "text": [
      "The ticket price is $18.\n"
     ]
    }
   ],
   "source": [
    "# Task 02 : solution\n",
    "# function for calculating  ticket price\n",
    "def calculate_ticket_price(age, student):\n",
    "    # ticket_price_for_children\n",
    "    children = \"$10\"\n",
    "    # ticket_price_for_teenagers\n",
    "    teenagers = \"$15\"\n",
    "    # ticket_price_for_teenagers\n",
    "    adults = \"$20\"\n",
    "    # ticket_price_for_students\n",
    "    students = \"$18\"\n",
    "\n",
    "    # check if student or not\n",
    "    if student == \"True\":\n",
    "        print(f'The ticket price is {students}.')\n",
    "    else:\n",
    "        # age group of 0 - 12(children)\n",
    "        if age <= 12:\n",
    "            print(f\"The ticket price is {children}.\")\n",
    "        # age group of 13 - 17(teenagers)\n",
    "        elif age <= 17:\n",
    "            print(f\"The ticket price is {teenagers}.\")\n",
    "        # age group of 18 and above(adults)\n",
    "        else:\n",
    "            print(f'The ticket price is {adults}.')\n",
    "    \n",
    "# function_for_exception_handling        \n",
    "def main():\n",
    "    try:\n",
    "        # taking input of age from user\n",
    "        input_age = int(input(\"Enter a age:\"))\n",
    "        # validating age\n",
    "        if (input_age < 0 or input_age > 80):\n",
    "            # handling input_age exception\n",
    "            raise ValueError(\"Invalid age(either less than Zero or more than 80).\")\n",
    "        # taking input of student from user\n",
    "        student = input(\"Are you student(True/False)? \").title()\n",
    "        # validating student or not\n",
    "        if student not in \"TrueFalse\":\n",
    "            # handling student exception\n",
    "            raise ValueError(\"You have not enter(True/False).\")\n",
    "        else:\n",
    "            # calling calculate_ticket_price function\n",
    "            calculate_ticket_price(age=input_age,student=student)\n",
    "    except ValueError as e:\n",
    "        # displaying exception message\n",
    "        print(e)\n",
    "# calling main() function\n",
    "main()"
   ]
  },
  {
   "cell_type": "markdown",
   "id": "e540065a-396b-4af5-bde8-b639b78b1a6c",
   "metadata": {},
   "source": [
    "# Task 03: Word Frequency Counter\n",
    "\n",
    "## Objective\n",
    "Create a program that analyzes a given text and counts the frequency of each unique word.\n",
    "\n",
    "## Requirements\n",
    "\n",
    "1. Ask the user to input a paragraph or sentence.\n",
    "2. Tokenize the input into words (ignoring punctuation and case sensitivity).\n",
    "3. Count the frequency of each unique word.\n",
    "4. Display the word frequencies in alphabetical order.\n",
    "5. Handle cases where the input is empty."
   ]
  },
  {
   "cell_type": "code",
   "execution_count": 4,
   "id": "793d9562-1999-4969-a5e2-780bd0328d94",
   "metadata": {},
   "outputs": [
    {
     "name": "stdin",
     "output_type": "stream",
     "text": [
      "Enter a Sentence:   A magic square is a square matrix where the sums of the numbers in each row, column, and both main diagonals are the same\n"
     ]
    },
    {
     "name": "stdout",
     "output_type": "stream",
     "text": [
      "Unique word = a and Frequency = 2\n",
      "Unique word = and and Frequency = 1\n",
      "Unique word = are and Frequency = 1\n",
      "Unique word = both and Frequency = 1\n",
      "Unique word = column, and Frequency = 1\n",
      "Unique word = diagonals and Frequency = 1\n",
      "Unique word = each and Frequency = 1\n",
      "Unique word = in and Frequency = 1\n",
      "Unique word = is and Frequency = 1\n",
      "Unique word = magic and Frequency = 1\n",
      "Unique word = main and Frequency = 1\n",
      "Unique word = matrix and Frequency = 1\n",
      "Unique word = numbers and Frequency = 1\n",
      "Unique word = of and Frequency = 1\n",
      "Unique word = row, and Frequency = 1\n",
      "Unique word = same and Frequency = 1\n",
      "Unique word = square and Frequency = 2\n",
      "Unique word = sums and Frequency = 1\n",
      "Unique word = the and Frequency = 3\n",
      "Unique word = where and Frequency = 1\n"
     ]
    }
   ],
   "source": [
    "# Task 03: solution\n",
    "# function for finding frequency\n",
    "def find_frequency(sentence):\n",
    "    # spliting the sentence in words\n",
    "    new_sentence = sentence.lower().split()\n",
    "    # sort() the list in alphabetical order\n",
    "    new_sentence.sort()\n",
    "    # initializing new dict\n",
    "    output_freq = {}\n",
    "    # initial count is 1\n",
    "    count = 1\n",
    "    # iterable sort() list\n",
    "    for item in new_sentence:\n",
    "        # check item  is in new dict or not\n",
    "        if item in output_freq:\n",
    "            # if present than count increment by 1 and assign in same key\n",
    "            output_freq[item] += count\n",
    "        else:\n",
    "            # if not present than assign count = 1 \n",
    "            output_freq[item] = count\n",
    "    # return output_freq\n",
    "    return output_freq\n",
    "\n",
    "# function for exception handling\n",
    "def main():\n",
    "    try:\n",
    "        # taking input from user\n",
    "        sentence = input(\"Enter a Sentence: \")\n",
    "        # exception handling\n",
    "        if sentence.strip() == \"\":\n",
    "            raise ValueError(\"Sentence cannot be empty.\")\n",
    "        else:\n",
    "            final_output = find_frequency(sentence=sentence)\n",
    "            for key, value in final_output.items():\n",
    "                print(f\"Unique word = {key} and Frequency = {value}\")\n",
    "    except ValueError as e:\n",
    "        print(e)\n",
    "\n",
    "main()"
   ]
  },
  {
   "cell_type": "markdown",
   "id": "4fffa3ea-0746-45a4-9f48-8dfad694a185",
   "metadata": {},
   "source": [
    "# Task 04: Magic Square Validator\n",
    "\n",
    "## Objective\n",
    "Create a program that checks if a given 3x3 matrix forms a magic square.\n",
    "\n",
    "## Requirements\n",
    "\n",
    "1. A magic square is a square matrix where the sums of the numbers in each row, column, and both main diagonals are the same.\n",
    "2. Ask the user to input a 3x3 matrix (nine integer values).\n",
    "3. Check and print whether the given matrix forms a magic square.\n",
    "4. Handle cases where the input matrix is not of size 3x3 or contains non-integer values."
   ]
  },
  {
   "cell_type": "code",
   "execution_count": null,
   "id": "17815b18-83be-45b0-8448-649dd6bf9d34",
   "metadata": {},
   "outputs": [],
   "source": []
  },
  {
   "cell_type": "markdown",
   "id": "f09bf440-7e78-4169-b5c4-9b09b152b168",
   "metadata": {},
   "source": [
    "# Task 05: Palindromic Anagram Checker\n",
    "\n",
    "## Objective\n",
    "Create a program that checks if a given string can be rearranged to form a palindromic string.\n",
    "\n",
    "## Requirements\n",
    "\n",
    "1. A palindrome is a word, phrase, number, or other sequences of characters that reads the same forward and backward.\n",
    "2. Ask the user to input a string.\n",
    "3. Check and print whether the given string can be rearranged to form a palindrome.\n",
    "4. Ignore spaces and consider the characters in a case-insensitive manner.\n",
    "5. Handle cases where the input is empty or contains non-alphabetic characters."
   ]
  },
  {
   "cell_type": "code",
   "execution_count": 5,
   "id": "95fcc1b6-cd64-4f34-b28b-822007513c20",
   "metadata": {},
   "outputs": [
    {
     "name": "stdin",
     "output_type": "stream",
     "text": [
      " Enter a String:  naresh\n"
     ]
    },
    {
     "name": "stdout",
     "output_type": "stream",
     "text": [
      "'n a r e s h' is not palindrome.\n"
     ]
    }
   ],
   "source": [
    "# Task 05: Solution\n",
    "def palindrome_check(word):\n",
    "    word = \" \".join(word)\n",
    "    if word[:] == word[::-1]:\n",
    "        print(f\"\\'{word.strip()}\\' is palindrome.\")\n",
    "    else:\n",
    "        print(f\"\\'{word.strip()}\\' is not palindrome.\")\n",
    "\n",
    "def main():\n",
    "    try:\n",
    "        word = input(\" Enter a String: \")\n",
    "        if word.lower().strip() == \"\":\n",
    "            raise ValueError(\"String cannot be empty.\")\n",
    "        else:\n",
    "            palindrome_check(word=word)\n",
    "    except ValueError as e:\n",
    "        print(e)\n",
    "    \n",
    "main()"
   ]
  },
  {
   "cell_type": "code",
   "execution_count": null,
   "id": "c7feee3d-aa76-4ede-89b4-61e98d02dad7",
   "metadata": {},
   "outputs": [],
   "source": []
  }
 ],
 "metadata": {
  "kernelspec": {
   "display_name": "Python 3 (ipykernel)",
   "language": "python",
   "name": "python3"
  },
  "language_info": {
   "codemirror_mode": {
    "name": "ipython",
    "version": 3
   },
   "file_extension": ".py",
   "mimetype": "text/x-python",
   "name": "python",
   "nbconvert_exporter": "python",
   "pygments_lexer": "ipython3",
   "version": "3.11.1"
  }
 },
 "nbformat": 4,
 "nbformat_minor": 5
}

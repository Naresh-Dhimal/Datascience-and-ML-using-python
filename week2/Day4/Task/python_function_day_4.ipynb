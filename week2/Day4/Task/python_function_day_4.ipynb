{
 "cells": [
  {
   "cell_type": "markdown",
   "id": "b355695b-1c5a-4df4-9839-3aad13c1bd96",
   "metadata": {},
   "source": [
    "**`Q.1 Write a python function to multiply all the numbers in a list`**"
   ]
  },
  {
   "cell_type": "code",
   "execution_count": 1,
   "id": "60b74004-4bc5-4c66-9ab5-f99b92fa4a38",
   "metadata": {},
   "outputs": [
    {
     "name": "stdout",
     "output_type": "stream",
     "text": [
      "Total sum of given list [2, 5, 6, 7, 8, 3] is 10080.\n"
     ]
    }
   ],
   "source": [
    "def calculate_mul(new_list):\n",
    "    total_mul = 1\n",
    "    for item in new_list:\n",
    "        total_mul = total_mul * item\n",
    "    return total_mul\n",
    "\n",
    "new_list = [2,5,6,7,8,3]\n",
    "mul = calculate_mul(new_list=new_list)\n",
    "print(f\"Total sum of given list {new_list} is {mul}.\")\n"
   ]
  },
  {
   "cell_type": "markdown",
   "id": "86aedcc4-f406-4a31-ba64-6450464a17f2",
   "metadata": {},
   "source": [
    "**`Q.2 Write a python function to reverse a string`**"
   ]
  },
  {
   "cell_type": "code",
   "execution_count": 2,
   "id": "302ec44e-e674-44b9-9b1b-76d28e303c15",
   "metadata": {},
   "outputs": [
    {
     "name": "stdin",
     "output_type": "stream",
     "text": [
      "Enter a String:  naresh\n"
     ]
    },
    {
     "name": "stdout",
     "output_type": "stream",
     "text": [
      "The reverse of naresh is hseran.\n"
     ]
    }
   ],
   "source": [
    "def reverse_str(new_str):\n",
    "    return new_str[::-1]\n",
    "\n",
    "input_str = input(\"Enter a String: \")\n",
    "reverse_str = reverse_str(new_str=input_str)\n",
    "print(f\"The reverse of {input_str} is {reverse_str}.\")"
   ]
  },
  {
   "cell_type": "markdown",
   "id": "79fadc53-4e7b-40c4-802d-cc313fc70a0e",
   "metadata": {},
   "source": [
    "**`Q.3 Write a python function to find factorial of a given non negativenumber`**"
   ]
  },
  {
   "cell_type": "code",
   "execution_count": 4,
   "id": "19403be1-2c49-4333-a239-108e73f894ca",
   "metadata": {},
   "outputs": [
    {
     "name": "stdin",
     "output_type": "stream",
     "text": [
      "Enter a number:  5\n"
     ]
    },
    {
     "name": "stdout",
     "output_type": "stream",
     "text": [
      "The factorial of 5 is 120.\n"
     ]
    }
   ],
   "source": [
    "def calculate_fact(num):\n",
    "    if num == 0 or num == 1:\n",
    "        return 1\n",
    "    else:\n",
    "        return num * calculate_fact(num-1)\n",
    "\n",
    "\n",
    "def main():\n",
    "    try:\n",
    "        input_num = int(input(\"Enter a number: \"))\n",
    "        if input_num < 0:\n",
    "            raise ValueError(\"Number cannot be ZERO.\")\n",
    "        fact = calculate_fact(num=input_num)\n",
    "        print(f\"The factorial of {input_num} is {fact}.\")\n",
    "    except ValueError as e:\n",
    "        print(e)\n",
    " \n",
    "main()   "
   ]
  },
  {
   "cell_type": "markdown",
   "id": "050a6d9a-8f2b-4ab8-957b-881087b418d0",
   "metadata": {},
   "source": [
    "**`Q.5 Write a python function that accepts a string and calculate the number of upper case letters and lower case letters`**"
   ]
  },
  {
   "cell_type": "code",
   "execution_count": 5,
   "id": "4c2a2f6b-d962-414d-ad4a-4f5ea0bc6ee1",
   "metadata": {},
   "outputs": [
    {
     "name": "stdin",
     "output_type": "stream",
     "text": [
      "Enter a String in Uppercase as well as Lowercase: NarEsh DHImaL\n"
     ]
    },
    {
     "name": "stdout",
     "output_type": "stream",
     "text": [
      "Total number of uppercase in NarEshDHImaL is 6.\n",
      "Total number of lowercase in NarEshDHImaL is 6.\n"
     ]
    }
   ],
   "source": [
    "def count_upper_lower(str):\n",
    "    upper_count = 0\n",
    "    lower_count = 0\n",
    "    for item in str:\n",
    "        if item.isupper():\n",
    "            upper_count += 1\n",
    "        else:\n",
    "            lower_count += 1\n",
    "    return upper_count, lower_count\n",
    "\n",
    "def main():\n",
    "    try:\n",
    "        input_str = input(\"Enter a String in Uppercase as well as Lowercase:\")\n",
    "        new_str = [item for item in input_str if item.isalpha()]\n",
    "        u_count, l_count = count_upper_lower(new_str)\n",
    "        print(f\"Total number of uppercase in {''.join(new_str)} is {u_count}.\")\n",
    "        print(f\"Total number of lowercase in {''.join(new_str)} is {l_count}.\")\n",
    "    except ValueError as e:\n",
    "        print(e)\n",
    "main()"
   ]
  },
  {
   "cell_type": "markdown",
   "id": "566eea69-a526-4994-8a8e-ff59249fe70c",
   "metadata": {},
   "source": [
    "**`Q.6 Write a python function that takes a list and returns a new list with unique elements of the first list`**"
   ]
  },
  {
   "cell_type": "code",
   "execution_count": 31,
   "id": "5a7fe70c-1c84-4079-ab19-304553fcd741",
   "metadata": {},
   "outputs": [
    {
     "name": "stdin",
     "output_type": "stream",
     "text": [
      "Enter a list items: n a r a 3 4 2 3 a\n"
     ]
    },
    {
     "name": "stdout",
     "output_type": "stream",
     "text": [
      "Sorted unique elements list of ['n', 'a', 'r', 'a', 3, 4, 2, 3, 'a'] is ['n', 'a', 'r', 3, 4, 2].\n"
     ]
    }
   ],
   "source": [
    "def unique_list(new_list):\n",
    "    u_list = []\n",
    "    for item in new_list:\n",
    "        if item not in u_list:\n",
    "            u_list.append(item)\n",
    "    \n",
    "    return u_list\n",
    "\n",
    "def main():\n",
    "    try:\n",
    "        input_item = input(\"Enter a list items:\")\n",
    "        int_list = []\n",
    "        for item in input_item.split():\n",
    "            if item.isalpha():\n",
    "                int_list.append(item)\n",
    "            else:\n",
    "                int_list.append(int(item))\n",
    "        u_list = unique_list(new_list=int_list)\n",
    "        print(f\"Sorted unique elements list of {int_list} is {u_list}.\")\n",
    "    except ValueError as e:\n",
    "        print(e)\n",
    "main()"
   ]
  },
  {
   "cell_type": "markdown",
   "id": "9841acbb-c286-4c36-957c-b94f06e8d690",
   "metadata": {},
   "source": [
    "**`Q.7 Write a Python function that takes a number as a parameter and check the\n",
    "number is prime or not.`**"
   ]
  },
  {
   "cell_type": "code",
   "execution_count": 32,
   "id": "11c36608-e431-4efb-8948-68890e2c4369",
   "metadata": {},
   "outputs": [
    {
     "name": "stdin",
     "output_type": "stream",
     "text": [
      "Enter a positive number: 75\n"
     ]
    },
    {
     "name": "stdout",
     "output_type": "stream",
     "text": [
      "75 is not prime number.\n"
     ]
    }
   ],
   "source": [
    "def check_prime(num):\n",
    "    for i in range(2,num):\n",
    "        if num % i == 0:\n",
    "            return False\n",
    "    return True\n",
    "\n",
    "def main():\n",
    "    try:\n",
    "        number = int(input(\"Enter a positive number:\"))\n",
    "        if number < 0:\n",
    "            raise ValueError(\"Number cannot be ZERO.\")\n",
    "        result = check_prime(num=number)\n",
    "        if result == True:\n",
    "            print(f\"{number} is prime number.\")\n",
    "        else:\n",
    "            print(f\"{number} is not prime number.\")\n",
    "    except ValueError as e:\n",
    "        print(e)\n",
    "main()\n",
    "    "
   ]
  },
  {
   "cell_type": "markdown",
   "id": "edd493d5-9a89-43df-b364-9d27b6d2a366",
   "metadata": {},
   "source": [
    "**`Q.8 Write a python function to print the even numbers from a given list.`**"
   ]
  },
  {
   "cell_type": "code",
   "execution_count": 33,
   "id": "9aa46030-6bfb-4306-835d-23cb3488320d",
   "metadata": {},
   "outputs": [
    {
     "name": "stdin",
     "output_type": "stream",
     "text": [
      "Enter a item list:  e 3 4 2 6 h s 7 4 \n"
     ]
    },
    {
     "name": "stdout",
     "output_type": "stream",
     "text": [
      "The even number in [3, 4, 2, 6, 7, 4] is [4, 2, 6, 4].\n"
     ]
    }
   ],
   "source": [
    "def even_num(num_list):\n",
    "    even_list = [item for item in num_list if item % 2 == 0]\n",
    "    return even_list\n",
    "    \n",
    "\n",
    "def main():\n",
    "    try:\n",
    "        input_item = input(\"Enter a item list: \")\n",
    "        int_list = []\n",
    "        for item in input_item.split():\n",
    "            if item.isalpha():\n",
    "                continue\n",
    "            else:\n",
    "                int_list.append(int(item))\n",
    "        \n",
    "        even_list = even_num(num_list=int_list)\n",
    "        print(f\"The even number in {int_list} is {even_list}.\")\n",
    "    except ValueError as e:\n",
    "        print(e)\n",
    "main()"
   ]
  },
  {
   "cell_type": "code",
   "execution_count": null,
   "id": "3114fd9e-8bdd-4c9a-8f39-94c0c7103123",
   "metadata": {},
   "outputs": [],
   "source": []
  }
 ],
 "metadata": {
  "kernelspec": {
   "display_name": "Python 3 (ipykernel)",
   "language": "python",
   "name": "python3"
  },
  "language_info": {
   "codemirror_mode": {
    "name": "ipython",
    "version": 3
   },
   "file_extension": ".py",
   "mimetype": "text/x-python",
   "name": "python",
   "nbconvert_exporter": "python",
   "pygments_lexer": "ipython3",
   "version": "3.11.1"
  }
 },
 "nbformat": 4,
 "nbformat_minor": 5
}

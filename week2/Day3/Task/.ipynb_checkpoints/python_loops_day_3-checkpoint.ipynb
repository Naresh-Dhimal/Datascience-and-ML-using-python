{
 "cells": [
  {
   "cell_type": "markdown",
   "id": "0a5ae72a-a0a6-403d-9a53-6c689cc991a7",
   "metadata": {},
   "source": [
    "# Task 01: Word Pyramid Generator\n",
    "\n",
    "## Task\n",
    "\n",
    "Create a program that generates a word pyramid pattern based on user input.\n",
    "\n",
    "## Objective\n",
    "\n",
    "The objective is to generate and print a pyramid pattern using the letters of the word provided by the user. Each level of the pyramid should display the letters of the word up to that level, and the word should be centered on each level of the pyramid.\n",
    "\n",
    "## Requirements\n",
    "\n",
    "1. Ask the user to input a word.\n",
    "2. Generate and print a pyramid pattern using the letters of the word.\n",
    "3. Each level of the pyramid should display the letters of the word up to that level.\n",
    "4. The word should be centered on each level of the pyramid.\n",
    "\n",
    "## Additional Challenges\n",
    "\n",
    "1. Implement a function to validate the input and ensure it's a valid word.\n",
    "2. Allow the user to choose the direction of the pyramid (upwards or downwards).\n",
    "3. Enhance the program to handle phrases or sentences instead of single words.\n",
    "\n",
    "Expected Output:\n",
    "if word level is up:\n",
    "```\n",
    "            S    \n",
    "           S u   \n",
    "          S u n  \n",
    "         S u n i \n",
    "        S u n i l\n",
    "```\n",
    "\n",
    "if word level is Down:\n",
    "```\n",
    "            S u n i l\n",
    "             S u n i \n",
    "              S u n  \n",
    "               S u   \n",
    "                S \n",
    "```"
   ]
  },
  {
   "cell_type": "code",
   "execution_count": 1,
   "id": "529a0fef-cef8-4706-af8f-2a2c3136d9d9",
   "metadata": {},
   "outputs": [
    {
     "name": "stdin",
     "output_type": "stream",
     "text": [
      "Enter a Word:  naresh dhimal\n",
      "Enter direction of the pyramid(up/down): down\n"
     ]
    },
    {
     "name": "stdout",
     "output_type": "stream",
     "text": [
      "n a r e s h   d h i m a l\n",
      " n a r e s h   d h i m a\n",
      "  n a r e s h   d h i m\n",
      "   n a r e s h   d h i\n",
      "    n a r e s h   d h\n",
      "     n a r e s h   d\n",
      "      n a r e s h  \n",
      "       n a r e s h\n",
      "        n a r e s\n",
      "         n a r e\n",
      "          n a r\n",
      "           n a\n",
      "            n\n"
     ]
    }
   ],
   "source": [
    "# solution\n",
    "def create_pattern(word,direction):\n",
    "    lenght = len(word)\n",
    "    \n",
    "    if direction.lower() == 'up':\n",
    "        for i in range(lenght + 1 ):\n",
    "            print( \" \" * (lenght - i ) + \" \".join(word[:i]))\n",
    "        \n",
    "    else:\n",
    "        for i in range(lenght, 0, -1):\n",
    "           print(\" \" * (lenght - i ) +\" \".join(word[:i]))\n",
    "\n",
    "\n",
    "def main():\n",
    "    word = input(\"Enter a Word: \")\n",
    "    direction = input(\"Enter direction of the pyramid(up/down):\")\n",
    "    try:\n",
    "        if word.lower().strip() == \"\":\n",
    "            raise ValueError(\"Word cannot be empty.\")\n",
    "        else:\n",
    "            if direction.lower() in 'updown':\n",
    "                create_pattern(word, direction)\n",
    "            else:\n",
    "                raise ValueError(\"Invalid direction please provide Up or Down.\")\n",
    "    except ValueError as e:\n",
    "        print(e)\n",
    "main()"
   ]
  },
  {
   "cell_type": "markdown",
   "id": "8d4f349c-4801-4db0-8430-cccd0142bfcb",
   "metadata": {},
   "source": [
    "# Task 02: List Manipulation - Odd-Even Sorter\n",
    "\n",
    "## Objective\n",
    "\n",
    "Create a program that takes a list of numbers from the user, sorts them into two separate lists (one for odd numbers and one for even numbers), and displays the sorted lists.\n",
    "\n",
    "## Requirements\n",
    "\n",
    "1. Ask the user to input a list of numbers (comma-separated).\n",
    "2. Sort the numbers into two lists: one for odd numbers and one for even numbers.\n",
    "3. Display both lists.\n",
    "\n",
    "## Additional Challenges\n",
    "\n",
    "1. Allow the user to input any type of values (not just numbers) and handle different data types.\n",
    "2. Enhance the program to display the sorted lists in ascending or descending order."
   ]
  },
  {
   "cell_type": "code",
   "execution_count": 2,
   "id": "c21494c1-a832-4284-bee2-6d3d8ebaf216",
   "metadata": {},
   "outputs": [
    {
     "name": "stdin",
     "output_type": "stream",
     "text": [
      "Enter a comma seperated data: 1,23,5,3,44,3,2\n"
     ]
    },
    {
     "name": "stdout",
     "output_type": "stream",
     "text": [
      "Given list: ['1', '2', '23', '3', '3', '44', '5']\n",
      "Alpha list = []\n",
      "Even list = [2, 44]\n",
      "Odd list = [1, 23, 3, 3, 5]\n"
     ]
    }
   ],
   "source": [
    "# solution\n",
    "def seperate_even_odd(new_list):\n",
    "    alpha_list = []\n",
    "    even_list = []\n",
    "    odd_list = []\n",
    "    print(f\"Given list: {new_list}\")\n",
    "    for item in new_list:\n",
    "        if item.strip() == \"\":\n",
    "            continue\n",
    "            \n",
    "        if item.isalpha():\n",
    "            alpha_list.append(item)\n",
    "            \n",
    "        elif int(item) % 2 == 0:\n",
    "            even_list.append(int(item))\n",
    "            \n",
    "        else: \n",
    "            odd_list.append(int(item))\n",
    "    \n",
    "\n",
    "    print(f\"Alpha list = {alpha_list}\")\n",
    "    print(f\"Even list = {even_list}\")\n",
    "    print(f\"Odd list = {odd_list}\")\n",
    "    \n",
    "def main():\n",
    "    input_string = input('Enter a comma seperated data:')\n",
    "    new_list = input_string.split(\",\")\n",
    "    new_list.sort()\n",
    "    seperate_even_odd(new_list= new_list)\n",
    "    \n",
    "    \n",
    "main()"
   ]
  },
  {
   "cell_type": "markdown",
   "id": "5bc90bc6-e9b7-47bb-871a-c95ef35f5606",
   "metadata": {},
   "source": [
    "# Task 03: Prime Factorization\n",
    "\n",
    "## Objective\n",
    "\n",
    "Create a program that takes an integer input from the user and prints its prime factorization.\n",
    "\n",
    "## Requirements\n",
    "\n",
    "1. Ask the user to input a positive integer.\n",
    "2. Compute and print the prime factorization of the input integer.\n",
    "\n",
    "## Additional Challenges\n",
    "\n",
    "1. Implement error handling to ensure the user inputs a valid positive integer.\n",
    "2. Allow the program to handle edge cases, such as the input being 1 or a prime number.\n",
    "3. Enhance the program to handle multiple integer inputs in a loop until the user chooses to exit."
   ]
  },
  {
   "cell_type": "code",
   "execution_count": 3,
   "id": "fda16ad8-f6a8-490a-a1b8-91580386c944",
   "metadata": {},
   "outputs": [
    {
     "name": "stdin",
     "output_type": "stream",
     "text": [
      "Enter a number:  45\n"
     ]
    },
    {
     "name": "stdout",
     "output_type": "stream",
     "text": [
      "Prime factorail of 45 is [3, 3, 5].\n"
     ]
    }
   ],
   "source": [
    "# solution\n",
    "def find_facs(user_input):\n",
    "    number = user_input\n",
    "    prime_list = []\n",
    "    i = 2\n",
    "    while number > 1:\n",
    "        if number % i == 0:\n",
    "            prime_list.append(i)\n",
    "            number = number / i\n",
    "            i = i - 1\n",
    "        i += 1\n",
    "    print(f\"Prime factorail of {user_input} is {prime_list}.\") \n",
    "\n",
    "def main():\n",
    "    try:\n",
    "        user_input = int(input(\"Enter a number: \"))\n",
    "        if user_input < 0:\n",
    "            raise ValueError(\"Invalid number. please provide positive integer\")\n",
    "        find_facs(user_input=user_input)   \n",
    "    except ValueError as e:\n",
    "        print(e)\n",
    "\n",
    "main()   \n",
    "        "
   ]
  },
  {
   "cell_type": "markdown",
   "id": "4565cd19-7cba-49fb-9910-3eb664384dbb",
   "metadata": {},
   "source": [
    "# Task 04: Number Guessing Game\n",
    "\n",
    "## Objective\n",
    "\n",
    "Create a simple number guessing game where the program generates a random number, and the user has to guess it.\n",
    "    \n",
    "## Requirements\n",
    "\n",
    "1. Generate a random number between a specified range.\n",
    "2. Ask the user to guess the number.\n",
    "3. Provide feedback on whether the guess is too high, too low, or correct.\n",
    "4. Allow the user to continue guessing until they guess the correct number.\n",
    "5. Display the number of attempts it took to guess correctly.\n",
    "\n",
    "## Additional Challenges\n",
    "\n",
    "1. Implement error handling to ensure the user inputs a valid number.\n",
    "2. Allow the user to choose the range of numbers for the guessing game.\n",
    "3. Enhance the program to provide hints or clues based on the user's previous guesses."
   ]
  },
  {
   "cell_type": "code",
   "execution_count": 5,
   "id": "53a3f12f-3a87-470a-a6b4-86f19ccf6e71",
   "metadata": {},
   "outputs": [
    {
     "name": "stdin",
     "output_type": "stream",
     "text": [
      "Enter a number between (1-100): 45\n"
     ]
    },
    {
     "name": "stdout",
     "output_type": "stream",
     "text": [
      "Guess is HIGH.\n"
     ]
    },
    {
     "name": "stdin",
     "output_type": "stream",
     "text": [
      "Enter a number between (1-100): 25\n"
     ]
    },
    {
     "name": "stdout",
     "output_type": "stream",
     "text": [
      "Guess is HIGH.\n"
     ]
    },
    {
     "name": "stdin",
     "output_type": "stream",
     "text": [
      "Enter a number between (1-100): 20\n"
     ]
    },
    {
     "name": "stdout",
     "output_type": "stream",
     "text": [
      "Guess is HIGH.\n"
     ]
    },
    {
     "name": "stdin",
     "output_type": "stream",
     "text": [
      "Enter a number between (1-100): 10\n"
     ]
    },
    {
     "name": "stdout",
     "output_type": "stream",
     "text": [
      "Guess is CORRECT.\n",
      "Number of attemps is 4\n"
     ]
    }
   ],
   "source": [
    "# solution\n",
    "import random\n",
    "def guess_number():\n",
    "    ran_number = random.randint(1,100)\n",
    "  \n",
    "    count = 1\n",
    "    guess = True\n",
    "    while guess:\n",
    "        try:\n",
    "            user_input = int(input(\"Enter a number between (1-100):\"))\n",
    "        except ValueError:\n",
    "            print(\"Invalid number please enter integer value.\")\n",
    "            continue\n",
    "        if user_input > ran_number:\n",
    "            print(\"Guess is HIGH.\")\n",
    "            count += 1\n",
    "        elif user_input < ran_number:\n",
    "            print(\"Guess is LOW.\")\n",
    "            count += 1\n",
    "        else:\n",
    "            print(\"Guess is CORRECT.\")\n",
    "            guess = False\n",
    "            count = count\n",
    "    print(f\"Number of attemps is {count}\")\n",
    "\n",
    "guess_number()"
   ]
  },
  {
   "cell_type": "code",
   "execution_count": null,
   "id": "65e12ac1-82c1-49da-8551-f8abc1966540",
   "metadata": {},
   "outputs": [],
   "source": []
  }
 ],
 "metadata": {
  "kernelspec": {
   "display_name": "Python 3 (ipykernel)",
   "language": "python",
   "name": "python3"
  },
  "language_info": {
   "codemirror_mode": {
    "name": "ipython",
    "version": 3
   },
   "file_extension": ".py",
   "mimetype": "text/x-python",
   "name": "python",
   "nbconvert_exporter": "python",
   "pygments_lexer": "ipython3",
   "version": "3.11.1"
  }
 },
 "nbformat": 4,
 "nbformat_minor": 5
}

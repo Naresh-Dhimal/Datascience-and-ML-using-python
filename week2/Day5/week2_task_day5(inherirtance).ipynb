{
 "cells": [
  {
   "cell_type": "markdown",
   "metadata": {},
   "source": [
    "# Advanced Inheritance and Abstract Classes\n",
    "\n",
    "## Objective\n",
    "\n",
    "Create a set of classes representing different animals, introducing multiple levels of inheritance and abstract classes.\n",
    "\n",
    "## Requirements\n",
    "\n",
    "1. Create an abstract class called `Animal` with abstract methods:\n",
    "   - `speak`: Abstract method representing the sound the animal makes.\n",
    "   - `move`: Abstract method representing how the animal moves.\n",
    "   - `eat`: Abstract method representing what the animal eats.\n",
    "\n",
    "2. Implement three concrete classes: `Mammal`, `Bird`, and `Fish`, inheriting from the `Animal` class. Implement the abstract methods accordingly.\n",
    "\n",
    "3. Create concrete classes for specific animals within each category:\n",
    "   - For `Mammal`: Implement classes like `Dog` and `Cat`.\n",
    "   - For `Bird`: Implement classes like `Eagle` and `Penguin`.\n",
    "   - For `Fish`: Implement classes like `Salmon` and `Goldfish`.\n",
    "\n",
    "4. Add unique methods for each specific animal:\n",
    "   - For example, `bark` for `Dog`, `fly` for `Eagle`, `swim` for `Salmon`.\n",
    "\n",
    "5. Demonstrate the usage of these classes by creating instances and calling various methods."
   ]
  },
  {
   "cell_type": "code",
   "execution_count": 1,
   "metadata": {},
   "outputs": [],
   "source": [
    "from abc import ABC, abstractmethod"
   ]
  },
  {
   "cell_type": "code",
   "execution_count": 2,
   "metadata": {},
   "outputs": [],
   "source": [
    "# parent abstractClass\n",
    "class Animal(ABC):\n",
    "    @abstractmethod\n",
    "    def speak(self):\n",
    "        pass\n",
    "        \n",
    "    @abstractmethod\n",
    "    def move(self):\n",
    "        pass\n",
    "    \n",
    "    @abstractmethod\n",
    "    def eat(self):\n",
    "        pass\n"
   ]
  },
  {
   "cell_type": "code",
   "execution_count": 3,
   "metadata": {},
   "outputs": [],
   "source": [
    "# subclass of Animal() class: Mammal()\n",
    "class Mammal(Animal):\n",
    "    def __init__(self, name):\n",
    "        self.name = name\n",
    "    \n",
    "    def speak(self):\n",
    "        pass\n",
    "    def move(self):\n",
    "        pass\n",
    "    def eat(self):\n",
    "        pass\n",
    "    def real_name(self):\n",
    "        print(f\"{self.name}\")\n",
    "        \n",
    "# subclass of Animal() class: Bird()\n",
    "class Bird(Animal):\n",
    "    def speak(self):\n",
    "        pass\n",
    "    def move(self):\n",
    "        pass\n",
    "    def eat(self):\n",
    "        pass\n",
    "\n",
    "# subclass of Animal() class: Fish()\n",
    "class Fish(Animal):\n",
    "    def speak(self):\n",
    "        pass\n",
    "    def move(self):\n",
    "        pass\n",
    "    def eat(self):\n",
    "        pass"
   ]
  },
  {
   "cell_type": "code",
   "execution_count": 4,
   "metadata": {},
   "outputs": [],
   "source": [
    "# subclass of Mammal(): Dog()\n",
    "class Dog(Mammal):\n",
    "    def __init__(self,name):\n",
    "        Mammal.__init__(self,name)\n",
    "    def speak(self):\n",
    "        return \"Dogs barks!\"\n",
    "    def move(self):\n",
    "        return \"Dogs run or walk.\"\n",
    "    def eat(self):\n",
    "        return \"Dogs eat meat.\"\n",
    "    def bark(self):\n",
    "        return f\"{self.name} loud!\"\n",
    "\n",
    "# subclass of Mammal(): Cat()\n",
    "class Cat():\n",
    "    pass\n"
   ]
  },
  {
   "cell_type": "code",
   "execution_count": 12,
   "metadata": {},
   "outputs": [],
   "source": [
    "# subclass of Bird(): Eagle()\n",
    "class Eagle(Bird):\n",
    "    def fly(self):\n",
    "        return \"Eagle Fly high!\"\n",
    "\n",
    "# subclass of Bird(): Penguin()\n",
    "class Penguin(Bird):\n",
    "    pass\n",
    "    "
   ]
  },
  {
   "cell_type": "code",
   "execution_count": 13,
   "metadata": {},
   "outputs": [],
   "source": [
    "#  subclass of Fish(): Salmon()\n",
    "class Salmon(Fish):\n",
    "    def swim(self):\n",
    "        return \"Salmon can swim.\"\n",
    "\n",
    "# subclass of Fish(): Goldfish()\n",
    "class Goldfish(Fish):\n",
    "    pass\n",
    "    "
   ]
  },
  {
   "cell_type": "code",
   "execution_count": 9,
   "metadata": {},
   "outputs": [
    {
     "name": "stdout",
     "output_type": "stream",
     "text": [
      "husky loud!\n",
      "Dogs barks!\n",
      "Dogs run or walk.\n",
      "Dogs eat meat.\n",
      "husky loud!\n",
      "husky\n"
     ]
    }
   ],
   "source": [
    "dog1 = Dog(name=\"husky\")\n",
    "print(dog1.bark())\n",
    "print(dog1.speak())\n",
    "print(dog1.move())\n",
    "print(dog1.eat())\n",
    "print(dog1.bark())\n",
    "dog1.real_name()"
   ]
  },
  {
   "cell_type": "code",
   "execution_count": 14,
   "metadata": {},
   "outputs": [
    {
     "data": {
      "text/plain": [
       "'Eagle Fly high!'"
      ]
     },
     "execution_count": 14,
     "metadata": {},
     "output_type": "execute_result"
    }
   ],
   "source": [
    "eagle1 = Eagle()\n",
    "eagle1.fly()"
   ]
  },
  {
   "cell_type": "code",
   "execution_count": 17,
   "metadata": {},
   "outputs": [
    {
     "data": {
      "text/plain": [
       "'Salmon can swim.'"
      ]
     },
     "execution_count": 17,
     "metadata": {},
     "output_type": "execute_result"
    }
   ],
   "source": [
    "salmon1 = Salmon()\n",
    "salmon1.swim()"
   ]
  },
  {
   "cell_type": "markdown",
   "metadata": {},
   "source": [
    "# Advanced Inheritance with Multiple Levels\n",
    "\n",
    "## Objective\n",
    "\n",
    "Create a set of classes representing different types of vehicles, introducing multiple levels of inheritance, and demonstrating the use of `super().__init__`.\n",
    "\n",
    "## Requirements\n",
    "\n",
    "1. Create a base class called `Vehicle` with the following attributes:\n",
    "   - `make`: Make of the vehicle (e.g., Ford, Honda).\n",
    "   - `model`: Model of the vehicle (e.g., Civic, F-150).\n",
    "   - `year`: Year of manufacture.\n",
    "   - `fuel_type`: Type of fuel the vehicle uses (e.g., Gasoline, Electric).\n",
    "\n",
    "2. Create two subclasses: `Car` and `Truck`, inheriting from the `Vehicle` class. Implement the `__init__` method using `super().__init__` to initialize attributes from the parent class.\n",
    "\n",
    "3. Create a subclass of `Car` called `ElectricCar`. Add an additional attribute:\n",
    "   - `battery_capacity`: Capacity of the electric car's battery in kWh.\n",
    "\n",
    "4. Create a subclass of `Truck` called `HybridTruck`. Add an additional attribute:\n",
    "   - `electric_motor_power`: Power of the electric motor in the hybrid truck.\n",
    "\n",
    "5. Demonstrate the usage of these classes by creating instances and displaying information about the vehicles.\n"
   ]
  },
  {
   "cell_type": "code",
   "execution_count": null,
   "metadata": {},
   "outputs": [],
   "source": []
  },
  {
   "cell_type": "code",
   "execution_count": 3,
   "metadata": {},
   "outputs": [],
   "source": [
    "# parent class: Vehicle()\n",
    "class Vehicle():\n",
    "    def __init__(self, make, model, year, fuel_type):\n",
    "        self.make = make\n",
    "        self.model = model\n",
    "        self.year = year\n",
    "        self.fuel_type = fuel_type\n",
    "\n",
    "\n",
    "# subclass of Vehicle(): Car()\n",
    "class Car(Vehicle):\n",
    "    def __init__(self, make, model, year, fuel_type):\n",
    "        super().__init__(make, model, year, fuel_type)\n",
    "\n",
    "\n",
    "# subclass of Car(): ElectricCar()\n",
    "class ElectricCar(Car):\n",
    "    def __init__(self, make, model, year, fuel_type, battery_capacity):\n",
    "        self.battery_capacity = battery_capacity\n",
    "        Car.__init__(self, make, model, year, fuel_type)\n",
    "    def demost(self):\n",
    "        return f\"ElectricCar \\nMake: {self.make}\\nModel: {self.model}\\nYear: {self.year}\\nFuel_type: {self.fuel_type}\\nBattery_capacity:{self.battery_capacity}\"\n",
    "\n",
    "\n",
    "# subclass of Vehicle(): Truck()\n",
    "class Truck(Vehicle):\n",
    "    def __init__(self, make, model, year, fuel_type):\n",
    "        Vehicle.__init__(self, make, model, year, fuel_type)\n",
    "\n",
    "\n",
    "# subclass of Truck(): HybridTruck()\n",
    "class HybridTruck(Truck):\n",
    "    def __init__(self, make, model, year, fuel_type, electric_motor_power):\n",
    "        self.electric_motor_power = electric_motor_power\n",
    "        Truck.__init__(self, make, model, year, fuel_type)\n",
    "\n",
    "    # demostrating\n",
    "    def demost(self):\n",
    "        return f\"HybridTruck \\nMake: {self.make} \\nModel: {self.model}\\nYear: {self.year}\\nFuel_type: {self.fuel_type}\\nElectric_motor_power: {self.electric_motor_power}\"\n"
   ]
  },
  {
   "cell_type": "code",
   "execution_count": 4,
   "metadata": {},
   "outputs": [
    {
     "name": "stdout",
     "output_type": "stream",
     "text": [
      "ElectricCar \n",
      "Make: Suzuki\n",
      "Model: suv-23\n",
      "Year: 2022\n",
      "Fuel_type: Electric\n",
      "Battery_capacity:250\n"
     ]
    }
   ],
   "source": [
    "# Making object of ElectricCar\n",
    "if __name__ == '__main__':\n",
    "    vehicle1 = ElectricCar(make=\"Suzuki\", model=\"suv-23\", year= 2022, fuel_type = \"Electric\", battery_capacity=250)\n",
    "    print(vehicle1.demost())"
   ]
  },
  {
   "cell_type": "code",
   "execution_count": 5,
   "metadata": {},
   "outputs": [
    {
     "name": "stdout",
     "output_type": "stream",
     "text": [
      "HybridTruck \n",
      "Make: Toyota \n",
      "Model: TyT-09\n",
      "Year: 2023\n",
      "Fuel_type: hybrid\n",
      "Electric_motor_power: 100\n"
     ]
    }
   ],
   "source": [
    "# Making object of HybridTruck\n",
    "if __name__ == \"__main__\":\n",
    "    vehicle2 = HybridTruck(make=\"Toyota\", model=\"TyT-09\", year= 2023, fuel_type = \"hybrid\", electric_motor_power=100)\n",
    "    print(vehicle2.demost())"
   ]
  },
  {
   "cell_type": "code",
   "execution_count": null,
   "metadata": {},
   "outputs": [],
   "source": []
  }
 ],
 "metadata": {
  "kernelspec": {
   "display_name": "Python 3 (ipykernel)",
   "language": "python",
   "name": "python3"
  },
  "language_info": {
   "codemirror_mode": {
    "name": "ipython",
    "version": 3
   },
   "file_extension": ".py",
   "mimetype": "text/x-python",
   "name": "python",
   "nbconvert_exporter": "python",
   "pygments_lexer": "ipython3",
   "version": "3.11.1"
  }
 },
 "nbformat": 4,
 "nbformat_minor": 4
}

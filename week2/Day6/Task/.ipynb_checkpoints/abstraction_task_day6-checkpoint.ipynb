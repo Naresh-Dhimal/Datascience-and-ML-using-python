{
 "cells": [
  {
   "cell_type": "markdown",
   "metadata": {},
   "source": [
    "# Shape Abstraction\n",
    "\n",
    "## Objective\n",
    "Create a set of classes representing different shapes, emphasizing abstraction by using abstract methods.\n",
    "\n",
    "## Requirements\n",
    "1. Create an abstract class named Shape with the following abstract methods:\n",
    "   - `area`: to calculate the area of the shape.\n",
    "   - `perimeter`: to calculate the perimeter of the shape.\n",
    "   - `display_info`: to display information about the shape.\n",
    "\n",
    "2. Implement concrete classes for the following shapes, inheriting from the Shape class:\n",
    "   - Circle: Representing a circle. It should take the radius as a parameter.\n",
    "   - Rectangle: Representing a rectangle. It should take the length and width as parameters.\n",
    "   - Triangle: Representing an equilateral triangle. It should take the side length as a parameter.\n",
    "\n",
    "3. Implement the abstract methods in each concrete class to provide the specific calculations for area and perimeter.\n",
    "\n",
    "4. Demonstrate the usage of these classes in the main program by creating instances of each shape, calculating and displaying their area and perimeter.\n"
   ]
  },
  {
   "cell_type": "code",
   "execution_count": 2,
   "metadata": {},
   "outputs": [],
   "source": [
    "from abc import ABC, abstractmethod\n",
    "\n",
    "# Creating abstract class\n",
    "class Shape(ABC):\n",
    "\n",
    "    @abstractmethod\n",
    "    def area(self):\n",
    "        pass\n",
    "\n",
    "    @abstractmethod\n",
    "    def perimeter(self):\n",
    "        pass\n",
    "\n",
    "    @abstractmethod\n",
    "    def display_info(self):\n",
    "        pass\n",
    "        \n",
    "    \n",
    "    "
   ]
  },
  {
   "cell_type": "code",
   "execution_count": 50,
   "metadata": {},
   "outputs": [],
   "source": [
    "# Creating class Circle that inherit Shape class:\n",
    "import math\n",
    "\n",
    "class Circle(Shape):\n",
    "    def __init__(self, radius):\n",
    "        self.radius = radius\n",
    "        super().__init__()\n",
    "        \n",
    "    def area(self):\n",
    "        return round(math.pi * self.radius ** 2, 2)\n",
    "         \n",
    "    def perimeter(self):\n",
    "        return round(2 * math.pi * self.radius, 2)\n",
    "\n",
    "    def display_info(self):\n",
    "        return f\"The area and perimeter of circle with radius {self.radius} is {self.area()} and {self.perimeter()} respectively.\"\n",
    "    \n"
   ]
  },
  {
   "cell_type": "code",
   "execution_count": 51,
   "metadata": {},
   "outputs": [],
   "source": [
    "# creating instance of Circle class\n",
    "circle_1 = Circle(radius = 5)"
   ]
  },
  {
   "cell_type": "code",
   "execution_count": 52,
   "metadata": {},
   "outputs": [
    {
     "data": {
      "text/plain": [
       "'The area and perimeter of circle with radius 5 is 78.54 and 31.42 respectively.'"
      ]
     },
     "execution_count": 52,
     "metadata": {},
     "output_type": "execute_result"
    }
   ],
   "source": [
    "# displaying circle_1 info\n",
    "circle_1.display_info()"
   ]
  },
  {
   "cell_type": "code",
   "execution_count": 53,
   "metadata": {},
   "outputs": [],
   "source": [
    "# Creating class Rectangle that inherit Shape class:\n",
    "class Rectangle(Shape):\n",
    "    def __init__(self, length, width):\n",
    "        self.length = length\n",
    "        self.width = width\n",
    "        super().__init__()\n",
    "\n",
    "    def area(self):\n",
    "        return self.length * self.width\n",
    "\n",
    "    def perimeter(self):\n",
    "        return 2 * (self.length + self.width)\n",
    "\n",
    "    def display_info(self)        :\n",
    "        return f\"The area of rectangle of length {self.length} and width {self.width} is {self.area()} and {self.perimeter()} respectively.\"\n"
   ]
  },
  {
   "cell_type": "code",
   "execution_count": 54,
   "metadata": {},
   "outputs": [],
   "source": [
    "# Creating instance of Rectangle class\n",
    "rectangle_1 = Rectangle(length=9, width=6)"
   ]
  },
  {
   "cell_type": "code",
   "execution_count": 55,
   "metadata": {},
   "outputs": [
    {
     "data": {
      "text/plain": [
       "'The area of rectangle of length 9 and width 6 is 54 and 30 respectively.'"
      ]
     },
     "execution_count": 55,
     "metadata": {},
     "output_type": "execute_result"
    }
   ],
   "source": [
    "#displaying rectangle_1 info\n",
    "rectangle_1.display_info()"
   ]
  },
  {
   "cell_type": "code",
   "execution_count": 62,
   "metadata": {},
   "outputs": [],
   "source": [
    "# Creating class Triangle that inherit Shape class:\n",
    "import math\n",
    "\n",
    "class EquilateralTriangle(Shape):\n",
    "    def __init__(self, side_length ):\n",
    "        self.side_length = side_length\n",
    "        super().__init__()\n",
    "\n",
    "    def area(self):\n",
    "        return round((math.sqrt(3) / 4) * self.side_length ** 2,2)\n",
    "\n",
    "    def perimeter(self):\n",
    "        return 3 * self.side_length\n",
    "\n",
    "    def display_info(self)        :\n",
    "        return f\"The area of equilateral triangle of side length {self.side_length} is {self.area()} and {self.perimeter()} respectively.\"\n"
   ]
  },
  {
   "cell_type": "code",
   "execution_count": 65,
   "metadata": {},
   "outputs": [],
   "source": [
    "# creating instance of equilateral triangle class\n",
    "e_triangle_1 = EquilateralTriangle(side_length=8)"
   ]
  },
  {
   "cell_type": "code",
   "execution_count": 66,
   "metadata": {},
   "outputs": [
    {
     "data": {
      "text/plain": [
       "'The area of equilateral triangle of side length 8 is 27.71 and 24 respectively.'"
      ]
     },
     "execution_count": 66,
     "metadata": {},
     "output_type": "execute_result"
    }
   ],
   "source": [
    "# displaying e_triangle_1 info\n",
    "e_triangle_1.display_info()"
   ]
  },
  {
   "cell_type": "code",
   "execution_count": null,
   "metadata": {},
   "outputs": [],
   "source": []
  }
 ],
 "metadata": {
  "kernelspec": {
   "display_name": "Python 3 (ipykernel)",
   "language": "python",
   "name": "python3"
  },
  "language_info": {
   "codemirror_mode": {
    "name": "ipython",
    "version": 3
   },
   "file_extension": ".py",
   "mimetype": "text/x-python",
   "name": "python",
   "nbconvert_exporter": "python",
   "pygments_lexer": "ipython3",
   "version": "3.11.1"
  }
 },
 "nbformat": 4,
 "nbformat_minor": 4
}

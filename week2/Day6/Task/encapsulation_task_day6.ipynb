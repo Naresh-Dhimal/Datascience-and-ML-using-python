{
 "cells": [
  {
   "cell_type": "markdown",
   "metadata": {},
   "source": [
    "# Bank Account Management\n",
    "\n",
    "## Objective\n",
    "Create a class for managing a bank account, emphasizing encapsulation with private attributes and methods.\n",
    "\n",
    "## Requirements\n",
    "1. Create a class named BankAccount with private attributes:\n",
    "   - \\_\\_account_number: A unique identifier for the bank account.\n",
    "   - \\_\\_balance: The current balance of the bank account.\n",
    "   - \\_\\_owner: The owner's name.\n",
    "\n",
    "2. Implement the following methods within the BankAccount class:\n",
    "   - A constructor `__init__` to initialize the attributes.\n",
    "   - Getter methods for each attribute (get_account_number, get_balance, get_owner).\n",
    "   - Setter methods for each attribute (set_balance, set_owner).\n",
    "   - A method `deposit` to add funds to the account.\n",
    "   - A method `withdraw` to deduct funds from the account.\n",
    "\n",
    "3. Implement input validation in the setter methods:\n",
    "   - Ensure that the balance is a non-negative value.\n",
    "   - Ensure that the owner's name is not empty.\n",
    "\n",
    "4. Implement input validation in the `withdraw` method:\n",
    "   - Ensure that the withdrawal amount is less than or equal to the current balance.\n",
    "\n",
    "5. Demonstrate the usage of the BankAccount class in the main program by creating an instance, setting attributes, depositing and withdrawing funds, and displaying account information."
   ]
  },
  {
   "cell_type": "code",
   "execution_count": 48,
   "metadata": {},
   "outputs": [],
   "source": [
    "class BankAccount:\n",
    "    def __init__(self, account_number, balance, owner):\n",
    "        self.__account_number = account_number\n",
    "        self.__balance = balance\n",
    "        self.__owner = owner\n",
    "\n",
    "    # get method to get account number\n",
    "    def get_account_number(self):\n",
    "        return f\"The account number = {self.__account_number}\"\n",
    "\n",
    "    # get method to get balance\n",
    "    def get_balance(self):\n",
    "        return f\"Total balance = {self.__balance}\"\n",
    "\n",
    "    # get mehtod to get owner\n",
    "    def get_owner(self):\n",
    "        return f\"The owner name = {self.__owner}\"\n",
    "\n",
    "    # set method to set new balance\n",
    "    def set_balance(self, new_balance):\n",
    "        if new_balance < 0:\n",
    "            print(\"Balance cannot be negative.\")\n",
    "        else:\n",
    "            self.__balance = new_balance \n",
    "\n",
    "    # set method to set new owner\n",
    "    def set_owner(self, new_owner):\n",
    "        if new_owner == \"\":\n",
    "            print(\"Owner name should provided.\")\n",
    "        else:\n",
    "            self.__owner = new_owner\n",
    "\n",
    "    # deposit method to deposit \n",
    "    def deposit(self, amount):\n",
    "        if amount > 0:\n",
    "            self.__balance += amount\n",
    "        else:\n",
    "            print(\"Invalid deposit amount. Please enter a positive value.\")\n",
    "    # withdraw method to withdraw\n",
    "    def withdraw(self, amount):\n",
    "        if 0 < amount <= self.__balance:\n",
    "            self.__balance -= amount\n",
    "        else:\n",
    "            print(\"Insufficient funds or invalid withdrawal amount.\")\n",
    "        \n",
    "        "
   ]
  },
  {
   "cell_type": "code",
   "execution_count": 37,
   "metadata": {},
   "outputs": [],
   "source": [
    "# main function to demonstrate\n",
    "if __name__ == \"__main__\":\n",
    "    # making object of class BankAccount:\n",
    "    bank1 = BankAccount(account_number=123456, balance=5000, owner=\"champpa\")"
   ]
  },
  {
   "cell_type": "code",
   "execution_count": 38,
   "metadata": {},
   "outputs": [
    {
     "data": {
      "text/plain": [
       "123456"
      ]
     },
     "execution_count": 38,
     "metadata": {},
     "output_type": "execute_result"
    }
   ],
   "source": [
    "# accessing private attribute  __account_number\n",
    "bank1._BankAccount__account_number"
   ]
  },
  {
   "cell_type": "code",
   "execution_count": 39,
   "metadata": {},
   "outputs": [
    {
     "data": {
      "text/plain": [
       "5000"
      ]
     },
     "execution_count": 39,
     "metadata": {},
     "output_type": "execute_result"
    }
   ],
   "source": [
    "# accessing private attribute  __balance\n",
    "bank1._BankAccount__balance"
   ]
  },
  {
   "cell_type": "code",
   "execution_count": 40,
   "metadata": {},
   "outputs": [
    {
     "data": {
      "text/plain": [
       "'champpa'"
      ]
     },
     "execution_count": 40,
     "metadata": {},
     "output_type": "execute_result"
    }
   ],
   "source": [
    "# accessing private attribute  __owner\n",
    "bank1._BankAccount__owner"
   ]
  },
  {
   "cell_type": "code",
   "execution_count": 41,
   "metadata": {},
   "outputs": [
    {
     "data": {
      "text/plain": [
       "'The account number = 123456'"
      ]
     },
     "execution_count": 41,
     "metadata": {},
     "output_type": "execute_result"
    }
   ],
   "source": [
    "# get_account_number method to access account number\n",
    "bank1.get_account_number()"
   ]
  },
  {
   "cell_type": "code",
   "execution_count": 42,
   "metadata": {},
   "outputs": [
    {
     "data": {
      "text/plain": [
       "'Total balance = 5000'"
      ]
     },
     "execution_count": 42,
     "metadata": {},
     "output_type": "execute_result"
    }
   ],
   "source": [
    "# get_balance method to access balance\n",
    "bank1.get_balance()"
   ]
  },
  {
   "cell_type": "code",
   "execution_count": 43,
   "metadata": {},
   "outputs": [
    {
     "data": {
      "text/plain": [
       "'The owner name = champpa'"
      ]
     },
     "execution_count": 43,
     "metadata": {},
     "output_type": "execute_result"
    }
   ],
   "source": [
    "# get_owner method to access owner\n",
    "bank1.get_owner()"
   ]
  },
  {
   "cell_type": "code",
   "execution_count": 44,
   "metadata": {},
   "outputs": [
    {
     "data": {
      "text/plain": [
       "'Amisha'"
      ]
     },
     "execution_count": 44,
     "metadata": {},
     "output_type": "execute_result"
    }
   ],
   "source": [
    "# set method to set new_owner\n",
    "bank1.set_owner(new_owner=\"Amisha\")\n",
    "bank1._BankAccount__owner"
   ]
  },
  {
   "cell_type": "code",
   "execution_count": 45,
   "metadata": {},
   "outputs": [
    {
     "data": {
      "text/plain": [
       "10000"
      ]
     },
     "execution_count": 45,
     "metadata": {},
     "output_type": "execute_result"
    }
   ],
   "source": [
    "# set method to set new_balance\n",
    "bank1.set_balance(new_balance=10000)\n",
    "bank1._BankAccount__balance"
   ]
  },
  {
   "cell_type": "code",
   "execution_count": 46,
   "metadata": {},
   "outputs": [
    {
     "name": "stdout",
     "output_type": "stream",
     "text": [
      "Before deposit\n",
      "Total balance = 10000\n",
      "After deposit 5000\n",
      "Total balance = 15000\n"
     ]
    }
   ],
   "source": [
    "# to deposit amount\n",
    "print(\"Before deposit\")\n",
    "print(bank1.get_balance())\n",
    "bank1.deposit(amount= 5000)\n",
    "# to see balance after deposit\n",
    "print(\"After deposit 5000\")\n",
    "print(bank1.get_balance())"
   ]
  },
  {
   "cell_type": "code",
   "execution_count": 47,
   "metadata": {},
   "outputs": [
    {
     "name": "stdout",
     "output_type": "stream",
     "text": [
      "Before withdraw\n",
      "Total balance = 15000\n",
      "After withdraw 6000\n",
      "Total balance = 9000\n"
     ]
    }
   ],
   "source": [
    "# to withdraw amount\n",
    "print(\"Before withdraw\")\n",
    "print(bank1.get_balance())\n",
    "bank1.withdraw(amount=6000)\n",
    "# to see balance after withdraw\n",
    "print(\"After withdraw 6000\")\n",
    "print(bank1.get_balance())\n"
   ]
  },
  {
   "cell_type": "code",
   "execution_count": null,
   "metadata": {},
   "outputs": [],
   "source": []
  }
 ],
 "metadata": {
  "kernelspec": {
   "display_name": "Python 3 (ipykernel)",
   "language": "python",
   "name": "python3"
  },
  "language_info": {
   "codemirror_mode": {
    "name": "ipython",
    "version": 3
   },
   "file_extension": ".py",
   "mimetype": "text/x-python",
   "name": "python",
   "nbconvert_exporter": "python",
   "pygments_lexer": "ipython3",
   "version": "3.11.1"
  }
 },
 "nbformat": 4,
 "nbformat_minor": 4
}

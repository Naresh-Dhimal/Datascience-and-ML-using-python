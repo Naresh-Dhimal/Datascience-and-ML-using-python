{
 "cells": [
  {
   "cell_type": "code",
   "execution_count": 27,
   "id": "07912d09-8f8d-450e-92ca-091dbd58ea2e",
   "metadata": {},
   "outputs": [],
   "source": [
    "from abc import ABC, abstractmethod\n",
    "\n",
    "class BankingApp(ABC):\n",
    "    def database(self):\n",
    "        print(f\"Connect to database sucessfully\")\n",
    "\n",
    "    @abstractmethod\n",
    "    def security(self):\n",
    "        pass\n",
    "\n",
    "    @abstractmethod\n",
    "    def notification(self):\n",
    "        pass\n",
    "\n",
    "class MobileApp(BankingApp):\n",
    "    def __init__(self):\n",
    "        pass\n",
    "\n",
    "    def security(self):\n",
    "        print(\"gdfg\")\n",
    "    def notification(self):\n",
    "        print(\"You have been crediting with 1lakh.\")\n",
    "    def login_app(self):\n",
    "        print(\"Login to Mobile App Sucessfully.\")"
   ]
  },
  {
   "cell_type": "code",
   "execution_count": 29,
   "id": "1a3adde6-3dfd-4f9c-882f-46cbac846f56",
   "metadata": {},
   "outputs": [
    {
     "name": "stdout",
     "output_type": "stream",
     "text": [
      "gdfg\n",
      "You have been crediting with 1lakh.\n"
     ]
    }
   ],
   "source": [
    "if __name__== \"__main__\":\n",
    "    mobile_app = MobileApp()\n",
    "    # print(mobile_app)\n",
    "    mobile_app.security()\n",
    "    mobile_app.notification()"
   ]
  },
  {
   "cell_type": "code",
   "execution_count": null,
   "id": "2ad269d9-3a1d-498f-a01d-b4fa30b604bc",
   "metadata": {},
   "outputs": [],
   "source": []
  }
 ],
 "metadata": {
  "kernelspec": {
   "display_name": "Python 3 (ipykernel)",
   "language": "python",
   "name": "python3"
  },
  "language_info": {
   "codemirror_mode": {
    "name": "ipython",
    "version": 3
   },
   "file_extension": ".py",
   "mimetype": "text/x-python",
   "name": "python",
   "nbconvert_exporter": "python",
   "pygments_lexer": "ipython3",
   "version": "3.11.1"
  }
 },
 "nbformat": 4,
 "nbformat_minor": 5
}

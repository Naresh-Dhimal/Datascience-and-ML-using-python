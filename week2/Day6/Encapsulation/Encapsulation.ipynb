{
 "cells": [
  {
   "cell_type": "code",
   "execution_count": 32,
   "id": "f307f645-3991-40f9-8fb6-e57f16573e20",
   "metadata": {},
   "outputs": [],
   "source": [
    "# Private Acces\n",
    "class Person:\n",
    "    def __init__(self, name, age, address):\n",
    "        # private attribute\n",
    "        self.__name = name \n",
    "        self.__age = age\n",
    "\n",
    "    # class methods\n",
    "    def display(self):\n",
    "        print(f\"The person name is {self.__name} and {self.__age} years old.\")\n",
    "\n",
    "class Person1(Person):\n",
    "    def __init__(self, name, age, address):\n",
    "        super().__init__(name,age,address)\n",
    "        # protected attribute\n",
    "        self._address = address\n",
    "    # def display(self):\n",
    "    #     pass\n",
    "    #     print(f\"The person name is {self.__name} and {self.__age} years old. {self.__name} is live in {self._address}\")"
   ]
  },
  {
   "cell_type": "code",
   "execution_count": 33,
   "id": "69c8c6af-998c-4914-80c8-f44bb65c68d9",
   "metadata": {},
   "outputs": [
    {
     "name": "stdout",
     "output_type": "stream",
     "text": [
      "thimi\n",
      "The person name is Ram and 23 years old.\n"
     ]
    }
   ],
   "source": [
    "if __name__ == \"__main__\":\n",
    "    # person1 = Person(name= \"ram\", age=22)\n",
    "    # print(person1._Person__name)\n",
    "    # person1.display\n",
    "    ram = Person1(name='Ram', age=23, address= \"thimi\")\n",
    "    print(ram._address)\n",
    "    ram.display()"
   ]
  },
  {
   "cell_type": "code",
   "execution_count": null,
   "id": "6e675960-e560-46c2-83f5-c5dfde848afc",
   "metadata": {},
   "outputs": [],
   "source": []
  }
 ],
 "metadata": {
  "kernelspec": {
   "display_name": "Python 3 (ipykernel)",
   "language": "python",
   "name": "python3"
  },
  "language_info": {
   "codemirror_mode": {
    "name": "ipython",
    "version": 3
   },
   "file_extension": ".py",
   "mimetype": "text/x-python",
   "name": "python",
   "nbconvert_exporter": "python",
   "pygments_lexer": "ipython3",
   "version": "3.11.1"
  }
 },
 "nbformat": 4,
 "nbformat_minor": 5
}

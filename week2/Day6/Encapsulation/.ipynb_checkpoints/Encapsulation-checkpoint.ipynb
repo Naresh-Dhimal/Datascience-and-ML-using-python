{
 "cells": [
  {
   "cell_type": "code",
   "execution_count": 30,
   "id": "f307f645-3991-40f9-8fb6-e57f16573e20",
   "metadata": {},
   "outputs": [],
   "source": [
    "# Private Acces\n",
    "class Person:\n",
    "    def __init__(self, name, age, address):\n",
    "        # private attribute\n",
    "        self.__name = name \n",
    "        self.__age = age\n",
    "\n",
    "    # class methods\n",
    "    def display(self):\n",
    "        print(f\"The person name is {self.__name} and {self.__age} years old.\")\n",
    "\n",
    "class Person1(Person):\n",
    "    def __init__(self, name, age, address):\n",
    "        super().__init__(name,age,address)\n",
    "        # protected attribute\n",
    "        self._address = address\n",
    "    # def display(self):\n",
    "    #     pass\n",
    "    #     print(f\"The person name is {self.__name} and {self.__age} years old. {self.__name} is live in {self._address}\")"
   ]
  },
  {
   "cell_type": "code",
   "execution_count": 31,
   "id": "69c8c6af-998c-4914-80c8-f44bb65c68d9",
   "metadata": {},
   "outputs": [
    {
     "name": "stdout",
     "output_type": "stream",
     "text": [
      "thimi\n"
     ]
    },
    {
     "ename": "AttributeError",
     "evalue": "'Person1' object has no attribute '_Person1__name'",
     "output_type": "error",
     "traceback": [
      "\u001b[1;31m---------------------------------------------------------------------------\u001b[0m",
      "\u001b[1;31mAttributeError\u001b[0m                            Traceback (most recent call last)",
      "Cell \u001b[1;32mIn[31], line 7\u001b[0m\n\u001b[0;32m      5\u001b[0m ram \u001b[38;5;241m=\u001b[39m Person1(name\u001b[38;5;241m=\u001b[39m\u001b[38;5;124m'\u001b[39m\u001b[38;5;124mRam\u001b[39m\u001b[38;5;124m'\u001b[39m, age\u001b[38;5;241m=\u001b[39m\u001b[38;5;241m23\u001b[39m, address\u001b[38;5;241m=\u001b[39m \u001b[38;5;124m\"\u001b[39m\u001b[38;5;124mthimi\u001b[39m\u001b[38;5;124m\"\u001b[39m)\n\u001b[0;32m      6\u001b[0m \u001b[38;5;28mprint\u001b[39m(ram\u001b[38;5;241m.\u001b[39m_address)\n\u001b[1;32m----> 7\u001b[0m \u001b[43mram\u001b[49m\u001b[38;5;241;43m.\u001b[39;49m\u001b[43mdisplay\u001b[49m\u001b[43m(\u001b[49m\u001b[43m)\u001b[49m\n",
      "Cell \u001b[1;32mIn[30], line 19\u001b[0m, in \u001b[0;36mPerson1.display\u001b[1;34m(self)\u001b[0m\n\u001b[0;32m     17\u001b[0m \u001b[38;5;28;01mdef\u001b[39;00m \u001b[38;5;21mdisplay\u001b[39m(\u001b[38;5;28mself\u001b[39m):\n\u001b[0;32m     18\u001b[0m     \u001b[38;5;28;01mpass\u001b[39;00m\n\u001b[1;32m---> 19\u001b[0m     \u001b[38;5;28mprint\u001b[39m(\u001b[38;5;124mf\u001b[39m\u001b[38;5;124m\"\u001b[39m\u001b[38;5;124mThe person name is \u001b[39m\u001b[38;5;132;01m{\u001b[39;00m\u001b[38;5;28;43mself\u001b[39;49m\u001b[38;5;241;43m.\u001b[39;49m\u001b[43m__name\u001b[49m\u001b[38;5;132;01m}\u001b[39;00m\u001b[38;5;124m and \u001b[39m\u001b[38;5;132;01m{\u001b[39;00m\u001b[38;5;28mself\u001b[39m\u001b[38;5;241m.\u001b[39m__age\u001b[38;5;132;01m}\u001b[39;00m\u001b[38;5;124m years old. \u001b[39m\u001b[38;5;132;01m{\u001b[39;00m\u001b[38;5;28mself\u001b[39m\u001b[38;5;241m.\u001b[39m__name\u001b[38;5;132;01m}\u001b[39;00m\u001b[38;5;124m is live in \u001b[39m\u001b[38;5;132;01m{\u001b[39;00m\u001b[38;5;28mself\u001b[39m\u001b[38;5;241m.\u001b[39m_address\u001b[38;5;132;01m}\u001b[39;00m\u001b[38;5;124m\"\u001b[39m)\n",
      "\u001b[1;31mAttributeError\u001b[0m: 'Person1' object has no attribute '_Person1__name'"
     ]
    }
   ],
   "source": [
    "if __name__ == \"__main__\":\n",
    "    # person1 = Person(name= \"ram\", age=22)\n",
    "    # print(person1._Person__name)\n",
    "    # person1.display\n",
    "    ram = Person1(name='Ram', age=23, address= \"thimi\")\n",
    "    print(ram._address)\n",
    "    ram.display()"
   ]
  },
  {
   "cell_type": "code",
   "execution_count": null,
   "id": "6e675960-e560-46c2-83f5-c5dfde848afc",
   "metadata": {},
   "outputs": [],
   "source": []
  }
 ],
 "metadata": {
  "kernelspec": {
   "display_name": "Python 3 (ipykernel)",
   "language": "python",
   "name": "python3"
  },
  "language_info": {
   "codemirror_mode": {
    "name": "ipython",
    "version": 3
   },
   "file_extension": ".py",
   "mimetype": "text/x-python",
   "name": "python",
   "nbconvert_exporter": "python",
   "pygments_lexer": "ipython3",
   "version": "3.11.1"
  }
 },
 "nbformat": 4,
 "nbformat_minor": 5
}

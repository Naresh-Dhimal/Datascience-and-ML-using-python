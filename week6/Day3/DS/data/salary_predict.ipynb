{
 "cells": [
  {
   "cell_type": "markdown",
   "id": "a8bf52f8-e26a-406b-b806-868d0bec0360",
   "metadata": {},
   "source": [
    "## Linear Regression"
   ]
  },
  {
   "cell_type": "code",
   "execution_count": 1,
   "id": "868db8c8-2dfe-48b2-9034-328c53ff1114",
   "metadata": {},
   "outputs": [],
   "source": [
    "# initializing pandas\n",
    "import pandas as pd"
   ]
  },
  {
   "cell_type": "code",
   "execution_count": 2,
   "id": "5abd31c1-3860-4b7c-90d1-9ad719a348fd",
   "metadata": {},
   "outputs": [
    {
     "data": {
      "text/html": [
       "<div>\n",
       "<style scoped>\n",
       "    .dataframe tbody tr th:only-of-type {\n",
       "        vertical-align: middle;\n",
       "    }\n",
       "\n",
       "    .dataframe tbody tr th {\n",
       "        vertical-align: top;\n",
       "    }\n",
       "\n",
       "    .dataframe thead th {\n",
       "        text-align: right;\n",
       "    }\n",
       "</style>\n",
       "<table border=\"1\" class=\"dataframe\">\n",
       "  <thead>\n",
       "    <tr style=\"text-align: right;\">\n",
       "      <th></th>\n",
       "      <th>YearsExperience</th>\n",
       "      <th>Salary</th>\n",
       "    </tr>\n",
       "  </thead>\n",
       "  <tbody>\n",
       "    <tr>\n",
       "      <th>0</th>\n",
       "      <td>1.1</td>\n",
       "      <td>39343.0</td>\n",
       "    </tr>\n",
       "    <tr>\n",
       "      <th>1</th>\n",
       "      <td>1.3</td>\n",
       "      <td>46205.0</td>\n",
       "    </tr>\n",
       "    <tr>\n",
       "      <th>2</th>\n",
       "      <td>1.5</td>\n",
       "      <td>37731.0</td>\n",
       "    </tr>\n",
       "    <tr>\n",
       "      <th>3</th>\n",
       "      <td>2.0</td>\n",
       "      <td>43525.0</td>\n",
       "    </tr>\n",
       "    <tr>\n",
       "      <th>4</th>\n",
       "      <td>2.2</td>\n",
       "      <td>39891.0</td>\n",
       "    </tr>\n",
       "  </tbody>\n",
       "</table>\n",
       "</div>"
      ],
      "text/plain": [
       "   YearsExperience   Salary\n",
       "0              1.1  39343.0\n",
       "1              1.3  46205.0\n",
       "2              1.5  37731.0\n",
       "3              2.0  43525.0\n",
       "4              2.2  39891.0"
      ]
     },
     "execution_count": 2,
     "metadata": {},
     "output_type": "execute_result"
    }
   ],
   "source": [
    "# loading salary dataset \n",
    "df = pd.read_csv(\"Salary_Data.csv\")\n",
    "df.head()"
   ]
  },
  {
   "cell_type": "markdown",
   "id": "5addb151-ce53-4bea-97bd-ff3dc684f014",
   "metadata": {},
   "source": [
    "## Data profiling and inspection"
   ]
  },
  {
   "cell_type": "code",
   "execution_count": 3,
   "id": "917632af-c032-4d7c-8a2c-dc8fd8e46652",
   "metadata": {},
   "outputs": [
    {
     "data": {
      "text/plain": [
       "YearsExperience    float64\n",
       "Salary             float64\n",
       "dtype: object"
      ]
     },
     "execution_count": 3,
     "metadata": {},
     "output_type": "execute_result"
    }
   ],
   "source": [
    "# checking the types of data\n",
    "df.dtypes"
   ]
  },
  {
   "cell_type": "markdown",
   "id": "e88650ae-bded-49d8-9ce2-ffeb5988c3ef",
   "metadata": {},
   "source": [
    "* data types are float"
   ]
  },
  {
   "cell_type": "code",
   "execution_count": 4,
   "id": "a3bbca27-6a3b-4d71-95b7-e1efc6bd949b",
   "metadata": {},
   "outputs": [
    {
     "data": {
      "text/html": [
       "<div>\n",
       "<style scoped>\n",
       "    .dataframe tbody tr th:only-of-type {\n",
       "        vertical-align: middle;\n",
       "    }\n",
       "\n",
       "    .dataframe tbody tr th {\n",
       "        vertical-align: top;\n",
       "    }\n",
       "\n",
       "    .dataframe thead th {\n",
       "        text-align: right;\n",
       "    }\n",
       "</style>\n",
       "<table border=\"1\" class=\"dataframe\">\n",
       "  <thead>\n",
       "    <tr style=\"text-align: right;\">\n",
       "      <th></th>\n",
       "      <th>YearsExperience</th>\n",
       "      <th>Salary</th>\n",
       "    </tr>\n",
       "  </thead>\n",
       "  <tbody>\n",
       "    <tr>\n",
       "      <th>count</th>\n",
       "      <td>30.000000</td>\n",
       "      <td>30.000000</td>\n",
       "    </tr>\n",
       "    <tr>\n",
       "      <th>mean</th>\n",
       "      <td>5.313333</td>\n",
       "      <td>76003.000000</td>\n",
       "    </tr>\n",
       "    <tr>\n",
       "      <th>std</th>\n",
       "      <td>2.837888</td>\n",
       "      <td>27414.429785</td>\n",
       "    </tr>\n",
       "    <tr>\n",
       "      <th>min</th>\n",
       "      <td>1.100000</td>\n",
       "      <td>37731.000000</td>\n",
       "    </tr>\n",
       "    <tr>\n",
       "      <th>25%</th>\n",
       "      <td>3.200000</td>\n",
       "      <td>56720.750000</td>\n",
       "    </tr>\n",
       "    <tr>\n",
       "      <th>50%</th>\n",
       "      <td>4.700000</td>\n",
       "      <td>65237.000000</td>\n",
       "    </tr>\n",
       "    <tr>\n",
       "      <th>75%</th>\n",
       "      <td>7.700000</td>\n",
       "      <td>100544.750000</td>\n",
       "    </tr>\n",
       "    <tr>\n",
       "      <th>max</th>\n",
       "      <td>10.500000</td>\n",
       "      <td>122391.000000</td>\n",
       "    </tr>\n",
       "  </tbody>\n",
       "</table>\n",
       "</div>"
      ],
      "text/plain": [
       "       YearsExperience         Salary\n",
       "count        30.000000      30.000000\n",
       "mean          5.313333   76003.000000\n",
       "std           2.837888   27414.429785\n",
       "min           1.100000   37731.000000\n",
       "25%           3.200000   56720.750000\n",
       "50%           4.700000   65237.000000\n",
       "75%           7.700000  100544.750000\n",
       "max          10.500000  122391.000000"
      ]
     },
     "execution_count": 4,
     "metadata": {},
     "output_type": "execute_result"
    }
   ],
   "source": [
    "# descritive statistic\n",
    "df.describe()"
   ]
  },
  {
   "cell_type": "markdown",
   "id": "9148daf9-c80d-4684-8a01-01a0bdea93d0",
   "metadata": {},
   "source": [
    "* maximum years of experience is 10.5\n",
    "* minimum years of experience is 1.1\n",
    "* mean salary is 76003\n",
    "* maximum salary is 122391 and minimum is 37731"
   ]
  },
  {
   "cell_type": "code",
   "execution_count": 5,
   "id": "44672feb-62e2-4a4b-a649-63a8adbdce41",
   "metadata": {},
   "outputs": [
    {
     "data": {
      "text/plain": [
       "(30, 2)"
      ]
     },
     "execution_count": 5,
     "metadata": {},
     "output_type": "execute_result"
    }
   ],
   "source": [
    "# checking the shape of DataFrame\n",
    "df.shape"
   ]
  },
  {
   "cell_type": "markdown",
   "id": "23dc8e20-46e5-4b14-b12c-b186a1372e56",
   "metadata": {},
   "source": [
    "* dataframe 2dimension with 30 rows and 2 columns"
   ]
  },
  {
   "cell_type": "code",
   "execution_count": 6,
   "id": "2558eed4-5878-4671-bb1c-ab74dd0591df",
   "metadata": {},
   "outputs": [
    {
     "name": "stdout",
     "output_type": "stream",
     "text": [
      "<class 'pandas.core.frame.DataFrame'>\n",
      "RangeIndex: 30 entries, 0 to 29\n",
      "Data columns (total 2 columns):\n",
      " #   Column           Non-Null Count  Dtype  \n",
      "---  ------           --------------  -----  \n",
      " 0   YearsExperience  30 non-null     float64\n",
      " 1   Salary           30 non-null     float64\n",
      "dtypes: float64(2)\n",
      "memory usage: 608.0 bytes\n"
     ]
    }
   ],
   "source": [
    "# overall information of DataFrame\n",
    "df.info()"
   ]
  },
  {
   "cell_type": "markdown",
   "id": "47df90d9-4409-4914-ac28-f7b0e43b73e5",
   "metadata": {},
   "source": [
    "* total number of columns is 2\n",
    "* total number of rows is 30\n",
    "* yearsExperience has 30 non-null data\n",
    "* Salary has 30 non-null data"
   ]
  },
  {
   "cell_type": "code",
   "execution_count": 7,
   "id": "be6ec59f-c0cf-470b-85c9-218d9abf8c25",
   "metadata": {},
   "outputs": [
    {
     "data": {
      "text/plain": [
       "<Axes: >"
      ]
     },
     "execution_count": 7,
     "metadata": {},
     "output_type": "execute_result"
    },
    {
     "data": {
      "image/png": "[encoded data removed]",
      "text/plain": [
       "<Figure size 640x480 with 2 Axes>"
      ]
     },
     "metadata": {},
     "output_type": "display_data"
    }
   ],
   "source": [
    "# to check null value\n",
    "import seaborn as sns\n",
    "sns.heatmap(df.isnull().transpose())"
   ]
  },
  {
   "cell_type": "markdown",
   "id": "51f27df7-a05f-4f43-9477-b12462351ad5",
   "metadata": {},
   "source": [
    "* no missing data in this data"
   ]
  },
  {
   "cell_type": "markdown",
   "id": "aa03e4e8-87c1-4b29-87d1-93204877ad97",
   "metadata": {},
   "source": [
    "## Exploratory Data Analysis"
   ]
  },
  {
   "cell_type": "code",
   "execution_count": 8,
   "id": "c0b2b27f-f308-4d38-aed7-05a3b30f9f7d",
   "metadata": {},
   "outputs": [
    {
     "data": {
      "text/plain": [
       "<Axes: xlabel='Salary', ylabel='Count'>"
      ]
     },
     "execution_count": 8,
     "metadata": {},
     "output_type": "execute_result"
    },
    {
     "data": {
      "image/png": "[encoded data removed]",
      "text/plain": [
       "<Figure size 640x480 with 1 Axes>"
      ]
     },
     "metadata": {},
     "output_type": "display_data"
    }
   ],
   "source": [
    "# distribution plot of Sa\n",
    "sns.histplot(x=\"Salary\",kde=True, data=df)"
   ]
  },
  {
   "cell_type": "code",
   "execution_count": 9,
   "id": "15dc6104-5f6a-4c4d-828c-206292ccbbd8",
   "metadata": {},
   "outputs": [
    {
     "data": {
      "text/plain": [
       "<Axes: xlabel='YearsExperience', ylabel='Count'>"
      ]
     },
     "execution_count": 9,
     "metadata": {},
     "output_type": "execute_result"
    },
    {
     "data": {
      "image/png": "[encoded data removed]",
      "text/plain": [
       "<Figure size 640x480 with 1 Axes>"
      ]
     },
     "metadata": {},
     "output_type": "display_data"
    }
   ],
   "source": [
    "# distribution plot of yearExperience\n",
    "sns.histplot(x='YearsExperience', kde=True, data=df)"
   ]
  },
  {
   "cell_type": "markdown",
   "id": "b2a0e7a7-14b3-42ad-bc86-660e22df38fe",
   "metadata": {},
   "source": [
    "# We want to predict salary"
   ]
  },
  {
   "cell_type": "code",
   "execution_count": 10,
   "id": "85ff9a5c-ef6e-4a78-987c-4cc56326ba9e",
   "metadata": {},
   "outputs": [
    {
     "data": {
      "text/plain": [
       "<Axes: >"
      ]
     },
     "execution_count": 10,
     "metadata": {},
     "output_type": "execute_result"
    },
    {
     "data": {
      "image/png": "[encoded data removed]",
      "text/plain": [
       "<Figure size 640x480 with 2 Axes>"
      ]
     },
     "metadata": {},
     "output_type": "display_data"
    }
   ],
   "source": [
    "# relation between salary and yearexperience\n",
    "sns.heatmap(df.corr(numeric_only=True), annot=True)"
   ]
  },
  {
   "cell_type": "markdown",
   "id": "11ce191d-0f9f-429d-bcbb-4cc16903501f",
   "metadata": {},
   "source": [
    "* Salary and years of experience is positively correlated with correlation value 0.93"
   ]
  },
  {
   "cell_type": "markdown",
   "id": "875189a2-1707-475b-8066-b37adfe3bbbd",
   "metadata": {},
   "source": [
    "## Identify features and label"
   ]
  },
  {
   "cell_type": "code",
   "execution_count": 27,
   "id": "8a8a0e1f-0564-46aa-b4c0-cb1eb294b82a",
   "metadata": {},
   "outputs": [],
   "source": [
    "X = df.loc[:,[\"YearsExperience\"]]\n",
    "y = df.Salary"
   ]
  },
  {
   "cell_type": "markdown",
   "id": "5530c247-0af4-4941-bea3-f2bcccee3b86",
   "metadata": {},
   "source": [
    "## train _test_split"
   ]
  },
  {
   "cell_type": "code",
   "execution_count": 15,
   "id": "3dd186fa-e7e5-4435-8edb-c53ebcd4e981",
   "metadata": {},
   "outputs": [
    {
     "name": "stdout",
     "output_type": "stream",
     "text": [
      "Requirement already satisfied: scikit-learn in g:\\datascience and ml using python\\myenv\\lib\\site-packages (1.4.1.post1)\n",
      "Requirement already satisfied: numpy<2.0,>=1.19.5 in g:\\datascience and ml using python\\myenv\\lib\\site-packages (from scikit-learn) (1.26.4)\n",
      "Requirement already satisfied: scipy>=1.6.0 in g:\\datascience and ml using python\\myenv\\lib\\site-packages (from scikit-learn) (1.12.0)\n",
      "Requirement already satisfied: joblib>=1.2.0 in g:\\datascience and ml using python\\myenv\\lib\\site-packages (from scikit-learn) (1.3.2)\n",
      "Requirement already satisfied: threadpoolctl>=2.0.0 in g:\\datascience and ml using python\\myenv\\lib\\site-packages (from scikit-learn) (3.4.0)\n"
     ]
    },
    {
     "name": "stderr",
     "output_type": "stream",
     "text": [
      "\n",
      "[notice] A new release of pip available: 22.3.1 -> 24.0\n",
      "[notice] To update, run: python.exe -m pip install --upgrade pip\n"
     ]
    }
   ],
   "source": [
    "!pip install scikit-learn"
   ]
  },
  {
   "cell_type": "code",
   "execution_count": 29,
   "id": "4e5f2c31-21ce-45b3-885e-63d1c717560f",
   "metadata": {},
   "outputs": [],
   "source": [
    "from sklearn.model_selection import train_test_split\n",
    "X_train, X_test, y_train, y_test = train_test_split(X, y, test_size=0.2, random_state=40)"
   ]
  },
  {
   "cell_type": "code",
   "execution_count": 30,
   "id": "3829688e-bda2-45c4-8938-f862c5bdee22",
   "metadata": {},
   "outputs": [
    {
     "data": {
      "text/plain": [
       "((24, 1), (24,))"
      ]
     },
     "execution_count": 30,
     "metadata": {},
     "output_type": "execute_result"
    }
   ],
   "source": [
    "X_train.shape, y_train.shape"
   ]
  },
  {
   "cell_type": "markdown",
   "id": "406dc7e1-fb00-4dc2-838d-c13556642b1e",
   "metadata": {},
   "source": [
    "## Modeling"
   ]
  },
  {
   "cell_type": "code",
   "execution_count": 22,
   "id": "ede73cc6-5be0-4060-a907-356b36b2b17c",
   "metadata": {},
   "outputs": [],
   "source": [
    "# importing regression model\n",
    "from sklearn.linear_model import LinearRegression, Ridge, Lasso, ElasticNet"
   ]
  },
  {
   "cell_type": "code",
   "execution_count": 38,
   "id": "3dc427f4-924e-441a-89c8-2231a1ee96ad",
   "metadata": {},
   "outputs": [],
   "source": [
    "# linearRegression\n",
    "lr_model = LinearRegression()\n",
    "lr_model.fit(X_train,y_train)\n",
    "y_pred = lr_model.predict(X_test)"
   ]
  },
  {
   "cell_type": "markdown",
   "id": "c5db3b5a-5e06-4454-aecc-77f233bec533",
   "metadata": {},
   "source": [
    "## Evaluation "
   ]
  },
  {
   "cell_type": "code",
   "execution_count": 39,
   "id": "9cbb87c7-c943-4359-a7d7-4173a432839e",
   "metadata": {},
   "outputs": [
    {
     "name": "stdout",
     "output_type": "stream",
     "text": [
      "R2 score of LinearRegression is 0.7775083459037235\n"
     ]
    }
   ],
   "source": [
    "from sklearn.metrics import r2_score\n",
    "r2 = r2_score(y_true=y_test, y_pred=y_pred)\n",
    "print(f\"R2 score of LinearRegression is {r2}\")"
   ]
  },
  {
   "cell_type": "code",
   "execution_count": 40,
   "id": "b92b0592-a5ff-4490-a27e-726f3a43e87b",
   "metadata": {},
   "outputs": [
    {
     "name": "stdout",
     "output_type": "stream",
     "text": [
      "R2 score of RidgeRegression is 0.7750078818584558\n"
     ]
    }
   ],
   "source": [
    "# Ridge Regression\n",
    "r_model = Ridge()\n",
    "r_model.fit(X_train, y_train)\n",
    "y_pred = r_model.predict(X_test)\n",
    "r2 = r2_score(y_true=y_test, y_pred=y_pred)\n",
    "print(f\"R2 score of RidgeRegression is {r2}\")"
   ]
  },
  {
   "cell_type": "code",
   "execution_count": 41,
   "id": "dc06e450-d74b-4474-9d94-a5bd9e215229",
   "metadata": {},
   "outputs": [
    {
     "name": "stdout",
     "output_type": "stream",
     "text": [
      "R2 score of LassoRegression is 0.7775019001468908\n"
     ]
    }
   ],
   "source": [
    "# Lasso Regression\n",
    "l_model = Lasso()\n",
    "l_model.fit(X_train, y_train)\n",
    "y_pred = l_model.predict(X_test)\n",
    "r2 = r2_score(y_true=y_test, y_pred=y_pred)\n",
    "print(f\"R2 score of LassoRegression is {r2}\")"
   ]
  },
  {
   "cell_type": "code",
   "execution_count": 42,
   "id": "d7f1f411-02e2-496c-9b60-a5992947fa7b",
   "metadata": {},
   "outputs": [
    {
     "name": "stdout",
     "output_type": "stream",
     "text": [
      "R2 score of ElasticNetRegression is 0.7462488917745826\n"
     ]
    }
   ],
   "source": [
    "# ElasticNet Regression\n",
    "e_model = ElasticNet()\n",
    "e_model.fit(X_train, y_train)\n",
    "y_pred = e_model.predict(X_test)\n",
    "r2 = r2_score(y_true=y_test, y_pred=y_pred)\n",
    "print(f\"R2 score of ElasticNetRegression is {r2}\")"
   ]
  },
  {
   "cell_type": "markdown",
   "id": "ee66a26e-9cf9-4879-89d5-e4e851877204",
   "metadata": {},
   "source": [
    "* LinearRegression and lasso regression has higher r2 score so we use linear or lasso regression in this data"
   ]
  },
  {
   "cell_type": "markdown",
   "id": "780c4d4f-8b2a-4c8e-81c7-e660fa7606d6",
   "metadata": {},
   "source": [
    "## Serialization"
   ]
  },
  {
   "cell_type": "code",
   "execution_count": 43,
   "id": "847bab3a-72ef-46c6-bef5-a1212e9ab33d",
   "metadata": {},
   "outputs": [],
   "source": [
    "import pickle"
   ]
  },
  {
   "cell_type": "code",
   "execution_count": 45,
   "id": "0b61967a-cfd5-4f85-a0b8-59803012f09d",
   "metadata": {},
   "outputs": [],
   "source": [
    "with open(\"model.pickle\",\"bw\") as file:\n",
    "    pickle.dump(lr_model,file)"
   ]
  },
  {
   "cell_type": "markdown",
   "id": "e42462bb-f441-4d0c-a8c5-eaec64e7d553",
   "metadata": {},
   "source": [
    "## Deserialization"
   ]
  },
  {
   "cell_type": "code",
   "execution_count": 46,
   "id": "1885575c-19b1-4b40-846a-69c61ae16867",
   "metadata": {},
   "outputs": [],
   "source": [
    "with open(\"model.pickle\",\"br\") as file:\n",
    "    model = pickle.load(file)"
   ]
  },
  {
   "cell_type": "code",
   "execution_count": 47,
   "id": "2f0691f9-6897-4d80-980d-d76fd416d84d",
   "metadata": {},
   "outputs": [
    {
     "name": "stderr",
     "output_type": "stream",
     "text": [
      "C:\\Users\\Thinkpad\\AppData\\Local\\Programs\\Python\\Python311\\Lib\\site-packages\\sklearn\\base.py:493: UserWarning: X does not have valid feature names, but LinearRegression was fitted with feature names\n",
      "  warnings.warn(\n"
     ]
    },
    {
     "data": {
      "text/plain": [
       "array([64605.78794574])"
      ]
     },
     "execution_count": 47,
     "metadata": {},
     "output_type": "execute_result"
    }
   ],
   "source": [
    "model.predict([[4]])"
   ]
  },
  {
   "cell_type": "code",
   "execution_count": null,
   "id": "79108796-8c5c-4eed-9a7a-4c99b58c68ac",
   "metadata": {},
   "outputs": [],
   "source": []
  }
 ],
 "metadata": {
  "kernelspec": {
   "display_name": "Python 3 (ipykernel)",
   "language": "python",
   "name": "python3"
  },
  "language_info": {
   "codemirror_mode": {
    "name": "ipython",
    "version": 3
   },
   "file_extension": ".py",
   "mimetype": "text/x-python",
   "name": "python",
   "nbconvert_exporter": "python",
   "pygments_lexer": "ipython3",
   "version": "3.11.1"
  }
 },
 "nbformat": 4,
 "nbformat_minor": 5
}

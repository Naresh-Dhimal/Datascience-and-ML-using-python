{
 "cells": [
  {
   "cell_type": "code",
   "execution_count": 496,
   "id": "ab55a42d-dc66-4041-8a19-dc91b753144e",
   "metadata": {},
   "outputs": [],
   "source": [
    "# import libraries\n",
    "import pandas as pd"
   ]
  },
  {
   "cell_type": "code",
   "execution_count": 497,
   "id": "5067f3bf-2371-4cd3-8dca-a6ecb75819e7",
   "metadata": {},
   "outputs": [
    {
     "data": {
      "text/html": [
       "<div>\n",
       "<style scoped>\n",
       "    .dataframe tbody tr th:only-of-type {\n",
       "        vertical-align: middle;\n",
       "    }\n",
       "\n",
       "    .dataframe tbody tr th {\n",
       "        vertical-align: top;\n",
       "    }\n",
       "\n",
       "    .dataframe thead th {\n",
       "        text-align: right;\n",
       "    }\n",
       "</style>\n",
       "<table border=\"1\" class=\"dataframe\">\n",
       "  <thead>\n",
       "    <tr style=\"text-align: right;\">\n",
       "      <th></th>\n",
       "      <th>Airline</th>\n",
       "      <th>Date_of_Journey</th>\n",
       "      <th>Source</th>\n",
       "      <th>Destination</th>\n",
       "      <th>Route</th>\n",
       "      <th>Dep_Time</th>\n",
       "      <th>Arrival_Time</th>\n",
       "      <th>Duration</th>\n",
       "      <th>Total_Stops</th>\n",
       "      <th>Additional_Info</th>\n",
       "      <th>Price</th>\n",
       "    </tr>\n",
       "  </thead>\n",
       "  <tbody>\n",
       "    <tr>\n",
       "      <th>0</th>\n",
       "      <td>IndiGo</td>\n",
       "      <td>24/03/2019</td>\n",
       "      <td>Banglore</td>\n",
       "      <td>New Delhi</td>\n",
       "      <td>BLR → DEL</td>\n",
       "      <td>22:20</td>\n",
       "      <td>01:10 22 Mar</td>\n",
       "      <td>2h 50m</td>\n",
       "      <td>non-stop</td>\n",
       "      <td>No info</td>\n",
       "      <td>3897</td>\n",
       "    </tr>\n",
       "    <tr>\n",
       "      <th>1</th>\n",
       "      <td>Air India</td>\n",
       "      <td>1/05/2019</td>\n",
       "      <td>Kolkata</td>\n",
       "      <td>Banglore</td>\n",
       "      <td>CCU → IXR → BBI → BLR</td>\n",
       "      <td>05:50</td>\n",
       "      <td>13:15</td>\n",
       "      <td>7h 25m</td>\n",
       "      <td>2 stops</td>\n",
       "      <td>No info</td>\n",
       "      <td>7662</td>\n",
       "    </tr>\n",
       "  </tbody>\n",
       "</table>\n",
       "</div>"
      ],
      "text/plain": [
       "     Airline Date_of_Journey    Source Destination                  Route  \\\n",
       "0     IndiGo      24/03/2019  Banglore   New Delhi              BLR → DEL   \n",
       "1  Air India       1/05/2019   Kolkata    Banglore  CCU → IXR → BBI → BLR   \n",
       "\n",
       "  Dep_Time  Arrival_Time Duration Total_Stops Additional_Info  Price  \n",
       "0    22:20  01:10 22 Mar   2h 50m    non-stop         No info   3897  \n",
       "1    05:50         13:15   7h 25m     2 stops         No info   7662  "
      ]
     },
     "execution_count": 497,
     "metadata": {},
     "output_type": "execute_result"
    }
   ],
   "source": [
    "df = pd.read_excel(\"Data_Train.xlsx\")\n",
    "df.head(2)"
   ]
  },
  {
   "cell_type": "markdown",
   "id": "746821ed-0e12-4ca0-be6b-32f059b64fe4",
   "metadata": {},
   "source": [
    "# We have to predict the price of airtickets"
   ]
  },
  {
   "cell_type": "markdown",
   "id": "674f4fce-e26d-46a8-9185-7ee464ba9895",
   "metadata": {},
   "source": [
    "# Data Profiling and inspection"
   ]
  },
  {
   "cell_type": "markdown",
   "id": "438d51ca-d70e-4b62-8f25-9dd73009aab3",
   "metadata": {},
   "source": [
    "### checking the data types"
   ]
  },
  {
   "cell_type": "code",
   "execution_count": 498,
   "id": "01a287a7-0d77-45f3-b579-fc96947dde80",
   "metadata": {},
   "outputs": [
    {
     "data": {
      "text/plain": [
       "Airline            object\n",
       "Date_of_Journey    object\n",
       "Source             object\n",
       "Destination        object\n",
       "Route              object\n",
       "Dep_Time           object\n",
       "Arrival_Time       object\n",
       "Duration           object\n",
       "Total_Stops        object\n",
       "Additional_Info    object\n",
       "Price               int64\n",
       "dtype: object"
      ]
     },
     "execution_count": 498,
     "metadata": {},
     "output_type": "execute_result"
    }
   ],
   "source": [
    "# checking the data types\n",
    "df.dtypes"
   ]
  },
  {
   "cell_type": "markdown",
   "id": "a87851c2-1df5-41e0-9b7d-dd305a6d93ed",
   "metadata": {},
   "source": [
    "* data types of dataframe are object and int"
   ]
  },
  {
   "cell_type": "markdown",
   "id": "0395febd-7047-481a-a20e-21a0b1ec299f",
   "metadata": {},
   "source": [
    "### Descritive statistic"
   ]
  },
  {
   "cell_type": "code",
   "execution_count": 499,
   "id": "65b179c9-c72a-4403-8480-3da599e4baf6",
   "metadata": {},
   "outputs": [
    {
     "data": {
      "text/html": [
       "<div>\n",
       "<style scoped>\n",
       "    .dataframe tbody tr th:only-of-type {\n",
       "        vertical-align: middle;\n",
       "    }\n",
       "\n",
       "    .dataframe tbody tr th {\n",
       "        vertical-align: top;\n",
       "    }\n",
       "\n",
       "    .dataframe thead th {\n",
       "        text-align: right;\n",
       "    }\n",
       "</style>\n",
       "<table border=\"1\" class=\"dataframe\">\n",
       "  <thead>\n",
       "    <tr style=\"text-align: right;\">\n",
       "      <th></th>\n",
       "      <th>Price</th>\n",
       "    </tr>\n",
       "  </thead>\n",
       "  <tbody>\n",
       "    <tr>\n",
       "      <th>count</th>\n",
       "      <td>10683.000000</td>\n",
       "    </tr>\n",
       "    <tr>\n",
       "      <th>mean</th>\n",
       "      <td>9087.064121</td>\n",
       "    </tr>\n",
       "    <tr>\n",
       "      <th>std</th>\n",
       "      <td>4611.359167</td>\n",
       "    </tr>\n",
       "    <tr>\n",
       "      <th>min</th>\n",
       "      <td>1759.000000</td>\n",
       "    </tr>\n",
       "    <tr>\n",
       "      <th>25%</th>\n",
       "      <td>5277.000000</td>\n",
       "    </tr>\n",
       "    <tr>\n",
       "      <th>50%</th>\n",
       "      <td>8372.000000</td>\n",
       "    </tr>\n",
       "    <tr>\n",
       "      <th>75%</th>\n",
       "      <td>12373.000000</td>\n",
       "    </tr>\n",
       "    <tr>\n",
       "      <th>max</th>\n",
       "      <td>79512.000000</td>\n",
       "    </tr>\n",
       "  </tbody>\n",
       "</table>\n",
       "</div>"
      ],
      "text/plain": [
       "              Price\n",
       "count  10683.000000\n",
       "mean    9087.064121\n",
       "std     4611.359167\n",
       "min     1759.000000\n",
       "25%     5277.000000\n",
       "50%     8372.000000\n",
       "75%    12373.000000\n",
       "max    79512.000000"
      ]
     },
     "execution_count": 499,
     "metadata": {},
     "output_type": "execute_result"
    }
   ],
   "source": [
    "df.describe() # for numerical data"
   ]
  },
  {
   "cell_type": "markdown",
   "id": "925b54fc-4ac1-4fe8-b1a1-ee41c0f067ff",
   "metadata": {},
   "source": [
    "* total count of price is 10683.\n",
    "* mean of price is 9087.064121.\n",
    "* median of price is 8372.\n",
    "* standard deviation of price is 4611.359167.\n",
    "* minimum value of price is 1759.\n",
    "* data falls below 25% is 5277.\n",
    "* data falls below 75% is 12373.\n",
    "* maximum value of price is 79512."
   ]
  },
  {
   "cell_type": "code",
   "execution_count": 500,
   "id": "502e6afb-112a-42fc-922a-348a46fe3d5a",
   "metadata": {},
   "outputs": [
    {
     "data": {
      "text/html": [
       "<div>\n",
       "<style scoped>\n",
       "    .dataframe tbody tr th:only-of-type {\n",
       "        vertical-align: middle;\n",
       "    }\n",
       "\n",
       "    .dataframe tbody tr th {\n",
       "        vertical-align: top;\n",
       "    }\n",
       "\n",
       "    .dataframe thead th {\n",
       "        text-align: right;\n",
       "    }\n",
       "</style>\n",
       "<table border=\"1\" class=\"dataframe\">\n",
       "  <thead>\n",
       "    <tr style=\"text-align: right;\">\n",
       "      <th></th>\n",
       "      <th>Airline</th>\n",
       "      <th>Date_of_Journey</th>\n",
       "      <th>Source</th>\n",
       "      <th>Destination</th>\n",
       "      <th>Route</th>\n",
       "      <th>Dep_Time</th>\n",
       "      <th>Arrival_Time</th>\n",
       "      <th>Duration</th>\n",
       "      <th>Total_Stops</th>\n",
       "      <th>Additional_Info</th>\n",
       "    </tr>\n",
       "  </thead>\n",
       "  <tbody>\n",
       "    <tr>\n",
       "      <th>count</th>\n",
       "      <td>10683</td>\n",
       "      <td>10683</td>\n",
       "      <td>10683</td>\n",
       "      <td>10683</td>\n",
       "      <td>10682</td>\n",
       "      <td>10683</td>\n",
       "      <td>10683</td>\n",
       "      <td>10683</td>\n",
       "      <td>10682</td>\n",
       "      <td>10683</td>\n",
       "    </tr>\n",
       "    <tr>\n",
       "      <th>unique</th>\n",
       "      <td>12</td>\n",
       "      <td>44</td>\n",
       "      <td>5</td>\n",
       "      <td>6</td>\n",
       "      <td>128</td>\n",
       "      <td>222</td>\n",
       "      <td>1343</td>\n",
       "      <td>368</td>\n",
       "      <td>5</td>\n",
       "      <td>10</td>\n",
       "    </tr>\n",
       "    <tr>\n",
       "      <th>top</th>\n",
       "      <td>Jet Airways</td>\n",
       "      <td>18/05/2019</td>\n",
       "      <td>Delhi</td>\n",
       "      <td>Cochin</td>\n",
       "      <td>DEL → BOM → COK</td>\n",
       "      <td>18:55</td>\n",
       "      <td>19:00</td>\n",
       "      <td>2h 50m</td>\n",
       "      <td>1 stop</td>\n",
       "      <td>No info</td>\n",
       "    </tr>\n",
       "    <tr>\n",
       "      <th>freq</th>\n",
       "      <td>3849</td>\n",
       "      <td>504</td>\n",
       "      <td>4537</td>\n",
       "      <td>4537</td>\n",
       "      <td>2376</td>\n",
       "      <td>233</td>\n",
       "      <td>423</td>\n",
       "      <td>550</td>\n",
       "      <td>5625</td>\n",
       "      <td>8345</td>\n",
       "    </tr>\n",
       "  </tbody>\n",
       "</table>\n",
       "</div>"
      ],
      "text/plain": [
       "            Airline Date_of_Journey Source Destination            Route  \\\n",
       "count         10683           10683  10683       10683            10682   \n",
       "unique           12              44      5           6              128   \n",
       "top     Jet Airways      18/05/2019  Delhi      Cochin  DEL → BOM → COK   \n",
       "freq           3849             504   4537        4537             2376   \n",
       "\n",
       "       Dep_Time Arrival_Time Duration Total_Stops Additional_Info  \n",
       "count     10683        10683    10683       10682           10683  \n",
       "unique      222         1343      368           5              10  \n",
       "top       18:55        19:00   2h 50m      1 stop         No info  \n",
       "freq        233          423      550        5625            8345  "
      ]
     },
     "execution_count": 500,
     "metadata": {},
     "output_type": "execute_result"
    }
   ],
   "source": [
    "df.describe(include=\"object\") # for categorical data"
   ]
  },
  {
   "cell_type": "markdown",
   "id": "910aa8d6-8a69-4bb8-9ccf-bb84d2d17f7e",
   "metadata": {},
   "source": [
    "* there are 12 unique airline and Jet Airways is the most appear with 3849 times\n",
    "* 18/05/2019 is the most appear date of journey with 504 times\n",
    "* Delhi is the most appear source  with 4537 times\n",
    "* Cochin is the most appear destination  with 4537 times\n",
    "* DEL-BOM-COK is the most appear route  with 2376 times\n",
    "* most of depature time and arrival are 18:55 and 19:00 respectively.\n"
   ]
  },
  {
   "cell_type": "markdown",
   "id": "32ff0caa-ed2e-4ed5-a600-2015c6f016ed",
   "metadata": {},
   "source": [
    "### Shape"
   ]
  },
  {
   "cell_type": "code",
   "execution_count": 501,
   "id": "0c66e6c1-6cfa-4911-872c-bf80c6dedfa2",
   "metadata": {},
   "outputs": [
    {
     "data": {
      "text/plain": [
       "(10683, 11)"
      ]
     },
     "execution_count": 501,
     "metadata": {},
     "output_type": "execute_result"
    }
   ],
   "source": [
    "# checking the shape of data\n",
    "df.shape"
   ]
  },
  {
   "cell_type": "markdown",
   "id": "3eea3297-c2a0-4b2a-b82e-b67af05b4345",
   "metadata": {},
   "source": [
    "* total number of rows is 10683.\n",
    "* total number of columns is 11."
   ]
  },
  {
   "cell_type": "markdown",
   "id": "474cd747-4bd3-4a62-a9ed-fc37819cca8b",
   "metadata": {},
   "source": [
    "### Overview overall information"
   ]
  },
  {
   "cell_type": "code",
   "execution_count": 502,
   "id": "e414bcb8-3659-4e53-a0d3-1b2e529cac2e",
   "metadata": {},
   "outputs": [
    {
     "name": "stdout",
     "output_type": "stream",
     "text": [
      "<class 'pandas.core.frame.DataFrame'>\n",
      "RangeIndex: 10683 entries, 0 to 10682\n",
      "Data columns (total 11 columns):\n",
      " #   Column           Non-Null Count  Dtype \n",
      "---  ------           --------------  ----- \n",
      " 0   Airline          10683 non-null  object\n",
      " 1   Date_of_Journey  10683 non-null  object\n",
      " 2   Source           10683 non-null  object\n",
      " 3   Destination      10683 non-null  object\n",
      " 4   Route            10682 non-null  object\n",
      " 5   Dep_Time         10683 non-null  object\n",
      " 6   Arrival_Time     10683 non-null  object\n",
      " 7   Duration         10683 non-null  object\n",
      " 8   Total_Stops      10682 non-null  object\n",
      " 9   Additional_Info  10683 non-null  object\n",
      " 10  Price            10683 non-null  int64 \n",
      "dtypes: int64(1), object(10)\n",
      "memory usage: 918.2+ KB\n"
     ]
    }
   ],
   "source": [
    "# viewing overall information of data\n",
    "df.info()"
   ]
  },
  {
   "cell_type": "markdown",
   "id": "7e84c63d-d02b-4d8e-b62f-8d0ea38bd016",
   "metadata": {},
   "source": [
    "* 'Airline', 'Date_of_Journey', 'Source', 'Destination', 'Route',\n",
    "       'Dep_Time', 'Arrival_Time', 'Duration', 'Total_Stops',\n",
    "       'Additional_Info' are string and 'Price' is int.\n",
    "* Route has 10682 non-null values \n",
    "* Total_Stops has 10682 non-null values "
   ]
  },
  {
   "cell_type": "markdown",
   "id": "d2e3ffd8-31ae-4eed-a79d-3a1ee63b9d17",
   "metadata": {},
   "source": [
    "### Checking null value"
   ]
  },
  {
   "cell_type": "code",
   "execution_count": 503,
   "id": "45484b50-f27f-499d-b193-bed991a0aec1",
   "metadata": {},
   "outputs": [
    {
     "data": {
      "text/plain": [
       "Airline            0\n",
       "Date_of_Journey    0\n",
       "Source             0\n",
       "Destination        0\n",
       "Route              1\n",
       "Dep_Time           0\n",
       "Arrival_Time       0\n",
       "Duration           0\n",
       "Total_Stops        1\n",
       "Additional_Info    0\n",
       "Price              0\n",
       "dtype: int64"
      ]
     },
     "execution_count": 503,
     "metadata": {},
     "output_type": "execute_result"
    }
   ],
   "source": [
    "df.isna().sum()"
   ]
  },
  {
   "cell_type": "markdown",
   "id": "f8fb7725-9f06-4b8f-b8fd-1517f80b632d",
   "metadata": {},
   "source": [
    "* Route and Total_Stops has 1 missing value"
   ]
  },
  {
   "cell_type": "markdown",
   "id": "d60d6259-80b9-4734-92a2-69a08f70b6e1",
   "metadata": {},
   "source": [
    "### Removing null rows"
   ]
  },
  {
   "cell_type": "code",
   "execution_count": 504,
   "id": "3000ba99-8c6a-4413-8f43-ee89cdd1b5d1",
   "metadata": {},
   "outputs": [
    {
     "data": {
      "text/plain": [
       "1"
      ]
     },
     "execution_count": 504,
     "metadata": {},
     "output_type": "execute_result"
    }
   ],
   "source": [
    "df.isna().any(axis='columns').sum()"
   ]
  },
  {
   "cell_type": "code",
   "execution_count": 505,
   "id": "1e1b8c1a-9aec-4cce-9a20-61c47137d3b7",
   "metadata": {},
   "outputs": [
    {
     "data": {
      "text/html": [
       "<div>\n",
       "<style scoped>\n",
       "    .dataframe tbody tr th:only-of-type {\n",
       "        vertical-align: middle;\n",
       "    }\n",
       "\n",
       "    .dataframe tbody tr th {\n",
       "        vertical-align: top;\n",
       "    }\n",
       "\n",
       "    .dataframe thead th {\n",
       "        text-align: right;\n",
       "    }\n",
       "</style>\n",
       "<table border=\"1\" class=\"dataframe\">\n",
       "  <thead>\n",
       "    <tr style=\"text-align: right;\">\n",
       "      <th></th>\n",
       "      <th>Airline</th>\n",
       "      <th>Date_of_Journey</th>\n",
       "      <th>Source</th>\n",
       "      <th>Destination</th>\n",
       "      <th>Route</th>\n",
       "      <th>Dep_Time</th>\n",
       "      <th>Arrival_Time</th>\n",
       "      <th>Duration</th>\n",
       "      <th>Total_Stops</th>\n",
       "      <th>Additional_Info</th>\n",
       "      <th>Price</th>\n",
       "    </tr>\n",
       "  </thead>\n",
       "  <tbody>\n",
       "    <tr>\n",
       "      <th>9039</th>\n",
       "      <td>Air India</td>\n",
       "      <td>6/05/2019</td>\n",
       "      <td>Delhi</td>\n",
       "      <td>Cochin</td>\n",
       "      <td>NaN</td>\n",
       "      <td>09:45</td>\n",
       "      <td>09:25 07 May</td>\n",
       "      <td>23h 40m</td>\n",
       "      <td>NaN</td>\n",
       "      <td>No info</td>\n",
       "      <td>7480</td>\n",
       "    </tr>\n",
       "  </tbody>\n",
       "</table>\n",
       "</div>"
      ],
      "text/plain": [
       "        Airline Date_of_Journey Source Destination Route Dep_Time  \\\n",
       "9039  Air India       6/05/2019  Delhi      Cochin   NaN    09:45   \n",
       "\n",
       "      Arrival_Time Duration Total_Stops Additional_Info  Price  \n",
       "9039  09:25 07 May  23h 40m         NaN         No info   7480  "
      ]
     },
     "execution_count": 505,
     "metadata": {},
     "output_type": "execute_result"
    }
   ],
   "source": [
    "df.loc[df.isna().any(axis='columns')] # viewing null values row"
   ]
  },
  {
   "cell_type": "code",
   "execution_count": 506,
   "id": "b985b899-c2d6-4266-b1d0-4bd4e367bb16",
   "metadata": {},
   "outputs": [],
   "source": [
    "df.dropna(inplace=True) # removing the null rows"
   ]
  },
  {
   "cell_type": "code",
   "execution_count": 507,
   "id": "668d9787-9061-4d38-a92a-31f06964c9ff",
   "metadata": {},
   "outputs": [
    {
     "data": {
      "text/html": [
       "<div>\n",
       "<style scoped>\n",
       "    .dataframe tbody tr th:only-of-type {\n",
       "        vertical-align: middle;\n",
       "    }\n",
       "\n",
       "    .dataframe tbody tr th {\n",
       "        vertical-align: top;\n",
       "    }\n",
       "\n",
       "    .dataframe thead th {\n",
       "        text-align: right;\n",
       "    }\n",
       "</style>\n",
       "<table border=\"1\" class=\"dataframe\">\n",
       "  <thead>\n",
       "    <tr style=\"text-align: right;\">\n",
       "      <th></th>\n",
       "      <th>Airline</th>\n",
       "      <th>Date_of_Journey</th>\n",
       "      <th>Source</th>\n",
       "      <th>Destination</th>\n",
       "      <th>Route</th>\n",
       "      <th>Dep_Time</th>\n",
       "      <th>Arrival_Time</th>\n",
       "      <th>Duration</th>\n",
       "      <th>Total_Stops</th>\n",
       "      <th>Additional_Info</th>\n",
       "      <th>Price</th>\n",
       "    </tr>\n",
       "  </thead>\n",
       "  <tbody>\n",
       "    <tr>\n",
       "      <th>0</th>\n",
       "      <td>IndiGo</td>\n",
       "      <td>24/03/2019</td>\n",
       "      <td>Banglore</td>\n",
       "      <td>New Delhi</td>\n",
       "      <td>BLR → DEL</td>\n",
       "      <td>22:20</td>\n",
       "      <td>01:10 22 Mar</td>\n",
       "      <td>2h 50m</td>\n",
       "      <td>non-stop</td>\n",
       "      <td>No info</td>\n",
       "      <td>3897</td>\n",
       "    </tr>\n",
       "    <tr>\n",
       "      <th>1</th>\n",
       "      <td>Air India</td>\n",
       "      <td>1/05/2019</td>\n",
       "      <td>Kolkata</td>\n",
       "      <td>Banglore</td>\n",
       "      <td>CCU → IXR → BBI → BLR</td>\n",
       "      <td>05:50</td>\n",
       "      <td>13:15</td>\n",
       "      <td>7h 25m</td>\n",
       "      <td>2 stops</td>\n",
       "      <td>No info</td>\n",
       "      <td>7662</td>\n",
       "    </tr>\n",
       "  </tbody>\n",
       "</table>\n",
       "</div>"
      ],
      "text/plain": [
       "     Airline Date_of_Journey    Source Destination                  Route  \\\n",
       "0     IndiGo      24/03/2019  Banglore   New Delhi              BLR → DEL   \n",
       "1  Air India       1/05/2019   Kolkata    Banglore  CCU → IXR → BBI → BLR   \n",
       "\n",
       "  Dep_Time  Arrival_Time Duration Total_Stops Additional_Info  Price  \n",
       "0    22:20  01:10 22 Mar   2h 50m    non-stop         No info   3897  \n",
       "1    05:50         13:15   7h 25m     2 stops         No info   7662  "
      ]
     },
     "execution_count": 507,
     "metadata": {},
     "output_type": "execute_result"
    }
   ],
   "source": [
    "df.head(2)"
   ]
  },
  {
   "cell_type": "markdown",
   "id": "f31d5be8-f4c7-49a9-8aec-c4ba562db70c",
   "metadata": {},
   "source": [
    "### Converting Date_of_journy according to datetime"
   ]
  },
  {
   "cell_type": "code",
   "execution_count": 508,
   "id": "95a899d0-9e68-40c2-9274-9450a4dd88aa",
   "metadata": {},
   "outputs": [
    {
     "name": "stderr",
     "output_type": "stream",
     "text": [
      "C:\\Users\\Thinkpad\\AppData\\Local\\Temp\\ipykernel_5796\\402176384.py:2: UserWarning: Parsing dates in %d/%m/%Y format when dayfirst=False (the default) was specified. Pass `dayfirst=True` or specify a format to silence this warning.\n",
      "  data_time  = pd.to_datetime(data_of_journey)\n"
     ]
    }
   ],
   "source": [
    "data_of_journey = df[\"Date_of_Journey\"]\n",
    "data_time  = pd.to_datetime(data_of_journey)\n",
    "df[\"Date_of_Journey\"] = data_time"
   ]
  },
  {
   "cell_type": "markdown",
   "id": "22371b37-d3d8-4d29-94f7-648d84c78c70",
   "metadata": {},
   "source": [
    "### Extracting month and day and updating in original data"
   ]
  },
  {
   "cell_type": "code",
   "execution_count": 509,
   "id": "ada53173-18f3-4c29-a668-9920fefc8575",
   "metadata": {},
   "outputs": [],
   "source": [
    "df['month'] = pd.DatetimeIndex(df['Date_of_Journey']).month # extracting month from Date_of_Journey and adding new columns month with extracted values \n",
    "df['day'] = pd.DatetimeIndex(df['Date_of_Journey']).day # extracting day from Date_of_Journey and adding new columns day with extracted values"
   ]
  },
  {
   "cell_type": "code",
   "execution_count": 510,
   "id": "1e60d307-6f8a-43d5-b258-f3dc7a438343",
   "metadata": {},
   "outputs": [
    {
     "data": {
      "text/html": [
       "<div>\n",
       "<style scoped>\n",
       "    .dataframe tbody tr th:only-of-type {\n",
       "        vertical-align: middle;\n",
       "    }\n",
       "\n",
       "    .dataframe tbody tr th {\n",
       "        vertical-align: top;\n",
       "    }\n",
       "\n",
       "    .dataframe thead th {\n",
       "        text-align: right;\n",
       "    }\n",
       "</style>\n",
       "<table border=\"1\" class=\"dataframe\">\n",
       "  <thead>\n",
       "    <tr style=\"text-align: right;\">\n",
       "      <th></th>\n",
       "      <th>Airline</th>\n",
       "      <th>Date_of_Journey</th>\n",
       "      <th>Source</th>\n",
       "      <th>Destination</th>\n",
       "      <th>Route</th>\n",
       "      <th>Dep_Time</th>\n",
       "      <th>Arrival_Time</th>\n",
       "      <th>Duration</th>\n",
       "      <th>Total_Stops</th>\n",
       "      <th>Additional_Info</th>\n",
       "      <th>Price</th>\n",
       "      <th>month</th>\n",
       "      <th>day</th>\n",
       "    </tr>\n",
       "  </thead>\n",
       "  <tbody>\n",
       "    <tr>\n",
       "      <th>0</th>\n",
       "      <td>IndiGo</td>\n",
       "      <td>2019-03-24</td>\n",
       "      <td>Banglore</td>\n",
       "      <td>New Delhi</td>\n",
       "      <td>BLR → DEL</td>\n",
       "      <td>22:20</td>\n",
       "      <td>01:10 22 Mar</td>\n",
       "      <td>2h 50m</td>\n",
       "      <td>non-stop</td>\n",
       "      <td>No info</td>\n",
       "      <td>3897</td>\n",
       "      <td>3</td>\n",
       "      <td>24</td>\n",
       "    </tr>\n",
       "    <tr>\n",
       "      <th>1</th>\n",
       "      <td>Air India</td>\n",
       "      <td>2019-05-01</td>\n",
       "      <td>Kolkata</td>\n",
       "      <td>Banglore</td>\n",
       "      <td>CCU → IXR → BBI → BLR</td>\n",
       "      <td>05:50</td>\n",
       "      <td>13:15</td>\n",
       "      <td>7h 25m</td>\n",
       "      <td>2 stops</td>\n",
       "      <td>No info</td>\n",
       "      <td>7662</td>\n",
       "      <td>5</td>\n",
       "      <td>1</td>\n",
       "    </tr>\n",
       "  </tbody>\n",
       "</table>\n",
       "</div>"
      ],
      "text/plain": [
       "     Airline Date_of_Journey    Source Destination                  Route  \\\n",
       "0     IndiGo      2019-03-24  Banglore   New Delhi              BLR → DEL   \n",
       "1  Air India      2019-05-01   Kolkata    Banglore  CCU → IXR → BBI → BLR   \n",
       "\n",
       "  Dep_Time  Arrival_Time Duration Total_Stops Additional_Info  Price  month  \\\n",
       "0    22:20  01:10 22 Mar   2h 50m    non-stop         No info   3897      3   \n",
       "1    05:50         13:15   7h 25m     2 stops         No info   7662      5   \n",
       "\n",
       "   day  \n",
       "0   24  \n",
       "1    1  "
      ]
     },
     "execution_count": 510,
     "metadata": {},
     "output_type": "execute_result"
    }
   ],
   "source": [
    "df.head(2)"
   ]
  },
  {
   "cell_type": "code",
   "execution_count": 511,
   "id": "ead07104-2f77-4cd6-a6c4-d0d351c77e6c",
   "metadata": {},
   "outputs": [
    {
     "data": {
      "text/plain": [
       "dtype('int32')"
      ]
     },
     "execution_count": 511,
     "metadata": {},
     "output_type": "execute_result"
    }
   ],
   "source": [
    "df['month'].dtypes # checking the data types of month"
   ]
  },
  {
   "cell_type": "markdown",
   "id": "1b09cb66-20d6-4c39-970d-832c304bda97",
   "metadata": {},
   "source": [
    "### Creating Date_of_journey DataFrame"
   ]
  },
  {
   "cell_type": "code",
   "execution_count": 512,
   "id": "90754175-df8f-43b2-ba92-2e5d4b855d2e",
   "metadata": {},
   "outputs": [
    {
     "data": {
      "text/html": [
       "<div>\n",
       "<style scoped>\n",
       "    .dataframe tbody tr th:only-of-type {\n",
       "        vertical-align: middle;\n",
       "    }\n",
       "\n",
       "    .dataframe tbody tr th {\n",
       "        vertical-align: top;\n",
       "    }\n",
       "\n",
       "    .dataframe thead th {\n",
       "        text-align: right;\n",
       "    }\n",
       "</style>\n",
       "<table border=\"1\" class=\"dataframe\">\n",
       "  <thead>\n",
       "    <tr style=\"text-align: right;\">\n",
       "      <th></th>\n",
       "      <th>Date_of_Journey</th>\n",
       "      <th>month</th>\n",
       "      <th>day</th>\n",
       "    </tr>\n",
       "  </thead>\n",
       "  <tbody>\n",
       "    <tr>\n",
       "      <th>0</th>\n",
       "      <td>2019-03-24</td>\n",
       "      <td>3</td>\n",
       "      <td>24</td>\n",
       "    </tr>\n",
       "    <tr>\n",
       "      <th>1</th>\n",
       "      <td>2019-05-01</td>\n",
       "      <td>5</td>\n",
       "      <td>1</td>\n",
       "    </tr>\n",
       "  </tbody>\n",
       "</table>\n",
       "</div>"
      ],
      "text/plain": [
       "  Date_of_Journey  month  day\n",
       "0      2019-03-24      3   24\n",
       "1      2019-05-01      5    1"
      ]
     },
     "execution_count": 512,
     "metadata": {},
     "output_type": "execute_result"
    }
   ],
   "source": [
    "Date_of_Journey = df.loc[:,[\"Date_of_Journey\"]]\n",
    "Date_of_Journey[\"month\"] = pd.DatetimeIndex(df['Date_of_Journey']).month\n",
    "Date_of_Journey[\"day\"] = pd.DatetimeIndex(df['Date_of_Journey']).day\n",
    "Date_of_Journey.head(2)"
   ]
  },
  {
   "cell_type": "markdown",
   "id": "80f04be9-1368-410d-8717-8de51b613682",
   "metadata": {},
   "source": [
    "### dropping Data_of_journey from original dataframe"
   ]
  },
  {
   "cell_type": "code",
   "execution_count": 513,
   "id": "34c56983-cfe1-446a-96a5-5d741e4f71dc",
   "metadata": {},
   "outputs": [
    {
     "data": {
      "text/html": [
       "<div>\n",
       "<style scoped>\n",
       "    .dataframe tbody tr th:only-of-type {\n",
       "        vertical-align: middle;\n",
       "    }\n",
       "\n",
       "    .dataframe tbody tr th {\n",
       "        vertical-align: top;\n",
       "    }\n",
       "\n",
       "    .dataframe thead th {\n",
       "        text-align: right;\n",
       "    }\n",
       "</style>\n",
       "<table border=\"1\" class=\"dataframe\">\n",
       "  <thead>\n",
       "    <tr style=\"text-align: right;\">\n",
       "      <th></th>\n",
       "      <th>Airline</th>\n",
       "      <th>Source</th>\n",
       "      <th>Destination</th>\n",
       "      <th>Route</th>\n",
       "      <th>Dep_Time</th>\n",
       "      <th>Arrival_Time</th>\n",
       "      <th>Duration</th>\n",
       "      <th>Total_Stops</th>\n",
       "      <th>Additional_Info</th>\n",
       "      <th>Price</th>\n",
       "      <th>month</th>\n",
       "      <th>day</th>\n",
       "    </tr>\n",
       "  </thead>\n",
       "  <tbody>\n",
       "    <tr>\n",
       "      <th>0</th>\n",
       "      <td>IndiGo</td>\n",
       "      <td>Banglore</td>\n",
       "      <td>New Delhi</td>\n",
       "      <td>BLR → DEL</td>\n",
       "      <td>22:20</td>\n",
       "      <td>01:10 22 Mar</td>\n",
       "      <td>2h 50m</td>\n",
       "      <td>non-stop</td>\n",
       "      <td>No info</td>\n",
       "      <td>3897</td>\n",
       "      <td>3</td>\n",
       "      <td>24</td>\n",
       "    </tr>\n",
       "    <tr>\n",
       "      <th>1</th>\n",
       "      <td>Air India</td>\n",
       "      <td>Kolkata</td>\n",
       "      <td>Banglore</td>\n",
       "      <td>CCU → IXR → BBI → BLR</td>\n",
       "      <td>05:50</td>\n",
       "      <td>13:15</td>\n",
       "      <td>7h 25m</td>\n",
       "      <td>2 stops</td>\n",
       "      <td>No info</td>\n",
       "      <td>7662</td>\n",
       "      <td>5</td>\n",
       "      <td>1</td>\n",
       "    </tr>\n",
       "  </tbody>\n",
       "</table>\n",
       "</div>"
      ],
      "text/plain": [
       "     Airline    Source Destination                  Route Dep_Time  \\\n",
       "0     IndiGo  Banglore   New Delhi              BLR → DEL    22:20   \n",
       "1  Air India   Kolkata    Banglore  CCU → IXR → BBI → BLR    05:50   \n",
       "\n",
       "   Arrival_Time Duration Total_Stops Additional_Info  Price  month  day  \n",
       "0  01:10 22 Mar   2h 50m    non-stop         No info   3897      3   24  \n",
       "1         13:15   7h 25m     2 stops         No info   7662      5    1  "
      ]
     },
     "execution_count": 513,
     "metadata": {},
     "output_type": "execute_result"
    }
   ],
   "source": [
    "df.drop(columns=\"Date_of_Journey\", inplace=True)\n",
    "df.head(2)"
   ]
  },
  {
   "cell_type": "markdown",
   "id": "1a7b08ae-99f3-4c23-a3b9-1eb604cb2d78",
   "metadata": {},
   "source": [
    "### Extracting the  Dep_Time"
   ]
  },
  {
   "cell_type": "code",
   "execution_count": 514,
   "id": "fbe2e36a-dbc2-489f-b4e1-e59f1cad0ba9",
   "metadata": {},
   "outputs": [],
   "source": [
    "dep_hours =  pd.DatetimeIndex(df['Dep_Time']).hour # Extracting hours from Dep_Time\n",
    "dep_minutes =  pd.DatetimeIndex(df['Dep_Time']).minute # Extracting minutes from Dep_Time"
   ]
  },
  {
   "cell_type": "markdown",
   "id": "dfbfee67-bf56-44a6-9c24-88d9719920f5",
   "metadata": {},
   "source": [
    "### adding depature hours and minutes columns in original data"
   ]
  },
  {
   "cell_type": "code",
   "execution_count": 515,
   "id": "f05682dd-7830-4516-b0aa-baa2048b8c9f",
   "metadata": {},
   "outputs": [],
   "source": [
    "df['Depature_hour'] = dep_hours # adding new columns Depature_hour with value dep_hours\n",
    "df['Depature_minute'] = dep_minutes # adding new columns Depature_minute with value dep_minutes"
   ]
  },
  {
   "cell_type": "code",
   "execution_count": 516,
   "id": "07b01e09-9d0e-4738-8962-b09248afdc9d",
   "metadata": {},
   "outputs": [
    {
     "data": {
      "text/html": [
       "<div>\n",
       "<style scoped>\n",
       "    .dataframe tbody tr th:only-of-type {\n",
       "        vertical-align: middle;\n",
       "    }\n",
       "\n",
       "    .dataframe tbody tr th {\n",
       "        vertical-align: top;\n",
       "    }\n",
       "\n",
       "    .dataframe thead th {\n",
       "        text-align: right;\n",
       "    }\n",
       "</style>\n",
       "<table border=\"1\" class=\"dataframe\">\n",
       "  <thead>\n",
       "    <tr style=\"text-align: right;\">\n",
       "      <th></th>\n",
       "      <th>Airline</th>\n",
       "      <th>Source</th>\n",
       "      <th>Destination</th>\n",
       "      <th>Route</th>\n",
       "      <th>Dep_Time</th>\n",
       "      <th>Arrival_Time</th>\n",
       "      <th>Duration</th>\n",
       "      <th>Total_Stops</th>\n",
       "      <th>Additional_Info</th>\n",
       "      <th>Price</th>\n",
       "      <th>month</th>\n",
       "      <th>day</th>\n",
       "      <th>Depature_hour</th>\n",
       "      <th>Depature_minute</th>\n",
       "    </tr>\n",
       "  </thead>\n",
       "  <tbody>\n",
       "    <tr>\n",
       "      <th>0</th>\n",
       "      <td>IndiGo</td>\n",
       "      <td>Banglore</td>\n",
       "      <td>New Delhi</td>\n",
       "      <td>BLR → DEL</td>\n",
       "      <td>22:20</td>\n",
       "      <td>01:10 22 Mar</td>\n",
       "      <td>2h 50m</td>\n",
       "      <td>non-stop</td>\n",
       "      <td>No info</td>\n",
       "      <td>3897</td>\n",
       "      <td>3</td>\n",
       "      <td>24</td>\n",
       "      <td>22</td>\n",
       "      <td>20</td>\n",
       "    </tr>\n",
       "    <tr>\n",
       "      <th>1</th>\n",
       "      <td>Air India</td>\n",
       "      <td>Kolkata</td>\n",
       "      <td>Banglore</td>\n",
       "      <td>CCU → IXR → BBI → BLR</td>\n",
       "      <td>05:50</td>\n",
       "      <td>13:15</td>\n",
       "      <td>7h 25m</td>\n",
       "      <td>2 stops</td>\n",
       "      <td>No info</td>\n",
       "      <td>7662</td>\n",
       "      <td>5</td>\n",
       "      <td>1</td>\n",
       "      <td>5</td>\n",
       "      <td>50</td>\n",
       "    </tr>\n",
       "  </tbody>\n",
       "</table>\n",
       "</div>"
      ],
      "text/plain": [
       "     Airline    Source Destination                  Route Dep_Time  \\\n",
       "0     IndiGo  Banglore   New Delhi              BLR → DEL    22:20   \n",
       "1  Air India   Kolkata    Banglore  CCU → IXR → BBI → BLR    05:50   \n",
       "\n",
       "   Arrival_Time Duration Total_Stops Additional_Info  Price  month  day  \\\n",
       "0  01:10 22 Mar   2h 50m    non-stop         No info   3897      3   24   \n",
       "1         13:15   7h 25m     2 stops         No info   7662      5    1   \n",
       "\n",
       "   Depature_hour  Depature_minute  \n",
       "0             22               20  \n",
       "1              5               50  "
      ]
     },
     "execution_count": 516,
     "metadata": {},
     "output_type": "execute_result"
    }
   ],
   "source": [
    "df.head(2)"
   ]
  },
  {
   "cell_type": "markdown",
   "id": "cb4adbb0-a9d9-4fd5-96db-3f45ddde51fc",
   "metadata": {},
   "source": [
    "### Creating Dep_Time DataFrame"
   ]
  },
  {
   "cell_type": "code",
   "execution_count": 517,
   "id": "79198ea5-a980-43ac-9e37-13b7b3bc88d1",
   "metadata": {},
   "outputs": [
    {
     "data": {
      "text/html": [
       "<div>\n",
       "<style scoped>\n",
       "    .dataframe tbody tr th:only-of-type {\n",
       "        vertical-align: middle;\n",
       "    }\n",
       "\n",
       "    .dataframe tbody tr th {\n",
       "        vertical-align: top;\n",
       "    }\n",
       "\n",
       "    .dataframe thead th {\n",
       "        text-align: right;\n",
       "    }\n",
       "</style>\n",
       "<table border=\"1\" class=\"dataframe\">\n",
       "  <thead>\n",
       "    <tr style=\"text-align: right;\">\n",
       "      <th></th>\n",
       "      <th>Dep_Time</th>\n",
       "      <th>Dep_hour</th>\n",
       "      <th>Dep_minute</th>\n",
       "    </tr>\n",
       "  </thead>\n",
       "  <tbody>\n",
       "    <tr>\n",
       "      <th>0</th>\n",
       "      <td>22:20</td>\n",
       "      <td>22</td>\n",
       "      <td>20</td>\n",
       "    </tr>\n",
       "    <tr>\n",
       "      <th>1</th>\n",
       "      <td>05:50</td>\n",
       "      <td>5</td>\n",
       "      <td>50</td>\n",
       "    </tr>\n",
       "  </tbody>\n",
       "</table>\n",
       "</div>"
      ],
      "text/plain": [
       "  Dep_Time  Dep_hour  Dep_minute\n",
       "0    22:20        22          20\n",
       "1    05:50         5          50"
      ]
     },
     "execution_count": 517,
     "metadata": {},
     "output_type": "execute_result"
    }
   ],
   "source": [
    "Dep_Time = df.loc[:,[\"Dep_Time\"]]\n",
    "Dep_Time[\"Dep_hour\"] = pd.DatetimeIndex(df['Dep_Time']).hour\n",
    "Dep_Time[\"Dep_minute\"] = pd.DatetimeIndex(df['Dep_Time']).minute\n",
    "Dep_Time.head(2)"
   ]
  },
  {
   "cell_type": "markdown",
   "id": "1c356678-83a3-46c9-a507-0ef5499acc78",
   "metadata": {},
   "source": [
    "### Droping Dep_Time column from original data"
   ]
  },
  {
   "cell_type": "code",
   "execution_count": 518,
   "id": "45d9781d-564e-4b02-b8fa-21a3a676d874",
   "metadata": {},
   "outputs": [
    {
     "data": {
      "text/html": [
       "<div>\n",
       "<style scoped>\n",
       "    .dataframe tbody tr th:only-of-type {\n",
       "        vertical-align: middle;\n",
       "    }\n",
       "\n",
       "    .dataframe tbody tr th {\n",
       "        vertical-align: top;\n",
       "    }\n",
       "\n",
       "    .dataframe thead th {\n",
       "        text-align: right;\n",
       "    }\n",
       "</style>\n",
       "<table border=\"1\" class=\"dataframe\">\n",
       "  <thead>\n",
       "    <tr style=\"text-align: right;\">\n",
       "      <th></th>\n",
       "      <th>Airline</th>\n",
       "      <th>Source</th>\n",
       "      <th>Destination</th>\n",
       "      <th>Route</th>\n",
       "      <th>Arrival_Time</th>\n",
       "      <th>Duration</th>\n",
       "      <th>Total_Stops</th>\n",
       "      <th>Additional_Info</th>\n",
       "      <th>Price</th>\n",
       "      <th>month</th>\n",
       "      <th>day</th>\n",
       "      <th>Depature_hour</th>\n",
       "      <th>Depature_minute</th>\n",
       "    </tr>\n",
       "  </thead>\n",
       "  <tbody>\n",
       "    <tr>\n",
       "      <th>0</th>\n",
       "      <td>IndiGo</td>\n",
       "      <td>Banglore</td>\n",
       "      <td>New Delhi</td>\n",
       "      <td>BLR → DEL</td>\n",
       "      <td>01:10 22 Mar</td>\n",
       "      <td>2h 50m</td>\n",
       "      <td>non-stop</td>\n",
       "      <td>No info</td>\n",
       "      <td>3897</td>\n",
       "      <td>3</td>\n",
       "      <td>24</td>\n",
       "      <td>22</td>\n",
       "      <td>20</td>\n",
       "    </tr>\n",
       "    <tr>\n",
       "      <th>1</th>\n",
       "      <td>Air India</td>\n",
       "      <td>Kolkata</td>\n",
       "      <td>Banglore</td>\n",
       "      <td>CCU → IXR → BBI → BLR</td>\n",
       "      <td>13:15</td>\n",
       "      <td>7h 25m</td>\n",
       "      <td>2 stops</td>\n",
       "      <td>No info</td>\n",
       "      <td>7662</td>\n",
       "      <td>5</td>\n",
       "      <td>1</td>\n",
       "      <td>5</td>\n",
       "      <td>50</td>\n",
       "    </tr>\n",
       "  </tbody>\n",
       "</table>\n",
       "</div>"
      ],
      "text/plain": [
       "     Airline    Source Destination                  Route  Arrival_Time  \\\n",
       "0     IndiGo  Banglore   New Delhi              BLR → DEL  01:10 22 Mar   \n",
       "1  Air India   Kolkata    Banglore  CCU → IXR → BBI → BLR         13:15   \n",
       "\n",
       "  Duration Total_Stops Additional_Info  Price  month  day  Depature_hour  \\\n",
       "0   2h 50m    non-stop         No info   3897      3   24             22   \n",
       "1   7h 25m     2 stops         No info   7662      5    1              5   \n",
       "\n",
       "   Depature_minute  \n",
       "0               20  \n",
       "1               50  "
      ]
     },
     "execution_count": 518,
     "metadata": {},
     "output_type": "execute_result"
    }
   ],
   "source": [
    "df.drop(columns=\"Dep_Time\", inplace=True)\n",
    "df.head(2)"
   ]
  },
  {
   "cell_type": "markdown",
   "id": "ed8c4c9c-28dd-4f42-9c94-de027d67e26a",
   "metadata": {},
   "source": [
    "### Extracting arrival time"
   ]
  },
  {
   "cell_type": "code",
   "execution_count": 519,
   "id": "f284829a-601f-4d6a-943d-e782a565d581",
   "metadata": {},
   "outputs": [],
   "source": [
    "arr_hour =  pd.DatetimeIndex(df['Arrival_Time']).hour # Extracting hour from Dep_Time\n",
    "arr_minute =  pd.DatetimeIndex(df['Arrival_Time']).minute # Extracting minute from Dep_Time"
   ]
  },
  {
   "cell_type": "markdown",
   "id": "d9d71e00-8779-48b7-9bc3-139a49cd5f4d",
   "metadata": {},
   "source": [
    "### adding arrival hours and minutes columns in original data"
   ]
  },
  {
   "cell_type": "code",
   "execution_count": 520,
   "id": "8b1b09b7-2a51-4b70-978a-004dfa226dc0",
   "metadata": {},
   "outputs": [],
   "source": [
    "df[\"Arrival_hour\"] = arr_hour # adding new column \"Arrival_hour\" with arr_hour value\n",
    "df[\"Arrival_minute\"] = arr_minute # adding new column \"Arrival_minute\" with arr_minute value"
   ]
  },
  {
   "cell_type": "code",
   "execution_count": 521,
   "id": "4b77b758-7eae-4619-ba1f-8293c4cd6b6b",
   "metadata": {},
   "outputs": [
    {
     "data": {
      "text/html": [
       "<div>\n",
       "<style scoped>\n",
       "    .dataframe tbody tr th:only-of-type {\n",
       "        vertical-align: middle;\n",
       "    }\n",
       "\n",
       "    .dataframe tbody tr th {\n",
       "        vertical-align: top;\n",
       "    }\n",
       "\n",
       "    .dataframe thead th {\n",
       "        text-align: right;\n",
       "    }\n",
       "</style>\n",
       "<table border=\"1\" class=\"dataframe\">\n",
       "  <thead>\n",
       "    <tr style=\"text-align: right;\">\n",
       "      <th></th>\n",
       "      <th>Airline</th>\n",
       "      <th>Source</th>\n",
       "      <th>Destination</th>\n",
       "      <th>Route</th>\n",
       "      <th>Arrival_Time</th>\n",
       "      <th>Duration</th>\n",
       "      <th>Total_Stops</th>\n",
       "      <th>Additional_Info</th>\n",
       "      <th>Price</th>\n",
       "      <th>month</th>\n",
       "      <th>day</th>\n",
       "      <th>Depature_hour</th>\n",
       "      <th>Depature_minute</th>\n",
       "      <th>Arrival_hour</th>\n",
       "      <th>Arrival_minute</th>\n",
       "    </tr>\n",
       "  </thead>\n",
       "  <tbody>\n",
       "    <tr>\n",
       "      <th>0</th>\n",
       "      <td>IndiGo</td>\n",
       "      <td>Banglore</td>\n",
       "      <td>New Delhi</td>\n",
       "      <td>BLR → DEL</td>\n",
       "      <td>01:10 22 Mar</td>\n",
       "      <td>2h 50m</td>\n",
       "      <td>non-stop</td>\n",
       "      <td>No info</td>\n",
       "      <td>3897</td>\n",
       "      <td>3</td>\n",
       "      <td>24</td>\n",
       "      <td>22</td>\n",
       "      <td>20</td>\n",
       "      <td>1</td>\n",
       "      <td>10</td>\n",
       "    </tr>\n",
       "    <tr>\n",
       "      <th>1</th>\n",
       "      <td>Air India</td>\n",
       "      <td>Kolkata</td>\n",
       "      <td>Banglore</td>\n",
       "      <td>CCU → IXR → BBI → BLR</td>\n",
       "      <td>13:15</td>\n",
       "      <td>7h 25m</td>\n",
       "      <td>2 stops</td>\n",
       "      <td>No info</td>\n",
       "      <td>7662</td>\n",
       "      <td>5</td>\n",
       "      <td>1</td>\n",
       "      <td>5</td>\n",
       "      <td>50</td>\n",
       "      <td>13</td>\n",
       "      <td>15</td>\n",
       "    </tr>\n",
       "  </tbody>\n",
       "</table>\n",
       "</div>"
      ],
      "text/plain": [
       "     Airline    Source Destination                  Route  Arrival_Time  \\\n",
       "0     IndiGo  Banglore   New Delhi              BLR → DEL  01:10 22 Mar   \n",
       "1  Air India   Kolkata    Banglore  CCU → IXR → BBI → BLR         13:15   \n",
       "\n",
       "  Duration Total_Stops Additional_Info  Price  month  day  Depature_hour  \\\n",
       "0   2h 50m    non-stop         No info   3897      3   24             22   \n",
       "1   7h 25m     2 stops         No info   7662      5    1              5   \n",
       "\n",
       "   Depature_minute  Arrival_hour  Arrival_minute  \n",
       "0               20             1              10  \n",
       "1               50            13              15  "
      ]
     },
     "execution_count": 521,
     "metadata": {},
     "output_type": "execute_result"
    }
   ],
   "source": [
    "df.head(2)"
   ]
  },
  {
   "cell_type": "markdown",
   "id": "16e37e7c-b958-4202-8cf6-bcfb276bb662",
   "metadata": {},
   "source": [
    "### Creating Arrival_Time DataFrame"
   ]
  },
  {
   "cell_type": "code",
   "execution_count": 522,
   "id": "c6aae1d9-ddde-4b00-b3d4-3c6251fa23be",
   "metadata": {},
   "outputs": [
    {
     "data": {
      "text/html": [
       "<div>\n",
       "<style scoped>\n",
       "    .dataframe tbody tr th:only-of-type {\n",
       "        vertical-align: middle;\n",
       "    }\n",
       "\n",
       "    .dataframe tbody tr th {\n",
       "        vertical-align: top;\n",
       "    }\n",
       "\n",
       "    .dataframe thead th {\n",
       "        text-align: right;\n",
       "    }\n",
       "</style>\n",
       "<table border=\"1\" class=\"dataframe\">\n",
       "  <thead>\n",
       "    <tr style=\"text-align: right;\">\n",
       "      <th></th>\n",
       "      <th>Arrival_Time</th>\n",
       "      <th>Arrival_hour</th>\n",
       "      <th>Arrival_minute</th>\n",
       "    </tr>\n",
       "  </thead>\n",
       "  <tbody>\n",
       "    <tr>\n",
       "      <th>0</th>\n",
       "      <td>01:10 22 Mar</td>\n",
       "      <td>1</td>\n",
       "      <td>10</td>\n",
       "    </tr>\n",
       "    <tr>\n",
       "      <th>1</th>\n",
       "      <td>13:15</td>\n",
       "      <td>13</td>\n",
       "      <td>15</td>\n",
       "    </tr>\n",
       "  </tbody>\n",
       "</table>\n",
       "</div>"
      ],
      "text/plain": [
       "   Arrival_Time  Arrival_hour  Arrival_minute\n",
       "0  01:10 22 Mar             1              10\n",
       "1         13:15            13              15"
      ]
     },
     "execution_count": 522,
     "metadata": {},
     "output_type": "execute_result"
    }
   ],
   "source": [
    "Arrival_time = df.loc[:,[\"Arrival_Time\"]]\n",
    "Arrival_time[\"Arrival_hour\"] = arr_hour\n",
    "Arrival_time[\"Arrival_minute\"] = arr_minute\n",
    "Arrival_time.head(2)"
   ]
  },
  {
   "cell_type": "markdown",
   "id": "f8fc0529-993a-4877-958b-b21380feb8bd",
   "metadata": {},
   "source": [
    "### droping Arrival_Time from original data"
   ]
  },
  {
   "cell_type": "code",
   "execution_count": 523,
   "id": "f795d8da-41bd-48b5-87d6-3fff01163960",
   "metadata": {},
   "outputs": [
    {
     "data": {
      "text/html": [
       "<div>\n",
       "<style scoped>\n",
       "    .dataframe tbody tr th:only-of-type {\n",
       "        vertical-align: middle;\n",
       "    }\n",
       "\n",
       "    .dataframe tbody tr th {\n",
       "        vertical-align: top;\n",
       "    }\n",
       "\n",
       "    .dataframe thead th {\n",
       "        text-align: right;\n",
       "    }\n",
       "</style>\n",
       "<table border=\"1\" class=\"dataframe\">\n",
       "  <thead>\n",
       "    <tr style=\"text-align: right;\">\n",
       "      <th></th>\n",
       "      <th>Airline</th>\n",
       "      <th>Source</th>\n",
       "      <th>Destination</th>\n",
       "      <th>Route</th>\n",
       "      <th>Duration</th>\n",
       "      <th>Total_Stops</th>\n",
       "      <th>Additional_Info</th>\n",
       "      <th>Price</th>\n",
       "      <th>month</th>\n",
       "      <th>day</th>\n",
       "      <th>Depature_hour</th>\n",
       "      <th>Depature_minute</th>\n",
       "      <th>Arrival_hour</th>\n",
       "      <th>Arrival_minute</th>\n",
       "    </tr>\n",
       "  </thead>\n",
       "  <tbody>\n",
       "    <tr>\n",
       "      <th>0</th>\n",
       "      <td>IndiGo</td>\n",
       "      <td>Banglore</td>\n",
       "      <td>New Delhi</td>\n",
       "      <td>BLR → DEL</td>\n",
       "      <td>2h 50m</td>\n",
       "      <td>non-stop</td>\n",
       "      <td>No info</td>\n",
       "      <td>3897</td>\n",
       "      <td>3</td>\n",
       "      <td>24</td>\n",
       "      <td>22</td>\n",
       "      <td>20</td>\n",
       "      <td>1</td>\n",
       "      <td>10</td>\n",
       "    </tr>\n",
       "    <tr>\n",
       "      <th>1</th>\n",
       "      <td>Air India</td>\n",
       "      <td>Kolkata</td>\n",
       "      <td>Banglore</td>\n",
       "      <td>CCU → IXR → BBI → BLR</td>\n",
       "      <td>7h 25m</td>\n",
       "      <td>2 stops</td>\n",
       "      <td>No info</td>\n",
       "      <td>7662</td>\n",
       "      <td>5</td>\n",
       "      <td>1</td>\n",
       "      <td>5</td>\n",
       "      <td>50</td>\n",
       "      <td>13</td>\n",
       "      <td>15</td>\n",
       "    </tr>\n",
       "  </tbody>\n",
       "</table>\n",
       "</div>"
      ],
      "text/plain": [
       "     Airline    Source Destination                  Route Duration  \\\n",
       "0     IndiGo  Banglore   New Delhi              BLR → DEL   2h 50m   \n",
       "1  Air India   Kolkata    Banglore  CCU → IXR → BBI → BLR   7h 25m   \n",
       "\n",
       "  Total_Stops Additional_Info  Price  month  day  Depature_hour  \\\n",
       "0    non-stop         No info   3897      3   24             22   \n",
       "1     2 stops         No info   7662      5    1              5   \n",
       "\n",
       "   Depature_minute  Arrival_hour  Arrival_minute  \n",
       "0               20             1              10  \n",
       "1               50            13              15  "
      ]
     },
     "execution_count": 523,
     "metadata": {},
     "output_type": "execute_result"
    }
   ],
   "source": [
    "df.drop(columns=\"Arrival_Time\", inplace=True)\n",
    "df.head(2)"
   ]
  },
  {
   "cell_type": "markdown",
   "id": "34f3cc0c-de6d-4649-94a2-fbc4dcb27ab7",
   "metadata": {},
   "source": [
    "### Converting duration according to timedelta"
   ]
  },
  {
   "cell_type": "code",
   "execution_count": 524,
   "id": "2973660e-6c9a-41fb-b267-ce95a2d8686a",
   "metadata": {},
   "outputs": [],
   "source": [
    "df[\"Duration\"] = pd.to_timedelta(df['Duration']) # converting duration according to timedelta and updating values"
   ]
  },
  {
   "cell_type": "code",
   "execution_count": 525,
   "id": "a341fb85-91af-4284-b177-f2d442a43d8f",
   "metadata": {},
   "outputs": [
    {
     "data": {
      "text/html": [
       "<div>\n",
       "<style scoped>\n",
       "    .dataframe tbody tr th:only-of-type {\n",
       "        vertical-align: middle;\n",
       "    }\n",
       "\n",
       "    .dataframe tbody tr th {\n",
       "        vertical-align: top;\n",
       "    }\n",
       "\n",
       "    .dataframe thead th {\n",
       "        text-align: right;\n",
       "    }\n",
       "</style>\n",
       "<table border=\"1\" class=\"dataframe\">\n",
       "  <thead>\n",
       "    <tr style=\"text-align: right;\">\n",
       "      <th></th>\n",
       "      <th>Airline</th>\n",
       "      <th>Source</th>\n",
       "      <th>Destination</th>\n",
       "      <th>Route</th>\n",
       "      <th>Duration</th>\n",
       "      <th>Total_Stops</th>\n",
       "      <th>Additional_Info</th>\n",
       "      <th>Price</th>\n",
       "      <th>month</th>\n",
       "      <th>day</th>\n",
       "      <th>Depature_hour</th>\n",
       "      <th>Depature_minute</th>\n",
       "      <th>Arrival_hour</th>\n",
       "      <th>Arrival_minute</th>\n",
       "    </tr>\n",
       "  </thead>\n",
       "  <tbody>\n",
       "    <tr>\n",
       "      <th>0</th>\n",
       "      <td>IndiGo</td>\n",
       "      <td>Banglore</td>\n",
       "      <td>New Delhi</td>\n",
       "      <td>BLR → DEL</td>\n",
       "      <td>0 days 02:50:00</td>\n",
       "      <td>non-stop</td>\n",
       "      <td>No info</td>\n",
       "      <td>3897</td>\n",
       "      <td>3</td>\n",
       "      <td>24</td>\n",
       "      <td>22</td>\n",
       "      <td>20</td>\n",
       "      <td>1</td>\n",
       "      <td>10</td>\n",
       "    </tr>\n",
       "  </tbody>\n",
       "</table>\n",
       "</div>"
      ],
      "text/plain": [
       "  Airline    Source Destination      Route        Duration Total_Stops  \\\n",
       "0  IndiGo  Banglore   New Delhi  BLR → DEL 0 days 02:50:00    non-stop   \n",
       "\n",
       "  Additional_Info  Price  month  day  Depature_hour  Depature_minute  \\\n",
       "0         No info   3897      3   24             22               20   \n",
       "\n",
       "   Arrival_hour  Arrival_minute  \n",
       "0             1              10  "
      ]
     },
     "execution_count": 525,
     "metadata": {},
     "output_type": "execute_result"
    }
   ],
   "source": [
    "df.head(1)"
   ]
  },
  {
   "cell_type": "markdown",
   "id": "6b4f613f-bcdd-4739-a106-c21a20b14144",
   "metadata": {},
   "source": [
    "### Extracting hour and minute from Duration"
   ]
  },
  {
   "cell_type": "code",
   "execution_count": 526,
   "id": "797c8dd9-3c1a-45f8-88e1-6d9c22811270",
   "metadata": {},
   "outputs": [],
   "source": [
    "duration_hour = df[\"Duration\"].dt.components.hours # extracting hour from duration\n",
    "duration_minute = df[\"Duration\"].dt.components.minutes # extracting minute from duration"
   ]
  },
  {
   "cell_type": "markdown",
   "id": "f1497666-d511-4146-aea1-a9fd33e5c219",
   "metadata": {},
   "source": [
    "### adding new column in original data"
   ]
  },
  {
   "cell_type": "code",
   "execution_count": 527,
   "id": "35d422fd-1ec2-476b-a4a9-664f435918e9",
   "metadata": {},
   "outputs": [],
   "source": [
    "df[\"Duration_hour\"] = duration_hour # adding new column \"Duration_hour\" with duration_hour value\n",
    "df[\"Duration_minute\"] = duration_minute # adding new column \"Duration_minute\" with duration_minute value"
   ]
  },
  {
   "cell_type": "code",
   "execution_count": 528,
   "id": "89dfbca1-eb33-41eb-afbb-2bbc3b69a302",
   "metadata": {},
   "outputs": [
    {
     "data": {
      "text/html": [
       "<div>\n",
       "<style scoped>\n",
       "    .dataframe tbody tr th:only-of-type {\n",
       "        vertical-align: middle;\n",
       "    }\n",
       "\n",
       "    .dataframe tbody tr th {\n",
       "        vertical-align: top;\n",
       "    }\n",
       "\n",
       "    .dataframe thead th {\n",
       "        text-align: right;\n",
       "    }\n",
       "</style>\n",
       "<table border=\"1\" class=\"dataframe\">\n",
       "  <thead>\n",
       "    <tr style=\"text-align: right;\">\n",
       "      <th></th>\n",
       "      <th>Airline</th>\n",
       "      <th>Source</th>\n",
       "      <th>Destination</th>\n",
       "      <th>Route</th>\n",
       "      <th>Duration</th>\n",
       "      <th>Total_Stops</th>\n",
       "      <th>Additional_Info</th>\n",
       "      <th>Price</th>\n",
       "      <th>month</th>\n",
       "      <th>day</th>\n",
       "      <th>Depature_hour</th>\n",
       "      <th>Depature_minute</th>\n",
       "      <th>Arrival_hour</th>\n",
       "      <th>Arrival_minute</th>\n",
       "      <th>Duration_hour</th>\n",
       "      <th>Duration_minute</th>\n",
       "    </tr>\n",
       "  </thead>\n",
       "  <tbody>\n",
       "    <tr>\n",
       "      <th>0</th>\n",
       "      <td>IndiGo</td>\n",
       "      <td>Banglore</td>\n",
       "      <td>New Delhi</td>\n",
       "      <td>BLR → DEL</td>\n",
       "      <td>0 days 02:50:00</td>\n",
       "      <td>non-stop</td>\n",
       "      <td>No info</td>\n",
       "      <td>3897</td>\n",
       "      <td>3</td>\n",
       "      <td>24</td>\n",
       "      <td>22</td>\n",
       "      <td>20</td>\n",
       "      <td>1</td>\n",
       "      <td>10</td>\n",
       "      <td>2</td>\n",
       "      <td>50</td>\n",
       "    </tr>\n",
       "    <tr>\n",
       "      <th>1</th>\n",
       "      <td>Air India</td>\n",
       "      <td>Kolkata</td>\n",
       "      <td>Banglore</td>\n",
       "      <td>CCU → IXR → BBI → BLR</td>\n",
       "      <td>0 days 07:25:00</td>\n",
       "      <td>2 stops</td>\n",
       "      <td>No info</td>\n",
       "      <td>7662</td>\n",
       "      <td>5</td>\n",
       "      <td>1</td>\n",
       "      <td>5</td>\n",
       "      <td>50</td>\n",
       "      <td>13</td>\n",
       "      <td>15</td>\n",
       "      <td>7</td>\n",
       "      <td>25</td>\n",
       "    </tr>\n",
       "  </tbody>\n",
       "</table>\n",
       "</div>"
      ],
      "text/plain": [
       "     Airline    Source Destination                  Route        Duration  \\\n",
       "0     IndiGo  Banglore   New Delhi              BLR → DEL 0 days 02:50:00   \n",
       "1  Air India   Kolkata    Banglore  CCU → IXR → BBI → BLR 0 days 07:25:00   \n",
       "\n",
       "  Total_Stops Additional_Info  Price  month  day  Depature_hour  \\\n",
       "0    non-stop         No info   3897      3   24             22   \n",
       "1     2 stops         No info   7662      5    1              5   \n",
       "\n",
       "   Depature_minute  Arrival_hour  Arrival_minute  Duration_hour  \\\n",
       "0               20             1              10              2   \n",
       "1               50            13              15              7   \n",
       "\n",
       "   Duration_minute  \n",
       "0               50  \n",
       "1               25  "
      ]
     },
     "execution_count": 528,
     "metadata": {},
     "output_type": "execute_result"
    }
   ],
   "source": [
    "df.head(2)"
   ]
  },
  {
   "cell_type": "markdown",
   "id": "86633fff-373b-483c-be1f-f585e9f9b950",
   "metadata": {},
   "source": [
    "### Creating Duration DataFrame"
   ]
  },
  {
   "cell_type": "code",
   "execution_count": 529,
   "id": "1cb843ab-f9fe-4fb6-bdeb-50c474207fcf",
   "metadata": {},
   "outputs": [
    {
     "data": {
      "text/html": [
       "<div>\n",
       "<style scoped>\n",
       "    .dataframe tbody tr th:only-of-type {\n",
       "        vertical-align: middle;\n",
       "    }\n",
       "\n",
       "    .dataframe tbody tr th {\n",
       "        vertical-align: top;\n",
       "    }\n",
       "\n",
       "    .dataframe thead th {\n",
       "        text-align: right;\n",
       "    }\n",
       "</style>\n",
       "<table border=\"1\" class=\"dataframe\">\n",
       "  <thead>\n",
       "    <tr style=\"text-align: right;\">\n",
       "      <th></th>\n",
       "      <th>Duration</th>\n",
       "      <th>Duration_hour</th>\n",
       "      <th>Duration_minute</th>\n",
       "    </tr>\n",
       "  </thead>\n",
       "  <tbody>\n",
       "    <tr>\n",
       "      <th>0</th>\n",
       "      <td>0 days 02:50:00</td>\n",
       "      <td>2</td>\n",
       "      <td>50</td>\n",
       "    </tr>\n",
       "    <tr>\n",
       "      <th>1</th>\n",
       "      <td>0 days 07:25:00</td>\n",
       "      <td>7</td>\n",
       "      <td>25</td>\n",
       "    </tr>\n",
       "  </tbody>\n",
       "</table>\n",
       "</div>"
      ],
      "text/plain": [
       "         Duration  Duration_hour  Duration_minute\n",
       "0 0 days 02:50:00              2               50\n",
       "1 0 days 07:25:00              7               25"
      ]
     },
     "execution_count": 529,
     "metadata": {},
     "output_type": "execute_result"
    }
   ],
   "source": [
    "Duration = df.loc[:,[\"Duration\"]]\n",
    "Duration[\"Duration_hour\"] = duration_hour\n",
    "Duration[\"Duration_minute\"] = duration_minute\n",
    "Duration.head(2)"
   ]
  },
  {
   "cell_type": "markdown",
   "id": "964916d1-490f-4a69-976f-dcb6674a076c",
   "metadata": {},
   "source": [
    "### droping \"Duration\" column from original data"
   ]
  },
  {
   "cell_type": "code",
   "execution_count": 530,
   "id": "8dea5f66-e347-4d42-b0ab-68a06b3de007",
   "metadata": {},
   "outputs": [
    {
     "data": {
      "text/html": [
       "<div>\n",
       "<style scoped>\n",
       "    .dataframe tbody tr th:only-of-type {\n",
       "        vertical-align: middle;\n",
       "    }\n",
       "\n",
       "    .dataframe tbody tr th {\n",
       "        vertical-align: top;\n",
       "    }\n",
       "\n",
       "    .dataframe thead th {\n",
       "        text-align: right;\n",
       "    }\n",
       "</style>\n",
       "<table border=\"1\" class=\"dataframe\">\n",
       "  <thead>\n",
       "    <tr style=\"text-align: right;\">\n",
       "      <th></th>\n",
       "      <th>Airline</th>\n",
       "      <th>Source</th>\n",
       "      <th>Destination</th>\n",
       "      <th>Route</th>\n",
       "      <th>Total_Stops</th>\n",
       "      <th>Additional_Info</th>\n",
       "      <th>Price</th>\n",
       "      <th>month</th>\n",
       "      <th>day</th>\n",
       "      <th>Depature_hour</th>\n",
       "      <th>Depature_minute</th>\n",
       "      <th>Arrival_hour</th>\n",
       "      <th>Arrival_minute</th>\n",
       "      <th>Duration_hour</th>\n",
       "      <th>Duration_minute</th>\n",
       "    </tr>\n",
       "  </thead>\n",
       "  <tbody>\n",
       "    <tr>\n",
       "      <th>0</th>\n",
       "      <td>IndiGo</td>\n",
       "      <td>Banglore</td>\n",
       "      <td>New Delhi</td>\n",
       "      <td>BLR → DEL</td>\n",
       "      <td>non-stop</td>\n",
       "      <td>No info</td>\n",
       "      <td>3897</td>\n",
       "      <td>3</td>\n",
       "      <td>24</td>\n",
       "      <td>22</td>\n",
       "      <td>20</td>\n",
       "      <td>1</td>\n",
       "      <td>10</td>\n",
       "      <td>2</td>\n",
       "      <td>50</td>\n",
       "    </tr>\n",
       "    <tr>\n",
       "      <th>1</th>\n",
       "      <td>Air India</td>\n",
       "      <td>Kolkata</td>\n",
       "      <td>Banglore</td>\n",
       "      <td>CCU → IXR → BBI → BLR</td>\n",
       "      <td>2 stops</td>\n",
       "      <td>No info</td>\n",
       "      <td>7662</td>\n",
       "      <td>5</td>\n",
       "      <td>1</td>\n",
       "      <td>5</td>\n",
       "      <td>50</td>\n",
       "      <td>13</td>\n",
       "      <td>15</td>\n",
       "      <td>7</td>\n",
       "      <td>25</td>\n",
       "    </tr>\n",
       "  </tbody>\n",
       "</table>\n",
       "</div>"
      ],
      "text/plain": [
       "     Airline    Source Destination                  Route Total_Stops  \\\n",
       "0     IndiGo  Banglore   New Delhi              BLR → DEL    non-stop   \n",
       "1  Air India   Kolkata    Banglore  CCU → IXR → BBI → BLR     2 stops   \n",
       "\n",
       "  Additional_Info  Price  month  day  Depature_hour  Depature_minute  \\\n",
       "0         No info   3897      3   24             22               20   \n",
       "1         No info   7662      5    1              5               50   \n",
       "\n",
       "   Arrival_hour  Arrival_minute  Duration_hour  Duration_minute  \n",
       "0             1              10              2               50  \n",
       "1            13              15              7               25  "
      ]
     },
     "execution_count": 530,
     "metadata": {},
     "output_type": "execute_result"
    }
   ],
   "source": [
    "df.drop(columns=\"Duration\", inplace=True)\n",
    "df.head(2)"
   ]
  },
  {
   "cell_type": "markdown",
   "id": "5f4127d9-a074-4ce0-be87-f0174a9d524e",
   "metadata": {},
   "source": [
    "### Extracting Route from data"
   ]
  },
  {
   "cell_type": "code",
   "execution_count": 531,
   "id": "34f3701b-fc33-4d82-84c3-70a4588517da",
   "metadata": {},
   "outputs": [
    {
     "data": {
      "text/plain": [
       "0                    BLR → DEL\n",
       "1        CCU → IXR → BBI → BLR\n",
       "2        DEL → LKO → BOM → COK\n",
       "3              CCU → NAG → BLR\n",
       "4              BLR → NAG → DEL\n",
       "                 ...          \n",
       "10678                CCU → BLR\n",
       "10679                CCU → BLR\n",
       "10680                BLR → DEL\n",
       "10681                BLR → DEL\n",
       "10682    DEL → GOI → BOM → COK\n",
       "Name: Route, Length: 10682, dtype: object"
      ]
     },
     "execution_count": 531,
     "metadata": {},
     "output_type": "execute_result"
    }
   ],
   "source": [
    "route_df = df[\"Route\"]\n",
    "route_df"
   ]
  },
  {
   "cell_type": "markdown",
   "id": "2a3b23d6-80d3-4809-a3b1-e89930245cc6",
   "metadata": {},
   "source": [
    "### sperating route"
   ]
  },
  {
   "cell_type": "code",
   "execution_count": 532,
   "id": "0f3676aa-0c2c-412c-9f5f-cda0cac32997",
   "metadata": {},
   "outputs": [],
   "source": [
    "route_data = [route.split(\" → \") for route in route_df]\n",
    "# route_data = []\n",
    "# for route in route_df:\n",
    "#     route_data.append(route.split(\" → \"))"
   ]
  },
  {
   "cell_type": "markdown",
   "id": "c6f03950-c82b-41a8-aaa1-1270d551d8b9",
   "metadata": {},
   "source": [
    "### assinging different routes"
   ]
  },
  {
   "cell_type": "code",
   "execution_count": 533,
   "id": "d3234207-049f-4c73-b794-5dc8023e22e0",
   "metadata": {},
   "outputs": [],
   "source": [
    "rout_index_len =[len(data) for data in route_data]"
   ]
  },
  {
   "cell_type": "code",
   "execution_count": 534,
   "id": "ab08e563-2338-4baa-9801-276ae415b75d",
   "metadata": {},
   "outputs": [],
   "source": [
    "# finding maximum route\n",
    "max_route = max(rout_index_len)"
   ]
  },
  {
   "cell_type": "markdown",
   "id": "29386cee",
   "metadata": {},
   "source": [
    "#### Extracting route from original data"
   ]
  },
  {
   "cell_type": "code",
   "execution_count": 535,
   "id": "8e6f7fde",
   "metadata": {},
   "outputs": [],
   "source": [
    "route1  = []\n",
    "route2 = []\n",
    "route3 = []\n",
    "route4 = []\n",
    "route5 = []\n",
    "route6 = []\n",
    "for route in route_data:\n",
    "    if len(route) == 2:\n",
    "        route1.append(route[0]) \n",
    "        route2.append(route[1]) \n",
    "        route3.append(None) \n",
    "        route4.append(None) \n",
    "        route5.append(None) \n",
    "        route6.append(None) \n",
    "    elif len(route) == 3:\n",
    "        route1.append(route[0]) \n",
    "        route2.append(route[1]) \n",
    "        route3.append(route[2]) \n",
    "        route4.append(None) \n",
    "        route5.append(None) \n",
    "        route6.append(None) \n",
    "    elif len(route) == 4:\n",
    "        route1.append(route[0]) \n",
    "        route2.append(route[1]) \n",
    "        route3.append(route[2]) \n",
    "        route4.append(route[3]) \n",
    "        route5.append(None) \n",
    "        route6.append(None) \n",
    "    elif len(route) == 5:\n",
    "        route1.append(route[0]) \n",
    "        route2.append(route[1]) \n",
    "        route3.append(route[2]) \n",
    "        route4.append(route[3]) \n",
    "        route5.append(route[4]) \n",
    "        route6.append(None) \n",
    "\n",
    "    elif len(route) == 6:\n",
    "        route1.append(route[0]) \n",
    "        route2.append(route[1]) \n",
    "        route3.append(route[2]) \n",
    "        route4.append(route[3]) \n",
    "        route5.append(route[4]) \n",
    "        route6.append(route[5]) "
   ]
  },
  {
   "cell_type": "markdown",
   "id": "f031243e",
   "metadata": {},
   "source": [
    "### Creating Route DataFrame"
   ]
  },
  {
   "cell_type": "code",
   "execution_count": 536,
   "id": "88b05eba",
   "metadata": {},
   "outputs": [
    {
     "data": {
      "text/html": [
       "<div>\n",
       "<style scoped>\n",
       "    .dataframe tbody tr th:only-of-type {\n",
       "        vertical-align: middle;\n",
       "    }\n",
       "\n",
       "    .dataframe tbody tr th {\n",
       "        vertical-align: top;\n",
       "    }\n",
       "\n",
       "    .dataframe thead th {\n",
       "        text-align: right;\n",
       "    }\n",
       "</style>\n",
       "<table border=\"1\" class=\"dataframe\">\n",
       "  <thead>\n",
       "    <tr style=\"text-align: right;\">\n",
       "      <th></th>\n",
       "      <th>Route</th>\n",
       "    </tr>\n",
       "  </thead>\n",
       "  <tbody>\n",
       "    <tr>\n",
       "      <th>0</th>\n",
       "      <td>BLR → DEL</td>\n",
       "    </tr>\n",
       "    <tr>\n",
       "      <th>1</th>\n",
       "      <td>CCU → IXR → BBI → BLR</td>\n",
       "    </tr>\n",
       "  </tbody>\n",
       "</table>\n",
       "</div>"
      ],
      "text/plain": [
       "                   Route\n",
       "0              BLR → DEL\n",
       "1  CCU → IXR → BBI → BLR"
      ]
     },
     "execution_count": 536,
     "metadata": {},
     "output_type": "execute_result"
    }
   ],
   "source": [
    "route_dataframe = df.loc[:,[\"Route\"]]\n",
    "route_dataframe.head(2)"
   ]
  },
  {
   "cell_type": "markdown",
   "id": "3a1b6a93",
   "metadata": {},
   "source": [
    "### adding the new column in route_dataframe"
   ]
  },
  {
   "cell_type": "code",
   "execution_count": 537,
   "id": "59675c07",
   "metadata": {},
   "outputs": [],
   "source": [
    "route_dataframe[\"Route1\"] = route1\n",
    "route_dataframe[\"Route2\"] = route2\n",
    "route_dataframe[\"Route3\"] = route3\n",
    "route_dataframe[\"Route4\"] = route4\n",
    "route_dataframe[\"Route5\"] = route5\n",
    "route_dataframe[\"Route6\"] = route6"
   ]
  },
  {
   "cell_type": "code",
   "execution_count": 538,
   "id": "9fce6fc1",
   "metadata": {},
   "outputs": [
    {
     "data": {
      "text/html": [
       "<div>\n",
       "<style scoped>\n",
       "    .dataframe tbody tr th:only-of-type {\n",
       "        vertical-align: middle;\n",
       "    }\n",
       "\n",
       "    .dataframe tbody tr th {\n",
       "        vertical-align: top;\n",
       "    }\n",
       "\n",
       "    .dataframe thead th {\n",
       "        text-align: right;\n",
       "    }\n",
       "</style>\n",
       "<table border=\"1\" class=\"dataframe\">\n",
       "  <thead>\n",
       "    <tr style=\"text-align: right;\">\n",
       "      <th></th>\n",
       "      <th>Route</th>\n",
       "      <th>Route1</th>\n",
       "      <th>Route2</th>\n",
       "      <th>Route3</th>\n",
       "      <th>Route4</th>\n",
       "      <th>Route5</th>\n",
       "      <th>Route6</th>\n",
       "    </tr>\n",
       "  </thead>\n",
       "  <tbody>\n",
       "    <tr>\n",
       "      <th>0</th>\n",
       "      <td>BLR → DEL</td>\n",
       "      <td>BLR</td>\n",
       "      <td>DEL</td>\n",
       "      <td>None</td>\n",
       "      <td>None</td>\n",
       "      <td>None</td>\n",
       "      <td>None</td>\n",
       "    </tr>\n",
       "    <tr>\n",
       "      <th>1</th>\n",
       "      <td>CCU → IXR → BBI → BLR</td>\n",
       "      <td>CCU</td>\n",
       "      <td>IXR</td>\n",
       "      <td>BBI</td>\n",
       "      <td>BLR</td>\n",
       "      <td>None</td>\n",
       "      <td>None</td>\n",
       "    </tr>\n",
       "    <tr>\n",
       "      <th>2</th>\n",
       "      <td>DEL → LKO → BOM → COK</td>\n",
       "      <td>DEL</td>\n",
       "      <td>LKO</td>\n",
       "      <td>BOM</td>\n",
       "      <td>COK</td>\n",
       "      <td>None</td>\n",
       "      <td>None</td>\n",
       "    </tr>\n",
       "  </tbody>\n",
       "</table>\n",
       "</div>"
      ],
      "text/plain": [
       "                   Route Route1 Route2 Route3 Route4 Route5 Route6\n",
       "0              BLR → DEL    BLR    DEL   None   None   None   None\n",
       "1  CCU → IXR → BBI → BLR    CCU    IXR    BBI    BLR   None   None\n",
       "2  DEL → LKO → BOM → COK    DEL    LKO    BOM    COK   None   None"
      ]
     },
     "execution_count": 538,
     "metadata": {},
     "output_type": "execute_result"
    }
   ],
   "source": [
    "route_dataframe.head(3)"
   ]
  },
  {
   "cell_type": "code",
   "execution_count": 539,
   "id": "bdd8030e-fcfa-49c5-ae43-3599cc3e0679",
   "metadata": {},
   "outputs": [
    {
     "data": {
      "image/png": "[encoded data removed]",
      "text/plain": [
       "<Figure size 1500x600 with 1 Axes>"
      ]
     },
     "metadata": {},
     "output_type": "display_data"
    }
   ],
   "source": [
    "import matplotlib.pyplot as plt\n",
    "import seaborn as sns\n",
    "plt.figure(figsize=(15,6))\n",
    "sns.countplot(x=\"Route2\", hue=\"Route1\", data=route_dataframe)\n",
    "plt.show()"
   ]
  },
  {
   "cell_type": "code",
   "execution_count": 540,
   "id": "9c7e2314",
   "metadata": {},
   "outputs": [
    {
     "data": {
      "text/plain": [
       "Route         0\n",
       "Route1        0\n",
       "Route2        0\n",
       "Route3     3491\n",
       "Route4     9116\n",
       "Route5    10636\n",
       "Route6    10681\n",
       "dtype: int64"
      ]
     },
     "execution_count": 540,
     "metadata": {},
     "output_type": "execute_result"
    }
   ],
   "source": [
    "route_dataframe.isna().sum()"
   ]
  },
  {
   "cell_type": "markdown",
   "id": "c1f031ba-445f-4870-a9ec-4fce083e6420",
   "metadata": {},
   "source": [
    "* route6 has total 10681 null data\n",
    "* route5 has total 10636 null data\n",
    "* route4 has total 9116 null data\n",
    "* route3 has total 3491 null data"
   ]
  },
  {
   "cell_type": "markdown",
   "id": "d5472567-a6ea-4209-9058-340c11acd38e",
   "metadata": {},
   "source": [
    "### adding new columns in original data"
   ]
  },
  {
   "cell_type": "code",
   "execution_count": 541,
   "id": "edd4a3b0-0a6c-4b49-88d0-5e5d443568fd",
   "metadata": {},
   "outputs": [],
   "source": [
    "df[\"Route1\"] = route1\n",
    "df[\"Route2\"] = route2\n",
    "df[\"Route3\"] = route3\n",
    "df[\"Route4\"] = route4\n",
    "df[\"Route5\"] = route5\n",
    "df[\"Route6\"] = route6"
   ]
  },
  {
   "cell_type": "code",
   "execution_count": 542,
   "id": "25baa604-cf07-46eb-b713-34efbb7f84bd",
   "metadata": {},
   "outputs": [
    {
     "data": {
      "text/html": [
       "<div>\n",
       "<style scoped>\n",
       "    .dataframe tbody tr th:only-of-type {\n",
       "        vertical-align: middle;\n",
       "    }\n",
       "\n",
       "    .dataframe tbody tr th {\n",
       "        vertical-align: top;\n",
       "    }\n",
       "\n",
       "    .dataframe thead th {\n",
       "        text-align: right;\n",
       "    }\n",
       "</style>\n",
       "<table border=\"1\" class=\"dataframe\">\n",
       "  <thead>\n",
       "    <tr style=\"text-align: right;\">\n",
       "      <th></th>\n",
       "      <th>Airline</th>\n",
       "      <th>Source</th>\n",
       "      <th>Destination</th>\n",
       "      <th>Route</th>\n",
       "      <th>Total_Stops</th>\n",
       "      <th>Additional_Info</th>\n",
       "      <th>Price</th>\n",
       "      <th>month</th>\n",
       "      <th>day</th>\n",
       "      <th>Depature_hour</th>\n",
       "      <th>...</th>\n",
       "      <th>Arrival_hour</th>\n",
       "      <th>Arrival_minute</th>\n",
       "      <th>Duration_hour</th>\n",
       "      <th>Duration_minute</th>\n",
       "      <th>Route1</th>\n",
       "      <th>Route2</th>\n",
       "      <th>Route3</th>\n",
       "      <th>Route4</th>\n",
       "      <th>Route5</th>\n",
       "      <th>Route6</th>\n",
       "    </tr>\n",
       "  </thead>\n",
       "  <tbody>\n",
       "    <tr>\n",
       "      <th>0</th>\n",
       "      <td>IndiGo</td>\n",
       "      <td>Banglore</td>\n",
       "      <td>New Delhi</td>\n",
       "      <td>BLR → DEL</td>\n",
       "      <td>non-stop</td>\n",
       "      <td>No info</td>\n",
       "      <td>3897</td>\n",
       "      <td>3</td>\n",
       "      <td>24</td>\n",
       "      <td>22</td>\n",
       "      <td>...</td>\n",
       "      <td>1</td>\n",
       "      <td>10</td>\n",
       "      <td>2</td>\n",
       "      <td>50</td>\n",
       "      <td>BLR</td>\n",
       "      <td>DEL</td>\n",
       "      <td>None</td>\n",
       "      <td>None</td>\n",
       "      <td>None</td>\n",
       "      <td>None</td>\n",
       "    </tr>\n",
       "    <tr>\n",
       "      <th>1</th>\n",
       "      <td>Air India</td>\n",
       "      <td>Kolkata</td>\n",
       "      <td>Banglore</td>\n",
       "      <td>CCU → IXR → BBI → BLR</td>\n",
       "      <td>2 stops</td>\n",
       "      <td>No info</td>\n",
       "      <td>7662</td>\n",
       "      <td>5</td>\n",
       "      <td>1</td>\n",
       "      <td>5</td>\n",
       "      <td>...</td>\n",
       "      <td>13</td>\n",
       "      <td>15</td>\n",
       "      <td>7</td>\n",
       "      <td>25</td>\n",
       "      <td>CCU</td>\n",
       "      <td>IXR</td>\n",
       "      <td>BBI</td>\n",
       "      <td>BLR</td>\n",
       "      <td>None</td>\n",
       "      <td>None</td>\n",
       "    </tr>\n",
       "    <tr>\n",
       "      <th>2</th>\n",
       "      <td>Jet Airways</td>\n",
       "      <td>Delhi</td>\n",
       "      <td>Cochin</td>\n",
       "      <td>DEL → LKO → BOM → COK</td>\n",
       "      <td>2 stops</td>\n",
       "      <td>No info</td>\n",
       "      <td>13882</td>\n",
       "      <td>6</td>\n",
       "      <td>9</td>\n",
       "      <td>9</td>\n",
       "      <td>...</td>\n",
       "      <td>4</td>\n",
       "      <td>25</td>\n",
       "      <td>19</td>\n",
       "      <td>0</td>\n",
       "      <td>DEL</td>\n",
       "      <td>LKO</td>\n",
       "      <td>BOM</td>\n",
       "      <td>COK</td>\n",
       "      <td>None</td>\n",
       "      <td>None</td>\n",
       "    </tr>\n",
       "  </tbody>\n",
       "</table>\n",
       "<p>3 rows × 21 columns</p>\n",
       "</div>"
      ],
      "text/plain": [
       "       Airline    Source Destination                  Route Total_Stops  \\\n",
       "0       IndiGo  Banglore   New Delhi              BLR → DEL    non-stop   \n",
       "1    Air India   Kolkata    Banglore  CCU → IXR → BBI → BLR     2 stops   \n",
       "2  Jet Airways     Delhi      Cochin  DEL → LKO → BOM → COK     2 stops   \n",
       "\n",
       "  Additional_Info  Price  month  day  Depature_hour  ...  Arrival_hour  \\\n",
       "0         No info   3897      3   24             22  ...             1   \n",
       "1         No info   7662      5    1              5  ...            13   \n",
       "2         No info  13882      6    9              9  ...             4   \n",
       "\n",
       "   Arrival_minute  Duration_hour  Duration_minute  Route1 Route2 Route3  \\\n",
       "0              10              2               50     BLR    DEL   None   \n",
       "1              15              7               25     CCU    IXR    BBI   \n",
       "2              25             19                0     DEL    LKO    BOM   \n",
       "\n",
       "  Route4 Route5 Route6  \n",
       "0   None   None   None  \n",
       "1    BLR   None   None  \n",
       "2    COK   None   None  \n",
       "\n",
       "[3 rows x 21 columns]"
      ]
     },
     "execution_count": 542,
     "metadata": {},
     "output_type": "execute_result"
    }
   ],
   "source": [
    "df.head(3)"
   ]
  },
  {
   "cell_type": "markdown",
   "id": "b198f54d-e39b-463b-bdfd-9e72dd44b520",
   "metadata": {},
   "source": [
    "# route vs total stops"
   ]
  },
  {
   "cell_type": "code",
   "execution_count": null,
   "id": "2ad31198-62fc-4629-a0f0-1fef836e63d1",
   "metadata": {},
   "outputs": [],
   "source": [
    "plt.figure(figsize=(20,6))\n",
    "sns.countplot(x=\"Route\",hue=\"Total_Stops\", data=df)\n",
    "plt.show()"
   ]
  },
  {
   "cell_type": "markdown",
   "id": "0552e438-68f3-43cc-8c9d-a1bfefc8cacb",
   "metadata": {},
   "source": [
    "### droping Route column from  original data"
   ]
  },
  {
   "cell_type": "code",
   "execution_count": null,
   "id": "372c99cb-07cb-4587-ba82-0515545dfab4",
   "metadata": {},
   "outputs": [],
   "source": [
    "df.drop(columns=\"Route\", inplace=True)\n",
    "df.head(3)"
   ]
  },
  {
   "cell_type": "markdown",
   "id": "7667fbc5-be83-450c-9dd0-df8b1abb572e",
   "metadata": {},
   "source": [
    "### Manipulating Total stops columns in the dataframe"
   ]
  },
  {
   "cell_type": "code",
   "execution_count": null,
   "id": "99ca6989-cf53-4bf4-a9b6-d26e17d88323",
   "metadata": {},
   "outputs": [],
   "source": [
    "stop_data = df[\"Total_Stops\"]"
   ]
  },
  {
   "cell_type": "code",
   "execution_count": null,
   "id": "ebf1d79b-e9ae-4266-9250-3e03fab57332",
   "metadata": {},
   "outputs": [],
   "source": [
    "# slicing\n",
    "new_df = df.loc[:,[\"Total_Stops\"]]\n",
    "new_df.head()"
   ]
  },
  {
   "cell_type": "code",
   "execution_count": null,
   "id": "15bff90f-7961-433c-8707-3ea268caf6cb",
   "metadata": {},
   "outputs": [],
   "source": [
    "# assing new values\n",
    "list = []\n",
    "for item in stop_data:\n",
    "    if item == 'non-stop':\n",
    "        list.append(0)\n",
    "    elif item == '1 stop':\n",
    "        list.append(1)\n",
    "    elif item == '2 stops':\n",
    "        list.append(2)\n",
    "    elif item == '3 stops':\n",
    "        list.append(3)\n",
    "    elif item == '4 stops':\n",
    "        list.append(4)"
   ]
  },
  {
   "cell_type": "code",
   "execution_count": null,
   "id": "65fb4201-4866-47b5-8f52-c20c80d35011",
   "metadata": {},
   "outputs": [],
   "source": [
    "# adding new value in total_stops\n",
    "new_df[\"Total_Stops\"]=list"
   ]
  },
  {
   "cell_type": "code",
   "execution_count": null,
   "id": "0ebdab18-b8ab-41e8-8b17-2eb7e21592a2",
   "metadata": {},
   "outputs": [],
   "source": [
    "new_df.head()"
   ]
  },
  {
   "cell_type": "code",
   "execution_count": null,
   "id": "5e7d1b2f-7d4c-44a5-adea-2c3f18366fd0",
   "metadata": {},
   "outputs": [],
   "source": [
    "stop_value = {'non-stop':0,'1 stop':1,'2 stops':2,'3 stops':3,'4 stops':4}"
   ]
  },
  {
   "cell_type": "code",
   "execution_count": null,
   "id": "5006080a-83e7-489a-a349-b68042f31315",
   "metadata": {},
   "outputs": [],
   "source": [
    "df[\"Total_Stops\"].map(stop_value)"
   ]
  },
  {
   "cell_type": "code",
   "execution_count": null,
   "id": "a188dade-ac7d-45b5-acfd-9a8d1912bb74",
   "metadata": {},
   "outputs": [],
   "source": [
    "df[\"Total_Stops\"].replace([\"non-stop\",\"1 stop\",\"2 stops\",\"3 stops\",\"4 stops\"],[0,1,2,3,4], inplace=True)"
   ]
  },
  {
   "cell_type": "code",
   "execution_count": null,
   "id": "0171f2fb-319f-4006-b33f-e503d9676884",
   "metadata": {},
   "outputs": [],
   "source": [
    "df.head(3)"
   ]
  },
  {
   "cell_type": "markdown",
   "id": "e91a7add-35b1-44dc-878b-7bb81623de0b",
   "metadata": {},
   "source": [
    "### Maniputing additional_info columns from original data"
   ]
  },
  {
   "cell_type": "code",
   "execution_count": null,
   "id": "e54104ba-06b1-4f1f-b744-c89c09d2a403",
   "metadata": {},
   "outputs": [],
   "source": [
    "df[\"Additional_Info\"]"
   ]
  },
  {
   "cell_type": "code",
   "execution_count": null,
   "id": "a0b5aebb-0be8-4f2e-8eb3-a58091a96435",
   "metadata": {},
   "outputs": [],
   "source": [
    "df[\"Additional_Info\"].unique()"
   ]
  },
  {
   "cell_type": "code",
   "execution_count": null,
   "id": "78629cc1-6ed6-48f4-bb98-beb82c240418",
   "metadata": {
    "scrolled": true
   },
   "outputs": [],
   "source": [
    "plt.figure(figsize=(12,12))\n",
    "sns.boxplot(x=\"Price\", hue=\"Additional_Info\", data=df)"
   ]
  },
  {
   "cell_type": "markdown",
   "id": "1353fd04-7c90-41cf-9d20-c42ea622c612",
   "metadata": {},
   "source": [
    "* Additional_Info also effect the price of tickets."
   ]
  },
  {
   "cell_type": "markdown",
   "id": "714baeca-69a7-47d7-a346-27cc3f15368b",
   "metadata": {},
   "source": [
    "### Manipulating airline column from original data"
   ]
  },
  {
   "cell_type": "code",
   "execution_count": null,
   "id": "29cd13d8-7090-4055-b310-3128142b8060",
   "metadata": {},
   "outputs": [],
   "source": [
    "df[\"Airline\"].unique()"
   ]
  },
  {
   "cell_type": "code",
   "execution_count": null,
   "id": "d13a9cd1-4dbb-447d-87d3-c1d16962c9fe",
   "metadata": {},
   "outputs": [],
   "source": [
    "df[\"Airline\"].nunique()"
   ]
  },
  {
   "cell_type": "code",
   "execution_count": null,
   "id": "d8d06705-4e30-4cc7-a8bd-bc1e5615fee3",
   "metadata": {},
   "outputs": [],
   "source": [
    "plt.figure(figsize=(12,12))\n",
    "sns.boxplot(x=\"Price\", hue=\"Airline\", data=df)"
   ]
  },
  {
   "cell_type": "markdown",
   "id": "ab0a5249-31c7-4404-a81b-752451d5f6ca",
   "metadata": {},
   "source": [
    "* Airline also effect the price of tickets."
   ]
  },
  {
   "cell_type": "code",
   "execution_count": null,
   "id": "4bfc9621-cda1-44ed-b9bb-e0209dee692d",
   "metadata": {},
   "outputs": [],
   "source": [
    "airline_data = df[\"Airline\"].value_counts()\n",
    "airline_data"
   ]
  },
  {
   "cell_type": "markdown",
   "id": "7602dbee-a6e6-44ef-bf1b-96bed56ba9f1",
   "metadata": {},
   "source": [
    "## Exploratory Data Analysis"
   ]
  },
  {
   "cell_type": "markdown",
   "id": "af69f3f5-c66f-4a37-8b8e-86fa954552a3",
   "metadata": {},
   "source": [
    "* Disturibution of Airline"
   ]
  },
  {
   "cell_type": "code",
   "execution_count": null,
   "id": "3992b02e-0477-487e-87da-82bc21bd6155",
   "metadata": {},
   "outputs": [],
   "source": [
    "plt.figure(figsize=(9,9))\n",
    "plt.pie(x=airline_data.values, labels=airline_data.index , autopct=\"%.2f%%\")\n",
    "plt.show()"
   ]
  },
  {
   "cell_type": "markdown",
   "id": "e9bf5e5a-610f-4620-a175-8a289085851e",
   "metadata": {},
   "source": [
    "* 36.03% of flight are cover by the Jet Airways \n",
    "* 19.22% of flight are cover by the Indigo\n",
    "* 16.39% of flight are cover by the Air India "
   ]
  },
  {
   "cell_type": "code",
   "execution_count": null,
   "id": "b202ad31-01a1-486f-a95d-39972eea2c47",
   "metadata": {},
   "outputs": [],
   "source": [
    "# using bar plot\n",
    "plt.figure(figsize=(15,9))\n",
    "sns.countplot(x=\"Airline\", data=df)\n",
    "plt.show()"
   ]
  },
  {
   "cell_type": "markdown",
   "id": "bdcae392-81e7-406e-b601-e403cd5bf4f4",
   "metadata": {},
   "source": [
    "* data show Jet Airways has highest number of flight"
   ]
  },
  {
   "cell_type": "markdown",
   "id": "afcc971f-3628-426c-bb83-6648f793c43f",
   "metadata": {},
   "source": [
    "##### Disturibution of Additional_Info"
   ]
  },
  {
   "cell_type": "code",
   "execution_count": null,
   "id": "97616c85-82c0-442f-a2d6-1ee417f5ea32",
   "metadata": {},
   "outputs": [],
   "source": [
    "a_i = df[\"Additional_Info\"].value_counts()\n",
    "plt.figure(figsize=(8,8))\n",
    "plt.pie(a_i.values, labels=a_i.index, autopct=\"%.2f%%\")\n",
    "plt.show()"
   ]
  },
  {
   "cell_type": "markdown",
   "id": "1909da8d-03eb-4d9d-a16b-418ede2e04ef",
   "metadata": {},
   "source": [
    "* 78.11% data has no any information \n",
    "* 18.55% data has information about In_flight meal not included\n",
    "* 3% data has information about No check-in baggage included"
   ]
  },
  {
   "cell_type": "markdown",
   "id": "9a6f9d37-dc46-49bd-8e46-9ff34790616e",
   "metadata": {},
   "source": [
    "#### Destribution of Total_stops"
   ]
  },
  {
   "cell_type": "code",
   "execution_count": null,
   "id": "80956bea-0b6f-4884-b226-5b3792dba150",
   "metadata": {},
   "outputs": [],
   "source": [
    "sns.countplot(x=df[\"Total_Stops\"])"
   ]
  },
  {
   "cell_type": "markdown",
   "id": "f18db072-944d-49b2-86dd-99333d57de76",
   "metadata": {},
   "source": [
    "*  1 stop has high count values"
   ]
  },
  {
   "cell_type": "markdown",
   "id": "78bc699f-2c5e-4fd0-baa2-5a71f028a806",
   "metadata": {},
   "source": [
    "### Destribution of Duration_hour and Duration_minute"
   ]
  },
  {
   "cell_type": "code",
   "execution_count": null,
   "id": "ad2867de-c300-4ce0-8137-05d10aa785ff",
   "metadata": {},
   "outputs": [],
   "source": [
    "plt.figure(figsize=(15,6))\n",
    "sns.countplot(x=df[\"Duration_hour\"], hue=df[\"Duration_minute\"])"
   ]
  },
  {
   "cell_type": "markdown",
   "id": "ebbe0907-91a6-4003-bb8a-3ab09962ab9b",
   "metadata": {},
   "source": [
    "* flight duration that take 2 hours 50 minutes has more count values\n",
    "* flight duration that take 1 hour to 3 hour has approximately distributed where remain ra approximately normally distributed"
   ]
  },
  {
   "cell_type": "markdown",
   "id": "74595723-e283-4a72-8370-a39bdf32329e",
   "metadata": {},
   "source": [
    "### Destribution of Depature_hour and Depature_minute"
   ]
  },
  {
   "cell_type": "code",
   "execution_count": null,
   "id": "1271b0f3-cec0-42d9-87fc-07521afb6165",
   "metadata": {},
   "outputs": [],
   "source": [
    "plt.figure(figsize=(15,6))\n",
    "sns.countplot(x=df[\"Depature_hour\"], hue=df[\"Depature_minute\"])"
   ]
  },
  {
   "cell_type": "markdown",
   "id": "21e1ee75-9bdd-48d8-bbb1-ccb9c7041d88",
   "metadata": {},
   "source": [
    "* flights are depature takeup 5 hours 23 hours has more count values"
   ]
  },
  {
   "cell_type": "markdown",
   "id": "6656a16d-536d-4c51-9689-8f5dab379fd3",
   "metadata": {},
   "source": [
    "### Destribution of Arrival_hour and Arrival_minute"
   ]
  },
  {
   "cell_type": "code",
   "execution_count": null,
   "id": "9db67188-dbf5-457d-b44a-0b8ba1a48f04",
   "metadata": {},
   "outputs": [],
   "source": [
    "plt.figure(figsize=(15,6))\n",
    "sns.countplot(x=df[\"Arrival_hour\"], hue=df[\"Arrival_minute\"])"
   ]
  },
  {
   "cell_type": "markdown",
   "id": "57c3be83-e3ad-46a2-aa85-438c07dbd720",
   "metadata": {},
   "source": [
    "* flights mostly arrived in 1hour 20 minute, 4hour 30minute, 12hour 40minute,  18hours 10minutes"
   ]
  },
  {
   "cell_type": "markdown",
   "id": "8b3644d4-ea51-4c96-989f-88eb2b1c2904",
   "metadata": {},
   "source": [
    "# We need to predict  Price of flight\n",
    "* Airline,\tTotal_Stops,\tAdditional_Info,\tmonth,\tday,\tDepature_hour,\tDepature_minute,\tArrival_hour,\tArrival_minute,\tDuration_hour, Duration_minute : Independent variable, X , features\n",
    "* Price : labels, target, y, dependent variables"
   ]
  },
  {
   "cell_type": "code",
   "execution_count": null,
   "id": "b76a9e73-b49f-44ee-8b6a-4b70983d6513",
   "metadata": {},
   "outputs": [],
   "source": [
    "## Features selection\n",
    "X = df.loc[:,[\"Airline\", \"Total_Stops\", \"Additional_Info\", \"month\", \"day\", \"Depature_hour\", \"Depature_minute\", \"Arrival_hour\", \"Arrival_minute\", \"Duration_hour\", \"Duration_minute\"]]\n",
    "y = df.Price"
   ]
  },
  {
   "cell_type": "code",
   "execution_count": null,
   "id": "7bb4732e-0f3d-4a2a-ad03-5cca17155949",
   "metadata": {},
   "outputs": [],
   "source": [
    "X"
   ]
  },
  {
   "cell_type": "markdown",
   "id": "cda1a77a-91e3-4a54-a534-90a4fed92cb5",
   "metadata": {},
   "source": [
    "* Here, Airline and Additional_Info are categorical data so we need to OneHotEncoding"
   ]
  },
  {
   "cell_type": "code",
   "execution_count": null,
   "id": "3dac3c83-0bee-44a1-b96c-b6a1c6938eb1",
   "metadata": {},
   "outputs": [],
   "source": [
    "X_features = pd.get_dummies(data=X , columns=['Airline','Additional_Info'],drop_first=True,dtype=float)\n",
    "X_features.head(4)"
   ]
  },
  {
   "cell_type": "code",
   "execution_count": null,
   "id": "80a53a80-7ca2-48cc-93c4-578b0e9ee11e",
   "metadata": {},
   "outputs": [],
   "source": [
    "X_features.columns"
   ]
  },
  {
   "cell_type": "markdown",
   "id": "ef353672-5e98-4abc-8288-078ab8853473",
   "metadata": {},
   "source": [
    "## Train test split"
   ]
  },
  {
   "cell_type": "code",
   "execution_count": null,
   "id": "0d8c79c6-65c1-4bb7-826e-3c5d9e703a13",
   "metadata": {},
   "outputs": [],
   "source": [
    "from sklearn.model_selection import train_test_split\n",
    "X_train, X_test, y_train, y_test = train_test_split(X_features, y, test_size=0.2, random_state=40)"
   ]
  },
  {
   "cell_type": "code",
   "execution_count": null,
   "id": "4c473b9b-d9ea-46fc-9c87-9af74439fd9c",
   "metadata": {},
   "outputs": [],
   "source": [
    "X_train.shape, y_train.shape"
   ]
  },
  {
   "cell_type": "code",
   "execution_count": null,
   "id": "a96b68c9-9735-4e33-b934-aabdbed09e6a",
   "metadata": {},
   "outputs": [],
   "source": [
    "X_test.shape, y_test.shape"
   ]
  },
  {
   "cell_type": "markdown",
   "id": "2c6a9e7f-f3ca-44a4-8d43-aa4ffcdb0ea8",
   "metadata": {},
   "source": [
    "## Modeling: Multiple Linear Regression"
   ]
  },
  {
   "cell_type": "code",
   "execution_count": null,
   "id": "c408bd5d-7e8a-4c28-abf6-f2bbbe9eb5da",
   "metadata": {},
   "outputs": [],
   "source": [
    "from sklearn.linear_model import LinearRegression\n",
    "model = LinearRegression()\n",
    "model.fit(X_train,y_train)"
   ]
  },
  {
   "cell_type": "markdown",
   "id": "f46b3392-ac9e-437e-b401-2716239e9421",
   "metadata": {},
   "source": [
    "## Prediction"
   ]
  },
  {
   "cell_type": "code",
   "execution_count": null,
   "id": "a5ee097a-7042-41ba-8b2f-93e08840aa80",
   "metadata": {},
   "outputs": [],
   "source": [
    "y_pred = model.predict(X_test)"
   ]
  },
  {
   "cell_type": "markdown",
   "id": "08572a99-407f-4119-8818-e9d4ffb3bcf2",
   "metadata": {},
   "source": [
    "## coefficient"
   ]
  },
  {
   "cell_type": "code",
   "execution_count": null,
   "id": "af9e060d-55e2-40cd-a669-905c6c3b2baa",
   "metadata": {},
   "outputs": [],
   "source": [
    "m = model.coef_\n",
    "print(f\"The cofficient of data are {m}.\")"
   ]
  },
  {
   "cell_type": "markdown",
   "id": "41c4991b-7dbb-4c36-8bfa-78d2821755a0",
   "metadata": {},
   "source": [
    "## Interception"
   ]
  },
  {
   "cell_type": "code",
   "execution_count": null,
   "id": "a0bfe0c9-8b2a-4977-97d6-98bd275e0fc3",
   "metadata": {},
   "outputs": [],
   "source": [
    "c = model.intercept_\n",
    "print(f\"The interception of data is {c}.\")"
   ]
  },
  {
   "cell_type": "markdown",
   "id": "bb7d8f31-3584-471a-9f46-4f338a441b2f",
   "metadata": {},
   "source": [
    "## Evalution"
   ]
  },
  {
   "cell_type": "markdown",
   "id": "79991c60-015d-4a55-83bb-cc0dc99d102b",
   "metadata": {},
   "source": [
    "#### Mean Square Error"
   ]
  },
  {
   "cell_type": "code",
   "execution_count": null,
   "id": "94ecb5b9-f168-4d26-94f9-dfce34856710",
   "metadata": {},
   "outputs": [],
   "source": [
    "# calculating mse\n",
    "def mean_square_error(y_true, y_pred):\n",
    "    error = y_true - y_pred\n",
    "    error_sq = [item**2 for item in error]\n",
    "    mse = (1/len(y_true))* sum(error_sq)\n",
    "    return mse"
   ]
  },
  {
   "cell_type": "code",
   "execution_count": null,
   "id": "d6b7345e-4cec-4101-81bd-3c0ec748400a",
   "metadata": {},
   "outputs": [],
   "source": [
    "mse = mean_square_error(y_true=y_test, y_pred=y_pred)\n",
    "print(f\"Mean Square error is {round(mse,4)}.\")"
   ]
  },
  {
   "cell_type": "code",
   "execution_count": null,
   "id": "6ee67029-702c-4293-9f86-bbf2828ef825",
   "metadata": {},
   "outputs": [],
   "source": [
    "# using sklearn libraries\n",
    "from sklearn.metrics import mean_squared_error\n",
    "mse = mean_squared_error(y_true=y_test, y_pred=y_pred)\n",
    "mse"
   ]
  },
  {
   "cell_type": "markdown",
   "id": "23638351-7ab8-4fe3-ae4a-4ad19d8a20c4",
   "metadata": {},
   "source": [
    "#### Root Mean Square Error"
   ]
  },
  {
   "cell_type": "code",
   "execution_count": null,
   "id": "1d5bde28-2d34-4a7e-bd80-525a2b567e90",
   "metadata": {},
   "outputs": [],
   "source": [
    "# calculating mser\n",
    "def mean_square_error_root(y_true, y_pred):\n",
    "    error = y_true - y_pred\n",
    "    error_sq = [item**2 for item in error]\n",
    "    mser = ((1/len(y_true))* sum(error_sq)) ** (1/2)\n",
    "    return mser"
   ]
  },
  {
   "cell_type": "code",
   "execution_count": null,
   "id": "4924c8b9-081d-456c-823a-b52945e48912",
   "metadata": {},
   "outputs": [],
   "source": [
    "mser = mean_square_error_root(y_true=y_test, y_pred=y_pred)\n",
    "print(f\"Root Mean Square Error is {round(mser,4)}.\")"
   ]
  },
  {
   "cell_type": "code",
   "execution_count": null,
   "id": "263c84c9-0240-4351-98a6-fde1a5e4cf27",
   "metadata": {},
   "outputs": [],
   "source": [
    "# using sklearn libraries\n",
    "from sklearn.metrics import root_mean_squared_error\n",
    "mser = root_mean_squared_error(y_true=y_test, y_pred=y_pred)\n",
    "mser"
   ]
  },
  {
   "cell_type": "markdown",
   "id": "b7aa14dc-ab7d-45aa-9b38-77956c175920",
   "metadata": {},
   "source": [
    "#### Mean Absolute Error"
   ]
  },
  {
   "cell_type": "code",
   "execution_count": null,
   "id": "71a1739f-2661-4576-914b-668a5209288d",
   "metadata": {},
   "outputs": [],
   "source": [
    "# calculating mae\n",
    "def mean_absolute_error(y_true, y_pred):\n",
    "    error = y_true - y_pred\n",
    "    error_ab = [(item**2)**(1/2) for item in error]\n",
    "    mae = ((1/len(y_true))* sum(error_ab))\n",
    "    return mae"
   ]
  },
  {
   "cell_type": "code",
   "execution_count": null,
   "id": "7529c729-9ddc-4f5d-a499-65eacf3b217b",
   "metadata": {},
   "outputs": [],
   "source": [
    "mae = mean_absolute_error(y_true=y_test, y_pred=y_pred)\n",
    "print(f\"Mean Absolute Error is {round(mae,4)}.\")"
   ]
  },
  {
   "cell_type": "code",
   "execution_count": null,
   "id": "a168ad5c-3223-4d11-b749-b5f7e7cafeff",
   "metadata": {},
   "outputs": [],
   "source": [
    "# using sklearn libraries\n",
    "from sklearn.metrics import mean_absolute_error\n",
    "maee = mean_absolute_error(y_true=y_test, y_pred=y_pred)\n",
    "maee"
   ]
  },
  {
   "cell_type": "markdown",
   "id": "e8f9255b-a950-47ad-b883-f2a1e349c3ca",
   "metadata": {},
   "source": [
    "## R Square"
   ]
  },
  {
   "cell_type": "code",
   "execution_count": null,
   "id": "1d419284-101b-4647-b865-d290a8a1c8ba",
   "metadata": {},
   "outputs": [],
   "source": [
    "# calculating R square\n",
    "def r2_score(y_true, y_pred):\n",
    "    e_r = y_test - y_pred\n",
    "    e_t = y_test - y_test.mean()\n",
    "    ssr = [item ** 2 for item in e_r]\n",
    "    sst = [item ** 2 for item in e_t]\n",
    "    r2 = 1-(sum(ssr)/ sum(sst))\n",
    "    return r2"
   ]
  },
  {
   "cell_type": "code",
   "execution_count": null,
   "id": "bd7dbe10-218e-486b-b09c-34d43d48d917",
   "metadata": {},
   "outputs": [],
   "source": [
    "r2 = r2_score(y_true=y_test, y_pred=y_pred)\n",
    "print(f\"R Square score is {round(r2,4)}.\")"
   ]
  },
  {
   "cell_type": "code",
   "execution_count": null,
   "id": "e8edfc3c-83b1-410e-8785-eaa74d4e64e9",
   "metadata": {},
   "outputs": [],
   "source": [
    "# using sklearn libraries\n",
    "from sklearn.metrics import r2_score\n",
    "r_s= r2_score(y_true=y_test, y_pred=y_pred)\n",
    "r_s"
   ]
  },
  {
   "cell_type": "code",
   "execution_count": null,
   "id": "59a9f982-5a73-4154-91a0-64482d9d7e87",
   "metadata": {},
   "outputs": [],
   "source": []
  }
 ],
 "metadata": {
  "kernelspec": {
   "display_name": "Python 3 (ipykernel)",
   "language": "python",
   "name": "python3"
  },
  "language_info": {
   "codemirror_mode": {
    "name": "ipython",
    "version": 3
   },
   "file_extension": ".py",
   "mimetype": "text/x-python",
   "name": "python",
   "nbconvert_exporter": "python",
   "pygments_lexer": "ipython3",
   "version": "3.11.1"
  }
 },
 "nbformat": 4,
 "nbformat_minor": 5
}

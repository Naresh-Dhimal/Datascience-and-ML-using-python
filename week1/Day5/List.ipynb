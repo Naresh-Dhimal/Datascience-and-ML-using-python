{
 "cells": [
  {
   "cell_type": "markdown",
   "metadata": {
    "id": "0WISSVU_0vA4"
   },
   "source": [
    "## Python List\n",
    "- Python List falls under the compound data types i.e. they are composed of one or more basic data types.\n",
    "- It means, A List is a sequence collection of different objects such as integers, strings, and even other lists as well.\n",
    "- Python Lists are represented with square brackets.\n",
    "  - Example: `[\"item1\", 2, \"item3\", 4.0]`\n",
    "- Unlike array, List can store data of multiple data types like string, integer, float, etc.\n",
    "- Python Lists are also an ordered sequences.\n",
    "  - It means the items have a defined order, and that order will not change.\n",
    "  - If you add new items to a list, the new items will be placed at the end of the list.\n",
    "\n",
    "- Unlike Strings, Lists are mutable meaning, we can change, add, and remove items in a list after  it is created.\n",
    "\n",
    "- Similar to Strings, we can perform loop through items in a list.\n",
    "\n",
    "- In this lecture we'll cover:\n",
    "  - Creating Lists\n",
    "  - Indexing Lists\n",
    "  - Slicing Lists\n",
    "  - Lists are mutable\n",
    "  - List methods\n",
    "  - Join Lists\n",
    "  - Loop Lists\n",
    "  - List Comprehension\n",
    "  - List exercise\n",
    "\n"
   ]
  },
  {
   "cell_type": "markdown",
   "metadata": {
    "id": "85C1oeFlZFFb"
   },
   "source": [
    "### 1. Creating Lists\n",
    "- To create a list, type the list items within square brackets **[]**, separated by commas.\n",
    "- Example: [\"item1\", 2, 'item3', 4]\n",
    "\n",
    "- List can be categorized into 2 types:\n",
    "  1. simple list:\n",
    "    - Example: [1, 2, 3, 4]\n",
    "  2. Nested list: \n",
    "    - They list within list.\n",
    "    - Also called as 2D list.\n",
    "    - Example: [[1, 2], [3, 4]]"
   ]
  },
  {
   "cell_type": "code",
   "execution_count": 4,
   "metadata": {
    "id": "sMObrplAty-l"
   },
   "outputs": [],
   "source": [
    "# create simple list with mixed data types\n",
    "l1 = [2, 4.8, True, False, \"List\"]"
   ]
  },
  {
   "cell_type": "code",
   "execution_count": 5,
   "metadata": {
    "id": "QFDYxsMEa--R"
   },
   "outputs": [
    {
     "name": "stdout",
     "output_type": "stream",
     "text": [
      "[2, 4.8, True, False, 'List']\n"
     ]
    }
   ],
   "source": [
    "# display type \n",
    "print(l1)"
   ]
  },
  {
   "cell_type": "code",
   "execution_count": 6,
   "metadata": {
    "id": "YYsBr6U8bBTx"
   },
   "outputs": [
    {
     "name": "stdout",
     "output_type": "stream",
     "text": [
      "5\n"
     ]
    }
   ],
   "source": [
    "# display length of list\n",
    "print(len(l1))"
   ]
  },
  {
   "cell_type": "code",
   "execution_count": 7,
   "metadata": {
    "id": "9jreGt6XaonV"
   },
   "outputs": [],
   "source": [
    "# create nested list\n",
    "l2 = [True, ['ram', 'radhe'], [1, 4, 6], 4]"
   ]
  },
  {
   "cell_type": "code",
   "execution_count": 8,
   "metadata": {
    "id": "-IdxGufFbI-v"
   },
   "outputs": [
    {
     "name": "stdout",
     "output_type": "stream",
     "text": [
      "[True, ['ram', 'radhe'], [1, 4, 6], 4]\n"
     ]
    }
   ],
   "source": [
    "# display type of nested list\n",
    "print(l2)"
   ]
  },
  {
   "cell_type": "code",
   "execution_count": 9,
   "metadata": {
    "id": "k2yyoljkbT2i"
   },
   "outputs": [
    {
     "name": "stdout",
     "output_type": "stream",
     "text": [
      "4\n"
     ]
    }
   ],
   "source": [
    "# display length of nested list\n",
    "print(len(l2))\n"
   ]
  },
  {
   "cell_type": "markdown",
   "metadata": {
    "id": "c9OUQWAPataU"
   },
   "source": [
    "**List creation from Strings**\n",
    "- use .split() method"
   ]
  },
  {
   "cell_type": "code",
   "execution_count": 10,
   "metadata": {
    "id": "phvFsyBMaq1m"
   },
   "outputs": [
    {
     "name": "stdout",
     "output_type": "stream",
     "text": [
      "['Kathmandu', 'metropolitain', 'city'] <class 'list'>\n"
     ]
    }
   ],
   "source": [
    "# Initialize any non-empty string\n",
    "#\n",
    "# split string to create list\n",
    "new_str = \"Kathmandu metropolitain city\"\n",
    "new_list = new_str.split()\n",
    "print(new_list, type(new_list))\n"
   ]
  },
  {
   "cell_type": "markdown",
   "metadata": {
    "id": "iqzPQj7PcIDw"
   },
   "source": [
    "###2. Indexing Lists\n",
    "- Indexing works similar to that of Strings.\n",
    "- As we know, list is a sequenced collection of different objects such as Strings, Integer, etc.\n",
    "- The address of each element within a list is called an index.\n",
    "- An index is used to access and refer to items within a list.\n",
    "\n",
    "  <img src='https://drive.google.com/uc?id=1SB5gGtnvQp3Fx0gG9YruM4VgmAe-HDQc' width='400'>"
   ]
  },
  {
   "cell_type": "markdown",
   "metadata": {
    "id": "tP0OjAXyfYWK"
   },
   "source": [
    "**positive indexing**"
   ]
  },
  {
   "cell_type": "code",
   "execution_count": 11,
   "metadata": {
    "id": "9OFP2Q4na5aj"
   },
   "outputs": [],
   "source": [
    "# initialize simple list of length 5\n",
    "new_list = ['radhe', 34, True, 'champa', 5]"
   ]
  },
  {
   "cell_type": "code",
   "execution_count": 12,
   "metadata": {
    "id": "88JpuB4VfTAb"
   },
   "outputs": [
    {
     "data": {
      "text/plain": [
       "'radhe'"
      ]
     },
     "execution_count": 12,
     "metadata": {},
     "output_type": "execute_result"
    }
   ],
   "source": [
    "# print 1st item using positive index\n",
    "new_list[0]"
   ]
  },
  {
   "cell_type": "code",
   "execution_count": 13,
   "metadata": {
    "id": "P17NrmdOfh4m"
   },
   "outputs": [
    {
     "data": {
      "text/plain": [
       "True"
      ]
     },
     "execution_count": 13,
     "metadata": {},
     "output_type": "execute_result"
    }
   ],
   "source": [
    "# print 3rd item using positive index\n",
    "new_list[2]"
   ]
  },
  {
   "cell_type": "code",
   "execution_count": 14,
   "metadata": {
    "id": "BNI0AwLnfjbI"
   },
   "outputs": [
    {
     "data": {
      "text/plain": [
       "5"
      ]
     },
     "execution_count": 14,
     "metadata": {},
     "output_type": "execute_result"
    }
   ],
   "source": [
    "# print last item using positive index\n",
    "new_list[len(new_list)-1]"
   ]
  },
  {
   "cell_type": "markdown",
   "metadata": {
    "id": "ncBm4Tatf1lT"
   },
   "source": [
    "`Now lets try to index nested list`"
   ]
  },
  {
   "cell_type": "code",
   "execution_count": 15,
   "metadata": {
    "id": "h5gMz6-sf69J"
   },
   "outputs": [],
   "source": [
    "# initialize nested list of length 5\n",
    "nested_list = [['radhe','hari'], ['kathmandu', 'bhaktapur'],[34, 23], [True, False], [3.4, 6.7]]"
   ]
  },
  {
   "cell_type": "code",
   "execution_count": 16,
   "metadata": {
    "id": "l5uGmzYRf-HX"
   },
   "outputs": [
    {
     "name": "stdout",
     "output_type": "stream",
     "text": [
      "hari\n",
      "kathmandu\n"
     ]
    }
   ],
   "source": [
    "# practice indexing \n",
    "print(nested_list[0][1]) # to extract 'hari'\n",
    "print(nested_list[1][0])\n"
   ]
  },
  {
   "cell_type": "markdown",
   "metadata": {
    "id": "bym4xzegfoIm"
   },
   "source": [
    "**negative indexing**"
   ]
  },
  {
   "cell_type": "code",
   "execution_count": 17,
   "metadata": {
    "id": "63WwU6Oifk5i"
   },
   "outputs": [],
   "source": [
    "# reinitialize simple list of length 5\n",
    "new_list = ['radhe', 34, True, 'champa', 5]"
   ]
  },
  {
   "cell_type": "code",
   "execution_count": 18,
   "metadata": {
    "id": "IpEcxj9FgVaC"
   },
   "outputs": [
    {
     "data": {
      "text/plain": [
       "'radhe'"
      ]
     },
     "execution_count": 18,
     "metadata": {},
     "output_type": "execute_result"
    }
   ],
   "source": [
    "# print 1st item using negative index\n",
    "new_list[-len(new_list)]"
   ]
  },
  {
   "cell_type": "code",
   "execution_count": 19,
   "metadata": {
    "id": "a50U7mnugckO"
   },
   "outputs": [
    {
     "data": {
      "text/plain": [
       "True"
      ]
     },
     "execution_count": 19,
     "metadata": {},
     "output_type": "execute_result"
    }
   ],
   "source": [
    "# print 3rd item using negative index\n",
    "new_list[-len(new_list)+2]"
   ]
  },
  {
   "cell_type": "code",
   "execution_count": 20,
   "metadata": {
    "id": "QakBZvK9gfUh"
   },
   "outputs": [
    {
     "data": {
      "text/plain": [
       "5"
      ]
     },
     "execution_count": 20,
     "metadata": {},
     "output_type": "execute_result"
    }
   ],
   "source": [
    "# print last item using negative index\n",
    "new_list[-len(new_list) + len(new_list)-1]"
   ]
  },
  {
   "cell_type": "markdown",
   "metadata": {
    "id": "ab__Ew1_jKu-"
   },
   "source": [
    "### 3. Slicing Lists\n",
    "- Slicing Lists means extracting part of list items.\n",
    "- Concepts of Slicing Lists is similar to Slicing Strings.\n",
    "- `Syntax: list[start:end:step]`\n",
    "\n",
    "  <img src='https://drive.google.com/uc?id=1j7BjHU8MmE0LFv1Qls9F-4h3NheDoLAD' width='500'>"
   ]
  },
  {
   "cell_type": "markdown",
   "metadata": {
    "id": "aIH86VGDjpC0"
   },
   "source": [
    "**case 1: when step is positive**"
   ]
  },
  {
   "cell_type": "code",
   "execution_count": 21,
   "metadata": {
    "id": "i4htDYIfjwX_"
   },
   "outputs": [],
   "source": [
    "# initialize simple list (refer to above example)\n",
    "new_list = ['radhe', 34, True, 'champa', 5]"
   ]
  },
  {
   "cell_type": "code",
   "execution_count": 22,
   "metadata": {
    "id": "CUptfwSGggpI"
   },
   "outputs": [
    {
     "data": {
      "text/plain": [
       "['radhe', 34, True]"
      ]
     },
     "execution_count": 22,
     "metadata": {},
     "output_type": "execute_result"
    }
   ],
   "source": [
    "# slice first 3 items using positive index\n",
    "new_list[:3]"
   ]
  },
  {
   "cell_type": "code",
   "execution_count": 23,
   "metadata": {
    "id": "n6Lwl9kcjzZX"
   },
   "outputs": [
    {
     "data": {
      "text/plain": [
       "[True, 'champa', 5]"
      ]
     },
     "execution_count": 23,
     "metadata": {},
     "output_type": "execute_result"
    }
   ],
   "source": [
    "# slice last 3 items using negative index\n",
    "new_list[-3:]"
   ]
  },
  {
   "cell_type": "code",
   "execution_count": 24,
   "metadata": {
    "id": "AriUJBXXj4Ri"
   },
   "outputs": [
    {
     "data": {
      "text/plain": [
       "['S', 'r', 'n', ' ', 'n', 'e', 'i', 'g']"
      ]
     },
     "execution_count": 24,
     "metadata": {},
     "output_type": "execute_result"
    }
   ],
   "source": [
    "# get list item at even index\n",
    "# e.g. ['S', 'r', 'n', ' ', 'n', 'e', i]\n",
    "new_str = \"String indexing\"\n",
    "new_list = [ new_str[item] for item in range(0,len(new_str), 2)]\n",
    "new_list"
   ]
  },
  {
   "cell_type": "markdown",
   "metadata": {
    "id": "MiE9SkvYkFIj"
   },
   "source": [
    "**case 2: when step is negative**"
   ]
  },
  {
   "cell_type": "code",
   "execution_count": 25,
   "metadata": {
    "id": "Xw_yDE_qkB-P"
   },
   "outputs": [
    {
     "data": {
      "text/plain": [
       "['S', 'r', 'n']"
      ]
     },
     "execution_count": 25,
     "metadata": {},
     "output_type": "execute_result"
    }
   ],
   "source": [
    "# slice first 3 list items using positive index\n",
    "new_list[:3:]"
   ]
  },
  {
   "cell_type": "code",
   "execution_count": 26,
   "metadata": {
    "id": "OAT27nN4kOkP"
   },
   "outputs": [
    {
     "data": {
      "text/plain": [
       "['n', 'r', 'S']"
      ]
     },
     "execution_count": 26,
     "metadata": {},
     "output_type": "execute_result"
    }
   ],
   "source": [
    "# slice last 3 list items using negative index\n",
    "new_list[-6:-len(new_list)-1:-1]"
   ]
  },
  {
   "cell_type": "code",
   "execution_count": 27,
   "metadata": {
    "id": "UHaPb61okTfn"
   },
   "outputs": [
    {
     "data": {
      "text/plain": [
       "['g', 'n', 'i', 'x', 'e', 'd', 'n', 'i', ' ', 'g', 'n', 'i', 'r', 't', 'S']"
      ]
     },
     "execution_count": 27,
     "metadata": {},
     "output_type": "execute_result"
    }
   ],
   "source": [
    "# reverse list\n",
    "# output: ['n', 'i', 'x', 'e', 'd', 'n', 'I', ' ', 'g', 'n', 'i', 'r', 't', 'S']\n",
    "new_str = \"String indexing\"\n",
    "new_list = [ new_str[item] for item in range(0,len(new_str))]\n",
    "new_list[::-1]"
   ]
  },
  {
   "cell_type": "markdown",
   "metadata": {
    "id": "Cbl-pK2bkuhZ"
   },
   "source": [
    "###4. Lists are mutable\n",
    "- Unlike Strings, Lists are mutable\n",
    "- It means we can change list items after its creation.\n"
   ]
  },
  {
   "cell_type": "code",
   "execution_count": 28,
   "metadata": {
    "colab": {
     "base_uri": "https://localhost:8080/"
    },
    "executionInfo": {
     "elapsed": 4,
     "status": "ok",
     "timestamp": 1686132988448,
     "user": {
      "displayName": "Anish Thapaliya",
      "userId": "06325140887572930045"
     },
     "user_tz": -345
    },
    "id": "DpFRiqVckg57",
    "outputId": "f247dbc5-7410-468c-9003-8b5cd70bee6f"
   },
   "outputs": [
    {
     "name": "stdout",
     "output_type": "stream",
     "text": [
      "['hi', 'i', 'am', 'mutable']\n"
     ]
    }
   ],
   "source": [
    "# verify lists are mutable\n",
    "mutable_list = ['hi', 'i', 'am', 'mutable']\n",
    "print(mutable_list)"
   ]
  },
  {
   "cell_type": "code",
   "execution_count": 29,
   "metadata": {
    "id": "WLfX2xDflOHs"
   },
   "outputs": [
    {
     "data": {
      "text/plain": [
       "['hello', 'i', 'am', 'mutable']"
      ]
     },
     "execution_count": 29,
     "metadata": {},
     "output_type": "execute_result"
    }
   ],
   "source": [
    "# change first item 'hi' to 'hello'\n",
    "mutable_list[0] = 'hello'\n",
    "# mutable_list.insert(2, 'you')\n",
    "mutable_list"
   ]
  },
  {
   "cell_type": "markdown",
   "metadata": {
    "id": "ppgwSvcilbcp"
   },
   "source": [
    "Assigning new value, we didn't got error. We can say Lists are mutable."
   ]
  },
  {
   "cell_type": "markdown",
   "metadata": {
    "id": "tb2H1PQhlh0E"
   },
   "source": [
    "###5. List Methods\n",
    "- Most common Lists methods are:\n",
    "  - `append()`: Methods to add an item to the end of the list.\n",
    "  - `insert()`: Methods to add an item to list at a specified index.\n",
    "  - `extend()`: Methods to append elements from another list to the current list\n",
    "  - `remove()`: Methods to remove the specified item using item name.\n",
    "  - `pop()`: Methods to remove the list item using index. By Default pop takes up the last index.\n",
    "  - `reverse()`: Methods to reverse list.\n",
    "  - `sort()`: Methods to sort the string either in ascending order or descending order. "
   ]
  },
  {
   "cell_type": "code",
   "execution_count": 30,
   "metadata": {
    "id": "XkoZYep1lgYt"
   },
   "outputs": [],
   "source": [
    "# Create a new list\n",
    "\n",
    "list1 = [1, 2, 3, 4]"
   ]
  },
  {
   "cell_type": "code",
   "execution_count": 31,
   "metadata": {
    "id": "9epKUK2jj8gR"
   },
   "outputs": [
    {
     "name": "stdout",
     "output_type": "stream",
     "text": [
      "[1, 2, 3, 4, 5]\n"
     ]
    }
   ],
   "source": [
    "# add new item to the end of a list\n",
    "list1.append(5)\n",
    "print(list1)"
   ]
  },
  {
   "cell_type": "code",
   "execution_count": 32,
   "metadata": {
    "id": "NDcVUp1jj9hR"
   },
   "outputs": [
    {
     "name": "stdout",
     "output_type": "stream",
     "text": [
      "[1, 'hello', 2, 3, 4, 5]\n"
     ]
    }
   ],
   "source": [
    "# add new item at index 1 using insert()\n",
    "list1.insert(1, 'hello')\n",
    "print(list1)\n"
   ]
  },
  {
   "cell_type": "markdown",
   "metadata": {
    "id": "HQ6vJHI0ozPH"
   },
   "source": [
    "`If we run insert() methods multiple times, then item will be added at specified index and length of list will grow accordingly.`"
   ]
  },
  {
   "cell_type": "code",
   "execution_count": 33,
   "metadata": {
    "id": "_kvtllEAoy6M"
   },
   "outputs": [
    {
     "name": "stdout",
     "output_type": "stream",
     "text": [
      "[1, 'hello', 2, 3, 4, 5, 'redhe', 'hari']\n"
     ]
    }
   ],
   "source": [
    "# Given two list i.e. list1 and list2\n",
    "# extend list1 with item from list 2\n",
    "list2 = [\"redhe\", 'hari']\n",
    "list1.extend(list2)\n",
    "print(list1)"
   ]
  },
  {
   "cell_type": "code",
   "execution_count": 34,
   "metadata": {
    "id": "r3O_THSdnUHA"
   },
   "outputs": [
    {
     "data": {
      "text/plain": [
       "[1, 'hello', 2, 3, 4, 5, 'hari']"
      ]
     },
     "execution_count": 34,
     "metadata": {},
     "output_type": "execute_result"
    }
   ],
   "source": [
    "# remove specific item from list\n",
    "list1.remove('redhe')\n",
    "list1"
   ]
  },
  {
   "cell_type": "code",
   "execution_count": 35,
   "metadata": {
    "id": "lJ_iOWaFrCzr"
   },
   "outputs": [
    {
     "name": "stdout",
     "output_type": "stream",
     "text": [
      "[1, 'hello', 2, 4, 5, 'hari']\n"
     ]
    }
   ],
   "source": [
    "# remove item at index 1 of list\n",
    "list1.pop(3)\n",
    "print(list1)"
   ]
  },
  {
   "cell_type": "code",
   "execution_count": 36,
   "metadata": {
    "id": "EAUuqlqRtEow"
   },
   "outputs": [
    {
     "name": "stdout",
     "output_type": "stream",
     "text": [
      "[1, 'hello', 2, 4, 5]\n"
     ]
    }
   ],
   "source": [
    "# remove last item from list\n",
    "list1.pop()\n",
    "print(list1)"
   ]
  },
  {
   "cell_type": "code",
   "execution_count": 37,
   "metadata": {
    "id": "Ds3N7eMotL4S"
   },
   "outputs": [
    {
     "data": {
      "text/plain": [
       "[5, 4, 2, 'hello', 1]"
      ]
     },
     "execution_count": 37,
     "metadata": {},
     "output_type": "execute_result"
    }
   ],
   "source": [
    "# reverse list\n",
    "list1.reverse()\n",
    "list1\n"
   ]
  },
  {
   "cell_type": "code",
   "execution_count": 38,
   "metadata": {
    "id": "R1_LfXGVu5vx"
   },
   "outputs": [
    {
     "data": {
      "text/plain": [
       "[5, 4, 2, 1]"
      ]
     },
     "execution_count": 38,
     "metadata": {},
     "output_type": "execute_result"
    }
   ],
   "source": [
    "# sort list in ascending order\n",
    "list1.remove('hello')\n",
    "list1\n"
   ]
  },
  {
   "cell_type": "code",
   "execution_count": 39,
   "metadata": {},
   "outputs": [
    {
     "data": {
      "text/plain": [
       "[5, 4, 4, 2, 1]"
      ]
     },
     "execution_count": 39,
     "metadata": {},
     "output_type": "execute_result"
    }
   ],
   "source": [
    "list1.insert(1, 4)\n",
    "list1"
   ]
  },
  {
   "cell_type": "code",
   "execution_count": 40,
   "metadata": {},
   "outputs": [],
   "source": [
    "list1.sort()"
   ]
  },
  {
   "cell_type": "code",
   "execution_count": 41,
   "metadata": {},
   "outputs": [
    {
     "data": {
      "text/plain": [
       "[1, 2, 4, 4, 5]"
      ]
     },
     "execution_count": 41,
     "metadata": {},
     "output_type": "execute_result"
    }
   ],
   "source": [
    "list1"
   ]
  },
  {
   "cell_type": "code",
   "execution_count": 42,
   "metadata": {
    "id": "IQEOjqOEvHs5"
   },
   "outputs": [],
   "source": [
    "# sort list in descending order"
   ]
  },
  {
   "cell_type": "code",
   "execution_count": 43,
   "metadata": {},
   "outputs": [
    {
     "data": {
      "text/plain": [
       "[5, 4, 4, 2, 1]"
      ]
     },
     "execution_count": 43,
     "metadata": {},
     "output_type": "execute_result"
    }
   ],
   "source": [
    "list1.sort(reverse=True) # reverse sorting item\n",
    "list1\n"
   ]
  },
  {
   "cell_type": "markdown",
   "metadata": {
    "id": "cuTT1E720OPD"
   },
   "source": [
    "### 6. Join Lists\n",
    "- Given list, how can we join the list items?\n",
    "- Technique to convert list to string.\n",
    "- `Example:`\n",
    "  - input_list = ['hello', 'world']\n",
    "  - ouput_list = \"hello world\"\n",
    "\n",
    "- **syntax:** `result = separator.join(<list>)\n",
    "\n",
    "  where, separator is the string that will be used to separate the elements in the resulting string.\n"
   ]
  },
  {
   "cell_type": "code",
   "execution_count": 44,
   "metadata": {
    "id": "TcatG5wjzbKb"
   },
   "outputs": [],
   "source": [
    "# create new list\n",
    "input_list = ['Kathmandu', 'Metropolitain']"
   ]
  },
  {
   "cell_type": "code",
   "execution_count": 45,
   "metadata": {
    "id": "39cvJTNp0w8P"
   },
   "outputs": [
    {
     "data": {
      "text/plain": [
       "'Kathmandu Metropolitain'"
      ]
     },
     "execution_count": 45,
     "metadata": {},
     "output_type": "execute_result"
    }
   ],
   "source": [
    "# join list by space to form new string\n",
    "# Hint: \" \".join(<list>)\n",
    "output = \" \".join(input_list)\n",
    "output"
   ]
  },
  {
   "cell_type": "markdown",
   "metadata": {
    "id": "efByk49P2Mlm"
   },
   "source": [
    "### 7. Loop Lists\n",
    "\n",
    "- Similar to Strings, you can also loop through list items using a **for** loop.\n",
    "\n",
    "`Q. Initialize List and print list items one by one using for loop.`\n"
   ]
  },
  {
   "cell_type": "code",
   "execution_count": 46,
   "metadata": {
    "id": "3pRwdqLb2IUJ"
   },
   "outputs": [
    {
     "name": "stdout",
     "output_type": "stream",
     "text": [
      "radhe\n",
      "hari\n",
      "champa\n",
      "jane\n",
      "john\n"
     ]
    }
   ],
   "source": [
    "# create list\n",
    "new_list = ['radhe','hari', 'champa', 'jane', 'john']\n",
    "# loop through list items\n",
    "for item in new_list:\n",
    "    print(item)"
   ]
  },
  {
   "cell_type": "code",
   "execution_count": 47,
   "metadata": {
    "executionInfo": {
     "elapsed": 7,
     "status": "ok",
     "timestamp": 1686230251446,
     "user": {
      "displayName": "Anish Thapaliya",
      "userId": "06325140887572930045"
     },
     "user_tz": -345
    },
    "id": "RE9jvk3oJ4uB"
   },
   "outputs": [
    {
     "name": "stdout",
     "output_type": "stream",
     "text": [
      "Index = 0, Item = radhe\n",
      "Index = 1, Item = hari\n",
      "Index = 2, Item = champa\n",
      "Index = 3, Item = jane\n",
      "Index = 4, Item = john\n"
     ]
    }
   ],
   "source": [
    "# loop through list items using enumerate()\n",
    "for index, item in enumerate(new_list):\n",
    "    print(f'Index = {index}, Item = {item}')"
   ]
  },
  {
   "cell_type": "markdown",
   "metadata": {
    "id": "qGGTPYE_4GqO"
   },
   "source": [
    "We will experiment other ways of looping using **range()** function and **while** loop in Loop Chapter."
   ]
  },
  {
   "cell_type": "code",
   "execution_count": 48,
   "metadata": {},
   "outputs": [
    {
     "name": "stdout",
     "output_type": "stream",
     "text": [
      "radhe\n",
      "hari\n",
      "champa\n",
      "jane\n",
      "john\n"
     ]
    }
   ],
   "source": [
    "for i in range(len(new_list)):\n",
    "    print(new_list[i])"
   ]
  },
  {
   "cell_type": "markdown",
   "metadata": {
    "id": "3wEwokwtIhQb"
   },
   "source": [
    "### 8. List Comprehension\n",
    "- List comprehension offers the shortest syntax for looping through lists.\n",
    "- Syntax: **newlist = [expression for item in iterable if condition == True]**\n",
    "\n",
    "\n",
    "`Q.1 Write a python program to lowercase item in given list using list comprehension.`\n",
    "  - Input: sample_list = [\"APPLE\", \"Mango\", \"BaNaNa\", \"GRapes\"]\n",
    "  - Output: lower_list = [\"apple\", \"mango\", \"banana\", \"grapes\"]\n",
    "\n",
    "`Q.2 Given list of fruits i.e. fruit_list = ['apple', 'mango', 'banana', 'grapes', 'coffee'], Create new list named fruit_list removing item which is not fruit. Example = coffee.`\n",
    "\n",
    "`Q.3 `"
   ]
  },
  {
   "cell_type": "code",
   "execution_count": 49,
   "metadata": {
    "executionInfo": {
     "elapsed": 474,
     "status": "ok",
     "timestamp": 1686230706532,
     "user": {
      "displayName": "Anish Thapaliya",
      "userId": "06325140887572930045"
     },
     "user_tz": -345
    },
    "id": "6uqJE2Kp4EVN"
   },
   "outputs": [
    {
     "data": {
      "text/plain": [
       "['apple', 'mango', 'banana', 'grapes']"
      ]
     },
     "execution_count": 49,
     "metadata": {},
     "output_type": "execute_result"
    }
   ],
   "source": [
    "## write your program (for Q1)\n",
    "sample_list = [\"APPLE\", \"Mango\", \"BaNaNa\", \"GRapes\"]\n",
    "lower_list = [item.lower() for item in sample_list]\n",
    "lower_list"
   ]
  },
  {
   "cell_type": "code",
   "execution_count": 50,
   "metadata": {
    "id": "g2Iqq79qM1kf"
   },
   "outputs": [
    {
     "data": {
      "text/plain": [
       "['apple', 'mango', 'banana', 'grapes']"
      ]
     },
     "execution_count": 50,
     "metadata": {},
     "output_type": "execute_result"
    }
   ],
   "source": [
    "## write your program (for Q2)\n",
    "fruit_list = [\"apple\", \"mango\", \"banana\", \"grapes\", \"coffee\"]\n",
    "new_fruit_list = [item  for item in fruit_list if item != \"coffee\"]\n",
    "new_fruit_list"
   ]
  },
  {
   "cell_type": "code",
   "execution_count": 51,
   "metadata": {
    "scrolled": true
   },
   "outputs": [
    {
     "data": {
      "text/plain": [
       "['apple', 'mango', 'banana', 'grapes']"
      ]
     },
     "execution_count": 51,
     "metadata": {},
     "output_type": "execute_result"
    }
   ],
   "source": [
    "fruit_list = ['apple', 'mango', 'banana', 'grapes']\n",
    "fruit_item = [\"apple\", \"mango\", \"banana\", \"grapes\", \"coffee\"]\n",
    "new_fruit_list = [item for item in fruit_item if item in fruit_list]\n",
    "new_fruit_list"
   ]
  },
  {
   "cell_type": "markdown",
   "metadata": {
    "id": "U2RL3vGjLvTz"
   },
   "source": [
    "### 9. List exercise\n"
   ]
  },
  {
   "cell_type": "markdown",
   "metadata": {
    "id": "5XbJA7_JPkBi"
   },
   "source": [
    "**Q.1 Write a python program that initializes non empty list of words with length = 5. Display longest word with its length.**\n",
    "\n",
    "  `sample_list: ['mango', 'banana', 'kiwi', 'apple', 'grapes']`  \n",
    "  `output: banana, 6`  \n",
    "\n",
    "**Q.2 Write a python program to sum all the items in a list.**\n",
    "\n",
    "  `sample_list: [1, 2, 3, 4, 5]`\n",
    "  `output: sum = 15`\n",
    "\n",
    "\n",
    "**Q.3 Write a python program to get the largest number from a list.**\n",
    "\n",
    "  `sample_list: [10, 20, 30, 100, 40]`  \n",
    "  `output: largest number = 100`\n",
    "\n",
    "\n",
    "**Q.4 Write a python program to get the smallest number from a list.**\n",
    "\n",
    "  `sample_list: [-1, 0, 1, 2]`\n",
    "  `output: smallest number = -1`\n",
    "\n",
    "**Q.5 Write a Python program to count the number of strings where the string length is 2 or more and the first and last character are same from a given list of strings.**\n",
    "\n",
    "  `Input: sample_list = ['abc', 'xyz', 'aba', '1221']`  \n",
    "  `output: str_count = 2`\n",
    "\n",
    "**Q.6 Write a python program to check a list is empty or not.**\n",
    "\n",
    "**Q.7 Write a python program to insert a given string at the beginning of all items in a list.**\n",
    "\n",
    "  `sample_list = [1, 2, 3, 4]`  \n",
    "  `str_to_inser = \"emp\"`  \n",
    "  `output_list = ['emp1', 'emp2', 'emp3', 'emp4']`"
   ]
  },
  {
   "cell_type": "code",
   "execution_count": 7,
   "metadata": {
    "id": "1hEmhNgFUQFu"
   },
   "outputs": [
    {
     "name": "stdout",
     "output_type": "stream",
     "text": [
      "banana 6\n",
      "grapes 6\n"
     ]
    }
   ],
   "source": [
    "# **Q.1 Write a python program that initializes non empty list of words with length = 5. Display longest word with its length.**\n",
    "\n",
    "#   `sample_list: ['mango', 'banana', 'kiwi', 'apple', 'grapes']`  \n",
    "#   `output: banana, 6`\n",
    "\n",
    "fruit_list = ['mango', 'banana','kiwi', 'apple', 'grapes']\n",
    "longest_word = max(fruit_list, key=len)\n",
    "length_of_longest_word = len(longest_word)\n",
    "\n",
    "for word in fruit_list:\n",
    "    if len(word) == length_of_longest_word:\n",
    "        print(word, length_of_longest_word)\n"
   ]
  },
  {
   "cell_type": "code",
   "execution_count": 1,
   "metadata": {
    "id": "KBhzVIHaUQC1"
   },
   "outputs": [
    {
     "name": "stdout",
     "output_type": "stream",
     "text": [
      "157\n"
     ]
    }
   ],
   "source": [
    "# **Q.2 Write a python program to sum all the items in a list.**\n",
    "\n",
    "#   `sample_list: [1, 2, 3, 4, 5]`\n",
    "#   `output: sum = 15`\n",
    "def sum_item(list):\n",
    "    return sum(list)\n",
    "\n",
    "sample_list = [10, 27, 25, 14, 81]\n",
    "output_sum = sum_item(list=sample_list)\n",
    "print(output_sum)"
   ]
  },
  {
   "cell_type": "code",
   "execution_count": 2,
   "metadata": {},
   "outputs": [
    {
     "name": "stdout",
     "output_type": "stream",
     "text": [
      "10\n"
     ]
    }
   ],
   "source": [
    "# **Q.3 Write a python program to get the largest number from a list.**\n",
    "\n",
    "#   `sample_list: [10, 20, 30, 100, 40]`  \n",
    "#   `output: largest number = 100`\n",
    "\n",
    "sample_list = [2, 6, 7, 1, 8 ,10]\n",
    "output = max(sample_list)\n",
    "print(output)\n"
   ]
  },
  {
   "cell_type": "code",
   "execution_count": 3,
   "metadata": {},
   "outputs": [
    {
     "name": "stdout",
     "output_type": "stream",
     "text": [
      "-6\n"
     ]
    }
   ],
   "source": [
    "# **Q.4 Write a python program to get the smallest number from a list.**\n",
    "\n",
    "#   `sample_list: [-1, 0, 1, 2]`\n",
    "#   `output: smallest number = -1`\n",
    "\n",
    "sample_list = [-5, -6, 5, 1, 10]\n",
    "output = min(sample_list)\n",
    "print(output)"
   ]
  },
  {
   "cell_type": "code",
   "execution_count": 4,
   "metadata": {},
   "outputs": [
    {
     "name": "stdout",
     "output_type": "stream",
     "text": [
      "4\n"
     ]
    }
   ],
   "source": [
    "# **Q.5 Write a Python program to count the number of strings where the string length is 2 or more and the first and last character are same from a given list of strings.**\n",
    "\n",
    "#   `Input: sample_list = ['abc', 'xyz', 'aba', '1221']`  \n",
    "#   `output: str_count = 2`\n",
    "\n",
    "sample_list = ['ab', 'aba', '', 'abab', 'saas', 'ata', 'b','aA']\n",
    "str_count = 0\n",
    "for item in sample_list:\n",
    "    item = item.lower()\n",
    "    if len(item) < 2:\n",
    "        continue\n",
    "    if item[0] == item[len(item)-1]:\n",
    "        str_count += 1\n",
    "print(str_count)\n",
    "\n",
    " "
   ]
  },
  {
   "cell_type": "code",
   "execution_count": 5,
   "metadata": {},
   "outputs": [
    {
     "name": "stdout",
     "output_type": "stream",
     "text": [
      "The given list is not empty.\n"
     ]
    }
   ],
   "source": [
    "# **Q.6 Write a python program to check a list is empty or not.**\n",
    "list1 = ['radhe', 'champa', 'jane',' john','amisha']\n",
    "if len(list1) == 0:\n",
    "    print(\"The given list is an empty.\")\n",
    "else:\n",
    "    print(\"The given list is not empty.\")\n",
    "\n"
   ]
  },
  {
   "cell_type": "code",
   "execution_count": 10,
   "metadata": {},
   "outputs": [
    {
     "name": "stdout",
     "output_type": "stream",
     "text": [
      "['iphone10', 'iphone11', 'iphone12', 'iphone13', 'iphone14', 'iphone15']\n"
     ]
    }
   ],
   "source": [
    "# **Q.7 Write a python program to insert a given string at the beginning of all items in a list.**\n",
    "\n",
    "#   `sample_list = [1, 2, 3, 4]`  \n",
    "#   `str_to_inser = \"emp\"`  \n",
    "#   `output_list = ['emp1', 'emp2', 'emp3', 'emp4']`\n",
    "\n",
    "series = [10, 11, 12, 13, 14, 15]\n",
    "model_to_inser = \"iphone\"\n",
    "output_list = [f'{model_to_inser}{item}' for item in series]\n",
    "print(output_list)\n"
   ]
  },
  {
   "cell_type": "code",
   "execution_count": 12,
   "metadata": {},
   "outputs": [
    {
     "name": "stdout",
     "output_type": "stream",
     "text": [
      "Longest word(s):\n",
      "banana\n",
      "orange\n",
      "Length of longest word(s): 6\n"
     ]
    }
   ],
   "source": [
    "def main():\n",
    "    # Initialize a non-empty list of words\n",
    "    words = ['apple', 'banana', 'orange', 'grape', 'kiwi']\n",
    "\n",
    "    # Find the longest word and its length\n",
    "    longest_word = max(words, key=len)\n",
    "    longest_word_length = len(longest_word)\n",
    "\n",
    "    # Display the longest word and its length\n",
    "    print(\"Longest word(s):\")\n",
    "    for word in words:\n",
    "        if len(word) == longest_word_length:\n",
    "            print(word)\n",
    "    print(\"Length of longest word(s):\", longest_word_length)\n",
    "\n",
    "if __name__ == \"__main__\":\n",
    "    main()\n"
   ]
  },
  {
   "cell_type": "code",
   "execution_count": null,
   "metadata": {},
   "outputs": [],
   "source": []
  }
 ],
 "metadata": {
  "colab": {
   "authorship_tag": "ABX9TyN3JavKRBcUAOiv0Au2jsNb",
   "provenance": []
  },
  "kernelspec": {
   "display_name": "Python 3 (ipykernel)",
   "language": "python",
   "name": "python3"
  },
  "language_info": {
   "codemirror_mode": {
    "name": "ipython",
    "version": 3
   },
   "file_extension": ".py",
   "mimetype": "text/x-python",
   "name": "python",
   "nbconvert_exporter": "python",
   "pygments_lexer": "ipython3",
   "version": "3.11.1"
  }
 },
 "nbformat": 4,
 "nbformat_minor": 4
}

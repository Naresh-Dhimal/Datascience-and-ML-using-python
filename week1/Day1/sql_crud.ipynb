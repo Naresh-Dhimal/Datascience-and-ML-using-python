{
 "cells": [
  {
   "cell_type": "code",
   "execution_count": 4,
   "id": "9ecaa61d",
   "metadata": {},
   "outputs": [],
   "source": [
    "import sqlite3"
   ]
  },
  {
   "cell_type": "code",
   "execution_count": 5,
   "id": "5132e18e",
   "metadata": {},
   "outputs": [],
   "source": [
    "connection = sqlite3.connect(\"student.db\")"
   ]
  },
  {
   "cell_type": "code",
   "execution_count": 6,
   "id": "547ca325",
   "metadata": {},
   "outputs": [],
   "source": [
    "cursor = connection.cursor()"
   ]
  },
  {
   "cell_type": "markdown",
   "id": "5cd19b12",
   "metadata": {},
   "source": [
    "# To create table"
   ]
  },
  {
   "cell_type": "code",
   "execution_count": 7,
   "id": "db17e0ef",
   "metadata": {},
   "outputs": [],
   "source": [
    "query = \"\"\"\n",
    "create table std\n",
    "(\n",
    "    Id int,\n",
    "    stdName varchar(50),\n",
    "    stdRollNO int,\n",
    "    stdAddress varchar(50)\n",
    ")\n",
    "\"\"\""
   ]
  },
  {
   "cell_type": "markdown",
   "id": "38cb0460",
   "metadata": {},
   "source": [
    "# to execute create query"
   ]
  },
  {
   "cell_type": "code",
   "execution_count": 8,
   "id": "c6978c57",
   "metadata": {},
   "outputs": [
    {
     "data": {
      "text/plain": [
       "<sqlite3.Cursor at 0x7f46ce1da3c0>"
      ]
     },
     "execution_count": 8,
     "metadata": {},
     "output_type": "execute_result"
    }
   ],
   "source": [
    "cursor.execute(query)"
   ]
  },
  {
   "cell_type": "markdown",
   "id": "12275b68",
   "metadata": {},
   "source": [
    "# query to insert data"
   ]
  },
  {
   "cell_type": "code",
   "execution_count": 9,
   "id": "4660a5c4",
   "metadata": {},
   "outputs": [],
   "source": [
    "query = \"\"\"\n",
    "insert into std\n",
    "(id , stdName, stdRollNO, stdAddress)\n",
    "values\n",
    "(1, 'Naresh dhimal', 23, 'bhaktapur'),\n",
    "(2, 'Rajendra niroula', 5 , 'bhaktapur'),\n",
    "(3, 'Raju mahato', 7, 'kathmandu')\n",
    "\"\"\""
   ]
  },
  {
   "cell_type": "code",
   "execution_count": 10,
   "id": "a827911d",
   "metadata": {},
   "outputs": [
    {
     "data": {
      "text/plain": [
       "<sqlite3.Cursor at 0x7f46ce1da3c0>"
      ]
     },
     "execution_count": 10,
     "metadata": {},
     "output_type": "execute_result"
    }
   ],
   "source": [
    "cursor.execute(query)"
   ]
  },
  {
   "cell_type": "markdown",
   "id": "f5aa6b15",
   "metadata": {},
   "source": [
    "# to read inserted data"
   ]
  },
  {
   "cell_type": "code",
   "execution_count": 11,
   "id": "cbd2b04a",
   "metadata": {},
   "outputs": [
    {
     "data": {
      "text/plain": [
       "[(1, 'Naresh dhimal', 23, 'bhaktapur'),\n",
       " (2, 'Rajendra niroula', 5, 'bhaktapur'),\n",
       " (3, 'Raju mahato', 7, 'kathmandu')]"
      ]
     },
     "execution_count": 11,
     "metadata": {},
     "output_type": "execute_result"
    }
   ],
   "source": [
    "cursor.execute(\"select * from std\").fetchall() "
   ]
  },
  {
   "cell_type": "markdown",
   "id": "7853105c",
   "metadata": {},
   "source": [
    "# to update data"
   ]
  },
  {
   "cell_type": "code",
   "execution_count": 14,
   "id": "e73fc43c",
   "metadata": {},
   "outputs": [],
   "source": [
    "query = \"\"\"\n",
    "update std\n",
    "set stdAddress = 'lalitpur'\n",
    "where id = 3\n",
    "\"\"\""
   ]
  },
  {
   "cell_type": "code",
   "execution_count": 15,
   "id": "044274b2",
   "metadata": {},
   "outputs": [
    {
     "data": {
      "text/plain": [
       "<sqlite3.Cursor at 0x7f46ce1da3c0>"
      ]
     },
     "execution_count": 15,
     "metadata": {},
     "output_type": "execute_result"
    }
   ],
   "source": [
    "# to execute update query\n",
    "cursor.execute(query)"
   ]
  },
  {
   "cell_type": "code",
   "execution_count": 16,
   "id": "da1d50fb",
   "metadata": {},
   "outputs": [
    {
     "data": {
      "text/plain": [
       "[(1, 'Naresh dhimal', 23, 'bhaktapur'),\n",
       " (2, 'Rajendra niroula', 5, 'bhaktapur'),\n",
       " (3, 'Raju mahato', 7, 'lalitpur')]"
      ]
     },
     "execution_count": 16,
     "metadata": {},
     "output_type": "execute_result"
    }
   ],
   "source": [
    "# to read update data\n",
    "cursor.execute(\"select * from std\").fetchall()"
   ]
  },
  {
   "cell_type": "code",
   "execution_count": 17,
   "id": "28a4c8b9",
   "metadata": {},
   "outputs": [
    {
     "data": {
      "text/plain": [
       "[('lalitpur',)]"
      ]
     },
     "execution_count": 17,
     "metadata": {},
     "output_type": "execute_result"
    }
   ],
   "source": [
    "# to watch individual updated value\n",
    "cursor.execute(\"select stdAddress from std where id = 3\").fetchall()"
   ]
  },
  {
   "cell_type": "markdown",
   "id": "9981a807",
   "metadata": {},
   "source": [
    "# to delete data"
   ]
  },
  {
   "cell_type": "code",
   "execution_count": 18,
   "id": "8e720f17",
   "metadata": {},
   "outputs": [],
   "source": [
    "query = \"\"\"\n",
    "delete from std\n",
    "where id = 2\n",
    "\"\"\""
   ]
  },
  {
   "cell_type": "code",
   "execution_count": 19,
   "id": "aa9940ca",
   "metadata": {},
   "outputs": [
    {
     "data": {
      "text/plain": [
       "<sqlite3.Cursor at 0x7f46ce1da3c0>"
      ]
     },
     "execution_count": 19,
     "metadata": {},
     "output_type": "execute_result"
    }
   ],
   "source": [
    "# to execute delete query\n",
    "cursor.execute(query)"
   ]
  },
  {
   "cell_type": "code",
   "execution_count": 20,
   "id": "e533a003",
   "metadata": {},
   "outputs": [
    {
     "data": {
      "text/plain": [
       "[(1, 'Naresh dhimal', 23, 'bhaktapur'), (3, 'Raju mahato', 7, 'lalitpur')]"
      ]
     },
     "execution_count": 20,
     "metadata": {},
     "output_type": "execute_result"
    }
   ],
   "source": [
    "# to read data after deleting data\n",
    "cursor.execute(\"select * from std\").fetchall()"
   ]
  },
  {
   "cell_type": "code",
   "execution_count": null,
   "id": "84e734b9",
   "metadata": {},
   "outputs": [],
   "source": []
  }
 ],
 "metadata": {
  "kernelspec": {
   "display_name": "Python 3 (ipykernel)",
   "language": "python",
   "name": "python3"
  },
  "language_info": {
   "codemirror_mode": {
    "name": "ipython",
    "version": 3
   },
   "file_extension": ".py",
   "mimetype": "text/x-python",
   "name": "python",
   "nbconvert_exporter": "python",
   "pygments_lexer": "ipython3",
   "version": "3.11.5"
  }
 },
 "nbformat": 4,
 "nbformat_minor": 5
}

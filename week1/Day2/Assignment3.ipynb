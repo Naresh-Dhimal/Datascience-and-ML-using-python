{
 "cells": [
  {
   "cell_type": "markdown",
   "id": "d369178f",
   "metadata": {},
   "source": [
    "# Assignment_3"
   ]
  },
  {
   "cell_type": "markdown",
   "id": "8771914c",
   "metadata": {},
   "source": [
    "# Write a python program to draw a triangle shape using print statement only."
   ]
  },
  {
   "cell_type": "code",
   "execution_count": 25,
   "id": "0fec0224",
   "metadata": {},
   "outputs": [
    {
     "name": "stdout",
     "output_type": "stream",
     "text": [
      "    *\n",
      "   * *\n",
      "  *   *\n",
      " *     *\n",
      "* * * * *\n"
     ]
    }
   ],
   "source": [
    "print(\" \" * 4+ \"*\")\n",
    "print(\" \" * 3 + \"*\" + \" \" * 1 + \"*\")\n",
    "print(\" \" * 2 + \"*\" + \" \" * 3 + \"*\")\n",
    "print(\" \" * 1  + \"*\" + \" \" * 5+ \"*\")\n",
    "print(\"* * * * *\")"
   ]
  },
  {
   "cell_type": "markdown",
   "id": "6a397610-34a4-45e2-84c4-9d78242828c2",
   "metadata": {},
   "source": [
    "# Create a variable named variable test in sanke case format and assign value \"my first variable assignment\""
   ]
  },
  {
   "cell_type": "code",
   "execution_count": 1,
   "id": "838dca27",
   "metadata": {},
   "outputs": [
    {
     "name": "stdout",
     "output_type": "stream",
     "text": [
      "my first variable assignment\n"
     ]
    }
   ],
   "source": [
    "# creating variable name \"variable_test\" and assigning \"my first variable assignment\"\n",
    "variable_test = \"my first variable assignment\"\n",
    "print(variable_test)"
   ]
  },
  {
   "cell_type": "markdown",
   "id": "6e439db2-8563-4987-a885-73cb8b60d0f0",
   "metadata": {},
   "source": [
    "# Create a variable named age and assign values as 20. Print the result."
   ]
  },
  {
   "cell_type": "code",
   "execution_count": 2,
   "id": "093e037a",
   "metadata": {},
   "outputs": [
    {
     "data": {
      "text/plain": [
       "20"
      ]
     },
     "execution_count": 2,
     "metadata": {},
     "output_type": "execute_result"
    }
   ],
   "source": [
    "# creating variable name \"age\" and assigning value \"20\"\n",
    "age = 20 \n",
    "age"
   ]
  },
  {
   "cell_type": "markdown",
   "id": "e20beacd-bbb1-4bb9-b0be-e2752c1fff28",
   "metadata": {},
   "source": [
    "# Create a variable called z, assign x + y to it, and Display the result.\n",
    "<b>Initialize,<br>\n",
    "<b>x = 20, y = 30"
   ]
  },
  {
   "cell_type": "code",
   "execution_count": 26,
   "id": "f790ec00",
   "metadata": {},
   "outputs": [
    {
     "data": {
      "text/plain": [
       "50"
      ]
     },
     "execution_count": 26,
     "metadata": {},
     "output_type": "execute_result"
    }
   ],
   "source": [
    "# intialize\n",
    "x = 20\n",
    "y = 30\n",
    "# creating a variable 'Z' and assign \"X + y\"\n",
    "z = x + y\n",
    "z"
   ]
  },
  {
   "cell_type": "markdown",
   "id": "6cf9d552-92d5-45e8-ac10-80666503f733",
   "metadata": {},
   "source": [
    "# Create three variable x, y, z and assign same value to all 3 variables in one code."
   ]
  },
  {
   "cell_type": "code",
   "execution_count": 28,
   "id": "0ee8377b",
   "metadata": {},
   "outputs": [
    {
     "name": "stdout",
     "output_type": "stream",
     "text": [
      "x = 12, y = 7 and z = 20\n"
     ]
    }
   ],
   "source": [
    "# creating 3 variables x, y, z and assigning same value in same line\n",
    "x,y,z = 12,7,20\n",
    "print(f\"x = {x}, y = {y} and z = {z}\")"
   ]
  },
  {
   "cell_type": "markdown",
   "id": "371e36b2-b47d-470b-b61c-7160ee9f6f48",
   "metadata": {},
   "source": [
    "# Develop basic calculator app for the user:\n",
    "* <b>Input two numbers from user and assign it to variable num1 and num2<br>\n",
    "* <b>Perform addition of two numbers and assign to variable result_add\n",
    "* <b>Display result_add to user"
   ]
  },
  {
   "cell_type": "code",
   "execution_count": 29,
   "id": "85d72510",
   "metadata": {},
   "outputs": [
    {
     "name": "stdin",
     "output_type": "stream",
     "text": [
      "Enter a first number:  14\n",
      "Enter a second number:  25\n"
     ]
    },
    {
     "data": {
      "text/plain": [
       "39"
      ]
     },
     "execution_count": 29,
     "metadata": {},
     "output_type": "execute_result"
    }
   ],
   "source": [
    "# taking integer input from user\n",
    "num1 = int(input(\"Enter a first number: \"))\n",
    "num2 = int(input(\"Enter a second number: \"))\n",
    "# adding num1 and num2 and assigning to reult_add\n",
    "result_add = num1 + num2\n",
    "result_add"
   ]
  },
  {
   "cell_type": "markdown",
   "id": "623c6772-02c3-44da-ae9a-03f0efe5d4db",
   "metadata": {},
   "source": [
    "# Python Program to make a Simple Calculator"
   ]
  },
  {
   "cell_type": "code",
   "execution_count": 32,
   "id": "9a57d2fd",
   "metadata": {},
   "outputs": [],
   "source": [
    "def operation(a,b):\n",
    "    # operation to be performed\n",
    "    oper = input(\"Enter a operation('+','-','*','/','%','**','//'):\")\n",
    "    # Addition operation\n",
    "    if oper == '+':\n",
    "        total_sum = a + b\n",
    "        return f\"Addition operation of {a} and {b} is {total_sum}.\"\n",
    "    # Substraction operation\n",
    "    if oper == '-':\n",
    "        diff = a - b\n",
    "        return f\"Substraction operation of {a} and {b} is {diff}.\"\n",
    "    # Multiplication operation\n",
    "    if oper == '*':\n",
    "        mul = a * b\n",
    "        return f\"Multiplication operation of {a} and {b} is {mul}.\"\n",
    "    # Division operation\n",
    "    if oper == '/':\n",
    "        div = a / b\n",
    "        return f\"Division operation of {a} and {b} is {div}.\"\n",
    "    # Modulus operation\n",
    "    if oper == '%':\n",
    "        mod = a % b\n",
    "        return f\"Modules operation of {a} and {b} is {mod}.\"\n",
    "    # Exponentiation operation\n",
    "    if oper == '**':\n",
    "        expo = a ** b\n",
    "        return f\"Exponential operation of {a} and {b} is {expo}.\"\n",
    "    # Floor division operation\n",
    "    if oper == '//':\n",
    "        floor = a // b\n",
    "        return f\"Floor Division of {a} and {b} is {floor}.\"\n",
    "    # Invalid operation\n",
    "    else:\n",
    "        print(\"Invalid operation.\")\n",
    "        "
   ]
  },
  {
   "cell_type": "code",
   "execution_count": 31,
   "id": "af3f6a15",
   "metadata": {},
   "outputs": [
    {
     "name": "stdin",
     "output_type": "stream",
     "text": [
      "Enter a first number: 45\n",
      "Enter a second number: 5\n",
      "Enter a operation('+','-','*','/','%','**','//'): /\n"
     ]
    },
    {
     "name": "stdout",
     "output_type": "stream",
     "text": [
      "Division operation of 45 and 5 is 9.0.\n"
     ]
    }
   ],
   "source": [
    "# taking integer input from user\n",
    "num1 = int(input(\"Enter a first number:\"))\n",
    "num2 = int(input(\"Enter a second number:\"))\n",
    "# calling function operation\n",
    "result = operation(a=num1, b=num2)\n",
    "# printing result\n",
    "print(result)"
   ]
  },
  {
   "cell_type": "code",
   "execution_count": null,
   "id": "a1404ad1",
   "metadata": {},
   "outputs": [],
   "source": []
  }
 ],
 "metadata": {
  "kernelspec": {
   "display_name": "Python 3 (ipykernel)",
   "language": "python",
   "name": "python3"
  },
  "language_info": {
   "codemirror_mode": {
    "name": "ipython",
    "version": 3
   },
   "file_extension": ".py",
   "mimetype": "text/x-python",
   "name": "python",
   "nbconvert_exporter": "python",
   "pygments_lexer": "ipython3",
   "version": "3.11.1"
  }
 },
 "nbformat": 4,
 "nbformat_minor": 5
}

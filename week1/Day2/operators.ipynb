{
 "cells": [
  {
   "cell_type": "markdown",
   "id": "9f63f0b6",
   "metadata": {},
   "source": [
    "# Pattern"
   ]
  },
  {
   "cell_type": "code",
   "execution_count": 13,
   "id": "523a5333",
   "metadata": {},
   "outputs": [
    {
     "name": "stdout",
     "output_type": "stream",
     "text": [
      "     *     \n",
      "    * *    \n",
      "   *   *   \n",
      "  *     *  \n",
      "*  *  *  *  *\n"
     ]
    }
   ],
   "source": [
    "print(\" \" * 5 + \"*\" + \" \" * 5)\n",
    "print(\" \" * 4 + \"*\" + \" \" + \"*\" + \" \" * 4 )\n",
    "print(\" \" * 3 + \"*\" + \" \" * 3 + \"*\" + \" \" * 3 )\n",
    "print(\" \" * 2 + \"*\" + \" \" * 5+ \"*\" + \" \" * 2)\n",
    "print(\"*  *  *  *  *\")\n",
    "# print(\" \" * 3 + \"*\" + \" \" * 5 + \"*\" + \" \" *  )"
   ]
  },
  {
   "cell_type": "markdown",
   "id": "ebf91a13",
   "metadata": {},
   "source": [
    "# Python calculator(Arithmetic operator)"
   ]
  },
  {
   "cell_type": "code",
   "execution_count": 16,
   "id": "8e93c1bb",
   "metadata": {},
   "outputs": [],
   "source": [
    "def operation(a,b):\n",
    "    oper = input(\"Enter a operation('+','-','*','/'):\")\n",
    "    if oper == '+':\n",
    "        print(\"Addition operation:\")\n",
    "        total_sum = a + b\n",
    "        return total_sum\n",
    "    if oper == '-':\n",
    "        print(\"Substraction operation:\")\n",
    "        diff = a - b\n",
    "        return diff\n",
    "    if oper == '*':\n",
    "        print(\"Multiplication operation:\")\n",
    "        mul = a * b\n",
    "        return mul\n",
    "    if oper == '/':\n",
    "        print(\"Division operation:\")\n",
    "        div = a / b\n",
    "        return div\n",
    "    else:\n",
    "        print(\"Invalid operation.\")\n",
    "        "
   ]
  },
  {
   "cell_type": "code",
   "execution_count": null,
   "id": "266de35a",
   "metadata": {},
   "outputs": [
    {
     "name": "stdout",
     "output_type": "stream",
     "text": [
      "Enter a first number:12\n"
     ]
    }
   ],
   "source": [
    "num1 = int(input(\"Enter a first number:\"))\n",
    "num2 = int(input(\"Enter a second number:\"))\n",
    "result = operation(a=num1, b=num2)\n",
    "print(result)"
   ]
  },
  {
   "cell_type": "markdown",
   "id": "c2aae979",
   "metadata": {},
   "source": [
    "# Logical Operator"
   ]
  },
  {
   "cell_type": "code",
   "execution_count": 1,
   "id": "8aa33bde",
   "metadata": {},
   "outputs": [
    {
     "name": "stdout",
     "output_type": "stream",
     "text": [
      "True\n"
     ]
    }
   ],
   "source": [
    "x = 5\n",
    "print(x > 3 and x < 10)"
   ]
  },
  {
   "cell_type": "code",
   "execution_count": 2,
   "id": "cbc9a76d",
   "metadata": {},
   "outputs": [
    {
     "name": "stdout",
     "output_type": "stream",
     "text": [
      "True\n"
     ]
    }
   ],
   "source": [
    "print(x > 3 or x < 4)"
   ]
  },
  {
   "cell_type": "code",
   "execution_count": 4,
   "id": "49e3dff7",
   "metadata": {},
   "outputs": [
    {
     "name": "stdout",
     "output_type": "stream",
     "text": [
      "False\n"
     ]
    }
   ],
   "source": [
    "print(not(x > 3 and x < 10))"
   ]
  },
  {
   "cell_type": "markdown",
   "id": "5c1d98db",
   "metadata": {},
   "source": [
    "# Identity Operatory\n"
   ]
  },
  {
   "cell_type": "code",
   "execution_count": 6,
   "id": "1727cea2",
   "metadata": {},
   "outputs": [],
   "source": [
    "x = 5\n",
    "y = 10"
   ]
  },
  {
   "cell_type": "code",
   "execution_count": 7,
   "id": "210240a3",
   "metadata": {},
   "outputs": [
    {
     "data": {
      "text/plain": [
       "False"
      ]
     },
     "execution_count": 7,
     "metadata": {},
     "output_type": "execute_result"
    }
   ],
   "source": [
    "x is y"
   ]
  },
  {
   "cell_type": "code",
   "execution_count": 8,
   "id": "d2fba7c9",
   "metadata": {},
   "outputs": [
    {
     "data": {
      "text/plain": [
       "True"
      ]
     },
     "execution_count": 8,
     "metadata": {},
     "output_type": "execute_result"
    }
   ],
   "source": [
    "x is not y"
   ]
  },
  {
   "cell_type": "code",
   "execution_count": 9,
   "id": "323b4b3d",
   "metadata": {},
   "outputs": [],
   "source": [
    "x = 5\n"
   ]
  },
  {
   "cell_type": "code",
   "execution_count": 10,
   "id": "eeaeb24c",
   "metadata": {},
   "outputs": [],
   "source": [
    "y = x"
   ]
  },
  {
   "cell_type": "code",
   "execution_count": 11,
   "id": "bc701a95",
   "metadata": {},
   "outputs": [
    {
     "data": {
      "text/plain": [
       "True"
      ]
     },
     "execution_count": 11,
     "metadata": {},
     "output_type": "execute_result"
    }
   ],
   "source": [
    "x is y"
   ]
  },
  {
   "cell_type": "code",
   "execution_count": 13,
   "id": "5753870d",
   "metadata": {},
   "outputs": [
    {
     "data": {
      "text/plain": [
       "False"
      ]
     },
     "execution_count": 13,
     "metadata": {},
     "output_type": "execute_result"
    }
   ],
   "source": [
    "x is not y"
   ]
  },
  {
   "cell_type": "code",
   "execution_count": 14,
   "id": "52da1db0",
   "metadata": {},
   "outputs": [
    {
     "data": {
      "text/plain": [
       "512"
      ]
     },
     "execution_count": 14,
     "metadata": {},
     "output_type": "execute_result"
    }
   ],
   "source": [
    "2 ** 3 ** 2"
   ]
  },
  {
   "cell_type": "markdown",
   "id": "ce570f6c",
   "metadata": {},
   "source": [
    "# Experiment below python expressions in interactive mode."
   ]
  },
  {
   "cell_type": "code",
   "execution_count": 19,
   "id": "40f08d7c",
   "metadata": {},
   "outputs": [
    {
     "data": {
      "text/plain": [
       "14"
      ]
     },
     "execution_count": 19,
     "metadata": {},
     "output_type": "execute_result"
    }
   ],
   "source": [
    "(5 + 3) * 2 - 4 // 2"
   ]
  },
  {
   "cell_type": "code",
   "execution_count": 17,
   "id": "defab689",
   "metadata": {},
   "outputs": [
    {
     "data": {
      "text/plain": [
       "38"
      ]
     },
     "execution_count": 17,
     "metadata": {},
     "output_type": "execute_result"
    }
   ],
   "source": [
    "3 ** 2 * 4 + 5 // 2"
   ]
  },
  {
   "cell_type": "code",
   "execution_count": 18,
   "id": "a806d37c",
   "metadata": {},
   "outputs": [
    {
     "data": {
      "text/plain": [
       "8.0"
      ]
     },
     "execution_count": 18,
     "metadata": {},
     "output_type": "execute_result"
    }
   ],
   "source": [
    "10 / (2 + 3) * (8 - 4)"
   ]
  },
  {
   "cell_type": "markdown",
   "id": "dd35946b",
   "metadata": {},
   "source": [
    "# Python variable"
   ]
  },
  {
   "cell_type": "code",
   "execution_count": 20,
   "id": "670eafe0",
   "metadata": {},
   "outputs": [
    {
     "data": {
      "text/plain": [
       "10"
      ]
     },
     "execution_count": 20,
     "metadata": {},
     "output_type": "execute_result"
    }
   ],
   "source": [
    "first_variable = 10\n",
    "first_variable"
   ]
  },
  {
   "cell_type": "code",
   "execution_count": 21,
   "id": "2824d886",
   "metadata": {},
   "outputs": [
    {
     "data": {
      "text/plain": [
       "'student_name'"
      ]
     },
     "execution_count": 21,
     "metadata": {},
     "output_type": "execute_result"
    }
   ],
   "source": [
    "var_name = \"student_name\"\n",
    "var_name"
   ]
  },
  {
   "cell_type": "code",
   "execution_count": 22,
   "id": "fee2720e",
   "metadata": {},
   "outputs": [
    {
     "ename": "SyntaxError",
     "evalue": "invalid syntax. Maybe you meant '==' or ':=' instead of '='? (3116227284.py, line 1)",
     "output_type": "error",
     "traceback": [
      "\u001b[0;36m  Cell \u001b[0;32mIn[22], line 1\u001b[0;36m\u001b[0m\n\u001b[0;31m    @variable = \"student_name\" # wrong way to declare variable name\u001b[0m\n\u001b[0m     ^\u001b[0m\n\u001b[0;31mSyntaxError\u001b[0m\u001b[0;31m:\u001b[0m invalid syntax. Maybe you meant '==' or ':=' instead of '='?\n"
     ]
    }
   ],
   "source": [
    "@variable = \"student_name\" # wrong way to declare variable name"
   ]
  },
  {
   "cell_type": "markdown",
   "id": "627fcfe5",
   "metadata": {},
   "source": [
    "# Naming convention"
   ]
  },
  {
   "cell_type": "code",
   "execution_count": null,
   "id": "9ec239fa",
   "metadata": {},
   "outputs": [],
   "source": []
  },
  {
   "cell_type": "code",
   "execution_count": 23,
   "id": "0f518d34",
   "metadata": {},
   "outputs": [
    {
     "name": "stdout",
     "output_type": "stream",
     "text": [
      "\n",
      "Here is a list of the Python keywords.  Enter any keyword to get more help.\n",
      "\n",
      "False               class               from                or\n",
      "None                continue            global              pass\n",
      "True                def                 if                  raise\n",
      "and                 del                 import              return\n",
      "as                  elif                in                  try\n",
      "assert              else                is                  while\n",
      "async               except              lambda              with\n",
      "await               finally             nonlocal            yield\n",
      "break               for                 not                 \n",
      "\n"
     ]
    }
   ],
   "source": [
    "help('keywords')"
   ]
  },
  {
   "cell_type": "code",
   "execution_count": null,
   "id": "c4be3858",
   "metadata": {},
   "outputs": [],
   "source": []
  }
 ],
 "metadata": {
  "kernelspec": {
   "display_name": "Python 3 (ipykernel)",
   "language": "python",
   "name": "python3"
  },
  "language_info": {
   "codemirror_mode": {
    "name": "ipython",
    "version": 3
   },
   "file_extension": ".py",
   "mimetype": "text/x-python",
   "name": "python",
   "nbconvert_exporter": "python",
   "pygments_lexer": "ipython3",
   "version": "3.11.1"
  }
 },
 "nbformat": 4,
 "nbformat_minor": 5
}

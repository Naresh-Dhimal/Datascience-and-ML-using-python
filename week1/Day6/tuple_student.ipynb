{
 "cells": [
  {
   "cell_type": "markdown",
   "id": "fad03e51-145f-42e7-8e8d-7ac531c86578",
   "metadata": {},
   "source": [
    "# Tuple DataType"
   ]
  },
  {
   "cell_type": "code",
   "execution_count": 1,
   "id": "4c91bbc3-6882-4fd6-ac76-c568141b505e",
   "metadata": {},
   "outputs": [],
   "source": [
    "# create empty tuple\n",
    "new_tuple = ('champa', 12, True, 'radhe')"
   ]
  },
  {
   "cell_type": "code",
   "execution_count": 2,
   "id": "b5ea2016-e23e-41a6-83c3-e1b8e2adf1f4",
   "metadata": {},
   "outputs": [
    {
     "data": {
      "text/plain": [
       "('champa', 12, True, 'radhe')"
      ]
     },
     "execution_count": 2,
     "metadata": {},
     "output_type": "execute_result"
    }
   ],
   "source": [
    "# display tuple\n",
    "new_tuple"
   ]
  },
  {
   "cell_type": "code",
   "execution_count": 3,
   "id": "24c92946-135e-49e8-abfa-11bc5a493a8e",
   "metadata": {},
   "outputs": [
    {
     "data": {
      "text/plain": [
       "tuple"
      ]
     },
     "execution_count": 3,
     "metadata": {},
     "output_type": "execute_result"
    }
   ],
   "source": [
    "# display type of data\n",
    "type(new_tuple)"
   ]
  },
  {
   "cell_type": "code",
   "execution_count": 4,
   "id": "3f1ddfe3-ba7c-4788-b15d-8d83ea363f48",
   "metadata": {},
   "outputs": [
    {
     "data": {
      "text/plain": [
       "4"
      ]
     },
     "execution_count": 4,
     "metadata": {},
     "output_type": "execute_result"
    }
   ],
   "source": [
    "# diisplay length of tuple\n",
    "tuple_len = len(new_tuple)\n",
    "tuple_len"
   ]
  },
  {
   "cell_type": "code",
   "execution_count": 6,
   "id": "8ecc8040-c054-4557-8ec4-a2e6dd0a3d2d",
   "metadata": {},
   "outputs": [],
   "source": [
    "# create nested tuple\n",
    "nested_tuple = (('champa', 'radhe'),(True,False), (24, 19), (3.2, 5.8))"
   ]
  },
  {
   "cell_type": "code",
   "execution_count": 7,
   "id": "7277df14-40d7-4c02-ac2b-ed5fa9430a76",
   "metadata": {},
   "outputs": [
    {
     "data": {
      "text/plain": [
       "(('champa', 'radhe'), (True, False), (24, 19), (3.2, 5.8))"
      ]
     },
     "execution_count": 7,
     "metadata": {},
     "output_type": "execute_result"
    }
   ],
   "source": [
    "# display nested tuple\n",
    "nested_tuple"
   ]
  },
  {
   "cell_type": "code",
   "execution_count": 8,
   "id": "e61e3fb4-2588-4b05-84ac-b44cc1ce36d6",
   "metadata": {},
   "outputs": [
    {
     "data": {
      "text/plain": [
       "tuple"
      ]
     },
     "execution_count": 8,
     "metadata": {},
     "output_type": "execute_result"
    }
   ],
   "source": [
    "# display type\n",
    "type(nested_tuple)"
   ]
  },
  {
   "cell_type": "code",
   "execution_count": 10,
   "id": "daa69b27-5b41-413b-a4e9-18f3aa152ea1",
   "metadata": {},
   "outputs": [
    {
     "name": "stdout",
     "output_type": "stream",
     "text": [
      "4\n"
     ]
    }
   ],
   "source": [
    "# display length of nested tuple\n",
    "tuple_len = len(nested_tuple)\n",
    "print(tuple_len)"
   ]
  },
  {
   "cell_type": "markdown",
   "id": "72027464-7af2-41ad-a24e-37fa3d790b3e",
   "metadata": {},
   "source": [
    "**Tuples creation from Strings**  \n",
    "\n",
    ".split()  \n",
    "typecast"
   ]
  },
  {
   "cell_type": "code",
   "execution_count": 13,
   "id": "f5dcb930-da7a-4639-9965-e9661b8323ee",
   "metadata": {},
   "outputs": [
    {
     "name": "stdin",
     "output_type": "stream",
     "text": [
      "Enter a string:  i am naresh dhimal\n"
     ]
    },
    {
     "name": "stdout",
     "output_type": "stream",
     "text": [
      "('i', 'am', 'naresh', 'dhimal')\n"
     ]
    }
   ],
   "source": [
    "# write your code here\n",
    "new_str = input(\"Enter a string: \")\n",
    "# split string (separator = whitespace)\n",
    "new_list = new_str.split(\" \")\n",
    "# converting list into tuple\n",
    "new_tuple = tuple(new_list)\n",
    "# displaying converted list\n",
    "print(new_tuple)"
   ]
  },
  {
   "cell_type": "code",
   "execution_count": 14,
   "id": "f5850d30-7c61-4df0-ae2d-133661d9ce24",
   "metadata": {},
   "outputs": [
    {
     "data": {
      "text/plain": [
       "tuple"
      ]
     },
     "execution_count": 14,
     "metadata": {},
     "output_type": "execute_result"
    }
   ],
   "source": [
    "type(new_tuple)"
   ]
  },
  {
   "cell_type": "markdown",
   "id": "b01c6468-d929-4707-9fa2-68f6ecb272c7",
   "metadata": {},
   "source": [
    "###2. Indexing Tuples\n",
    "- Indexing works similar to that of Lists.\n",
    "- As we know, tuple is a sequenced collection of different objects such as Strings, Integer, etc.\n",
    "- The address of each element within a tuple is called an index.\n",
    "- An index is used to access and refer to items within a tuple.\n",
    "\n",
    "  <img src='https://drive.google.com/uc?id=1SB5gGtnvQp3Fx0gG9YruM4VgmAe-HDQc' width='450'>"
   ]
  },
  {
   "cell_type": "code",
   "execution_count": 16,
   "id": "467d86d4-4bb3-415f-ab63-80212ce4e4cb",
   "metadata": {},
   "outputs": [
    {
     "data": {
      "text/plain": [
       "('radhe', 23, 15, 'jane', True)"
      ]
     },
     "execution_count": 16,
     "metadata": {},
     "output_type": "execute_result"
    }
   ],
   "source": [
    "# initialize simple tuple of length 5\n",
    "new_tuple = ( 'radhe', 23, 15, 'jane',True)\n",
    "new_tuple"
   ]
  },
  {
   "cell_type": "code",
   "execution_count": 17,
   "id": "2bb79fb7-bb34-4f69-ac0f-0a88e4e43334",
   "metadata": {},
   "outputs": [
    {
     "data": {
      "text/plain": [
       "'radhe'"
      ]
     },
     "execution_count": 17,
     "metadata": {},
     "output_type": "execute_result"
    }
   ],
   "source": [
    "# print 1st item using positive index\n",
    "new_tuple[0]"
   ]
  },
  {
   "cell_type": "code",
   "execution_count": 18,
   "id": "a3fa32d7-c655-4dbb-ae25-01dd944a01d1",
   "metadata": {},
   "outputs": [
    {
     "data": {
      "text/plain": [
       "True"
      ]
     },
     "execution_count": 18,
     "metadata": {},
     "output_type": "execute_result"
    }
   ],
   "source": [
    "# print last item using positive index\n",
    "new_tuple[len(new_tuple)-1]"
   ]
  },
  {
   "cell_type": "code",
   "execution_count": 19,
   "id": "01e0f24c-9ae5-4a47-ab4b-b4caaaa0e4b6",
   "metadata": {},
   "outputs": [
    {
     "data": {
      "text/plain": [
       "'radhe'"
      ]
     },
     "execution_count": 19,
     "metadata": {},
     "output_type": "execute_result"
    }
   ],
   "source": [
    "# print 1st item using negative index \n",
    "new_tuple[-len(new_tuple)]\n"
   ]
  },
  {
   "cell_type": "code",
   "execution_count": 20,
   "id": "45f2d716-0599-4449-b19b-7a3a42a6d025",
   "metadata": {},
   "outputs": [
    {
     "data": {
      "text/plain": [
       "True"
      ]
     },
     "execution_count": 20,
     "metadata": {},
     "output_type": "execute_result"
    }
   ],
   "source": [
    "# print last item using negative index\n",
    "new_tuple[-1]"
   ]
  },
  {
   "cell_type": "markdown",
   "id": "3c089182-1db3-47ea-bf37-0e523b7ac7dd",
   "metadata": {},
   "source": [
    "### 3. Slicing Tuples\n",
    "- Slicing Tuples means extracting part of list items.\n",
    "- Concepts of Slicing Tuples is similar to Slicing Lists.\n",
    "- `Syntax: tuple[start:end:step]`"
   ]
  },
  {
   "cell_type": "code",
   "execution_count": 21,
   "id": "04687936-7276-485c-adaf-b0ba35e3b697",
   "metadata": {},
   "outputs": [
    {
     "name": "stdout",
     "output_type": "stream",
     "text": [
      "('radhe', 23, 15, 'jane', True)\n"
     ]
    }
   ],
   "source": [
    "# initialize simple Tuples\n",
    "new_tuple = ( 'radhe', 23, 15, 'jane',True)\n",
    "print(new_tuple)\n"
   ]
  },
  {
   "cell_type": "code",
   "execution_count": 22,
   "id": "560bb345-e530-402b-9af1-c594b6555d79",
   "metadata": {},
   "outputs": [
    {
     "data": {
      "text/plain": [
       "('radhe', 23, 15)"
      ]
     },
     "execution_count": 22,
     "metadata": {},
     "output_type": "execute_result"
    }
   ],
   "source": [
    "new_tuple[:3]"
   ]
  },
  {
   "cell_type": "code",
   "execution_count": 23,
   "id": "0284e756-4147-4393-84a2-f4a0cd1a7a55",
   "metadata": {},
   "outputs": [
    {
     "data": {
      "text/plain": [
       "(15, 'jane', True)"
      ]
     },
     "execution_count": 23,
     "metadata": {},
     "output_type": "execute_result"
    }
   ],
   "source": [
    "# slice last 3 items using negative index\n",
    "new_tuple[-3:]"
   ]
  },
  {
   "cell_type": "code",
   "execution_count": 24,
   "id": "7d1522ca-4502-40a8-b17a-5c01b8c00814",
   "metadata": {},
   "outputs": [
    {
     "data": {
      "text/plain": [
       "('radhe', 15, True)"
      ]
     },
     "execution_count": 24,
     "metadata": {},
     "output_type": "execute_result"
    }
   ],
   "source": [
    "# get tuple items at even index\n",
    "new_tuple[::2]"
   ]
  },
  {
   "cell_type": "code",
   "execution_count": 25,
   "id": "1e8df187-59c0-4605-a4ff-4ea989f0d30b",
   "metadata": {},
   "outputs": [
    {
     "data": {
      "text/plain": [
       "(15, 23, 'radhe')"
      ]
     },
     "execution_count": 25,
     "metadata": {},
     "output_type": "execute_result"
    }
   ],
   "source": [
    "# slice first 3 tuple items using positive index(negative step)\n",
    "new_tuple[2::-1]"
   ]
  },
  {
   "cell_type": "code",
   "execution_count": 26,
   "id": "35c5c412-0ba1-44ba-a8fd-d0a7b8653db2",
   "metadata": {},
   "outputs": [
    {
     "data": {
      "text/plain": [
       "(True, 'jane', 15)"
      ]
     },
     "execution_count": 26,
     "metadata": {},
     "output_type": "execute_result"
    }
   ],
   "source": [
    "# slice last 3 tuple items using negative index(negative step)\n",
    "new_tuple[-1:-4:-1]"
   ]
  },
  {
   "cell_type": "code",
   "execution_count": 27,
   "id": "a49be576-9617-4dbb-83c7-7c9fb6813e8c",
   "metadata": {},
   "outputs": [
    {
     "data": {
      "text/plain": [
       "(True, 'jane', 15, 23, 'radhe')"
      ]
     },
     "execution_count": 27,
     "metadata": {},
     "output_type": "execute_result"
    }
   ],
   "source": [
    "# reverse tuple\n",
    "new_tuple[::-1]"
   ]
  },
  {
   "cell_type": "markdown",
   "id": "bc736740-ed5b-48f6-8061-fa84e21da754",
   "metadata": {},
   "source": [
    "###4. Tuple are immutable\n",
    "- Unlike Lists, Tuples are mutable\n",
    "- It means we can't change tuple items after its creation."
   ]
  },
  {
   "cell_type": "code",
   "execution_count": 29,
   "id": "4e7fb90b-acc6-4aa1-83b6-a9f39544e4f5",
   "metadata": {},
   "outputs": [
    {
     "ename": "TypeError",
     "evalue": "'tuple' object does not support item assignment",
     "output_type": "error",
     "traceback": [
      "\u001b[1;31m---------------------------------------------------------------------------\u001b[0m",
      "\u001b[1;31mTypeError\u001b[0m                                 Traceback (most recent call last)",
      "Cell \u001b[1;32mIn[29], line 4\u001b[0m\n\u001b[0;32m      1\u001b[0m \u001b[38;5;66;03m# verify tuples are immutable\u001b[39;00m\n\u001b[0;32m      2\u001b[0m new_tuple \u001b[38;5;241m=\u001b[39m ( \u001b[38;5;124m'\u001b[39m\u001b[38;5;124mradhe\u001b[39m\u001b[38;5;124m'\u001b[39m, \u001b[38;5;241m23\u001b[39m, \u001b[38;5;241m15\u001b[39m, \u001b[38;5;124m'\u001b[39m\u001b[38;5;124mjane\u001b[39m\u001b[38;5;124m'\u001b[39m,\u001b[38;5;28;01mTrue\u001b[39;00m)\n\u001b[1;32m----> 4\u001b[0m \u001b[43mnew_tuple\u001b[49m\u001b[43m[\u001b[49m\u001b[38;5;241;43m0\u001b[39;49m\u001b[43m]\u001b[49m \u001b[38;5;241m=\u001b[39m \u001b[38;5;124m'\u001b[39m\u001b[38;5;124mshyam\u001b[39m\u001b[38;5;124m'\u001b[39m\n",
      "\u001b[1;31mTypeError\u001b[0m: 'tuple' object does not support item assignment"
     ]
    }
   ],
   "source": [
    "# verify tuples are immutable\n",
    "new_tuple = ( 'radhe', 23, 15, 'jane',True)\n",
    "\n",
    "new_tuple[0] = 'shyam'"
   ]
  },
  {
   "cell_type": "markdown",
   "id": "8d37be7a-fcc8-4f33-b4e1-e0c93178bd37",
   "metadata": {},
   "source": [
    "# so, tuple is immutable"
   ]
  },
  {
   "cell_type": "markdown",
   "id": "60a62937-bcb7-4148-8cf0-0fa6b18bd6ea",
   "metadata": {},
   "source": [
    "### 5. Tuples Methods\n",
    "- `count():` returns number of times a specified value occures in a tuple\n",
    "- `index():` returns index of specified value in tuple"
   ]
  },
  {
   "cell_type": "code",
   "execution_count": 30,
   "id": "28ffbd76-475c-4074-ad1a-927a6ab89e14",
   "metadata": {},
   "outputs": [],
   "source": [
    "# initialize tuple \n",
    "tuple_method = (1, 2, 3, 4, 5, 2, 3, 2, 3, 3, 2 )"
   ]
  },
  {
   "cell_type": "code",
   "execution_count": 31,
   "id": "c252086e-8b72-48fc-b633-9c4787d8b535",
   "metadata": {},
   "outputs": [
    {
     "data": {
      "text/plain": [
       "4"
      ]
     },
     "execution_count": 31,
     "metadata": {},
     "output_type": "execute_result"
    }
   ],
   "source": [
    "# count number of occurence of item \"2\"\n",
    "tuple_method.count(2)"
   ]
  },
  {
   "cell_type": "code",
   "execution_count": 33,
   "id": "dfe863cb-e5d9-4b39-85e4-45a5ad968316",
   "metadata": {},
   "outputs": [
    {
     "data": {
      "text/plain": [
       "3"
      ]
     },
     "execution_count": 33,
     "metadata": {},
     "output_type": "execute_result"
    }
   ],
   "source": [
    "# get index of first item \"4\"\n",
    "tuple_method.index(4)"
   ]
  },
  {
   "cell_type": "markdown",
   "id": "b1f75649-de68-4f9f-a409-ebd3bc802f3f",
   "metadata": {},
   "source": [
    "**How to add item in Tuple?**\n",
    "- Tuples are immutable.\n",
    "- They do not have `append()` methods like list. \n",
    "- Is there any way to add items to Tuple, once it is created?\n",
    "\n",
    "\n",
    "`Approach 1:`\n",
    "- Input Tuple\n",
    "- Typecast Tuple to List\n",
    "- Append item to List\n",
    "- Typecast List back to Tuple"
   ]
  },
  {
   "cell_type": "code",
   "execution_count": 34,
   "id": "c663613a-24eb-46cb-8408-ba4bb4010d08",
   "metadata": {},
   "outputs": [
    {
     "name": "stdout",
     "output_type": "stream",
     "text": [
      "('radhe', 23, 15, 'jane', True, 'champa')\n"
     ]
    }
   ],
   "source": [
    "# Write your program here for approach 2\n",
    "new_tuple = ( 'radhe', 23, 15, 'jane',True)\n",
    "\n",
    "# typecast to list\n",
    "list_from_tuple = list(new_tuple)\n",
    "\n",
    "# append item to list\n",
    "list_from_tuple.append(\"champa\")\n",
    "\n",
    "# typecast back to Tuple\n",
    "new_tuple = tuple(list_from_tuple)\n",
    "\n",
    "print(new_tuple)\n"
   ]
  },
  {
   "cell_type": "markdown",
   "id": "ce83b67b-d4b0-4de5-beff-a1f7854310af",
   "metadata": {},
   "source": [
    "`Approach 2:`\n",
    "- Input Tuple.\n",
    "- Create Tuple with value to be added to main Tuple\n",
    "- Concatenate Tuple using + operator.\n",
    "\n",
    "_**Addition of Tuples to Tuples are allowed**_"
   ]
  },
  {
   "cell_type": "code",
   "execution_count": 37,
   "id": "ebaff894-7609-48d0-86a3-72af1e7ace5c",
   "metadata": {},
   "outputs": [
    {
     "name": "stdout",
     "output_type": "stream",
     "text": [
      "('radhe', 23, 15, 'jane', True, 'champa')\n"
     ]
    }
   ],
   "source": [
    "# write your program for approach 2\n",
    "new_tuple = ( 'radhe', 23, 15, 'jane',True)\n",
    "\n",
    "# define tuple to add \n",
    "add_tuple = ('champa',)\n",
    "\n",
    "new_tuple = new_tuple + add_tuple\n",
    "\n",
    "print(new_tuple)"
   ]
  },
  {
   "cell_type": "markdown",
   "id": "2086caa2-9cab-4df8-9087-fedef49e50e8",
   "metadata": {},
   "source": [
    "### Unpack Tuples\n",
    "- Tuples creation process discussed till now, also means \"packing\" a tuple.\n",
    "  - Example: sample_tuple = ('python', 'is', 'awesome')\n",
    "\n",
    "- Unpacking Tuples means extracting values back into variables.\n",
    "  - Example: `first_item, secon_item, third_item = sample_tuple`\n",
    "  "
   ]
  },
  {
   "cell_type": "code",
   "execution_count": 2,
   "id": "4aa9df96-7a08-40ab-98c3-0f62ad3e612d",
   "metadata": {},
   "outputs": [
    {
     "name": "stdout",
     "output_type": "stream",
     "text": [
      "Item1 = kathmandu\n",
      "Item2 = 34\n",
      "Item3 = champa\n",
      "Item4 = 44\n"
     ]
    }
   ],
   "source": [
    "# create tuples of length 4\n",
    "# unpack tuples items to 4 other variables\n",
    "\n",
    "new_tuple = (\"kathmandu\", 34, \"champa\", 44)\n",
    "item1, item2, item3, item4 = new_tuple\n",
    "\n",
    "print(f\"Item1 = {item1}\")\n",
    "print(f\"Item2 = {item2}\")\n",
    "print(f\"Item3 = {item3}\")\n",
    "print(f\"Item4 = {item4}\")"
   ]
  },
  {
   "cell_type": "markdown",
   "id": "02f3c581-2269-4f2e-8035-df9ada542e85",
   "metadata": {},
   "source": [
    "`Unpack Tuples using Asterik *`\n",
    "- Useful, if number of variables is less than the number of items in tuples"
   ]
  },
  {
   "cell_type": "code",
   "execution_count": 7,
   "id": "6ba6b314-44af-45de-b9ac-1570c9f3849a",
   "metadata": {},
   "outputs": [
    {
     "name": "stdout",
     "output_type": "stream",
     "text": [
      "kathmandu\n",
      "[34, 'champa']\n",
      "44\n"
     ]
    }
   ],
   "source": [
    "# Unpack Tuples values using 3 variables\n",
    "new_tuple = (\"kathmandu\", 34, \"champa\", 44)\n",
    "item1, *item2 , item3 = new_tuple\n",
    "\n",
    "print(item1)\n",
    "print(item2)\n",
    "print(item3) \n"
   ]
  },
  {
   "cell_type": "markdown",
   "id": "e7a8acc6-4ea5-42c0-8163-185fac3de250",
   "metadata": {},
   "source": [
    "### 9. Loop Tuples\n",
    "- Similar to List, you can loop through Tuples items using a `for` loop.\n",
    "\n",
    "`Q. Initialize Tuples and loop through Tuples items one by one.`"
   ]
  },
  {
   "cell_type": "code",
   "execution_count": 9,
   "id": "207ece77-5594-412c-aa61-67ecda5144bb",
   "metadata": {},
   "outputs": [
    {
     "name": "stdout",
     "output_type": "stream",
     "text": [
      "India\n",
      "China\n",
      "Nepal\n",
      "Japan\n",
      "USA\n"
     ]
    }
   ],
   "source": [
    "new_tuple = (\"India\", \"China\", \"Nepal\", \"Japan\", \"USA\")\n",
    "for item in new_tuple:\n",
    "    print(item)"
   ]
  },
  {
   "cell_type": "markdown",
   "id": "1ec85b50-2ce7-4188-aaac-8642d88234bf",
   "metadata": {},
   "source": [
    "`Q. Use enumerate() function to loop through Tupes to get index and values.`"
   ]
  },
  {
   "cell_type": "code",
   "execution_count": 12,
   "id": "9a5a0783-b652-411e-a9b8-82d907a8a722",
   "metadata": {},
   "outputs": [
    {
     "name": "stdout",
     "output_type": "stream",
     "text": [
      "Index = 0 and Item = India\n",
      "Index = 1 and Item = China\n",
      "Index = 2 and Item = Nepal\n",
      "Index = 3 and Item = Japan\n",
      "Index = 4 and Item = USA\n"
     ]
    }
   ],
   "source": [
    "new_tuple = (\"India\", \"China\", \"Nepal\", \"Japan\", \"USA\")\n",
    "for index, value in enumerate(new_tuple):\n",
    "    print(f\"Index = {index} and Item = {value}\")"
   ]
  },
  {
   "cell_type": "markdown",
   "id": "21868909-62a2-48e5-831e-83ddb7869d51",
   "metadata": {},
   "source": [
    "**Like List, is there a Tuple comprehension?**  \n",
    "`There is no Tuple comprehension like List. But we can use tuple() function to accomplish Tuple Comprehension`\n",
    "\n",
    "\n",
    "`Q.1 Write a python program to lowercase item in given Tuples using Tuple comprehension.`\n",
    "  - Input: sample_tuple = (\"APPLE\", \"Mango\", \"BaNaNa\", \"GRapes\")\n",
    "  - Output: lower_tuple = (\"apple\", \"mango\", \"banana\", \"grapes\")"
   ]
  },
  {
   "cell_type": "code",
   "execution_count": 15,
   "id": "55c4f765-5b48-4ab5-9add-6eecb271de49",
   "metadata": {},
   "outputs": [
    {
     "name": "stdout",
     "output_type": "stream",
     "text": [
      "('india', 'china', 'nepal', 'japan', 'usa')\n"
     ]
    }
   ],
   "source": [
    "# creating new tuple\n",
    "new_tuple = (\"InDia\", \"ChiNa\", \"NePal\", \"JaPan\", \"USA\")\n",
    "# list comprehension\n",
    "new_list = [item.lower() for item in new_tuple]\n",
    "# type casting\n",
    "lower_tuple = tuple(new_list)\n",
    "print(lower_tuple)\n",
    "\n"
   ]
  },
  {
   "cell_type": "code",
   "execution_count": null,
   "id": "6dde8968-9c7b-47ca-9ca3-81acc0dac843",
   "metadata": {},
   "outputs": [],
   "source": []
  }
 ],
 "metadata": {
  "kernelspec": {
   "display_name": "Python 3 (ipykernel)",
   "language": "python",
   "name": "python3"
  },
  "language_info": {
   "codemirror_mode": {
    "name": "ipython",
    "version": 3
   },
   "file_extension": ".py",
   "mimetype": "text/x-python",
   "name": "python",
   "nbconvert_exporter": "python",
   "pygments_lexer": "ipython3",
   "version": "3.11.1"
  }
 },
 "nbformat": 4,
 "nbformat_minor": 5
}

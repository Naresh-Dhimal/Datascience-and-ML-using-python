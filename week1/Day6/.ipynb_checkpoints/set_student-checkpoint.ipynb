{
 "cells": [
  {
   "cell_type": "markdown",
   "id": "9c0f1acf-d526-4563-ad7f-42c0b36afa1a",
   "metadata": {},
   "source": [
    "# Set Datatype"
   ]
  },
  {
   "cell_type": "markdown",
   "id": "09a9c937-bdc2-4a09-b567-ec85f829feee",
   "metadata": {},
   "source": [
    "## 1. Creating Sets\n",
    "- To create a Set, type the set items within curly brackets **{ }**, separated by commas.\n",
    "- Example: {\"item1\", 2, 'item3', 4}"
   ]
  },
  {
   "cell_type": "code",
   "execution_count": 2,
   "id": "45023749-3c97-453a-ab9e-b9532ab61756",
   "metadata": {},
   "outputs": [
    {
     "data": {
      "text/plain": [
       "set"
      ]
     },
     "execution_count": 2,
     "metadata": {},
     "output_type": "execute_result"
    }
   ],
   "source": [
    "# create empty set\n",
    "new_set = set()\n",
    "type(new_set)"
   ]
  },
  {
   "cell_type": "code",
   "execution_count": 4,
   "id": "79c77b1e-16ee-4e65-82f7-75906ddbfefa",
   "metadata": {},
   "outputs": [],
   "source": [
    "# create simple set with mixed data types\n",
    "new_set = {'radhe', 'champa', 2, 4}"
   ]
  },
  {
   "cell_type": "code",
   "execution_count": 5,
   "id": "416bb4fa-8219-468f-b0b4-c488cf9881e1",
   "metadata": {},
   "outputs": [
    {
     "data": {
      "text/plain": [
       "set"
      ]
     },
     "execution_count": 5,
     "metadata": {},
     "output_type": "execute_result"
    }
   ],
   "source": [
    "type(new_set)"
   ]
  },
  {
   "cell_type": "code",
   "execution_count": 6,
   "id": "2f4f6b2b-3c4e-4f2c-9ce0-a4353393329b",
   "metadata": {},
   "outputs": [
    {
     "data": {
      "text/plain": [
       "4"
      ]
     },
     "execution_count": 6,
     "metadata": {},
     "output_type": "execute_result"
    }
   ],
   "source": [
    "# display length of set\n",
    "len(new_set)"
   ]
  },
  {
   "cell_type": "markdown",
   "id": "1b8aa911-3067-4cce-ac8d-f5e8bad75d00",
   "metadata": {},
   "source": [
    "## 2. Sets Methods/Operations.\n",
    "- Most common set methods/operations are:\n",
    "  - `add(): ` Method to add a new element to a set.\n",
    "  - `remove():` Method to remove item from a set.\n",
    "  - `pop(): ` Method to remove item from a set and returns removed item\n",
    "  - `union(): ` Method that return a set containing union of sets..\n",
    "  - `intersection(): ` Method that return a set that is intersection of 2 other sets.\n",
    "  - `difference(): ` Method that return a set containing difference between two or more sets."
   ]
  },
  {
   "cell_type": "markdown",
   "id": "784f8476-ed71-476c-ba5d-6866cfb2b55c",
   "metadata": {},
   "source": [
    "# .add()"
   ]
  },
  {
   "cell_type": "code",
   "execution_count": 7,
   "id": "6005a798-ad91-4def-bf6c-a220804f2743",
   "metadata": {},
   "outputs": [
    {
     "data": {
      "text/plain": [
       "{2, 4, 'champa', 'radhe'}"
      ]
     },
     "execution_count": 7,
     "metadata": {},
     "output_type": "execute_result"
    }
   ],
   "source": [
    "# inialize set\n",
    "new_set = {'radhe', 'champa', 2, 4}\n",
    "new_set"
   ]
  },
  {
   "cell_type": "code",
   "execution_count": 8,
   "id": "ec430ea3-5e1d-4062-9ba1-dbfd5ff4213f",
   "metadata": {},
   "outputs": [
    {
     "data": {
      "text/plain": [
       "{2, 4, 'awesome', 'champa', 'radhe'}"
      ]
     },
     "execution_count": 8,
     "metadata": {},
     "output_type": "execute_result"
    }
   ],
   "source": [
    "# add item \"awesome\"\n",
    "new_set.add(\"awesome\")\n",
    "new_set"
   ]
  },
  {
   "cell_type": "markdown",
   "id": "da14cea8-fa2e-4a2b-a5b6-fd8babcec6ab",
   "metadata": {},
   "source": [
    "# .remove()"
   ]
  },
  {
   "cell_type": "code",
   "execution_count": 16,
   "id": "008b2c5a-0581-4567-b880-d2d43c42bd6f",
   "metadata": {},
   "outputs": [
    {
     "ename": "KeyError",
     "evalue": "'awesome'",
     "output_type": "error",
     "traceback": [
      "\u001b[1;31m---------------------------------------------------------------------------\u001b[0m",
      "\u001b[1;31mKeyError\u001b[0m                                  Traceback (most recent call last)",
      "Cell \u001b[1;32mIn[16], line 2\u001b[0m\n\u001b[0;32m      1\u001b[0m \u001b[38;5;66;03m# remove item \"awesome\" from set\u001b[39;00m\n\u001b[1;32m----> 2\u001b[0m \u001b[43mnew_set\u001b[49m\u001b[38;5;241;43m.\u001b[39;49m\u001b[43mremove\u001b[49m\u001b[43m(\u001b[49m\u001b[38;5;124;43m\"\u001b[39;49m\u001b[38;5;124;43mawesome\u001b[39;49m\u001b[38;5;124;43m\"\u001b[39;49m\u001b[43m)\u001b[49m\n\u001b[0;32m      3\u001b[0m new_set\n",
      "\u001b[1;31mKeyError\u001b[0m: 'awesome'"
     ]
    }
   ],
   "source": [
    "# remove item \"awesome\" from set\n",
    "new_set.remove(\"awesome\")\n",
    "new_set"
   ]
  },
  {
   "cell_type": "markdown",
   "id": "2760f473-40e8-4dc7-be82-385db2d6bc82",
   "metadata": {},
   "source": [
    "# .discard()"
   ]
  },
  {
   "cell_type": "code",
   "execution_count": 17,
   "id": "9c7bb02d-dfcd-4f1b-a48e-141a4799d839",
   "metadata": {},
   "outputs": [],
   "source": [
    "new_set.discard(\"awesome\")"
   ]
  },
  {
   "cell_type": "markdown",
   "id": "20013aff-117e-40ed-af2a-96ca61fc2853",
   "metadata": {},
   "source": [
    "# .pop()"
   ]
  },
  {
   "cell_type": "code",
   "execution_count": 11,
   "id": "eda4ee30-ba6a-4de0-b482-c61f8cd6993e",
   "metadata": {},
   "outputs": [
    {
     "data": {
      "text/plain": [
       "2"
      ]
     },
     "execution_count": 11,
     "metadata": {},
     "output_type": "execute_result"
    }
   ],
   "source": [
    "# remove item \"awesome\" from set\n",
    "removed_item = new_set.pop()\n",
    "removed_item"
   ]
  },
  {
   "cell_type": "markdown",
   "id": "0d78352f-4f24-47c6-a79c-85de2f8dc014",
   "metadata": {},
   "source": [
    "# .union()"
   ]
  },
  {
   "cell_type": "code",
   "execution_count": 12,
   "id": "903aea2a-43c8-45ee-abbf-031362b05358",
   "metadata": {},
   "outputs": [
    {
     "name": "stdout",
     "output_type": "stream",
     "text": [
      "{2, 4, 5, 'champa', 'radhe'}\n",
      "{'champa', 5, 7, 8, 9}\n"
     ]
    }
   ],
   "source": [
    "## create two sets\n",
    "set1 = {'radhe', 2, 4, 5, 'champa'}\n",
    "set2 = {'champa', 5, 7, 8, 9}\n",
    "\n",
    "print(set1)\n",
    "print(set2)"
   ]
  },
  {
   "cell_type": "code",
   "execution_count": 13,
   "id": "2044ec3c-486a-461b-a889-d1bf0392ee8b",
   "metadata": {},
   "outputs": [],
   "source": [
    "# union of set using union() method\n",
    "set_union = set1.union(set2)"
   ]
  },
  {
   "cell_type": "code",
   "execution_count": 15,
   "id": "03345a62-4e8e-4adc-a8ee-4df8625387ad",
   "metadata": {},
   "outputs": [
    {
     "name": "stdout",
     "output_type": "stream",
     "text": [
      "Union of {2, 4, 5, 'champa', 'radhe'} and {'champa', 5, 7, 8, 9} is {2, 4, 5, 'champa', 7, 8, 9, 'radhe'}.\n"
     ]
    }
   ],
   "source": [
    "print(f'Union of {set1} and {set2} is {set_union}.')"
   ]
  },
  {
   "cell_type": "code",
   "execution_count": 19,
   "id": "c3794fb4-74ce-4d64-99d1-b00fe6b13902",
   "metadata": {},
   "outputs": [
    {
     "data": {
      "text/plain": [
       "{2, 4, 5, 7, 8, 9, 'champa', 'radhe'}"
      ]
     },
     "execution_count": 19,
     "metadata": {},
     "output_type": "execute_result"
    }
   ],
   "source": [
    "# union of set using (|) operator\n",
    "set_union_pip = set1|set2\n",
    "set_union_pip"
   ]
  },
  {
   "cell_type": "markdown",
   "id": "d48aa652-ae0c-4b81-ba76-c9429eb1bf17",
   "metadata": {},
   "source": [
    "# .intersection()"
   ]
  },
  {
   "cell_type": "code",
   "execution_count": 20,
   "id": "ab608dfd-9d66-4a27-bcbf-61cfd8a94d55",
   "metadata": {},
   "outputs": [
    {
     "name": "stdout",
     "output_type": "stream",
     "text": [
      "{2, 4, 5, 'champa', 'radhe'}\n",
      "{'champa', 5, 7, 8, 9}\n"
     ]
    }
   ],
   "source": [
    "# intersection of set using intersection() method\n",
    "set1 = {'radhe', 2, 4, 5, 'champa'}\n",
    "set2 = {'champa', 5, 7, 8, 9}\n",
    "print(set1)\n",
    "print(set2)"
   ]
  },
  {
   "cell_type": "code",
   "execution_count": 21,
   "id": "407c8df1-0ffd-4b7d-b7a8-a6a456538cc3",
   "metadata": {},
   "outputs": [
    {
     "data": {
      "text/plain": [
       "{5, 'champa'}"
      ]
     },
     "execution_count": 21,
     "metadata": {},
     "output_type": "execute_result"
    }
   ],
   "source": [
    "common_item = set1.intersection(set2)\n",
    "common_item"
   ]
  },
  {
   "cell_type": "code",
   "execution_count": 22,
   "id": "4be88172-f297-4716-ba88-5809ce8196f6",
   "metadata": {},
   "outputs": [
    {
     "data": {
      "text/plain": [
       "{5, 'champa'}"
      ]
     },
     "execution_count": 22,
     "metadata": {},
     "output_type": "execute_result"
    }
   ],
   "source": [
    "# intersection of set using (&) operator\n",
    "set_intersect = set1 & set2\n",
    "set_intersect"
   ]
  },
  {
   "cell_type": "markdown",
   "id": "1deeb547-0756-4e15-97c7-c54d615fee99",
   "metadata": {},
   "source": [
    "# .differnce()"
   ]
  },
  {
   "cell_type": "code",
   "execution_count": 23,
   "id": "2cacca82-b2b3-4224-a393-ed226fff59b6",
   "metadata": {},
   "outputs": [],
   "source": [
    "# difference of set using difference() method\n",
    "set1 = {'radhe', 2, 4, 5, 'champa'}\n",
    "set2 = {'champa', 5, 7, 8, 9}\n",
    "set_diff = set1.difference(set2)"
   ]
  },
  {
   "cell_type": "code",
   "execution_count": 24,
   "id": "a0f17e44-b4a1-4332-8ba1-e79de0d1f1b4",
   "metadata": {},
   "outputs": [
    {
     "data": {
      "text/plain": [
       "{2, 4, 'radhe'}"
      ]
     },
     "execution_count": 24,
     "metadata": {},
     "output_type": "execute_result"
    }
   ],
   "source": [
    "set_diff"
   ]
  },
  {
   "cell_type": "code",
   "execution_count": 26,
   "id": "20ec7508-19c3-486c-bac5-89701591b683",
   "metadata": {},
   "outputs": [
    {
     "data": {
      "text/plain": [
       "{2, 4, 'radhe'}"
      ]
     },
     "execution_count": 26,
     "metadata": {},
     "output_type": "execute_result"
    }
   ],
   "source": [
    "# difference of set using (-) operator\n",
    "set_minus = set1 - set2\n",
    "set_minus"
   ]
  },
  {
   "cell_type": "markdown",
   "id": "902e7f6c-6e8d-41d5-baa7-480504563cc7",
   "metadata": {},
   "source": [
    "# Sets are Mutable"
   ]
  },
  {
   "cell_type": "code",
   "execution_count": 27,
   "id": "9a6da309-92dc-4398-8b62-1410b71ba953",
   "metadata": {},
   "outputs": [
    {
     "data": {
      "text/plain": [
       "{2, 5, 'amisha', 'champa', 'radhe'}"
      ]
     },
     "execution_count": 27,
     "metadata": {},
     "output_type": "execute_result"
    }
   ],
   "source": [
    "# Given Set, verify Sets are mutable\n",
    "new_set = {'radhe',2, 5, 'champa'}\n",
    "new_set.add('amisha')\n",
    "new_set"
   ]
  },
  {
   "cell_type": "markdown",
   "id": "916ec824-7052-4be0-8301-d66adf6e2571",
   "metadata": {},
   "source": [
    "# Loop Sets"
   ]
  },
  {
   "cell_type": "code",
   "execution_count": 29,
   "id": "fdd237f8-4662-49a7-9c96-f05f5746c723",
   "metadata": {},
   "outputs": [],
   "source": [
    "# `Q. Initialize Set and print set items one by one using for loop.` write a program\n",
    "new_set = {2, 5, 'amisha', 'champa', 'radhe'}"
   ]
  },
  {
   "cell_type": "code",
   "execution_count": 30,
   "id": "00cad32d-de08-48d4-aa01-28de8d4f4414",
   "metadata": {},
   "outputs": [
    {
     "name": "stdout",
     "output_type": "stream",
     "text": [
      "2\n",
      "5\n",
      "champa\n",
      "amisha\n",
      "radhe\n"
     ]
    }
   ],
   "source": [
    "for item in new_set:\n",
    "    print(item)"
   ]
  },
  {
   "cell_type": "markdown",
   "id": "4dd51663-6883-43f0-97e9-9b336b044993",
   "metadata": {},
   "source": [
    "# Set Comprehesion"
   ]
  },
  {
   "cell_type": "code",
   "execution_count": 32,
   "id": "f160a159-a8e3-4c00-a9c6-01fdd86c2044",
   "metadata": {},
   "outputs": [],
   "source": [
    "# `Q. Given List = ['item1', 1, 2, 'item4'], create Set using list items using Set comprehension.`\n",
    "list =  [2, 5, 'amisha', 'champa', 'radhe']\n",
    "new_set = {item for item in list}"
   ]
  },
  {
   "cell_type": "code",
   "execution_count": 33,
   "id": "dead8041-98b5-40a0-a838-1c7189cbbc7e",
   "metadata": {},
   "outputs": [
    {
     "data": {
      "text/plain": [
       "{2, 5, 'amisha', 'champa', 'radhe'}"
      ]
     },
     "execution_count": 33,
     "metadata": {},
     "output_type": "execute_result"
    }
   ],
   "source": [
    "new_set"
   ]
  },
  {
   "cell_type": "markdown",
   "id": "9f648519-747f-431f-b125-c47217837658",
   "metadata": {},
   "source": [
    "**Q. Write a python program to sort Set items in ascending order.**\n",
    "\n",
    "`Hint: sorted(<iterable>, reverse=False`\n"
   ]
  },
  {
   "cell_type": "code",
   "execution_count": 4,
   "id": "ce52290b-35a6-4550-bea8-82be621bf1bc",
   "metadata": {},
   "outputs": [
    {
     "name": "stdout",
     "output_type": "stream",
     "text": [
      "{1, 2, 3, 4, 5, 7, 9}\n",
      "CPU times: total: 0 ns\n",
      "Wall time: 0 ns\n"
     ]
    }
   ],
   "source": [
    "%%time\n",
    "num_set = {2, 1, 5, 3, 9, 4, 7}\n",
    "list_num = [item for item in num_set]\n",
    "sorted_num = sorted(list_num)\n",
    "print(set(sorted_num))"
   ]
  },
  {
   "cell_type": "code",
   "execution_count": 5,
   "id": "4abe7314-3359-42fe-ba2e-5971e55fa36e",
   "metadata": {},
   "outputs": [
    {
     "name": "stdout",
     "output_type": "stream",
     "text": [
      "CPU times: total: 0 ns\n",
      "Wall time: 0 ns\n"
     ]
    },
    {
     "data": {
      "text/plain": [
       "{1, 2, 3, 4, 5, 7, 9}"
      ]
     },
     "execution_count": 5,
     "metadata": {},
     "output_type": "execute_result"
    }
   ],
   "source": [
    "%%time\n",
    "num_set = {2, 1, 5, 3, 9, 4, 7}\n",
    "set(sorted(num_set, reverse=False))"
   ]
  },
  {
   "cell_type": "code",
   "execution_count": 6,
   "id": "a1768c2d-ba94-4f0e-8966-26e426f6e14c",
   "metadata": {},
   "outputs": [],
   "source": [
    "import random"
   ]
  },
  {
   "cell_type": "code",
   "execution_count": 8,
   "id": "7e9687dd-946a-45c2-a598-4b0ae7839cbd",
   "metadata": {},
   "outputs": [
    {
     "name": "stdout",
     "output_type": "stream",
     "text": [
      "{4}\n"
     ]
    }
   ],
   "source": [
    "num_set = {random.randint(1, 10)}\n",
    "list_num = [item for item in num_set]\n",
    "sorted_num = sorted(list_num)\n",
    "print(set(sorted_num))"
   ]
  },
  {
   "cell_type": "code",
   "execution_count": null,
   "id": "e9463275-58ad-44f3-b4ba-7950290d0d23",
   "metadata": {},
   "outputs": [],
   "source": []
  }
 ],
 "metadata": {
  "kernelspec": {
   "display_name": "Python 3 (ipykernel)",
   "language": "python",
   "name": "python3"
  },
  "language_info": {
   "codemirror_mode": {
    "name": "ipython",
    "version": 3
   },
   "file_extension": ".py",
   "mimetype": "text/x-python",
   "name": "python",
   "nbconvert_exporter": "python",
   "pygments_lexer": "ipython3",
   "version": "3.11.1"
  }
 },
 "nbformat": 4,
 "nbformat_minor": 5
}

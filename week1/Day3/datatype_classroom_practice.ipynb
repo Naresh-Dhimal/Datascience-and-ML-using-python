{
 "cells": [
  {
   "cell_type": "markdown",
   "metadata": {
    "id": "sAT7eIqkiumX"
   },
   "source": [
    "# Data type\n",
    "* integer\n",
    "* Float\n",
    "* Complex\n",
    "* boolean\n",
    "* string\n",
    "* list\n",
    "* tuple\n",
    "* set\n",
    "* dictionary\n",
    "Here, list , tuple, set and dictionary are the built-in datatype of python"
   ]
  },
  {
   "cell_type": "code",
   "execution_count": null,
   "metadata": {
    "id": "s6NiDMIXicx_"
   },
   "outputs": [],
   "source": [
    "# setting the integer type\n",
    "int_type = 10"
   ]
  },
  {
   "cell_type": "code",
   "execution_count": null,
   "metadata": {
    "colab": {
     "base_uri": "https://localhost:8080/"
    },
    "id": "s8PuAWZGjhsR",
    "outputId": "690502f1-4744-4653-c5aa-a501e0304f3f"
   },
   "outputs": [
    {
     "name": "stdout",
     "output_type": "stream",
     "text": [
      "Data type of 10 is <class 'int'> \n"
     ]
    }
   ],
   "source": [
    "print(f\"Data type of {int_type} is {type(int_type)} \")"
   ]
  },
  {
   "cell_type": "code",
   "execution_count": null,
   "metadata": {
    "colab": {
     "base_uri": "https://localhost:8080/"
    },
    "id": "vXs_dLJ5jv9n",
    "outputId": "bfaba337-255f-42da-bffa-556319756407"
   },
   "outputs": [
    {
     "name": "stdout",
     "output_type": "stream",
     "text": [
      "Data type of 10.1 is <class 'float'>\n"
     ]
    }
   ],
   "source": [
    "# setting the float type\n",
    "float_type = 10.1\n",
    "print(f'Data type of {float_type} is {type(float_type)}')"
   ]
  },
  {
   "cell_type": "code",
   "execution_count": null,
   "metadata": {
    "colab": {
     "base_uri": "https://localhost:8080/"
    },
    "id": "cINEQc4jj8VT",
    "outputId": "d2939c82-9f95-4150-dc7d-eb1ddd1e41c1"
   },
   "outputs": [
    {
     "name": "stdout",
     "output_type": "stream",
     "text": [
      "<class 'complex'>\n"
     ]
    }
   ],
   "source": [
    "# setting the complex type\n",
    "complex_type = 1 + 2j\n",
    "print(type(complex_type))"
   ]
  },
  {
   "cell_type": "code",
   "execution_count": null,
   "metadata": {
    "colab": {
     "base_uri": "https://localhost:8080/"
    },
    "id": "VabCp9BCkIXr",
    "outputId": "e7b6ee6b-5016-447b-a81b-5c1bf8af0530"
   },
   "outputs": [
    {
     "name": "stdout",
     "output_type": "stream",
     "text": [
      "<class 'bool'>\n"
     ]
    }
   ],
   "source": [
    "# setting the boolean type\n",
    "boolean = True\n",
    "print(type(boolean))"
   ]
  },
  {
   "cell_type": "code",
   "execution_count": null,
   "metadata": {
    "colab": {
     "base_uri": "https://localhost:8080/"
    },
    "id": "bXd1Mbs8kNt7",
    "outputId": "3b1c3100-7dbb-41e8-bf22-b016721d8dc4"
   },
   "outputs": [
    {
     "data": {
      "text/plain": [
       "str"
      ]
     },
     "execution_count": 8,
     "metadata": {},
     "output_type": "execute_result"
    }
   ],
   "source": [
    "# setting the string type\n",
    "s1 = \"hello world\"\n",
    "type(s1)"
   ]
  },
  {
   "cell_type": "markdown",
   "metadata": {
    "id": "gmTXnpxRkxx7"
   },
   "source": [
    "# Tpye Casting/ Type conversion\n",
    "* Implicit Type Casting\n",
    "* Explicit Type Casting"
   ]
  },
  {
   "cell_type": "code",
   "execution_count": null,
   "metadata": {
    "id": "EyjkQJamkR53"
   },
   "outputs": [],
   "source": []
  }
 ],
 "metadata": {
  "colab": {
   "provenance": []
  },
  "kernelspec": {
   "display_name": "Python 3 (ipykernel)",
   "language": "python",
   "name": "python3"
  },
  "language_info": {
   "codemirror_mode": {
    "name": "ipython",
    "version": 3
   },
   "file_extension": ".py",
   "mimetype": "text/x-python",
   "name": "python",
   "nbconvert_exporter": "python",
   "pygments_lexer": "ipython3",
   "version": "3.11.1"
  }
 },
 "nbformat": 4,
 "nbformat_minor": 4
}

{
  "nbformat": 4,
  "nbformat_minor": 0,
  "metadata": {
    "colab": {
      "provenance": []
    },
    "kernelspec": {
      "name": "python3",
      "display_name": "Python 3"
    },
    "language_info": {
      "name": "python"
    }
  },
  "cells": [
    {
      "cell_type": "markdown",
      "source": [
        "# Data type\n",
        "* integer\n",
        "* Float\n",
        "* Complex\n",
        "* boolean\n",
        "* string\n",
        "* list\n",
        "* tuple\n",
        "* set\n",
        "* dictionary\n",
        "Here, list , tuple, set and dictionary are the built-in datatype of python"
      ],
      "metadata": {
        "id": "sAT7eIqkiumX"
      }
    },
    {
      "cell_type": "code",
      "execution_count": null,
      "metadata": {
        "id": "s6NiDMIXicx_"
      },
      "outputs": [],
      "source": [
        "# setting the integer type\n",
        "int_type = 10"
      ]
    },
    {
      "cell_type": "code",
      "source": [
        "print(f\"Data type of {int_type} is {type(int_type)} \")"
      ],
      "metadata": {
        "colab": {
          "base_uri": "https://localhost:8080/"
        },
        "id": "s8PuAWZGjhsR",
        "outputId": "690502f1-4744-4653-c5aa-a501e0304f3f"
      },
      "execution_count": null,
      "outputs": [
        {
          "output_type": "stream",
          "name": "stdout",
          "text": [
            "Data type of 10 is <class 'int'> \n"
          ]
        }
      ]
    },
    {
      "cell_type": "code",
      "source": [
        "# setting the float type\n",
        "float_type = 10.1\n",
        "print(f'Data type of {float_type} is {type(float_type)}')"
      ],
      "metadata": {
        "colab": {
          "base_uri": "https://localhost:8080/"
        },
        "id": "vXs_dLJ5jv9n",
        "outputId": "bfaba337-255f-42da-bffa-556319756407"
      },
      "execution_count": null,
      "outputs": [
        {
          "output_type": "stream",
          "name": "stdout",
          "text": [
            "Data type of 10.1 is <class 'float'>\n"
          ]
        }
      ]
    },
    {
      "cell_type": "code",
      "source": [
        "# setting the complex type\n",
        "complex_type = 1 + 2j\n",
        "print(type(complex_type))"
      ],
      "metadata": {
        "colab": {
          "base_uri": "https://localhost:8080/"
        },
        "id": "cINEQc4jj8VT",
        "outputId": "d2939c82-9f95-4150-dc7d-eb1ddd1e41c1"
      },
      "execution_count": null,
      "outputs": [
        {
          "output_type": "stream",
          "name": "stdout",
          "text": [
            "<class 'complex'>\n"
          ]
        }
      ]
    },
    {
      "cell_type": "code",
      "source": [
        "# setting the boolean type\n",
        "boolean = True\n",
        "print(type(boolean))"
      ],
      "metadata": {
        "colab": {
          "base_uri": "https://localhost:8080/"
        },
        "id": "VabCp9BCkIXr",
        "outputId": "e7b6ee6b-5016-447b-a81b-5c1bf8af0530"
      },
      "execution_count": null,
      "outputs": [
        {
          "output_type": "stream",
          "name": "stdout",
          "text": [
            "<class 'bool'>\n"
          ]
        }
      ]
    },
    {
      "cell_type": "code",
      "source": [
        "# setting the string type\n",
        "s1 = \"hello world\"\n",
        "type(s1)"
      ],
      "metadata": {
        "colab": {
          "base_uri": "https://localhost:8080/"
        },
        "id": "bXd1Mbs8kNt7",
        "outputId": "3b1c3100-7dbb-41e8-bf22-b016721d8dc4"
      },
      "execution_count": null,
      "outputs": [
        {
          "output_type": "execute_result",
          "data": {
            "text/plain": [
              "str"
            ]
          },
          "metadata": {},
          "execution_count": 8
        }
      ]
    },
    {
      "cell_type": "markdown",
      "source": [
        "# Tpye Casting/ Type conversion\n",
        "* Implicit Type Casting\n",
        "* Explicit Type Casting"
      ],
      "metadata": {
        "id": "gmTXnpxRkxx7"
      }
    },
    {
      "cell_type": "code",
      "source": [],
      "metadata": {
        "id": "EyjkQJamkR53"
      },
      "execution_count": null,
      "outputs": []
    }
  ]
}